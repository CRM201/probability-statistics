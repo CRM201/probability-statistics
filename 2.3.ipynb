{
 "cells": [
  {
   "cell_type": "markdown",
   "metadata": {},
   "source": [
    "### §2.3  几种常用的离散分布"
   ]
  },
  {
   "cell_type": "markdown",
   "metadata": {},
   "source": [
    "#### 1. \"0-1\"分布"
   ]
  },
  {
   "cell_type": "markdown",
   "metadata": {},
   "source": [
    "下面的概率分布称为 \"0-1\"分布(或两点分布):\n",
    "\n",
    "* 随机变量 $X$ 的可能值: 0, 1.\n",
    "\n",
    "* 概率函数:\n",
    "\n",
    "$$\n",
    "p(x) = p^x q^{1-x}, \\quad x = 0,1(0 <x < 1, p+q=1)\n",
    "$$\n",
    "\n",
    "* 概率分布表:\n",
    "\n",
    "| $ X $ | $0 $ | $1 $|\n",
    "|-----|-----|-----|\n",
    "| $p(x)\\quad$ | $q\\quad$ | $p\\quad$|\n"
   ]
  },
  {
   "cell_type": "markdown",
   "metadata": {},
   "source": [
    "**例如**, 设 $X$ 表示掷一枚骰子出现 $6$ 点的次数, 则$X$ 服从 \"0-1\" 分布:\n",
    "\n",
    "| $X$ | $0$ | $1$|\n",
    "|-----|-----|-----|\n",
    "| $p(x)\\quad$ | $\\frac{5}{6}$ | $\\frac{1}{6}$|\n"
   ]
  },
  {
   "cell_type": "markdown",
   "metadata": {},
   "source": [
    "#### 2.超几何分布"
   ]
  },
  {
   "cell_type": "markdown",
   "metadata": {},
   "source": [
    "下面的概率分布称为 **超几何分布**:\n",
    "\n",
    "随机变量 $X$ 的可能取值为 $0,1,2,3,\\cdots,n$\n",
    "\n",
    "* 概率分布:\n",
    "\n",
    "$$\n",
    "p(x) = \\frac{C_M^xC_{N-M}^{n-x}}{C_N^n}, \\quad x=0,1,2,3,\\cdots,n\n",
    "$$\n",
    "\n",
    "其中 $n,M,N$ 都是正整数, 且 $n \\leq N,M \\leq N$.上式中, 当 $x > M$ 或 $n - x > N-M$ 时, 显然有 $p(x)=0$.\n"
   ]
  },
  {
   "cell_type": "markdown",
   "metadata": {},
   "source": [
    "易知\n",
    "\n",
    "$$\n",
    "\\sum_{x=0}^n p(x) = \\frac{\\sum_{x=0}^{n} C_M^xC_{N-M}^{n-x}}{C_N^n} = \\frac{C_N^n}{C_N^n} = 1\n",
    "$$"
   ]
  },
  {
   "cell_type": "markdown",
   "metadata": {},
   "source": [
    "超几何分布含有三个参数 $n, M, N$, 通常把这种分布记作 $H(n, M, N)$. 如果随机变量 $X$ 服从超几何分布 $H(n, M, N)$, 则记为 $X \\sim H(n, M, N)$.\n",
    "\n",
    "超几何分布的概率函数记作: p(x; n, M, N)"
   ]
  },
  {
   "cell_type": "markdown",
   "metadata": {},
   "source": [
    "**例** 设一批产品共 $N$ 个, 其中有 $M$ 个次品. 从这批产品中任意取出 $n$ 个产品, 则取出的 $n$ 个产品中的次品数 $X$ 服从超几何分布 $H(n, M, N)$.\n",
    "\n",
    "从一批产品中依下列方式任意取出 $n$ 个产品:\n",
    "\n",
    "(1) 一次任意取出 $n$ 个产品;\n",
    "\n",
    "(2) 每次取出一个产品, 取出的产品不再放回, 连续取 $n$ 次, 共取 $n$ 个产品.\n"
   ]
  },
  {
   "cell_type": "markdown",
   "metadata": {},
   "source": [
    "对于第(1)种方式,易知：\n",
    "\n",
    "$$\n",
    "p(x) = \\frac{ C_M^xC_{N-M}^{n-x}}{C_N^n}\n",
    "$$"
   ]
  },
  {
   "cell_type": "markdown",
   "metadata": {},
   "source": [
    "对于第(2)种方式,不难证明：\n",
    "\n",
    "$$\n",
    "\\begin{align}\n",
    "p(x) & = \\frac{C_n^x P_M^x P_{N-M}^{n-x}}{P_N^n}  = \\frac{C_n^x C_m^x \\cdot x! C_{N-M}^{n-x} \\cdot (n-x)!}{C_N^n \\cdot n!}\\\\\n",
    "&=  \\frac{C_M^xC_{N-M}}{C_N^n}\\\\\n",
    "\\end{align}\n",
    "$$\n"
   ]
  },
  {
   "cell_type": "markdown",
   "metadata": {},
   "source": [
    "由此可见：\n",
    "\n",
    "(1) (2)两种方式取出的次品数 $X$ 服从相同的超几何分布 $H(n, M, N)$."
   ]
  },
  {
   "cell_type": "markdown",
   "metadata": {},
   "source": [
    "####  3.二项分布"
   ]
  },
  {
   "cell_type": "markdown",
   "metadata": {},
   "source": [
    "下面的概率分布称为二项分布：\n",
    "\n",
    "随机变量 $X$ 可能取值为 $0, 1, 2, 3,\\cdots, n$\n",
    "\n",
    "* 概率分布:\n",
    "\n",
    "$$\n",
    "p(x) = C_n^x p^x q^{n-x} , x=0, 1, 2, \\cdots, n\\quad (0 < p < 1, p+q=1 ).\n",
    "$$\n",
    "\n",
    "显然\n",
    "\n",
    "$$\n",
    "\\sum_{x=0}^n p(x) = \\sum_{x=0}^n C_n^x p^x q^{n-x} =1\n",
    "$$"
   ]
  },
  {
   "cell_type": "markdown",
   "metadata": {},
   "source": [
    "二项分布含有两个参数 $n$ 及 $p$, 将此分布记作:\n",
    "\n",
    "$$\n",
    "B(n, p).\n",
    "$$\n",
    "\n",
    "如果随机变量 $X$ 服从二项分布 $B(n, p)$. 则记为:\n",
    "\n",
    "$$\n",
    "X \\sim B(n, p)\n",
    "$$\n",
    "\n",
    "二项分布的概率函数记为:\n",
    "\n",
    "$$\n",
    "p(x; n, p).\n",
    "$$\n",
    "\n",
    "特别地, 当参数 $n=1$ 时, 二项分布就是 \"0-1\"分布."
   ]
  },
  {
   "cell_type": "markdown",
   "metadata": {},
   "source": [
    "**例 1 ** 设一批产品共 $N$ 个,其中有 $M$ 个次品, 即次品率 $p=\\frac{M}{N}$. 对这批产品进行放回抽样, 即每次任取一个产品, 检查其质量后仍放回去, 如此连续抽取 $n$ 次, 则在被抽查的 $n$ 个产品中的次品数 $X$ 服从二项分布:\n",
    "\n",
    "$$\n",
    "X \\sim B(n, p)\n",
    "$$"
   ]
  },
  {
   "cell_type": "markdown",
   "metadata": {},
   "source": [
    "**例 2 ** 从次品率为 $20 \\%$ 的一大批产品中任取 $5$ 件产品, 求次品率的分布律, 并求次品数不大于 $3$ 的概率."
   ]
  },
  {
   "cell_type": "markdown",
   "metadata": {
    "collapsed": true
   },
   "source": [
    "**解 :** 由于这批产品数量大, 而抽取的产品数相当于产品总数来说很小, 因而可以当作放回抽样来处理.\n",
    "\n",
    "设次品数为 $X$, 则 $X$ 服从 $B(5, 0.2)$, 于是 $X$ 的概率分布为\n",
    "\n",
    "$$\n",
    "\\begin{align}\n",
    "P(X = k) & = C_5^k(0.2)^k(0.8)^{5-k},\\quad (k = 0, 1, 2, 3, 4, 5)\\\\\n",
    "P(X \\leq 3) & = \\sum_{k = 0}^3 P(X = K) = 1 - P(X > 3)\\\\\n",
    "& = 1 - P(X = 4) - P(X = 5)\\\\\n",
    "& \\approx 1 - 0.0064 - 0.0003\\\\\n",
    "& = 0.9933\n",
    "\\end{align}\n",
    "$$"
   ]
  },
  {
   "cell_type": "markdown",
   "metadata": {
    "collapsed": true
   },
   "source": [
    "**例 3 ** 一大批产品的次品率为 $0.1$, 现从中取出 $15$ 件. 试求下列事件的概率：\n",
    "\n",
    "B={取出 $15$ 件商品中恰有 $2$ 件次品}\n",
    "\n",
    "C={取出 $15$ 件商品中至少有 $2$ 件次品}"
   ]
  },
  {
   "cell_type": "markdown",
   "metadata": {
    "collapsed": true
   },
   "source": [
    "**解 : **由于从一大批产品中取 $15$ 件产品，故可近似看作是:15重Bernoulli试验.\n",
    "\n",
    "A = {取出一件产品为次品}, 则 $P(A) = 0.1$\n",
    "\n",
    "所以 \n",
    "\n",
    "$$\n",
    "\\begin{align}\n",
    "P(B) & = C_{15}^2 \\times 0.1^2 \\times 0.9^{13}\\\\\n",
    "P(C) & = 1 - P( \\overline{C})\\\\\n",
    "& = 1 - C_{15}^0 \\times 0.1^0 \\times 0.9^{15} - C_{15}^1 \\times 0.1 \\times 0.9^{14}\\\\\n",
    "& \\approx 0.4510\n",
    "\\end{align}\n",
    "$$"
   ]
  },
  {
   "cell_type": "markdown",
   "metadata": {
    "collapsed": true
   },
   "source": [
    "下面讨论二项分布的最可能取值, 即随机变量取值时概率最大, 设 $X \\sim B(n, p)$.\n",
    "\n",
    "$$\n",
    "\\begin{align}\n",
    "\\frac{P(X = k)}{P(X = k -1)} &= \\frac{C_n^k p^k q^{n-k}}{C_n^{k-1} p^{k-1} q^{n-k+1}}\n",
    "=\\frac{(n-k+1)p}{kq}\\\\\n",
    "& = 1+\\frac{(n+1)p-k}{kq}\\\\\n",
    "\\end{align}\n",
    "$$"
   ]
  },
  {
   "cell_type": "markdown",
   "metadata": {
    "collapsed": true
   },
   "source": [
    "上式表明:\n",
    "\n",
    "当 $k < (n+1)p$ 时, $P(X =k) > P(X = k-1)$;\n",
    "\n",
    "当 $k = (n+1)p$ 时, $P(X =k) = P(X = k-1)$;\n",
    "\n",
    "当 $k > (n+1)p$ 时, $P(X =k) < P(X = k-1)$."
   ]
  },
  {
   "cell_type": "markdown",
   "metadata": {
    "collapsed": true
   },
   "source": [
    "$$\n",
    "\\frac{P(X = k)}{P(X = k - 1)} = 1 + \\frac{(n + 1)p - k}{kq}\n",
    "$$"
   ]
  },
  {
   "cell_type": "markdown",
   "metadata": {
    "collapsed": true
   },
   "source": [
    "当 $(n + 1)p$ 不是整数时, 则存在正整数 $m$, 满足\n",
    "\n",
    "$$\n",
    "(n + 1)p - 1 < m \\leq (n+1)p.\n",
    "$$\n",
    "\n",
    "当 $k$ 从 $0$  变到 $m$ 时, $P(X = k)$ 单调增加, 并在 $k = m$ 处达到最大值.\n",
    "\n",
    "当 $(n + 1)p$ 等于正整数 $m$, 则有 $m$\n",
    "\n",
    "$$\n",
    "P(X = m) = P(X = m -1)\n",
    "$$\n",
    "\n",
    "即在 $k = m$ 和 $k =m-1$ 两处概率达到最大值, 使 $P(X = k)$ 取得最大值的 $k$, 称为二项分布的**最可能取值.**"
   ]
  },
  {
   "cell_type": "markdown",
   "metadata": {
    "collapsed": true
   },
   "source": [
    "由上面的讨论可知, 最可能取值的 **计算方法** 为:\n",
    "\n",
    "(1) 若 $(n +1)p$ 不是整数, 则其整数部分 $[(n+1)p]$ 即为所求;\n",
    "\n",
    "(2) 若 $(n+1)p=m$ 是整数, 则 $m$ 和 $m-1$ 即为所求. "
   ]
  },
  {
   "cell_type": "markdown",
   "metadata": {
    "collapsed": true
   },
   "source": [
    "**例 4 ** 某人进行射击, 设每次射击的命中率为 $0.02$, 独立射击 $150$ 次, 求命中的次数不小于 $2$ 的概率及最可能命中次数."
   ]
  },
  {
   "cell_type": "markdown",
   "metadata": {
    "collapsed": true
   },
   "source": [
    "**解 ： ** 将每次射击看成一次独立试验, $150$ 次射击即 $150$ 重贝努利试验.\n",
    "\n",
    "设命中的次数为 $X$, 则 $X \\sim B(150, 0.02)$. 于是所求概率为\n",
    "\n",
    "$$\n",
    "\\begin{align}\n",
    "P(X \\neq 2) & = 1 - [P(X = 0) + P(X =1)]\\\\\n",
    "& = 1 - (0.98^{150}+150 \\times 0.02 \\times 0.98^{149})\\\\\n",
    "& \\approx 0.804\n",
    "\\end{align}\n",
    "$$ \n",
    "\n",
    "因为 $(n+1)p = 3.02$, 所以最可能命中次数为 $3$."
   ]
  },
  {
   "cell_type": "markdown",
   "metadata": {
    "collapsed": true
   },
   "source": [
    "#### 4.泊松(Poisson)分布"
   ]
  },
  {
   "cell_type": "markdown",
   "metadata": {
    "collapsed": true
   },
   "source": [
    "下面的概率分布称为 **泊松分布:**\n",
    "\n",
    "随机变量 $X$ 的可能取值为 $0, 1, 2, 3, \\cdots, n, \\cdots$\n",
    "\n",
    "* 概率分布:\n",
    "\n",
    "$$\n",
    "P(X = k) = \\frac{\\lambda^k}{k!}e^{-\\lambda}, \\quad (k= 0, 1, 2, \\cdots, )\\quad (\\lambda > 0).\n",
    "$$\n",
    "\n",
    "显然\n",
    "\n",
    "$$\n",
    "\\sum_{k =1}^{\\infty} P(X = k) = \\sum_{k =1}^{\\infty} \\frac{\\lambda^k}{k!}e^{-\\lambda} = e^{-\\lambda} \\sum_{k =1}^{\\infty} \\frac{\\lambda^k}{k!} = e^{- \\lambda} \\cdot e^\\lambda = 1 \n",
    "$$\n",
    "\n",
    "泊松分布记作: $P(\\lambda)$."
   ]
  },
  {
   "cell_type": "markdown",
   "metadata": {},
   "source": [
    "当 $X$ 服从参数为 $\\lambda$ 的泊松分布时, 记作:\n",
    "\n",
    "$$\n",
    "X \\sim P(\\lambda)\n",
    "$$"
   ]
  },
  {
   "cell_type": "markdown",
   "metadata": {},
   "source": [
    "**泊松分布常见于稠密性问题**如:\n",
    "\n",
    "在一定时间间隔内:\n",
    "\n",
    "电话用户对交换机的呼唤次数; 车站候车的旅客数; 一个容器中细菌数; 市级医院急诊病人数; 某一地区发生的交通事故的次数; 放射性物质发生的粒子数; 一本书中每页印刷错误的个数; 一匹布上疵点个数; 大卖场的顾客数;等等"
   ]
  },
  {
   "cell_type": "markdown",
   "metadata": {
    "collapsed": true
   },
   "source": [
    "**例 5** 设某城市在一周内发生交通事故的次数服从参数为 $0.3$ 的泊松分布, 试求:\n",
    "\n",
    "(1) 在一周内恰好发生 $2$ 次交通事故的概率;\n",
    "\n",
    "(2) 在一周内至少发生 $1$ 次交通事故的概率."
   ]
  },
  {
   "cell_type": "markdown",
   "metadata": {
    "collapsed": true
   },
   "source": [
    "**解 :** 设在一周内发生交通事故的次数为 $X$, 则\n",
    "\n",
    "$$\n",
    "X \\sim P(0.3)\n",
    "$$\n",
    "\n",
    "(1) $P(X = 2) =\\frac{\\lambda^2 e^{-\\lambda}}{2!}=\\frac{0.3^2}{2!}e^{-0.3}=0.045 e^{-0.3} = 0.033$\n",
    "\n",
    "(2)\n",
    "\n",
    "$\n",
    "\\begin{align}\n",
    "P(X \\geq 1) & =1 - P(X =0)\\\\\n",
    "& = 1 - \\frac{\\lambda^0 e^{-\\lambda}}{0!}\\\\\n",
    "& = 1 - e^{-0.3}\\\\\n",
    "& = 0.259\n",
    "\\end{align}\n",
    "$"
   ]
  },
  {
   "cell_type": "markdown",
   "metadata": {
    "collapsed": true
   },
   "source": [
    "**例 6** 设 $X \\sim P(\\lambda)$, 且 $P(X =1) = P(X =2)$, 求 $P(X =4)$."
   ]
  },
  {
   "cell_type": "markdown",
   "metadata": {
    "collapsed": true
   },
   "source": [
    "**解: ** 因为\n",
    "\n",
    "$$\n",
    "P(X=1) =\\frac{\\lambda ^1 e^{-\\lambda}}{1!} = \\lambda e^{-\\lambda}\\\\\n",
    "P(X=2) =\\frac{\\lambda ^2 e^{-\\lambda}}{2!} = \\frac{\\lambda^2}{2} e^{-\\lambda}\n",
    "$$\n",
    "\n",
    "且 $P(X = 1) = P(X = 2)$ 解得 $\\lambda = 0(舍去), \\lambda = 2$\n",
    "\n",
    "所以\n",
    "\n",
    "$$\n",
    "P(X = 4) =\\frac{\\lambda^4 e^{-\\lambda}}{4!} = \\frac{2^4 e^{-2}}{4!} =\\frac{2}{3} e^{-2}\n",
    "$$"
   ]
  },
  {
   "cell_type": "markdown",
   "metadata": {
    "collapsed": true
   },
   "source": [
    "#### 5.几何分布"
   ]
  },
  {
   "cell_type": "markdown",
   "metadata": {
    "collapsed": true
   },
   "source": [
    "下面的概率分布称为 **几何分布:**\n",
    "\n",
    "* 随机变量 $X$ 的可能取值为: $1, 2, 3, \\cdots$\n",
    "\n",
    "* 概率分布:\n",
    "\n",
    "$$\n",
    "P(X = k) = q^{k-1}p, \\quad k=1, 2, 3, \\cdots\n",
    "$$\n",
    "\n",
    "其中 $0 < p < 1, p+q =1$\n",
    "\n",
    "称 $X$  服从参数为 $p$ 的**几何分布**, 记作 $X \\sim G(p)$"
   ]
  },
  {
   "cell_type": "markdown",
   "metadata": {
    "collapsed": true
   },
   "source": [
    "#### 5.几个重要分布的渐进关系"
   ]
  },
  {
   "cell_type": "markdown",
   "metadata": {
    "collapsed": true
   },
   "source": [
    "**定理 1** 设 $X \\sim H(n, M, N)$, 则当 $N \\to \\infty$ 时, $X$ 近似服从二项分布 $B(n, p)$, 即\n",
    "\n",
    "$$\n",
    "\\frac{C_M^k C_{N-M}^{n-k}}{C_N^n} \\approx C_n^k p^k q^{n-k},\n",
    "$$\n",
    "\n",
    "其中\n",
    "\n",
    "$$\n",
    "p =\\frac{M}{N}, q=\\frac{N-M}{N}.\n",
    "$$"
   ]
  },
  {
   "cell_type": "markdown",
   "metadata": {
    "collapsed": true
   },
   "source": [
    "#### 泊松定理"
   ]
  },
  {
   "cell_type": "markdown",
   "metadata": {},
   "source": [
    "**定理 2** 设 $X \\sim B(n, p)$, 则当 $n \\to \\infty$ 时, $X$ 近似服从泊松分布 $P(\\lambda)$, 即\n",
    "\n",
    "$$\n",
    "C_n^k p^k q^{n-k} \\approx \\frac{\\lambda^k}{k!}e^{-\\lambda},\n",
    "$$\n",
    "\n",
    "其中\n",
    "\n",
    "$$\n",
    "\\lambda = np.\n",
    "$$"
   ]
  },
  {
   "cell_type": "markdown",
   "metadata": {
    "collapsed": true
   },
   "source": [
    "泊松定理表明, 泊松分布是二项分布的极限分布, 当 $n$ 很大, $p$ 很小时, 二项分布就可近似地看成是参数 $\\lambda = np$ 的泊松分布."
   ]
  },
  {
   "cell_type": "markdown",
   "metadata": {
    "collapsed": true
   },
   "source": [
    "![](./figures/21.png)"
   ]
  },
  {
   "cell_type": "markdown",
   "metadata": {
    "collapsed": true
   },
   "source": [
    "### 小结"
   ]
  },
  {
   "cell_type": "markdown",
   "metadata": {
    "collapsed": false
   },
   "source": [
    "1.三个最重要的离散型概率分布:\n",
    "\n",
    "超几何分布, 二项分布, 泊松分布的背景, 概率函数.\n",
    "\n",
    "2.三个重要离散型分布之间的渐进关系."
   ]
  },
  {
   "cell_type": "markdown",
   "metadata": {
    "collapsed": true
   },
   "source": [
    "### 思考题"
   ]
  },
  {
   "cell_type": "markdown",
   "metadata": {},
   "source": [
    "某保险公司的一个寿险项目接受了 $2500$ 人的投保. 每个投保人在当年的第一天交保险费 $120$ 元, 如果当年内意外死亡则获得 $20000$ 元赔偿. 假定一年里每个投保人死亡的概率为 $0.002$, 求保险公司亏本的概率(不考虑保险公司所收保费的投资收益)."
   ]
  },
  {
   "cell_type": "markdown",
   "metadata": {},
   "source": [
    "**解 : ** 显然, 保险公司亏本就是一年内死亡至少 $16$ 人, 将\"投保人投保当年死亡\"视为随机事件, 于是, 问题的数学模型为伯努利概型.\n"
   ]
  },
  {
   "cell_type": "markdown",
   "metadata": {},
   "source": [
    "设 $X$ 表示 $2500$ 名投保人中一年内死亡人数, 则\n",
    "\n",
    "$$\n",
    "X \\sim B(2500, 0,002).\n",
    "$$"
   ]
  },
  {
   "cell_type": "markdown",
   "metadata": {},
   "source": [
    "而\"保险公司亏本\" 就是 \"$X \\geq 16$\". 于是, 所求概率为\n",
    "\n",
    "$$\n",
    "\\begin{align}\n",
    "P(保险公司亏本) & =P(X \\geq 16)\\\\\n",
    "&=\\sum_{i=16}^{2500} C_{2500}^i (0.002)^i(1-0.002)^{2500 - i}\\\\\n",
    "& = 1- \\sum_{i=0}^{15} C_{2500}^i (0.002)^i(1-0.002)^{2500 - i}\\\\\n",
    "& \\approx 1 - \\sum_{i = 0}^{15} \\frac{5^i}{i!} e^{-5}\\\\\n",
    "& \\approx 0.000069\n",
    "\\end{align}\n",
    "$$"
   ]
  }
 ],
 "metadata": {
  "kernelspec": {
   "display_name": "SageMath 7.5.1",
   "language": "",
   "name": "sagemath"
  },
  "language_info": {
   "codemirror_mode": {
    "name": "ipython",
    "version": 2
   },
   "file_extension": ".py",
   "mimetype": "text/x-python",
   "name": "python",
   "nbconvert_exporter": "python",
   "pygments_lexer": "ipython2",
   "version": "2.7.13"
  }
 },
 "nbformat": 4,
 "nbformat_minor": 0
}
