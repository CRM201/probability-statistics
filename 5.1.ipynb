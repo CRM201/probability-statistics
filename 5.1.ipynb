{
 "cells": [
  {
   "cell_type": "markdown",
   "metadata": {
    "slideshow": {
     "slide_type": "slide"
    }
   },
   "source": [
    "## 第5章  大数定律和中心极限定理"
   ]
  },
  {
   "cell_type": "markdown",
   "metadata": {
    "slideshow": {
     "slide_type": "slide"
    }
   },
   "source": [
    "## §5.1    大数定律"
   ]
  },
  {
   "cell_type": "markdown",
   "metadata": {
    "slideshow": {
     "slide_type": "fragment"
    }
   },
   "source": [
    "概率论与数理统计是研究**随机现象统计规律性的学科**. 随机现象的规律性**只有在相同的条件下进行大量重复试验时** 才会呈现出来. 也就是说, 要从随机现象中去寻求必然的法则, 应该研究**大量随机现象**."
   ]
  },
  {
   "cell_type": "markdown",
   "metadata": {
    "slideshow": {
     "slide_type": "fragment"
    }
   },
   "source": [
    "![](./figures/51.png) \n"
   ]
  },
  {
   "cell_type": "markdown",
   "metadata": {
    "slideshow": {
     "slide_type": "subslide"
    }
   },
   "source": [
    "研究大量的随机现象, 常常采用极限形式, 由此导致对极限定理进行研究. 极限定理的内容很广泛, 其中最重要的有两种:\n",
    "\n",
    "**大数定律** 与 **中心极限定理**"
   ]
  },
  {
   "cell_type": "markdown",
   "metadata": {
    "slideshow": {
     "slide_type": "slide"
    }
   },
   "source": [
    "### 本章要解决的问题"
   ]
  },
  {
   "cell_type": "markdown",
   "metadata": {
    "slideshow": {
     "slide_type": "fragment"
    }
   },
   "source": [
    "**大数定律**\n",
    "\n",
    "1.为何能以某事件发生的频率作为该事件的概率的估计?\n",
    "\n",
    "2.为何能以样本均值作为总体期望的估计?"
   ]
  },
  {
   "cell_type": "markdown",
   "metadata": {
    "slideshow": {
     "slide_type": "fragment"
    }
   },
   "source": [
    "**中心极限定理**\n",
    "\n",
    "1.为何正态分布在概率论中占有极其重要的地位?\n",
    "\n",
    "2.大样本统计推断的理论基础是什么?"
   ]
  },
  {
   "cell_type": "markdown",
   "metadata": {
    "slideshow": {
     "slide_type": "slide"
    }
   },
   "source": [
    "**一、基本概念**"
   ]
  },
  {
   "cell_type": "markdown",
   "metadata": {
    "slideshow": {
     "slide_type": "fragment"
    }
   },
   "source": [
    "**定义1** 随机变量序列: 设 $X_1$, $X_2$, $\\cdots$, $X_n$ 作为一列随机变量, 则称$X_1$, $X_2$, $\\cdots$, $X_n$ 为**随机变量序列**, 记作 $\\{X_n\\}$."
   ]
  },
  {
   "cell_type": "markdown",
   "metadata": {
    "slideshow": {
     "slide_type": "fragment"
    }
   },
   "source": [
    "**定义2** 随机变量序列的相互独立:若随机变量序列 $\\{X_n\\}$ 中任取 $n$ 个随机变量, 它们都是相互独立的, 则称此随机变量序列$\\{X_n\\}$是**相互独立的**."
   ]
  },
  {
   "cell_type": "markdown",
   "metadata": {
    "slideshow": {
     "slide_type": "subslide"
    }
   },
   "source": [
    "**定义3** 随机变量序列依概率收敛于常数 $\\mu$: 设 $\\{X_n\\}$ 为随机变量序列, 若对任意 $\\varepsilon>0$,恒有\n",
    "\n",
    "$$\n",
    "\\lim_{n\\to \\infty}P\\{|X_n-\\mu|<\\varepsilon\\}=1\n",
    "$$\n",
    "\n",
    "则称此**随机变量序列 $\\{X_n\\}$ 依概率收敛于常数 $\\mu$.**"
   ]
  },
  {
   "cell_type": "markdown",
   "metadata": {
    "slideshow": {
     "slide_type": "subslide"
    }
   },
   "source": [
    "如 $X_n \\xrightarrow{P}  a$ 意思是: 当 $n\\to\\infty$ 时, $X_n$ 落在 $(a-\\varepsilon, a+\\varepsilon)$ 内的概率越来越大. $\\forall n_0, n>n_0$ \n",
    "\n",
    "![](./figures/52.png) \n",
    "\n",
    "而 $X_n\\to a$ 意思是:  $\\forall \\varepsilon>0, \\exists n_0$, 当 $n>n_0$\n",
    "\n",
    "$$\n",
    "|X_n-a|<\\varepsilon.\n",
    "$$"
   ]
  },
  {
   "cell_type": "markdown",
   "metadata": {
    "slideshow": {
     "slide_type": "slide"
    }
   },
   "source": [
    "**二、切比雪夫不等式**"
   ]
  },
  {
   "cell_type": "markdown",
   "metadata": {
    "slideshow": {
     "slide_type": "fragment"
    }
   },
   "source": [
    "**定理1**  设随机变量 $X$ 有期望 $\\mu$ 和方差 $\\sigma^2$, 则对于任给 $\\varepsilon>0$, 有\n",
    "\n",
    "$$\n",
    "P(|X - \\mu| \\geq \\epsilon) \\leq \\frac{\\sigma^2}{\\epsilon^2}\n",
    "$$"
   ]
  },
  {
   "cell_type": "markdown",
   "metadata": {
    "slideshow": {
     "slide_type": "fragment"
    }
   },
   "source": [
    "$$\n",
    "P(|X - \\mu| > \\epsilon) > 1 - \\frac{\\sigma^2}{\\epsilon^2}\n",
    "$$"
   ]
  },
  {
   "cell_type": "markdown",
   "metadata": {
    "slideshow": {
     "slide_type": "fragment"
    }
   },
   "source": [
    "由切比雪夫不等式可以看出：若 $\\sigma^2$ 越小, 则事件 $\\{|X-\\mu|<\\varepsilon\\}$的概率越大, **即**随机变量X集中在期望附近的可能性越大.\n",
    "\n",
    "**由此可以体会方差的概率意义： 它刻划了随机变量取值偏离期望的离散程度.**"
   ]
  },
  {
   "cell_type": "markdown",
   "metadata": {
    "slideshow": {
     "slide_type": "subslide"
    }
   },
   "source": [
    "**证：** 下面先证连续型随机变量 $X$ 时的正确性. 设随机变量 $X$ 的概率密度为 $f(x)$。 不等式\n",
    "\n",
    "$$\n",
    "|X-\\mu|\\geq \\varepsilon\n",
    "$$\n",
    "\n",
    "表示随机变量 $X$ 落在区间\n",
    "\n",
    "$$\n",
    "(\\mu-\\varepsilon, \\mu+\\varepsilon)\n",
    "$$\n",
    "\n",
    "之外, 则它的取值 $x$ 满足：\n",
    "\n",
    "$$\n",
    "\\frac{|x-\\mu|^2}{\\varepsilon^2}\\geq 1\n",
    "$$"
   ]
  },
  {
   "cell_type": "markdown",
   "metadata": {
    "slideshow": {
     "slide_type": "subslide"
    }
   },
   "source": [
    "故有\n",
    "$$\n",
    "\\begin{aligned}\n",
    "P(|X-\\mu|\\geq \\varepsilon)\n",
    "&=\\int_{|x-\\mu|\\geq \\varepsilon}f(x){\\mathrm d x}\\\\\n",
    "&\\leq \\int_{|x-\\mu|\\geq \\varepsilon}\\frac{[x-\\mu]^2}{\\varepsilon^2}f(x){\\mathrm d x}\\\\\n",
    "&=\\frac{1}{\\varepsilon^2}\\int_{|x-\\mu|\\geq \\varepsilon}[x-\\mu]^2f(x){\\mathrm d x}\\\\\n",
    "&\\leq \\frac{1}{\\varepsilon^2}\\int_{-\\infty}^{+\\infty}[x-\\mu]^2 f(x){\\mathrm d x}\\\\\n",
    "&=\\frac{\\sigma^2}{\\varepsilon^2}.\\\\\n",
    "\\end{aligned}\n",
    "$$"
   ]
  },
  {
   "cell_type": "markdown",
   "metadata": {
    "slideshow": {
     "slide_type": "subslide"
    }
   },
   "source": [
    "设离散随机变量 $X$ 的概率分布为\n",
    "\n",
    "$$\n",
    "P(X=x_k)=p_k\n",
    "$$"
   ]
  },
  {
   "cell_type": "markdown",
   "metadata": {
    "slideshow": {
     "slide_type": "subslide"
    }
   },
   "source": [
    "则\n",
    "\n",
    "$$\n",
    "\\begin{aligned}\n",
    "P\\{|X-\\mu|\\geq \\varepsilon\\}\n",
    "&=\\sum_{|x_k-\\mu|\\geq \\varepsilon}P\\{X=x_k\\}\\\\\n",
    "&\\leq \\sum_{|x_k-\\mu|\\geq \\varepsilon}\\frac{[x_k-\\mu]^2}{ \\varepsilon^2}P\\{X=x_k\\}\\\\\n",
    "&\\leq \\frac{1}{ \\varepsilon^2}\\sum_k[x_k-\\mu]^2p_k\\\\\n",
    "&=\\frac{\\sigma^2}{ \\varepsilon^2}.\\\\\n",
    "\\end{aligned}\n",
    "$$"
   ]
  },
  {
   "cell_type": "markdown",
   "metadata": {
    "slideshow": {
     "slide_type": "subslide"
    }
   },
   "source": [
    "又因为 \n",
    "\n",
    "$$\n",
    "|X-E(x)|\\geq \\varepsilon\n",
    "$$\n",
    "\n",
    "与\n",
    "\n",
    "$$\n",
    "|X-E(x)|< \\varepsilon\n",
    "$$\n",
    "\n",
    "是对立事件."
   ]
  },
  {
   "cell_type": "markdown",
   "metadata": {
    "slideshow": {
     "slide_type": "subslide"
    }
   },
   "source": [
    "所以有\n",
    "\n",
    "$$\n",
    "P[|X-\\mu|<\\varepsilon]=1-P[|X-\\mu|\\geq \\varepsilon]\\geq 1-\\frac{\\sigma^2}{\\varepsilon^2}.\n",
    "$$\n",
    "\n",
    "因此, 切比雪夫不等式成立.\n",
    "\n",
    "$$\n",
    "P\\{|X-\\mu|\\geq \\varepsilon\\}\\leq \\frac{\\sigma^2}{\\varepsilon^2}.\n",
    "$$"
   ]
  },
  {
   "cell_type": "markdown",
   "metadata": {
    "slideshow": {
     "slide_type": "subslide"
    }
   },
   "source": [
    "当方差已知时，切比雪夫不等式给出了随机变量 $X$ 与它的期望的偏差不小于 $\\varepsilon$ 的概率的估计式.\n",
    "\n",
    "如取 $\\varepsilon=3\\sigma$\n",
    " \n",
    "$$\n",
    "P\\{|X-\\mu|\\geq3\\sigma\\}\\leq \\frac{\\sigma^2}{9\\sigma^2}\\approx 0.111\n",
    "$$\n",
    "\n",
    "可见, 对任给的分布, 只要期望和方差 $\\sigma^2$ 存在,则随机变量 $X$ 取值偏离 $\\mu$ 超过 $3\\sigma$ 的概率小于 0.111."
   ]
  },
  {
   "cell_type": "markdown",
   "metadata": {
    "slideshow": {
     "slide_type": "slide"
    }
   },
   "source": [
    "**例 1** 已知某种股票每股价格 $X$ 的平均值为 1 元, 标准差为 0.1 元, 求 $a$, 使股价超过 $1+a$ 元或低于 $1-a$ 元的概率小于10%。"
   ]
  },
  {
   "cell_type": "markdown",
   "metadata": {
    "slideshow": {
     "slide_type": "fragment"
    }
   },
   "source": [
    "**解：**  由切比雪夫不等式\n",
    "\n",
    "$$\n",
    "P\\{|X-1|\\geq a\\}\\leq \\frac{0.01}{a^2}\n",
    "$$\n",
    "\n",
    "令\n",
    "\n",
    "$$\n",
    "\\frac{0.01}{a^2}\\leq 0.1 \\Rightarrow a^2\\geq 0.1 \\Rightarrow a\\geq 0.32\n",
    "$$"
   ]
  },
  {
   "cell_type": "markdown",
   "metadata": {
    "slideshow": {
     "slide_type": "slide"
    }
   },
   "source": [
    "**例 2**  已知正常男性成人血液中, 每一毫升白细胞数平均是 7300, 均方差是 700 . 利用切比雪夫不等式估计每毫升白细胞数在 5200 $\\sim$ 9400 之间的概率."
   ]
  },
  {
   "cell_type": "markdown",
   "metadata": {
    "slideshow": {
     "slide_type": "fragment"
    }
   },
   "source": [
    "**解：** 设每毫升白细胞数为 $X$\n",
    "\n",
    "依题意, $E(X)=7300$, $D(X)=700^2$\n",
    "\n",
    "所求为  \n",
    "$$\n",
    "\\begin{aligned}\n",
    "&P(5200 \\leq X \\leq 9400)\\\\\n",
    "=&P(5200-7300 \\leq X-7300 \\leq 9400-7300)\\\\\n",
    "=&P(-2100 \\leq X-E(X) \\leq 2100)\\\\\n",
    "=&P\\{ |X-E(X)| \\leq 2100\\}\\\\\n",
    "\\end{aligned}\n",
    "$$"
   ]
  },
  {
   "cell_type": "markdown",
   "metadata": {
    "slideshow": {
     "slide_type": "subslide"
    }
   },
   "source": [
    "由切比雪夫不等式\n",
    "\n",
    "$$\n",
    "\\begin{aligned}\n",
    "P\\{|X-E(X)|\\leq 2100\\}\n",
    "&\\geq 1-\\frac{D(X)}{2100^2}\\\\\n",
    "&=1-(\\frac{700}{2100})^2\\\\\n",
    "&=1-\\frac{1}{9}\\\\\n",
    "&=\\frac{8}{9}\\\\\n",
    "\\end{aligned}\n",
    "$$\n",
    "\n",
    "即估计每毫升白细胞数在 5200 $\\sim$ 9400 之间的概率不小于 $\\frac{8}{9}$ ."
   ]
  },
  {
   "cell_type": "markdown",
   "metadata": {
    "slideshow": {
     "slide_type": "slide"
    }
   },
   "source": [
    "**例 3**   在每次试验中, 事件 $A$ 发生的概率为 0.75, 利用切比雪夫不等式求： $n$ 需要多么大时, 才能使得在 $n$ 次独立重复试验中, 事件 $A$ 出现的频率在0.74 $\\sim$ 0.76 之间的概率至少为 0.90?"
   ]
  },
  {
   "cell_type": "markdown",
   "metadata": {
    "slideshow": {
     "slide_type": "subslide"
    }
   },
   "source": [
    "**解：** 设 $X$ 为 $n$ 次试验中, 事件 $A$ 出现的次数，则\n",
    "\n",
    "$$\n",
    "X\\sim B(n, 0.75)\n",
    "$$\n",
    "\n",
    "$$\n",
    "E(X)=0.75n,D(X)=0.75×0.25n=0.1875n\n",
    "$$\n",
    "\n",
    "所求为满足\n",
    "\n",
    "$$\n",
    "P(0.74<\\frac{X}{n}<0.76)\\geq 0.90\n",
    "$$\n",
    "\n",
    "的最小的 $n$."
   ]
  },
  {
   "cell_type": "markdown",
   "metadata": {
    "slideshow": {
     "slide_type": "subslide"
    }
   },
   "source": [
    "则\n",
    "$$\n",
    "P(0.74<\\frac{X}{n}<0.76)\n",
    "$$\n",
    "\n",
    "可改写为\n",
    "\n",
    "$$\n",
    "\\begin{aligned}\n",
    "P(0.74n<X<0.76n)\n",
    "&=P(-0.01n<X-0.75n<0.01n)\\\\\n",
    "&=P\\{|X-E(X)|<0.01n\\}\\\\\n",
    "\\end{aligned}\n",
    "$$"
   ]
  },
  {
   "cell_type": "markdown",
   "metadata": {
    "slideshow": {
     "slide_type": "subslide"
    }
   },
   "source": [
    "在切比雪夫不等式中取 $\\varepsilon=0.01n$, 则\n",
    "\n",
    "$$\n",
    "\\begin{aligned}\n",
    "P(0.74<\\frac{X}{n}<0.76)\n",
    "&=P\\{|X-E(X)|<0.01n\\}\\\\\n",
    "&\\geq 1-\\frac{D(X)}{(0.01n)^2}\\\\\n",
    "&=1-\\frac{0.1875n}{0.0001n^2}\\\\\n",
    "&=1-\\frac{1875}{n}\\\\\n",
    "\\end{aligned}\n",
    "$$"
   ]
  },
  {
   "cell_type": "markdown",
   "metadata": {
    "slideshow": {
     "slide_type": "subslide"
    }
   },
   "source": [
    "依题意, 取\n",
    "\n",
    "$$\n",
    "1-\\frac{1875}{n}\\geq 0.9\n",
    "$$\n",
    "\n",
    "解得\n",
    "\n",
    "$$\n",
    "n\\geq \\frac{1875}{1-0.9}=18750\n",
    "$$\n",
    "\n",
    "即 $n$ 取 18750 时, 可以使得在 $n$ 次独立重复试验中, 事件 $A$ 出现的频率在 0.74 $\\sim$ 0.76 之间的概率至少为 0.90."
   ]
  },
  {
   "cell_type": "markdown",
   "metadata": {
    "slideshow": {
     "slide_type": "slide"
    }
   },
   "source": [
    "### 三、大数定律的客观背景"
   ]
  },
  {
   "cell_type": "markdown",
   "metadata": {
    "slideshow": {
     "slide_type": "subslide"
    }
   },
   "source": [
    "大量的随机现象中平均结果的稳定性\n",
    "\n",
    "![](./figures/53.png) "
   ]
  },
  {
   "cell_type": "markdown",
   "metadata": {
    "slideshow": {
     "slide_type": "slide"
    }
   },
   "source": [
    "**几个常见的大数定律**\n",
    "\n",
    "**定理1**（切比雪夫大数定律）\n",
    "\n",
    "设 $X_1$, $X_2$,$\\cdots$ 是相互独立的随机变量序列, 它们都有有限的方差, 并且方差有共同的上界, 即\n",
    "\n",
    "$$\n",
    "D(X_i)\\leq K，i=1,2,\\cdots,\n",
    "$$\n",
    "\n",
    "则对任意的 $\\varepsilon>0$\n",
    "\n",
    "$$\n",
    "\\lim_{n\\to \\infty}P\\{|\\frac{1}{n}\\sum_{i=1}^n X_i-\\frac{1}{n}\\sum_{i=1}^nE(X_i)|<\\varepsilon\\}=1\n",
    "$$"
   ]
  },
  {
   "cell_type": "markdown",
   "metadata": {
    "slideshow": {
     "slide_type": "subslide"
    }
   },
   "source": [
    "证明切比雪夫大数定律主要的数学工具是**切比雪夫不等式**.\n",
    "\n",
    "设随机变量 $X$ 有期望 $E(X)$ 和方差 $D(X)$, 则对于任给 $\\varepsilon>0$,\n",
    "\n",
    "$$\n",
    "P\\{|X-E(X)|<\\varepsilon\\}\\geq 1-\\frac{D(X)}{\\varepsilon^2}\n",
    "$$"
   ]
  },
  {
   "cell_type": "markdown",
   "metadata": {
    "slideshow": {
     "slide_type": "subslide"
    }
   },
   "source": [
    "**证:** 令 $Y_n=\\frac{1}{n}\\sum_{i=1}^n X_i$ 由切比雪夫不等式\n",
    "\n",
    "$$\n",
    "1\\geq P\\{|Y_n-E(Y_n)|<\\varepsilon\\}\\geq 1-\\frac{D(Y_n)}{\\varepsilon^2}\n",
    "$$\n",
    "\n",
    "这里\n",
    "\n",
    "$$\n",
    "E(Y_n)=\\frac{1}{n}\\sum_{i=1}^n E(X_i),D(Y_n)=\\frac{1}{n^2}\\sum_{i=1}^nD(X_i)\\leq \\frac{K}{n}\n",
    "$$"
   ]
  },
  {
   "cell_type": "markdown",
   "metadata": {
    "slideshow": {
     "slide_type": "subslide"
    }
   },
   "source": [
    "故\n",
    "\n",
    "$$\n",
    "1\\geq P\\{|Y_n-E(Y_n)|<\\varepsilon\\}\\geq 1-\\frac{K}{n\\varepsilon^2}\n",
    "$$\n",
    "\n",
    "$$\n",
    "\\lim_{n\\to \\infty}P\\{|\\frac{1}{n}\\sum_{i=1}^n X_i-\\frac{1}{n}\\sum_{i=1}^n E(X_i)|<\\varepsilon\\}=1\n",
    "$$"
   ]
  },
  {
   "cell_type": "markdown",
   "metadata": {
    "slideshow": {
     "slide_type": "slide"
    }
   },
   "source": [
    "**切比雪夫大数定律表明:**\n",
    "\n",
    "独立随机变量序列 $\\{Xn\\}$, 如果方差有共同的上界,则\n",
    "\n",
    "$$\n",
    "\\frac{1}{n}\\sum_{i=1}^n X_i\n",
    "$$\n",
    "\n",
    "与其数学期望\n",
    "\n",
    "$$\n",
    "\\frac{1}{n}\\sum_{i=1}^n E(X_i)\n",
    "$$\n",
    "\n",
    "偏差很小的概率接近于1. "
   ]
  },
  {
   "cell_type": "markdown",
   "metadata": {
    "slideshow": {
     "slide_type": "slide"
    }
   },
   "source": [
    "**切比雪夫大数定律表明:**\n",
    "\n",
    "即当 $n$ 充分大时, \n",
    "\n",
    "$$\n",
    "\\frac{1}{n}\\sum_{i=1}^n X_i\n",
    "$$\n",
    "\n",
    "差不多不再是随机的了，取值接近于其数学期望的概率接近于1."
   ]
  },
  {
   "cell_type": "markdown",
   "metadata": {
    "slideshow": {
     "slide_type": "slide"
    }
   },
   "source": [
    "切比雪夫大数定律给出了平均值稳定性的科学描述, 作为切比雪夫大数定律的特殊情况，有下面的定理."
   ]
  },
  {
   "cell_type": "markdown",
   "metadata": {
    "slideshow": {
     "slide_type": "subslide"
    }
   },
   "source": [
    "**定理2**（独立同分布下的大数定律）\n",
    "\n",
    "设　$X_1$, $X_2$, $\\cdots$ 是独立同分布的随机变量序列, 且\n",
    "\n",
    "$$\n",
    "E(X_i)=\\mu, D(X_i)=\\sigma^2, i=1,2,\\cdots\n",
    "$$\n",
    "\n",
    "则对任给 $\\varepsilon>0$,\n",
    "\n",
    "$$\n",
    "\\lim_{n\\to \\infty}P\\{|\\frac{1}{n}\\sum_{i=1}^n X_i-\\mu|<\\varepsilon\\}=1\n",
    "$$"
   ]
  },
  {
   "cell_type": "markdown",
   "metadata": {
    "slideshow": {
     "slide_type": "subslide"
    }
   },
   "source": [
    "下面给出的贝努利大数定律是**定理2**的一种特例\n",
    "\n",
    "设 $S_n$ 是 $n$ 重贝努利试验中事件 $A$ 发生的次数, $p$ 是事件 $A$ 发生的概率, 引入\n",
    "\n",
    "$$\n",
    "X_i=\\begin{cases}\n",
    "1, 如果第 i 次试验 A 发生\\\\\n",
    "\\\\\n",
    "0, 否则\\\\\n",
    "\\end{cases}\n",
    "\\qquad i=1,2,\\cdots,n\n",
    "$$"
   ]
  },
  {
   "cell_type": "markdown",
   "metadata": {
    "slideshow": {
     "slide_type": "subslide"
    }
   },
   "source": [
    "则\n",
    "$$\n",
    "S_n=\\sum_{i=1}^nX_i\n",
    "$$\n",
    "\n",
    "$$\n",
    "\\frac{S_n}{n}=\\frac{1}{n}\\sum_{i=1}^nX_i\n",
    "$$\n",
    "\n",
    "是事件 $A$ 发生的频率"
   ]
  },
  {
   "cell_type": "markdown",
   "metadata": {
    "slideshow": {
     "slide_type": "slide"
    }
   },
   "source": [
    "于是有下面定理："
   ]
  },
  {
   "cell_type": "markdown",
   "metadata": {
    "slideshow": {
     "slide_type": "fragment"
    }
   },
   "source": [
    "**定理3（贝努利大数定律）**\n",
    "\n",
    "设 $S_n$ 是 $n$ 重贝努利试验中事件 $A$ 发生的次数, $p$ 是事件 $A$ 发生的概率, 则对任给的 $\\varepsilon> 0$,\n",
    "\n",
    "$$\n",
    "\\lim_{n \\to \\infty}P\\{|\\frac{S_n}{n}-p|<\\varepsilon\\}=1\n",
    "$$\n",
    "\n",
    "或\n",
    "\n",
    "$$\n",
    "\\lim_{n \\to \\infty}P\\{|\\frac{S_n}{n}-p|\\geq\\varepsilon\\}=0\n",
    "$$\n"
   ]
  },
  {
   "cell_type": "markdown",
   "metadata": {
    "slideshow": {
     "slide_type": "subslide"
    }
   },
   "source": [
    "任给 $\\varepsilon>0$ \n",
    "\n",
    "$$\n",
    "\\lim_{n \\to \\infty}P\\{|\\frac{S_n}{n}-p|\\geq\\varepsilon\\}=0\n",
    "$$\n",
    "\n",
    "伯努利大数定律表明, 当重复试验次数 $n$ 充分大时, **事件 $A$ 发生的频率 $\\frac{S_n}{n}$** 与**事件 $A$ 的概率 $p$ **有较大偏差的概率很小.\n",
    "\n",
    "此定律提供了通过试验来确定事件概率的方法."
   ]
  },
  {
   "cell_type": "markdown",
   "metadata": {
    "slideshow": {
     "slide_type": "subslide"
    }
   },
   "source": [
    "事件 $A$ 发生的概率很小, 则由伯努利大数定律可知事件 $A$ 发生的频率也很小.\n",
    "概率很小的事件在个别试验中可以看做是不可能发生的,这一原理称为**小概率原理**.\n",
    "同理, 如果事件的概率接近于 1, 则可认为该事件在个别试验中一定发生."
   ]
  },
  {
   "cell_type": "markdown",
   "metadata": {
    "slideshow": {
     "slide_type": "slide"
    }
   },
   "source": [
    "### 三、小概率事件的实际不可能性原理"
   ]
  },
  {
   "cell_type": "markdown",
   "metadata": {
    "slideshow": {
     "slide_type": "fragment"
    }
   },
   "source": [
    "概率很小的随机事件在个别试验中是不可能发生的.\n",
    "\n",
    "**说明：**\n",
    "\n",
    "(1) 随机事件的概率究竟要多么小, 才能看作实际上不可能发生呢? 这要根据随机事件的本质来确定.\n",
    "\n",
    "(2) 此原理仅仅适用于个别的或次数极少的试验. \n",
    "\n",
    "(3) 由此原理可得重要结论： 如果随机事件的概率很接近于1, 则可以认为在个别试验中这一事件一定发生."
   ]
  },
  {
   "cell_type": "markdown",
   "metadata": {
    "slideshow": {
     "slide_type": "slide"
    }
   },
   "source": [
    "**例 1**  从某工厂生产的产品中任取 200 件来检查, 结果发现其中有 6 件次品， 是否相信该工厂的产品的次品率 $p\\leq 1$%?"
   ]
  },
  {
   "cell_type": "markdown",
   "metadata": {
    "slideshow": {
     "slide_type": "fragment"
    }
   },
   "source": [
    "**解：** 假设该工厂的次品率 $P\\leq 1$% 则检查 200 件产品, 发现其中次品数 $X\\geq 6$ 的概率为\n",
    "\n",
    "$$\n",
    "\\begin{aligned}\n",
    "P(X\\geq 6)\n",
    "&\\leq \\sum_{x=6}^{200}C_{200}^x(0.01)^x(0.99)^{200-x}\\\\\n",
    "&=1-\\sum_{x=0}^{6}C_{200}^x(0.01)^x(0.99)^{200-x}\\\\\n",
    "\\end{aligned}\n",
    "$$"
   ]
  },
  {
   "cell_type": "markdown",
   "metadata": {
    "slideshow": {
     "slide_type": "subslide"
    }
   },
   "source": [
    "因为　$n=200$ 很大, 且　$p=0.01$ 较小, \n",
    "\n",
    "$$\n",
    "np=200×0.01＝2\n",
    "$$\n",
    "\n",
    "所以\n",
    "\n",
    "$$\n",
    "P(x\\geq 6)\\leq 1-\\sum_{x=0}^6 \\frac{2^x}{x!}e^{-2}\\approx 0.0166\n",
    "$$"
   ]
  },
  {
   "cell_type": "markdown",
   "metadata": {
    "slideshow": {
     "slide_type": "subslide"
    }
   },
   "source": [
    "**在工业生产中**\n",
    "\n",
    "一般把概率小于 0.05 的事件认为是小概率事件.\n",
    "\n",
    "由此可知  $X\\geq 6$ 是小概率事件,现在小概率事件在一次试验中发生了.根据小概率事件的实际不可能性原理，不能相信该工厂产品的次品率 $p\\leq 1$%"
   ]
  },
  {
   "cell_type": "markdown",
   "metadata": {
    "slideshow": {
     "slide_type": "subslide"
    }
   },
   "source": [
    "这一节我们介绍了大数定律,大数定律以严格的数学形式表达了随机现象最根本的性质之一：**平均结果的稳定性**;它是随机现象统计规律的具体表现.大数定律在理论和实际中都有广泛的应用."
   ]
  },
  {
   "cell_type": "markdown",
   "metadata": {
    "slideshow": {
     "slide_type": "slide"
    }
   },
   "source": [
    "### 小 结"
   ]
  },
  {
   "cell_type": "markdown",
   "metadata": {
    "slideshow": {
     "slide_type": "subslide"
    }
   },
   "source": [
    "1.切比雪夫不等式：\n",
    "\n",
    "$$\n",
    "P\\{|X-E(X)|\\geq\\varepsilon\\}\\leq \\frac{D(X)}{\\varepsilon^2}.\n",
    "$$\n",
    "\n",
    "2.大数定律及其含义. \n",
    "\n",
    "3.小概率事件的实际不可能性原理."
   ]
  },
  {
   "cell_type": "markdown",
   "metadata": {
    "slideshow": {
     "slide_type": "slide"
    }
   },
   "source": [
    "**思考题**\n",
    "\n",
    "随机变量　$X$ 的数学期望 $E(X)=\\mu$, 方差　$D(X)=\\sigma^2$, 则由切比雪富不等式, 有　$P(|X-\\mu|\\geq 3\\sigma)\\leq$ $\\underline{\\qquad\\qquad}$."
   ]
  },
  {
   "cell_type": "markdown",
   "metadata": {
    "slideshow": {
     "slide_type": "fragment"
    }
   },
   "source": [
    "**解:** \n",
    "\n",
    "$$\n",
    "\\begin{aligned}\n",
    "P(|X_\\mu|\\geq 3\\sigma)\n",
    "&=P(|X-E(X)|\\geq 3\\sigma)\\\\\n",
    "&\\leq \\frac{D(X)}{(3\\sigma)^2}\\\\\n",
    "&=\\frac{\\sigma^2}{9\\sigma^2} =\\frac{1}{9}\\\\\n",
    "\\end{aligned}\n",
    "$$"
   ]
  },
  {
   "cell_type": "markdown",
   "metadata": {
    "slideshow": {
     "slide_type": "slide"
    }
   },
   "source": [
    "**作业：**\n",
    "\n",
    "Page 111： 1, 2, 3."
   ]
  }
 ],
 "metadata": {
  "celltoolbar": "Slideshow",
  "kernelspec": {
   "display_name": "Python 3",
   "language": "python",
   "name": "python3"
  },
  "language_info": {
   "codemirror_mode": {
    "name": "ipython",
    "version": 3
   },
   "file_extension": ".py",
   "mimetype": "text/x-python",
   "name": "python",
   "nbconvert_exporter": "python",
   "pygments_lexer": "ipython3",
   "version": "3.5.2"
  },
  "livereveal": {
   "scroll": "True",
   "start_slideshow_at": "selected",
   "theme": "sky"
  }
 },
 "nbformat": 4,
 "nbformat_minor": 1
}
