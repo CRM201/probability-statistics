{
 "cells": [
  {
   "cell_type": "markdown",
   "metadata": {
    "collapsed": true
   },
   "source": [
    "## §1.7   全概率公式与贝叶斯公式"
   ]
  },
  {
   "cell_type": "markdown",
   "metadata": {},
   "source": [
    "**1.全概率公式**\n",
    "\n",
    "当事件 $A$ 的发生受到多个因素的影响时， 可以通过分析 $A$ 发生的原因以及这些原因对事件 $A$ 的影响程度来计算 $A$ 发生的概率."
   ]
  },
  {
   "cell_type": "markdown",
   "metadata": {},
   "source": [
    "### 全概率公式"
   ]
  },
  {
   "cell_type": "markdown",
   "metadata": {},
   "source": [
    "设随机事件 $A,B_1,B_2,\\cdots,B_n$,已知\n",
    "\n",
    "$$\n",
    "P(B_i)>0(I=1,2,\\cdots,n),\\qquad B_iB_j=\\emptyset (i\\neq j)\n",
    "$$\n",
    "\n",
    "且\n",
    "\n",
    "$$\n",
    "A\\subset\\bigcup_i^n B_i\n",
    "$$"
   ]
  },
  {
   "cell_type": "code",
   "execution_count": null,
   "metadata": {
    "collapsed": true
   },
   "outputs": [],
   "source": []
  }
 ],
 "metadata": {
  "kernelspec": {
   "display_name": "SageMath 7.3",
   "language": "",
   "name": "sagemath"
  },
  "language_info": {
   "codemirror_mode": {
    "name": "ipython",
    "version": 2
   },
   "file_extension": ".py",
   "mimetype": "text/x-python",
   "name": "python",
   "nbconvert_exporter": "python",
   "pygments_lexer": "ipython2",
   "version": "2.7.10"
  }
 },
 "nbformat": 4,
 "nbformat_minor": 0
}
