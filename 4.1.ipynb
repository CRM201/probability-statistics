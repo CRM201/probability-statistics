{
 "cells": [
  {
   "cell_type": "markdown",
   "metadata": {
    "collapsed": true,
    "slideshow": {
     "slide_type": "slide"
    }
   },
   "source": [
    "### 第四章      随机变量的数学特征"
   ]
  },
  {
   "cell_type": "markdown",
   "metadata": {
    "slideshow": {
     "slide_type": "slide"
    }
   },
   "source": [
    "### §4.1   随机变量的数学期望\n",
    "\n",
    "**引例:** 某大学新聘一位教授给 $15$ 位研究生上课, 期末考试成绩如下:"
   ]
  },
  {
   "cell_type": "markdown",
   "metadata": {
    "slideshow": {
     "slide_type": "fragment"
    }
   },
   "source": [
    "$$\n",
    "72 \\quad 81 \\quad 90 \\quad 85 \\quad 76 \\quad 90 \\quad 80 \\quad 83\\\\\n",
    "78 \\quad 75 \\quad 63 \\quad 73 \\quad 30 \\quad 82 \\quad 90 \\quad \\quad\\\\\n",
    "$$"
   ]
  },
  {
   "cell_type": "markdown",
   "metadata": {
    "slideshow": {
     "slide_type": "fragment"
    }
   },
   "source": [
    "成绩上报后, 数学院长认为: 试题太易, 因为 $90$ 分的就有 $3$ 人;系主任认为: 考题偏难, 因为平均分才 $76.5$ 分; 教授委员会认为: 考题适宜, 因为从总体看 $80$ 分是有代表性的, 多于 $80$ 分和少于 $80$ 分的人数相等.\n",
    "\n",
    "谁说的话有道理？"
   ]
  },
  {
   "cell_type": "markdown",
   "metadata": {
    "slideshow": {
     "slide_type": "subslide"
    }
   },
   "source": [
    "因此在对随机变量的研究中, 确定某些数字特征是重要的.例如\n",
    "\n",
    "* 评定某企业的经营能力时, 只要知道该企业**人均赢利水平**；\n",
    "\n",
    "* 研究水稻品种优劣时, 我们关心的是稻穗的**平均粒数**及每粒的**平均重量**;\n",
    "\n",
    "* 检验棉花的质量时, 既要注意纤维的**平均长度**, 又要注意**纤维长度与平均长度的偏离程度**, 平均长度越长, 偏离程度越小, 质量就越好;"
   ]
  },
  {
   "cell_type": "markdown",
   "metadata": {
    "slideshow": {
     "slide_type": "slide"
    }
   },
   "source": [
    "随机变量某一方面的概率特征都**可以用数字来描述**\n",
    "\n",
    "![](./figures/41.png)\n",
    "\n",
    "**r.v. : random variable**"
   ]
  },
  {
   "cell_type": "markdown",
   "metadata": {
    "slideshow": {
     "slide_type": "slide"
    }
   },
   "source": [
    "### 1. 一维随机变量的数学期望"
   ]
  },
  {
   "cell_type": "markdown",
   "metadata": {
    "slideshow": {
     "slide_type": "subslide"
    }
   },
   "source": [
    "前面的章节中，我们研究了随机变量及其分布，如果知道随机变量 $X$ 的概率分布，那么 $X$ 的全部概率特征也就知道了．\n",
    "\n",
    "但在实际问题中概率分布一般较难确定，而且在一些实际应用中，人们并不需要知道随机变量的一切概率性质，只要知道它的某些数字特征就够了. "
   ]
  },
  {
   "cell_type": "markdown",
   "metadata": {
    "slideshow": {
     "slide_type": "subslide"
    }
   },
   "source": [
    "**引例** 某手表厂在出厂产品中, 抽查了 $N =100$ 只手表的日走时误差, 其数据如表：\n",
    "\n",
    "|日走时误差 $X_k$ 秒| $-2$ | $-1$ | $0$ | $1$ | $2$ | $3$ | $4$|\n",
    "|-----|------|------|-----|------|-------|-------|------|\n",
    "|只数 $N_k$ | $3$ | $10$ | $17$ | $28$ | $21$ | $16$ | $5$ |\n",
    "\n",
    "则抽查到的 $100$ 只手表的**平均**日走时误差为 1.22, 计算方法如下:\n",
    "\n",
    "$$\n",
    "E = \\sum X_k \\cdot \\frac{N_k}{N}= \\sum X_k \\cdot f_k\n",
    "$$"
   ]
  },
  {
   "cell_type": "code",
   "execution_count": 2,
   "metadata": {
    "collapsed": false,
    "slideshow": {
     "slide_type": "subslide"
    }
   },
   "outputs": [
    {
     "name": "stdout",
     "output_type": "stream",
     "text": [
      "1.22\n"
     ]
    }
   ],
   "source": [
    "# 计算平均值\n",
    "E = ((-2)*3 + (-1)*10 + 0*17 + 1*28 + 2*21 + 3*16 + 4*5)/100\n",
    "print(E)"
   ]
  },
  {
   "cell_type": "markdown",
   "metadata": {
    "slideshow": {
     "slide_type": "subslide"
    }
   },
   "source": [
    "如果另外再抽验 $100$ 只手表, 每作一次这样的检验, 就得到一组不同的频率, 也就有不同的日走时误差的平均值.\n",
    "\n",
    "由关于频率和概率关系的讨论知, 理论上应该用概率去代替上述和式的频率, 这时得到的平均值才是理论上(也是真正)的平均值."
   ]
  },
  {
   "cell_type": "markdown",
   "metadata": {
    "slideshow": {
     "slide_type": "slide"
    }
   },
   "source": [
    "**定义1**  设 $X$ 是离散型随机变量，它的概率函数是:\n",
    "\n",
    "$$\n",
    "P(X=x_k)=p_k ,  k=1,2,…\n",
    "$$\n",
    "\n",
    "如果\n",
    "\n",
    "$$\n",
    "\\sum_{k =1}^{\\infty} |x_k| p_k < +\\infty,\n",
    "$$\n",
    "\n",
    "定义 $X$ 的数学期望\n",
    "\n",
    "$$\n",
    "E(X) = \\sum_{k =1}^{\\infty} x_k p_k, \\text{ (绝对收敛的级数).}\n",
    "$$"
   ]
  },
  {
   "cell_type": "markdown",
   "metadata": {
    "slideshow": {
     "slide_type": "slide"
    }
   },
   "source": [
    "**例1**  设随机变量 $X$ 具有如下的概率分布，求 $E(X)$.\n",
    "\n",
    "$$\n",
    "P\\{X = (-1)^k \\cdot \\frac{2^k}{k}\\}= \\frac{1}{2^k}, \\quad k = 1, 2, \\cdots\n",
    "$$"
   ]
  },
  {
   "cell_type": "markdown",
   "metadata": {
    "slideshow": {
     "slide_type": "subslide"
    }
   },
   "source": [
    "**解 :** 虽然有\n",
    "\n",
    "$$\n",
    "\\begin{align}\n",
    "\\sum_{k =1}^{\\infty} x_k P\\{X = x_k\\} & = \\sum_{k =1}^{\\infty} (-1)^k \\cdot \\frac{2^k}{k} \\cdot \\frac{1}{2^k}\\\\\n",
    " & = \\sum_{k =1}^{\\infty} (-1)^k \\cdot \\frac{1}{k}= - \\ln 2\n",
    "\\end{align}\n",
    "$$\n",
    "\n",
    "收敛, 但\n",
    "\n",
    "$$\n",
    "\\sum_{k =1}^{\\infty} |x_k| p_k = \\sum_{k =1}^{\\infty} \\frac{1}{k} = +\\infty\n",
    "$$\n",
    "\n",
    "发散, 因此, $E(X)$ 不存在.\n"
   ]
  },
  {
   "cell_type": "code",
   "execution_count": 10,
   "metadata": {
    "collapsed": false,
    "slideshow": {
     "slide_type": "notes"
    }
   },
   "outputs": [
    {
     "name": "stdout",
     "output_type": "stream",
     "text": [
      "0.69309718306\n",
      "0.69314718056\n"
     ]
    }
   ],
   "source": [
    "import numpy as np\n",
    "a = np.arange(1, 10001)\n",
    "a[1::2] *= -1\n",
    "a = 1/a\n",
    "print(sum(a))\n",
    "print(np.log(2))"
   ]
  },
  {
   "cell_type": "markdown",
   "metadata": {
    "collapsed": true,
    "slideshow": {
     "slide_type": "slide"
    }
   },
   "source": [
    "**例 2** 设随机变量 $X$ 服从 \"0 - 1\" 分布, 其概率分布为\n",
    "$$\n",
    "\\begin{array}{|l|c|c|}\\hline\n",
    "X & 0 & 1 \\\\ \\hline\n",
    "P(X_i) & q & p \\\\ \\hline\n",
    "\\end{array}\n",
    "$$\n",
    "\n",
    "其中 $$(p + q = 1)$$\n"
   ]
  },
  {
   "cell_type": "markdown",
   "metadata": {
    "collapsed": true,
    "slideshow": {
     "slide_type": "fragment"
    }
   },
   "source": [
    "**解 :** \n",
    "\n",
    "$$\n",
    "E(X) = 0 \\times q + 1 \\times p = p\n",
    "$$"
   ]
  },
  {
   "cell_type": "markdown",
   "metadata": {
    "collapsed": true,
    "slideshow": {
     "slide_type": "slide"
    }
   },
   "source": [
    "**例 3** 某人的一串钥匙上有 $n$ 把钥匙, 其中只有一把能打开自己的家门, 他随意地试用这串钥匙中的某一把去开门. 若每把钥匙试开一次后除去, 求打开门时试开次数的数学期望."
   ]
  },
  {
   "cell_type": "markdown",
   "metadata": {
    "collapsed": true,
    "slideshow": {
     "slide_type": "subslide"
    }
   },
   "source": [
    "**解 :** 设试开次数为 $X$，\n",
    "\n",
    "$$\n",
    "P(X =k) = \\frac{1}{n}, \\quad k=1, 2, 3, \\cdots,n\n",
    "$$\n",
    "\n",
    "于是\n",
    "\n",
    "$$\n",
    "E(X) = \\sum_{k =1}^n k \\cdot \\frac{1}{n} = \\frac{1}{n} \\cdot \\frac{(1 + n ) n}{2} = \\frac{n+1}{2}\n",
    "$$\n",
    "\n"
   ]
  },
  {
   "cell_type": "markdown",
   "metadata": {
    "collapsed": true,
    "slideshow": {
     "slide_type": "slide"
    }
   },
   "source": [
    "#### 连续型随机变量的数学期望\n",
    "\n",
    "设 $X$ 是连续性随机变量, 其密度函数为 $f(x)$, 在数轴上取很密的分点 $x_0 < x_1 < \\cdots $, 则 $X$ 落在小区间 $[x_i, x_{i+1}]$ 的概率是\n",
    "\n",
    "$$\n",
    "\\int_{x_i}^{x_{i+1}} f(x) \\mathrm dx \\approx f(x_i)(x_{i+1} - x_i) = f(x_i) \\Delta x_i\n",
    "$$\n",
    "\n",
    "由于 $x_i$ 与 $x_{i+1}$ 很接近, 所以区间 $[x_i, x_{i+1}]$ 中的值可以用 $x_i$ 来近似代替."
   ]
  },
  {
   "cell_type": "markdown",
   "metadata": {
    "slideshow": {
     "slide_type": "subslide"
    }
   },
   "source": [
    "![](./figures/42.png)\n",
    "\n",
    "$$\n",
    "\\int_{x_i}^{x_{i+1}} f(x) \\mathrm dx \\approx f(x_i)(x_{i+1} - x_i) = f(x_i) \\Delta x_i\n",
    "$$"
   ]
  },
  {
   "cell_type": "markdown",
   "metadata": {
    "collapsed": true,
    "slideshow": {
     "slide_type": "subslide"
    }
   },
   "source": [
    "因此 $X$ 与以概率 $f(x_i) \\Delta x_i$ 取值 $x_i$ 的离散型随机变量近似, 该离散型随机变量的数学期望是\n",
    "\n",
    "$$\n",
    "\\sum_i x_i f(x_i) \\Delta x_i \n",
    "$$\n",
    "\n",
    "这正是 $\\int_{- \\infty}^{\\infty} x f(x) \\mathrm dx$ 的渐进和式."
   ]
  },
  {
   "cell_type": "markdown",
   "metadata": {
    "collapsed": true,
    "slideshow": {
     "slide_type": "slide"
    }
   },
   "source": [
    "**定义2** 设 $X$ 是连续型随机变量，其密度函数为 $f (x)$, 如果\n",
    "\n",
    "$$\n",
    "\\int_{- \\infty}^{\\infty} |x| f(x) \\mathrm dx\n",
    "$$\n",
    "\n",
    "收敛, 定义 $X$ 的数学期望为\n",
    "\n",
    "$$\n",
    "E(X) =\\int_{- \\infty}^{\\infty} x f(x) \\mathrm dx \n",
    "$$\n",
    "\n",
    "也就是说, 连续型随机变量的数学期望是一个**绝对收敛的积分**."
   ]
  },
  {
   "cell_type": "markdown",
   "metadata": {
    "collapsed": true,
    "slideshow": {
     "slide_type": "slide"
    }
   },
   "source": [
    "**常见随机变量的数学期望**\n",
    "\n",
    "**例 4** 已知 $X \\sim B(n, p)$, 求 $E(X)$."
   ]
  },
  {
   "cell_type": "markdown",
   "metadata": {
    "collapsed": true,
    "slideshow": {
     "slide_type": "subslide"
    }
   },
   "source": [
    "**解 :** \n",
    "\n",
    "$$\n",
    "\\begin{align}\n",
    "E(X) & = \\sum_{k =0}^n k C_n^k p^k (1-p)^{n -k}\\\\\n",
    "& = \\sum_{k =1}^n k \\frac{n!}{k!(n -k)!} p^k (1-p)^{n -k}\\\\\n",
    "& = np \\sum_{k =1}^n  \\frac{(n-1)!}{(k-1)!(n -k)!} p^{k-1} (1-p)^{(n-1) -(k-1)}\\\\\n",
    "& = np \\sum_{k =0}^{n-1}  C_{n-1}^k p^k (1-p)^{(n-1) -k} = np\\\\\n",
    "\\end{align}\n",
    "$$"
   ]
  },
  {
   "cell_type": "markdown",
   "metadata": {
    "collapsed": true,
    "slideshow": {
     "slide_type": "slide"
    }
   },
   "source": [
    "**例 5** 已知 $X \\sim P(\\lambda),(\\lambda > 0)$, 求 $E(X)$."
   ]
  },
  {
   "cell_type": "markdown",
   "metadata": {
    "collapsed": true,
    "slideshow": {
     "slide_type": "fragment"
    }
   },
   "source": [
    "**解 :**\n",
    "\n",
    "$$\n",
    "E(X) = \\sum_{k =0}^{\\infty} k \\frac{\\lambda^k}{k!} e^{- \\lambda} = \\lambda  e^{- \\lambda}  \\sum_{k =1}^{\\infty}  \\frac{\\lambda^{k-1}}{(k-1)!} = \\lambda\n",
    "$$"
   ]
  },
  {
   "cell_type": "markdown",
   "metadata": {
    "collapsed": true,
    "slideshow": {
     "slide_type": "slide"
    }
   },
   "source": [
    "**例 6** 已知 $X \\sim U(a, b)$, 求 $E(X)$."
   ]
  },
  {
   "cell_type": "markdown",
   "metadata": {
    "collapsed": true,
    "slideshow": {
     "slide_type": "fragment"
    }
   },
   "source": [
    "**解 :** \n",
    "\n",
    "$$\n",
    "E(X) = \\int_{- \\infty}^{+\\infty} x f(x) \\mathrm dx = \\int_a^b \\frac{x}{b-a} \\mathrm dx = \\frac{a +b}{2} \n",
    "$$"
   ]
  },
  {
   "cell_type": "markdown",
   "metadata": {
    "collapsed": true,
    "slideshow": {
     "slide_type": "slide"
    }
   },
   "source": [
    "**例 7** 已知 $X \\sim e(\\lambda)$, 求 $E(X)$. "
   ]
  },
  {
   "cell_type": "markdown",
   "metadata": {
    "slideshow": {
     "slide_type": "fragment"
    }
   },
   "source": [
    "**解 :**\n",
    "\n",
    "$$\n",
    "f(x) = \n",
    "\\begin{cases}\n",
    "\\lambda e^{- \\lambda x}, \\quad x > 0\\\\\n",
    "0, \\quad x \\leq 0\\\\\n",
    "\\end{cases}\n",
    "$$"
   ]
  },
  {
   "cell_type": "markdown",
   "metadata": {
    "collapsed": true,
    "slideshow": {
     "slide_type": "subslide"
    }
   },
   "source": [
    "$$\n",
    "\\begin{align}\n",
    "E(X) & = \\int_{- \\infty}^{+\\infty} x f(x) \\mathrm dx \\\\\n",
    "&= \\int_0^{+\\infty} \\lambda x e^{- \\lambda x} \\mathrm dx = - \\int_0^{+\\infty} x \\mathrm d(e^{- \\lambda x})\\\\\n",
    "& = - x e^{- \\lambda x}|_0^{+\\infty} + \\int_0^{+\\infty} e^{- \\lambda x}\\mathrm dx\\\\\n",
    "& = \\lim_{x \\to +\\infty} -\\frac{x}{ e^{\\lambda x}} + \\frac{1}{\\lambda} \\int_0^{+\\infty} e^{- \\lambda x} \\mathrm d(\\lambda x) = \\frac{1}{\\lambda}\n",
    "\\end{align}\n",
    "$$"
   ]
  },
  {
   "cell_type": "markdown",
   "metadata": {
    "collapsed": true,
    "slideshow": {
     "slide_type": "slide"
    }
   },
   "source": [
    "**例 8** 若随机变量 $X$ 服从柯西分布, 及其概率密度为 \n",
    "\n",
    "$$\n",
    "f(x) = \\frac{1}{\\pi} \\cdot \\frac{1}{1 + x^2},\\quad -\\infty < x < +\\infty\n",
    "$$\n",
    "\n",
    "说明随机变量 $X$ 的数学期望不存在."
   ]
  },
  {
   "cell_type": "markdown",
   "metadata": {
    "collapsed": true,
    "slideshow": {
     "slide_type": "subslide"
    }
   },
   "source": [
    "**解 :** 因为\n",
    "\n",
    "$$\n",
    "\\int_{-\\infty}^{+\\infty} |x| f(x) \\mathrm dx = \\frac{1}{\\pi} \\int_{-\\infty}^{+\\infty} \\frac{|x|}{1 + x^2} \\mathrm dx = +\\infty\n",
    "$$\n",
    "\n",
    "即 $\\int_{-\\infty}^{+\\infty} x f(x) \\mathrm dx$ 不绝对收敛, 故 $X$ 的数学期望不存在."
   ]
  },
  {
   "cell_type": "markdown",
   "metadata": {
    "slideshow": {
     "slide_type": "slide"
    }
   },
   "source": [
    "**例 9 ** 正态分布 $X \\sim N(\\mu, \\sigma^2)$, 求 $E(X)$. "
   ]
  },
  {
   "cell_type": "markdown",
   "metadata": {
    "slideshow": {
     "slide_type": "fragment"
    }
   },
   "source": [
    "**解 :** \n",
    "\n",
    "$$\n",
    "\\begin{align}\n",
    "E(X) & = \\int_{-\\infty}^{+\\infty} x \\frac{1}{\\sqrt{2 \\pi} \\sigma} e^{-\\frac{(x - \\mu)^2}{2 \\sigma^2}} \\mathrm dx\\\\\n",
    "& = \\frac{1}{\\sqrt{2 \\pi}} \\int_{-\\infty}^{+\\infty} (\\sigma t + \\mu)e^{-\\frac{t^2}{2}} \\mathrm dt \\quad (\\frac{x - \\mu}{\\sigma} = t)\\\\\n",
    "& = \\frac{\\sigma}{\\sqrt{2 \\pi}} \\int_{-\\infty}^{+\\infty} t e^{-\\frac{t^2}{2}} \\mathrm dt + \\frac{\\mu}{\\sqrt{2 \\pi}} \\int_{-\\infty}^{+\\infty} e^{-\\frac{t^2}{2}} \\mathrm dt\\\\\n",
    "& = \\mu\\\\\n",
    "\\end{align}\n",
    "$$"
   ]
  },
  {
   "cell_type": "markdown",
   "metadata": {
    "slideshow": {
     "slide_type": "slide"
    }
   },
   "source": [
    "#### 常见随机变量的数学期望\n",
    "\n",
    "| 分布 | 概率分布 | 期望 |\n",
    "|------|------|------|\n",
    "| 参数为 $p$ 的 \"0-1\"分布| $P(X =1) = p\\\\P(X = 0) = 1-p$| $$p$$|\n",
    "|$$B(n, p)$$| $P(X=k)=C_n^k p^k (1-p)^{n - k},\\quad k =0, 1, 2, \\cdots, n$ |$$np$$|\n",
    "|$$P(\\lambda)$$ | $P(X = k) = \\frac{\\lambda^k e^{-\\lambda}}{k!}, \\quad k = 0, 1, 2,\\cdots$ | $$\\lambda$$ |"
   ]
  },
  {
   "cell_type": "markdown",
   "metadata": {
    "slideshow": {
     "slide_type": "subslide"
    }
   },
   "source": [
    "\n",
    "| 分布 | 概率密度$\\quad\\quad\\quad\\quad\\quad\\quad\\quad\\quad\\quad\\quad$ | 期望 |\n",
    "|------|------|------|\n",
    "|区间 $(a, b)$ 上的均匀分布 | $f(x) = \\begin{cases} \\frac{1}{b-a}, \\quad a < x < b\\\\ 0, \\quad 其它\\\\ \\end{cases}$| $\\frac{a+b}{2}$ |\n",
    "| $$E(\\lambda)$$ | $f(x)=\\begin{cases} \\lambda e^{-\\lambda x}, \\quad x > 0\\\\ 0, \\quad 其它\\end{cases}$ | $\\frac{1}{\\lambda}$|\n",
    "| $$N(\\mu, \\sigma^2)$$ | $f(x) =  \\frac{1}{\\sqrt{2 \\pi} \\sigma} e^{-\\frac{(x - \\mu)^2}{2 \\sigma^2}}$ | $\\mu$ |"
   ]
  },
  {
   "cell_type": "markdown",
   "metadata": {
    "slideshow": {
     "slide_type": "slide"
    }
   },
   "source": [
    "#### 2.二维随机变量的数学期望\n",
    "\n",
    "\n",
    "**定义 3** 设二维随机变量 $(X, Y)$, 若 $E(X), E(Y)$ 存在, 则 $(X, Y)$ 的数学期望为:\n",
    "\n",
    "$$\n",
    "E(X, Y) = (E(X), E(Y))\n",
    "$$"
   ]
  },
  {
   "cell_type": "markdown",
   "metadata": {
    "slideshow": {
     "slide_type": "fragment"
    }
   },
   "source": [
    "(1) 当 $(X, Y)$ 为二维离散型随机变量时,\n",
    "\n",
    "$$\n",
    "E(X) = \\sum_i x_i P(X = x_i) = \\sum_i \\sum_j x_i p_{ij}\\\\\n",
    "E(Y) = \\sum_j y_j P(Y = y_j) = \\sum_i \\sum_j y_j p_{ij}\\\\\n",
    "$$"
   ]
  },
  {
   "cell_type": "markdown",
   "metadata": {
    "slideshow": {
     "slide_type": "subslide"
    }
   },
   "source": [
    "(2) 当 $(X,Y)$ 为二维连续型随机变量时,\n",
    "\n",
    "$$\n",
    "E(X) = \\int_{-\\infty}^{+\\infty} x f_X(x) \\mathrm dX = \\int_{-\\infty}^{+\\infty}( \\int_{-\\infty}^{+\\infty} x f(x, y) \\mathrm dy)\\mathrm dx\\\\\n",
    "E(Y) =  \\int_{-\\infty}^{+\\infty} y f_Y(y) \\mathrm dy= \\int_{-\\infty}^{+\\infty}( \\int_{-\\infty}^{+\\infty} y f(x, y)\\mathrm dx)\\mathrm dy\n",
    "$$ "
   ]
  },
  {
   "cell_type": "markdown",
   "metadata": {
    "slideshow": {
     "slide_type": "slide"
    }
   },
   "source": [
    "#### 3. 随机变量函数的数学期望\n",
    "\n",
    "问题的提出:\n",
    "\n",
    "设已知随机变量 $X$ 的分布, 我们需要计算的不是 $X$ 的期望, 而是 $X$ 的某个函数的期望, 比如说 $g(X)$ 的期望. \n",
    "\n",
    "应该如何计算呢?"
   ]
  },
  {
   "cell_type": "markdown",
   "metadata": {
    "slideshow": {
     "slide_type": "slide"
    }
   },
   "source": [
    "**一种方法是**  因为 $g(X)$ 也是随机变量, 故应有概率分布, 它的分布可以由已知的 $X$ 的分布求出来. 一旦我们知道到了 $g(X)$ 的分布, 就可以按照期望的定义把 $E[g(X)]$ 计算出来.\n",
    "\n",
    "使用这种方法必须先求出随机变量函数 $g(X)$ 的分布, 一般是比较复杂的.\n",
    "\n",
    "那么是否可以不先求 $g(X)$ 的分布而只根据 $X$ 的分布求得 $E[g(X)]$ 呢?"
   ]
  },
  {
   "cell_type": "markdown",
   "metadata": {
    "slideshow": {
     "slide_type": "slide"
    }
   },
   "source": [
    "类似引入上述 $E(X)$ 的推理, 可得如下结论:\n",
    "\n",
    "**定理 1** 设 $X$ 是一个随机变量，$Y = g(X)$($g$ 是连续函数), 则\n",
    "\n",
    "$$\n",
    "E(Y) = E[g(X)] = \n",
    "\\begin{cases}\n",
    "\\sum_{k=1}^{\\infty} g(x_k)p_k, \\quad X离散型\\\\\n",
    "\\int_{-\\infty}^{+\\infty} g(x) f(x) \\mathrm dx, \\quad X连续型\n",
    "\\end{cases}\n",
    "$$\n",
    "\n",
    "当 $X$ 为离散型时, $P(X = x_k) = p_k$;\n",
    "\n",
    "当 $X$ 为连续型时, $X$ 的密度函数为 $f(x)$."
   ]
  },
  {
   "cell_type": "markdown",
   "metadata": {
    "slideshow": {
     "slide_type": "subslide"
    }
   },
   "source": [
    "上公式的重要性在于:\n",
    "\n",
    "当我们求 $E[g(X)]$ 时, 不必知道 $g(X)$ 的分布, 而只需要知道 $X$ 的分布就可以了.\n",
    "\n",
    "这给求随机变量函数的期望带来很大方便."
   ]
  },
  {
   "cell_type": "markdown",
   "metadata": {
    "slideshow": {
     "slide_type": "subslide"
    }
   },
   "source": [
    "将 $g(X)$ 特殊化, 可得各种数字特征:\n",
    "\n",
    "$k$ 阶原点矩  $E(X^k)$\n",
    "\n",
    "$k$ 阶中心矩 $E([X-E(X)]^k)$\n",
    " \n",
    "$k$ 阶绝对原点矩 $E(|X|^k)$\n",
    "\n",
    "$k$ 阶绝对中心矩 $E(|X - E(X)|^k)$\n",
    " \n",
    " 其中 $k$ 是整数."
   ]
  },
  {
   "cell_type": "markdown",
   "metadata": {
    "collapsed": true,
    "slideshow": {
     "slide_type": "slide"
    }
   },
   "source": [
    "**例 10** 设随机变量 $X$ 的概率分布为\n",
    "\n",
    "\\begin{array}{ccccccc}\\hline\n",
    "X & -2 & -1 & 0 & 1 & 2 & 3\\\\ \\hline\n",
    "p(X_i) & 0.10 & 0.20 & 0.25 & 0.20 & 0.15 & 0.10 \\\\ \\hline\n",
    "\\end{array}\n",
    "\n",
    "求随机变量函数 $Y=X^2$ 的数学期望."
   ]
  },
  {
   "cell_type": "markdown",
   "metadata": {
    "slideshow": {
     "slide_type": "subslide"
    }
   },
   "source": [
    "**解法 1** 直接按公式计算\n",
    "\n",
    "$\n",
    "\\begin{align}\n",
    "E(Y) &= (-2)^2 \\times 0.10 + (-1)^2 \\times 0.20 + 0^2 \\times 0.25 +1^2 \\times 0.20 + 2^2 \\times 0.15 + 3^2 \\times 0.10 \\\\\n",
    "& = 2.30\n",
    "\\end{align}\n",
    "$"
   ]
  },
  {
   "cell_type": "markdown",
   "metadata": {
    "slideshow": {
     "slide_type": "subslide"
    }
   },
   "source": [
    "**解法 2** 先求随机变量 $Y = X^2$ 的概率分布\n",
    "\n",
    "$$\n",
    "\\begin{array}{ccccc}\\hline\n",
    "Y = X^2 & 0 & 1 & 4 & 9 \\\\  \\hline\n",
    "p(y_i) & 0.25 & 0.40 & 0.25 & 0.10\\\\ \\hline\n",
    "\\end{array}\n",
    "$$\n",
    "\n",
    "于是数学期望\n",
    "\n",
    "$$\n",
    "E(Y) = 0 \\times 0.25 + 1 \\times 0.40 + 4 \\times 0.25 + 9 \\times 0.10=2.30\n",
    "$$"
   ]
  },
  {
   "cell_type": "markdown",
   "metadata": {
    "slideshow": {
     "slide_type": "slide"
    }
   },
   "source": [
    "**例 11** 设随机变量 $X$ 在区间 $[0, \\pi]$ 上服从均匀分布, 求随机变量函数 $Y = \\sin X$ 的数学期望."
   ]
  },
  {
   "cell_type": "markdown",
   "metadata": {
    "slideshow": {
     "slide_type": "subslide"
    }
   },
   "source": [
    "**解 :** 随机变量 $X$ 的概率密度为\n",
    "\n",
    "$$\n",
    "f(x) = \n",
    "\\begin{cases}\n",
    "\\frac{1}{\\pi}, \\quad 0 \\leq x \\leq \\pi\\\\\n",
    "0， \\quad 其它\\\\\n",
    "\\end{cases}\n",
    "$$\n",
    "\n",
    "所以\n",
    "\n",
    "$$\n",
    "\\begin{align}\n",
    "E(Y) = \\int_{-\\infty}^{+\\infty} \\sin xf(x) \\mathrm dx & = \\int_0^\\pi \\sin x \\cdot \\frac{1}{\\pi} \\mathrm dx \\\\\n",
    "& =\\frac{1}{\\pi} \\int_0^\\pi \\sin x \\mathrm dx = \\frac{2}{\\pi}\n",
    "\\end{align}\n",
    "$$"
   ]
  },
  {
   "cell_type": "markdown",
   "metadata": {
    "slideshow": {
     "slide_type": "subslide"
    }
   },
   "source": [
    "**说明:**也可以显求出 $Y = \\sin X$ 的概率密度\n",
    "\n",
    "$$\n",
    "f_Y(y) = \n",
    "\\begin{cases}\n",
    "\\frac{2}{\\pi \\sqrt{1 - y^2}}, \\quad 0 < y < 1\\\\\n",
    "0, \\quad 其它\n",
    "\\end{cases}\n",
    "$$\n",
    "\n",
    "再计算数学期望\n",
    "\n",
    "$$\n",
    "E(Y) = \\int_0^1 y \\cdot \\frac{2}{\\pi \\sqrt{1 - y^2}} \\mathrm dy = \\frac{2}{\\pi} \\int_0^1 \\frac{y}{\\sqrt{1 - y^2}} \\mathrm dy = \\frac{2}{\\pi}\n",
    "$$\n",
    "\n",
    "但这样麻烦, 从例10, 例11知: 计算随机变量函数的数学期望不必求随机变量函数的分布."
   ]
  },
  {
   "cell_type": "markdown",
   "metadata": {
    "slideshow": {
     "slide_type": "slide"
    }
   },
   "source": [
    "**定理 2** 设 $Z$ 是随机变量 $X ,Y$ 的函数 $Z = g(X, Y)$($g$ 是连续函数)\n",
    "\n",
    "(1) 若二维离散型随机变量 $(X, Y)$ 的分布律为\n",
    "\n",
    "$$\n",
    "P(X = x_i, Y = y_j) = p_{ij}, \\quad i,j =1, 2, \\cdots\n",
    "$$\n",
    "\n",
    "则有\n",
    "\n",
    "$$\n",
    "E (Z) = E[g (X, Y)] = \\sum \\sum g(x_i, y_j) p_{ij}\n",
    "$$"
   ]
  },
  {
   "cell_type": "markdown",
   "metadata": {
    "collapsed": true,
    "slideshow": {
     "slide_type": "subslide"
    }
   },
   "source": [
    "(2) 若二维连续型随机变量 $(X, Y)$ 的概率密度为 $f(x, y)$, 则有\n",
    "\n",
    "$$\n",
    "E(Z)= E[g(X, Y)] \\\\\n",
    "= \\int_{-\\infty}^{+\\infty} \\int_{-\\infty}^{+\\infty} g(x, y) f(x, y) \\mathrm dx \\mathrm dy\n",
    "$$"
   ]
  },
  {
   "cell_type": "markdown",
   "metadata": {
    "collapsed": true,
    "slideshow": {
     "slide_type": "slide"
    }
   },
   "source": [
    "**例 13** 设 $X, Y$ 的联合分布律如下,$Z = XY$ 求 $E(Z)$\n",
    "\n",
    "\\begin{array}{cccc}\\hline\n",
    "Y\\backslash X & 1 & 2 & 3 \\\\ \\hline\n",
    "0 & 0.1 & 0.15 & 0.25 \\\\ \\hline\n",
    "1 & 0.25 & 0.15 & 0.1\\\\ \\hline\n",
    "\\end{array}"
   ]
  },
  {
   "cell_type": "markdown",
   "metadata": {
    "collapsed": true,
    "slideshow": {
     "slide_type": "subslide"
    }
   },
   "source": [
    "**解 :** \n",
    "\n",
    "$$\n",
    "\\begin{align}\n",
    "E(Z) = & 1 \\times 0 \\times 0.1 + 1 \\times 1 \\times 0.25 + 2 \\times 0 \\times 0.15 \\\\ \n",
    "& + 2 \\times 1 \\times 0.15 + 3 \\times 0 \\times 0.25 + 3 \\times 1 \\times 0.1\\\\\n",
    "& = 0.85\n",
    "\\end{align}\n",
    "$$"
   ]
  },
  {
   "cell_type": "markdown",
   "metadata": {
    "collapsed": true,
    "slideshow": {
     "slide_type": "slide"
    }
   },
   "source": [
    "**例 14** 设二维随机变量 $(X, Y)$ 的联合概率密度为:\n",
    "\n",
    "$$\n",
    "f(x, y) = \n",
    "\\begin{cases}\n",
    "\\frac{8}{\\pi (x^2 + y^2 + 1)^3}, \\quad x \\geq 0, y \\geq 0\\\\\n",
    "0, \\quad 其它\\\\\n",
    "\\end{cases}\n",
    "$$\n",
    "\n",
    "求随机变量函数 $Z = X^2 + Y^2$ 的数学期望."
   ]
  },
  {
   "cell_type": "markdown",
   "metadata": {
    "collapsed": true,
    "slideshow": {
     "slide_type": "subslide"
    }
   },
   "source": [
    "**解 :** \n",
    "\n",
    "$$\n",
    "\\begin{align}\n",
    "E(Z) & = E(X^2 + Y^2)\\\\\n",
    "&= \\int_{0}^{+\\infty}\\int_{0}^{+\\infty} (x^2 + y^2)\\cdot \\frac{8}{\\pi (x^2 + y^2 + 1)^3} \\mathrm dx \\mathrm dy\\\\\n",
    "& =  \\frac{8}{\\pi}  \\int_{0}^{+\\infty}\\int_{0}^{+\\infty} \\frac{x^2+y^2}{(x^2 + y^2 + 1)^3} \\mathrm dx \\mathrm dy\\\\\n",
    "& =  \\frac{8}{\\pi}  \\int_0^{\\frac{\\pi}{2}} \\mathrm d \\theta \\int_{0}^{+\\infty} \\frac{r^2}{(r^2 + 1)^3} r \\mathrm dr \\\\\n",
    "& =  \\frac{8}{\\pi} \\cdot \\frac{\\pi}{2} \\cdot \\frac{1}{4}\\\\\n",
    "& = 1\n",
    "\\end{align}\n",
    "$$"
   ]
  },
  {
   "cell_type": "markdown",
   "metadata": {
    "collapsed": true,
    "slideshow": {
     "slide_type": "subslide"
    }
   },
   "source": [
    "**另解** 可先求出随机变量函数\n",
    "\n",
    "$$\n",
    "Z = X^2 + Y^2\n",
    "$$\n",
    "\n",
    "的概率密度, 再利用一维随机变量期望的公式计算\n",
    "\n",
    "$$\n",
    "E(Z) = E(X^2+Y^2)\n",
    "$$"
   ]
  },
  {
   "cell_type": "markdown",
   "metadata": {
    "collapsed": true,
    "slideshow": {
     "slide_type": "slide"
    }
   },
   "source": [
    "#### 四. 数学期望的性质\n",
    "\n",
    "1. 设 $C$ 是常数, 则 $E(C) = C$;\n",
    "2. 若 $k$ 是常数, 则 $E(kX) = k E(X)$;\n",
    "3. $E(X_1+X_2) = E(X_1) + E(X_2)$;\n",
    "$E(\\sum_{i =1}^{n} X_i) = \\sum_{i =1}^{n} E(X_i)$\n",
    "4. 设 $X, Y$ 独立, 则 $E(XY)= E(X)E(Y)$;\n",
    "$E(\\prod_{i=1}^{n} X_i) = \\prod_{i =1}^{n} E(X_I)$(诸 $X_i$ 独立时)\n",
    "\n",
    "注意: 由 $E(XY)= E(X)E(Y)$ 不一定能推出 $X, Y$ 独立."
   ]
  },
  {
   "cell_type": "markdown",
   "metadata": {
    "collapsed": true,
    "slideshow": {
     "slide_type": "slide"
    }
   },
   "source": [
    "**性质 1**  设 $C$ 是一常数, 则 \n",
    "\n",
    "$$\n",
    "E(C) = C\n",
    "$$"
   ]
  },
  {
   "cell_type": "markdown",
   "metadata": {
    "collapsed": true,
    "slideshow": {
     "slide_type": "subslide"
    }
   },
   "source": [
    "**证明** 常数 $C$ 看作一个随机变量, 它只可能取一个值 $C$, 即\n",
    "\n",
    "$$\n",
    "P(X = C) =1\n",
    "$$\n",
    "\n",
    "所以\n",
    "\n",
    "$$\n",
    "E(C) = C \\cdot 1 = C.\n",
    "$$"
   ]
  },
  {
   "cell_type": "markdown",
   "metadata": {
    "collapsed": true,
    "slideshow": {
     "slide_type": "slide"
    }
   },
   "source": [
    "**性质 2** 设 $X$ 为随机变量, $C$ 为一常数, 则\n",
    "\n",
    "$$\n",
    "E(CX) = C E(X).\n",
    "$$\n"
   ]
  },
  {
   "cell_type": "markdown",
   "metadata": {
    "collapsed": true,
    "slideshow": {
     "slide_type": "subslide"
    }
   },
   "source": [
    "**证明:** 设随机变量 $X$ 有\n",
    "\n",
    "$$\n",
    "P(X = x_i) = p_i, \\quad i =1, 2, \\cdots.\n",
    "$$\n",
    "\n",
    "则\n",
    "\n",
    "$$\n",
    "E(CX) = \\sum_i Cx_i p_i = C \\sum_i x_i p_i = CE(X).\n",
    "$$ \n",
    "\n",
    "设连续随机变量 $X$ 有概率密度 $f(x)$, 则有\n",
    "\n",
    "$$\n",
    "E(CX) = \\int_{-\\infty}^{+\\infty} Cxf(x) \\mathrm dx = C \\int_{-\\infty}^{+\\infty} xf(x) \\mathrm dx = CE(X)\n",
    "$$"
   ]
  },
  {
   "cell_type": "markdown",
   "metadata": {
    "collapsed": true,
    "slideshow": {
     "slide_type": "slide"
    }
   },
   "source": [
    "**性质 3** 设 $X,Y$ 为任意两个随机变量, 则\n",
    "\n",
    "$$\n",
    "E(X + Y) = E(X) + E(Y)\n",
    "$$"
   ]
  },
  {
   "cell_type": "markdown",
   "metadata": {
    "collapsed": true,
    "slideshow": {
     "slide_type": "subslide"
    }
   },
   "source": [
    "**证明** 对于离散随机变量,\n",
    "\n",
    "$$\n",
    "\\begin{align}\n",
    "E(X + Y) & = \\sum_i \\sum_j (x_i + y_j)p(x_i, y_j)\\\\\n",
    "& = \\sum_i \\sum_j x_i p(x_i, y_j) + \\sum_i \\sum_j y_j p(x_i, y_j)\\\\\n",
    "& = \\sum_i x_i P(X = x_i) +\\sum_j y_j P(Y = y_j)\\\\\n",
    "& = E(X) + E(Y)\\\\\n",
    "\\end{align}\n",
    "$$ "
   ]
  },
  {
   "cell_type": "markdown",
   "metadata": {
    "slideshow": {
     "slide_type": "subslide"
    }
   },
   "source": [
    "设连续随机变量的联合概率密度为 $f(x, y)$, 则\n",
    "\n",
    "$$\n",
    "\\begin{align}\n",
    "E(X + Y) & = \\int_{-\\infty}^{+\\infty}\\int_{-\\infty}^{+\\infty} (x + y) f(x, y) \\mathrm dx \\mathrm dy\\\\\n",
    "& =\\int_{-\\infty}^{+\\infty}\\int_{-\\infty}^{+\\infty} x f(x, y) \\mathrm dx \\mathrm dy + \\int_{-\\infty}^{+\\infty}\\int_{-\\infty}^{+\\infty} y f(x, y) \\mathrm dx \\mathrm dy\\\\\n",
    "& =  \\int_{-\\infty}^{+\\infty} x f_X(x) \\mathrm dx+ \\int_{-\\infty}^{+\\infty} y f_Y(y) \\mathrm dy\\\\\n",
    "& = E(X) + E(Y)\\\\\n",
    "\\end{align}\n",
    "$$"
   ]
  },
  {
   "cell_type": "markdown",
   "metadata": {
    "collapsed": true,
    "slideshow": {
     "slide_type": "subslide"
    }
   },
   "source": [
    "该性质推广:\n",
    "\n",
    "$$\n",
    "E(\\sum_{i =1}^{n} X_i) = \\sum_{i =1}^{n} E(X_i)\n",
    "$$"
   ]
  },
  {
   "cell_type": "markdown",
   "metadata": {
    "slideshow": {
     "slide_type": "subslide"
    }
   },
   "source": [
    "结合性质 1, 2, 3 可得数学期望的线性性质\n",
    "\n",
    "$$\n",
    "E(C_1 X + C_2 Y + C_3) = C_1 E(X) + C_2 E(Y) + C_3\n",
    "$$\n",
    "\n",
    "其中 $C_1, C_2, C_3$ 为常数."
   ]
  },
  {
   "cell_type": "markdown",
   "metadata": {
    "slideshow": {
     "slide_type": "subslide"
    }
   },
   "source": [
    "一般地, 设 $n$ 个随机变量 $X_1, X_2, \\cdots, X_n$, 则\n",
    "\n",
    "$$\n",
    "E\\{\\sum_{i=1}^{n}(C_i X_i + D_i)\\} = \\sum_{i=1}^{n} C_i E(X_i) + \\sum_{i=1}^{n} D_i\n",
    "$$\n",
    "\n",
    "其中 $C_i, D_i(i =1, 2, \\cdots, n)$ 为常数."
   ]
  },
  {
   "cell_type": "markdown",
   "metadata": {
    "slideshow": {
     "slide_type": "slide"
    }
   },
   "source": [
    "**性质 4** 设随机变量 $X, Y$ 相互独立, 则\n",
    "\n",
    "$$\n",
    "E(X Y) = E(X)E(Y)\n",
    "$$ "
   ]
  },
  {
   "cell_type": "markdown",
   "metadata": {
    "slideshow": {
     "slide_type": "fragment"
    }
   },
   "source": [
    "**证明:** 设离散随机变量 $X, Y$ 相互独立, 则\n",
    "\n",
    "$$\n",
    "P(X = x_i, Y = y_j) = P(X = x_i)P(Y = y_j),\n",
    "$$"
   ]
  },
  {
   "cell_type": "markdown",
   "metadata": {
    "slideshow": {
     "slide_type": "subslide"
    }
   },
   "source": [
    "因此 \n",
    "\n",
    "$$\n",
    "\\begin{align}\n",
    "E(XY) &= \\sum_i \\sum_j x_i y_j P(X = x_i, Y = y_j)\\\\ \n",
    "& =  \\sum_i \\sum_j x_i y_j P(X = x_i)P(Y = y_j)\\\\\n",
    "& = \\sum_i  x_iP(X = x_i) \\sum_j y_jP(Y = y_j)\\\\\n",
    "& = E(X) E(Y)\n",
    "\\end{align}\n",
    "$$"
   ]
  },
  {
   "cell_type": "markdown",
   "metadata": {
    "slideshow": {
     "slide_type": "subslide"
    }
   },
   "source": [
    "设连续随机变量 $X, Y$ 相互独立, 则\n",
    "\n",
    "$$\n",
    "f(x, y) = f_X(x) f_Y(y),\n",
    "$$"
   ]
  },
  {
   "cell_type": "markdown",
   "metadata": {
    "slideshow": {
     "slide_type": "subslide"
    }
   },
   "source": [
    "因此\n",
    "\n",
    "$$\n",
    "\\begin{align}\n",
    "E(XY) & = \\int_{-\\infty}^{+\\infty}\\int_{-\\infty}^{+\\infty} xy f(x, y) \\mathrm dx \\mathrm dy\\\\\n",
    "& = \\int_{-\\infty}^{+\\infty}\\int_{-\\infty}^{+\\infty} xy f_X(x, y)f_Y(x, y) \\mathrm dx \\mathrm dy\\\\\n",
    "& = \\int_{-\\infty}^{+\\infty} xf_X(x, y) \\mathrm dx \\int_{-\\infty}^{+\\infty} yf_Y(x, y) \\mathrm dy\\\\\n",
    "& = E(X)E(Y)\\\\\n",
    "\\end{align}\n",
    "$$"
   ]
  },
  {
   "cell_type": "markdown",
   "metadata": {
    "slideshow": {
     "slide_type": "slide"
    }
   },
   "source": [
    "**注 :** 由\n",
    "\n",
    "$$\n",
    "E(X Y) = E(X) E(Y)\n",
    "$$\n",
    "\n",
    "不一定能推出 $X, Y$ 独立.\n",
    "\n",
    "利用数学归纳法可以把在这个性质推广到有限多个相互独立的随机变量情形.\n",
    "\n",
    "一般地, 设 $X_1, X_2, \\cdots, X_n$ 相互独立, 则\n",
    "\n",
    "$$\n",
    "E( X_1  X_2 \\cdots X_n) = E(X_1)E(X_2)\\cdots E(X_n).\n",
    "$$"
   ]
  },
  {
   "cell_type": "markdown",
   "metadata": {
    "slideshow": {
     "slide_type": "subslide"
    }
   },
   "source": [
    "反例\n",
    "\n",
    "|$Y$\\ $P_{ij}$ \\ $X$ | $-1$ | $0$ | $1$ | $p_j$ |\n",
    "|-----|------|-------|------|-----|------|\n",
    "| $-1$ | $\\frac{1}{8}$ | $\\frac{1}{8}$ | $\\frac{1}{8}$ | $\\frac{3}{8}$|\n",
    "| $0$ | $\\frac{1}{8}$ | $0$ | $\\frac{1}{8}$ | $\\frac{2}{8}$ |\n",
    "| $1$ | $\\frac{1}{8}$ | $\\frac{1}{8}$ | $\\frac{1}{8}$ | $\\frac{3}{8}$ |\n",
    "| $P_i$ | $\\frac{3}{8}$ | $\\frac{2}{8}$ | $\\frac{3}{8}$ ||"
   ]
  },
  {
   "cell_type": "markdown",
   "metadata": {
    "slideshow": {
     "slide_type": "subslide"
    }
   },
   "source": [
    "| $X$ \\ $Y$ | $-1$ | $0$ | $1$ |\n",
    "|------|------|------|------|\n",
    "| $P$ | $\\frac{2}{8}$| $\\frac{4}{8}$ |  $\\frac{2}{8}$ |\n",
    "\n",
    "$$\n",
    "E(X) = E(Y) = 0;\\\\\n",
    "E(X Y) = 0;\\\\\n",
    "E(X Y) = E(X) E(Y)\n",
    "$$\n",
    "\n",
    "但\n",
    "\n",
    "$$\n",
    "P(X = -1, Y = -1) =  \\frac{1}{8} \\neq P(X = -1)P(Y = -1) =(\\frac{3}{8})^2\n",
    "$$"
   ]
  },
  {
   "cell_type": "markdown",
   "metadata": {
    "slideshow": {
     "slide_type": "slide"
    }
   },
   "source": [
    "#### 5. 数学期望性质的应用\n",
    "\n",
    "**例 15 ** 求二项分布的数学期望, 若 $X \\sim B(n, p)$, 则 $X$ 表示 $n$ 重贝努利试验中的 \"成功\" 次数.\n",
    "\n",
    "现在我们求 $X$ 的数学期望."
   ]
  },
  {
   "cell_type": "markdown",
   "metadata": {
    "slideshow": {
     "slide_type": "subslide"
    }
   },
   "source": [
    "若设 \n",
    "\n",
    "$$\n",
    "X_i = \n",
    "\\begin{cases}\n",
    "1, \\quad 如第 i 次试验成功\\quad i=1, 2, \\cdots, n\\\\\n",
    "\\\\\n",
    "0, \\quad 如第 i 次试验失败\\\\\n",
    "\\end{cases}\n",
    "$$\n",
    "\n",
    "则\n",
    "\n",
    "$$\n",
    "X = X_1 + X_2 + \\cdots + X_n\n",
    "$$"
   ]
  },
  {
   "cell_type": "markdown",
   "metadata": {
    "slideshow": {
     "slide_type": "subslide"
    }
   },
   "source": [
    "因为 \n",
    "\n",
    "$$\n",
    "P(X_i = 1) = p, P(X_i = 0) = 1- p\\\\\n",
    "E(X_i) = 1 \\cdot p + 0 \\cdot (1-p) = p\n",
    "$$\n",
    "\n",
    "所以\n",
    "\n",
    "$$\n",
    "E(X) = \\sum_{i =1}^{n} E(X_i) = np\n",
    "$$\n",
    "\n",
    "可见, 服从参数为 $n$ 和 $p$ 的二项分布的随机变量 $X$ 的数学期望是 $np$."
   ]
  },
  {
   "cell_type": "markdown",
   "metadata": {
    "slideshow": {
     "slide_type": "slide"
    }
   },
   "source": [
    "**例 16** 把数字 $1, 2, \\cdots, n$ 任意地排成一列, 如果数字 $k$ 恰好出现在第 $k$ 个位置上, 则称为一个巧合, 求巧合个数的数学期望."
   ]
  },
  {
   "cell_type": "markdown",
   "metadata": {
    "slideshow": {
     "slide_type": "subslide"
    }
   },
   "source": [
    "**解 :** 设巧合个数为 $X$, 引入\n",
    "\n",
    "$$\n",
    "X_k = \n",
    "\\begin{cases}\n",
    "1, \\quad \\text{数字k恰好出现在第k个位置上}\\\\\n",
    "0, \\quad \\text{否则}\\\\\n",
    "\\end{cases}\n",
    "\\quad\\quad\\quad\\quad k = 1, 2, \\cdots, n\n",
    "$$\n",
    "\n",
    "则 \n",
    "\n",
    "$$\n",
    "X = \\sum_{k =1}^{n} X_k\n",
    "$$"
   ]
  },
  {
   "cell_type": "markdown",
   "metadata": {
    "slideshow": {
     "slide_type": "subslide"
    }
   },
   "source": [
    "由于\n",
    "\n",
    "$$\n",
    "E(X_k) = P(X_k =1) = \\frac{(n-1)!}{n!} = \\frac{1}{n}\n",
    "$$\n",
    "\n",
    "故\n",
    "\n",
    "$$\n",
    "E(X) = \\sum_{k =1}^{n} E(X_k) = n \\cdot \\frac{1}{n} = 1\n",
    "$$"
   ]
  },
  {
   "cell_type": "markdown",
   "metadata": {
    "slideshow": {
     "slide_type": "slide"
    }
   },
   "source": [
    "**例 17** 设甲,乙两人玩必分胜负的赌博游戏, 若游戏的规则不公正, 则两人获胜的概率不等, 假定甲为 $p$, 乙为 $q,p>q, p+q +1$, 为了补偿乙的不利地位, 另行规定两人下的赌注不相等, 甲为 $a$, 乙为 $b, a>b$, 现在的问题是:$a$究竟比 $b$ 大多少, 才能做到公正?"
   ]
  },
  {
   "cell_type": "markdown",
   "metadata": {
    "slideshow": {
     "slide_type": "subslide"
    }
   },
   "source": [
    "**解 :** 设甲赢的钱数为 $X$, 乙赢的钱数为 $Y$,依题意\n",
    "\n",
    "$$\n",
    "X \\sim \n",
    "\\begin{pmatrix}\n",
    "b & -a\\\\\n",
    "p & q\n",
    "\\end{pmatrix}\n",
    "\\quad \n",
    "Y \\sim \n",
    "\\begin{pmatrix}\n",
    "a & -b\\\\\n",
    "q & p\n",
    "\\end{pmatrix}\\\\\n",
    "E(X) = bp+(-a)q,\\quad E(Y)=aq +(-b)p\n",
    "$$\n",
    "\n",
    "为了双方公正, 应有\n",
    "\n",
    "$$\n",
    "bp-aq=aq-bp\n",
    "$$\n",
    "\n",
    "故\n",
    "\n",
    "$$\n",
    "a =\\frac{bp}{q}\n",
    "$$"
   ]
  },
  {
   "cell_type": "markdown",
   "metadata": {
    "slideshow": {
     "slide_type": "slide"
    }
   },
   "source": [
    "#### 小结\n",
    "\n",
    "1. 数学期望是反映随机变量取平均值的数字特征\n",
    "2. 数学期望的计算公式\n",
    "\n",
    "一维情形\n",
    "\n",
    "若 $X$ 为一维离散随机变量, 则 $E(X) = \\sum_i x_ip(x_i)$.\n",
    "\n",
    "若 $X$ 为一维连续随机变量, 则 $E(X) = \\int_{-\\infty}^{+\\infty} xf(x)\\mathrm dx$"
   ]
  },
  {
   "cell_type": "markdown",
   "metadata": {
    "slideshow": {
     "slide_type": "subslide"
    }
   },
   "source": [
    "二维情形:\n",
    "\n",
    "若 $(X, Y)$ 为二维离散随机变量, 则\n",
    "\n",
    "$$\n",
    "E(X) = \\sum_i \\sum_j x_i p(x_i, y_j), \\text{ 或 }  E(X) = \\sum_ix_i P_X(x_i)\\\\\n",
    "E(Y) = \\sum_i \\sum_j y_j p(x_i, y_j), \\text{ 或 } E(Y) = \\sum_j y_j P_Y(y_j)\\\\\n",
    "$$"
   ]
  },
  {
   "cell_type": "markdown",
   "metadata": {
    "slideshow": {
     "slide_type": "subslide"
    }
   },
   "source": [
    "若 $(X, Y)$ 为二维连续随机变量, 则\n",
    "\n",
    "$$\n",
    "E(X) = \\int_{-\\infty}^{+\\infty}\\int_{-\\infty}^{+\\infty} x f(x, y) \\mathrm dx \\mathrm dy, \\text{ 或 }E(X) = \\int_{-\\infty}^{+\\infty} x f_X(x, y) \\mathrm dx\\\\\n",
    "E(Y) = \\int_{-\\infty}^{+\\infty} y f(x, y) \\mathrm dx \\mathrm dy, \\text{ 或 } E(Y) = \\int_{-\\infty}^{+\\infty} y f_Y(x, y) \\mathrm dy\n",
    "$$"
   ]
  },
  {
   "cell_type": "markdown",
   "metadata": {
    "slideshow": {
     "slide_type": "slide"
    }
   },
   "source": [
    "**随机变量函数的期望**\n",
    "\n",
    "一维情形:\n",
    "\n",
    "若 $X$ 为一维离散随机变量, 且 $Y=g(X)$, 则\n",
    "\n",
    "$$\n",
    "E(g(X)) = \\sum_i g(x_i)p(x_i).\n",
    "$$\n",
    "\n",
    "若 $X$ 为一维连续随机变量,  且 $Y=g(X)$, 则\n",
    "\n",
    "$$\n",
    "E[g(X)] = \\int_{-\\infty}^{+\\infty} g(x) f(x) \\mathrm dx\n",
    "$$ "
   ]
  },
  {
   "cell_type": "markdown",
   "metadata": {
    "slideshow": {
     "slide_type": "subslide"
    }
   },
   "source": [
    "二维情形:\n",
    "\n",
    "若 $(X, Y)$ 为二维离散随机变量,   且 $Z = g(X, Y)$, 则\n",
    "\n",
    "$$\n",
    "E[g(X, Y)] = \\sum_i \\sum_j g(x_i, y_j) p(x_i, y_j)\n",
    "$$\n",
    "\n",
    "若 $(X, Y)$ 为二维连续随机变量,   且 $Z = g(X, Y)$, 则\n",
    "\n",
    "$$\n",
    "E[g(X, Y)] = \\int_{-\\infty}^{+\\infty}\\int_{-\\infty}^{+\\infty} g(x, y)f(x, y) \\mathrm{dxdy}\n",
    "$$"
   ]
  },
  {
   "cell_type": "markdown",
   "metadata": {
    "slideshow": {
     "slide_type": "slide"
    }
   },
   "source": [
    "**关于数学期望的定理**\n",
    "\n",
    "$\n",
    "E(C) = C, E(CX) = C E(X),\n",
    "E(X + Y) = E(X) + E(Y)\n",
    "$\n",
    "\n",
    "推广: \n",
    "\n",
    "$\n",
    "E(\\sum_{i =1}^{n} X_i) = \\sum_{i =1}^{n} E(X_i)\n",
    "$"
   ]
  },
  {
   "cell_type": "markdown",
   "metadata": {
    "collapsed": true,
    "slideshow": {
     "slide_type": "slide"
    }
   },
   "source": [
    "若 $X, Y$ 独立, 则 $E(XY)= E(X)E(Y)$\n",
    "\n",
    "推广:\n",
    "\n",
    "若 $X_1,X_2, \\cdots, X_n$相互独立时,则 $E(\\prod_{i=1}^{n} X_i) = \\prod_{i =1}^{n} E(X_I)$"
   ]
  },
  {
   "cell_type": "markdown",
   "metadata": {
    "slideshow": {
     "slide_type": "slide"
    }
   },
   "source": [
    "**补充例题**\n",
    "\n",
    "**例 1** 设 $X$ 是一个随机变量, 其概率密度为 \n",
    "\n",
    "$$\n",
    "f(x) = \n",
    "\\begin{cases}\n",
    "1 + x, \\quad -1 \\leq x \\leq 0\\\\\n",
    "1 - x, \\quad 0 < x < 1\\\\\n",
    "0, \\quad  其它\n",
    "\\end{cases}\n",
    "$$\n",
    "\n",
    "求 $E(X)$."
   ]
  },
  {
   "cell_type": "markdown",
   "metadata": {
    "slideshow": {
     "slide_type": "subslide"
    }
   },
   "source": [
    "**解 :** \n",
    "\n",
    "$$\n",
    "\\begin{align}\n",
    "E(X) &= \\int_{-\\infty}^{+\\infty} x f(x) \\mathrm dx\\\\\n",
    "& = \\int_{-1}^0 x(1 + x)\\mathrm dx + \\int_0^1 x(1-x) \\mathrm dx \\\\\n",
    "&= 0\\\\\n",
    "\\end{align}\n",
    "$$"
   ]
  },
  {
   "cell_type": "markdown",
   "metadata": {
    "collapsed": true,
    "slideshow": {
     "slide_type": "slide"
    }
   },
   "source": [
    "**例 2 ** 设随机变量 $X$ 在区间 $[-1, 2]$ 上服从均匀分布, 令\n",
    "\n",
    "$$\n",
    "Y= \n",
    "\\begin{cases}\n",
    "1, \\quad X > 0; \\\\\n",
    "0, \\quad X = 0;\\\\\n",
    "-1, \\quad X < 0;\n",
    "\\end{cases}\n",
    "$$\n",
    "\n",
    "求 $E(Y)$."
   ]
  },
  {
   "cell_type": "markdown",
   "metadata": {
    "slideshow": {
     "slide_type": "subslide"
    }
   },
   "source": [
    "**解 :** 易知 $X$ 的概率密度为\n",
    "\n",
    "$$\n",
    "f(x) = \n",
    "\\begin{cases}\n",
    "\\frac{1}{3}, \\quad -1 \\leq x \\leq 2\\\\\n",
    "0, \\quad 其它\\\\\n",
    "\\end{cases}\n",
    "$$"
   ]
  },
  {
   "cell_type": "markdown",
   "metadata": {
    "collapsed": true,
    "slideshow": {
     "slide_type": "subslide"
    }
   },
   "source": [
    "于是\n",
    "\n",
    "$$\n",
    "\\begin{align}\n",
    " & P(Y = -1) = P(X < 0) = \\int_{-1}^0 \\frac{1}{3} \\mathrm dx = \\frac{1}{3};\\\\\n",
    "& P(Y = 0) = P(X = 0) = 0;\\\\\n",
    "& P(Y = 1) = P(X > 0) = \\int_0^2 \\frac{1}{3} \\mathrm dx = \\frac{2}{3}\n",
    "\\end{align}\n",
    "$$\n",
    "\n",
    "因此 \n",
    "\n",
    "$$\n",
    "E(Y) = (-1) \\times \\frac{1}{3} + 0 \\times 0 + 1 \\times \\frac{2}{3} = \\frac{1}{3}\n",
    "$$"
   ]
  },
  {
   "cell_type": "markdown",
   "metadata": {
    "collapsed": true,
    "slideshow": {
     "slide_type": "slide"
    }
   },
   "source": [
    "**例 3** 设 $X$ 服从参数为 $1$ 的指数分布, 求 $E(X + e^{-2X})$."
   ]
  },
  {
   "cell_type": "markdown",
   "metadata": {
    "slideshow": {
     "slide_type": "fragment"
    }
   },
   "source": [
    "**解 :** 根据题意有 $X$ 的概率密度为\n",
    "\n",
    "$$\n",
    "f(x) = \n",
    "\\begin{cases}\n",
    "e^{-x}, \\quad x > 0\\\\\n",
    "0, \\quad x \\leq 0\n",
    "\\end{cases}\n",
    "$$"
   ]
  },
  {
   "cell_type": "markdown",
   "metadata": {
    "collapsed": true,
    "slideshow": {
     "slide_type": "subslide"
    }
   },
   "source": [
    "则\n",
    "\n",
    "$$\n",
    "\\begin{align}\n",
    "E(X + e^{-2X}) & = \\int_0^{+\\infty} (x + e^{-2x}) e^{-x} \\mathrm dx\\\\\n",
    "& =  \\int_0^{+\\infty} x e^{-x} \\mathrm dx +  \\int_0^{+\\infty} e^{-3x} \\mathrm dx\\\\\n",
    "& = 1 + \\frac{1}{3} \\\\\n",
    "& =\\frac{4}{3}\\\\\n",
    "\\end{align}\n",
    "$$"
   ]
  },
  {
   "cell_type": "markdown",
   "metadata": {
    "collapsed": true,
    "slideshow": {
     "slide_type": "slide"
    }
   },
   "source": [
    "**例 4** 设 $X \\sim N(0, 1), Y \\sim N(0, 1), X, Y$ 相互独立, 求 $E(max(X, Y))$. "
   ]
  },
  {
   "cell_type": "markdown",
   "metadata": {
    "slideshow": {
     "slide_type": "subslide"
    }
   },
   "source": [
    "![](./figures/43.png)\n",
    "\n",
    "$$\n",
    "f(x, y)  = f_X(x) f_Y(y) = \\frac{1}{2 \\pi} e^{-\\frac{x^2 + y^2}{2}}\n",
    "$$"
   ]
  },
  {
   "cell_type": "markdown",
   "metadata": {
    "slideshow": {
     "slide_type": "subslide"
    }
   },
   "source": [
    "**解 :** \n",
    "\n",
    "$$\n",
    "\\begin{align}\n",
    "&E(\\max\\{X, Y\\}) \\\\\n",
    "= &\\int_{-\\infty}^{+\\infty} \\int_{-\\infty}^{+\\infty} \\max\\{x, y\\} f(x, y) \\mathrm {dxdy} \\\\\n",
    " =& \\iint_{D_1} \\max\\{x, y\\} f(x, y) \\mathrm {dxdy} + \\iint_{D_2} max\\{x, y\\} f(x, y) \\mathrm {dxdy}\\\\\n",
    "= & \\iint_{D_1} y \\frac{1}{2 \\pi} e^{-\\frac{x^2 + y^2}{2}} \\mathrm {dxdy} + \\iint_{D_2} x \\frac{1}{2 \\pi} e^{-\\frac{x^2 + y^2}{2}} \\mathrm {dxdy}\n",
    "\\end{align}\n",
    "$$"
   ]
  },
  {
   "cell_type": "markdown",
   "metadata": {
    "slideshow": {
     "slide_type": "subslide"
    }
   },
   "source": [
    "$$\n",
    "\\begin{align}\n",
    "E(\\max\\{X, Y\\}) = &\\frac{1}{2 \\pi} \\int_{-\\infty}^{+\\infty} e^{-\\frac{x^2}{2}} \\mathrm dx \\int_x^{+\\infty} y  e^{-\\frac{y^2}{2}} \\mathrm dy \\\\\n",
    " & + \\frac{1}{2 \\pi} \\int_{-\\infty}^{+\\infty} e^{-\\frac{y^2}{2}} \\mathrm dy \\int_x^{+\\infty} x  e^{-\\frac{x^2}{2}} \\mathrm dx\\\\\n",
    " = &\\frac{1}{\\pi}  \\int_{-\\infty}^{+\\infty} e^{-\\frac{x^2}{2}} \\mathrm dx \\int_x^{+\\infty} y  e^{-\\frac{y^2}{2}} \\mathrm dy\\\\\n",
    " = & \\frac{1}{\\pi}  \\int_{-\\infty}^{+\\infty} e^{x^2} \\mathrm dx\\\\ \n",
    " = & \\frac{1}{\\sqrt \\pi}\n",
    "\\end{align}\n",
    "$$"
   ]
  },
  {
   "cell_type": "markdown",
   "metadata": {
    "collapsed": true,
    "slideshow": {
     "slide_type": "subslide"
    }
   },
   "source": [
    "其中 $ \\int_{-\\infty}^{+\\infty} e^{x^2} \\mathrm dx =\\sqrt \\pi $ 称为**概率积分**.\n",
    "\n",
    "$$\n",
    "\\begin{align}\n",
    "(\\int_{-\\infty}^{+\\infty} e^{x^2} \\mathrm dx)^2 &=\\int_{-\\infty}^{+\\infty} \\int_{-\\infty}^{+\\infty}e^{-(x^2 + y^2)}  \\mathrm {dxdy} \\\\\n",
    "&= 4\\int_0^{+\\infty} \\int_0^{+\\infty}e^{-(x^2 + y^2)}  \\mathrm {dxdy}\\\\\n",
    "&= 4\\int_0^{\\frac{\\pi}{2}} \\mathrm d\\theta \\int_0^{+\\infty} e^{- r^2} \\mathrm dr\\\\\n",
    "&= 4 \\times \\frac{\\pi}{2} \\times \\frac{1}{2} = \\pi\n",
    "\\end{align}\n",
    "$$"
   ]
  },
  {
   "cell_type": "markdown",
   "metadata": {
    "collapsed": true,
    "slideshow": {
     "slide_type": "subslide"
    }
   },
   "source": [
    "一般地, 若 $X \\sim N(\\mu, \\sigma^2), Y \\sim N(\\mu, \\sigma^2)$, $X, Y$ 相互独立, 则\n",
    "\n",
    "$$\n",
    "E(max\\{X, Y\\}) = \\mu + \\frac{\\sigma}{\\sqrt \\pi}\\\\\n",
    "E(min\\{X, Y\\}) = \\mu - \\frac{\\sigma}{\\sqrt \\pi}\n",
    "$$"
   ]
  },
  {
   "cell_type": "markdown",
   "metadata": {
    "collapsed": true,
    "slideshow": {
     "slide_type": "slide"
    }
   },
   "source": [
    "**例 5** 已知离散随机变量 $X$ 服从参数为 $2$ 的泊松分布, 即\n",
    "\n",
    "$$\n",
    "P(X = k) = \\frac{2^k e^{-2}}{k!}, \\quad k = 0,1,2,\\cdots\n",
    "$$\n",
    "\n",
    "求随机变量 $Z = 3X -2$ 的数学期望 $E(Z)$."
   ]
  },
  {
   "cell_type": "markdown",
   "metadata": {
    "collapsed": true,
    "slideshow": {
     "slide_type": "subslide"
    }
   },
   "source": [
    "**解 :** 已知 $X \\sim p(2)$, 则\n",
    "\n",
    "$$\n",
    "E(X) = \\sum_{i =0}^{\\infty} k \\cdot \\frac{2^k e^{-2}}{k!}=2,\n",
    "$$\n",
    "\n",
    "于是\n",
    "\n",
    "$$\n",
    "E(Z) = E(3X - 2) = 3E(X) - 2 = 3 \\times 2 - 2 = 4\n",
    "$$"
   ]
  }
 ],
 "metadata": {
  "celltoolbar": "Slideshow",
  "kernelspec": {
   "display_name": "Python 3",
   "language": "python",
   "name": "python3"
  },
  "language_info": {
   "codemirror_mode": {
    "name": "ipython",
    "version": 3
   },
   "file_extension": ".py",
   "mimetype": "text/x-python",
   "name": "python",
   "nbconvert_exporter": "python",
   "pygments_lexer": "ipython3",
   "version": "3.5.2"
  },
  "livereveal": {
   "scroll": "True",
   "start_slideshow_at": "selected",
   "theme": "sky"
  }
 },
 "nbformat": 4,
 "nbformat_minor": 0
}
