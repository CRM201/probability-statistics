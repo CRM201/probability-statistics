{
 "cells": [
  {
   "cell_type": "markdown",
   "metadata": {
    "slideshow": {
     "slide_type": "slide"
    }
   },
   "source": [
    "### §6.3    正态总体统计量的分布"
   ]
  },
  {
   "cell_type": "markdown",
   "metadata": {
    "slideshow": {
     "slide_type": "subslide"
    }
   },
   "source": [
    "当总体为正态分布时, 教材上给出了 $3$ 个重要的抽样分布定理. 这里我们通常不加证明地叙述. 详细证明都可以在其他参考资料上找到."
   ]
  },
  {
   "cell_type": "markdown",
   "metadata": {
    "slideshow": {
     "slide_type": "slide"
    }
   },
   "source": [
    "**定理 3.1** 设 $X_1,X_2,\\cdots,X_n$ 是取自总体 $X \\sim N(\\mu, \\sigma^2)$ 的样本, $\\bar{X}$ 和 $S^2$ 分别为样本均值和样本方差, 则 $\\bar{X}$ 和 $S^2$ 相互独立, 且有"
   ]
  },
  {
   "cell_type": "markdown",
   "metadata": {
    "slideshow": {
     "slide_type": "fragment"
    }
   },
   "source": [
    "(1) $\\frac{\\bar{X}-\\mu}{\\frac{\\sigma}{\\sqrt{n}}} \\sim N(0, 1)$"
   ]
  },
  {
   "cell_type": "markdown",
   "metadata": {
    "slideshow": {
     "slide_type": "fragment"
    }
   },
   "source": [
    "(2) $\\frac{\\bar{X}-\\mu}{\\frac{S}{\\sqrt{n}}} \\sim t(n-1)$"
   ]
  },
  {
   "cell_type": "markdown",
   "metadata": {
    "slideshow": {
     "slide_type": "subslide"
    }
   },
   "source": [
    "(3) $\\frac{1}{\\sigma^2}\\sum_{i=1}^n (X_i - \\mu)^2 \\sim \\chi^2(n)$"
   ]
  },
  {
   "cell_type": "markdown",
   "metadata": {
    "slideshow": {
     "slide_type": "fragment"
    }
   },
   "source": [
    "(4) $\\frac{(n-1)S^2}{\\sigma^2}=\\frac{1}{\\sigma^2}\\sum_{i=1}^n(X_i - \\bar{X})^2 \\sim \\chi^2(n-1)$"
   ]
  },
  {
   "cell_type": "markdown",
   "metadata": {
    "slideshow": {
     "slide_type": "slide"
    }
   },
   "source": [
    "(1) $\\frac{\\bar{X}-\\mu}{\\frac{\\sigma}{\\sqrt{n}}} \\sim N(0, 1)$"
   ]
  },
  {
   "cell_type": "markdown",
   "metadata": {
    "slideshow": {
     "slide_type": "fragment"
    }
   },
   "source": [
    "**证明:** 因为 $X_1, X_2, \\cdots, X_n$ 独立, 且都服从正态分布 $N(\\mu, \\sigma^2)$, 由正态分布的性质知, $\\bar{X}$ 服从正态分布, 又\n",
    "\n",
    "$$\n",
    "\\begin{align}\n",
    "E(\\bar{X}) =& \\frac{1}{n} \\sum_{i=1}^n E(X_i) = \\mu\\\\\n",
    "D(\\bar{X}) =& \\frac{1}{n^2} \\sum_{i=1}^n D(X_i) = \\frac{\\sigma^2}{n}\n",
    "\\end{align}\n",
    "$$"
   ]
  },
  {
   "cell_type": "markdown",
   "metadata": {
    "collapsed": true,
    "slideshow": {
     "slide_type": "subslide"
    }
   },
   "source": [
    "所以 $\\bar{X} \\sim N(\\mu,  \\frac{\\sigma^2}{n})$, 将 $\\bar{X}$ 标准化得\n",
    "\n",
    "$$\n",
    "U=\\frac{\\bar{X}-\\mu}{\\frac{\\sigma}{\\sqrt{n}}} \\sim N(0, 1)\n",
    "$$"
   ]
  },
  {
   "cell_type": "markdown",
   "metadata": {
    "slideshow": {
     "slide_type": "slide"
    }
   },
   "source": [
    "(3) $\\frac{1}{\\sigma^2}\\sum\\limits_{i=1}^n (X_i - \\mu)^2 \\sim \\chi^2(n)$"
   ]
  },
  {
   "cell_type": "markdown",
   "metadata": {
    "collapsed": true,
    "slideshow": {
     "slide_type": "fragment"
    }
   },
   "source": [
    "**证明:** 令 $Z_i = \\frac{X_i - \\mu}{\\sigma},(i = 1,2,\\cdots, n)$, 那么 $Z_1,Z_2,\\cdots,Z_n$ 独立, 且都服从标准正态分布 $N(0, 1)$, 因此跟根据 $\\chi^2$ 分布的定义知\n",
    "\n",
    "$$\n",
    "\\frac{1}{\\sigma^2}\\sum_{i=1}^n (X_i - \\mu)^2 \\sim \\chi^2(n)\n",
    "$$"
   ]
  },
  {
   "cell_type": "markdown",
   "metadata": {
    "slideshow": {
     "slide_type": "slide"
    }
   },
   "source": [
    "(4) $\\frac{(n-1)S^2}{\\sigma^2}=\\frac{1}{\\sigma^2}\\sum\\limits_{i=1}^n(X_i - \\bar{X})^2 \\sim \\chi^2(n-1)$"
   ]
  },
  {
   "cell_type": "markdown",
   "metadata": {
    "slideshow": {
     "slide_type": "fragment"
    }
   },
   "source": [
    "**证明:** 令 $Z_i = \\frac{X_i - \\mu}{\\sigma},(i = 1,2,\\cdots, n)$, 那么 $Z_1,Z_2,\\cdots,Z_n$ 独立, 且都服从标准正态分布 $N(0, 1)$, 且\n",
    "\n",
    "$$\n",
    "\\bar{Z} = \\frac{1}{n} \\sum_{i=1}^n Z_i = \\frac{\\bar{X}-\\mu}{\\sigma}\n",
    "$$"
   ]
  },
  {
   "cell_type": "markdown",
   "metadata": {
    "slideshow": {
     "slide_type": "subslide"
    }
   },
   "source": [
    "适当选取常数 $c_{ij}(i=1,2,\\cdots,n-1;j=1,2,\\cdots,n)$ 使得矩阵\n",
    "\n",
    "$$\n",
    "C=\n",
    "\\begin{bmatrix}\n",
    "c_{11} & c_{12} & \\cdots &  c_{1n}\\\\\n",
    "c_{21} & c_{22} & \\cdots &  c_{2n}\\\\\n",
    "\\cdots & \\cdots & \\cdots & \\cdots\\\\\n",
    "\\frac{1}{\\sqrt{n}} &\\frac{1}{\\sqrt{n}} &\\cdots & \\frac{1}{\\sqrt{n}} \\\\\n",
    "\\end{bmatrix}\n",
    "$$\n",
    "\n",
    "为正交矩阵,"
   ]
  },
  {
   "cell_type": "markdown",
   "metadata": {
    "slideshow": {
     "slide_type": "subslide"
    }
   },
   "source": [
    "再令\n",
    "\n",
    "$$\n",
    "\\begin{bmatrix}\n",
    "Y_1\\\\\n",
    "Y_2\\\\\n",
    "\\vdots\\\\\n",
    "Y_n\n",
    "\\end{bmatrix}\n",
    "=\n",
    "C \n",
    "\\begin{bmatrix}\n",
    "Z_1\\\\\n",
    "Z_2\\\\\n",
    "\\vdots \\\\\n",
    "Z_n\n",
    "\\end{bmatrix}\n",
    "=\n",
    "\\begin{bmatrix}\n",
    "c_{11} Z_1 + c_{12} Z_2 + \\cdots + c_{1n} Z_n\\\\\n",
    "c_{21} Z_1 + c_{22} Z_2 + \\cdots + c_{2n} Z_n\\\\\n",
    "\\cdots\\cdots\\cdots\\\\\n",
    "\\frac{1}{\\sqrt{n}} Z_1 +\\frac{1}{\\sqrt{n}} Z_2 + \\cdots + \\frac{1}{\\sqrt{n}} Z_n\\\\\n",
    "\\end{bmatrix}\n",
    "$$"
   ]
  },
  {
   "cell_type": "markdown",
   "metadata": {
    "slideshow": {
     "slide_type": "fragment"
    }
   },
   "source": [
    "那么 $Y_1,Y_2,\\cdots,Y_n$ 独立, 且都得服从标准正态分布 $N(0, 1)$, 容易验证:\n",
    "\n",
    "$$\n",
    "\\sum_{i=1}^n Y_i^2 = \\sum_{i=1}^n Z_i^2,\\quad Y_n = \\frac{1}{\\sqrt{n}} \\sum_{i=1}^n Z_i\n",
    "$$"
   ]
  },
  {
   "cell_type": "markdown",
   "metadata": {
    "slideshow": {
     "slide_type": "subslide"
    }
   },
   "source": [
    "所以\n",
    "$$\n",
    "\\frac{\\bar{X}-\\mu}{\\sigma} = \\frac{1}{\\sqrt{n}} Y_n =\\bar{Z}\n",
    "$$"
   ]
  },
  {
   "cell_type": "markdown",
   "metadata": {
    "slideshow": {
     "slide_type": "fragment"
    }
   },
   "source": [
    "且\n",
    "$$\n",
    "\\begin{align}\n",
    "\\frac{(n-1)S^2}{\\sigma^2} &= \\sum_{i=1}^n (\\frac{X_i - \\bar{X}}{\\sigma})^2 = \\sum_{i=1}^n (Z_i - \\bar{Z})^2\\\\\n",
    "&= \\sum_{i=1}^n Z_i^2 - n(\\bar{Z})^2 = \\sum_{i=1}^{n-1} Y_i^2\\\\\n",
    "\\end{align}\n",
    "$$"
   ]
  },
  {
   "cell_type": "markdown",
   "metadata": {
    "collapsed": true,
    "slideshow": {
     "slide_type": "subslide"
    }
   },
   "source": [
    "因此 $\\frac{\\bar{X}-\\mu}{\\sigma}$ 与 $\\frac{(n-1)S^2}{\\sigma^2}$ 相互独立, 且\n",
    "\n",
    "$$\n",
    "\\frac{(n-1)S^2}{\\sigma^2} \\sim \\chi^2(n-1).\n",
    "$$"
   ]
  },
  {
   "cell_type": "markdown",
   "metadata": {
    "slideshow": {
     "slide_type": "slide"
    }
   },
   "source": [
    "(2) $\\frac{\\bar{X}-\\mu}{\\frac{S}{\\sqrt{n}}} \\sim t(n-1)$"
   ]
  },
  {
   "cell_type": "markdown",
   "metadata": {
    "slideshow": {
     "slide_type": "fragment"
    }
   },
   "source": [
    "**证明:** 由 (1) 和 (4) 得\n",
    "\n",
    "$$\n",
    "\\frac{\\bar{X}-\\mu}{\\frac{\\sigma}{\\sqrt{n}}} \\sim N(0, 1),\\quad \\frac{(n-1)S^2}{\\sigma^2} \\sim \\chi^2(n-1)\n",
    "$$\n",
    "\n",
    "且两者相互独立,"
   ]
  },
  {
   "cell_type": "markdown",
   "metadata": {
    "slideshow": {
     "slide_type": "subslide"
    }
   },
   "source": [
    "由 $t$ 分布的定义得\n",
    "\n",
    "$$\n",
    "\\frac{\\frac{\\bar{X}-\\mu}{\\frac{\\sigma}{\\sqrt{n}}}}{\\sqrt{\\frac{(n-1)S^2}{\\sigma^2(n-1)}}} \\sim t(n-1)\n",
    "$$"
   ]
  },
  {
   "cell_type": "markdown",
   "metadata": {
    "collapsed": true,
    "slideshow": {
     "slide_type": "fragment"
    }
   },
   "source": [
    "即 \n",
    "\n",
    "$$\n",
    "\\frac{\\bar{X}-\\mu}{\\frac{S}{\\sqrt{n}}} \\sim t(n-1).\n",
    "$$"
   ]
  },
  {
   "cell_type": "markdown",
   "metadata": {
    "collapsed": true,
    "slideshow": {
     "slide_type": "slide"
    }
   },
   "source": [
    "设 $X \\sim N(\\mu_1, \\sigma^2)$, $Y \\sim N(\\mu_2, \\sigma^2)$ 且 $X$ 与 $Y$ 独立, $X_1,X_2,\\cdots, X_n$ 是取自 $X$ 的样本, $Y_1,Y_2, \\cdots,Y_m$ 是取自 $Y$ 的样本, $\\bar{X}$ 和 $\\bar{Y}$ 分别是这两个样本的样本均值, $S_1^2$ 和 $S_2^2$ 分别是这两个样本的样本方差."
   ]
  },
  {
   "cell_type": "markdown",
   "metadata": {
    "slideshow": {
     "slide_type": "slide"
    }
   },
   "source": [
    "**定理3.2** 设 $X \\sim N(\\mu_1, \\sigma^2), Y \\sim N(\\mu_2, \\sigma^2)$ 且 $X$ 与 $Y$ 独立, 则有"
   ]
  },
  {
   "cell_type": "markdown",
   "metadata": {
    "slideshow": {
     "slide_type": "fragment"
    }
   },
   "source": [
    "(1) $\\frac{S_2^2}{S_2^2} \\sim F(n-1, m-1)$"
   ]
  },
  {
   "cell_type": "markdown",
   "metadata": {
    "collapsed": true,
    "slideshow": {
     "slide_type": "fragment"
    }
   },
   "source": [
    "(2) $\\frac{(\\bar{X}-\\bar{Y})-(\\mu_1 - \\mu_2)}{S_W \\sqrt{\\frac{1}{n} +\\frac{1}{m}}} \\sim t(n+m-2)$\n",
    "\n",
    "其中 $S_W^2 = \\frac{(n-1)S_1^2+(m-1)S_2^2}{n+m-2}, S_W = \\sqrt{S_W^2}.$"
   ]
  },
  {
   "cell_type": "markdown",
   "metadata": {
    "slideshow": {
     "slide_type": "slide"
    }
   },
   "source": [
    "(1) $\\frac{S_2^2}{S_2^2} \\sim F(n-1, m-1)$\n",
    "\n",
    "**证明** 有定理3.1 得\n",
    "\n",
    "$$\n",
    "\\frac{(n-1)S_1^2}{\\sigma^2} \\sim \\chi^2(n-1), \\quad \\frac{(m-1)S_2^2}{\\sigma^2} \\sim \\chi^2(m-1)\n",
    "$$\n",
    "\n",
    "且它们相互独立, "
   ]
  },
  {
   "cell_type": "markdown",
   "metadata": {
    "slideshow": {
     "slide_type": "subslide"
    }
   },
   "source": [
    "由 $F$ 分布的定义得\n",
    "\n",
    "$$\n",
    "\\frac{\\frac{\\frac{(n-1)S_1^2}{\\sigma^2}}{n-1}}{\\frac{\\frac{(m-1)S_2^2}{\\sigma^2}}{m-1}} \\sim F(n-1, m-1)\n",
    "$$"
   ]
  },
  {
   "cell_type": "markdown",
   "metadata": {
    "collapsed": true,
    "slideshow": {
     "slide_type": "fragment"
    }
   },
   "source": [
    "即 \n",
    "\n",
    "$$\n",
    "\\frac{S_1^2}{S_2^2} \\sim F(n-1, m-1)\n",
    "$$"
   ]
  },
  {
   "cell_type": "markdown",
   "metadata": {
    "slideshow": {
     "slide_type": "slide"
    }
   },
   "source": [
    "(2) $\\frac{(\\bar{X}-\\bar{Y})-(\\mu_1 - \\mu_2)}{S_W \\sqrt{\\frac{1}{n} +\\frac{1}{m}}} \\sim t(n+m-2)$\n",
    "\n",
    "**证明:** 由定理3.1得\n",
    "$$\n",
    "\\bar{X} \\sim N(\\mu_1, \\frac{\\sigma^2}{n}), \\bar{Y} \\sim N(\\mu_2, \\frac{\\sigma^2}{m})\n",
    "$$\n",
    "\n",
    "由于 $\\bar{X}$ 与 $\\bar{Y}$ 相互独立, 故 $\\bar{X}-\\bar{Y}$ 服从正态分布, 不难计算出 \n",
    "\n",
    "$$\n",
    "E(\\bar{X}-\\bar{Y}) =\\mu_1 - \\mu_2,\\quad D(\\bar{X}-\\bar{Y}) = (\\frac{1}{n}+\\frac{1}{m})\\sigma^2\n",
    "$$"
   ]
  },
  {
   "cell_type": "markdown",
   "metadata": {
    "slideshow": {
     "slide_type": "subslide"
    }
   },
   "source": [
    "于是\n",
    "$$\n",
    "\\bar{X}-\\bar{Y} \\sim N(\\mu_1-\\mu_2, \\frac{\\sigma^2}{n}+\\frac{\\sigma^2}{m})\n",
    "$$\n",
    "\n",
    "将 $\\bar{X}-\\bar{Y}$ 标准化得\n",
    "\n",
    "$$\n",
    "U= \\frac{(\\bar{X}-\\bar{Y})-(\\mu_1 - \\mu_2)}{\\sigma \\sqrt{\\frac{1}{n}+\\frac{1}{m}}} \\sim N(0, 1)\n",
    "$$"
   ]
  },
  {
   "cell_type": "markdown",
   "metadata": {
    "slideshow": {
     "slide_type": "subslide"
    }
   },
   "source": [
    "由定理3.1 得\n",
    "\n",
    "$$\n",
    "\\frac{(n-1)S_1^2}{\\sigma^2} \\sim \\chi^2(n-1), \\quad \\frac{(m-1)S_2^2}{\\sigma^2} \\sim \\chi^2(m-1)\n",
    "$$\n",
    "\n",
    "且它们相互独立, 故由 $\\chi^2$ 分布的可加性知\n",
    "\n",
    "$$\n",
    "\\chi^2 = \\frac{(n-1)S_1^2}{\\sigma^2}+\\frac{(m-1)S_2^2}{\\sigma^2} \\sim \\chi^2(n+m-2)\n",
    "$$"
   ]
  },
  {
   "cell_type": "markdown",
   "metadata": {
    "collapsed": true,
    "slideshow": {
     "slide_type": "subslide"
    }
   },
   "source": [
    "容易看出 $U$ 与 $\\chi^2$ 相互独立, 由 $t$ 分布的定义得\n",
    "\n",
    "$$\n",
    "t = \\frac{U}{\\sqrt{\\frac{\\chi^2}{n+m-2}}} = \\frac{(\\bar{X}-\\bar{Y})-(\\mu_1 - \\mu_2)}{S_W \\sqrt{\\frac{1}{n} +\\frac{1}{m}}} \\sim t(n+m-2)\n",
    "$$"
   ]
  },
  {
   "cell_type": "markdown",
   "metadata": {
    "slideshow": {
     "slide_type": "slide"
    }
   },
   "source": [
    "**定理 3.3** 设 $X \\sim N(\\mu_1, \\sigma_1^2), Y \\sim N(\\mu_2, \\sigma_2^2)$ 且 $X$ 与 $Y$ 独立, 则有"
   ]
  },
  {
   "cell_type": "markdown",
   "metadata": {
    "slideshow": {
     "slide_type": "fragment"
    }
   },
   "source": [
    "(1) $\\frac{(\\bar{X}-\\bar{Y})-(\\mu_1 - \\mu_2)}{\\sqrt{\\frac{\\sigma_1^2}{n}+\\frac{\\sigma_2^2}{m}}} \\sim N(0, 1);$"
   ]
  },
  {
   "cell_type": "markdown",
   "metadata": {
    "collapsed": true,
    "slideshow": {
     "slide_type": "fragment"
    }
   },
   "source": [
    "(2) $\\frac{S_1^2/\\sigma_1^2}{S_2^2/\\sigma_2^2} \\sim F(n-1, m-1)$."
   ]
  },
  {
   "cell_type": "markdown",
   "metadata": {
    "slideshow": {
     "slide_type": "slide"
    }
   },
   "source": [
    "(1) $\\frac{(\\bar{X}-\\bar{Y})-(\\mu_1 - \\mu_2)}{\\sqrt{\\frac{\\sigma_1^2}{n}+\\frac{\\sigma_2^2}{m}}} \\sim N(0, 1)$\n",
    "\n",
    "**证明:** 有定理3.1得\n",
    "$$\n",
    "\\bar{X} \\sim N(\\mu_1, \\frac{\\sigma_1^2}{n}),\\quad \\bar{Y} \\sim N(\\mu_2, \\frac{\\sigma_2^2}{m})\n",
    "$$\n",
    "\n",
    "由于 $\\bar{X}$ 与 $\\bar{Y}$ 相互独立, 故 $\\bar{X} - \\bar{Y}$ 服从正态分布"
   ]
  },
  {
   "cell_type": "markdown",
   "metadata": {
    "slideshow": {
     "slide_type": "subslide"
    }
   },
   "source": [
    "不难计算出\n",
    "$$\n",
    "E(\\bar{X} - \\bar{Y}) = \\mu_1 - \\mu_2,\\quad  D(\\bar{X} - \\bar{Y}) = \\frac{\\sigma_1^2}{n}+\\frac{\\sigma_2^2}{m}\n",
    "$$\n",
    "\n",
    "于是\n",
    "$$\n",
    "\\bar{X} - \\bar{Y} \\sim N( \\mu_1 - \\mu_2, \\frac{\\sigma_1^2}{n}+\\frac{\\sigma_2^2}{m})\n",
    "$$"
   ]
  },
  {
   "cell_type": "markdown",
   "metadata": {
    "collapsed": true,
    "slideshow": {
     "slide_type": "subslide"
    }
   },
   "source": [
    "将 $\\bar{X} - \\bar{Y}$ 标准化得\n",
    "$$\n",
    "U=\\frac{(\\bar{X}-\\bar{Y})-(\\mu_1 - \\mu_2)}{\\sqrt{\\frac{\\sigma_1^2}{n}+\\frac{\\sigma_2^2}{m}}} \\sim N(0, 1).\n",
    "$$"
   ]
  },
  {
   "cell_type": "markdown",
   "metadata": {
    "slideshow": {
     "slide_type": "slide"
    }
   },
   "source": [
    "(2) $\\frac{S_1^2/\\sigma_1^2}{S_2^2/\\sigma_2^2} \\sim F(n-1, m-1)$\n",
    "\n",
    "**证明:** 由定理3.1得\n",
    "$$\n",
    "\\frac{(n-1)S_1^2}{\\sigma_1^2} \\sim \\chi^2(n-1),\\quad \\frac{(m-1)S_2^2}{\\sigma_2^2} \\sim \\chi^2(m-1)\n",
    "$$\n",
    "\n",
    "由于两样本相互独立, 故 $S_1^2$ 与 $S_2^2$ 相互独立, "
   ]
  },
  {
   "cell_type": "markdown",
   "metadata": {
    "collapsed": true,
    "slideshow": {
     "slide_type": "subslide"
    }
   },
   "source": [
    "根据 $F$ 分布的定义得\n",
    "\n",
    "$$\n",
    "F=\\frac{\\frac{\\frac{(n-1)S_1^2}{\\sigma^2}}{n-1}}{\\frac{\\frac{(m-1)S_2^2}{\\sigma^2}}{m-1}} =\\frac{S_1^2/\\sigma_1^2}{S_2^2/\\sigma_2^2} \\sim F(n-1, m-1).\n",
    "$$"
   ]
  },
  {
   "cell_type": "markdown",
   "metadata": {
    "collapsed": true,
    "slideshow": {
     "slide_type": "slide"
    }
   },
   "source": [
    "**例 1** 设总体 $X$ 服从正态分布 $N(\\mu, \\sigma^2)$, 从中抽取容量为 $16$ 的样本, 试在:\n",
    "\n",
    "(1) 已知 $\\sigma^2 = 25$;\n",
    "\n",
    "(2) $\\sigma^2$ 未知, 但已知样本方差 $S^2 = 20.8$ 的情况下, 求样本均值 $\\bar{X}$ 与总体均值 $\\mu$ 之差的绝对值小于 $2$ 的概率."
   ]
  },
  {
   "cell_type": "markdown",
   "metadata": {
    "slideshow": {
     "slide_type": "subslide"
    }
   },
   "source": [
    "**解 :** \n",
    "(1) 由于统计量 $\\frac{\\bar{X}-\\mu}{\\frac{\\sigma}{\\sqrt{n}}} \\sim N(0, 1)$,\n",
    "\n",
    "$$\n",
    "\\begin{align}\n",
    "P\\{|\\bar{X}-\\mu|<2 \\} &= P \\{\\frac{|\\bar{X}-\\mu|}{\\frac{\\sigma}{\\sqrt{n}}}<\\frac{2}{\\frac{\\sigma}{\\sqrt{n}}}\\} \\\\\n",
    "&= P\\{\\frac{|\\bar{X}-\\mu|}{5/4}<\\frac{2}{5/4}\\}\\\\\n",
    "&= P\\{\\frac{|\\bar{X}-\\mu|}{5/4}<1.6\\} = \\Phi(1.6)-\\Phi(-1.6)\\\\\n",
    "&= 2\\Phi(1.6)-1 = 2 \\times 0.9452 -1\\\\\n",
    "&= 0.8904\\\\\n",
    "\\end{align}\n",
    "$$"
   ]
  },
  {
   "cell_type": "markdown",
   "metadata": {
    "slideshow": {
     "slide_type": "subslide"
    }
   },
   "source": [
    "(2) 由于 $\\sigma^2$ 未知, 但 $S^2=20.8$, 这时统计量\n",
    "\n",
    "$$\n",
    "T=\\frac{\\bar{X}-\\mu}{\\frac{S}{\\sqrt{n}}} \\sim t(n-1)\n",
    "$$"
   ]
  },
  {
   "cell_type": "markdown",
   "metadata": {
    "slideshow": {
     "slide_type": "subslide"
    }
   },
   "source": [
    "于是\n",
    "\n",
    "$$\n",
    "\\begin{align}\n",
    "P\\{|\\bar{X}-\\mu|<2 \\} &= P \\{\\frac{|\\bar{X}-\\mu|}{\\frac{S}{\\sqrt{n}}}<\\frac{2}{\\frac{S}{\\sqrt{n}}}\\} \\\\\n",
    "&= P\\{\\frac{|\\bar{X}-\\mu|}{\\frac{S}{\\sqrt{n}}}<\\frac{2}{\\frac{4.56}{\\sqrt{16}}}\\}\\\\\n",
    "&= P\\{|T|<1.754\\}\\\\\n",
    "&= 1- [ P\\{|T|\\geq 1.754\\}]\n",
    "\\end{align}\n",
    "$$"
   ]
  },
  {
   "cell_type": "markdown",
   "metadata": {
    "collapsed": true,
    "slideshow": {
     "slide_type": "subslide"
    }
   },
   "source": [
    "因为 $t_{0.05} (16-1)=1.753$\n",
    "\n",
    "所以 \n",
    "\n",
    "$$\n",
    "P\\{|\\bar{X}-\\mu|<2\\} \\approx 1-0.05=0.95.\n",
    "$$"
   ]
  },
  {
   "cell_type": "markdown",
   "metadata": {
    "collapsed": true,
    "slideshow": {
     "slide_type": "slide"
    }
   },
   "source": [
    "**例 2** 设总体 $X$ 服从正态分布 $N(12,\\sigma^2)$, 抽取容量为 $25$ 的样本, 求样本均值 $\\bar{X}$ 大于 $12.5$ 的概率. 如果\n",
    "\n",
    "(1) 已知 $\\sigma =2$;\n",
    "\n",
    "(2) $\\sigma$ 未知, 但已知样本方差 $S^2 = 5.57$."
   ]
  },
  {
   "cell_type": "markdown",
   "metadata": {
    "collapsed": true,
    "slideshow": {
     "slide_type": "subslide"
    }
   },
   "source": [
    "**解 :** (1)\n",
    "$$\n",
    "\\begin{align}\n",
    "P\\{\\bar{X} > 12.5\\} &= P\\{\\frac{\\bar{X}-12}{2/\\sqrt{25}}>\\frac{12.5-12}{2/\\sqrt{25}}\\}\\\\\n",
    "&= P\\{\\frac{\\bar{X}-12}{0.4}>1.25\\}\\\\\n",
    "&= 1 - \\Phi(1.25)\\\\\n",
    "&=0.1063\\\\\n",
    "\\end{align}\n",
    "$$"
   ]
  },
  {
   "cell_type": "markdown",
   "metadata": {
    "collapsed": true,
    "slideshow": {
     "slide_type": "subslide"
    }
   },
   "source": [
    "(2) $P\\{\\bar{X} > 12.5\\} = P\\{\\frac{\\bar{X}-12}{S/\\sqrt{25}}> \\frac{12.5}{S/\\sqrt{25}}\\}=P\\{ T > 1.059 \\}$\n",
    "\n",
    "查自由度为 $24$ 的 $t$ 分布表有 $t_{0.15}(24) = 1.059$, 即\n",
    "\n",
    "$$\n",
    "P\\{T > 1.059\\} = 0.15\n",
    "$$\n",
    "\n",
    "故有 $P\\{\\bar{X} > 12.5\\}=0.15$"
   ]
  },
  {
   "cell_type": "markdown",
   "metadata": {
    "collapsed": true,
    "slideshow": {
     "slide_type": "slide"
    }
   },
   "source": [
    "**例 3** 从正态总体 $X \\sim N(\\mu, 0.5^2)$ 中抽取样本 $X_1,X_2,\\cdots,X_{10}$.\n",
    "\n",
    "(1) 已知 $\\mu = 0$, 求概率 $P\\{\\sum\\limits_{i=1}^{10} X_i^2 \\geq 4\\};$\n",
    "\n",
    "(2) $\\mu$ 未知, 求概率 $P\\{\\sum\\limits_{i=1}^{10}(X_i - \\bar{X})^2\\}.$"
   ]
  },
  {
   "cell_type": "markdown",
   "metadata": {
    "collapsed": true,
    "slideshow": {
     "slide_type": "subslide"
    }
   },
   "source": [
    "**解 :** \n",
    "(1) 由 $\\mu = 0$, 有 $X_i / 0.5 \\sim N(0, 1)$, 则 \n",
    "\n",
    "$$\n",
    "\\begin{align}\n",
    "Y^2 =& \\frac{1}{0.5^2} \\sum_{i=1}^{10} X_i^2 \\sim \\chi^2(10)\\\\\n",
    "P\\{\\sum_{i=1}^{10} X_i^2 \\geq 4\\} =& P\\{\\frac{1}{0.5^2} \\sum_{i=1}^{10} X_i^2 \\geq \\frac{4}{0.5^2}\\} = P\\{Y^2 \\geq 16\\}\n",
    "\\end{align}\n",
    "$$\n",
    "\n",
    "查表求 $\\chi^2_{0.10} (10) =16$. 由此可得 $P\\{\\sum\\limits_{i=1}^{10} X_i^2 \\geq 4\\} =0.10$."
   ]
  },
  {
   "cell_type": "markdown",
   "metadata": {
    "slideshow": {
     "slide_type": "subslide"
    }
   },
   "source": [
    "(2) 由题设和定理结论知\n",
    "\n",
    "$$\n",
    "Z = \\frac{9 S^2}{0.5^2} = \\frac{1}{0.5^2}\\sum_{i=1}^{10} (X_i - \\bar{X})^2 \\sim \\chi^2(9)\\\\\n",
    "\\begin{align}\n",
    "P\\{\\sum_{i=1}^{10}(X_i - \\bar{X})^2 \\geq \\frac{2.85}{0.5^2}\\}=& P\\{\\frac{1}{0.5^2}\\sum_{i=1}^{10}(X_i-\\bar{X})\\geq \\frac{2.85}{0.5^2}\\}\\\\\n",
    "=& P\\{Z^2 \\geq 11.4\\}\n",
    "\\end{align}\n",
    "$$"
   ]
  },
  {
   "cell_type": "markdown",
   "metadata": {
    "collapsed": true,
    "slideshow": {
     "slide_type": "subslide"
    }
   },
   "source": [
    "查表得 $\\chi^2_{0.25} (9) = 11.4$, 由此可求得\n",
    "\n",
    "$$\n",
    "P\\{\\sum_{i=1}^{10}(X_i - \\bar{X})^2 \\geq 2.85\\} = 0.25.\n",
    "$$"
   ]
  },
  {
   "cell_type": "markdown",
   "metadata": {
    "collapsed": true,
    "slideshow": {
     "slide_type": "slide"
    }
   },
   "source": [
    "**例 4** 设总体 $X \\sim P(\\lambda)$, $X_1,X_2,\\cdots,X_n$ 是一个样本:\n",
    "\n",
    "(1) 求出 $X_1,X_2,\\cdots,X_n$ 的概率分布;\n",
    "\n",
    "(2) 计算 $E(\\bar{X}), D(\\bar{X}),E(S^2)$."
   ]
  },
  {
   "cell_type": "markdown",
   "metadata": {
    "collapsed": true,
    "slideshow": {
     "slide_type": "subslide"
    }
   },
   "source": [
    "**解 :** \n",
    "(1) 由于\n",
    "$$\n",
    "P\\{X_i = x_i\\} = \\frac{\\lambda^{x_i}}{x_i!} e^{-\\lambda}, x_i =0,1,2,\\cdots, \\lambda >0\n",
    "$$\n",
    "\n",
    "因此样本 $X_1,X_2,\\cdots,X_n$ 的概率分布为\n",
    "\n",
    "$$\n",
    "\\prod_{i=1}^{n} P\\{X_i = x_i\\} = \\prod_{i=1}^{n} \\frac{\\lambda^{x_i}}{x_i!} e^{-\\lambda} =\\frac{e^{-n \\lambda}\\lambda^{\\sum_{i=1}^n x_i}}{\\prod_{i=1}^{n} x_i!}\n",
    "$$"
   ]
  },
  {
   "cell_type": "markdown",
   "metadata": {
    "collapsed": true,
    "slideshow": {
     "slide_type": "subslide"
    }
   },
   "source": [
    "(2) 由于 $E(X) = D(X) = \\lambda$, 则有\n",
    "\n",
    "$$\n",
    "\\begin{align}\n",
    "E(\\bar{X}) =& E(X) = \\lambda,\\\\\n",
    "D(\\bar{X}) =& \\frac{D(X)}{n} = \\frac{\\lambda}{n}\\\\\n",
    "E(S^2) =& E[\\frac{1}{n-1} \\sum_{i=1}^n (X_i - \\bar{X})^2] = \\lambda\n",
    "\\end{align}\n",
    "$$"
   ]
  },
  {
   "cell_type": "markdown",
   "metadata": {
    "collapsed": true,
    "slideshow": {
     "slide_type": "slide"
    }
   },
   "source": [
    "**例 5** 设总体 \n",
    "$$\n",
    "X \\sim N(80, 20^2)\n",
    "$$\n",
    "\n",
    "随机抽查一容量为 $100$ 的样本, 求样本均值与总体均值的差的绝对值大于 $3$ 的概率, 已知 $\\Phi (1.5) = 0.9332$."
   ]
  },
  {
   "cell_type": "markdown",
   "metadata": {
    "slideshow": {
     "slide_type": "subslide"
    }
   },
   "source": [
    "**解 :** 由于 $X \\sim N(80, 20^2), n=100$, 所以\n",
    "\n",
    "$$\n",
    "\\bar{X} \\sim N(80, \\frac{1}{100} \\cdot 20^2) = N(80, 4)\n",
    "$$\n",
    "\n",
    "从而\n",
    "$$\n",
    "\\frac{\\bar{X}-80}{2} \\sim N(0, 1)\n",
    "$$"
   ]
  },
  {
   "cell_type": "markdown",
   "metadata": {
    "collapsed": true,
    "slideshow": {
     "slide_type": "subslide"
    }
   },
   "source": [
    "所以\n",
    "\n",
    "$$\n",
    "\\begin{align}\n",
    "P\\{|\\bar{X} - 80| > 3\\} &= 1-P\\{|\\bar{X} - 80| \\leq 3\\}\\\\\n",
    "&= 1 - P\\{\\frac{|\\bar{X} - 80|}{2} > \\frac{3}{2}\\}\\\\\n",
    "&= 1-[2\\Phi(1.5)-1]\\\\\n",
    "&= 2[1-\\Phi(1.5)]\\\\\n",
    "&= 0.1336\\\\\n",
    "\\end{align}\n",
    "$$"
   ]
  },
  {
   "cell_type": "markdown",
   "metadata": {},
   "source": [
    "**作业：**\n",
    "Page 122： 5, 8 "
   ]
  }
 ],
 "metadata": {
  "celltoolbar": "Slideshow",
  "kernelspec": {
   "display_name": "Python 3",
   "language": "python",
   "name": "python3"
  },
  "language_info": {
   "codemirror_mode": {
    "name": "ipython",
    "version": 3
   },
   "file_extension": ".py",
   "mimetype": "text/x-python",
   "name": "python",
   "nbconvert_exporter": "python",
   "pygments_lexer": "ipython3",
   "version": "3.5.2"
  },
  "livereveal": {
   "height": 768,
   "scroll": "True",
   "slideNumber": "True",
   "start_slideshow_at": "selected",
   "theme": "sky",
   "width": 1024
  }
 },
 "nbformat": 4,
 "nbformat_minor": 1
}
