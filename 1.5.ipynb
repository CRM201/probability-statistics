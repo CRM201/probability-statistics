{
 "cells": [
  {
   "cell_type": "markdown",
   "metadata": {},
   "source": [
    "## §1.5 概率加法定理"
   ]
  },
  {
   "cell_type": "markdown",
   "metadata": {},
   "source": [
    "### 1.互不相容事件的加法定理"
   ]
  },
  {
   "cell_type": "markdown",
   "metadata": {},
   "source": [
    "**定理1** 两个互不相容事件的并的概率等于这两个事件的概率的和：\n",
    "\n",
    "$$\n",
    "{\\color{Red}{P(A+B)=P(A)+P(B)}}.\n",
    "$$\n",
    "\n",
    "**证：** 设样本空间 $\\Omega$ 共有 $N$ 个等可能的基本事件， 事件 $A$ 包含 $M_1$ 个基本事件， 事件 $B$ 包含 $M_2$ 个基本事件， 由 $A$ 与 $B$  的互不相容性， $A+B$ 包含 $M_1+M_2$ 个基本事件，所以\n",
    "\n",
    "$$\n",
    "P(A+B)=\\frac{M_1+M_2}{N}=\\frac{M_1}{N}+\\frac{M_2}{N}=P(A)+P(B).\n",
    "$$"
   ]
  },
  {
   "cell_type": "markdown",
   "metadata": {},
   "source": [
    "**定理２** 有限个互不相容事件的并的概率等于这些事件的概率的和：\n",
    "\n",
    "$$\n",
    "{\\color{Red}{P(\\sum_{i=1}^n A_i)=\\sum_{i=1}^nP(A_i)}}\n",
    "$$\n",
    "\n",
    "**推论１** 如果事件 $A_1$, $A_2$ ,$\\cdots$, $A_n$ 构成互不相容的完备事件组， 则\n",
    "\n",
    "$$\n",
    "{\\color{Red}{P(\\sum_{i=1}^n A_i)=1}}\n",
    "$$\n",
    "\n",
    "**推论2** 对立事件的概率的和等于一：\n",
    "\n",
    "$$\n",
    "{\\color{Red}{P(A)+p(\\bar{A})=1}}\n",
    "$$"
   ]
  },
  {
   "cell_type": "markdown",
   "metadata": {
    "collapsed": true
   },
   "source": [
    "**例1** 一批产品共有 50 个, 其中 45 个是合格品, 5 个是次品, 从这批产品中任取 3 个,求其中有次品的概率."
   ]
  },
  {
   "cell_type": "markdown",
   "metadata": {},
   "source": [
    "**解：**设 ${\\color{Blue}A}$ 表示取出的 3 个产品中有次品， ${\\color{Blue}{A_i}}$ 表示取出的 3 个产品中恰好有 ${\\color{Blue}i}$ 个次品（$i$ = 1,2,3), 于是\n",
    "\n",
    "$$\n",
    "A=A_1+A_2+A_3,\n",
    "$$\n",
    "\n",
    "又\n",
    "\n",
    "$$\n",
    "P(A_1)=\\frac{C_5^1C_{45}^2}{C_{50}^3}\\approx0.2526\\\\\n",
    "P(A_2)=\\frac{C_5^2C_{45}^1}{C_{50}^3}\\approx0.0230\\\\\n",
    "P(A_3)=\\frac{C_5^3}{C_{50}^3}\\approx0.0005\\\\\n",
    "$$\n",
    "\n",
    "于是， 根据加法定理， 得\n",
    "\n",
    "$$\n",
    "P(A)=P(A_1)+P(A_2)+P(A_3)\\approx0.276\n",
    "$$"
   ]
  },
  {
   "cell_type": "markdown",
   "metadata": {},
   "source": [
    "**解法２** $A$ 的对立事件  $\\bar{A}$ 是取出的 3 个产品全是合格品，\n",
    "\n",
    "显然\n",
    "\n",
    "$$\n",
    "P(\\bar{A})=\\frac{C_{45}^3}{C_{50}^3}\\approx0.724\\\\\n",
    "$$\n",
    "\n",
    "于是\n",
    "\n",
    "$$\n",
    "P(A)=1-P(\\bar{A})\\approx0.276\n",
    "$$"
   ]
  },
  {
   "cell_type": "markdown",
   "metadata": {},
   "source": [
    "### 2.一般概率加法定理"
   ]
  },
  {
   "cell_type": "markdown",
   "metadata": {},
   "source": [
    "**定理3** 任意二事件的并的概率, 等于这二事件的概率的和减去这二事件的交的概率：\n",
    "\n",
    "$$\n",
    "{\\color{Red}{P(A\\cup B)=P(A)+P(B)-P(AB)}}\n",
    "$$"
   ]
  },
  {
   "cell_type": "markdown",
   "metadata": {},
   "source": [
    "**证：**\n",
    "\n",
    "$$\n",
    "A \\cup B=A\\bar{B}+\\bar{A}B+AB,\n",
    "$$\n",
    "\n",
    "于是\n",
    "\n",
    "$$\n",
    "P(A\\cup B)=P(A\\bar{B})+P(\\bar{A}B)+P(AB).\n",
    "$$\n",
    "\n",
    "又\n",
    "\n",
    "$$\n",
    "A=AB+A\\bar{B},P(A)=P(AB)+P(A\\bar{B}),\n",
    "$$\n",
    "\n",
    "于是\n",
    "\n",
    "$$\n",
    "P(A\\bar{B})＝P(A)－P(AB),\n",
    "$$\n",
    "\n",
    "同理\n",
    "\n",
    "$$\n",
    "P(\\bar{A}B)=P(B)-P(AB),\n",
    "$$\n",
    "\n",
    "从而\n",
    "\n",
    "$$\n",
    "P(A\\cup B)=P(A)+P(B)-P(AB).\n",
    "$$"
   ]
  },
  {
   "cell_type": "markdown",
   "metadata": {},
   "source": [
    "**例2** 从 10～99 所有的两位数中任取一整数, 求取到的整数能被 6 或 3 整除的概率."
   ]
  },
  {
   "cell_type": "markdown",
   "metadata": {},
   "source": [
    "**解：**\n",
    "设 ${\\color{Blue}A}$: 取到的整数能被 2 整除\n",
    "\n",
    "${\\color{Blue}B}$: 取到的整数能被 3 整除\n",
    "\n",
    "${\\color{Blue}{AB}}$: 取到的整数能被 2 和 3 整除\n",
    "\n",
    "${\\color{Blue}C}$: 取到的整数能被 6 或 3 整除\n",
    "\n",
    "于是\n",
    "\n",
    "$$\n",
    "C=A\\cup B\n",
    "$$\n",
    "\n",
    "又\n",
    "\n",
    "$$\n",
    "P(A)=\\frac{45}{90}, P(B)=\\frac{30}{90}, P(AB)=\\frac{15}{90}\n",
    "$$\n",
    "\n",
    "从而\n",
    "\n",
    "$$\n",
    "P(C)=P(A\\cup B)=P(A)+P(B)-P(AB)=\\frac{45}{90}+\\frac{30}{90}-\\frac{15}{90}=\\frac{2}{3}\n",
    "$$"
   ]
  },
  {
   "cell_type": "markdown",
   "metadata": {},
   "source": [
    "**例3** 经调查某班学生订甲报的占 30%, 订乙报的占 25%, 同时订 2 种报纸的占 10%. 求每个学生发生下列事件的概率: (1)只订甲报; (2)只订一种; (3) 至少订一种; (4)一种也不订."
   ]
  },
  {
   "cell_type": "markdown",
   "metadata": {},
   "source": [
    "**解:**\n",
    "\n",
    "设 $A=\\{订甲报\\}$， $B=\\{订乙报\\}$， 则\n",
    "\n",
    "$$\n",
    "P(A)=0.3, P(B)=0.25,P(AB)=0.1\n",
    "$$\n",
    "\n",
    "$$\n",
    "P(A\\bar{B})=P(A)-P(AB)=0.3-0.1=0.2\n",
    "$$\n",
    "\n",
    "(1)\n",
    "$$\n",
    "\\begin{aligned}\n",
    "P(A\\bar{B}+\\bar{A}B)\n",
    "&=P(A\\bar{B})+P(\\bar{A}B)\\\\\n",
    "&=P(A)-P(AB)+P(B)-P(AB)\\\\\n",
    "&=0.3-0.1+0.25-0.1\\\\\n",
    "&=0.35\\\\\n",
    "\\end{aligned}\n",
    "$$\n",
    "\n",
    "(2)\n",
    "$$\n",
    "P（A\\cup B）=P(A)+P(B)-P(AB)=0.3+0.25-0.1=0.45\n",
    "$$\n",
    "\n",
    "(3)\n",
    "$$\n",
    "\\begin{aligned}\n",
    "P(\\bar{A}\\bar{B})\n",
    "&=P(\\overline{A\\cup B})\\\\\n",
    "&=1-P(A\\cup B)\\\\\n",
    "&=1-0.45\\\\\n",
    "&=0.55\\\\\n",
    "\\end{aligned}\n",
    "$$"
   ]
  },
  {
   "cell_type": "markdown",
   "metadata": {},
   "source": [
    "**定理4** 任意有限个事件的并的概率可按以下公式计算:\n",
    "\n",
    "$$\n",
    "P(\\bigcup_{i=1}^n A_i)=\\sum_{i=1}^n P(A_i)-\\sum_{1\\leq i<j\\leq n} P(A_iA_j)+\\sum_{1\\leq i<j<K\\leq n} P(A_iA_jA_K)-\\cdots+(-1)^{n-1}P(A_1A_2\\cdots A_n)\n",
    "$$\n",
    "\n",
    "特别的： $n=3$\n",
    "\n",
    "$$\n",
    "{\\color{Red}{P(A\\cup B\\cup C)=P(A)+P(B)+P(C)-P(AB)-P(AC)-P(BC)+P(ABC)}}.\n",
    "$$"
   ]
  },
  {
   "cell_type": "markdown",
   "metadata": {},
   "source": [
    "### 小 结"
   ]
  },
  {
   "cell_type": "markdown",
   "metadata": {},
   "source": [
    "1.加法定理的 ${\\color{Red}{本质}}$: 将复杂事件分解成几个简单事件的并, 从而将复杂事件的概率计算转化为简单事件概率的计算(下一节的乘法定理也是如此).\n",
    "\n",
    "2.两个基本公式：\n",
    "\n",
    "$$\n",
    "P(A+B)=P(A)+P(B)\\\\\n",
    "P(A\\cup B)=P(A)+P(B)-P(AB)\\\\\n",
    "$$\n"
   ]
  },
  {
   "cell_type": "markdown",
   "metadata": {},
   "source": [
    "### 思考题"
   ]
  },
  {
   "cell_type": "markdown",
   "metadata": {},
   "source": [
    "设随机事件 $A$, $B$ 及事件 $A\\cup B$ 的概率分别为 0.4, 0.3 及 0.6. 若 $\\bar{B}$ 表示 $B$ 的对立事件, 求概率 $P（A\\bar{B}）$."
   ]
  },
  {
   "cell_type": "markdown",
   "metadata": {},
   "source": [
    "**解:**\n",
    "\n",
    "已知 $P(A)=0.4$, $P(B)=0.3$, $P(A\\cup B)=0.6$, 得\n",
    "\n",
    "$$\n",
    "P(AB)=P(A)+P(B)-P(A\\cup B)=0.4+0.3-0.6=0.1\n",
    "$$\n",
    "\n",
    "又\n",
    "\n",
    "$$\n",
    "A=A(B+\\bar{B})=AB+A\\bar{B},\n",
    "$$ \n",
    "\n",
    "所以\n",
    "\n",
    "$$\n",
    "P(A)=P(AB)+P(A\\bar{B}),\n",
    "$$\n",
    "\n",
    "于是\n",
    "\n",
    "$$\n",
    "P(A\\bar{B})=P(A)-P(AB)=0.4-0.1=0.3.\n",
    "$$"
   ]
  },
  {
   "cell_type": "markdown",
   "metadata": {
    "collapsed": true
   },
   "source": [
    "**作业：**\n",
    "Page 29: 12. 13"
   ]
  },
  {
   "cell_type": "code",
   "execution_count": null,
   "metadata": {
    "collapsed": true
   },
   "outputs": [],
   "source": []
  }
 ],
 "metadata": {
  "kernelspec": {
   "display_name": "Python 3",
   "language": "python",
   "name": "python3"
  },
  "language_info": {
   "codemirror_mode": {
    "name": "ipython",
    "version": 3
   },
   "file_extension": ".py",
   "mimetype": "text/x-python",
   "name": "python",
   "nbconvert_exporter": "python",
   "pygments_lexer": "ipython3",
   "version": "3.5.2"
  }
 },
 "nbformat": 4,
 "nbformat_minor": 0
}
