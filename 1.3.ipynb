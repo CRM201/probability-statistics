{
 "cells": [
  {
   "cell_type": "markdown",
   "metadata": {},
   "source": [
    "## §1.3 事件的关系及运算"
   ]
  },
  {
   "cell_type": "markdown",
   "metadata": {},
   "source": [
    "### 1.事件的关系与运算"
   ]
  },
  {
   "cell_type": "markdown",
   "metadata": {},
   "source": [
    "**包含(关系)**\n",
    "\n",
    "如果事件 $A$ 的发生必然导致事件 $B$ 的发生, 则称事件 $B$ **包含**事件 $A$ 或称事件 $A$ **包含于**事件 $B$.\n",
    "\n",
    "$$\n",
    "记作:B \\supset A 或 A \\subset B\n",
    "$$\n",
    "\n",
    "此时, ${\\color{Blue}A}$ 的样本点都是 ${\\color{Blue}B}$ 的样本点.\n",
    "\n",
    "![](./figures/1.png)"
   ]
  },
  {
   "cell_type": "markdown",
   "metadata": {},
   "source": [
    "**相等(关系)**\n",
    "\n",
    "如果事件 $A$ 包含事件 $B$ 且事件 $B$ 包含事件 $A$, 即\n",
    "\n",
    "$$\n",
    "A \\supset B \\text{ 且 } B \\supset A;\n",
    "$$\n",
    "\n",
    "也就是说, 事件 $A$ 与 $B$ 中任一事件的发生必然导致另一事件的发生, 则称事件 $A$ 与 $B$ **相等**.\n",
    "记作: ${\\color{Blue}{A = B}}$"
   ]
  },
  {
   "cell_type": "markdown",
   "metadata": {},
   "source": [
    "**事件的并(和)(运算)**\n",
    "\n",
    "“事件 $A$ 与 $B$ 中至少有一事件发生” 这一事件叫做事件 $A$ 与 $B$ 的**并**. 记作: $A \\cup B$.\n",
    "![](./figures/2.png) \n",
    "\n",
    "$A \\cup B$ 是由至少属于 $A$ 与 $B$ 中一个的样本点组成的集合.\n",
    "\n",
    "“$n$ 个事件 $A_1$, $A_2$,$\\cdots$, $A_n$ 中至少有一事件发生” 这一事件叫做事件 $A_1$, $A_2$,$\\cdots$, $A_n$ 的**并**.\n",
    "$$\n",
    "A_1\\cup A_2 \\cup \\cdots\\cup A_n. (简记为\\bigcup_{i=1}^{n} A_i)\n",
    "$$"
   ]
  },
  {
   "cell_type": "markdown",
   "metadata": {},
   "source": [
    "**事件的交(积)(运算)**\n",
    "\n",
    "“二事件 $A$ 与 $B$ 都发生” 这一事件叫做事件 $A$ 与 $B$ 的 **交**. 记作:${\\color{Blue}{A \\cap B}}$ 或 ${\\color{Blue}{AB}}$.\n",
    "![](./figures/3.png)\n",
    "$A \\cap B$ 是由同时属于 $A$ 与 $B$ 的样本点组成的集合\n",
    "\n",
    "“$n$ 个事件 $A_1$, $A_2$,$\\cdots$, $A_n$ 中都发生” 这一事件叫做事件 $A_1$, $A_2$,$\\cdots$, $A_n$ 的 **交**.\n",
    "\n",
    "$$\n",
    "A_1\\cup A_2 \\cup \\cdots\\cup A_n. (简记为\\bigcap_{i=1}^{n} A_i)\\\\\n",
    "或 A_1 A_2 \\cdots A_n.\n",
    "$$"
   ]
  },
  {
   "cell_type": "markdown",
   "metadata": {},
   "source": [
    "**互不相容(关系)**\n",
    "\n",
    "如果事件 $A$ 与 $B$ 不可能同时发生, 即 $AB=\\emptyset$,    则称二事件 $A$ 与 $B$ 是 **互不相容** 的(或**互斥**的).\n",
    "\n",
    "两个互不相容事件 $A$ 与 $B$ 的并, 记作: ${\\color{Blue}{A + B}}$.\n",
    "\n",
    "如果 $n$ 个事件 $A_1$, $A_2$,$\\cdots$, $A_n$ 中任意两个事件不可能同时发生, 即 $A_iA_j=\\emptyset(1 \\leq i<j\\leq n)$, 则称这 $n$ 个事件是**互不相容**的(或**互斥**的).\n",
    "\n",
    "此时, $A_1$, $A_2$, $\\cdots$, $A_n$ 的并记作\n",
    "\n",
    "$$\n",
    "A_1+A_2+\\cdots+A_n,\\quad \\sum_{i=1}^n A_i.\n",
    "$$"
   ]
  },
  {
   "cell_type": "markdown",
   "metadata": {},
   "source": [
    "**对立(关系)**\n",
    "\n",
    "如果事件 $A$ 与 $B$ 互不相容且它们中必有一事件发生, 即二事件 $A$ 与B中**有且仅有**一事件发生, 即\n",
    "\n",
    "$$\n",
    "AB=\\emptyset 且　A+B={\\color{Blue}{\\Omega}},\n",
    "$$\n",
    "\n",
    "则称事件 $A$ 与 $B$ 是 **对立** 的(或**互逆**的), 称事件 $A$ 是事件 $B$ 的**对立事件**(或**逆事件**); 同样, 事件 $B$ 也是事件 $A$ 的对立事件(或逆事件).\n",
    "\n",
    "$$\n",
    "记作:B=\\bar{A} 或　Ａ=\\bar{Ｂ}.\n",
    "$$"
   ]
  },
  {
   "cell_type": "markdown",
   "metadata": {},
   "source": [
    "**完备事件组**\n",
    "\n",
    "如果 $n$ 事件 $A_1$, $A_2$, $\\cdots$, $A_n$ 中至少有一个事件一定发生, ${\\color{Blue}{\\bigcup_{i=1}^{n} A_i=\\Omega}}$, 则称这 n 个事件构成 **完备事件组**.\n",
    "\n",
    "设 $n$ 个事件 $A_1$, $A_2$, $\\cdots$, $A_n$ 满足下面的关系式:\n",
    "\n",
    "$$\n",
    "\\begin{cases}\n",
    "A_iA_j =\\emptyset (1\\leq i<j\\leq n)\\\\\n",
    "\\\\\n",
    "\\sum_{i=1}^n A_i = \\Omega\\\\\n",
    "\\end{cases}\n",
    "$$\n",
    "\n",
    "则称这 $n$ 个事件构成**互不相容完备事件组**."
   ]
  },
  {
   "cell_type": "markdown",
   "metadata": {},
   "source": [
    "**事件的差(运算)**\n",
    "\n",
    "“事件 $A$ 发生但事件 $B$ 不发生”称为 $A$ 与 $B$ 的**差**. 记作:${\\color{Blue}{A - B}}$.\n",
    "\n",
    "![](./figures/4.png)\n",
    "\n",
    "**常用公式**\n",
    "\n",
    "$$\n",
    "A-B=A\\bar{B}=A-AB.\n",
    "$$"
   ]
  },
  {
   "cell_type": "markdown",
   "metadata": {},
   "source": [
    "**事件运算与集合运算的对应**"
   ]
  },
  {
   "cell_type": "markdown",
   "metadata": {},
   "source": [
    "\n",
    "|$A\\subset B$ |事件 $A$ 包含于事件 $B$|集合$A$是集合$B$的子集|\n",
    "|:---------:|:---------:|:---------:|\n",
    "|$A=B$ |事件 $A$ 等于事件 $B$ |集合 $A$ 集合 $B$ 相等|\n",
    "|$A\\cup B$ |事件 $A$ 与事件$B$的并|集合 $A$ 与集合 $B$ 的并集|\n",
    "|$A\\cap B$ |事件 $A$ 与事件 $B$ 的交|集合 $A$ 与集合 $B$ 的交集|\n",
    "|${AB=\\emptyset}$ |事件 $A$ 与 $B$ 互不相容|集合 $A$ 与 $B$ 不相交|\n",
    "|$\\bar{A}$ |事件 $A$ 的对立事件|集合 $A$ 的余集|"
   ]
  },
  {
   "cell_type": "markdown",
   "metadata": {},
   "source": [
    "**例 1** 设有 $A$, $B$, $C$ 三个事件, 用 $A$, $B$, $C$ 的运算表示以\n",
    "\n",
    "(1) $A$ , $B$ , $C$ 至少有一个发生; \n",
    "\n",
    "(2) $A$ , $B$ , $C$ 都发生; \n",
    "\n",
    "(3) $A$ , $B$ , $C$ 都不发生; \n",
    "\n",
    "(4) 仅 $A$ 发生; \n",
    "\n",
    "(5) $A$ , $B$ , $C$ 仅有一个发生; \n",
    "\n",
    "(6) $A$ , $B$ , $C$ 至多有一个发生; \n",
    "\n",
    "(7) $A$ , $B$ , $C$ 不都发生; "
   ]
  },
  {
   "cell_type": "markdown",
   "metadata": {},
   "source": [
    "**解：**\n",
    "\n",
    "(1) $A$ , $B$ , $C$ 至少有一个发生; ${\\color{Blue}{A\\cup B\\cup C}}$\n",
    "\n",
    "(2) $A$ , $B$ , $C$ 都发生; ${\\color{Blue}{ABC}}$\n",
    "\n",
    "(3) $A$ , $B$ , $C$ 都不发生; ${\\color{Blue}{\\bar{A}\\bar{B}\\bar{C}}}$\n",
    "\n",
    "(4) 仅 $A$ 发生; ${\\color{Blue}{A\\bar{B}\\bar{C}}}$\n",
    "\n",
    "(5) $A$ , $B$ , $C$ 仅有一个发生; ${\\color{Blue}{A\\bar{B}\\bar{C} + \\bar{A}B\\bar{C} + \\bar{A}\\bar{B}C}}$\n",
    "\n",
    "(6) $A$ , $B$ , $C$ 至多有一个发生; ${\\color{Blue}{A\\bar{B}\\bar{C} + \\bar{A}B\\bar{C}  + \\bar{A}\\bar{B}C + \\bar{A}\\bar{B}\\bar{C}}}$\n",
    "\n",
    "(7) $A$ , $B$ , $C$ 不都发生; ${\\color{Blue}{\\overline{ABC}}}$ 或　${\\color{Blue}{\\bar{A}\\cup\\bar{B}\\cup\\bar{C}}}$"
   ]
  },
  {
   "cell_type": "markdown",
   "metadata": {},
   "source": [
    "### 2.事件的运算律"
   ]
  },
  {
   "cell_type": "markdown",
   "metadata": {},
   "source": [
    "(1) **交换律**:\n",
    "\n",
    "$$\n",
    "A\\cup B=B \\cup A\\quad AB=BA\n",
    "$$\n",
    "\n",
    "(2) **结合律**:\n",
    "\n",
    "$$\n",
    "(A\\cup B)\\cup C=A\\cup(B \\cup C)\\\\\n",
    "(AB)C=A(BC)\n",
    "$$\n",
    "\n",
    "(3) **分配律**:\n",
    "\n",
    "$$\n",
    "A(B \\cup C)=AB\\cup AC\\\\\n",
    "A\\cup(BC)=(A\\cup B)(A\\cup C)\n",
    "$$\n",
    "\n",
    "(4) **德摩根(De morgan)定律**:\n",
    "\n",
    "$$\n",
    "\\overline{A\\cup B}=\\bar{A}\\bar{B},\\quad \\overline{AB}=\\bar{A}\\cup\\bar{B}\n",
    "$$\n",
    "\n",
    "**推广**：\n",
    "$$\n",
    "\\overline{\\bigcup_{i=1}^{n} A_i}=\\bigcap_{i=1}^{n} \\bar{A_i}\\\\\n",
    "\\overline{\\bigcap_{i=1}^{n} A_i}=\\bigcup_{i=1}^{n} \\bar{A_i}\n",
    "$$"
   ]
  },
  {
   "cell_type": "markdown",
   "metadata": {},
   "source": [
    "### 小 结\n",
    "\n",
    "1.事件的关系:包含, 相等, 互不相容, 互逆.\n",
    "\n",
    "2.事件的运算: 并, 交, 差.\n",
    "\n",
    "3.事件的运算与集合运算的对应."
   ]
  },
  {
   "cell_type": "markdown",
   "metadata": {},
   "source": [
    "### 思考题"
   ]
  },
  {
   "cell_type": "markdown",
   "metadata": {},
   "source": [
    "设 $A$ 、 $B$ 、 $C$ 是任意三个随机事件 , 则下列命题中正确的是($\\qquad$)\n",
    "\n",
    "(A)$(A\\cup B)-B=A-B$\n",
    "\n",
    "(B)$(A-B)\\cup B=A$\n",
    "\n",
    "(C)$(A\\cup B)-C=A\\cup(B-C)$\n",
    "\n",
    "(D)$A\\cup B=A\\bar{B}\\cup\\bar{A}B$\n"
   ]
  },
  {
   "cell_type": "markdown",
   "metadata": {},
   "source": [
    "**解:**\n",
    "\n",
    "$\n",
    "(A\\cup B)-B=(A\\cup B)\\bar{B}=(A\\bar{B})\\cup(B\\bar{B})=A\\bar{B}=A-B$\n",
    "故选　$A$, 其余三个答案不对\n",
    "\n",
    "$(A-B)\\cup B=(A\\bar{B})\\cup B=(A\\cup B)(\\bar{B}\\cup B)=A\\cup B$\n",
    "\n",
    "$(A\\cup B)-C=(A\\cup B)\\bar{C}=(A\\bar{C})\\cup(B\\bar{C})=A\\bar{C}\\cup (B-C)$\n",
    "\n",
    "$A\\cup B= A\\bar{B}\\cup AB\\cup\\bar{A}B$ ($A\\bar{B}, AB, \\bar{A}B$ 两两互不相容 )"
   ]
  },
  {
   "cell_type": "markdown",
   "metadata": {},
   "source": [
    "## 作业"
   ]
  },
  {
   "cell_type": "markdown",
   "metadata": {
    "collapsed": true
   },
   "source": [
    "Page 29: 2. 3."
   ]
  }
 ],
 "metadata": {
  "kernelspec": {
   "display_name": "SageMath 7.5.1",
   "language": "",
   "name": "sagemath"
  },
  "language_info": {
   "codemirror_mode": {
    "name": "ipython",
    "version": 2
   },
   "file_extension": ".py",
   "mimetype": "text/x-python",
   "name": "python",
   "nbconvert_exporter": "python",
   "pygments_lexer": "ipython2",
   "version": "2.7.10"
  }
 },
 "nbformat": 4,
 "nbformat_minor": 0
}
