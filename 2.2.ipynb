{
 "cells": [
  {
   "cell_type": "markdown",
   "metadata": {},
   "source": [
    "### §2.2 离散随机变量"
   ]
  },
  {
   "cell_type": "markdown",
   "metadata": {},
   "source": [
    "#### 离散随机变量的概率分布"
   ]
  },
  {
   "cell_type": "markdown",
   "metadata": {},
   "source": [
    "设离散型随机变量 $X$ 的可能取值为：\n",
    "\n",
    "$$\n",
    "X_1, X_2, X_3, \\cdots, X_n, \\cdots\n",
    "$$\n",
    "\n",
    "$X$取这些值的概率分别为:\n",
    "\n",
    "$$\n",
    "P(x=x_k) = P_k\\quad (k=1, 2, \\cdots, )\n",
    "$$ \n",
    "\n",
    "称此式为离散型随机变量 $X$ 的概率分布或分布律."
   ]
  },
  {
   "cell_type": "markdown",
   "metadata": {},
   "source": [
    "则 $X$ 的概率分布表如下:\n",
    "\n",
    "| $\\quad X \\quad$ | $\\quad X_1 \\quad $ | $\\quad X_2 \\quad $ | $\\cdots$ | $\\quad X_n \\quad $ | $\\cdots$ |\n",
    "|:-------------:|:--------:|:-----------:|:----------:|\n",
    "| $P(X_i)$ |  $P(X_1)$ | $P(X_2)$ | $\\cdots$ | $P(X_n)$ |$\\cdots$ | "
   ]
  },
  {
   "cell_type": "markdown",
   "metadata": {},
   "source": [
    "####  离散型随机变量的概率函数"
   ]
  },
  {
   "cell_type": "markdown",
   "metadata": {},
   "source": [
    "离散型随机变量的**概率函数**：\n",
    "\n",
    "$$\n",
    "p(x_i) = P(X = x_i), \\quad i = 1, 2, \\cdots, n, \\cdots.\n",
    "$$"
   ]
  },
  {
   "cell_type": "markdown",
   "metadata": {},
   "source": [
    "概率函数的性质:\n",
    "\n"
   ]
  },
  {
   "cell_type": "markdown",
   "metadata": {},
   "source": [
    "(1) 概率函数是非负函数: $p(x_i) \\geq 0,\\quad i = 1, 2, \\cdots, n, \\cdots $\n",
    "\n",
    "(2) 如果随机变量 $X$ 只能取得有限个值 $X_1, X_2, \\cdots, X_n$, 则 $\\sum_{i=1}^n p(X_i)=1$; 如果随机变量 $X$ 可能取得无穷多个值, 则 $\\sum_{i=1}^\\infty p(X_i) = 1$"
   ]
  },
  {
   "cell_type": "markdown",
   "metadata": {},
   "source": [
    "**例 1 ** 袋中有2个白球和3个黑球, 每次从中任取1个球, 直到取得白球为止, 求取球次数的概率分布, 假设: (1)每次取出的黑球不再放回去; (2)每次取出的黑球仍放回去."
   ]
  },
  {
   "cell_type": "markdown",
   "metadata": {
    "collapsed": true
   },
   "source": [
    "**解 ： ** \n",
    "\n",
    "(1) 设随机变量 $X$ 是取球次数, 因为每次取出的黑球不再放回去, 所以 $X$ 的可能值是 $1, 2, 3, 4$. 且\n",
    "\n",
    "$$\n",
    "\\begin{align}\n",
    "P(X = 1) & = \\frac{2}{5} = 0.4,\\\\\n",
    "P(X = 2) & = \\frac{3}{5}\\cdot \\frac{2}{4} = 0.3,\\\\\n",
    "P(X = 3) & = \\frac{3}{5}\\cdot \\frac{2}{4}\\cdot \\frac{2}{3} = 0.2,\\\\\n",
    "P(X = 4) & = \\frac{3}{5}\\cdot \\frac{2}{4}\\cdot \\frac{2}{3}\\cdot \\frac{2}{2} = 0.1\\\\\n",
    "\\end{align}\n",
    "$$\n",
    "\n",
    "因此, 所求概率分布为:\n",
    "\n",
    "|   X | 1| 2 | 3 | 4 |\n",
    "|----|----|----|-----|-----|\n",
    "| $P(X_i)$ | 0.4 | 0.3 |0.2 | 0.1 |"
   ]
  },
  {
   "cell_type": "markdown",
   "metadata": {
    "collapsed": true
   },
   "source": [
    "(2) 设随机变量 $Y$ 是取球次数, 因每次取出的黑球仍放回去, 所以 $Y$ 的可能值是一切正整数. 且\n",
    "\n",
    "$$\n",
    "P(Y = m) = (\\frac{3}{5})^{m-1}(\\frac{2}{5})=0.4\\cdot(0.6)^{m-1}, m=1, 2, \\cdots\n",
    "$$\n",
    "\n",
    "因此所求的概率分布为:\n",
    "\n",
    "| Y  | $1$ | $\\quad 2 \\quad $ | $\\quad \\cdots \\quad $ | $\\quad m \\quad $ |\n",
    "|-----|-----|-----|-----|-----|\n",
    "| $P(Y_i)$ | $0.4$ | $0.4\\cdot(0.6)$| $\\cdots$ | $0.4\\cdot(0.6)^{m-1}$ |\n",
    "\n"
   ]
  },
  {
   "cell_type": "markdown",
   "metadata": {
    "collapsed": true
   },
   "source": [
    "**例 2 ** 袋中有 $4$ 球， $2$ 个为红球, $2$ 个为白球, 从中任取 $2$ 球, 求取到的红球数 $X$ 的概率分布."
   ]
  },
  {
   "cell_type": "markdown",
   "metadata": {
    "collapsed": true
   },
   "source": [
    "**解 ： ** $X$ 所有可能取值为: $0, 1, 2$. 且:\n",
    "\n",
    "$$\n",
    "\\begin{align}\n",
    "P(X=0) & =\\frac{C_2^2}{C_4^2}=\\frac{1}{6}\\\\\n",
    "P(X=1) & = \\frac{C_2^2C_2^1}{C_4^2}=\\frac{4}{6}\\\\\n",
    "P(X=2) & = \\frac{C_2^2}{C_4^2}=\\frac{1}{6}\\\\\n",
    "\\end{align}\n",
    "$$\n",
    "\n",
    "因此, 所求概率分布为:\n",
    "\n",
    "| $\\quad X \\quad $ | 0 | 1 | 2 |\n",
    "|-----|-----|-----|-----|\n",
    "| $P(X_i)$ | $\\frac{1}{6}$ | $\\frac{4}{6}$ | $\\frac{1}{6}$ |"
   ]
  },
  {
   "cell_type": "markdown",
   "metadata": {
    "collapsed": true
   },
   "source": [
    "#### 小结"
   ]
  },
  {
   "cell_type": "markdown",
   "metadata": {
    "collapsed": true
   },
   "source": [
    "1. 离散随机变量的描述: 概率分布表, 概率函数.\n",
    "2. 概率函数的性质: 非负性, 规范性."
   ]
  }
 ],
 "metadata": {
  "kernelspec": {
   "display_name": "SageMath 7.5.1",
   "language": "",
   "name": "sagemath"
  },
  "language_info": {
   "codemirror_mode": {
    "name": "ipython",
    "version": 2
   },
   "file_extension": ".py",
   "mimetype": "text/x-python",
   "name": "python",
   "nbconvert_exporter": "python",
   "pygments_lexer": "ipython2",
   "version": "2.7.13"
  }
 },
 "nbformat": 4,
 "nbformat_minor": 0
}
