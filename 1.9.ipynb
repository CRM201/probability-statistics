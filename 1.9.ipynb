{
 "cells": [
  {
   "cell_type": "markdown",
   "metadata": {
    "collapsed": true
   },
   "source": [
    "## §1.9   贝努利概型"
   ]
  },
  {
   "cell_type": "markdown",
   "metadata": {},
   "source": [
    " ### $n$ 重贝努利 (Bernoulli)试验概型："
   ]
  },
  {
   "cell_type": "markdown",
   "metadata": {},
   "source": [
    "1、试验可重复 $n$ 次\n",
    "\n",
    "2、每次试验只有两个可能的结果： $A$, $\\bar{A}$ 且 $P(A)=p$, $0<p<1$\n",
    "\n",
    "3、每次试验的结果与其他次试验无关——称为这 **$n$ 次试验是相互独立的** \n",
    "\n",
    "$n$ 重 **Bernoulli** 试验中事件 $A$ 出现 $k$ 次的概率记为 ${\\color{Red}{P_n(k)}}$"
   ]
  },
  {
   "cell_type": "markdown",
   "metadata": {},
   "source": [
    "**定理1** 在 $n$ 重贝努利试验中, 事件 $A$ 可能发生的次数为 0，1, 2 3， $\\cdots$, $n$, 且\n",
    "\n",
    "$$\n",
    "{\\color{Red}{P_n(k)=C_n^k p^k q^{n-k},k=0,1,\\cdots, n}}\n",
    "$$\n",
    "\n",
    "此处 $p=P(A)$, $q=1-p=P(\\bar{A})$, \n",
    "\n",
    "且\n",
    "\n",
    "$$\n",
    "\\sum_{k=0}^n P_n(k)=\\sum_{k=0}^n C_n^k p^k q^{n-k}=1\n",
    "$$"
   ]
  },
  {
   "cell_type": "markdown",
   "metadata": {},
   "source": [
    "**证：** 由贝努利概型知, 在指定的 ${\\color{Red}{k}}$ 次试验中出现 ${\\color{Red}{A}}$, 其余 ${\\color{Red}{n-k}}$ 次试验出现 ${\\color{Red}{\\bar{A}}}$ 的概率为 \n",
    "\n",
    "$$\n",
    "p\\cdot p \\cdots p\\cdot q\\cdot q\\cdots q=p^k q^{n-k}\n",
    "$$\n",
    "\n",
    "而这样的指定方式总共有 $C_n^k$ 种, 且这 $C_n^k$ 种方式是互斥的, 按概率加法定理所求概率为：\n",
    "\n",
    "$$\n",
    "P_n(k)=C_n^k p^k q^{n-k}\n",
    "$$\n",
    "\n",
    "又由于 $n$ 次试验所有可能的结果就是事件 $A$ 发生 0,1 ,$\\cdots$, $n$ 次, 而这些结果是互斥的, 所以有 \n",
    "\n",
    "$$\n",
    "\\sum_{k=0}^n P_n(k)=\\sum_{k=0}^n C_n^k p^k q^{n-k}=1\n",
    "$$"
   ]
  },
  {
   "cell_type": "markdown",
   "metadata": {},
   "source": [
    "### 两个常用公式"
   ]
  },
  {
   "cell_type": "markdown",
   "metadata": {},
   "source": [
    "(1) $n$ 次重复独立试验中, 事件至少发生 $r$ 次的概率：\n",
    "\n",
    "$$\n",
    "{\\color{Red}{P(k\\geq r)}}=\\sum_{k=r}^n P_n(k)=1-\\sum_{k=0}^{r-1} P_n(k)\n",
    "$$"
   ]
  },
  {
   "cell_type": "markdown",
   "metadata": {},
   "source": [
    "特别： $n$ 次重复独立试验中, 事件至少发生一次的概率：\n",
    "\n",
    "$$\n",
    "P(k\\geq 1)=1-(1-p)^n\n",
    "$$"
   ]
  },
  {
   "cell_type": "markdown",
   "metadata": {},
   "source": [
    "(2)  $n$ 次重复独立试验中, 事件发生的次数介于与 $m_1$ 与 $m_2$ 之间的概率：\n",
    "\n",
    "$$\n",
    "{\\color{Red}{P(m_1\\leq k\\leq m_2)}}=\\sum_{k=m_1}^{m_2} P_n(k)\n",
    "$$"
   ]
  },
  {
   "cell_type": "markdown",
   "metadata": {},
   "source": [
    "**例1** 某人独立射击 10 次, 每次命中率为 0.2, 求:(1) 击中两次的概率； (2)至少击中一次的概率."
   ]
  },
  {
   "cell_type": "markdown",
   "metadata": {},
   "source": [
    "**解** 这是伯努利概型, 设 $A$ 表示事件“击中两次”, $B$ 表示事件“至少击中一次”, 则\n",
    "\n",
    "(1) $P(A)=C_{10}^2 {0.2}^2{0.8}^8\\approx 0.3$\n",
    "\n",
    "(2) $P(B)=1-P(\\bar{B})=1-C_{10}^0 {0.2}^0{0.8}^{10} \\approx 0.893 $"
   ]
  },
  {
   "cell_type": "markdown",
   "metadata": {},
   "source": [
    "**例2** 电话站有 300 个用户, 在 1 小时内每一用户打电话的概率为 0.01, 求 1 小时内有 4 个用户使用电话的概率.\n",
    "\n",
    "**解:** 这是一个 300 重伯努力试验\n",
    "\n",
    "设 $A$ 为 1 小时内某用户使用电话, 则 $P(A)=0.01$, 因此所求的概率为：\n",
    "\n",
    "$$\n",
    "P_{300}(4)=C_{300}^4 {0.01}^4{0.99}^{296}\\approx 0.1689\n",
    "$$"
   ]
  },
  {
   "cell_type": "code",
   "execution_count": 4,
   "metadata": {
    "collapsed": false
   },
   "outputs": [
    {
     "name": "stdout",
     "output_type": "stream",
     "text": [
      "0.025517964452291125\n",
      "37.78343433288728\n"
     ]
    }
   ],
   "source": [
    "print(pow(0.99, 365))\n",
    "print(pow(1.01, 365))"
   ]
  },
  {
   "cell_type": "markdown",
   "metadata": {},
   "source": [
    "**例3** 甲、乙两个运动员进行乒乓球单打比赛, 如果每局甲获胜的概率为 0.6, 乙获胜的概率为 0.4, 比赛可以采取三局两胜制或五局三胜制, 问哪种赛制下甲获胜的概率更大?"
   ]
  },
  {
   "cell_type": "markdown",
   "metadata": {},
   "source": [
    "**解:** 设 $A$ 表示甲获胜\n",
    "\n",
    "(1) 若采取三局两胜制, 则甲在下列两种情况下获胜\n",
    "\n",
    "$$\n",
    "A_1————2:0\\qquad A_2————2:1\\qquad A=A_1+A_2\n",
    "$$\n",
    "\n",
    "所以\n",
    "\n",
    "$$\n",
    "\\begin{aligned}\n",
    "P(A)\n",
    "&=P(A_1+A_2)\\\\\n",
    "&=P(A_1)+P(A_2)\\\\\n",
    "&={0.6}^2+C_2^1 × 0.6 ×0.4 ×0.6\\\\\n",
    "&=0.648\\\\\n",
    "\\end{aligned}\n",
    "$$"
   ]
  },
  {
   "cell_type": "markdown",
   "metadata": {},
   "source": [
    "(2) 若采取五局三胜制，则甲在下列三种情况下获胜\n",
    "\n",
    "$$\n",
    "B_1————3:0\\qquad B_2————3:1\\qquad B_3————3:2\\qquad A=B_1+B_2+B_3\n",
    "$$\n",
    "\n",
    "所以\n",
    "\n",
    "$$\n",
    "\\begin{aligned}\n",
    "P(A)\n",
    "&=P(B_1+B_2+B_3)\\\\\n",
    "&=P(B_1)+P(B_2)+P(B_3)\\\\\n",
    "&={0.6}^3+C_3^2 × {0.6}^2 × 0.4 ×0.6+C_4^2 × {0.6}^2 × {0.4}^2 ×0.6\\\\\n",
    "&=0.682\\\\\n",
    "\\end{aligned}\n",
    "$$\n",
    "\n",
    "可见, 五局三胜制更好一点."
   ]
  },
  {
   "cell_type": "markdown",
   "metadata": {},
   "source": [
    "**例4** 连掷一颗骰子 6 次, 求至少出现 3 次 6 点的概率.\n",
    "\n",
    "**解:** 设 $A$ 表示掷一次骰子出现 6 点, 则 $P(A)=p=\\frac{1}{6}$, 设 $B$ 表示至少出现 3 次 6 点, 则\n",
    "\n",
    "$$\n",
    "P(B)=1-[P_6(0)+P_6(1)+P_6(2)],\n",
    "$$\n",
    "\n",
    "又\n",
    "\n",
    "$$\n",
    "P_6(0)=C_6^0 p^0(1-p)^6=(\\frac{5}{6})^6\\\\\n",
    "P_6(1)=C_6^1 p^1(1-p)^5=6×\\frac{1}{6}×(\\frac{5}{6})^5\\\\\n",
    "P_6(2)=C_6^2 p^2(1-p)^4=15×\\frac{1}{6^2}×(\\frac{5}{6})^4\\\\\n",
    "$$\n",
    "\n",
    "从而\n",
    "\n",
    "$$\n",
    "P(B)\\approx 1-0.9377=0.0623\n",
    "$$"
   ]
  },
  {
   "cell_type": "markdown",
   "metadata": {},
   "source": [
    "**例5** 一射手对同一目标独立地进行四次射击结果, 至少命中一次的概率为 $\\frac{80}{81}$, 求该射手的命中概率."
   ]
  },
  {
   "cell_type": "markdown",
   "metadata": {},
   "source": [
    "**解:** 设该射手的命中率为 $p$, 则有\n",
    "\n",
    "$$\n",
    "1-(1-p)^4=\\frac{80}{81}\n",
    "$$\n",
    "\n",
    "由此解得\n",
    "\n",
    "$$\n",
    "p=\\frac{2}{3}\n",
    "$$"
   ]
  },
  {
   "cell_type": "markdown",
   "metadata": {},
   "source": [
    "### 小 结"
   ]
  },
  {
   "cell_type": "markdown",
   "metadata": {},
   "source": [
    "1、独立试验序列是概率论历史上最早研究的概率模型之一, 由此产生了二项分布:\n",
    "\n",
    "两个最重要的离散分布之一."
   ]
  },
  {
   "cell_type": "markdown",
   "metadata": {},
   "source": [
    "2、 两个重要公式：\n",
    "\n",
    "$$\n",
    "P_n(m)=C_n^m p^m q^{n-m}=\\frac{n!}{m!(n-m)!}p^m q^{n-m}\n",
    "$$\n",
    "\n",
    "$$\n",
    "P(m\\geq 1)=1-(1-p)^n\n",
    "$$"
   ]
  },
  {
   "cell_type": "markdown",
   "metadata": {},
   "source": [
    "### 思考题"
   ]
  },
  {
   "cell_type": "markdown",
   "metadata": {},
   "source": [
    "进行了一系列独立试验, 每次试验成功的概率为 $p$, 求成功两次之前已失败三次的概率."
   ]
  },
  {
   "cell_type": "markdown",
   "metadata": {},
   "source": [
    "**解:** 由题设可知, 第 5 次试验成功, 并且前 4 次试验中失败 3 次, 只有 1 次成功, 设此事件为 $A$, 则\n",
    "\n",
    "$$\n",
    "P(A)=pP_4(1)=p C_4^1 p(1-p)^3=4p^2(1-p)^3\n",
    "$$"
   ]
  },
  {
   "cell_type": "markdown",
   "metadata": {
    "collapsed": true
   },
   "source": [
    "**作业：**\n",
    "Page 30: 20, 21"
   ]
  }
 ],
 "metadata": {
  "kernelspec": {
   "display_name": "Python 3",
   "language": "python",
   "name": "python3"
  },
  "language_info": {
   "codemirror_mode": {
    "name": "ipython",
    "version": 3
   },
   "file_extension": ".py",
   "mimetype": "text/x-python",
   "name": "python",
   "nbconvert_exporter": "python",
   "pygments_lexer": "ipython3",
   "version": "3.5.2"
  }
 },
 "nbformat": 4,
 "nbformat_minor": 0
}
