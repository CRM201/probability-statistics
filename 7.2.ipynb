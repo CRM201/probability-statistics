{
 "cells": [
  {
   "cell_type": "markdown",
   "metadata": {
    "slideshow": {
     "slide_type": "slide"
    }
   },
   "source": [
    "## 7.2  区间估计的基本概念"
   ]
  },
  {
   "cell_type": "markdown",
   "metadata": {
    "slideshow": {
     "slide_type": "subslide"
    }
   },
   "source": [
    "### 一、基本概念"
   ]
  },
  {
   "cell_type": "markdown",
   "metadata": {
    "slideshow": {
     "slide_type": "fragment"
    }
   },
   "source": [
    "前面, 我们讨论了参数点估计. 它是用样本算得的一个值去估计未知参数. 但是点估计值仅仅是未知参数的一个近似值, 它没有反映出这个近似值的误差范围，使用起来把握不大. 区间估计正好弥补了点估计的这个缺陷 ."
   ]
  },
  {
   "cell_type": "markdown",
   "metadata": {
    "slideshow": {
     "slide_type": "fragment"
    }
   },
   "source": [
    "譬如, 在估计湖中鱼数的问题中, 若我们根据一个实际样本, 得到鱼数 $N$ 的极大似然估计为 $1000$ 万尾.实际上, $N$ 的真值可能大于 $1000$ 万尾, 也可能小于 $1000$ 万尾. 若我们能给出一个区间, 在此区间内我们合理地相信 $N$ 的真值位于其中. 这样对鱼数的估计就有把握多了."
   ]
  },
  {
   "cell_type": "markdown",
   "metadata": {
    "slideshow": {
     "slide_type": "fragment"
    }
   },
   "source": [
    "也就是说, 我们希望确定一个区间, 使我们能以比较高的可靠程度相信它包含真参数值. 这里所说的“可靠程度”是用概率来度量的, 称为置信概率, 置信度或置信水平. 习惯上,置信水平记作 $1-\\alpha$, 这里 $α$ 是一个很小的正数.\n"
   ]
  },
  {
   "cell_type": "markdown",
   "metadata": {
    "slideshow": {
     "slide_type": "subslide"
    }
   },
   "source": [
    "置信水平的大小是根据实际需要选定的, 例如, 通常可取置信水平 $1-\\alpha=0.95$ 或 $0.9$ 等. 根据一个实际样本, 由给定的置信水平, 我们求出一个尽可能小的区间 \n",
    "\n",
    "$$\n",
    "[\\widehat\\theta_1,\\widehat\\theta_2]\n",
    "$$\n",
    "\n",
    "使\n",
    "\n",
    "$$\n",
    "P(\\widehat\\theta_1\\leq\\theta\\leq\\widehat\\theta_2) = 1-\\alpha\n",
    "$$\n",
    "\n",
    "称区间 $[\\widehat\\theta_1,\\widehat\\theta_2]$ 为 $\\theta$ 的置信水平为 $1-\\alpha$ 的置信区间."
   ]
  },
  {
   "cell_type": "markdown",
   "metadata": {
    "slideshow": {
     "slide_type": "subslide"
    }
   },
   "source": [
    "寻找置信区间的方法, 一般是从确定误差限入手. 我们选取未知参数的某个估计量 $\\widehat\\theta$ ,根据置信水平 $1-\\alpha$, 可以找到一个正数 $\\delta$ ,使得\n",
    "\n",
    "$$\n",
    "Ｐ\\{|\\widehat\\theta-\\theta|\\leq\\delta\\}=1-\\alpha\n",
    "$$\n",
    "\n",
    "称 $\\delta$ 为 $\\widehat\\theta$ 与 $\\theta$ 之间的误差限.只要知道 $\\widehat\\theta$ 的概率分布, 确定误差限并不难.\n"
   ]
  },
  {
   "cell_type": "markdown",
   "metadata": {
    "slideshow": {
     "slide_type": "subslide"
    }
   },
   "source": [
    "由不等式\n",
    "\n",
    "$$\n",
    "|\\widehat\\theta-\\theta|\\leq\\delta\n",
    "$$\n",
    "\n",
    "可以解出 $\\theta$:\n",
    "\n",
    "$$\n",
    "\\widehat\\theta-\\delta\\leq\\theta\\leq\\widehat\\theta+\\delta\n",
    "$$\n",
    "\n",
    "这个不等式就是我们所求的置信区间,下面我们就来正式给出置信区间的定义,并通过例子说明求置信区间的方法.\n"
   ]
  },
  {
   "cell_type": "markdown",
   "metadata": {
    "slideshow": {
     "slide_type": "subslide"
    }
   },
   "source": [
    "**置信区间定义:**\n",
    "\n",
    "设 $\\theta$ 是一个待估参数, 给定 $\\alpha>0$, 若由样本 $X_1,X_2,…X_n$ 确定的两个统计量\n",
    "\n",
    "$$\n",
    "\\widehat\\theta_1=\\widehat\\theta_1(X_1,X_2,…X_n)\\\\\n",
    "\\widehat\\theta_2=\\widehat\\theta_2(X_1,X_2,…X_n)(\\widehat\\theta_1<\\widehat\\theta_2)\n",
    "$$\n",
    "\n",
    "满足\n",
    "\n",
    "$$\n",
    "Ｐ\\{\\widehat\\theta_1\\leq\\delta\\leq\\widehat\\theta_2\\}=1-\\alpha\n",
    "$$\n",
    "\n",
    "则称区间 $[\\widehat\\theta_1,\\widehat\\theta_2]$ 为 $\\theta$ 的置信水平(置信度、置信概率)为 $1-\\alpha$ 的置信区间.\n",
    "\n",
    "$\\widehat\\theta_1，\\widehat\\theta_2$ 分别称为置信下限和置信上限."
   ]
  },
  {
   "cell_type": "markdown",
   "metadata": {
    "slideshow": {
     "slide_type": "subslide"
    }
   },
   "source": [
    "可见, 对参数 $\\theta$ 作区间估计, 就是要设法找出两个只依赖于样本的界限(构造统计量).\n",
    "\n",
    "$$\n",
    "\\widehat\\theta_1=\\widehat\\theta_1(X_1,X_2,…X_n)\\\\\n",
    "\\widehat\\theta_2=\\widehat\\theta_2(X_1,X_2,…X_n)(\\widehat\\theta_1<\\widehat\\theta_2)\n",
    "$$\n",
    "\n",
    "一旦有了样本, 就把 $\\theta$ 估计在区间 $[\\widehat\\theta_1,\\widehat\\theta_2]$ 内.这里有两个要求:\n",
    "1. 要求 $\\theta$ 以很大的可能被包含在区间 $[\\widehat\\theta_1,\\widehat\\theta_2]$ 内,就是说，概率 $Ｐ\\{\\widehat\\theta_1\\leq\\delta\\leq\\widehat\\theta_2\\}$ 要尽可能大.\n",
    "1. 估计的精度要尽可能的高.如要求区间长度 $\\widehat\\theta_2-\\widehat\\theta_1$\n",
    "尽可能短,或能体现该要求的其它准则. 可靠度与精度是一对矛盾, 一般是在保证可靠度的条件下尽可能提高精度."
   ]
  },
  {
   "cell_type": "markdown",
   "metadata": {
    "slideshow": {
     "slide_type": "subslide"
    }
   },
   "source": [
    "### 二、单侧置信区间"
   ]
  },
  {
   "cell_type": "markdown",
   "metadata": {
    "slideshow": {
     "slide_type": "fragment"
    }
   },
   "source": [
    "上述置信区间中置信限都是双侧的, 但对于有些实际问题, 人们关心的只是参数在一个方向的界限. 例如对于设备、元件的使用寿命来说, 平均寿命过长没什么问题，过短就有问题了. 这时, 可将置信上限取为 $+\\infty$, 而只着眼于置信下限, 这样求得的置信区间叫单侧置信区间.\n",
    "\n"
   ]
  },
  {
   "cell_type": "markdown",
   "metadata": {
    "slideshow": {
     "slide_type": "subslide"
    }
   },
   "source": [
    "于是引入单侧置信区间和置信限的定义:\n",
    "\n",
    "设 $\\theta$ 是一个待估参数，给定 $\\alpha>0$,若由样本 $X_1,X_2,\\dots,X_n$ 确定的统计量 $\\widehat\\theta_1=\\widehat\\theta_1(X_1,X_2,…X_n)$,满足\n",
    "\n",
    "$$\n",
    "P\\{\\theta\\geq\\widehat\\theta_1\\}=1-\\alpha\n",
    "$$\n",
    "\n",
    "则称区间 $[\\widehat\\theta_1,+\\infty]$ 是 $\\theta$ 的置信水平为 $1-\\alpha$ 的单侧置信区间. $\\widehat\\theta_1$ 称为单侧置信下限."
   ]
  },
  {
   "cell_type": "markdown",
   "metadata": {
    "slideshow": {
     "slide_type": "subslide"
    }
   },
   "source": [
    "又若统计量 $\\widehat\\theta_2=\\widehat\\theta_2(X_1,X_2,…X_n)$,满足\n",
    "\n",
    "$$\n",
    "P\\{\\theta\\leq\\widehat\\theta_2\\}=1-\\alpha\n",
    "$$\n",
    "\n",
    "则称区间 $[-\\infty,\\widehat\\theta_2]$ 是 $\\theta$ 的置信水平为 $1-\\alpha$ 的单侧置信区间. $\\widehat\\theta_2$ 称为单侧置信上限."
   ]
  },
  {
   "cell_type": "markdown",
   "metadata": {
    "slideshow": {
     "slide_type": "subslide"
    }
   },
   "source": [
    "**例1** 从一批灯泡中随机抽取 $5$ 只作寿命试验，测得寿命 $X$（单位：小时）如下：\n",
    "\n",
    "$$\n",
    "1050，1100，1120，1250，1280\n",
    "$$\n",
    "\n",
    "设灯泡寿命服从正态分布.求灯泡寿命均值 $\\mu$ 的置信水平为 $0.95$ 的单侧置信下限."
   ]
  },
  {
   "cell_type": "markdown",
   "metadata": {
    "slideshow": {
     "slide_type": "subslide"
    }
   },
   "source": [
    "**解:** $\\mu$ 的点估计取为样本均值 $\\overline X$,由于方差 $\\sigma^2$ 未知，取样本函数\n",
    "\n",
    "$$\n",
    "\\frac{\\overline X-\\mu}{S/\\sqrt{n}}～t(n-1)\n",
    "$$\n",
    "\n",
    "对给定的置信度 $1-\\alpha$,确定分位数 $t_{\\alpha}(n-1)$,使得\n",
    "\n",
    "$$\n",
    "P(\\frac{\\overline X-\\mu}{S/\\sqrt{n}}\\leq t_{\\alpha}(n-1))=1-\\alpha\n",
    "$$"
   ]
  },
  {
   "cell_type": "markdown",
   "metadata": {
    "slideshow": {
     "slide_type": "subslide"
    }
   },
   "source": [
    "即\n",
    "\n",
    "$$\n",
    "P(\\mu\\geq\\overline X-t_{\\alpha}(n-1)\\frac{S}{\\sqrt{n}})=1-\\alpha\n",
    "$$\n",
    "\n",
    "得均值 $\\mu$ 的置信水平为 $1-\\alpha$ 的单侧置信区间为\n",
    "\n",
    "$$\n",
    "[\\overline X-t_{\\alpha}(n-1)\\frac{S}{\\sqrt{n}},\\infty]\n",
    "$$"
   ]
  },
  {
   "cell_type": "markdown",
   "metadata": {
    "slideshow": {
     "slide_type": "subslide"
    }
   },
   "source": [
    "即 $\\mu$ 的置信水平为 $1-\\alpha$ 的单侧置信下限为\n",
    "\n",
    "$$\n",
    "\\overline X-t_{\\alpha}(n-1)\\frac{S}{\\sqrt{n}}\n",
    "$$\n",
    "\n",
    "将样本值代入得, $\\mu$ 的置信水平为 $0.95$ 的单侧置信下限为 $1065$ 小时."
   ]
  }
 ],
 "metadata": {
  "celltoolbar": "Slideshow",
  "kernelspec": {
   "display_name": "SageMath 7.3",
   "language": "",
   "name": "sagemath"
  },
  "language_info": {
   "codemirror_mode": {
    "name": "ipython",
    "version": 2
   },
   "file_extension": ".py",
   "mimetype": "text/x-python",
   "name": "python",
   "nbconvert_exporter": "python",
   "pygments_lexer": "ipython2",
   "version": "2.7.10"
  }
 },
 "nbformat": 4,
 "nbformat_minor": 1
}
