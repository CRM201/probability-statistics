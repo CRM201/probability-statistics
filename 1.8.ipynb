{
 "cells": [
  {
   "cell_type": "markdown",
   "metadata": {
    "collapsed": true
   },
   "source": [
    "## §1.8 随机事件的独立性"
   ]
  },
  {
   "cell_type": "markdown",
   "metadata": {},
   "source": [
    "**1.随机事件独立性的概念**\n",
    "\n",
    "**引例** 袋中有 8 个球(3 白 5 黑), 从袋中有放回地依次取两球.\n",
    "\n",
    "设 $A:$ 第一次取得白球; $B:$ 第二次取得黑球, 则\n",
    "\n",
    "$$\n",
    "P(B)=\\frac{5}{8},P(B|A)=\\frac{5}{8},P(B|\\bar{A})=\\frac{5}{8}\n",
    "$$\n",
    "\n",
    "即\n",
    "\n",
    "$$\n",
    "P(B)=P(B|A)=P(B|\\bar{A})\n",
    "$$"
   ]
  },
  {
   "cell_type": "markdown",
   "metadata": {},
   "source": [
    "事件 $A$ 的发生与否对事件 $B$ 发生的概率没有影响, 这种情况我们认为 $A$, $B$ 是相互独立的.\n",
    "\n",
    "当 $P(B|A)=P(B)$ 时，乘法公式变为\n",
    "\n",
    "$$\n",
    "P(AB)=P(A){\\color{Blue}{P(B|A)}}={\\color{Blue}{P(A)P(B)}}\n",
    "$$"
   ]
  },
  {
   "cell_type": "markdown",
   "metadata": {},
   "source": [
    "**定义**设 $A$, $B$ 为两事件，若\n",
    "$$\n",
    "P(AB)=P(A)P(B)\n",
    "$$\n",
    "\n",
    "则称 **事件 $A$ 与事件 $B$ 相互独立**."
   ]
  },
  {
   "cell_type": "markdown",
   "metadata": {},
   "source": [
    "**两事件相互独立的性质**\n",
    "\n",
    "(1)必然事件及不可能事件与任何事件 $A$ 相互独立\n",
    "\n",
    "$$\n",
    "P(\\Omega A)={\\color{Red}{P(A)}}=P(\\Omega)P(A)\\\\\n",
    "P(\\emptyset A)=0=P(\\emptyset)P(A)\n",
    "$$\n",
    "\n",
    "(2) 两事件 $A$ 与 $B$ 相互独立是相互对称的\n",
    "\n",
    "若 $P(A)>0$, 则 $P(B)=P(B|A)$\n",
    "\n",
    "若 $P(B)>0$, 则 $P(A)=P(A|B)$\n",
    "\n",
    "(3)四对事件, $A,B$; $A,\\bar{B}$; $\\bar{A},B$; $\\bar{A},\\bar{B}$ 任何一对相互独立, 则其它三对也相互独立.\n",
    "\n",
    "**试证其一**\n",
    "\n",
    "A, $\\bar{B}$ 独立  $\\Rightarrow$ $A,B$ 独立, 事实上\n",
    "\n",
    "$$\n",
    "\\begin{aligned}\n",
    "{\\color{Blue}{P(AB)}}=P(A-A\\bar{B})\n",
    "&=P(A)-P(A\\bar{B})\\\\\n",
    "&=P(A)-P(A)P(\\bar{B})\\\\\n",
    "&=P(A)[1-P(\\bar{B})]\\\\\n",
    "&={\\color{Blue}{P(A)P(B)}}\\\\\n",
    "\\end{aligned}\n",
    "$$\n",
    "\n",
    "$A,B$ 独立  $\\Rightarrow$ $\\bar{A}$, $\\bar{B}$ 独立\n",
    "\n",
    "$$\n",
    "\\begin{aligned}\n",
    "{\\color{Blue}{P(\\bar{A}\\bar{B})}}=P(\\overline{A\\cup B})\n",
    "&=1-P(A\\cup B)\\\\\n",
    "&=1-P(A)-P(B)+P(A)P(B)\\\\\n",
    "&=P(\\bar{A})-P(B)(1-P(A))\\\\\n",
    "&=P(\\bar{A})(1-P(B))\\\\\n",
    "&={\\color{Blue}{P(\\bar{A})P(\\bar{B})}}\\\\\n",
    "\\end{aligned}\n",
    "$$"
   ]
  },
  {
   "cell_type": "markdown",
   "metadata": {},
   "source": [
    "**例1** 甲、乙两人独立地射击同一目标, 甲击中目标的概率为 0.6, 乙击中目标的概率为 0.4, 求此目标被击中的概率."
   ]
  },
  {
   "cell_type": "markdown",
   "metadata": {},
   "source": [
    "**解：**设 $A,B$ 分别表示甲、乙击中目标的事件, $C$ 表示目标被击中的事件, 则\n",
    "\n",
    "$$\n",
    "C=A\\cup B\n",
    "$$\n",
    "\n",
    "故\n",
    "\n",
    "$$\n",
    "\\begin{aligned}\n",
    "P(C)=P(A\\cup B)\n",
    "&=P(A)+P(B)-P(AB)\\\\\n",
    "&=0.6+0.4-0.6\\times 0.4\\\\\n",
    "&=0.76\\\\\n",
    "\\end{aligned}\n",
    "$$"
   ]
  },
  {
   "cell_type": "markdown",
   "metadata": {},
   "source": [
    "**定义** 三事件 $A$ ,$B$ , $C$ 相互独立是指下面的关系式同时成立："
   ]
  },
  {
   "cell_type": "markdown",
   "metadata": {},
   "source": [
    "$$\n",
    "\\begin{cases}\n",
    "P(AB)=P(A)P(B) \\\\\n",
    "P(AC)=P(A)P(C)\\\\\n",
    "P(BC)=P(B)P(C)\\\\\n",
    "\\end{cases}\n",
    "\\qquad(1)\n",
    "$$\n",
    "\n",
    "$$\n",
    "P(ABC)=P(A)P(B)P(C)\\qquad (2)\n",
    "$$"
   ]
  },
  {
   "cell_type": "markdown",
   "metadata": {},
   "source": [
    "**注：**\n",
    "1)关系式(1) (2)不能互相推出\n",
    "\n",
    "2)仅满足(1)式时,称 $A$, $B$, $C$ **两两独立** \n",
    "\n",
    "$A$, $B$, $C$ 相互独立 ${\\color{Red}{\\Rightarrow}}$ $A$, $B$, $C$ 两两独立 "
   ]
  },
  {
   "cell_type": "markdown",
   "metadata": {},
   "source": [
    "**定义** $n$ 个事件 $A_1$, $A_2$, $\\cdots$, $A_n$ 相互独立是指下面的关系式同时成立."
   ]
  },
  {
   "cell_type": "markdown",
   "metadata": {},
   "source": [
    "$$\n",
    "P(A_iA_j)=P(A_i)P(A_j), 1\\leq i < j\\leq n\n",
    "$$\n",
    "\n",
    "$$\n",
    "P(A_iA_jA_k)=P(A_i)P(A_j)P(A_k), 1\\leq i < j<k \\leq n\n",
    "$$\n",
    "\n",
    "$$\n",
    "\\cdots\\cdots\\cdots\\cdots\\cdots\\cdots\n",
    "$$\n",
    "\n",
    "$$\n",
    "P(A_1A_2\\cdots A_n)=P(A_1)P(A_2)\\cdots P(A_n)\n",
    "$$"
   ]
  },
  {
   "cell_type": "markdown",
   "metadata": {},
   "source": [
    "**例2** 排球比赛中规定“三局两胜”, 若某队每局的获胜概率为 0.6, 求该队取胜的概率."
   ]
  },
  {
   "cell_type": "markdown",
   "metadata": {},
   "source": [
    "**解：**设 $A_i=\\{该队在第 i 局中获胜\\}(i=1,2,3)$ ; $A=\\{该队最终获胜\\}$, 则\n",
    "\n",
    "$$\n",
    "A=A_1A_2+\\bar{A_1}A_2A_3+A_1\\bar{A_2}A_3\n",
    "$$\n",
    "\n",
    "由于各局比赛是独立的， 于是\n",
    "\n",
    "$$\n",
    "\\begin{aligned}\n",
    "P(A)\n",
    "&=P(A_1A_2)+P(\\bar{A_1}A_2A_3)+P(A_1\\bar{A_2}A_3)\\\\\n",
    "&=P(A_1)P(A_2)+P(\\bar{A_1})P(A_2)P(A_3)+P(A_1)P(\\bar{A_2})P(A_3)\\\\\n",
    "&=0.6\\times0.6+0.4\\times0.6\\times0.6+0.6\\times0.4\\times0.6\\\\\n",
    "&=0.648\n",
    "\\end{aligned}\n",
    "$$"
   ]
  },
  {
   "cell_type": "markdown",
   "metadata": {
    "collapsed": true
   },
   "source": [
    "**定理1** 若 $A_1, A_2, \\dots, A_n$ 相互独立, 则\n",
    "\n",
    "$$\n",
    "P(\\bigcup_{i=1}^n A_i)=1-P(\\bar{A_1})P(\\bar{A_2})\\dots P(\\bar{A_n})\n",
    "$$"
   ]
  },
  {
   "cell_type": "markdown",
   "metadata": {},
   "source": [
    "**证：** \n",
    "$$\n",
    "\\begin{aligned}\n",
    "P(\\bigcup_{i=1}^n A_i)\n",
    "&=P(A_1\\cup A_2 \\cup\\dots \\cup A_n)\\\\\n",
    "&=1-P(\\overline{A_1\\cup A_2 \\cup\\dots \\cup A_n})\\\\\n",
    "&=1-P(\\bar{A_1}\\bar{A_2}\\dots \\bar{A_n})\\\\\n",
    "&=1-\\prod_{i=1}^n P(A_i)\\\\\n",
    "\\end{aligned}\n",
    "$$"
   ]
  },
  {
   "cell_type": "markdown",
   "metadata": {},
   "source": [
    "**例3** 加工一零件经过三道工序, 设第一、二、三道工序的次品率分别为 2％, 3％, 5％, 假设各工序互不影响, 求加工出来的零件的次品率."
   ]
  },
  {
   "cell_type": "markdown",
   "metadata": {},
   "source": [
    "**解:** 设 $A_i=\\{第 i 道工序出次品\\}（i=1,2,3）$ 则\n",
    "\n",
    "$$\n",
    "P(A_1)=0.02,\\qquad P(A_2)=0.03,\\qquad P(A_3)=0.05\n",
    "$$\n",
    "\n",
    "设 $A=\\{加工出来的零件是次品\\}$, 则 $A=A_1\\cup A_2\\cup A_3$, 由加法定理知\n",
    "\n",
    "$$\n",
    "P(A)=P(A_1)+P(A_2)+P(A_3)-P(A_1A_2)_P(A_2A_3)-P(A_1A_3)+P(A_1A_2A_3)\n",
    "$$\n",
    " \n",
    "又 $A_1, A_2, A_3$ 相互独立， 于是\n",
    "\n",
    "$$\n",
    "P(A_1A_2)=P(A_1)P(A_2)=0.02\\times0.03=0.0006\\\\\n",
    "P(A_2A_3)=P(A_2)P(A_3)=0.03\\times0.05=0.0015\\\\\n",
    "P(A_1A_3)=P(A_1)P(A_3)=0.02\\times0.05=0.0010\\\\\n",
    "P(A_1A_2A_3)=P(A_1)P(A_2)P(A_3)=0.02\\times0.03\\times0.05=0.00003\\\\\n",
    "$$\n",
    "\n",
    "因此\n",
    "\n",
    "$$\n",
    "P(A)=0.09693\n",
    "$$"
   ]
  },
  {
   "cell_type": "markdown",
   "metadata": {},
   "source": [
    "**另解：**\n",
    "\n",
    "$$\n",
    "\\bar{A}=\\overline{A_1\\cup A_2\\cup A_3}=\\bar{A_1}\\bar{A_2}\\bar{A_3}\n",
    "$$\n",
    "\n",
    "$$\n",
    "\\begin{aligned}\n",
    "P(\\bar{A})\n",
    "&=P(\\bar{A_1})P(\\bar{A_2})P(\\bar{A_3})\\\\\n",
    "&=0.98\\times0.97\\times0.95\\\\\n",
    "&=0.90307\\\\\n",
    "\\end{aligned}\n",
    "$$\n",
    "\n",
    "于是\n",
    "\n",
    "$$\n",
    "P(A)=1-P(\\bar{A})=0.09693\n",
    "$$"
   ]
  },
  {
   "cell_type": "markdown",
   "metadata": {},
   "source": [
    "**例4** (**系统可靠性**)一个电子元件能正常工作的概率叫做这个元件的可靠性; 由若干个电子元件构成的系统能正常工作的概率叫做这个系统的可靠性. 系统的可靠性除了与构成系统的各个元件的可靠性有关外, 还与各元件之间的联结方式有关."
   ]
  },
  {
   "cell_type": "markdown",
   "metadata": {},
   "source": [
    "设第 $i$ 个元件 $D_i$ 的可靠性记为 $P_i(i=1,2,\\dots)$, 且各个元件相互独立工作，讨论以下**三种系统的可靠性：**"
   ]
  },
  {
   "cell_type": "markdown",
   "metadata": {},
   "source": [
    "(1)第一种![](./figures/8.png)"
   ]
  },
  {
   "cell_type": "markdown",
   "metadata": {},
   "source": [
    "**解：** 设 $D_i$ 表示第 $i$ 个元件 $D_i$ 能正常工作， 则\n",
    "\n",
    "$$\n",
    "P(D_i)=p_i\\qquad(i=1,2,3,4,5),\n",
    "$$\n",
    "\n",
    "又设 $A_i$ 表示第 $i$ 个系统能正常工作 $(i=1,2,3)$, 则\n",
    "\n",
    "$$\n",
    "A_1=D_1D_2D_3D_4D_5,\n",
    "$$\n",
    "\n",
    "于是\n",
    "\n",
    "$$\n",
    "P(A_1)=P(D_1)P(D_2)P(D_3)P(D_4)P(D_5)=p_1p_2p_3p_4p_5\n",
    "$$"
   ]
  },
  {
   "cell_type": "markdown",
   "metadata": {},
   "source": [
    "(2)第二种![](./figures/9.png)"
   ]
  },
  {
   "cell_type": "markdown",
   "metadata": {},
   "source": [
    "$$\n",
    "A_2=D_1D_2(D_3\\cup D_4\\cup D_5)\n",
    "$$\n",
    "\n",
    "$$\n",
    "P(A_2)=P(D_1)P(D_2)[1-P(\\bar{D_3})P(\\bar{D_4})P(\\bar{D_5})]=p_1p_2[1-(1-p_3)(1-p_4)(1-p_5)]\n",
    "$$"
   ]
  },
  {
   "cell_type": "markdown",
   "metadata": {},
   "source": [
    "(3)第三种![](./figures/10.png)"
   ]
  },
  {
   "cell_type": "markdown",
   "metadata": {},
   "source": [
    "$$\n",
    "A_3=D_1\\cup D_2\\cup D_3\\cup D_4\\cup D_5\n",
    "$$\n",
    "\n",
    "$$\n",
    "\\bar{A_3}=\\bar{D_1}\\bar{D_2}\\bar{D_3}\\bar{D_4}\\bar{D_5}\n",
    "$$\n",
    "\n",
    "$$\n",
    "\\begin{aligned}\n",
    "P(\\bar{A_3})\n",
    "&=P(\\bar{D_1})P(\\bar{D_2})P(\\bar{D_3})P(\\bar{D_4})P(\\bar{D_5})\\\\\n",
    "&=(1-p_1)(1-p_2)(1-p_3)(1-p_4)(1-p_5)\\\\\n",
    "\\end{aligned}\n",
    "$$\n",
    "\n",
    "从而\n",
    "\n",
    "$$\n",
    "P(A_3)=1-\\prod_{i=1}^5 (1-p_i)\n",
    "$$"
   ]
  },
  {
   "cell_type": "markdown",
   "metadata": {},
   "source": [
    "### 小 结"
   ]
  },
  {
   "cell_type": "markdown",
   "metadata": {},
   "source": [
    "1.独立性是概率论的重要概念.\n",
    "\n",
    "2.在实际问题中,事件的独立性通常是根据经验的直观想法判断的.\n",
    "\n",
    "3.独立情形的乘法定理：\n",
    "$$\n",
    "P(AB)=P(A)P(B)\n",
    "$$\n",
    "\n",
    "对照互不相容情形的加法定理\n",
    "\n",
    "$$\n",
    "P(A+B)=P(A)+P(B)\n",
    "$$"
   ]
  },
  {
   "cell_type": "markdown",
   "metadata": {},
   "source": [
    "**思考题**"
   ]
  },
  {
   "cell_type": "markdown",
   "metadata": {},
   "source": [
    "设 $0<P(A)<1$, 且 $P(B|A)=P(B|\\bar{A})$, 试验证： $A$ 与 $B$ 独立."
   ]
  },
  {
   "cell_type": "markdown",
   "metadata": {},
   "source": [
    "**证：**\n",
    "\n",
    "$$\n",
    "\\begin{aligned}\n",
    "P(B)\n",
    "&=P(AB)+P(\\bar{A}B)\\\\\n",
    "&=P(A)P(B|A)+P(\\bar{A})P(B|\\bar{A})\\\\\n",
    "&=P(A)P(B|A)+P(\\bar{A})P(B|A)\\\\\n",
    "&=[P(A)+P(\\bar{A})]P(B|A)\\\\\n",
    "&=P(B|A)\\\\\n",
    "\\end{aligned}\n",
    "$$\n",
    "\n",
    "由事件独立性定义， $A$ 与 $B$ 独立."
   ]
  },
  {
   "cell_type": "markdown",
   "metadata": {},
   "source": []
  }
 ],
 "metadata": {
  "kernelspec": {
   "display_name": "SageMath 7.5.1",
   "language": "",
   "name": "sagemath"
  },
  "language_info": {
   "codemirror_mode": {
    "name": "ipython",
    "version": 2
   },
   "file_extension": ".py",
   "mimetype": "text/x-python",
   "name": "python",
   "nbconvert_exporter": "python",
   "pygments_lexer": "ipython2",
   "version": "2.7.13"
  }
 },
 "nbformat": 4,
 "nbformat_minor": 0
}
