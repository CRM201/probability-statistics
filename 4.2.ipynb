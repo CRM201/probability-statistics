{
 "cells": [
  {
   "cell_type": "markdown",
   "metadata": {
    "collapsed": true,
    "slideshow": {
     "slide_type": "slide"
    }
   },
   "source": [
    "    ### §4.2 随机变量的方差和矩。      "
   ]
  },
  {
   "cell_type": "markdown",
   "metadata": {
    "slideshow": {
     "slide_type": "slide"
    }
   },
   "source": [
    "#### 1. 方差的概念"
   ]
  },
  {
   "cell_type": "markdown",
   "metadata": {
    "slideshow": {
     "slide_type": "fragment"
    }
   },
   "source": [
    "上一节我们介绍了随机变量的数学期望, 它体现了随机变量取值的平均水平, 是随机变量的一个重要的数字特征. 但是在一些场合, 仅仅知道平均值是不够的."
   ]
  },
  {
   "cell_type": "markdown",
   "metadata": {
    "slideshow": {
     "slide_type": "subslide"
    }
   },
   "source": [
    "例如, 某零件的真实长度为 $a$, 现用甲, 乙两台仪器各测量 $10$ 次, 将测量结果 $X$ 用坐标上的点表示如图: \n",
    "\n",
    "![](./figures/44.png)"
   ]
  },
  {
   "cell_type": "markdown",
   "metadata": {
    "slideshow": {
     "slide_type": "notes"
    }
   },
   "source": [
    "若让你就上述结果评价以下两台仪器的优劣, 你认为那台仪器好一些呢?\n",
    "\n",
    "因为乙仪器的测量结果集中在均值附近. "
   ]
  },
  {
   "cell_type": "markdown",
   "metadata": {
    "slideshow": {
     "slide_type": "slide"
    }
   },
   "source": [
    "又如, 甲、乙两门炮同时向一目标射击 $10$ 发炮弹, 其落点距目标的位置如图:"
   ]
  },
  {
   "cell_type": "markdown",
   "metadata": {
    "slideshow": {
     "slide_type": "fragment"
    }
   },
   "source": [
    "![](./figures/45.png)"
   ]
  },
  {
   "cell_type": "markdown",
   "metadata": {
    "slideshow": {
     "slide_type": "notes"
    }
   },
   "source": [
    "你认为哪门炮射击效果好一些呢?\n",
    "\n",
    "因为乙炮的弹着点较集中在中心附近."
   ]
  },
  {
   "cell_type": "markdown",
   "metadata": {
    "slideshow": {
     "slide_type": "slide"
    }
   },
   "source": [
    "为此需要引进另一个数字特征, 用它来度量随机变量取值在其中心附近的离散程度.\n",
    "\n",
    "这个数字特征就是我们这一节要介绍的**方差**."
   ]
  },
  {
   "cell_type": "markdown",
   "metadata": {
    "slideshow": {
     "slide_type": "slide"
    }
   },
   "source": [
    "**定义 1** 随机变量 $X$ 与其数学期望 $E(X)$ 的差, 叫做 $X$ 的离差.\n",
    "\n",
    "注: 随机变量离差的数学期望恒等于零.\n",
    "\n",
    "$$\n",
    "E[X - E(X)] = E(X) - E(X) = 0\n",
    "$$"
   ]
  },
  {
   "cell_type": "markdown",
   "metadata": {
    "slideshow": {
     "slide_type": "slide"
    }
   },
   "source": [
    "**定义 2** 设 $X$ 是一个随机变量, 若 $E[X - E(X)]^2 < \\infty$, 则称\n",
    "\n",
    "$$\n",
    "D(X) = E[X - E(X)]^2\n",
    "$$\n",
    "\n",
    "为 $X$ 的方差.\n",
    "\n",
    "(注: $D(X) = E[X - E(X)]^2$ 采用平方是为了保一切差值 $X - E(X)$ 都起正面的作用)\n",
    "\n",
    "方差的算术平方根 $\\sqrt{D(X)}$ 称为 **标准差**.\n",
    "\n",
    "由于它与 $X$ 具有相同的度量单位, 在实际问题中经常使用."
   ]
  },
  {
   "cell_type": "markdown",
   "metadata": {
    "slideshow": {
     "slide_type": "subslide"
    }
   },
   "source": [
    "$D(X) = E[X - E(X)]^2$ 方差刻画了随机变量的取值对于其数字期望的离散程度.\n",
    "\n",
    "若 $X$ 的取值比较集中, 则方差较小;\n",
    "\n",
    "若 $X$ 的取值比较分散, 则方差较大.\n",
    "\n",
    "若方差 $D(X) = 0$, 则随机变量以概率 $1$ 取常数值."
   ]
  },
  {
   "cell_type": "markdown",
   "metadata": {
    "slideshow": {
     "slide_type": "subslide"
    }
   },
   "source": [
    "由定义知, 方差是随机变量 $X$ 的函数\n",
    "\n",
    "$$\n",
    "g(X) = [X - E(X)]^2\n",
    "$$\n",
    "\n",
    "的数学期望.\n",
    "\n",
    "$$\n",
    "D(X) = \n",
    "\\begin{cases}\n",
    "\\sum_{k =1}^\\infty [x_k - E(X)]^2 p_k\\quad (X 为离散型, P(X = x_k) = p_k)\\\\\n",
    "\\\\\n",
    "\\int_{-\\infty}^{+\\infty} [x - E(X)]^2 f(x) \\mathrm dx \\quad (X为连续型, X \\sim f(x))\\\\\n",
    "\\end{cases}\n",
    "$$"
   ]
  },
  {
   "cell_type": "markdown",
   "metadata": {
    "slideshow": {
     "slide_type": "slide"
    }
   },
   "source": [
    "计算方差的一个简化公式\n",
    "\n",
    "$$\n",
    "D(X) = E(X^2) - [E(X)]^2\n",
    "$$"
   ]
  },
  {
   "cell_type": "markdown",
   "metadata": {
    "slideshow": {
     "slide_type": "fragment"
    }
   },
   "source": [
    "**证明:** \n",
    "\n",
    "$$\n",
    "\\begin{align}\n",
    "D(X) & = E[X - E(X)]^2\\\\\n",
    "& = E\\{X^2-2XE(X)+[E(X)]^2\\}\\quad (展开)\\\\\n",
    "& = E(X^2) - 2[E(X)]^2 + [E(X)]^2 \\quad (利用期望的性质)\\\\\n",
    "& = E(X^2) - [E(X)]^2\n",
    "\\end{align}\n",
    "$$\n",
    "\n",
    "请自己用此公式计算常见分布的方差."
   ]
  },
  {
   "cell_type": "markdown",
   "metadata": {
    "slideshow": {
     "slide_type": "slide"
    }
   },
   "source": [
    "**例 1** 设随机变量 $X$ 服从几何分布, 概率函数为\n",
    "\n",
    "$$\n",
    "P(X = k) = p(1-p)^{k-1},\\quad k=1, 2, \\cdots, n\n",
    "$$\n",
    "\n",
    "其中 $0<p<1$, 求 $D(X)$."
   ]
  },
  {
   "cell_type": "markdown",
   "metadata": {
    "slideshow": {
     "slide_type": "subslide"
    }
   },
   "source": [
    "**解 :** 记 $q = 1- p$\n",
    "\n",
    "$$\n",
    "\\begin{align}\n",
    "E(X) &= \\sum_{k=1}^{\\infty} k p q^{k-1} = p \\sum_{k=1}^{\\infty} (q^k)'\\\\\n",
    "& = p (\\sum_{k=1}^{\\infty} q^k)' \\quad (求和与求导交换次序)\\\\\n",
    "& = p(\\frac{q}{1-q})'\\quad (无穷递缩等比级数求和公式)\\\\\n",
    "& = \\frac{1}{p}\n",
    "\\end{align}\n",
    "$$"
   ]
  },
  {
   "cell_type": "markdown",
   "metadata": {
    "slideshow": {
     "slide_type": "subslide"
    }
   },
   "source": [
    "$$\n",
    "\\begin{align}\n",
    "E(X^2) &= \\sum_{k=1}^{\\infty} k^2 p q^{k-1} \\\\ \n",
    "& = p[\\sum_{k=1}^{\\infty} k(k-1)q^{k-1}+\\sum_{k=1}^{\\infty}k q^{k-1}]= qp(\\sum_{k=1}^{\\infty} q^k)''+ E(X)\\\\\n",
    "& = qp(\\frac{q}{1-q})'' + \\frac{1}{p}= qp \\frac{2}{(1-q)^3} + \\frac{1}{p}\\\\\n",
    "& = \\frac{2q}{p^2}+\\frac{1}{p}= \\frac{2-p}{p^2}\n",
    "\\end{align}\n",
    "$$\n",
    "\n",
    "$$\n",
    "D(X) = E(X^2) - [E(X)]^2=\\frac{2-p}{p^2} - (\\frac{1}{p})^2 = \\frac{1-p}{p^2}\n",
    "$$"
   ]
  },
  {
   "cell_type": "markdown",
   "metadata": {
    "slideshow": {
     "slide_type": "slide"
    }
   },
   "source": [
    "#### 2. 方差的性质"
   ]
  },
  {
   "cell_type": "markdown",
   "metadata": {
    "slideshow": {
     "slide_type": "slide"
    }
   },
   "source": [
    "**性质 1** $D(C)=0$ (其中 $C$ 是任意常数)."
   ]
  },
  {
   "cell_type": "markdown",
   "metadata": {
    "slideshow": {
     "slide_type": "fragment"
    }
   },
   "source": [
    "![](./figures/46.png)"
   ]
  },
  {
   "cell_type": "markdown",
   "metadata": {
    "slideshow": {
     "slide_type": "subslide"
    }
   },
   "source": [
    "**证:** \n",
    "\n",
    "$$\n",
    "D(C) = E[C - E(C)]^2 = E[C-C]^2 = E(0)=0\n",
    "$$"
   ]
  },
  {
   "cell_type": "markdown",
   "metadata": {
    "slideshow": {
     "slide_type": "slide"
    }
   },
   "source": [
    "**性质 2** $D(X + C) = D(X)$ (其中 $C$ 是任意常数)"
   ]
  },
  {
   "cell_type": "markdown",
   "metadata": {
    "slideshow": {
     "slide_type": "fragment"
    }
   },
   "source": [
    "**证:** \n",
    "\n",
    "$$\n",
    "\\begin{align}\n",
    "D(X + C) &= E[(X + C) - E(X + C)]^2\\\\\n",
    "& = E[X + C - E(X) - C]^2\\\\\n",
    "& = E[X - E(X)]^2=D(X)\n",
    "\\end{align}\n",
    "$$"
   ]
  },
  {
   "cell_type": "markdown",
   "metadata": {
    "slideshow": {
     "slide_type": "slide"
    }
   },
   "source": [
    "**性质 3**  $D(CX) = C^2 D(X)$, (其中 $C$ 是任意常数)."
   ]
  },
  {
   "cell_type": "markdown",
   "metadata": {
    "slideshow": {
     "slide_type": "subslide"
    }
   },
   "source": [
    "**证:**\n",
    "\n",
    "$$\n",
    "\\begin{align}\n",
    "D(CX) &= E[CX - E(CX)]^2\\\\\n",
    "&= E\\{C^2[X- E(X)]^2\\}\\\\\n",
    "&=C^2 E[X - E(X)]^2 = C^2D(X)\n",
    "\\end{align}\n",
    "$$"
   ]
  },
  {
   "cell_type": "markdown",
   "metadata": {
    "slideshow": {
     "slide_type": "fragment"
    }
   },
   "source": [
    "由性质2, 3 可得\n",
    "\n",
    "$$\n",
    "D(aX + b) = a^2 D(X)\n",
    "$$"
   ]
  },
  {
   "cell_type": "markdown",
   "metadata": {
    "slideshow": {
     "slide_type": "slide"
    }
   },
   "source": [
    "**性质 4** 若随机变量 $X, Y$ 相互独立, 则\n",
    "\n",
    "$$\n",
    "D(X + Y) = D(X) + D(Y)\n",
    "$$"
   ]
  },
  {
   "cell_type": "markdown",
   "metadata": {
    "slideshow": {
     "slide_type": "fragment"
    }
   },
   "source": [
    "**证明:** 因为 $X,Y$ 独立, 所以 $E(XY)=E(X)E(Y)$\n",
    "\n",
    "$$\n",
    "\\begin{align}\n",
    "& D(X+Y) \\\\\n",
    "=& E[(X + Y)^2]-[E(X+Y)]^2\\\\\n",
    "=& E[X^2 + 2XY + Y^2]-[E(X) + E(Y)]^2\\\\\n",
    "=& E(X^2) + E(Y^2) + 2E(XY)-[E(X)]^2 -[E(Y)]^2-2E(X)E(Y)\\\\\n",
    "=& \\{ E(X^2)-[E(X)]^2\\} + \\{ E(Y^2)-[E(Y)]^2\\} \\\\\n",
    "=& D(X) + D(Y)\n",
    "\\end{align}\n",
    "$$"
   ]
  },
  {
   "cell_type": "markdown",
   "metadata": {
    "slideshow": {
     "slide_type": "subslide"
    }
   },
   "source": [
    "类似可证明: 若随机变量 $X, Y$ 相互独立, 有\n",
    "\n",
    "$$\n",
    "D(X - Y) = D(X) + D(Y)\n",
    "$$\n",
    "\n",
    "性质4可推广为有限多个相互独立随机变量和的情形. 若随机变量 $X_1, X_2, \\cdots, X_n$ 相互独立, 则\n",
    "\n",
    "$$\n",
    "D(\\sum_{n}^{i=1} X_i)= \\sum_{n}^{i=1} D(X_i), \\quad D[\\sum_{i=1}^{n} C_iX_i] = \\sum_{i=1}^{n} C_i^2 D(X_i)\n",
    "$$"
   ]
  },
  {
   "cell_type": "markdown",
   "metadata": {
    "slideshow": {
     "slide_type": "slide"
    }
   },
   "source": [
    "**性质 5** $D(X)=0$ 的充要条件是 $P\\{X = E(X)\\}=1$"
   ]
  },
  {
   "cell_type": "markdown",
   "metadata": {
    "slideshow": {
     "slide_type": "fragment"
    }
   },
   "source": [
    "**证:** **充分性:**\n",
    "\n",
    "若 $P\\{X = E(X)\\}=1$, 则\n",
    "\n",
    "$$\n",
    "D(X) = E[X - E(X)]^2 = E[E(X) - E(X)]^2 = E(0) = 0\n",
    "$$"
   ]
  },
  {
   "cell_type": "markdown",
   "metadata": {
    "slideshow": {
     "slide_type": "subslide"
    }
   },
   "source": [
    "**必要性:**\n",
    "\n",
    "若 $D(X)=0$, 即\n",
    "\n",
    "$$\n",
    "D(X) = E[X - E(X)]^2 = 0\n",
    "$$\n",
    "\n",
    "所以\n",
    "\n",
    "$$\n",
    "P\\{X = E(X)\\}=1\n",
    "$$"
   ]
  },
  {
   "cell_type": "markdown",
   "metadata": {
    "slideshow": {
     "slide_type": "slide"
    }
   },
   "source": [
    "#### 3. 常见分布的方差"
   ]
  },
  {
   "cell_type": "markdown",
   "metadata": {
    "slideshow": {
     "slide_type": "fragment"
    }
   },
   "source": [
    "**例2 ** 二项分布的方差, 设 $X \\sim B(n, p)$, 求其期望和方差. "
   ]
  },
  {
   "cell_type": "markdown",
   "metadata": {
    "slideshow": {
     "slide_type": "fragment"
    }
   },
   "source": [
    "$X$ 表示 $n$ 重贝努利里试验中的\"成功\"次数, 若设\n",
    "\n",
    "$$\n",
    "X_i= \n",
    "\\begin{cases}\n",
    "1, \\quad 第i次实验成功\\\\\n",
    "0, \\quad 第i次实验失败\n",
    "\\end{cases}\n",
    ", \\quad\\quad i = 1,2, \\cdots\n",
    "$$"
   ]
  },
  {
   "cell_type": "markdown",
   "metadata": {
    "slideshow": {
     "slide_type": "fragment"
    }
   },
   "source": [
    "则 $X = \\sum_{i=1}^{n} X_i$ 是 $n$ 次试验中\"成功\"的次数\n",
    "\n",
    "$$\n",
    "E(X_i) = P(X_i = 1)=p,\\quad E(X_i^2)=p\n",
    "$$"
   ]
  },
  {
   "cell_type": "markdown",
   "metadata": {
    "slideshow": {
     "slide_type": "subslide"
    }
   },
   "source": [
    "故\n",
    "\n",
    "$$\n",
    "D(X_i)=E(X_i^2)-[E(X_i)]^2=p-p^2=p(1-p)\\quad i=1, 2, \\cdots, n\n",
    "$$\n",
    "\n",
    "由于 $X_1, X_2, \\cdots, X_n$ 相互独立, 于是\n",
    "\n",
    "$$\n",
    "D(X) = \\sum_{i=1}^{n} D(X_i) = np(1-p)\n",
    "$$"
   ]
  },
  {
   "cell_type": "markdown",
   "metadata": {
    "slideshow": {
     "slide_type": "slide"
    }
   },
   "source": [
    "**例3 ** 设 $X \\sim P(\\lambda)$, 求 $D(X)$."
   ]
  },
  {
   "cell_type": "markdown",
   "metadata": {
    "slideshow": {
     "slide_type": "fragment"
    }
   },
   "source": [
    "服从泊松分布的随机变量 $X$ 的可能取值为 $0, 1, 2, 3, \\cdots, n, \\cdots$. \n",
    "\n",
    "**概率分布**:\n",
    "\n",
    "$$\n",
    "P(X = k) = \\frac{\\lambda^k}{k!}e^{-\\lambda}, \\quad (k= 0, 1, 2, \\cdots, )\\quad (\\lambda > 0).\n",
    "$$"
   ]
  },
  {
   "cell_type": "markdown",
   "metadata": {
    "slideshow": {
     "slide_type": "fragment"
    }
   },
   "source": [
    "$$\n",
    "D(X) = E(X^2) - [E(X)]^2\n",
    "$$"
   ]
  },
  {
   "cell_type": "markdown",
   "metadata": {
    "slideshow": {
     "slide_type": "subslide"
    }
   },
   "source": [
    "**解 :** \n",
    "\n",
    "$$\n",
    "E(X) = \\sum_{k=0}^{+\\infty} k \\cdot \\frac{\\lambda^k e^{-\\lambda}}{k!}=\\lambda e^{-\\lambda} \\sum_{k=1}^{+\\infty} \\frac{\\lambda^{k-1}}{(k-1)!}=\\lambda\n",
    "$$"
   ]
  },
  {
   "cell_type": "markdown",
   "metadata": {
    "slideshow": {
     "slide_type": "subslide"
    }
   },
   "source": [
    "$$\n",
    "E(X^2) = E[X(X-1)]+E(X)\n",
    "$$"
   ]
  },
  {
   "cell_type": "markdown",
   "metadata": {
    "slideshow": {
     "slide_type": "fragment"
    }
   },
   "source": [
    "$$\n",
    "E[X(X-1)] = \\sum_{k=0}^{+\\infty} k(k-1) \\cdot \\frac{\\lambda^k e^{-\\lambda}}{k!}=\\lambda^2 e^{-\\lambda} \\sum_{k=2}^{+\\infty} \\frac{\\lambda^{k-2}}{(k-2)!}=\\lambda^2\n",
    "$$"
   ]
  },
  {
   "cell_type": "markdown",
   "metadata": {
    "slideshow": {
     "slide_type": "fragment"
    }
   },
   "source": [
    "则\n",
    "$$\n",
    "E(X^2) =\\lambda^2+\\lambda\n",
    "$$"
   ]
  },
  {
   "cell_type": "markdown",
   "metadata": {
    "slideshow": {
     "slide_type": "fragment"
    }
   },
   "source": [
    "从而\n",
    "\n",
    "$$\n",
    "D(X) = E(X^2) - [E(X)]^2 = \\lambda\n",
    "$$"
   ]
  },
  {
   "cell_type": "markdown",
   "metadata": {
    "slideshow": {
     "slide_type": "slide"
    }
   },
   "source": [
    "**例 4** 设 $X \\sim U(a, b)$, 求 $D(X)$."
   ]
  },
  {
   "cell_type": "markdown",
   "metadata": {
    "slideshow": {
     "slide_type": "fragment"
    }
   },
   "source": [
    "**解: ** \n",
    "\n",
    "$$\n",
    "\\begin{align}\n",
    "D(X) =& E(X^2)-[E(X)]^2 \\\\\n",
    "= & \\int_a^b x^2 \\frac{1}{b-a} \\mathrm dx - (\\frac{a + b}{2})^2 \\\\\n",
    "=& \\frac{(b-a)^2}{12}\n",
    "\\end{align}\n",
    "$$"
   ]
  },
  {
   "cell_type": "markdown",
   "metadata": {
    "slideshow": {
     "slide_type": "slide"
    }
   },
   "source": [
    "**例 5** 设 $X \\sim N(\\mu, \\sigma^2)$, 求 $D(X)$"
   ]
  },
  {
   "cell_type": "markdown",
   "metadata": {
    "slideshow": {
     "slide_type": "fragment"
    }
   },
   "source": [
    "**解:**\n",
    "\n",
    "$$\n",
    "D(X) = \\int_{-\\infty}^{+\\infty} (x - \\mu)^2 \\frac{1}{\\sqrt{2 \\pi} \\sigma} e^{-\\frac{(x - \\mu)^2}{2 \\sigma^2}} \\mathrm dx\n",
    "$$"
   ]
  },
  {
   "cell_type": "markdown",
   "metadata": {
    "slideshow": {
     "slide_type": "subslide"
    }
   },
   "source": [
    "令 $\\frac{x - \\mu}{\\sigma} = t$\n",
    "\n",
    "$$\n",
    "\\begin{align}\n",
    "DX = &\\int_{-\\infty}^{+\\infty} (x - \\mu)^2 \\frac{1}{\\sqrt{2 \\pi} \\sigma} e^{-\\frac{(x - \\mu)^2}{2 \\sigma^2}} \\mathrm dx \\\\\n",
    "= & \\int_{-\\infty}^{+\\infty} \\sigma^2 t^2 \\frac{1}{\\sqrt{2 \\pi}} e^{-\\frac{t^2}{2}} \\mathrm dt\\\\\n",
    "=& \\sigma^2\n",
    "\\end{align}\n",
    "$$"
   ]
  },
  {
   "cell_type": "markdown",
   "metadata": {
    "slideshow": {
     "slide_type": "slide"
    }
   },
   "source": [
    "**常见随机变量的方差**"
   ]
  },
  {
   "cell_type": "markdown",
   "metadata": {
    "slideshow": {
     "slide_type": "fragment"
    }
   },
   "source": [
    "| 分布 | 概率分布 | 方差$\\quad\\quad\\quad\\quad\\quad$ |\n",
    "|------|--------|------|\n",
    "|参数为 $p$ 的 0-1 分布| $P(X=1)=p \\\\P(X = 0)=1-p$ | $p(1-p)$ |\n",
    "| $B(n, p)$ | $P(X = k) = C_n^k p^k (1-p)^{n-k}\\\\k =0, 1,2, \\cdots$ | $np(1-p)$ |\n",
    "| $P(\\lambda)$ | $P(X = k) = \\frac{\\lambda^k e^{-\\lambda}}{k!}\\\\k=0,1,2,\\cdots$ | $\\lambda$ |"
   ]
  },
  {
   "cell_type": "markdown",
   "metadata": {
    "slideshow": {
     "slide_type": "subslide"
    }
   },
   "source": [
    "| 分布 | 概率分布 | 方差 |\n",
    "|------|--------|------|\n",
    "|区间$(a, b)$ 上的均匀分布 | $f(x)=\\begin{cases}\\frac{1}{b-a},\\quad a<x<b\\\\ 0,\\quad 其它\\end{cases}$ | $\\frac{(b-a)^2}{12}$ |\n",
    "| $E(\\lambda)$ | $f(x)= \\begin{cases}\\lambda e^{-\\lambda},\\quad x>0\\\\ 0,\\quad 其它\\end{cases}$ | $\\frac{1}{\\lambda^2}$ |\n",
    "| $N(\\mu, \\sigma^2)$ | $f(x) = \\frac{1}{\\sqrt{2 \\pi} \\sigma} e^{-\\frac{(x - \\mu)^2}{2 \\sigma^2}}$ | $\\sigma^2$ |"
   ]
  },
  {
   "cell_type": "markdown",
   "metadata": {
    "slideshow": {
     "slide_type": "slide"
    }
   },
   "source": [
    "方差的概念直观背景也可以通过正态分布中不同 $\\sigma^2$ 的密度曲线直观反映出来:\n",
    "\n",
    "$$\n",
    "X \\sim f(x) = \\frac{1}{\\sqrt{2 \\pi} \\sigma} e^{-\\frac{(x - \\mu)^2}{2 \\sigma^2}},\\quad x \\in R\n",
    "$$"
   ]
  },
  {
   "cell_type": "markdown",
   "metadata": {
    "slideshow": {
     "slide_type": "subslide"
    }
   },
   "source": [
    "![](./figures/47.png)"
   ]
  },
  {
   "cell_type": "markdown",
   "metadata": {
    "slideshow": {
     "slide_type": "fragment"
    }
   },
   "source": [
    "若 $\\mu$ 固定, $\\sigma$改变, 则$\\sigma$ 越大, 曲线越平坦, $\\sigma$ 越小, 曲线越陡峭."
   ]
  },
  {
   "cell_type": "markdown",
   "metadata": {
    "slideshow": {
     "slide_type": "slide"
    }
   },
   "source": [
    "**例 6** 设 $f(x)=E(X - x)^2, x \\in R$, 证明当 $x = E(X)$ 时, $f(x)$ 达到最小值."
   ]
  },
  {
   "cell_type": "markdown",
   "metadata": {
    "slideshow": {
     "slide_type": "fragment"
    }
   },
   "source": [
    "**证:**\n",
    "\n",
    "$$\n",
    "\\begin{align}\n",
    "f(x) &= E(X - x)^2 = E(X^2 - 2xX + x^2)\\\\\n",
    "&= E(X^2) - E(2xX) + E(x^2)\\\\\n",
    "&= E(X^2) - 2xE(X) + x^2\\\\\n",
    "\\end{align}\n",
    "$$"
   ]
  },
  {
   "cell_type": "markdown",
   "metadata": {
    "slideshow": {
     "slide_type": "subslide"
    }
   },
   "source": [
    "$$\n",
    "f'(x) = -2E(X) + 2x = 0\n",
    "$$\n",
    "\n",
    "解得 $x = E(X)$ 为 $f(x)$ 的极值点. 又因\n",
    "\n",
    "$$\n",
    "f''(x)=2>0\n",
    "$$"
   ]
  },
  {
   "cell_type": "markdown",
   "metadata": {
    "slideshow": {
     "slide_type": "fragment"
    }
   },
   "source": [
    "所以, $f(x)$ 在 $x =E(X)$ 达到最小值:\n",
    "\n",
    "$$\n",
    "f(E(X)) = E[X - E(X)]^2 = D(X)\n",
    "$$"
   ]
  },
  {
   "cell_type": "markdown",
   "metadata": {
    "slideshow": {
     "slide_type": "slide"
    }
   },
   "source": [
    "**例 7** 已知 $X, Y$ 相互独立, 且都服从 $N(0, 0.5)$, 求 $E(|X - Y|)$."
   ]
  },
  {
   "cell_type": "markdown",
   "metadata": {
    "slideshow": {
     "slide_type": "fragment"
    }
   },
   "source": [
    "**解 :**\n",
    "\n",
    "$$\n",
    "X \\sim N(0, 0.5),\\quad Y \\sim N(0, 0.5)\\\\\n",
    "E(X - Y) = 0, \\quad D(X -Y) = 1\\\\\n",
    "$$"
   ]
  },
  {
   "cell_type": "markdown",
   "metadata": {
    "slideshow": {
     "slide_type": "subslide"
    }
   },
   "source": [
    "故\n",
    "\n",
    "$$\n",
    "Z = X - Y \\sim N(0, 1)\n",
    "$$"
   ]
  },
  {
   "cell_type": "markdown",
   "metadata": {
    "slideshow": {
     "slide_type": "fragment"
    }
   },
   "source": [
    "$$\n",
    "\\begin{align}\n",
    "E(|X - Y|) =& \\int_{-\\infty}^{+\\infty} |z| \\frac{1}{\\sqrt{2 \\pi}} e^{-\\frac{z^2}{2}} \\mathrm dz\\\\\n",
    "=& \\frac{2}{\\sqrt{2 \\pi}} \\int_0^{+\\infty} z e^{-\\frac{z^2}{2}} \\mathrm dz\\\\\n",
    "=& \\sqrt{\\frac{2}{\\pi}}\n",
    "\\end{align}\n",
    "$$"
   ]
  },
  {
   "cell_type": "markdown",
   "metadata": {
    "slideshow": {
     "slide_type": "slide"
    }
   },
   "source": [
    "**例 8** 设 $X$ 表示射击直到将击中目标 $n$ 次为止所需射击的次数, 已知每次射击击中靶的概率为 $p$, 求 $E(X), D(X)$."
   ]
  },
  {
   "cell_type": "markdown",
   "metadata": {
    "slideshow": {
     "slide_type": "fragment"
    }
   },
   "source": [
    "**解 :** 令 $X_i$ 表示击中目标 $i-1$ 次后到第 $i$ 次击中目标所需射击的次数,$i = 1, 2,\\cdots,n$, $X_1,X_2,\\cdots,X_n$ 相互独立, 且 $X = \\sum_{i =1}^{n} X_i$,\n",
    "\n",
    "$$\n",
    "P(X_i = k) = pq^{k-1},\\quad k=1, 2, \\cdots \\quad p+q=1\n",
    "$$"
   ]
  },
  {
   "cell_type": "markdown",
   "metadata": {
    "slideshow": {
     "slide_type": "subslide"
    }
   },
   "source": [
    "$$\n",
    "E(X_i) = \\sum_{k=1}^{+\\infty} kpq^{k-1} = p\\sum_{k=1}^{+\\infty}kq^{k-1}=p\\frac{1}{(1-q)^2}=\\frac{1}{p}\n",
    "$$"
   ]
  },
  {
   "cell_type": "markdown",
   "metadata": {
    "slideshow": {
     "slide_type": "fragment"
    }
   },
   "source": [
    "$$\n",
    "\\begin{align}\n",
    "E(X_i^2) &= \\sum_{k=1}^{+\\infty} k(k-1)pq^{k-1} +  \\sum_{k=1}^{+\\infty} kpq^{k-1}\\\\\n",
    "&=pq\\sum_{k=2}^{+\\infty} k(k-1)q^{k-2} + \\frac{1}{p}\\\\\n",
    "&=pq\\frac{2}{(1-q)^3} + \\frac{1}{p} = \\frac{2-p}{p^2}\n",
    "\\end{align}\n",
    "$$"
   ]
  },
  {
   "cell_type": "markdown",
   "metadata": {
    "slideshow": {
     "slide_type": "subslide"
    }
   },
   "source": [
    "$$\n",
    "D(X_i) = \\frac{2-p}{p^2} - \\frac{1}{p^2} = \\frac{1-p}{p^2}\n",
    "$$"
   ]
  },
  {
   "cell_type": "markdown",
   "metadata": {
    "slideshow": {
     "slide_type": "fragment"
    }
   },
   "source": [
    "故\n",
    "\n",
    "$$\n",
    "E(X) = \\sum_{i=1}^{n} E(X_i) = \\frac{n}{p}\\\\\n",
    "D(X) = \\sum_{i=1}^{n} D(X_i) = \\frac{n(1-p)}{p^2}\n",
    "$$"
   ]
  },
  {
   "cell_type": "markdown",
   "metadata": {
    "slideshow": {
     "slide_type": "slide"
    }
   },
   "source": [
    "#### 标准化随机变量"
   ]
  },
  {
   "cell_type": "markdown",
   "metadata": {
    "slideshow": {
     "slide_type": "fragment"
    }
   },
   "source": [
    "设随机变量的期望 $E(X)$, 方差 $D(X)$ 都存在, 且 $D(X) \\neq 0$, 则称\n",
    "\n",
    "$$\n",
    "X^* = \\frac{X - E(X)}{\\sqrt{D(X)}}\n",
    "$$\n",
    "\n",
    "为 $X$ 的标准化随机变量. 易知:\n",
    "\n",
    "$$\n",
    "E(X^*) = 0， D(X^*)=1\n",
    "$$"
   ]
  },
  {
   "cell_type": "markdown",
   "metadata": {
    "slideshow": {
     "slide_type": "subslide"
    }
   },
   "source": [
    "**证:**\n",
    "\n",
    "$$\n",
    "E(X^*) = E[\\frac{X - E(X)}{D(X)}] = \\frac{E[X - E(X)]}{D(X)} = \\frac{E(X)-E(X)}{D(X)}=0\\\\\n",
    "D(X^*) = D[\\frac{X - E(X)}{D(X)}]= \\frac{D[X - E(X)]}{D^2(X)}=\\frac{D(X)}{D^2(X)}=1\n",
    "$$"
   ]
  },
  {
   "cell_type": "markdown",
   "metadata": {
    "slideshow": {
     "slide_type": "fragment"
    }
   },
   "source": [
    "特别地, 若 $X \\sim N(\\mu, \\sigma^2)$, 则\n",
    "\n",
    "$$\n",
    "X^* = \\frac{X - \\mu}{\\sigma} \\sim N(0,1)\n",
    "$$"
   ]
  },
  {
   "cell_type": "markdown",
   "metadata": {
    "slideshow": {
     "slide_type": "slide"
    }
   },
   "source": [
    "**例 9** 设两个相互独立的随机变量 $X$ 与 $Y$ 方差分别为 $4$ 和 $2$, 则随机变量\n",
    "\n",
    "$$\n",
    "3X-2Y\n",
    "$$\n",
    "\n",
    "的方差是( )."
   ]
  },
  {
   "cell_type": "markdown",
   "metadata": {
    "slideshow": {
     "slide_type": "slide"
    }
   },
   "source": [
    "**例 10** 设\n",
    "\n",
    "$$\n",
    "X \\sim U(-\\frac{1}{2}, \\frac{1}{2}), \n",
    "Y=g(X)=\n",
    "\\begin{cases}\n",
    "\\ln X, \\quad X>0\\\\\n",
    "0, \\quad X\\leq 0\\\\\n",
    "\\end{cases}\n",
    "$$\n",
    "\n",
    "求 $E(Y), D(Y)$."
   ]
  },
  {
   "cell_type": "markdown",
   "metadata": {
    "slideshow": {
     "slide_type": "subslide"
    }
   },
   "source": [
    "**解**\n",
    "\n",
    "$$\n",
    "\\begin{align}\n",
    "E(Y) &= \\int_{-\\infty}^{+\\infty} g(x)f_X(x)\\mathrm dx\\\\\n",
    "&= \\int_{-\\frac{1}{2}}^{\\frac{1}{2}} g(x) \\cdot 1 \\mathrm dx = \\int_{0}^{\\frac{1}{2}} \\ln x \\cdot 1 \\mathrm dx\\\\\n",
    "&= \\frac{1}{2} \\ln \\frac{1}{2}-\\frac{1}{2} = -\\frac{1}{2}\\ln 2 - \\frac{1}{2}\\\\\n",
    "\\end{align}\n",
    "$$"
   ]
  },
  {
   "cell_type": "markdown",
   "metadata": {
    "slideshow": {
     "slide_type": "subslide"
    }
   },
   "source": [
    "$$\n",
    "\\begin{align}\n",
    "E(Y^2) &= \\int_{-\\infty}^{+\\infty} g^2(x)f_X(x)\\mathrm dx\\\\\n",
    "&= \\int_{0}^{\\frac{1}{2}} \\ln^2 x \\cdot 1 \\mathrm dx\\\\\n",
    "&= \\frac{1}{2} \\ln^2 \\frac{1}{2} +1 -\\ln \\frac{1}{2}  = \\frac{1}{2} \\ln^2 2 +1+\\ln2\\\\\n",
    "D(Y) &= E(Y^2) - E^2(Y)= \\frac{1}{4} \\ln^2 2 + \\frac{1}{2}\\ln 2 + \\frac{3}{4}\\\\\n",
    "\\end{align}\n",
    "$$"
   ]
  },
  {
   "cell_type": "markdown",
   "metadata": {
    "slideshow": {
     "slide_type": "slide"
    }
   },
   "source": [
    "#### 4. 原点矩和中心矩"
   ]
  },
  {
   "cell_type": "markdown",
   "metadata": {
    "slideshow": {
     "slide_type": "fragment"
    }
   },
   "source": [
    "将 $g(X)$ 特殊化, 再求期望, 可得到各种数字特征:\n",
    "\n",
    "$k$ 阶原点矩 $E(X^k)$\n",
    "\n",
    "$k$ 阶中心矩 $E([X - E(X)]^k)$\n",
    "\n",
    "$k$ 阶绝对原点矩 $E(|X|^k)$\n",
    "\n",
    "$k$ 阶绝对中心矩 $E(|X - E(X)|^k)$\n",
    "\n",
    "其中 $k$ 是正整数, 假设上述期望均存在. 显然, 随机变量 $X$ 的一阶原点矩就是数学期望, 二阶中心矩就是方差."
   ]
  },
  {
   "cell_type": "markdown",
   "metadata": {
    "slideshow": {
     "slide_type": "slide"
    }
   },
   "source": [
    "#### 小结"
   ]
  },
  {
   "cell_type": "markdown",
   "metadata": {
    "slideshow": {
     "slide_type": "fragment"
    }
   },
   "source": [
    "1. 方差 $D(X)= E[X - E(X)^2]$ 是描述随机变量分布的分散程度的数字特征\n",
    "2. 实用中常用标准差 $\\sigma(X) = \\sqrt{D(X)}$\n",
    "3. 方差计算公式:\n",
    "$$\n",
    "D(X) = E(X^2)-[E(X)]^2\n",
    "$$\n",
    "4. 关于方差的定理\n",
    "$$\n",
    "D(C)=0,\\quad D(CX) = C^2 D(X)\n",
    "$$\n",
    "若 $X$ 与 $Y$ 独立, 则 $D(X + Y)= D(X) + D(Y)$\n",
    "5. 原点矩和中心矩"
   ]
  },
  {
   "cell_type": "markdown",
   "metadata": {
    "slideshow": {
     "slide_type": "slide"
    }
   },
   "source": [
    "**补充例题**"
   ]
  },
  {
   "cell_type": "markdown",
   "metadata": {
    "slideshow": {
     "slide_type": "fragment"
    }
   },
   "source": [
    "**例 1** 在 $[0,1]$ 中随机抽取两个数 $X, Y$, 求 $D(\\min \\{X, Y\\})$."
   ]
  },
  {
   "cell_type": "markdown",
   "metadata": {
    "slideshow": {
     "slide_type": "fragment"
    }
   },
   "source": [
    "**解 :**\n",
    "\n",
    "$$\n",
    "f(x, y) = \n",
    "\\begin{cases}\n",
    "1, \\quad 0<x<1, 0<y<1\\\\\n",
    "0, \\quad 其它\n",
    "\\end{cases}\n",
    "$$"
   ]
  },
  {
   "cell_type": "markdown",
   "metadata": {
    "slideshow": {
     "slide_type": "subslide"
    }
   },
   "source": [
    "$$\n",
    "\\begin{align}\n",
    "E(\\min \\{X, Y\\}) &= \\iint_{0<x<1,\\\\0<y<1} \\min \\{x, y\\} \\mathrm {dxdy}\\\\\n",
    "& = \\int_0^1(\\int_x^1 x \\mathrm dy)\\mathrm dx + \\int_0^1(\\int_y^1 y \\mathrm dx)\\mathrm dy= \\frac{1}{3}\n",
    "\\end{align}\n",
    "$$"
   ]
  },
  {
   "cell_type": "markdown",
   "metadata": {
    "slideshow": {
     "slide_type": "fragment"
    }
   },
   "source": [
    "$$\n",
    "\\begin{align}\n",
    "E({\\min}^2 \\{X, Y\\}) &=\\int_0^1(\\int_x^1 x^2 \\mathrm dy)\\mathrm dx + \\int_0^1(\\int_y^1 y^2 \\mathrm dx)\\mathrm dy\\\\\n",
    "&= \\frac{1}{6}\n",
    "\\end{align}\n",
    "$$"
   ]
  },
  {
   "cell_type": "markdown",
   "metadata": {
    "slideshow": {
     "slide_type": "subslide"
    }
   },
   "source": [
    "$$\n",
    "D(\\min \\{X, Y\\}) = E({\\min}^2 \\{X, Y\\})- E^2(\\min \\{X, Y\\}) = \\frac{1}{18}\n",
    "$$"
   ]
  },
  {
   "cell_type": "markdown",
   "metadata": {
    "slideshow": {
     "slide_type": "slide"
    }
   },
   "source": [
    "**例 2** 设二维随机变量 $(X, Y)$ 在区域 $R: 0<x<1, |y|<x$ 内服从均匀分布, 试求:\n",
    "\n",
    "(1) $X$ 的边缘概率密度;\n",
    "\n",
    "(2) 随机变量 $Z = 2X +1$ 的方差 $D(Z)$"
   ]
  },
  {
   "cell_type": "markdown",
   "metadata": {
    "slideshow": {
     "slide_type": "subslide"
    }
   },
   "source": [
    "![](./figures/48.png)"
   ]
  },
  {
   "cell_type": "markdown",
   "metadata": {
    "slideshow": {
     "slide_type": "fragment"
    }
   },
   "source": [
    "**解:** 区域 $R$ 如图, 易知 $R$ 的面积为 $1$, 所以二维随机变量 $(X, Y)$ 的联合概率密度为\n",
    "\n",
    "$$\n",
    "f(x, y)=\n",
    "\\begin{cases}\n",
    "1, \\quad 0<x<1,|y|<x\\\\\n",
    "\\\\\n",
    "0, \\quad 其它\\\\\n",
    "\\end{cases}\n",
    "$$"
   ]
  },
  {
   "cell_type": "markdown",
   "metadata": {
    "slideshow": {
     "slide_type": "subslide"
    }
   },
   "source": [
    "(1) 当 $x < 0$ 或 $x > 1$ 时, 显然有\n",
    "\n",
    "$$\n",
    "f_X(x) = 0;\n",
    "$$\n",
    "\n",
    "当 $0< x \\leq 1$ 时, 有\n",
    "\n",
    "$$\n",
    "f_X(x) = \\int_{-x}^x \\mathrm dy = 2x\n",
    "$$\n",
    "\n",
    "所以 $X$ 的边缘概率密度为\n",
    "\n",
    "$$\n",
    "f_X(x)= \n",
    "\\begin{cases}\n",
    "2x, \\quad 0\\leq x \\leq 1\\\\\n",
    "0, \\quad 其它\\\\\n",
    "\\end{cases}\n",
    "$$"
   ]
  },
  {
   "cell_type": "markdown",
   "metadata": {
    "slideshow": {
     "slide_type": "subslide"
    }
   },
   "source": [
    "(2) \n",
    "\n",
    "$$\n",
    "E(X)=\\int_{-\\infty}^{+\\infty} x f(x) \\mathrm dx = \\int_0^1x \\cdot 2x \\mathrm dx = 2 \\int_0^1 x^2 \\mathrm dx = \\frac{2}{3}\\\\\n",
    "E(X^2)=\\int_{-\\infty}^{+\\infty} x^2 f(x) \\mathrm dx = \\int_0^1x^2 \\cdot 2x \\mathrm dx = 2 \\int_0^1 x^3 \\mathrm dx =\\frac{1}{2}\n",
    "$$ "
   ]
  },
  {
   "cell_type": "markdown",
   "metadata": {
    "slideshow": {
     "slide_type": "subslide"
    }
   },
   "source": [
    "所以\n",
    "\n",
    "$$\n",
    "D(X) = E(X^2)-[E(X)]^2 = \\frac{1}{2}-(\\frac{2}{3})^2 = \\frac{1}{18}\n",
    "$$\n",
    "\n",
    "因此\n",
    "\n",
    "$$\n",
    "D(Z) = D(2X+1)=4D(X)+0 = 4\\times \\frac{1}{18} = \\frac{2}{9}\n",
    "$$"
   ]
  }
 ],
 "metadata": {
  "celltoolbar": "Slideshow",
  "kernelspec": {
   "display_name": "Python 3",
   "language": "python",
   "name": "python3"
  },
  "language_info": {
   "codemirror_mode": {
    "name": "ipython",
    "version": 3
   },
   "file_extension": ".py",
   "mimetype": "text/x-python",
   "name": "python",
   "nbconvert_exporter": "python",
   "pygments_lexer": "ipython3",
   "version": "3.5.2"
  },
  "livereveal": {
   "scroll": "True",
   "start_slideshow_at": "selected",
   "theme": "sky"
  }
 },
 "nbformat": 4,
 "nbformat_minor": 0
}
