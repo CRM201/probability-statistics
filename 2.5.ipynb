{
 "cells": [
  {
   "cell_type": "markdown",
   "metadata": {
    "collapsed": true
   },
   "source": [
    "### §2.5 连续随机变量的概率密度"
   ]
  },
  {
   "cell_type": "markdown",
   "metadata": {},
   "source": [
    "描述连续随机变量 $X$ 分布时, 无法像前面描述离散随机变量那样:\n",
    "\n",
    "(1) 列出 $X$ 的全部取值;\n",
    "\n",
    "(2) 给出 $X$ 取这些值时对应的概率."
   ]
  },
  {
   "cell_type": "markdown",
   "metadata": {},
   "source": [
    "#### 概率密度函数的定义"
   ]
  },
  {
   "cell_type": "markdown",
   "metadata": {},
   "source": [
    "设 $X$ 是连续随机变量, 是实数,$\\Delta x > 0$, 如果\n",
    "\n",
    "$$\n",
    "\\lim_{\\Delta x \\to 0} \\frac{P(x < X \\leq x + \\Delta x)}{\\Delta x}\n",
    "$$\n",
    "\n",
    "存在, 则称此极限为 $X$ 在 $x$ 处的**概率密度**. 记作 $f(x)$:\n",
    "\n",
    "$$\n",
    "f(x) =\\lim_{\\Delta x \\to 0} \\frac{P(x < X \\leq x + \\Delta x)}{\\Delta x}\n",
    "$$\n",
    "\n",
    "称比值\n",
    "\n",
    "$$\n",
    "\\frac{P(x < X \\leq x + \\Delta x)}{\\Delta x}\n",
    "$$\n",
    "\n",
    "为随机变量 $X$ 在区间 $[x, x+\\Delta x]$ 上的**平均概率分布密度**."
   ]
  },
  {
   "cell_type": "markdown",
   "metadata": {},
   "source": [
    "#### 概率密度函数与分布函数的关系"
   ]
  },
  {
   "cell_type": "markdown",
   "metadata": {},
   "source": [
    "(1) \n",
    "\n",
    "$\n",
    "\\begin{align}\n",
    "f(x) & = \\lim_{\\Delta x \\to 0} \\frac{P(x < X \\leq x + \\Delta x)}{\\Delta x}\\\\\n",
    "& = \\lim_{\\Delta x \\to 0} \\frac{F(x + \\Delta x)- F(x)}{\\Delta x}\\\\\n",
    "& = F'(x)\\\\\n",
    "\\end{align}\n",
    "$"
   ]
  },
  {
   "cell_type": "markdown",
   "metadata": {},
   "source": [
    "(2)\n",
    "\n",
    "$\n",
    "F(x) = P(-\\infty < X \\leq x) = \\int_{-\\infty}^x f(x) \\mathrm dx\n",
    "$"
   ]
  },
  {
   "cell_type": "markdown",
   "metadata": {},
   "source": [
    "**例 1 ** 设随机变量 $X$ 的概率密度为:\n",
    "\n",
    "$$\n",
    "f(x)=\n",
    "\\begin{cases}\n",
    "\\frac{1}{2} \\cos x, \\quad |x| < \\frac{\\pi}{2}\\\\\n",
    "\\\\\n",
    "0, \\quad 其它\n",
    "\\end{cases}\n",
    "$$\n",
    "\n",
    "求 $X$ 的分布函数 $F(x)$."
   ]
  },
  {
   "cell_type": "markdown",
   "metadata": {},
   "source": [
    "**解: ** 当 $x<-\\frac{\\pi}{2}$ 时, \n",
    "\n",
    "$$\n",
    "F(x) = \\int_{-\\infty}^x f(x) \\mathrm dx = 0;\n",
    "$$"
   ]
  },
  {
   "cell_type": "markdown",
   "metadata": {},
   "source": [
    "当 $-\\frac{\\pi}{2} \\leq x < \\frac{\\pi}{2}$,\n",
    "\n",
    "$$\n",
    "\\begin{align}\n",
    "F(x) & = \\int_{-\\infty}^x f(x) \\mathrm dx = \\int_{-\\infty}^{-\\frac{\\pi}{2}} f(x) \\mathrm dx + \\int_{-\\frac{\\pi}{2}}^x f(x) \\mathrm dx \\\\\n",
    "&= \\int_{-\\frac{\\pi}{2}}^x \\frac{1}{2} \\cos x \\mathrm dx \\\\\n",
    "& = \\frac{1+\\sin x}{2}\\\\\n",
    "\\end{align}\n",
    "$$"
   ]
  },
  {
   "cell_type": "markdown",
   "metadata": {},
   "source": [
    "当 $x \\geq \\frac{\\pi}{2}$时,\n",
    "\n",
    "$$\n",
    "\\begin{align}\n",
    "F(x) & = \\int_{-\\infty}^x f(x) \\mathrm dx\\\\\n",
    "& = \\int_{-\\infty}^{-\\frac{\\pi}{2}} f(x) \\mathrm dx + \\int_{-\\frac{\\pi}{2}}^{\\frac{\\pi}{2}} f(x) \\mathrm dx +  \\int_{\\frac{\\pi}{2}}^x f(x) \\mathrm dx\\\\\n",
    "& = 1\n",
    "\\end{align}\n",
    "$$"
   ]
  },
  {
   "cell_type": "markdown",
   "metadata": {},
   "source": [
    "于是\n",
    "\n",
    "$$\n",
    "F(x) = \n",
    "\\begin{cases}\n",
    "0, \\quad x<-\\frac{\\pi}{2}\\\\\n",
    "\\\\\n",
    "\\frac{1+\\sin x}{2}, \\quad -\\frac{\\pi}{2} \\leq x < \\frac{\\pi}{2}\\\\\n",
    "\\\\\n",
    "1,\\quad x \\geq \\frac{\\pi}{2}\n",
    "\\end{cases}\n",
    "$$"
   ]
  },
  {
   "cell_type": "markdown",
   "metadata": {},
   "source": [
    "#### 概率密度函数的性质"
   ]
  },
  {
   "cell_type": "markdown",
   "metadata": {},
   "source": [
    "(1) 密度函数 $f(x)$ 是非负函数: $f(x) \\geq 0$, 即**密度函数的图形(分布曲线)位于 $x$轴上方**.\n",
    "\n",
    "(2) 如果连续随机变量 $X$ 的一切可能值都位于某区间 $[a, b]$ 内, 则\n",
    "\n",
    "$$\n",
    "\\int_a^b f(x) \\mathrm dx = 1\n",
    "$$\n",
    "\n",
    "一般情况下, 当随机变量 $X$ 可以取得一切实数值时, 有\n",
    "\n",
    "$$\n",
    "\\int_{-\\infty}^{+\\infty} f(x) \\mathrm dx = 1\n",
    "$$"
   ]
  },
  {
   "cell_type": "markdown",
   "metadata": {},
   "source": [
    "#### 用概率密度求概率"
   ]
  },
  {
   "cell_type": "markdown",
   "metadata": {},
   "source": [
    "设随机变量 $X$ 的概率密度为 $f(x)$, 则\n",
    "\n",
    "$$\n",
    "P(x_1 < X < x_2) = \\int_{x_1}^{x_2} f(x) \\mathrm dx\n",
    "$$"
   ]
  },
  {
   "cell_type": "markdown",
   "metadata": {},
   "source": [
    "![](./figures/23.png)"
   ]
  },
  {
   "cell_type": "markdown",
   "metadata": {},
   "source": [
    "**例 2 ** 设连续随机变量 $X$ 的概率密度\n",
    "\n",
    "$$\n",
    "f(x) = \\frac{A}{1+x^2}, \\quad -\\infty < X <+\\infty\n",
    "$$\n",
    "\n",
    "求:\n",
    "\n",
    "(1) 常数 $A$ 的值;\n",
    "\n",
    "(2) 随机变量 $X$ 落在区间 $[0, 1]$ 内的概率;\n",
    "\n",
    "(3) 随机变量 $X$ 的分布函数."
   ]
  },
  {
   "cell_type": "markdown",
   "metadata": {},
   "source": [
    "**解 ： ** (1) 根据概率密度的性质, 有\n",
    "\n",
    "$$\n",
    "\\int_{-\\infty}^{+\\infty} \\frac{A}{1 + x^2} \\mathrm dx = 1.\n",
    "$$\n",
    "\n",
    "即 \n",
    "\n",
    "$$\n",
    "A \\int_{-\\infty }^{+\\infty}\\frac{1}{1 + x^2} \\mathrm dx = A \\cdot \\pi =1\n",
    "$$\n",
    "\n",
    "由此得 \n",
    "\n",
    "$$\n",
    "A = \\frac{1}{\\pi}\n",
    "$$"
   ]
  },
  {
   "cell_type": "markdown",
   "metadata": {},
   "source": [
    "(2) 随机变量 $X$ 的概率密度为\n",
    "\n",
    "$$\n",
    "f(x) = \\frac{1}{\\pi (1 + x^2)}, \\quad -\\infty < X < +\\infty\n",
    "$$\n",
    "\n",
    "于是, 所求概率\n",
    "\n",
    "$$\n",
    "P(0 \\leq x \\leq 1) = \\int_{0}^{1} \\frac{1}{\\pi (1 + x^2)} \\mathrm dx = \\frac{1}{\\pi} \\cdot \\frac{\\pi}{4} = 0.25\n",
    "$$"
   ]
  },
  {
   "cell_type": "markdown",
   "metadata": {},
   "source": [
    "(3)随机变量 $X$ 分布函数\n",
    "\n",
    "$$\n",
    "\\begin{align}\n",
    "F(x) & =  \\int_{-\\infty}^{x} \\frac{1}{\\pi (1 + x^2)} \\mathrm dx \\\\\n",
    "& = \\frac{1}{\\pi}(\\arctan x + \\frac{\\pi}{2})\\\\\n",
    "& = \\frac{1}{2} + \\frac{1}{\\pi} \\arctan x\\\\\n",
    "\\end{align}\n",
    "$$"
   ]
  },
  {
   "cell_type": "markdown",
   "metadata": {},
   "source": [
    "**例 3 ** 设随机变量 $X$ 的概率密度为:\n",
    "\n",
    "$$\n",
    "f(x) = \n",
    "\\begin{cases}\n",
    "Ax +1 ,\\quad 0 \\leq x \\leq 2\\\\\n",
    "\\\\\n",
    "0, \\quad 其它\n",
    "\\end{cases}\n",
    "$$\n",
    "\n",
    "(1) 确定常数 $A$;\n",
    "\n",
    "(2) 求 $X$ 的分布函数;\n",
    "\n",
    "(3) 求 $P(\\frac{3}{2} < X < \\frac{5}{2})$"
   ]
  },
  {
   "cell_type": "markdown",
   "metadata": {},
   "source": [
    "**解 :**\n",
    "\n",
    "(1) 由 $\\int_{- \\infty }^{+\\infty } f(x) \\mathrm dx = 1$, 得\n",
    "\n",
    "$$\n",
    "\\int_0^2 (Ax+1) \\mathrm dx =1,\n",
    "$$\n",
    "\n",
    "解得\n",
    "\n",
    "$$\n",
    "A = -\\frac{1}{2}\n",
    "$$"
   ]
  },
  {
   "cell_type": "markdown",
   "metadata": {},
   "source": [
    "(2) \n",
    "\n",
    "当 $x < 0$ 时, \n",
    "\n",
    "$$\n",
    "F(x) = 0\n",
    "$$\n",
    "\n",
    "当 $0 \\leq x < 2$ 时, \n",
    "\n",
    "$$\n",
    "F(x) = \\int_{-\\infty}^{x} f(t) \\mathrm dt = \\int_0^x(At+1)\\mathrm dt = -\\frac{1}{4} x^2 +x\n",
    "$$\n",
    "\n",
    "当 $x \\geq 2$ 时, $F(x) = 1$\n",
    "\n",
    "所以\n",
    "\n",
    "$$\n",
    "F(x) = \n",
    "\\begin{cases}\n",
    "0, \\quad x<0\\\\\n",
    "\\\\\n",
    "-\\frac{1}{4} x^2 +x, \\quad 0\\leq x <2\\\\\n",
    "\\\\\n",
    "1, \\quad x \\geq 2\\\\\n",
    "\\end{cases}\n",
    "$$"
   ]
  },
  {
   "cell_type": "markdown",
   "metadata": {},
   "source": [
    "(3) \n",
    "\n",
    "$$\n",
    "P(\\frac{3}{2} < X < \\frac{5}{2}) = \\int_{\\frac{3}{2}}^{ \\frac{5}{2}} f(x) \\mathrm dx = \\int_{\\frac{3}{2}}^{ \\frac{5}{2}} (Ax+1) \\mathrm dx=\\frac{1}{16}\n",
    "$$"
   ]
  },
  {
   "cell_type": "markdown",
   "metadata": {},
   "source": [
    "**例 4 ** 设连续型随机变量 $X$ 的分布函数为:\n",
    "\n",
    "$$\n",
    "F(x)= \n",
    "\\begin{cases}\n",
    "Ae^x, \\quad x<0\\\\\n",
    "\\\\\n",
    "B,\\quad 0 \\leq x <1\\\\\n",
    "\\\\\n",
    "1 - A e^{-(x-1)}, \\quad x \\geq 1\n",
    "\\end{cases}\n",
    "$$"
   ]
  },
  {
   "cell_type": "markdown",
   "metadata": {},
   "source": [
    "求：\n",
    "\n",
    "(1) A,B 的值;\n",
    "\n",
    "(2) $X$ 的概率密度;\n",
    "\n",
    "(3) $P(X > \\frac{1}{3})$."
   ]
  },
  {
   "cell_type": "markdown",
   "metadata": {},
   "source": [
    "**解:** (1) 由连续型随机变量的定义知, $F(x)$ 是随机变量, 所以\n",
    "\n",
    "$$\n",
    "\\lim_{x \\to 0^-} F(x) = \\lim_{x \\to 0^+} F(x) \\\\\n",
    "\\lim_{x \\to 1^-} F(x) = \\lim_{x \\to 1^+} F(x) \n",
    "$$\n",
    "\n",
    "即\n",
    "\n",
    "$$\n",
    "A = \\lim_{x \\to 0^-} F(x) = \\lim_{x \\to 0^+} F(x) = B\\\\\n",
    "B = \\lim_{x \\to 1^-} F(x) = \\lim_{x \\to 1^+} F(x) = 1-A\n",
    "$$\n",
    "\n",
    "解得\n",
    "\n",
    "$$\n",
    "A = B = \\frac{1}{2}\n",
    "$$"
   ]
  },
  {
   "cell_type": "markdown",
   "metadata": {},
   "source": [
    "(2) 当 $x < 0$ 时,\n",
    "\n",
    "$$\n",
    "f(x) = (\\frac{1}{2}e^x)' = \\frac{1}{2} e^x;\n",
    "$$\n",
    "\n",
    "当 $0 < x < 1$ 时, \n",
    "\n",
    "$$\n",
    "f(x) = (\\frac{1}{2})' = 0\n",
    "$$\n",
    "\n",
    "当 $x > 1 $ 时,\n",
    "\n",
    "$$\n",
    "f(x) = (1 - \\frac{1}{2} e^{- (x - 1)})'= \\frac{1}{2} e^{- (x-1)}.\n",
    "$$"
   ]
  },
  {
   "cell_type": "markdown",
   "metadata": {},
   "source": [
    "所以\n",
    "\n",
    "$$\n",
    "f(x)=\n",
    "\\begin{cases}\n",
    "\\frac{1}{2} e^x, \\quad x < 0\\\\\n",
    "\\\\\n",
    "0, \\quad 0 \\leq x < 1\\\\\n",
    "\\\\\n",
    "\\frac{1}{2} e^{- (x-1)}, \\quad x \\geq 1 \n",
    "\\end{cases}\n",
    "$$"
   ]
  },
  {
   "cell_type": "markdown",
   "metadata": {},
   "source": [
    "(3) $P(X > \\frac{1}{3}) = 1 - P(X \\leq \\frac{1}{3})= 1-F(\\frac{1}{3}) = \\frac{1}{2}$"
   ]
  },
  {
   "cell_type": "markdown",
   "metadata": {},
   "source": [
    "#### 小结"
   ]
  },
  {
   "cell_type": "markdown",
   "metadata": {},
   "source": [
    "1. 概率密度函数是描述连续型随机变量概率分布的最常用的工具.\n",
    "2. 概率密度函数的性质: 非负性, 规范性.\n",
    "3. 概率密度与分布函数的关系.\n",
    "4. 利用密度函数计算概率的公式:\n",
    "\n",
    "$$\n",
    "P(a<X \\leq b) = \\int_a^b f(x) \\mathrm dx\n",
    "$$"
   ]
  },
  {
   "cell_type": "markdown",
   "metadata": {},
   "source": [
    "#### 思考题"
   ]
  },
  {
   "cell_type": "markdown",
   "metadata": {},
   "source": [
    "设随机变量 $X$ 的密度函数为 $f(x)$, 且 $f(-x) = f(x)$,$F(x)$ 是 $X$ 的分布函数, 则对任意实数 $a$, 有$(\\quad)$"
   ]
  },
  {
   "cell_type": "markdown",
   "metadata": {},
   "source": [
    "$(A) \\quad F(-a) = 1 - \\int_0^a f(x) \\mathrm dx$\n",
    "\n",
    "$(B) \\quad F(-a) = \\frac{1}{2} - \\int_0^a f(x) \\mathrm dx$\n",
    "\n",
    "$(c) \\quad F(-a) = F(a)$\n",
    "\n",
    "$(D) \\quad F(-a) = 2F(a) - 1$"
   ]
  },
  {
   "cell_type": "markdown",
   "metadata": {},
   "source": [
    "**解 :** 由于 $f(-x) = f(x)$, 则\n",
    "\n",
    "$$\n",
    "\\int_{-\\infty}^0 f(x) \\mathrm dx = \\int_0^{+\\infty} f(x) \\mathrm dx\n",
    "$$"
   ]
  },
  {
   "cell_type": "markdown",
   "metadata": {},
   "source": [
    "于是 $F(0) = \\int_{-\\infty}^{0}f(x) = \\frac{1}{2}$, 又\n",
    "\n",
    "$$\n",
    "\\begin{align}\n",
    "F(-a) & = \\int_{-\\infty}^{-a} f(x) \\mathrm dx \\\\\n",
    "& = \\int_{a}^{+\\infty} f(x) \\mathrm dx \\\\\n",
    "& = 1 -\\int_{-\\infty}^{a} f(x) \\mathrm dx \\\\\n",
    "&= 1 -[\\int_{-\\infty}^{0} f(x) \\mathrm dx + \\int_{0}^{a} f(x) \\mathrm dx ]\\\\\n",
    "& = 1 - (\\frac{1}{2}+\\int_{0}^{a} f(x) \\mathrm dx )\\\\\n",
    "&=\\frac{1}{2}- \\int_{0}^{a} f(x) \\mathrm dx\\\\\n",
    "\\end{align}\n",
    "$$"
   ]
  },
  {
   "cell_type": "markdown",
   "metadata": {},
   "source": [
    "从而选择 $(B)$。"
   ]
  },
  {
   "cell_type": "markdown",
   "metadata": {},
   "source": [
    "**作业：**\n",
    "Page 57:  11, 12"
   ]
  }
 ],
 "metadata": {
  "kernelspec": {
   "display_name": "Python 3",
   "language": "python",
   "name": "python3"
  },
  "language_info": {
   "codemirror_mode": {
    "name": "ipython",
    "version": 3
   },
   "file_extension": ".py",
   "mimetype": "text/x-python",
   "name": "python",
   "nbconvert_exporter": "python",
   "pygments_lexer": "ipython3",
   "version": "3.5.2"
  }
 },
 "nbformat": 4,
 "nbformat_minor": 0
}
