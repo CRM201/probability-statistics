{
 "cells": [
  {
   "cell_type": "markdown",
   "metadata": {},
   "source": [
    "## §3.2  二维随机变量的边缘分布"
   ]
  },
  {
   "cell_type": "markdown",
   "metadata": {
    "collapsed": true
   },
   "source": [
    "对于二维随机变量 $(X,Y)$, 我们可以对其中的任何一个变量 $X$ 或 $Y$ 进行个别研究, 而不管另一个变量取什么值, 这样得到的分布, 称 $(X,Y)$ 为的 **边缘概率分布**.\n",
    "\n",
    "**问题**： 已知联合分布, 求边缘分布."
   ]
  },
  {
   "cell_type": "markdown",
   "metadata": {},
   "source": [
    "二维联合分布全面地反映了二维随机变量 $(X,Y)$ 的取值及其概率规律. 而单个随机变量 $X$, $Y$ 也具有自己的概率分布. \n",
    "\n",
    "**问题**:二者之间有什么关系呢? 可以相互确定吗?"
   ]
  },
  {
   "cell_type": "markdown",
   "metadata": {},
   "source": [
    "### 1、边缘分布函数 "
   ]
  },
  {
   "cell_type": "markdown",
   "metadata": {},
   "source": [
    "二维随机向量 $(X,Y)$ 作为一个整体, 具有联合分布函数 $F(X,Y)$, 而分量 $X$ 和 $Y$ 都是一维随机变量, 它们各有其自己的分布函数, 依次称它们为随机变量 $(X,Y)$ 关于分量 $X$ 和 $Y$ 的**边缘分布函数**. \n",
    "\n",
    "实际上边缘分布函数可以由联合分布函数来确定. \n",
    "\n",
    "$$\n",
    "\\begin{aligned}\n",
    "F_X(x)\n",
    "&=P(X\\leq x)=P(X\\leq  x, Y<+\\infty)\\\\\n",
    "&=F(x,+\\infty)=\\lim_{y\\to +\\infty}F(x,y)\\\\\n",
    "\\end{aligned}\n",
    "$$\n",
    "\n",
    "$$\n",
    "\\begin{aligned}\n",
    "F_Y(y)\n",
    "&=P(Y\\leq y)=P(X< +\\infty,Y\\leq y)\\\\\n",
    "&=F(+\\infty,y)=\\lim_{x\\to +\\infty}F(x,y)\\\\\n",
    "\\end{aligned}\n",
    "$$\n",
    "\n",
    "所以\n",
    "\n",
    "$$\n",
    "F_X(x)=F(x,+\\infty), \\qquad F_Y(y)=F(+\\infty,y)\n",
    "$$"
   ]
  },
  {
   "cell_type": "markdown",
   "metadata": {},
   "source": [
    "**例1** 设随机变量 $(X,Y)$ 的联合分布函数为\n",
    "\n",
    "$$\n",
    "F(x,y)=\n",
    "\\begin{cases}\n",
    "1-e^{-0.5x}-e^{-0.5y}+e^{-0.5(x+y)},x\\geq 0, y\\geq 0\\\\\n",
    "\\\\\n",
    "0，\\qquad 其他\\\\\n",
    "\\end{cases}\n",
    "$$\n",
    "\n",
    "求 $(X,Y)$ 关于分量 $X$ 的边缘分布函数 $F_X(x)$. "
   ]
  },
  {
   "cell_type": "markdown",
   "metadata": {},
   "source": [
    "**解：**\n",
    "\n",
    "$$\n",
    "\\begin{aligned}\n",
    "F_X(x)\n",
    "&=F(x,+\\infty)=\\lim_{y\\to +\\infty}F(x,y)\\\\\n",
    "&=\\begin{cases}\n",
    "\\lim_{y\\to +\\infty}1-e^{-0.5x}-e^{-0.5y}+e^{-0.5(x+y)},x\\geq 0\\\\\n",
    "\\\\\n",
    "0 \\qquad x<0\\\\\n",
    "\\end{cases}\\\\\n",
    "&=\\begin{cases}\n",
    "1-e^{-0.5x},x\\geq 0\\\\\n",
    "\\\\\n",
    "0 \\qquad x<0\\\\\n",
    "\\end{cases}\n",
    "\\end{aligned}\n",
    "$$\n",
    "\n",
    "即 $X$ 服从参数为 0.5 的指数分布."
   ]
  },
  {
   "cell_type": "markdown",
   "metadata": {},
   "source": [
    "### 2.二维离散随机变量的边缘分布"
   ]
  },
  {
   "cell_type": "markdown",
   "metadata": {},
   "source": [
    "设 $(X,Y)$ 表示二维离散随机变量. 联合分布：\n",
    "\n",
    "$$\n",
    "p_{ij}=p(x_i,y_j)=P(X=x_i,Y=y_j),i=1,2,\\cdots,m\\cdots;j=1,2,\\cdots,n\\cdots\n",
    "$$\n",
    "\n",
    "$X$ 的**边缘概率分布**\n",
    "\n",
    "$$\n",
    "\\begin{aligned}\n",
    "p_X(x_i)\n",
    "&=P(X=x_i)=P(\\sum_{j=1}^{\\infty}(X=x_i,Y=y_j))\\\\\n",
    "&=\\sum_{j=1}^{\\infty}P(X=x_i,Y=y_j)=\\sum_{j=1}^{\\infty}p(x_i,y_j),i=1,2,\\cdots,m\\cdots\\\\\n",
    "\\end{aligned}\n",
    "$$"
   ]
  },
  {
   "cell_type": "markdown",
   "metadata": {},
   "source": [
    "于是 $X$ 的边缘分布表为：\n",
    "\n",
    "|$X$|$x_1$|$x_2$|$\\cdots$|$x_m$|$\\cdots$|\n",
    "|:-----:|:-----:|:-----:|:----:|:-----:|:-----:|:-----:|:----:|\n",
    "|$P(X=x_i)$|$p_X(x_1)$|$p_X(x_1)$|$\\cdots$|$p_X(x_m)$|$\\cdots$|"
   ]
  },
  {
   "cell_type": "markdown",
   "metadata": {},
   "source": [
    "类似可得， **$Y$ 的边缘概率分布**\n",
    "\n",
    "$$\n",
    "p_Y(y_j)=P(Y=y_j)=\\sum_{i=1}^{\\infty}p(x_i,y_j)\n",
    "$$\n",
    "\n",
    "通常记 \n",
    "\n",
    "$$\n",
    "P(X=x_i)=p_{i\\cdot}, \\qquad P(Y=y_j)=p_{\\cdot j},\n",
    "$$\n",
    "\n",
    "于是有\n",
    "\n",
    "$$\n",
    "p_{i\\cdot}=\\sum_j P_ij; \\qquad p_{\\cdot j}=\\sum_i p_ij;\\qquad(i,j=1,2,\\cdots)\n",
    "$$"
   ]
  },
  {
   "cell_type": "markdown",
   "metadata": {},
   "source": [
    "**例2** 已知 $(X,Y)$ 的联合分布表为\n",
    "\n",
    "|$X\\Y$| 0 | 1 |\n",
    "|:-----:|:-----:|:-----:|\n",
    "| 0 |$\\frac{1}{12}$|$\\frac{1}{6}$|\n",
    "| 1 |$\\frac{1}{3}$|$\\frac{5}{12}$|\n",
    "\n",
    "求 $X$, $Y$ 的边缘分布."
   ]
  },
  {
   "cell_type": "markdown",
   "metadata": {},
   "source": [
    "**解：** \n",
    "$$\n",
    "P(X=0)=\\frac{1}{12}+\\frac{1}{6}=\\frac{1}{4}\n",
    "$$\n",
    "\n",
    "$$\n",
    "P(X=1)=\\frac{1}{3}+\\frac{5}{12}=\\frac{3}{4}\n",
    "$$\n",
    "\n",
    "则 $X$ 的边缘分布表为：\n",
    "\n",
    "|$X$| 0 | 1 |\n",
    "|:-----:|:-----:|:-----:|\n",
    "| $p_X(x_i)$ |$\\frac{1}{4}$|$\\frac{3}{4}$|\n",
    "\n",
    "类似可得 $Y$ 的边缘分布表为：\n",
    "\n",
    "|$Y$| 0 | 1 |\n",
    "|:-----:|:-----:|:-----:|\n",
    "| $p_Y(y_j)$ |$\\frac{5}{12}$|$\\frac{7}{12}$|\n",
    "\n",
    "将它们写在联合分布标上, 即得下表\n",
    "\n",
    "|$X\\Y$| 0 | 1 | $p_X(x_i)$ |\n",
    "|:-----:|:-----:|:-----:|:-----:|\n",
    "| 0 |$\\frac{1}{12}$|$\\frac{1}{6}$|$\\frac{1}{4}$|\n",
    "| 1 |$\\frac{1}{3}$|$\\frac{5}{12}$|$\\frac{3}{4}$|\n",
    "| $p_Y(y_j)$ |$\\frac{5}{12}$|$\\frac{7}{12}$|1|"
   ]
  },
  {
   "cell_type": "markdown",
   "metadata": {},
   "source": [
    "### 2. 二维连续随机变量的边缘分布"
   ]
  },
  {
   "cell_type": "markdown",
   "metadata": {},
   "source": [
    "设二维连续随机变量 $(X,Y)$ 的联合分布函数为 $F(X,Y)$, 联合概率密度为 $f(x,y)$.\n",
    "\n",
    "$X$ 的**边缘分布函数**\n",
    "\n",
    "$$\n",
    "\\begin{aligned}\n",
    "F_X(x)\n",
    "&=P(X\\leq x)=P(X\\leq x,Y<+\\infty)\\\\\n",
    "&=F(x,+\\infty)=\\int_{-\\infty}^{x}{\\mathrm d x}\\int_{-\\infty}^{+\\infty}f(x,y){\\mathrm d y}\\\\\n",
    "\\end{aligned}\n",
    "$$\n",
    "\n",
    "$X$ 的**边缘概率密度**\n",
    "\n",
    "$$\n",
    "f_x(x)=\\frac{\\mathrm d}{\\mathrm d x}F_X(x)=\\int_{-\\infty}^{+\\infty}f(x,y){\\mathrm d y}\n",
    "$$\n",
    "\n",
    "**同理可得**\n",
    "\n",
    "$Y$ 的边缘分布函数\n",
    "\n",
    "$$\n",
    "Ｆ_Y(y)=F(+\\infty,y)=\\int_{-\\infty}^{y}\\int_{-\\infty}^{+\\infty}f(x,y){\\mathrm d x}\n",
    "$$\n",
    "\n",
    "$Ｙ$ 的**边缘概率密度**\n",
    "\n",
    "$$\n",
    "f_Ｙ(y)=\\frac{\\mathrm d}{\\mathrm d y}F_Y(y)=\\int_{-\\infty}^{+\\infty}f(x,y){\\mathrm d x}\n",
    "$$"
   ]
  },
  {
   "cell_type": "markdown",
   "metadata": {},
   "source": [
    "**例3** 设二维随机变量 $(X,Y)$ 的联合概率密度为:\n",
    "\n",
    "$$\n",
    "f(x,y)=\n",
    "\\begin{cases}\n",
    "4.8y(2-x),0\\leq x\\leq 1, 0\\leq y\\leq x\\\\\n",
    "\\\\\n",
    "0，\\qquad 其他\\\\\n",
    "\\end{cases}\n",
    "$$\n",
    "\n",
    "求　$f_X(x)$, $f_Y(y)$."
   ]
  },
  {
   "cell_type": "markdown",
   "metadata": {},
   "source": [
    "![](./figures/36.png)\n",
    "**解：** (1) 当 $x<0$ 或　$x>1$ 时, \n",
    "\n",
    "$$\n",
    "f_X(x)=\\int_{-\\infty}^{+\\infty}f(x,y){\\mathrm d y}=0;\n",
    "$$\n",
    "\n",
    "当 $0\\leq x \\leq 1$,\n",
    "\n",
    "$$\n",
    "\\begin{aligned}\n",
    "f_X(x)\n",
    "&=\\int_{-\\infty}^{+\\infty}f(x,y){\\mathrm d y}=\\int_0^xf(x,y){\\mathrm d y}\\\\\n",
    "&=\\int_0^x4.8y(2-x){\\mathrm d y}=2.4x^2(2-x)\\\\.\n",
    "\\end{aligned}\n",
    "$$\n",
    "\n",
    "因此\n",
    "\n",
    "$$\n",
    "f_X(x)=\n",
    "\\begin{cases}\n",
    "2.4x^2(2-x), 0\\leq x \\leq1\\\\\n",
    "0，\\qquad 其他\\\\\n",
    "\\end{cases}\n",
    "$$"
   ]
  },
  {
   "cell_type": "markdown",
   "metadata": {},
   "source": [
    "(2) \n",
    "![](./figures/37.png)\n",
    "当 $y<0$ 或 $y>1$ 时,\n",
    "\n",
    "$$\n",
    "f_Y(y)=\\int_{-\\infty}^{+\\infty}f(x,y){\\mathrm d x}=0;\n",
    "$$\n",
    "\n",
    "当 $0\\leq y \\leq 1$ 时,\n",
    "\n",
    "$$\n",
    "\\begin{aligned}\n",
    "f_Y(y)\n",
    "&=\\int_{-\\infty}^{+\\infty}f(x,y){\\mathrm d x}=\\int_y^1f(x,y){\\mathrm d x}\\\\\n",
    "&=\\int_y^14.8y(2-x){\\mathrm d x}=2.4y(3-4y+y^2)\\\\\n",
    "\\end{aligned}\n",
    "$$\n",
    "\n",
    "因此\n",
    "\n",
    "$$\n",
    "f_Y(y)=\n",
    "\\begin{cases}\n",
    "2.4y(3-4y+y^2), 0\\leq y \\leq1\\\\\n",
    "\\\\\n",
    "0，\\qquad 其他\\\\\n",
    "\\end{cases}\n",
    "$$"
   ]
  },
  {
   "cell_type": "markdown",
   "metadata": {},
   "source": [
    "**例４** 设二维随机变量 $(X,Y)$ 的联合概率密度为:\n",
    "\n",
    "$$\n",
    "f(x,y)=\n",
    "\\begin{cases}\n",
    "e^{-y}, 0 < x < y \\\\\n",
    "\\\\\n",
    "0，\\qquad 其他\\\\\n",
    "\\end{cases}\n",
    "$$\n",
    "\n",
    "求 $f_X(x)$, $f_Y(y)$.\n",
    "\n",
    "![](./figures/38.png)"
   ]
  },
  {
   "cell_type": "markdown",
   "metadata": {},
   "source": [
    "**解：** (1) 当 $x\\leq 0$ 时, $f_X(x)=0$;\n",
    "\n",
    "当 $x>0$ 时,\n",
    "\n",
    "$$\n",
    "f_X(x)=\\int_{-\\infty}^{+\\infty}f(x,y){\\mathrm d y}=\\int_x^{+\\infty}f(x,y){\\mathrm d y}=\\int_x^{+\\infty}e^{-y}{\\mathrm d y}=e^{-x}\n",
    "$$\n",
    "\n",
    "因此\n",
    "\n",
    "$$\n",
    "f_X(x)=\n",
    "\\begin{cases}\n",
    "e^{-x}, x>0;\\\\\n",
    "\\\\\n",
    "0，\\qquad 其他\\\\\n",
    "\\end{cases}\n",
    "$$\n"
   ]
  },
  {
   "cell_type": "markdown",
   "metadata": {},
   "source": [
    "![](./figures/39.png)\n",
    "\n",
    "(2) 当 $y\\leq 0$ 时, $f_Y(y)=0$;\n",
    "\n",
    "当 $y>0$ 时\n",
    "\n",
    "$$\n",
    "f_Y(y)=\\int_{-\\infty}^{+\\infty}f(x,y){\\mathrm d x}=\\int_0^y e^{-y}{\\mathrm d x}=ye^{-y}\n",
    "$$\n",
    "\n",
    "因此\n",
    "\n",
    "$$\n",
    "f_Y(y)=\n",
    "\\begin{cases}\n",
    "ye^{-y},\\qquad  y>0;\\\\\n",
    "\\\\\n",
    "0，\\qquad 其他\\\\\n",
    "\\end{cases}\n",
    "$$"
   ]
  },
  {
   "cell_type": "markdown",
   "metadata": {},
   "source": [
    "**例５** 设随机变量 $(X,Y)$ 服从二维正态分布 $N(0,1;0,1;\\rho)$, 求关于 $X$ 与 $Y$ 的边缘概率密度."
   ]
  },
  {
   "cell_type": "markdown",
   "metadata": {},
   "source": [
    "**解：** 由已知得 $(X,Y)$ 的联合概率密度为\n",
    "\n",
    "$$\n",
    "f(x,y)=\\frac{1}{2\\pi\\sqrt{1-\\rho^2}}e^{-\\frac{1}{2(1-\\rho^2)}[x^2-2\\rho x y+y^2]}\n",
    "$$\n",
    "\n",
    "所以, $X$ 的边缘概率密度为\n",
    "\n",
    "$$\n",
    "\\begin{aligned}\n",
    "f_X(x)\n",
    "&=\\int_{-\\infty}^{+\\infty}f(x,y){\\mathrm d y}\\\\\n",
    "&=\\int_{-\\infty}^{+\\infty}\\frac{1}{2\\pi\\sqrt{1-\\rho^2}}e^{-\\frac{1}{2(1-\\rho^2)}[x^2-2\\rho x y+y^2]}{\\mathrm d y}\\\\\n",
    "&=\\int_{-\\infty}^{+\\infty}\\frac{1}{2\\pi\\sqrt{1-\\rho^2}}e^{-\\frac{1}{2(1-\\rho^2)}[(1-\\rho^2)x^2+(\\rho x)^2-2\\rho x y +y^2]}{\\mathrm d y}\\\\\n",
    "&=\\int_{-\\infty}^{+\\infty}\\frac{1}{2\\pi\\sqrt{1-\\rho^2}}e^{-\\frac{x^2}{2}-\\frac{1}{2(1-\\rho^2)}(y-\\rho x)^2}\\\\\n",
    "&=\\frac{1}{\\sqrt{2\\pi}}e^{-\\frac{x^2}{2}}\\int_{-\\infty}^{+\\infty}\\frac{1}{\\sqrt{2\\pi}}e^{-\\frac{t^2}{2}}{\\mathrm d t}\\qquad(t=\\frac{y-\\rho x}{\\sqrt{1-\\rho^2}})\\\\\n",
    "&=\\frac{1}{\\sqrt{2\\pi}}e^{-\\frac{x^2}{2}}\\\\\n",
    "\\end{aligned}\n",
    "$$\n",
    "\n",
    "所以 $X \\sim N(0,1)$\n",
    "\n",
    "同理可得 $Y$ 的边缘概率密度为\n",
    "\n",
    "$$\n",
    "f_Y(y)=\\frac{1}{\\sqrt{2\\pi}}e^{-\\frac{y^2}{2}}\n",
    "$$\n",
    "\n",
    "即 $Y \\sim N(0,1)$"
   ]
  },
  {
   "cell_type": "markdown",
   "metadata": {},
   "source": [
    "一般的, 我们有以下结论"
   ]
  },
  {
   "cell_type": "markdown",
   "metadata": {},
   "source": [
    "**定理１** 若随机变量 $(X,Y)$ 服从二维正态分布 $N(\\mu_1,\\sigma_1^2;\\mu_2,\\sigma_2^2;\\rho)$, 即\n",
    "\n",
    "$$\n",
    "X\\sim N(\\mu_1,\\sigma_1^2),\\qquad Y\\sim N(\\mu_2,\\sigma_2^2)\n",
    "$$"
   ]
  },
  {
   "cell_type": "markdown",
   "metadata": {},
   "source": [
    "**注1**：二维正态分布 $(X,Y)$ 的边缘概率密度是一维正态分布, 反之未必成立．**见例6**\n",
    "\n",
    "**注2**：这是二维正态分布 $(X,Y)$ 的特征, 其他分布未必成立．**见例7**"
   ]
  },
  {
   "cell_type": "markdown",
   "metadata": {},
   "source": [
    "**例6** 设二维随机变量　$(X,Y)$ 的联合概率密度为\n",
    "\n",
    "$$\n",
    "f(x,y)=\\frac{1}{2\\pi}e^{-\\frac{x^2+y^2}{2}}(1+xy)\\qquad(-\\infty<x,y<+\\infty)\n",
    "$$\n",
    "\n",
    "求 $(X,Y)$ 关于 $X$, $Y$ 的边缘概率密度."
   ]
  },
  {
   "cell_type": "markdown",
   "metadata": {},
   "source": [
    "**解：**　\n",
    "\n",
    "$$\n",
    "\\begin{aligned}\n",
    "f_X(x)\n",
    "&=\\int_{-\\infty}^{+\\infty}f(x,y){\\mathrm d y}=\\frac{1}{2\\pi}\\int_{-\\infty}^{+\\infty}e^{-\\frac{x^2+y^2}{2}}(1+xy){\\mathrm d y}\\\\\n",
    "&=\\frac{1}{2\\pi}(\\int_{-\\infty}^{+\\infty}e^{-\\frac{x^2+y^2}{2}}{\\mathrm d y}+\\int_{-\\infty}^{+\\infty}e^{-\\frac{x^2+y^2}{2}}(xy){\\mathrm d y})\\\\\n",
    "&=\\frac{1}{2\\pi}e^{-\\frac{x^2}{2}}(\\int_{-\\infty}^{+\\infty}e^{-\\frac{y^2}{2}}{\\mathrm d y}+x\\int_{-\\infty}^{+\\infty}e^{-\\frac{y^2}{2}}y{\\mathrm d y})\\\\\n",
    "&=\\frac{1}{\\sqrt{2\\pi}}e^{-\\frac{x^2}{2}}\\frac{1}{\\sqrt{2\\pi}}\\int_{-\\infty}^{+\\infty}e^{-\\frac{y^2}{2}}{\\mathrm d y}\\\\\n",
    "&=\\frac{1}{\\sqrt{2\\pi}}e^{-\\frac{x^2}{2}}\\\\\n",
    "\\end{aligned}\n",
    "$$"
   ]
  },
  {
   "cell_type": "markdown",
   "metadata": {},
   "source": [
    "即\n",
    "\n",
    "$$\n",
    "f_X(x)=\\frac{1}{\\sqrt{2\\pi}}e^{-\\frac{x^2}{2}}\n",
    "$$\n",
    "\n",
    "同理可得\n",
    "\n",
    "$$\n",
    "f_Y(y)=\\frac{1}{\\sqrt{2\\pi}}e^{-\\frac{y^2}{2}}\n",
    "$$\n",
    "\n",
    "$X$, $Y$ 的边缘概率密度为一维正态分布.\n",
    "\n",
    "所以,**边缘概率密度为一维正态分布的二维随机向量不一定是二维正态分布**."
   ]
  },
  {
   "cell_type": "markdown",
   "metadata": {},
   "source": [
    "**例7** 设随机向量 $(X,Y)$ 服从区域 $D$ 上的均匀分布, 其中 $D=\\{(x,y)$, $x2+y2≤1\\}$, 求 $X$, $Y$ 的边缘密度函数 $f_1(x)$ 和 $f_2(y)$."
   ]
  },
  {
   "cell_type": "markdown",
   "metadata": {},
   "source": [
    "![](./figures/310.png)"
   ]
  },
  {
   "cell_type": "markdown",
   "metadata": {},
   "source": [
    "**解：**(1) 由题意得\n",
    "\n",
    "$$\n",
    "f(x,y)=\n",
    "\\begin{cases}\n",
    "\\frac{1}{\\pi}, x^2+y^2\\leq1\\\\\n",
    "\\\\\n",
    "0，\\qquad 其他\\\\\n",
    "\\end{cases}\n",
    "$$\n",
    "\n",
    "$$\n",
    "f_1(x)=\\int_{-\\infty}^{+\\infty}f(x,y){\\mathrm d y}\n",
    "$$\n",
    "\n",
    "当 $|x|>1$ 时, $f(x,y)=0$, 所以 $f_1(x)=0$\n",
    "\n",
    "当 $|x|\\leq 1$ 时,\n",
    "\n",
    "$$\n",
    "\\begin{aligned}\n",
    "f_1(x)\n",
    "&=[\\int_{-\\infty}^{-\\sqrt{1-x^2}}+\\int_{-\\sqrt{1-x^2}}^{\\sqrt{1-x^2}}+\\int_{\\sqrt{1-x^2}}^{+\\infty}]f(x,y){\\mathrm d y}\\\\\n",
    "&=\\int_{-\\sqrt{1-x^2}}^{\\sqrt{1-x^2}}\\frac{2}{\\pi}\\sqrt{1-x^2}\\\\\n",
    "\\end{aligned}\n",
    "$$\n",
    "\n",
    "所以\n",
    "\n",
    "$$\n",
    "f_1(x)=\n",
    "\\begin{cases}\n",
    "\\frac{2}{\\pi}{\\sqrt{1-x^2}}, |x|\\leq 1\\\\\n",
    "\\\\\n",
    "0，\\qquad |x|>1\\\\\n",
    "\\end{cases}\n",
    "$$\n",
    "\n",
    "同理\n",
    "\n",
    "$$\n",
    "f_２(y)=\n",
    "\\begin{cases}\n",
    "\\frac{2}{\\pi}{\\sqrt{1-y^2}}, |y|\\leq 1\\\\\n",
    "\\\\\n",
    "0，\\qquad |y|>1\\\\\n",
    "\\end{cases}\n",
    "$$\n",
    "\n",
    "\n",
    "**均匀分布的边缘密度不再是一维均匀分布**"
   ]
  },
  {
   "cell_type": "markdown",
   "metadata": {},
   "source": [
    "### 小 结"
   ]
  },
  {
   "cell_type": "markdown",
   "metadata": {},
   "source": [
    "1.边缘分布的含义,研究边缘分布的目的.\n",
    "\n",
    "2.二维连续随机变量的边缘分布的计算公式与具体求法：\n",
    "\n",
    "$$\n",
    "f_X(x)=\\int_{-\\infty}^{+\\infty}f(x,y){\\mathrm d y}\n",
    "$$\n",
    "\n",
    "$$\n",
    "f_Y(y)=\\int_{-\\infty}^{+\\infty}f(x,y){\\mathrm d x}\n",
    "$$"
   ]
  },
  {
   "cell_type": "markdown",
   "metadata": {},
   "source": [
    "### 思考题"
   ]
  },
  {
   "cell_type": "markdown",
   "metadata": {},
   "source": [
    "设有两个二维随机变量 $(X,Y)$ 和 $(U,V)$, 它们的联合概率密度年分别为：\n",
    "\n",
    "$$\n",
    "\\phi(x,y)=\n",
    "\\begin{cases}\n",
    "x+y, 0\\leq x\\leq 1,0\\leq y \\leq 1\\\\\n",
    "\\\\\n",
    "0，\\qquad 其他\\\\\n",
    "\\end{cases}\n",
    "$$\n",
    "\n",
    "$$\n",
    "\\psi(u,v)=\n",
    "\\begin{cases}\n",
    "(u+\\frac{1}{2})(v+\\frac{1}{2}), 0\\leq u\\leq 1,0\\leq v \\leq 1\\\\\n",
    "\\\\\n",
    "0，\\qquad 其他\\\\\n",
    "\\end{cases}\n",
    "$$\n",
    "\n",
    "说明它们有相同的边缘分布, 这个例子表明, 对于两个有联系的随机变量, 分别研究它们是不够的."
   ]
  },
  {
   "cell_type": "markdown",
   "metadata": {},
   "source": [
    "**解：** 显然, $x<0$ 或 $x>1$ 时, $\\phi_X(x)=0$; 当 $0\\leq x\\leq 1$ 时, \n",
    "\n",
    "$$\n",
    "\\phi_X(x)=\\int_{-\\infty}^{+\\infty}\\phi(x,y){\\mathrm d y}=\\int_0^1(x+y){\\mathrm d y}=x+\\frac{1}{2}\n",
    "$$\n",
    "\n",
    "于是 $X$ 的边缘分布为：\n",
    "\n",
    "$$\n",
    "\\phi_X(x)=\n",
    "\\begin{cases}\n",
    "x+\\frac{1}{2}, 0\\leq x\\leq 1\\\\\n",
    "\\\\\n",
    "0，\\qquad 其他\\\\\n",
    "\\end{cases}\n",
    "$$\n",
    "\n",
    "类似的可得 $Y$ 的边缘分布为\n",
    "\n",
    "$$\n",
    "\\phi_Y(y)=\n",
    "\\begin{cases}\n",
    "y+\\frac{1}{2} ,0\\leq y \\leq 1\\\\\n",
    "\\\\\n",
    "0，\\qquad 其他\\\\\n",
    "\\end{cases}\n",
    "$$\n",
    "\n",
    "当 $u<0$ 或 $u>1$ 时, $\\psi_U(u)=0$; 当 $0\\leq u\\leq 1$ 时,\n",
    "\n",
    "$$\n",
    "\\psi_U(u)=\\int_{-\\infty}^{+\\infty}\\psi(u,v){\\mathrm d v}=\\int_0^1(u+\\frac{1}{2})(v+\\frac{1}{2}){\\mathrm d v}=u+\\frac{1}{2}\n",
    "$$\n",
    "\n",
    "于是 $U$ 的边缘分布为：\n",
    "\n",
    "$$\n",
    "\\psi_U(u)=\n",
    "\\begin{cases}\n",
    "u+\\frac{1}{2}, 0\\leq u\\leq 1\\\\\n",
    "\\\\\n",
    "0，\\qquad 其他\\\\\n",
    "\\end{cases}\n",
    "$$\n",
    "\n",
    "类似的可得 $V$ 的边缘分布为\n",
    "\n",
    "\n",
    "$$\n",
    "\\psi_V(v)=\n",
    "\\begin{cases}\n",
    "v+\\frac{1}{2}, 0\\leq v\\leq 1\\\\\n",
    "\\\\\n",
    "0，\\qquad 其他\\\\\n",
    "\\end{cases}\n",
    "$$"
   ]
  },
  {
   "cell_type": "code",
   "execution_count": null,
   "metadata": {
    "collapsed": true
   },
   "outputs": [],
   "source": []
  }
 ],
 "metadata": {
  "kernelspec": {
   "display_name": "SageMath 7.5.1",
   "language": "",
   "name": "sagemath"
  },
  "language_info": {
   "codemirror_mode": {
    "name": "ipython",
    "version": 2
   },
   "file_extension": ".py",
   "mimetype": "text/x-python",
   "name": "python",
   "nbconvert_exporter": "python",
   "pygments_lexer": "ipython2",
   "version": "2.7.13"
  }
 },
 "nbformat": 4,
 "nbformat_minor": 0
}
