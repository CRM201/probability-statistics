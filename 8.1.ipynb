{
 "cells": [
  {
   "cell_type": "markdown",
   "metadata": {},
   "source": [
    "# 第8章    假设检验\n"
   ]
  },
  {
   "cell_type": "markdown",
   "metadata": {},
   "source": [
    "## 8.1   假设检验的基本概念"
   ]
  },
  {
   "cell_type": "markdown",
   "metadata": {},
   "source": [
    "### 一、假设检验的基本思想和基本步骤"
   ]
  },
  {
   "cell_type": "markdown",
   "metadata": {},
   "source": [
    "假设检验是指施加于一个或多个总体的概率分布或参数的假设. 所作的假设可以是正确的, 也可以是错误的. 为判断所作的假设是否正确, 从总体中抽取样本, 根据样本的取值, 按一定的原则进行检验, 然后, 作出接受或拒绝所作假设的决定."
   ]
  },
  {
   "cell_type": "markdown",
   "metadata": {},
   "source": [
    "#### 1、假设检验的内容"
   ]
  },
  {
   "cell_type": "markdown",
   "metadata": {},
   "source": [
    "\\begin{cases}\n",
    "参数检验(总体均值、均值差的检验;总体方差、方差比的检验)\\\\\n",
    "非参数检验(分布拟合检验;符号检验;秩和检验)\n",
    "\\end{cases}"
   ]
  },
  {
   "cell_type": "markdown",
   "metadata": {},
   "source": [
    "#### 2、假设检验的理论依据"
   ]
  },
  {
   "cell_type": "markdown",
   "metadata": {},
   "source": [
    "假设检验所以可行, 其理论背景为实际推断原理, 即“小概率原理”"
   ]
  },
  {
   "cell_type": "markdown",
   "metadata": {},
   "source": [
    "小概率事件在一次试验中基本上不会发生.下面我们用一例说明这个原则. 这里有两个盒子, 各装有 $100$ 个球. 其中一盒装有 $99$ 个白球和 $1$ 个红球, 另一盒装有 $99$ 个红球和 $1$ 个白球. 现从两盒中随机取出一个盒子, 问这个盒子里是白球 $99$ 个还是红球 $99$ 个？\n",
    "\n",
    "我们不妨先假设: 这个盒子里有 $99$ 个白球. 现在我们从中随机摸出一个球, 发现是红球, 此时你如何判断这个假设是否成立呢？"
   ]
  },
  {
   "cell_type": "markdown",
   "metadata": {},
   "source": [
    "假设其中真有 $99$ 个白球, 摸出红球的概率只有 $1/100$, 这是小概率事件. 小概率事件在一次试验中竟然发生了, 不能不使人怀疑所作的假设. 这个例子中所使用的推理方法, 可以称为**带概率性质的反证法**,不妨称为概率反证法."
   ]
  },
  {
   "cell_type": "markdown",
   "metadata": {},
   "source": [
    "它不同于一般的反证法. 一般的反证法要求在原假设成立的条件下导出的结论是绝对成立的, 如果事实与之矛盾, 则完全绝对地否定原假设."
   ]
  },
  {
   "cell_type": "markdown",
   "metadata": {},
   "source": [
    "概率反证法的逻辑是:\n",
    "\n",
    "如果小概率事件在一次试验中居然发生, 我们就以很大的把握否定原假设."
   ]
  },
  {
   "cell_type": "markdown",
   "metadata": {},
   "source": [
    "这一节我们讨论对参数的假设检验, 让我们先看一个例子."
   ]
  },
  {
   "cell_type": "markdown",
   "metadata": {},
   "source": [
    "**例1**  某产品的出厂检验规定: 次品率 $p$ 不超过 $4\\%$ 才能出厂. 现从一万件产品中任意抽查 $12$ 件发现 $3$ 件次品, 问该批产品能否出厂？若抽查结果发现 $1$ 件次品, 问能否出厂？\n",
    "\n",
    "**解** 假设 $p\\leq0.04$, $P_{12}(3)=C_{12}^{3}p^3(1-p)^9=0.0097<0.01$,\n",
    "这是小概率事件, 一般在一次试验中是不会发生的, 现一次试验竟然发生, 故可以认为原假设不成立, 即该批产品次品率 $p>0.04$, 则该批的产品不能出厂, 相反\n",
    "\n",
    "$$\n",
    "P_{12}(1)=C_{12}^{1}p^3(1-p)^{11}=0.306>0.3\n",
    "$$\n",
    "\n",
    "这不是小概率时间, 没有理由拒绝原假设, 从而接受原假设, 即该批产品可以出厂.\n",
    "\n",
    "注: 若不采用假设检验, 而是直接计算\n",
    "\n",
    "$$\n",
    "\\frac{1}{12}=0.083>0.04\n",
    "$$\n",
    "\n",
    "则按理也不能出厂."
   ]
  },
  {
   "cell_type": "markdown",
   "metadata": {},
   "source": [
    "**上述出厂检验问题的数学模型**\n",
    "\n",
    "对总体 $X～B(1,p)=p^x(1-p)^{1-x},x=0,1$.提出假设\n",
    "\n",
    "$$\n",
    "H_0:~p\\leq 0.04;\\qquad H_1:~p>0.04\n",
    "$$\n",
    "\n",
    "要求利用样本观察值 $(x_1,x_2,\\Lambda,x_{12})$, $(\\sum_{i=1}^{12}x_i=3 ~or ~1)$. 对提供的信息作出接受 $H_0$ (可出厂),还是接受 $H_1$ (不准出厂) 的判断."
   ]
  },
  {
   "cell_type": "markdown",
   "metadata": {},
   "source": [
    "**例2**  某厂提供的电灯泡, 其使用寿命(小时) $X ～N(1600,150^2)$, 随机抽取 $25$ 个, 测得它们的平均寿命为 $1528$ 小时, 试问这些灯泡的是否合格?\n",
    "\n",
    "**解** 假设灯泡合格，即 $\\mu=1600$ ,由 $X～N(1600,150^2)$ 知\n",
    "\n",
    "$$\n",
    "U=\\frac{\\overline X-1600}{150/\\sqrt{25}}～N(0,1)\n",
    "$$\n",
    "\n",
    "$$\n",
    "P(|U|>u_{\\alpha/2})=\\alpha\n",
    "$$\n",
    "\n",
    "$$\n",
    "\\overline X>1600+\\frac{150}{\\sqrt{25}}u_{\\alpha/2},\\\\\n",
    "\\overline X<1600-\\frac{150}{\\sqrt{25}}u_{\\alpha/2}\n",
    "$$\n",
    "\n",
    "取一充分小的 $\\alpha$,例如 $\\alpha=0.05$ ,知 $u_{\\alpha/2}=1.96$ ,事件\n",
    "\n",
    "$$\n",
    "(|U|>u_{\\alpha/2})=(|U|>1.96)\n",
    "$$\n",
    "\n",
    "即\n",
    "\n",
    "$$\n",
    "(\\overline X<1600-58.8)\\cup(\\overline X>1600+58.8)=(\\overline X<1541.2)\\cup(\\overline X>1658.8)\n",
    "$$\n",
    "\n",
    "这是一个小概率事件. 试验的结果 $1528<1541.2$, 意味着这个小概率事件发生了, 表明抽样检查的结果与原假设 $H_0:\\mu=1600$ 不符,应认为这些灯泡不合格."
   ]
  },
  {
   "cell_type": "markdown",
   "metadata": {},
   "source": [
    "但取另一充分小的 $\\alpha$,例如 $\\alpha=0.0１$ ,知 $u_{\\alpha/2}=3.3$ ,事件\n",
    "\n",
    "$$\n",
    "(|U|>u_{\\alpha/2})=(|U|>3.3)\n",
    "$$\n",
    "\n",
    "即\n",
    "\n",
    "$$\n",
    "(\\overline X<1600-99)\\cup(\\overline X>1600+99)=(\\overline X<1501)\\cup(\\overline X>1699)\n",
    "$$\n",
    "\n",
    "这是一个小概率事件. 试验的结果 $1501<1528<1699$, 意味着这个小概率事件没有发生, 这又表明抽样检查的结果与原假设 $H_0:\\mu=1600$ 符合, 应认为这些灯泡合格. 因此, 假设检验的结论与事先给定的小概率 $\\alpha$ 密切相关."
   ]
  },
  {
   "cell_type": "markdown",
   "metadata": {},
   "source": [
    "**定义**  \n",
    "\n",
    "1. 事先给定的小概率 $\\alpha$ 称为检验的显著性水平.\n",
    "1. 相应的 $\\alpha$ 分位数 $u_{\\alpha/2}$ 叫做临界值,\n",
    "1. 小概率事件对应的区域叫做拒绝域.\n",
    "1. 检验时提出的假设 $H_0$ 叫做原假设,\n",
    "1. 相反的假设 $H_1$ 称为对立假设或备选假设.\n"
   ]
  },
  {
   "cell_type": "markdown",
   "metadata": {},
   "source": [
    "#### 3. 假设检验的一般步骤"
   ]
  },
  {
   "cell_type": "markdown",
   "metadata": {},
   "source": [
    "1. 根据实际问题的要求，提出原假设 $H_0$ 及备选假设 $H_1$;\n",
    "1. 给定显著性水平 $\\alpha$ 以及样本容量 $N$;\n",
    "1. 确定检验统计量以及拒绝域形式;\n",
    "1. 按 $P\\{H_0为真，拒绝H_0\\}=\\alpha$ 求出拒绝域;\n",
    "1. 取样, 根据样本观察值确定接受还是拒绝 $H_0$."
   ]
  },
  {
   "cell_type": "markdown",
   "metadata": {},
   "source": [
    "### 二、两类错误"
   ]
  },
  {
   "cell_type": "markdown",
   "metadata": {},
   "source": [
    "由例2可见, 在给定 $\\alpha$ 的前提下, 接受还是拒绝原假设完全取决于样本值, 因此所作检验可能导致以下两类错误的产生：\n",
    "1. 弃真错误\n",
    "1. 纳伪错误\n",
    "\n",
    "犯第一类错误的概率通常记为 $\\alpha$; 犯第二类错误的概率通常记为 $\\beta$.\n"
   ]
  },
  {
   "cell_type": "markdown",
   "metadata": {},
   "source": [
    "希望所用的检验方法尽量少犯错误, 但不能完全排除犯错误的可能性. 理想的检验方法应使犯两类错误的概率都很小但在样本的容量给定的情形下, 不可能使两者都很小, 降低一个, 往往使另一个增大. \n"
   ]
  },
  {
   "cell_type": "markdown",
   "metadata": {},
   "source": [
    "假设检验的指导思想是控制犯第一类错误的概率不超过 $\\alpha$, 然后, 若有必要, 通过增大样本容量的方法来减少 $\\beta$ ."
   ]
  },
  {
   "cell_type": "markdown",
   "metadata": {},
   "source": [
    "在例2中，犯第一类错误的概率 $= P(拒绝H_0|H_0为真)=P(\\overline X<1541.2\\cup\\overline X>1658.8)=\\alpha=0.05$\n",
    "\n",
    "若 $H_0$ 为真，则\n",
    "\n",
    "$$\n",
    "\\overline X～N(1600,\\frac{150^2}{25})\n",
    "$$\n",
    "\n",
    "所以拒绝 $H_0$ 的概率为 $\\alpha$ , $\\alpha$ 又称为显著性水平, $\\alpha$ 越大,犯第一类错误的概率越大, 即越显著."
   ]
  },
  {
   "cell_type": "markdown",
   "metadata": {},
   "source": [
    "### 三.双侧假设检验与单侧假设检验\n"
   ]
  },
  {
   "cell_type": "markdown",
   "metadata": {},
   "source": [
    "上述例2的假设检验中,当 $|U|=\\frac{|\\overline X-\\mu_0|}{\\sigma_0/\\sqrt{n}}>u_{\\alpha/2}$ 时，即 $u$ 落在区间 $(-\\infty,-u_{\\alpha/2})$ 或 $(u_{\\alpha/2},+\\infty)$ 时,拒绝原假设.则这两个区间为在显著性水平 $\\alpha$ 下关于 $H_0$ 的拒绝域.由于拒绝域分别位于两侧,故称这类假设检验为双侧假设检验.\n"
   ]
  },
  {
   "cell_type": "markdown",
   "metadata": {},
   "source": [
    "若例2关心的是产品寿命均值 $\\mu$ 不应太小, 则考虑单侧情形.给定显著性水平 $\\alpha$ ,检验如下假设\n",
    "\n",
    "$$\n",
    "H_0:~\\mu\\geq\\mu_0=1600;\\qquad H_1:~\\mu<\\mu_0.\n",
    "$$\n",
    "\n",
    "(1) 若 $\\mu=\\mu_0$, 有 $P(u<-u_{\\alpha})=P(\\frac{\\overline X-\\mu_0}{\\sigma_0/\\sqrt{n}}<-u_{\\alpha})=\\alpha$"
   ]
  },
  {
   "cell_type": "markdown",
   "metadata": {},
   "source": [
    "![](./figures/81.png)"
   ]
  },
  {
   "cell_type": "markdown",
   "metadata": {},
   "source": [
    "$$\n",
    "H_0:~\\mu\\geq\\mu_0=1600;\\qquad H_1:~\\mu<\\mu_0.\n",
    "$$\n",
    "\n",
    "(2) 若 $\\mu>\\mu_0$, 有 $\\frac{\\overline X-\\mu}{\\sigma_0/\\sqrt{n}}<\\frac{\\overline X-\\mu_0}{\\sigma_0/\\sqrt{n}}$\n",
    "\n",
    "$$\n",
    "P(u<-u_{\\alpha})=P(\\frac{\\overline X-\\mu_0}{\\sigma_0/\\sqrt{n}}<-u_{\\alpha})\\leq P(\\frac{\\overline X-\\mu}{\\sigma_0/\\sqrt{n}}<-u_{\\alpha})=\\alpha\n",
    "$$\n",
    "\n",
    "观测值 $u<-u_{\\alpha}$ 时,拒绝原假设 $H_0$,此类检验为左侧假设检验.\n",
    "\n",
    "![](./figures/82.png)"
   ]
  },
  {
   "cell_type": "markdown",
   "metadata": {},
   "source": [
    "上例 $H_0:~\\mu\\geq\\mu_0=1600;\\qquad H_1:~\\mu<\\mu_0$. 取 $\\alpha=0.05$ ,由样本信息 $\\overline x =1528,\\sigma_0=150,\\mu_0=1600$. 代入得\n",
    "\n",
    "$$\n",
    "u=\\frac{\\overline X-\\mu_0}{\\sigma_0/\\sqrt{n}}=\\frac{1528-1600}{150/\\sqrt{25}}=-2.4\n",
    "$$\n",
    "\n",
    "$$\n",
    "u_{\\alpha} = u_{0.05} =1.645,\n",
    "$$\n",
    "\n",
    "所以 $-2.4<-1.645$ ，即 $u<-u_{\\alpha}$ ,这时,拒绝原假设接受备择假设,认为这批元件的寿命均值显著地低于 $1600h$."
   ]
  },
  {
   "cell_type": "markdown",
   "metadata": {},
   "source": [
    "### 四、假设检验的一般步骤\n"
   ]
  },
  {
   "cell_type": "markdown",
   "metadata": {},
   "source": [
    "1. 根据实际问题的要求，提出原假设 $H_0$ 及备选假设 $H_1$;\n",
    "1. 给定显著性水平 $\\alpha$ 以及样本容量 $N$;\n",
    "1. 确定检验统计量以及拒绝域形式;\n",
    "1. 按 $P\\{H_0为真，拒绝H_0\\}=\\alpha$ 求出拒绝域;\n",
    "1. 取样，根据样本观察值确定接受还是拒绝 $H_0$."
   ]
  },
  {
   "cell_type": "markdown",
   "metadata": {},
   "source": [
    "### 小结"
   ]
  },
  {
   "cell_type": "markdown",
   "metadata": {},
   "source": [
    "1. 假设检验的基本思想及推理方法: 根据小概率事件的实际不可能性原理.\n",
    "1. 双侧假设检验与单侧假设检验.由实际问题选择检验方式.\n",
    "1. 假设检验的一般步骤.\n"
   ]
  }
 ],
 "metadata": {
  "kernelspec": {
   "display_name": "SageMath 7.3",
   "language": "",
   "name": "sagemath"
  },
  "language_info": {
   "codemirror_mode": {
    "name": "ipython",
    "version": 2
   },
   "file_extension": ".py",
   "mimetype": "text/x-python",
   "name": "python",
   "nbconvert_exporter": "python",
   "pygments_lexer": "ipython2",
   "version": "2.7.10"
  }
 },
 "nbformat": 4,
 "nbformat_minor": 0
}
