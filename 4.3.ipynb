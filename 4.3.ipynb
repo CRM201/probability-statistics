{
 "cells": [
  {
   "cell_type": "markdown",
   "metadata": {},
   "source": [
    "### §4.3 协方差和相关系数"
   ]
  },
  {
   "cell_type": "markdown",
   "metadata": {},
   "source": [
    "前面介绍了随机变量的数学期望和方差, 对于多维随机变量, 反映分量之间关系的数字特征中, 最重要的, 就是本节要讨论的**协方差和相关系数**"
   ]
  },
  {
   "cell_type": "markdown",
   "metadata": {},
   "source": [
    "#### 一. 协方差"
   ]
  },
  {
   "cell_type": "markdown",
   "metadata": {},
   "source": [
    "**1. 定义** 任意两个随机变量 $X$ 和 $Y$ 的协方差, 记为 $Cov(X, Y)$, 定义为\n",
    "\n",
    "$$\n",
    "Cov(X, Y) = E\\{[X - E(X)][Y - E(Y)]\\}\n",
    "$$"
   ]
  },
  {
   "cell_type": "markdown",
   "metadata": {},
   "source": [
    "#### 2. 简单性质\n",
    "\n",
    "(1) $Cov(X, Y) = Cov(Y, X)$\n",
    "\n",
    "(2) $Cov(aX, bY) = ab Cov(X, Y),ab$ 是常数\n",
    "\n",
    "(3) $Cov(X_1+X_2, Y) = Cov(X_1, Y) + Cov(X_2, Y)$ "
   ]
  },
  {
   "cell_type": "markdown",
   "metadata": {},
   "source": [
    "#### 3. 计算协方差的一个简单公式"
   ]
  },
  {
   "cell_type": "markdown",
   "metadata": {},
   "source": [
    "由协方差的定义及期望的性质, 可得\n",
    "\n",
    "$$\n",
    "\\begin{align}\n",
    "Cov(X, Y)& = E\\{[X - E(X)][Y-E(Y)]\\}\\\\\n",
    "&=E(XY) -E(X)E(Y) - E(Y)E(X)+E(X)E(Y)\\\\\n",
    "&=E(XY)-E(X)E(Y)\\\\\n",
    "\\end{align}\n",
    "$$\n",
    "\n",
    "即\n",
    "\n",
    "$$\n",
    "Cov(X, Y) = E(XY) - E(X)E(Y)\n",
    "$$\n",
    "\n",
    "可见, 若 $X$ 与 $Y$ 独立,$Cov(X,Y)=0$"
   ]
  },
  {
   "cell_type": "markdown",
   "metadata": {},
   "source": [
    "#### 4. 随机变量和的方差与协方差的关系"
   ]
  },
  {
   "cell_type": "markdown",
   "metadata": {},
   "source": [
    "$$\n",
    "D(X+Y)=D(X) + D(Y) + 2Cov(X,Y)\\\\\n",
    "D(\\sum_{i=1}^{n} X_i) = \\sum_{i=1}^{n} D(X_i) + 2\\sum \\sum_{i < j} Cov(X_i, X_j)\n",
    "$$\n",
    "\n",
    "若 $X_1, X_2, \\cdots, X_n$ 两两独立, 上式化为\n",
    "\n",
    "$$\n",
    "D(\\sum_{i=1}^{n}X_i) = \\sum_{i=1}^{n} D(X_i)\n",
    "$$"
   ]
  },
  {
   "cell_type": "markdown",
   "metadata": {},
   "source": [
    "下面来看详细的证明."
   ]
  },
  {
   "cell_type": "markdown",
   "metadata": {},
   "source": [
    "$$\n",
    "D(X \\pm Y) = D(X) + D(Y) \\pm 2Cov(X, Y)\n",
    "$$"
   ]
  },
  {
   "cell_type": "markdown",
   "metadata": {},
   "source": [
    "**证** \n",
    "\n",
    "$$\n",
    "\\begin{align}\n",
    "D(X \\pm Y) &= E[(X \\pm Y)-E(X \\pm Y)]^2\\\\\n",
    "&= E\\{[X-E(X)] \\pm [Y - E(Y)]\\}^2\\\\\n",
    "&= E\\{[X - E(X)]^2 + [Y - E(Y)]^2 \\pm 2[Y - E(Y)][X - E(X)]\\}\\\\\n",
    "&= E[X - E(X)]^2 + E[Y - E(Y)]^2 \\pm 2E\\{[Y-E(Y)][X-E(X)]\\}\\\\\n",
    "&= D(X) + D(Y) \\pm 2Cov(X, Y)\n",
    "\\end{align}\n",
    "$$"
   ]
  },
  {
   "cell_type": "markdown",
   "metadata": {},
   "source": [
    "协方差的大小在一定程度上反映了 $X$ 和 $Y$ 相互间的关系, 但用它还受 $X$ 与 $Y$ 本身度量单位的影响.\n",
    "\n",
    "例如: \n",
    "\n",
    "$$\n",
    "Cov(kX, kY) = k^2 Cov(X, Y)\n",
    "$$\n",
    "\n",
    "为了克服这一缺点, 对协方差进行标准化, 这就引入了相关系数."
   ]
  },
  {
   "cell_type": "markdown",
   "metadata": {
    "collapsed": true
   },
   "source": [
    "#### 二. 相关系数"
   ]
  },
  {
   "cell_type": "markdown",
   "metadata": {
    "collapsed": true
   },
   "source": [
    "**定义** 设 $D(X)>0,D(Y)>0$,称\n",
    "\n",
    "$$\n",
    "\\rho_{XY} = \\frac{Cov(X,Y)}{\\sqrt{D(X)D(Y)}}\n",
    "$$\n",
    "\n",
    "为随机变量 $X$ 和 $Y$ 的相关系数.在不引起混淆时, 记 $\\rho_{XY}$ 为 $\\rho$.如果\n",
    "$\\rho_{XY}=0$, 则称 $X$ 与 $Y$ 不相关."
   ]
  },
  {
   "cell_type": "markdown",
   "metadata": {
    "collapsed": true
   },
   "source": [
    "#### 相互系数的性质"
   ]
  },
  {
   "cell_type": "markdown",
   "metadata": {
    "collapsed": true
   },
   "source": [
    "1.$|\\rho| \\leq 1$."
   ]
  },
  {
   "cell_type": "markdown",
   "metadata": {
    "collapsed": true
   },
   "source": [
    "**证** 由方差的性质和协方差的定义知, 对任意实数 $b$, 有 $0 \\leq D(Y-bX) = b^2 D(X) + D(Y) - 2b Cov(X, Y)$\n",
    "\n",
    "令 $b = \\frac{Cov(X, Y)}{D(X)}$, 则上式为\n",
    "\n",
    "$$\n",
    "\\begin{align}\n",
    "D(Y-bX) &= D(Y)-\\frac{[Cov(X, Y)]^2}{D(X)}\\\\\n",
    "&= D(Y)[1-\\frac{[Cov(X,Y)]^2}{D(X)D(Y)}]\\\\\n",
    "&= D(Y)[1-\\rho^2]\\\\\n",
    "\\end{align}\n",
    "$$\n",
    "\n",
    "由于方差 $D(Y)$ 是正的, 故必有\n",
    "\n",
    "$$\n",
    "1 - \\rho^2 \\geq 0\n",
    "$$\n",
    "\n",
    "所以\n",
    "\n",
    "$$\n",
    "|\\rho| \\leq 1\n",
    "$$"
   ]
  },
  {
   "cell_type": "markdown",
   "metadata": {
    "collapsed": true
   },
   "source": [
    "2.$|\\rho|=1 \\iff $ 存在常数 $a,b(b \\neq 0)$, 使 $P\\{Y = a + bY\\}=1$, 即 $X$ 和 $Y$ 以概率 $1$ 线性相关.\n",
    "\n",
    "详细证明见下面内容:"
   ]
  },
  {
   "cell_type": "markdown",
   "metadata": {
    "collapsed": true
   },
   "source": [
    "**性质 2** 当且仅当随机变量 $X$ 与 $Y$ 之间存在线性关系 $Y=a + bX$ 时, 相关系数的绝对值等于 $1$, 并且\n",
    "\n",
    "$$\n",
    "\\rho_{XY} = \n",
    "\\begin{cases}\n",
    "1, \\quad b>0\\\\\n",
    "\\\\\n",
    "-1,\\quad b<0\\\\\n",
    "\\end{cases}\n",
    "$$"
   ]
  },
  {
   "cell_type": "markdown",
   "metadata": {
    "collapsed": true
   },
   "source": [
    "**证明:** \n",
    "\n",
    "($\\implies$) 因为 $Y = a + bX$, 所以\n",
    "\n",
    "$$\n",
    "E(Y)=a + bE(X),\\quad D(Y) = b^2 D(X).\n",
    "$$\n",
    "\n",
    "于是\n",
    "\n",
    "$$\n",
    "\\begin{align}\n",
    "Cov(X,Y) &= E\\{[X - E(X)][a + bX-a-bE(X)]\\}\\\\\n",
    "&= bE\\{[X-E(X)]^2\\}=bD(X)\n",
    "\\end{align}\n",
    "$$\n",
    "\n",
    "所以\n",
    "\n",
    "$$\n",
    "\\rho_{XY} = \\frac{Cov(X, Y)}{D(X)\\sqrt{D(Y)}}=\\frac{b D(X)}{\\sqrt{D(X)} \\sqrt{b^2 D(X)}}=\\frac{b}{|b|}\n",
    "$$\n",
    "\n",
    "因此, 当 $b>0$ 时, \n",
    "\n",
    "$$\n",
    "\\rho_{XY} =1\n",
    "$$\n",
    "\n",
    "当 $b<0$ 时,\n",
    "\n",
    "$$\n",
    "\\rho_{XY} = -1.\n",
    "$$"
   ]
  },
  {
   "cell_type": "markdown",
   "metadata": {
    "collapsed": true
   },
   "source": [
    "($\\leftarrow$) 若 $\\rho_{XY} = \\pm 1$, 由性质 1 的证明过程知\n",
    "\n",
    "$$\n",
    "D(X^* \\mp Y^*) = 2[1 \\mp \\rho_{XY}],\n",
    "$$\n",
    "\n",
    "则\n",
    "\n",
    "$$\n",
    "D(X^* \\mp Y^*)=0,\n",
    "$$\n",
    "\n",
    "即 $X^* \\mp Y^*$\n",
    "\n",
    "以等于 $1$ 的概率取唯一值---它的数学期望.\n",
    "\n",
    "因为 $E(X^* \\mp Y^*) = E(X^*)\\mp E(Y^*)=0$\n",
    "\n",
    "所以, 当 $\\rho_{XY} = \\pm 1$ 时, $X^* \\mp Y^* = 0$\n",
    "\n",
    "即 \n",
    "\n",
    "$$\n",
    "\\frac{X-E(X)}{\\sqrt{D(X)}} \\mp \\frac{Y-E(Y)}{\\sqrt{D(Y)}}=0\n",
    "$$\n",
    "\n",
    "由此得\n",
    "\n",
    "$$\n",
    "Y = a + bX,\n",
    "$$\n",
    "\n",
    "其中\n",
    "\n",
    "$$\n",
    "a = E(Y) \\mp \\frac{\\sqrt{D(Y)}}{\\sqrt{D(X)}} E(X), \\quad b=\\pm \\frac{\\sqrt{D(Y)}}{\\sqrt{D(X)}}\n",
    "$$"
   ]
  },
  {
   "cell_type": "markdown",
   "metadata": {
    "collapsed": true
   },
   "source": [
    "**说明**"
   ]
  },
  {
   "cell_type": "markdown",
   "metadata": {},
   "source": [
    "相关系数刻画了r.v $X$ 与 $Y$ 之间线性相关的程度.\n",
    "\n",
    "当 $\\rho_{XY} \\neq 0$ 时, 表明 $X$ 与 $Y$ 有近似的线性相关关系;\n",
    "\n",
    "当 $|\\rho_{XY}|$ 越接近 $1$ 时, 线性相关关系越明显;\n",
    "\n",
    "当 $|\\rho_{XY}|$ 越接近 $0$ 时, 线性相关关系越弱;\n",
    "\n",
    "当 $\\rho_{XY} = \\pm 1$ 时, 则 $X$ 与 $Y$ 之间有严格的线性关系;\n",
    "\n",
    "当 $\\rho_{XY} = 0$  时, 则 $X$ 与 $Y$ 之间不存在线性相关关系."
   ]
  },
  {
   "cell_type": "markdown",
   "metadata": {},
   "source": [
    "3.$X$ 与 $Y$ 独立时,$\\rho = 0$.但其逆不真. \n",
    "\n",
    "由于当 $X$ 和 $Y$ 独立时,$Cov(X, Y)=0$\n",
    "\n",
    "故 \n",
    "$$\n",
    "\\rho = \\frac{Cov(X, Y)}{\\sqrt{D(X)D(Y)}}=0\n",
    "$$\n",
    "\n",
    "但由 $\\rho=0$ 并不一定能推出 $X$ 和 $Y$ 独立. "
   ]
  },
  {
   "cell_type": "markdown",
   "metadata": {
    "collapsed": true
   },
   "source": [
    "**例 1** 设二维随机变量 $(X, Y)$ 的联合概率分布如下:\n",
    "\n",
    "|X\\Y| $-1$ | $0$ | $1$ |\n",
    "|----|------|-----|------|\n",
    "| $0$ | $0$ | $\\frac{1}{3}$ | $0$ |\n",
    "| $1$ |$\\frac{1}{3}$ | $0$ | $\\frac{1}{3}$ |\n",
    "\n",
    "求协方差 $Cov(X, Y)$."
   ]
  },
  {
   "cell_type": "markdown",
   "metadata": {
    "collapsed": true
   },
   "source": [
    "**解 :** 由上表可知 $X, Y$ 的边缘概率分布为:\n",
    "\n",
    "| $X$ | $0$ | $1$ |\n",
    "|-----|-----|-----|\n",
    "| $p_X(x_i)\\quad$ | $\\frac{1}{3}$ | $\\frac{2}{3}$|\n",
    "\n",
    "| $Y$ | $-1$ | $0$ | $1$ |\n",
    "|-----|-----|-----|----|\n",
    "| $p_Y(y_i)\\quad$ | $\\frac{1}{3}$ | $\\frac{1}{3}$ | $\\frac{1}{3}$ |\n",
    "\n",
    "所以\n",
    "\n",
    "$$\n",
    "E(X) = 0 \\times \\frac{1}{3} + 1 \\times \\frac{2}{3} = \\frac{2}{3}\\\\\n",
    "E(Y) = (-1) \\times \\frac{1}{3} + 0 \\times \\frac{1}{3} + 1 \\times \\frac{1}{3}=0\n",
    "$$\n",
    "\n",
    "又 $E(XY)=(-1)\\times 1\\times \\frac{1}{3} + 0\\times 0\\times \\frac{1}{3}+1\\times 1 \\times \\frac{1}{3}=0$ \n",
    "\n",
    "于是 $cov(X, Y)=E(XY)-E(X)E(Y)=0- \\frac{2}{3} \\times 0=0$\n",
    "\n",
    "但是 $X$ 与 $Y$ 不独立. 因为\n",
    "\n",
    "$$\n",
    "P(X=0, Y=-1) = 0 \\neq P(X =0)P(Y=-1)= \\frac{1}{3} \\cdot \\frac{1}{3}\n",
    "$$"
   ]
  },
  {
   "cell_type": "markdown",
   "metadata": {
    "collapsed": true
   },
   "source": [
    "**例 2** 已知 $X, Y$ 的联合分布为\n",
    "\n",
    "|Y\\X| $1$ | $0$ |\n",
    "|-----|-----|-----|\n",
    "| $1$ | $p$ | $0$ |\n",
    "| $0$ | $0$ | $q$ |\n",
    "\n",
    "其中: $0<p<1,p+q=1$, 求 $cov(X, Y), \\rho_{XY}.$"
   ]
  },
  {
   "cell_type": "markdown",
   "metadata": {
    "collapsed": true
   },
   "source": [
    "**解 :** \n",
    "\n",
    "| $X$ | $1$ | $0$ |     \n",
    "|-----|-----|-----|\n",
    "| $p$ | $p$ | $q$ |\n",
    "\n",
    "| $Y$ | $1$ | $0$ |\n",
    "|-----|-----|-----|\n",
    "| $p$ | $p$ | $q$ |\n",
    "\n",
    "| $XY$ | $1$ | $0$ |\n",
    "|-----|-----|-----|\n",
    "| $p$ | $p$ | $q$ |\n",
    "\n",
    "$$\n",
    "\\begin{align}\n",
    "EX &= p, EY = p\\\\\n",
    "DX &= pq, DY = pq\\\\\n",
    "E(XY) &= p\\\\\n",
    "cov(X, Y) &= E(XY)-EXEY = pq\\\\\n",
    "\\rho_{XY} &= \\frac{Cov(X, Y)}{\\sqrt{DXDY}}=1\\\\\n",
    "\\end{align}\n",
    "$$"
   ]
  },
  {
   "cell_type": "markdown",
   "metadata": {
    "collapsed": true
   },
   "source": [
    "**例 3** 设 $(X, Y) \\sim N(\\mu_1, \\sigma_1^2, \\mu_2, \\sigma_2^2, \\rho)$, 求 $\\rho_{XY}$"
   ]
  },
  {
   "cell_type": "markdown",
   "metadata": {
    "collapsed": true
   },
   "source": [
    "**解 :**\n",
    "\n",
    "$$\n",
    "\\begin{align}\n",
    "Cov(X, Y) &= \\int_{-\\infty}^{+\\infty} \\int_{-\\infty}^{+\\infty} (X-\\mu_1)(y-\\mu_2)f(x, y)\\mathrm{dxdy}\\\\\n",
    "令 \\frac{x-\\mu_1}{\\sigma_1}=s, \\frac{y-\\mu_2}{\\sigma_2}=t\\\\\n",
    "&=\\frac{\\sigma_1 \\sigma_2}{2\\pi \\sqrt{1-\\rho^2}}  \\int_{-\\infty}^{+\\infty}\\int_{-\\infty}^{+\\infty} ste^{-\\frac{1}{2(1-\\rho^2)}(s-\\rho t)^2-\\frac{1}{2}t^2} \\mathrm {dsdt}\\\\\n",
    "令 s-\\rho t = \\mu\\\\\n",
    "&= \\frac{\\sigma_1 \\sigma_2}{2\\pi \\sqrt{1-\\rho^2}}  \\int_{-\\infty}^{+\\infty}\\int_{-\\infty}^{+\\infty} t(\\rho t + u)e^{-\\frac{u^2}{2(1-\\rho^2)}-\\frac{1}{2}t^2} \\mathrm {dudt}\\\\\n",
    "&= \\frac{\\sigma_1 \\sigma_2 \\rho}{2\\pi \\sqrt{1-\\rho^2}} \\int_{-\\infty}^{+\\infty} e^{-\\frac{u^2}{2(1-\\rho^2)}} \\mathrm du  \\int_{-\\infty}^{+\\infty} t^2 e^{-\\frac{1}{2}t^2} \\mathrm dt\\\\\n",
    "&= \\sigma_1 \\sigma_2 \\rho\n",
    "\\end{align}\n",
    "\\rho_{XY}=\\rho\n",
    "$$ \n",
    "\n",
    "若 $(X, Y) \\sim N(\\mu_1, \\sigma_1^2, \\mu_2, \\sigma_2^2, \\rho)$ 则 $X, Y$ 相互独立 $\\iff$ $X, Y$ 不相关"
   ]
  },
  {
   "cell_type": "markdown",
   "metadata": {
    "collapsed": true
   },
   "source": [
    "**例 4** 设 $(X, Y) \\sim N(1, 2^2;1, 2^2; 0,5),Z=X+Y$, 求 $\\rho_{XZ}$"
   ]
  },
  {
   "cell_type": "markdown",
   "metadata": {
    "collapsed": true
   },
   "source": [
    "**解 :** \n",
    "\n",
    "$$\n",
    "EX = EY = 1, DX = DY =4\\\\\n",
    "\\rho_{XY} = \\frac{1}{2}, Cov(X, Y)=2\\\\\n",
    "Cov(X, Z) = Cov(X, X)+Cov(X,Y)=6\\\\\n",
    "DZ = D(X+Y)=DX + DY + 2Cov(X, Y)=12\\\\\n",
    "\\rho_{XZ} = \\frac{6}{2\\sqrt{12}} =\\frac{\\sqrt 3}{2}\n",
    "$$ "
   ]
  },
  {
   "cell_type": "markdown",
   "metadata": {
    "collapsed": true
   },
   "source": [
    "**例 5** 设 $X$ 的概率密度函数为\n",
    "\n",
    "$$\n",
    "f(x) = \\frac{1}{2} e^{-|x|}, \\quad x \\in (-\\infty, +\\infty)\n",
    "$$\n",
    "\n",
    "(1) 求 $X$ 的期望 $E(X)$ 和方差 $D(X)$;\n",
    "\n",
    "(2) 求 $X$ 与 $|X|$ 的协方差和相关系数, 并问 $X$ 与 $|X|$ 是否相关?\n",
    "\n",
    "(3) 问 $X$ 与 $|X|$ 是否相互独立?说明理由."
   ]
  },
  {
   "cell_type": "markdown",
   "metadata": {
    "collapsed": true
   },
   "source": [
    "**解 :**\n",
    "\n",
    "(1) \n",
    "$$\n",
    "E(X) = \\int_{-\\infty}^{+\\infty} x \\frac{1}{2} e^{-|x|} \\mathrm dx = 0\\\\\n",
    "D(X) = E(X^2)-(EX)^2=\\int_{-\\infty}^{+\\infty} x^2 \\frac{1}{2} e^{-|x|}\\mathrm dx - 0=2\\int_{0}^{+\\infty} x^2 \\frac{1}{2} e^{-|x|} \\mathrm dx =2\n",
    "$$\n",
    "\n",
    "(2)\n",
    "$$\n",
    "Cov(X, |X|) = E(X|X|)-EX \\cdot E|X|=\\int_{-\\infty}^{+\\infty} x |x| \\frac{1}{2} e^{-|x|} \\mathrm dx - 0=0\\\\\n",
    "\\rho_{X |X|} = \\frac{Cov(X, |X|)}{\\sqrt{DX} \\sqrt{D|X|}}=0\n",
    "$$\n",
    "\n",
    "所以 $X$ 与 $|X|$ 不相关"
   ]
  },
  {
   "cell_type": "markdown",
   "metadata": {
    "collapsed": true
   },
   "source": [
    "**例 6** 设 $X$ 服从 $[0, 2\\pi]$ 上的均匀分布,\n",
    "\n",
    "$$\n",
    "Y=\\cos X, \\quad Z = \\cos (X + \\alpha)\n",
    "$$\n",
    "\n",
    "$\\alpha$ 是常数, 求 $\\rho_{YZ}$, 讨论 $Y,Z$ 的线性相关性."
   ]
  },
  {
   "cell_type": "markdown",
   "metadata": {
    "collapsed": true
   },
   "source": [
    " **解 :** \n",
    " \n",
    "$$\n",
    "\\begin{align}\n",
    "E(Y) &= \\int_0^{2 \\pi} \\cos x \\cdot \\frac{1}{2 \\pi} \\mathrm dx = 0\\\\\n",
    "E(Z) &= \\int_0^{2 \\pi} \\cos (x + \\alpha) \\cdot \\frac{1}{2 \\pi} \\mathrm dx= 0\\\\\n",
    "D(Y) &= E(Y^2) - [E(Y)]^2 = E(Y^2)\\\\\n",
    "&=  \\int_0^{2 \\pi} \\cos^2 x \\cdot \\frac{1}{2 \\pi} \\mathrm dx=\\frac{1}{2}\\\\\n",
    "D(Z) &= E(Z^2) - [E(Z)]^2 = E(Z^2)\\\\\n",
    "&= \\int_0^{2 \\pi} \\cos^2 (x + \\alpha) \\cdot \\frac{1}{2 \\pi} \\mathrm dx=\\frac{1}{2}\\\\\n",
    "Cov(Y,Z) &= E(YZ)-E(Y)E(Z)\\\\\n",
    "&=  \\int_0^{2 \\pi} \\cos x \\cdot \\cos (x + \\alpha) \\cdot \\frac{1}{2 \\pi} \\mathrm dx =\\frac{1}{2} \\cos \\alpha\\\\\n",
    "\\rho_{YZ} &= \\frac{Cov(Y, Z)}{\\sqrt{D(Y)D(Z)}} =\\frac{\\frac{1}{2}\\cos \\alpha}{\\sqrt{\\frac{1}{2}}\\cdot \\frac{1}{2}}=\\cos \\alpha\\\\\n",
    "\\end{align}\n",
    "$$"
   ]
  },
  {
   "cell_type": "markdown",
   "metadata": {
    "collapsed": true
   },
   "source": [
    "当 $\\alpha =0$ 时,$\\rho_{YZ}=1, Y=Z$, 此时 $Y$ 与 $Z$ 有线性关系;\n",
    "\n",
    "当 $\\alpha =\\pi$ 时,$\\rho_{YZ}=-1, Y=-Z$, 此时 $Y$ 与 $Z$ 有线性关系;\n",
    "\n",
    "当 $\\alpha =\\frac{\\pi}{2}或\\alpha =\\frac{3\\pi}{2} $ 时,$\\rho_{YZ}=0$, 此时 $Y$ 与 $Z$ 不相关.\n",
    "\n",
    "但 $Y$ 与 $Z$ 有严格的函数关系:\n",
    "\n",
    "$$\n",
    "Y^2 + Z^2=1\n",
    "$$\n",
    "\n",
    "所以 $Y$ 与 $Z$ 不独立.\n",
    "\n"
   ]
  },
  {
   "cell_type": "markdown",
   "metadata": {
    "collapsed": true
   },
   "source": [
    "**例 7** 设 $(X, Y)$ 服从 $D$ 上的均匀分布, 其中 $D$ 为 $x$ 轴, $y$ 轴及 $x+y=1$所围成, 求 $Cov(X, Y), \\rho_{XY}$."
   ]
  },
  {
   "cell_type": "markdown",
   "metadata": {
    "collapsed": true
   },
   "source": [
    "**解 :** 由题意知, $(X, Y)$ 的联合概率密度为\n",
    "\n",
    "$$\n",
    "f(x,y)=\n",
    "\\begin{cases}\n",
    "2, \\quad (x, y) \\in D\\\\\n",
    "0, \\quad (x, y) \\notin D\n",
    "\\end{cases}\n",
    "$$\n",
    "\n",
    "所以 \n",
    "\n",
    "$$\n",
    "E(X) = \\int_0^1 \\int_0^{1-x} 2x \\mathrm {dydx} = \\int_0^1 (2x - 2x^2) \\mathrm dx = \\frac{1}{3}\\\\\n",
    "E(Y) = \\int_0^1 \\int_0^{1-y} 2y \\mathrm {dydx} = \\int_0^1 (2y - 2y^2) \\mathrm dy = \\frac{1}{3}\\\\\n",
    "E(X^2) =  \\int_0^1 \\int_0^{1-x} 2x^2 \\mathrm {dydx} = \\int_0^1 (2x^2 - 2x^3) \\mathrm dx = \\frac{1}{6}\\\\\n",
    "E(Y^2) = \\int_0^1 \\int_0^{1-y} 2y^2 \\mathrm {dydx} = \\int_0^1 (2y^2 - 2y^3) \\mathrm dy = \\frac{1}{6}\\\\\n",
    "D(X) = E(X^2) - [E(X)]^2 = \\frac{1}{6} - (\\frac{1}{3})^2 = \\frac{1}{18}\\\\\n",
    "E(XY) = \\int_0^1 \\int_0^{1-x} 2xy \\mathrm {dydx} = \\int_0^1 x(1-x)^2 \\mathrm dx = \\frac{1}{12}\\\\\n",
    "Cov(X, Y)=E(XY)-E(X)E(Y)= \\frac{1}{12} -\\frac{1}{3} \\cdot \\frac{1}{3}=-\\frac{1}{36}\\\\ \n",
    "\\rho_{XY} = \\frac{Cov(X,Y)}{\\sqrt{D(X) D(Y)}}=\\frac{\\frac{1}{36}}{\\sqrt{\\frac{1}{18}\\cdot\\frac{1}{18}}}=-\\frac{1}{2}\n",
    "$$"
   ]
  },
  {
   "cell_type": "markdown",
   "metadata": {
    "collapsed": true
   },
   "source": [
    "这一节我们介绍了协方差和相关系数. **相关系数**是刻画两个变量间**线性相关程度**的一个重要的数字特征. **注意独立与不相关并不是等价的**. 当 $(X, Y)$ 服从二维正态分布时, 有 $X$ 与 $Y$ 独立 $\\iff$ $X$ 与 $Y$ 不相关"
   ]
  },
  {
   "cell_type": "markdown",
   "metadata": {
    "collapsed": true
   },
   "source": [
    "#### 小结"
   ]
  },
  {
   "cell_type": "markdown",
   "metadata": {
    "collapsed": true
   },
   "source": [
    "1. 协方差的定义:\n",
    "$$\n",
    "cov(X, Y) = E\\{[X - E(X)][Y - E(Y)]\\}\n",
    "$$\n",
    "2. 协方差的计算公式:\n",
    "$$\n",
    "cov(X, Y) = E(XY) - E(X) E(Y)\n",
    "$$\n",
    "3. 若 $X$ 与 $Y$ 独立, 则 $cov(X, Y)=0$.(反之不成立)\n",
    "4. 相关系数:\n",
    "$$\n",
    "\\rho_{XY} = \\frac{cov(X, Y)}{\\sqrt{D(X) D(Y)}}\n",
    "$$\n",
    "5. 相关系数是反映随机变量之间线性相关程度的数字特征\n",
    "$$\n",
    "|\\rho_{XY}|\\leq 1\\\\\n",
    "$$\n",
    "当 $Y = a + bX$ 时,$|\\rho_{XY}|=1$, 且\n",
    "$$\n",
    "\\rho_{XY} = \n",
    "\\begin{cases}\n",
    "1, \\quad b>0\\\\\n",
    "-1, \\quad b<0\\\\\n",
    "\\end{cases}\n",
    "$$\n",
    "6. 若 $X$ 与 $Y$ 独立, 则 $\\rho_{XY} = 0$(反之不成立)"
   ]
  },
  {
   "cell_type": "markdown",
   "metadata": {
    "collapsed": true
   },
   "source": [
    "**补充例题**\n"
   ]
  },
  {
   "cell_type": "markdown",
   "metadata": {
    "collapsed": true
   },
   "source": [
    "1.将一枚硬币重复投掷 $n$ 次, 以 $X$ 与 $Y$ 分布表示正面朝上与反面朝上的次数, 则 $X$ 与 $Y$ 的相关系数等于()"
   ]
  },
  {
   "cell_type": "markdown",
   "metadata": {
    "collapsed": true
   },
   "source": [
    "A. -1\n",
    "\n",
    "B. 0\n",
    "\n",
    "C. $\\frac{1}{2}$\n",
    "\n",
    "D. 1"
   ]
  },
  {
   "cell_type": "markdown",
   "metadata": {
    "collapsed": true
   },
   "source": [
    "**分析** 显然有 $X+Y=n$, 即 $Y=n-X$, 这说明 $X$ 与 $Y$ 之间存在线性关系 $Y = a + bX$, 且 $b<0$, 故 $\\rho_{XY}=-1$\n",
    "\n",
    "选 A"
   ]
  },
  {
   "cell_type": "markdown",
   "metadata": {
    "collapsed": true
   },
   "source": [
    "2.对于任意两个随机变量  $X$ 与 $Y$, 若 $E(XY)=E(X)E(Y)$, 则()"
   ]
  },
  {
   "cell_type": "markdown",
   "metadata": {
    "collapsed": true
   },
   "source": [
    "A. $D(XY) = D(X) D(Y)$\n",
    "\n",
    "B. $D(X+Y)=D(X) + D(Y)$\n",
    "\n",
    "C.  $X$ 与 $Y$ 独立\n",
    "\n",
    "D.  $X$ 与 $Y$ 不独立"
   ]
  },
  {
   "cell_type": "markdown",
   "metadata": {
    "collapsed": true
   },
   "source": [
    "**分析** 首先排除 C,D, 因为\n",
    "\n",
    "$$\n",
    "E(XY) = E(X)E(Y) \\implies cov(X,Y)=0\n",
    "$$\n",
    "\n",
    "仅由此不能确定 $X$ 与 $Y$ 是否独立.\n",
    "\n",
    "因为 $D(X+Y)=D(X)+D(Y)+2cov(X,Y)$,\n",
    "\n",
    "又 $cov(X, Y)=0$, 所以有\n",
    "\n",
    "$$\n",
    "D(X+Y) =D(X) + D(Y)\n",
    "$$\n",
    "\n",
    "选B"
   ]
  }
 ],
 "metadata": {
  "kernelspec": {
   "display_name": "SageMath 7.5.1",
   "language": "",
   "name": "sagemath"
  },
  "language_info": {
   "codemirror_mode": {
    "name": "ipython",
    "version": 2
   },
   "file_extension": ".py",
   "mimetype": "text/x-python",
   "name": "python",
   "nbconvert_exporter": "python",
   "pygments_lexer": "ipython2",
   "version": "2.7.13"
  }
 },
 "nbformat": 4,
 "nbformat_minor": 0
}
