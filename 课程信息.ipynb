{
 "cells": [
  {
   "cell_type": "markdown",
   "metadata": {},
   "source": [
    "#  课程信息"
   ]
  },
  {
   "cell_type": "markdown",
   "metadata": {},
   "source": [
    "**教师信息:**\n",
    "\n",
    "* 魏华祎\n",
    "* 老办公楼西 405\n",
    "* 手机: 15973229281"
   ]
  },
  {
   "cell_type": "markdown",
   "metadata": {},
   "source": [
    "**助教信息:**\n",
    "\n",
    "* 樊旺旺\n",
    "* 老办公楼西 405\n",
    "* 电话: 18390212796"
   ]
  },
  {
   "cell_type": "markdown",
   "metadata": {},
   "source": [
    "**考试信息:**\n",
    "\n",
    "* 平时成绩: 20% (以平时考勤\\作业等情况为参考)\n",
    "* 考试成绩: 80%"
   ]
  },
  {
   "cell_type": "code",
   "execution_count": null,
   "metadata": {
    "collapsed": true
   },
   "outputs": [],
   "source": []
  }
 ],
 "metadata": {
  "kernelspec": {
   "display_name": "SageMath 7.5.1",
   "language": "",
   "name": "sagemath"
  },
  "language_info": {
   "codemirror_mode": {
    "name": "ipython",
    "version": 2
   },
   "file_extension": ".py",
   "mimetype": "text/x-python",
   "name": "python",
   "nbconvert_exporter": "python",
   "pygments_lexer": "ipython2",
   "version": "2.7.13"
  }
 },
 "nbformat": 4,
 "nbformat_minor": 1
}
