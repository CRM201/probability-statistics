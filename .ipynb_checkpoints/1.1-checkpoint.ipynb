{
 "cells": [
  {
   "cell_type": "markdown",
   "metadata": {},
   "source": [
    "## 第1章 随机事件及其概率"
   ]
  },
  {
   "cell_type": "markdown",
   "metadata": {},
   "source": [
    "### §1.1 随机事件及其频率$\\cdot$ 概率的统计定义"
   ]
  },
  {
   "cell_type": "markdown",
   "metadata": {},
   "source": [
    "#### 1.随机现象与统计规律性"
   ]
  },
  {
   "cell_type": "markdown",
   "metadata": {},
   "source": [
    "**确定性现象 (必然现象)**\n",
    "\n",
    "在一定条件下, 必然会出现的某种确定的结果.\n",
    "\n",
    "**例如:**\n",
    "\n",
    "(1) 向上抛一枚硬币, 硬币上升到一定高度后必然会下落;\n",
    "\n",
    "(2) 水加热后温度必定升高."
   ]
  },
  {
   "cell_type": "markdown",
   "metadata": {},
   "source": [
    "**随机现象 (偶然现象)**\n",
    "\n",
    "在完全相同的条件下, 进行一系列观察或试验, 结果未必相同.\n",
    "\n",
    "**例如:**\n",
    "\n",
    "(1) 抛一枚硬币, 落下时可能正面朝上也可能反面朝上;\n",
    "\n",
    "(2) 一次射击击中靶的次数;\n",
    "\n",
    "(3) 同一仪器测量同一物体重量, 由于受各种偶然因素的影响, 不同的人测得不同结果;\n",
    "\n",
    "(4) 路边打出租车, 车牌号的奇偶性."
   ]
  },
  {
   "cell_type": "markdown",
   "metadata": {},
   "source": [
    "**统计规律性**\n",
    "\n",
    "人类的大量实践表明,在相同条件下, 对随机现象进行大量的重复观测, 其结果总能呈现出某种规律性.\n",
    "\n",
    "**例:** 抛一枚硬币,观察正面朝上情况. [历史上,一些著名统计学家曾经亲手做过一些掷硬币试验.]"
   ]
  },
  {
   "cell_type": "markdown",
   "metadata": {},
   "source": [
    "|试验者|抛硬币次数 n|正面朝上次数 m|m/n|\n",
    "|:-----:|:-----:|:-----:|:----:|\n",
    "|De Morgan|2048|1061|0.5181|\n",
    "|Buffon|4040|2048|0.5069|\n",
    "|Fisher|10000|4979|0.4979|\n",
    "|Pearson|12000|6019|0.5016|\n",
    "|Pearson|24000|12012|0.5005|"
   ]
  },
  {
   "cell_type": "markdown",
   "metadata": {},
   "source": [
    "#### 2. 随机试验与随机事件"
   ]
  },
  {
   "cell_type": "markdown",
   "metadata": {},
   "source": [
    "**随机试验 (简称试验)**\n",
    "\n",
    "具有以下三个特点的试验,称为**随机试验**:\n",
    "\n",
    "(1) 可以在相同的条件下重复进行;\n",
    "\n",
    "(2) 结果不止一个,但事先知道全部可能的结果;\n",
    "\n",
    "(3) 每次试验前不知道发生什么结果."
   ]
  },
  {
   "cell_type": "markdown",
   "metadata": {},
   "source": [
    "**随机事件 (简称事件)**\n",
    "\n",
    "随机试验中的某种结果(它在一次试验中可能发生也可能不发生, 而且在大量重复试验中具有某种统计规律性).\n",
    "\n",
    "或:随机试验结果的一种描述；或:关于试验结果的一个命题， 用大写字母 A , B , C , 表示.\n",
    "\n",
    "$$\n",
    "事件\n",
    "\\begin{cases}\n",
    "随机事件 \\\\\n",
    "必然事件 ( 记作 U 或 \\Omega )\\\\\n",
    "不可能事件 ( 记作 V 或 \\emptyset)\n",
    "\\end{cases}\n",
    "$$"
   ]
  },
  {
   "cell_type": "markdown",
   "metadata": {},
   "source": [
    "**例1** 试验 $E_1$: 抛硬币, 观察结果.\n",
    "\n",
    "$$\n",
    "事件的两种表达方式\n",
    "\\begin{cases}\n",
    "A:出现正面\\\\\n",
    "A={出现正面}\\\\\n",
    "\\end{cases}\n",
    "$$"
   ]
  },
  {
   "cell_type": "markdown",
   "metadata": {},
   "source": [
    "**例２**试验 $E_2:$ 掷骰子, 观察点数.\n",
    "\n",
    "$A:$ 出现 5 点;\n",
    "\n",
    "$B:$ 出现的点数能被 3 整除;\n",
    "\n",
    "$C:$ 出现 的点数不超过 6 (**必然事件**)."
   ]
  },
  {
   "cell_type": "markdown",
   "metadata": {},
   "source": [
    "**例3** 试验 $E_3:$ 产品抽样(一批产品共 100 件, 其中正品 95 件,次品 5 件,任取 10 件, 观察次品数).\n",
    "\n",
    "$A:$ 全是正品;\n",
    "\n",
    "$B:$ 至少有一件是次品;\n",
    "\n",
    "$C:$ 至多有一件是次品."
   ]
  },
  {
   "cell_type": "markdown",
   "metadata": {},
   "source": [
    "**例4** 试验 $E_4:$ 一箱灯泡 , 任取一只 , 观察寿命.\n",
    "\n",
    "A : 寿命不超过 5000 小时;\n",
    "\n",
    "B : 寿命在 6000 小时以上."
   ]
  },
  {
   "cell_type": "markdown",
   "metadata": {},
   "source": [
    "#### 3.频率 $\\cdot$ 频率的稳定性 $\\cdot$ 概率的统计定义"
   ]
  },
  {
   "cell_type": "markdown",
   "metadata": {},
   "source": [
    "**随机事件的频率 (简称频率)**\n",
    "\n",
    "设随机事件 $A$ 在 $n$ 次试验中发生了 $m$ 次 , 则**比值** $\\frac{m}{n}$ 称为随机事件 $A$ 的**相对频率**(简称**频率**).\n",
    "\n",
    "记作: $f_n(A)$, 于是\n",
    "$$\n",
    "f_n(A)=\\frac{m}{n}.\n",
    "$$\n",
    "\n",
    "根据定义有:\n",
    "\n",
    "$0\\leq f_n(A)\\leq 1$, $f_n(\\emptyset)=0$, $f_n(\\Omega)= 1$."
   ]
  },
  {
   "cell_type": "markdown",
   "metadata": {},
   "source": [
    "**频率的稳定性**\n",
    "\n",
    "$\\quad$人类长期的经验表明, 在大量重复试验中, 随机事件的频率具有稳定性(即统计规律性)."
   ]
  },
  {
   "cell_type": "markdown",
   "metadata": {},
   "source": [
    "**例:**英文文档中字母的使用频率\n",
    "\n",
    "|字母|空格|E|T|O|A|N|I|--|\n",
    "|:----:|:----:|:----:|:----:|:----:|:----:|:----:|:----:|:----:|:----:|\n",
    "|频率|0.2|0.105|0.072|0.0654|0.063|0.059|0.055|--|"
   ]
  },
  {
   "cell_type": "markdown",
   "metadata": {},
   "source": [
    "**概率的统计定义**\n",
    "\n",
    "随机事件发生的可能性可以用一个数来表示, 这个刻画随机事件 $A$ 在试验中发生的可能性大小的、 介于 0 与 １ 之间的数叫做随机事件 **$A$** 的**概率**, 记作: **$P(A)$**.\n",
    "\n",
    "**根据定义有:**\n",
    "\n",
    "$$\n",
    "0\\leq P(A)\\leq 1\\\\\n",
    "P(\\emptyset)=0\\\\\n",
    "P(\\Omega)=1\\\\\n",
    "$$"
   ]
  },
  {
   "cell_type": "markdown",
   "metadata": {},
   "source": [
    "### 小结"
   ]
  },
  {
   "cell_type": "markdown",
   "metadata": {},
   "source": [
    "1.主要概念:\n",
    "\n",
    "随机现象, 随机试验, 随机事件, 随机事件的频率.\n",
    "\n",
    "2.统计规律性---**频率的稳定性**.\n",
    "\n",
    "3.概率的统计定义"
   ]
  },
  {
   "cell_type": "code",
   "execution_count": null,
   "metadata": {
    "collapsed": true
   },
   "outputs": [],
   "source": []
  }
 ],
 "metadata": {
  "kernelspec": {
   "display_name": "SageMath 7.3",
   "language": "",
   "name": "sagemath"
  },
  "language_info": {
   "codemirror_mode": {
    "name": "ipython",
    "version": 2
   },
   "file_extension": ".py",
   "mimetype": "text/x-python",
   "name": "python",
   "nbconvert_exporter": "python",
   "pygments_lexer": "ipython2",
   "version": "2.7.10"
  }
 },
 "nbformat": 4,
 "nbformat_minor": 0
}
