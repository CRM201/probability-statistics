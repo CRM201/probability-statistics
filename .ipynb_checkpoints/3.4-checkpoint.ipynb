{
 "cells": [
  {
   "cell_type": "markdown",
   "metadata": {},
   "source": [
    "## §3.4   随机变量的独立性"
   ]
  },
  {
   "cell_type": "markdown",
   "metadata": {},
   "source": [
    "### 随机变量的独立性"
   ]
  },
  {
   "cell_type": "markdown",
   "metadata": {},
   "source": [
    "两事件 $A$, $B$ 独立的定义是：若\n",
    "\n",
    "$$\n",
    "P(AB)=P(A)P(B)\n",
    "$$\n",
    "\n",
    "则称**事件 $A$, $B$ 独立**.\n",
    "\n",
    "将事件的独立性推广到随机变量; 随机变量的独立性是概率论中的一个重要概念."
   ]
  },
  {
   "cell_type": "markdown",
   "metadata": {},
   "source": [
    "两随机变量独立的定义是：\n",
    "\n",
    "设 $X$, $Y$ 是两个 $r.v$, 若对任意的 $x$, $y$, 有\n",
    "\n",
    "$$\n",
    "P(X\\leq x,Y\\leq y)=P(X\\leq x)P(Y\\leq y)\n",
    "$$\n",
    "\n",
    "则称 $X$, $Y$ **相互独立**."
   ]
  },
  {
   "cell_type": "markdown",
   "metadata": {},
   "source": [
    "### 离散随机变量的独立性"
   ]
  },
  {
   "cell_type": "markdown",
   "metadata": {},
   "source": [
    "设 $X$ 与 $Y$ 为离散随机变量, 如果对于它们的任意一对可能值 $x_i$及 $y_j$, 事件 $X=x_i$ 与 $Y=y_j$ 是独立的, 则称随机变量 $X$ 与$Y$ 是 **独立的**"
   ]
  },
  {
   "cell_type": "markdown",
   "metadata": {},
   "source": [
    "由概率乘法定理有：\n",
    "\n",
    "**定理１** 若离散随机变量 $X$ 与 $Y$ 独立, 则\n",
    "\n",
    "$$\n",
    "p(x_i,y_j)=p_X(x_i)p_Y(y_j),\\\\\\forall i=1, 2, \\cdots, m.\\cdots;j=1, 2, \\cdots, n.\\cdots;\n",
    "$$"
   ]
  },
  {
   "cell_type": "markdown",
   "metadata": {},
   "source": [
    "例1  已知 $(X,Y)$ 的联合分布表如下："
   ]
  },
  {
   "cell_type": "markdown",
   "metadata": {},
   "source": [
    "|$X\\Y$| 1 | 2 |\n",
    "|:-----:|:-----:|:-----:|\n",
    "| 1 |$\\frac{1}{3}$|$\\frac{1}{6}$|\n",
    "| 2 | $a$ |$\\frac{1}{9}$|\n",
    "| 3 | $b$ | $\\frac{1}{18}$ |\n",
    "\n",
    "求 $a$, $b$, 使 $X$ 与 $Y$ 相互独立"
   ]
  },
  {
   "cell_type": "markdown",
   "metadata": {},
   "source": [
    "**解：** $X$ 与 $Y$ 的边缘分布表如下\n",
    "\n",
    "\n",
    "|$X$| 1 | 2 | 3 |\n",
    "|:-----:|:-----:|:-----:|:-----:|\n",
    "| $p_X(x_i)$ |$\\frac{1}{2}$|$a+\\frac{1}{9}$|$b+\\frac{1}{18}$|\n",
    "\n",
    "\n",
    "|$X$| 1 | 2 |\n",
    "|:-----:|:-----:|:-----:|\n",
    "| $p_Y(y_j)$ |$\\frac{1}{3}+a+b$|$\\frac{1}{3}$|\n"
   ]
  },
  {
   "cell_type": "markdown",
   "metadata": {},
   "source": [
    "要使 $X$ 与 $Y$ 独立, $a$, $b$ 必须同时满足：\n",
    "\n",
    "$$\n",
    "\\begin{cases}\n",
    "\\sum_{i=1}^3\\sum_{j=1}^2p(i,j)=1;\\\\\n",
    "\\\\\n",
    "p(i,j)=p_X(i)p_Y(j),i=1,2,3;j=1,2\\\\\n",
    "\\end{cases}\\\\\n",
    "$$\n",
    "\n",
    "由\n",
    "\n",
    "$$\n",
    "\\begin{cases}\n",
    "p(2,2)=\\frac{1}{9}=p_X(2)p_Y(2)=\\frac{1}{3}×(a+\\frac{1}{9})\\\\\n",
    "\\\\\n",
    "p(3,2)=\\frac{1}{18}=p_X(3)p_Y(2)=(b+\\frac{1}{18})×\\frac{1}{3}\\\\\n",
    "\\end{cases}\\\\\n",
    "$$\n",
    "\n",
    "解得\n",
    "\n",
    "$$\n",
    "a=\\frac{2}{9},b=\\frac{1}{9}\n",
    "$$\n",
    "\n",
    "容易验证　$a=\\frac{2}{9}$, $b=\\frac{1}{9}$ 满足其余五个等式."
   ]
  },
  {
   "cell_type": "markdown",
   "metadata": {},
   "source": [
    "**例２** $(X,Y)$ 的联合分布列为：\n",
    "\n",
    "|$X\\Y$| 0 | 1 |\n",
    "|:-----:|:-----:|:-----:|\n",
    "| 0 |0.3|0.4\n",
    "| 0 |0.2|0.1|\n",
    "\n",
    "问　$X$ 与 $Y$ 是否独立."
   ]
  },
  {
   "cell_type": "markdown",
   "metadata": {},
   "source": [
    "**解：** 边缘分布列为：\n",
    "\n",
    "|$X$| 0 | 1 |\n",
    "|:-----:|:-----:|:-----:|\n",
    "| $P$|0.7|0.3|\n",
    "\n",
    "|$Y$| 0 | 1 |\n",
    "|:-----:|:-----:|:-----:|\n",
    "| $P$|0.5|0.5|"
   ]
  },
  {
   "cell_type": "markdown",
   "metadata": {},
   "source": [
    "因为　\n",
    "\n",
    "$$\n",
    "P(X=0,Y=0)=0.3\n",
    "$$\n",
    "\n",
    "$$\n",
    "P(X=0)P(Y=0)=0.7×0.5=0.35\n",
    "$$\n",
    "\n",
    "所以**不独立**"
   ]
  },
  {
   "cell_type": "markdown",
   "metadata": {},
   "source": [
    "### 连续随机变量的独立性"
   ]
  },
  {
   "cell_type": "markdown",
   "metadata": {},
   "source": [
    "设 $X$ 与 $Y$ 为连续随机变量, 如果 对于它们的任意一对实数值 $x$ 及 $y$, 事件 $X\\leq x$ 与　$Y\\leq y$ 是独立的, 则称随机变量 $X$ 与　$Y$ 是**独立的**\n",
    "\n",
    "由概率乘法定理有：\n",
    "\n",
    "**定理２** 若连续随机变量 $X$ 与 $Y$ 独立, 则\n",
    "\n",
    "$$\n",
    "F(x,y)=F_X(x)F_Y(y)\n",
    "$$\n",
    "\n",
    "$$\n",
    "f(x,y)=f_X(x)f_Y(y)\n",
    "$$"
   ]
  },
  {
   "cell_type": "markdown",
   "metadata": {},
   "source": [
    "**例3** 已知二维随机变量 $(X,Y)$ 的联合概率密度为\n",
    "\n",
    "$$\n",
    "f(x,y)=\n",
    "\\begin{cases}\n",
    "2e^{-(x+2y)}, x>0,y>0\\\\\n",
    "\\\\\n",
    "0，\\qquad 其他\\\\\n",
    "\\end{cases}\n",
    "$$\n",
    "\n",
    "随机变量 $X$ 与 $Y$ 是否独立？"
   ]
  },
  {
   "cell_type": "markdown",
   "metadata": {},
   "source": [
    "**解：**先求 $X$, $Y$ 的边缘概率密度：\n",
    "\n",
    "当 $x\\leq 0$ 时, 显然有 $f_X(x)=0$; 当 $X>0$ 时,\n",
    "\n",
    "$$\n",
    "\\begin{aligned}\n",
    "f_X(x)\n",
    "&=\\int_{-\\infty}^{+\\infty}f(x,y){\\mathrm d y}=\\int_0^{+\\infty}2e^{-(x+2y)}{\\mathrm d y}\\\\\n",
    "&=2e^{-x}\\int_0^{+\\infty}e^{-2y}{\\mathrm d y}=2e^{-x}\\cdot \\frac{1}{2}=e^{-x}\\\\\n",
    "\\end{aligned}\n",
    "$$\n",
    "\n",
    "由此的 $X$ 的边缘概率密度为：\n",
    "\n",
    "$$\n",
    "f_X(x)=\n",
    "\\begin{cases}\n",
    "e^{-x}, x>0\\\\\n",
    "\\\\\n",
    "0，x\\leq 0\\\\\n",
    "\\end{cases}\n",
    "$$"
   ]
  },
  {
   "cell_type": "markdown",
   "metadata": {},
   "source": [
    "同理, 可以得 $Y$ 的边缘概率密度：\n",
    "\n",
    "$$\n",
    "f_Y(y)=\n",
    "\\begin{cases}\n",
    "2e^{-2y}, y>0\\\\\n",
    "\\\\\n",
    "0，y\\leq 0\\\\\n",
    "\\end{cases}\n",
    "$$\n",
    "\n",
    "由上面的结果可知\n",
    "\n",
    "$$\n",
    "f(x,y)=f_X(x)f_Y(y)\n",
    "$$\n",
    "\n",
    "所以随机变量 $X$ 与 $Y$ 是 **独立的.**"
   ]
  },
  {
   "cell_type": "markdown",
   "metadata": {},
   "source": [
    "**例4** 设 $X$ 服从参数为 $\\lambda=1$ 的指数分布, $Y\\sim U(0,1)$, 且 $X$ 与 $Y$ 相互独立. 求\n",
    "\n",
    "(1) $(X,Y)$ 的联合概率密度 $f(x,y)$;\n",
    "\n",
    "(2) $P(X+Y\\leq 1)$."
   ]
  },
  {
   "cell_type": "markdown",
   "metadata": {},
   "source": [
    "**解：** (1) $X$ 与 $Y$ 的概率密度分别为\n",
    "\n",
    "$$\n",
    "f_X(x)=\n",
    "\\begin{cases}\n",
    "e^{-x}, x>0\\\\\n",
    "\\\\\n",
    "0，其它\\\\\n",
    "\\end{cases}\n",
    "\\qquad\n",
    "f_Y(y)=\n",
    "\\begin{cases}\n",
    "1, 0<y<1\\\\\n",
    "\\\\\n",
    "0，其它\\\\\n",
    "\\end{cases}\n",
    "$$"
   ]
  },
  {
   "cell_type": "markdown",
   "metadata": {},
   "source": [
    "因为 $X$ 与 $Y$ 相互独立, 所以 $(X,Y)$ 的联合概率密度为\n",
    "\n",
    "$$\n",
    "f(x,y)=f_X(x)f_Y(y)=\\begin{cases}\n",
    "e^{-x}, x>0,0<y<1\\\\\n",
    "\\\\\n",
    "0，其它\\\\\n",
    "\\end{cases}\n",
    "$$"
   ]
  },
  {
   "cell_type": "markdown",
   "metadata": {},
   "source": [
    "(2) \n",
    "\n",
    "$$\n",
    "\\begin{aligned}\n",
    "P(X+Y\\leq 1)\n",
    "&=\\iint_{x+y\\leq 1}f(x,y){\\mathrm d x}{\\mathrm d y}\\\\\n",
    "&=\\int_0^1{\\mathrm d y}\\int_0^{1-y}e^{-x}{\\mathrm d x}\\\\\n",
    "&=e^{-1}\n",
    "\\end{aligned}\n",
    "$$"
   ]
  },
  {
   "cell_type": "markdown",
   "metadata": {},
   "source": [
    "### 小 结"
   ]
  },
  {
   "cell_type": "markdown",
   "metadata": {},
   "source": [
    "1.独立性是随机变量之间的一种最基本的关系,是概率论的重要概念.\n",
    "\n",
    "2.独立随机变量的性质：\n",
    "\n",
    "$$\n",
    "p(x_i,y_j)=p_X(x_i)_Yp(y_j),\n",
    "$$\n",
    "\n",
    "$$\n",
    "F(x,y)=F_X(x)F_Y(y);\n",
    "$$\n",
    "\n",
    "$$\n",
    "f(x,y)=f_X(x)f_Y(y)\n",
    "$$\n",
    "\n",
    "3.在实际问题中, 通常根据经验判断随机变量之间的独立性."
   ]
  },
  {
   "cell_type": "markdown",
   "metadata": {},
   "source": [
    "### 思考题"
   ]
  },
  {
   "cell_type": "markdown",
   "metadata": {},
   "source": [
    "一旅客到达火车站的时间 $X$ 均匀分布在早上 7:55 至 8 点, 而火车在这段时间开出的时刻为 $Y$, 且 $Y$ 具有密度函数为\n",
    "\n",
    "\n",
    "$$\n",
    "f_Y(y)=\n",
    "\\begin{cases}\n",
    "\\frac{2}{25}(5-y), 0\\leq y\\leq 5\\\\\n",
    "\\\\\n",
    "0，\\qquad 其他\\\\\n",
    "\\end{cases}\n",
    "$$\n",
    "\n",
    "求旅客能乘上火车的概率."
   ]
  },
  {
   "cell_type": "markdown",
   "metadata": {},
   "source": [
    "**解：** 将 7:55 作为时间轴(单位：分) 的起点， 则 $X$ 在区间　$[0,5]$ 上服从均匀分布, $X$ 的概率密度函数为\n",
    "\n",
    "$$\n",
    "f_X(x)=\n",
    "\\begin{cases}\n",
    "\\frac{1}{5}, 0\\leq x\\leq 5\\\\\n",
    "\\\\\n",
    "0，\\qquad 其他\\\\\n",
    "\\end{cases}\n",
    "$$\n",
    "\n",
    "显然, 可以认为 $X$ 与 $Y$ 之间相互独立, 于是 $(X,Y)$ 的联合密度函数为\n",
    "\n",
    "$$\n",
    "f(x,y)=f_X(x)f_Y(y)=\\begin{cases}\n",
    "\\frac{2}{125}(5-y), 0\\leq x\\leq 5,0\\leq y\\leq 5;\\\\\n",
    "\\\\\n",
    "0，\\qquad 其他\\\\\n",
    "\\end{cases}\n",
    "$$"
   ]
  },
  {
   "cell_type": "markdown",
   "metadata": {},
   "source": [
    "事件　“旅客能乘上火车” 可以表示为 $Y>X$, 也就是　$0<Y-X\\leq 5$, 因此 问题归结为求　$0<Y-X\\leq 5$ 的概率, 于是所求概率为\n",
    "\n",
    "$$\n",
    "\\begin{aligned}\n",
    "P(0<Y-X\\leq 5)\n",
    "&=\\iint_{0<y-x\\leq 5}f(x,y){\\mathrm d x}{\\mathrm d y}\\\\\n",
    "&=\\iint_{D}\\frac{2}{125}(5-y){\\mathrm d x}{\\mathrm d y}\\\\\n",
    "&=\\int_0^5{\\mathrm d x}\\int_x^5\\frac{2}{125}(5-y){\\mathrm d y}\\\\\n",
    "&=\\frac{1}{3}\n",
    "\\end{aligned}\n",
    "$$"
   ]
  },
  {
   "cell_type": "markdown",
   "metadata": {},
   "source": [
    "![](./figures/314.png)"
   ]
  },
  {
   "cell_type": "markdown",
   "metadata": {},
   "source": [
    "![](./figures/314.png)"
   ]
  },
  {
   "cell_type": "code",
   "execution_count": null,
   "metadata": {
    "collapsed": true
   },
   "outputs": [],
   "source": []
  }
 ],
 "metadata": {
  "kernelspec": {
   "display_name": "SageMath 7.5.1",
   "language": "",
   "name": "sagemath"
  },
  "language_info": {
   "codemirror_mode": {
    "name": "ipython",
    "version": 2
   },
   "file_extension": ".py",
   "mimetype": "text/x-python",
   "name": "python",
   "nbconvert_exporter": "python",
   "pygments_lexer": "ipython2",
   "version": "2.7.13"
  }
 },
 "nbformat": 4,
 "nbformat_minor": 0
}
