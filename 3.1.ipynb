{
 "cells": [
  {
   "cell_type": "markdown",
   "metadata": {},
   "source": [
    "## 第3章  多维随机变量及其分布"
   ]
  },
  {
   "cell_type": "markdown",
   "metadata": {},
   "source": [
    "## §3.1 二维随机变量的联合分布"
   ]
  },
  {
   "cell_type": "markdown",
   "metadata": {},
   "source": [
    "### 1. 二维离散随机变量的联合概率分布"
   ]
  },
  {
   "cell_type": "markdown",
   "metadata": {},
   "source": [
    "**定义:** 设 $(X,Y)$ 表示二维离散随机变量, 取值：\n",
    "\n",
    "$X: x_1, x_2, \\cdots, x_m, \\cdots,$; $Y: y_1, y_2, \\cdots, y_n, \\cdots,$\n",
    "\n",
    "$$\n",
    "P(x_i,y_j)=P(X=x_i,Y=y_j),(i=1,2,\\cdots,m,\\cdots,j=1,2,\\cdots,n,\\cdots)\n",
    "$$\n",
    "\n",
    "称为二维离散随机变量 $(X,Y)$ 的**联合概率密度分布.**"
   ]
  },
  {
   "cell_type": "markdown",
   "metadata": {},
   "source": [
    "**联合概率分布的性质**"
   ]
  },
  {
   "cell_type": "markdown",
   "metadata": {},
   "source": [
    "(1) \n",
    "$$\n",
    "p(x_i,y_j)\\geq 0, \\forall i, j.\n",
    "$$ \n",
    "\n",
    "(2) \n",
    "$$\n",
    "\\sum_{i=1}^\\infty \\sum_{j=1}^\\infty p(x_i,y_j)=1\n",
    "$$"
   ]
  },
  {
   "cell_type": "markdown",
   "metadata": {},
   "source": [
    "有时用下面的联合分布表给出 $（X,Y）$ 的分布情况："
   ]
  },
  {
   "cell_type": "markdown",
   "metadata": {},
   "source": [
    "|$X\\Y$|$y_1$|$y_2$|$\\cdots$|$y_n$|$\\cdots$|$\\sum_j$|\n",
    "|:-----:|:-----:|:-----:|:----:|:-----:|:-----:|:----:|\n",
    "|$x_1$|$p_{11}$|$p_{12}$|$\\cdots$|$p_{1n}$|$\\cdots$|$p_X(x_1)$|\n",
    "|$x_2$|$P_{21}$|$P_{22}$|$\\cdots$|$p_{2n}$|$\\cdots$|$p_X(x_2)$|\n",
    "|$\\cdots$|$\\cdots$|$\\cdots$|$\\cdots$|$\\cdots$|$\\cdots$|$\\cdots$|\n",
    "|$x_m$|$p_{m1}$|$p_{m2}$|$\\cdots$|$p_{mn}$|$\\cdots$|$p_X(x_m)$|\n",
    "|$\\cdots$|$\\cdots$|$\\cdots$|$\\cdots$|$\\cdots$|$\\cdots$|$\\cdots$|\n",
    "|$\\sum_i$|$p_Y(y_1)$|$p_Y(y_2)$|$\\cdots$|$p_Y(y_n)$|$\\cdots$|1|\n",
    "\n",
    "其中： $p_{ij}=p(x_i,y_j)$"
   ]
  },
  {
   "cell_type": "markdown",
   "metadata": {},
   "source": [
    "**确定联合分布表的方法**\n",
    "\n",
    "(1) 确定随机变量 $(X,Y)$ 的所有取值数对.\n",
    "\n",
    "(2) 计算取每个数值对的概率.\n",
    "\n",
    "(3) 列出表格."
   ]
  },
  {
   "cell_type": "markdown",
   "metadata": {},
   "source": [
    "**例1**  已知 10 件产品中有 3 件一等品, 5 件二等品, 2 件三等品. 从这批产品中任取 4 件产品, 求其中一等品、二等品件数的二维联合概率分布."
   ]
  },
  {
   "cell_type": "markdown",
   "metadata": {},
   "source": [
    "**解:** 设 $X,Y$ 分别是取出的 4 件产品中一等品及二等品的件数, 则 $(X,Y)$ 的联合概率分布为\n",
    "\n",
    "$$\n",
    "P(X=i,Y=j)=\\frac{C_3^i C_5^j C_2^{4-i-j}}{C_{10}^4}\n",
    "$$\n",
    "\n",
    "其中\n",
    "\n",
    "$i=0, 1, 2,3$; $j=0, 1, 2, 3, 4$; $2\\leq i+j\\leq 4$\n",
    "\n",
    "由此得 $(X,Y)$ 的二维联合概率分布如下："
   ]
  },
  {
   "cell_type": "markdown",
   "metadata": {},
   "source": [
    "| $X\\Y$ | 0 | 1 | 2 | 3 | 4 |\n",
    "|:-----:|:-----:|:-----:|:----:|:-----:|:-----:|\n",
    "| 0 | 0 | 0 | $\\frac{10}{210}$ | $\\frac{20}{210}$ | $\\frac{5}{210}$ |\n",
    "| 1 | 0 | $\\frac{15}{210}$ | $\\frac{60}{210}$ | $\\frac{30}{210}$ | 0 |\n",
    "| 2 | $\\frac{3}{210}$ | $\\frac{30}{210}$ | $\\frac{30}{210}$ | 0 | 0 |\n",
    "| 3 | $\\frac{2}{210}$ | $\\frac{5}{210}$ | 0 | 0 |"
   ]
  },
  {
   "cell_type": "markdown",
   "metadata": {},
   "source": [
    "**例2** 设事件 $A,B$ 满足 $P(A)=\\frac{1}{4}$, $P(B|A)=P(A|B)=\\frac{1}{2}$, 令\n",
    "\n",
    "$$ X=\n",
    "\\begin{cases}\n",
    "1,\\qquad A 发生\\\\\n",
    "\\\\\n",
    "0，\\qquad A 不发生\\\\\n",
    "\\end{cases}\n",
    "\\qquad\n",
    "Y=\n",
    "\\begin{cases}\n",
    "1,\\qquad B 发生\\\\\n",
    "\\\\\n",
    "0，\\qquad B 不发生\\\\\n",
    "\\end{cases}\n",
    "$$\n",
    "\n",
    "试求 $(X,Y)$ 的联合概率分布."
   ]
  },
  {
   "cell_type": "markdown",
   "metadata": {},
   "source": [
    "**解:** 因为 \n",
    "\n",
    "$$\n",
    "P(A)=\\frac{1}{4},\\qquad P(B|A)=P(A|B)=\\frac{1}{2},\n",
    "$$\n",
    "\n",
    "所以\n",
    "\n",
    "$$\n",
    "P(AB)=P(A)P(B|A)=\\frac{1}{8}, \\qquad P(B)=\\frac{1}{4}\n",
    "$$\n",
    "\n",
    "于是\n",
    "\n",
    "$$\n",
    "P（X=0,Y=0）=p(\\bar{A}\\bar{B})=1-P(A\\cup B)=1-P(A)-P(B)+P(AB)=\\frac{5}{8}\n",
    "$$\n",
    "\n",
    "$$\n",
    "P（X=1,Y=1）=P(AB)=\\frac{1}{8}\n",
    "$$\n",
    "\n",
    "$$\n",
    "P（X=0,Y=1）=P（\\bar{A}B）=P(B)-P(AB)=\\frac{1}{8}\n",
    "$$\n",
    "\n",
    "$$\n",
    "P（X=1,Y=0）=P（A\\bar{B}）=P(A)-P(AB)=\\frac{1}{8}\n",
    "$$"
   ]
  },
  {
   "cell_type": "markdown",
   "metadata": {},
   "source": [
    "**联合分布表**\n",
    "\n",
    "| $X\\Y$ | 0 | 1 | \n",
    "|:-----:|:-----:|:-----:|\n",
    "| 0 | $\\frac{5}{8}$ | $\\frac{1}{8}$ | \n",
    "| 1 | $\\frac{1}{8}$ | $\\frac{1}{8}$ |"
   ]
  },
  {
   "cell_type": "markdown",
   "metadata": {},
   "source": [
    "**例3** 令随机变量 $X$ 表示在 1, 2, 3, 4 中等可能地取一个值, 令随机变量 $Y$ 表示在 1 至 $X$ 中等可能地取一个值. 求 $(X,Y)$ 的联合概率分布."
   ]
  },
  {
   "cell_type": "markdown",
   "metadata": {},
   "source": [
    "**解:**\n",
    "\n",
    "$X$ 的可能取值为： 1， 2 ，3， 4； $Y$ 的可能取值也为： 1， 2 ，3， 4; 且\n",
    "\n",
    "$$\n",
    "P(X=i,Y=j)=P(X=i)\\cdot P(Y=j|X=i)=\n",
    "\\begin{cases}\n",
    "\\frac{1}{4}\\cdot\\frac{1}{i},\\quad j\\leq i\\\\\n",
    "\\\\\n",
    "0，\\qquad j\\geq i\\\\\n",
    "\\end{cases}\n",
    "\\quad(i=1,2,3,4).\n",
    "$$"
   ]
  },
  {
   "cell_type": "markdown",
   "metadata": {},
   "source": [
    "### 2.二维随机变量的联合分布函数"
   ]
  },
  {
   "cell_type": "markdown",
   "metadata": {},
   "source": [
    "**定义** 设 $(X,Y)$ 表示二维随机变量. 二元函数\n",
    "\n",
    "$$\n",
    "F(x,y)=P(X\\leq x,Y\\leq y)\n",
    "$$\n",
    "\n",
    "称为二维随机变量 $（X,Y）$ **联合分布函数**.\n",
    "\n",
    "将 $（X,Y）$ 视为平面上的随机点, $F(x,y)$ 是 $（X,Y）$ 落在以 $（x,y）$ 为顶点而位于该点左下方的无穷矩形区域内的概率.\n",
    "\n",
    "![](./figures/31.png)"
   ]
  },
  {
   "cell_type": "markdown",
   "metadata": {},
   "source": [
    "**联合分布函数的性质**"
   ]
  },
  {
   "cell_type": "markdown",
   "metadata": {},
   "source": [
    "(1) $0\\leq F(x,y) \\leq 1$\n",
    "\n",
    "(2) $F(x,y)$ 分别关于 $x$,$y$ **单调非减**\n",
    "\n",
    "当 $x_1<x_2$ 时, $F(x_1,y)\\leq F(x_2,y)$, $\\forall y\\in (-\\infty,+\\infty)$\n",
    "\n",
    "当 $y_1<y_2$ 时, $F(x,y_1)\\leq F(x,y_2)$, $\\forall x\\in (-\\infty,+\\infty)$\n",
    "\n",
    "(3) 极限性质\n",
    "\n",
    "$$\n",
    "F(+\\infty, +\\infty)=1, F(-\\infty, -\\infty)=0,\\\\\n",
    "F(-\\infty, y)=0, \\forall y\\in (-\\infty,+\\infty)\\\\\n",
    "F(x, -\\infty)=0, \\forall x\\in (-\\infty,+\\infty)\\\\\n",
    "$$\n",
    "\n",
    "(4) $F(x,y)$ 的连续性：\n",
    "\n",
    "二维离散随机变量的联合分布函数\n",
    "\n",
    "$$\n",
    "F(x,y)=\\sum_{x_i\\leq x}\\sum_{y_j\\leq y}p(x_i,y_j)\n",
    "$$\n",
    "\n",
    "对**单变量** $x$ 或 $y$ 是 **右连续的**"
   ]
  },
  {
   "cell_type": "markdown",
   "metadata": {},
   "source": [
    "二维连续随机变量的联合分布函数是二元连续函数.\n",
    "\n",
    "对任意的 $x_1<x_2$, $y_1<y_2$, 有\n",
    "\n",
    "$$\n",
    "P(x_1< X \\leq x_2, y_1< Y \\leq y_2)=F(x_2,y_2)-F(x_2,y_1)-F(x_1,y_2)+F(x_1,y_1)\\geq 0\n",
    "$$\n",
    "\n",
    "$$\n",
    "F(x_2,y_2)-F(x_2,y_1)+F(x_1,y_1)-F(x_1,y_2)=P(x_1< X \\leq x_2, y_1< Y \\leq y_2)\\geq 0\n",
    "$$"
   ]
  },
  {
   "cell_type": "markdown",
   "metadata": {},
   "source": [
    "![](./figures/33.png)"
   ]
  },
  {
   "cell_type": "markdown",
   "metadata": {},
   "source": [
    "### 3.二维连续随机变量的联合概率密度"
   ]
  },
  {
   "cell_type": "markdown",
   "metadata": {},
   "source": [
    "**定义** 二元函数\n",
    "\n",
    "$$\n",
    "f(x,y)=\\lim_{{\\vartriangle x\\to 0^+}{\\vartriangle y\\to 0^+}}\\frac{P(x<X<x+\\vartriangle x,y<Y<y+\\vartriangle y)}{\\vartriangle x \\vartriangle y}\n",
    "$$\n",
    "\n",
    "称为二维连续随机变量 $(X,Y)$ 的**联合概率密度**"
   ]
  },
  {
   "cell_type": "markdown",
   "metadata": {},
   "source": [
    "**联合概率密度的性质**\n",
    "\n",
    "(1) \n",
    "$$\n",
    "f(x,y)\\geq 0;\n",
    "$$\n",
    "\n",
    "(2) \n",
    "$$\n",
    "\\int_{-\\infty}^{+\\infty}\\int_{-\\infty}^{+\\infty}f(x,y){\\mathrm d x}{\\mathrm d y}=1\n",
    "$$"
   ]
  },
  {
   "cell_type": "markdown",
   "metadata": {},
   "source": [
    "**联合分布函数与联合概率密度的关系**"
   ]
  },
  {
   "cell_type": "markdown",
   "metadata": {},
   "source": [
    "(1) $f(x,y)=F_{xy}''(x,y)=\\frac{\\partial^2 F(x,y)}{\\partial x \\partial y}$;\n",
    "\n",
    "$$\n",
    "f(x,y)=\\lim_{{\\vartriangle x\\to 0^+}{\\vartriangle y\\to 0^+}}\\frac{F(x+\\vartriangle x,y+\\vartriangle y)-F(x+\\vartriangle x,y)-F( x,y+\\vartriangle y)+F(x,y)}{\\vartriangle x \\vartriangle y}\n",
    "=F_{xy}''(x,y)\n",
    "$$\n",
    "\n",
    "(2) \n",
    "\n",
    "$$\n",
    "F(x,y)=P(X\\leq x, Y\\leq y)=\\int_{-\\infty}^x\\int_{-\\infty}^yf(x,y){\\mathrm d x}{\\mathrm d y}\n",
    "$$"
   ]
  },
  {
   "cell_type": "markdown",
   "metadata": {},
   "source": [
    "**利用联合概率密度求概率**"
   ]
  },
  {
   "cell_type": "markdown",
   "metadata": {},
   "source": [
    "事件 \"$(X,Y)$ 落在平面区域 $G$ 内\" （记为：$(x,y)\\in G$） 的概率\n",
    "\n",
    "$$\n",
    "P[(X,Y)\\in G]=\\iint_{G}f(x,y){\\mathrm dx}{\\mathrm dy}\n",
    "$$"
   ]
  },
  {
   "cell_type": "markdown",
   "metadata": {},
   "source": [
    "**例4** 设随机变量 $(X,Y)$ 的概率密度为：\n",
    "\n",
    "$$\n",
    "f(x,y)=\n",
    "\\begin{cases}\n",
    "k(6-x-y),0<x<2,2<y<4\\\\\n",
    "\\\\\n",
    "0，\\qquad 其他\\\\\n",
    "\\end{cases}\n",
    "$$\n",
    "\n",
    "(1) 确定常数 $k$;\n",
    "\n",
    "(2) 求 $P(X<1,Y<3)$;\n",
    "\n",
    "(3) 求 $P(X<1.5)$;\n",
    "\n",
    "(4) 求 $P(X+Y\\leq 4)$"
   ]
  },
  {
   "cell_type": "markdown",
   "metadata": {},
   "source": [
    "**解：**\n",
    "\n",
    "(1) 由  \n",
    "\n",
    "$$\n",
    "\\int_{-\\infty}^{+\\infty}\\int_{-\\infty}^{+\\infty}f(x,y){\\mathrm d x}{\\mathrm d y}=1\n",
    "$$\n",
    "\n",
    "得\n",
    "\n",
    "$$\n",
    "1=\\int_0^2{\\mathrm d x}\\int_2^4 k (6-x-y){\\mathrm d y}=k\\int_0^2(6-2x){\\mathrm d x}=8k\n",
    "$$\n",
    "\n",
    "所以　\n",
    "\n",
    "$$\n",
    "k=\\frac{1}{8}\n",
    "$$"
   ]
  },
  {
   "cell_type": "markdown",
   "metadata": {},
   "source": [
    "(2)\n",
    "$$\n",
    "P(X<1,Y<3)=\\iint_{{-\\infty<x<1},{-\\infty<y<3}}f(x,y){\\mathrm d x}{\\mathrm d y}=\\frac{1}{8}\\int_0^1{\\mathrm d x}\\int_2^3(6-x-y){\\mathrm d y}\n",
    "=\\frac{1}{8}\\int_0^1(\\frac{7}{2}-x){\\mathrm d x}=\\frac{3}{8}\n",
    "$$"
   ]
  },
  {
   "cell_type": "markdown",
   "metadata": {},
   "source": [
    "(3)\n",
    "$$\n",
    "P(X<1.5)=\\iint_{{-\\infty<x<1.5},{-\\infty<y<+\\infty}}f(x,y){\\mathrm d x}{\\mathrm d y}=\\frac{1}{8}\\int_0^{1.5}{\\mathrm d x}\\int_2^4(6-x-y)\n",
    "{\\mathrm d y}=\\frac{1}{8}\\int_0^{1.5}(6-2x){\\mathrm d x}=\\frac{27}{32}\n",
    "$$"
   ]
  },
  {
   "cell_type": "markdown",
   "metadata": {},
   "source": [
    "(4) \n",
    "\n",
    "$$\n",
    "P(X+Y\\leq 4)=\\iint_{x+y\\leq 4}f(x,y){\\mathrm d x}{\\mathrm d y}=\\frac{1}{8}\\int_0^2{\\mathrm d x}\\int_2^{4-x}(6-x-y){\\mathrm d y}=\\frac{1}{8}\\int_0^2(6-4x-\\frac{1}{2}x^2){\\mathrm d x}=\\frac{2}{3}\n",
    "$$"
   ]
  },
  {
   "cell_type": "markdown",
   "metadata": {},
   "source": [
    "**例5** 随机变量 $(X,Y)$ 的概率密度为\n",
    "\n",
    "$$\n",
    "f(x,y)=\n",
    "\\begin{cases}\n",
    "\\frac{A}{x^2y^3},x>\\frac{1}{2},y>\\frac{1}{2}\\\\\n",
    "\\\\\n",
    "0，\\qquad 其他\\\\\n",
    "\\end{cases}\n",
    "$$\n",
    "\n",
    "求：(1)　常数　$A$;\n",
    "\n",
    "(2) $(X,Y)$ 的分布函数；\n",
    "\n",
    "（３） $P(XY<1)$."
   ]
  },
  {
   "cell_type": "markdown",
   "metadata": {},
   "source": [
    "**解:** 由\n",
    "\n",
    "$$\n",
    "\\int_{-\\infty}^{+\\infty}\\int_{-\\infty}^{+\\infty}f(x,y){\\mathrm d x}{\\mathrm d y}=1\n",
    "$$\n",
    "\n",
    "有\n",
    "\n",
    "$$\n",
    "１＝\\int_{\\frac{1}{2}}^{+\\infty}{\\mathrm d x}\\int_{\\frac{1}{2}}^{+\\infty}\\frac{A}{x^2y^3}{\\mathrm d y}=A\\int_{\\frac{1}{2}}^{+\\infty}\\frac{2}{x^2}{\\mathrm d x}=4A\n",
    "$$\n",
    "\n",
    "得\n",
    "\n",
    "$$\n",
    "A=\\frac{1}{4}\n",
    "$$"
   ]
  },
  {
   "cell_type": "markdown",
   "metadata": {},
   "source": [
    "(2) \n",
    "当 $x\\leq \\frac{1}{2}$ 或 $y\\leq \\frac{1}{2}$ 时, $F(x,y)=0$\n",
    "\n",
    "当　$x>\\frac{1}{2}$ 且　$y>\\frac{1}{2}$\n",
    "\n",
    "$$\n",
    "F(x,y)=\\int_{\\frac{1}{2}}^x {\\mathrm d u}\\int_{\\frac{1}{2}}^y\\frac{1}{4u^2v^3}{\\mathrm d v} =\\frac{1}{4}(2-\\frac{1}{x})(2-\\frac{1}{2y^2})\n",
    "$$\n",
    "\n",
    "所以\n",
    "\n",
    "$$\n",
    "F(x,y)=\n",
    "\\begin{cases}\n",
    "\\frac{1}{4}(2-\\frac{1}{x})(2-\\frac{1}{2y^2}),x>\\frac{1}{2},y>\\frac{1}{2}\\\\\n",
    "\\\\\n",
    "0，\\qquad 其他\\\\\n",
    "\\end{cases}\n",
    "$$"
   ]
  },
  {
   "cell_type": "markdown",
   "metadata": {},
   "source": [
    "(3) \n",
    "$$\n",
    "P(XY<1)=\\iint_{xy<1}f(x,y){\\mathrm d x}{\\mathrm d y}=\\int_{\\frac{1}{2}}^2{\\mathrm d x}\\int_{\\frac{1}{2}}^{\\frac{1}{x}}\\frac{1}{4x^2y^3}{\\mathrm d y}=\\frac{9}{16}.\n",
    "$$"
   ]
  },
  {
   "cell_type": "markdown",
   "metadata": {},
   "source": [
    "### 4、两个重要的二维连续分布"
   ]
  },
  {
   "cell_type": "markdown",
   "metadata": {},
   "source": [
    "**1.二维均匀分布**"
   ]
  },
  {
   "cell_type": "markdown",
   "metadata": {},
   "source": [
    "**定义5** 设 $D$ 为 $xoy$ 平面上的有界区域, 面积为 $A$, 如果二维随机变量 $(X,Y)$ 具有联合概率密度"
   ]
  },
  {
   "cell_type": "markdown",
   "metadata": {},
   "source": [
    "$$\n",
    "f(x,y)=\n",
    "\\begin{cases}\n",
    "\\frac{1}{A},(x,y)\\in D\\\\\n",
    "\\\\\n",
    "0 ,(x,y)\\notin D\\\\\n",
    "\\end{cases}\n",
    "$$\n",
    "\n",
    "则称 $(X,Y)$ 在 $D$ 上服从**均匀分布**."
   ]
  },
  {
   "cell_type": "markdown",
   "metadata": {},
   "source": [
    "**应用范围：**\n",
    "\n",
    "向平面上有界区域 $G$ 上任投一质点, 若质点落在 $G$ 内任一小区域 $B$ 的概率**与 $B$的面积成正比**, 而**与 $B$ 的形状及位置无关**. 则质点的坐标 $(X,Y)$ **在 $G$ 上服从均匀分布**."
   ]
  },
  {
   "cell_type": "markdown",
   "metadata": {},
   "source": [
    "**例6** 设 $D$ 为曲线 $y=x^2$, $x=1$ 与 $x$ 轴所围成平面区域, 二维随机变量 $(X,Y)$ 只在　$D$ 中取值, 并且取 $D$ 中每一点都是 “等可能的”, 求 $(X,Y)$ 的概率密度函数."
   ]
  },
  {
   "cell_type": "markdown",
   "metadata": {},
   "source": [
    "**解：** 依题意, $(X,Y)$ 的概率度函数为\n",
    "\n",
    "$$\n",
    "f(x,y)=\n",
    "\\begin{cases}\n",
    "C,(x,y)\\in D\\\\\n",
    "\\\\\n",
    "0 ,(x,y)\\notin D\\\\\n",
    "\\end{cases}\n",
    "(C为常数)\n",
    "$$\n",
    "\n",
    "区域 $D$ 的面积为　\n",
    "\n",
    "$$\n",
    "A=\\int_0^1 x^2{\\mathrm d x}=\\frac{1}{3}\n",
    "$$\n",
    "\n",
    "由概率的性质\n",
    "\n",
    "$$\n",
    "\\int_{-\\infty}^{+\\infty}\\int_{-\\infty}^{+\\infty}f(x,y){\\mathrm d x}{\\mathrm d y}=1\n",
    "$$\n",
    "\n",
    "可得　$C=\\frac{1}{A}=3$, 故\n",
    "\n",
    "$$\n",
    "f(x,y)=\n",
    "\\begin{cases}\n",
    "３,(x,y)\\in D\\\\\n",
    "\\\\\n",
    "0 ,(x,y)\\notin D\\\\\n",
    "\\end{cases}\n",
    "$$"
   ]
  },
  {
   "cell_type": "markdown",
   "metadata": {},
   "source": [
    "**2．二维正态分布**"
   ]
  },
  {
   "cell_type": "markdown",
   "metadata": {},
   "source": [
    "**定义7**  如果二维随机变量 $(X,Y)$ 的概率密度为\n",
    "\n",
    "$$\n",
    "f(x,y)=\\frac{1}{2\\pi \\sigma_1\\sigma_2\\sqrt{1-\\rho^2}}e^{-\\frac{1}{2(1-\\rho^2)}[\\frac{(x-\\mu_1)^2}{\\sigma_1^2}-\\frac{2\\rho(x-\\mu_1)(y-\\mu_2)}{\\sigma_1\\sigma_2}+\\frac{(y-\\mu_2)^2}{\\sigma_2^2}]}\n",
    "$$\n",
    "\n",
    "$$\n",
    "(-\\infty<x<+\\infty,-\\infty<y<+\\infty)\n",
    "$$\n",
    "\n",
    "其中 $\\mu_1$, $\\mu_2$, $\\sigma_1$, $\\sigma_2$, $\\rho$, 均为参数，且\n",
    "\n",
    "$$\n",
    "\\sigma_1>0,\\sigma_2>0,-1<\\rho<1\n",
    "$$\n",
    "\n",
    "则称 $(X,Y)$ 服从参数 $\\mu_1$, $\\mu_2$, $\\sigma_1^２$, $\\sigma_2＾２$, $\\rho$ 的**二维正态分布**\n",
    "\n",
    "记为\n",
    "\n",
    "$$\n",
    "(X,Y)\\sim N(\\mu_1,\\sigma_1^2;\\mu_2,\\sigma_1^2;\\rho)\n",
    "$$\n"
   ]
  },
  {
   "cell_type": "markdown",
   "metadata": {},
   "source": [
    "![](./figures/34.png)"
   ]
  },
  {
   "cell_type": "markdown",
   "metadata": {},
   "source": [
    "$$\n",
    "f(x,y)=\\frac{1}{2\\pi \\sigma_1\\sigma_2\\sqrt{1-\\rho^2}}exp^\\{{-\\frac{1}{2(1-\\rho^2)}[\\frac{(x-\\mu_1)^2}{\\sigma_1^2}-2\\rho{\\frac{(x-\\mu_1)}{\\sigma_1}\\frac{(y-\\mu_2)}{\\sigma_2}}+\\frac{(y-\\mu_2)^2}{\\sigma_2^2}]}\\}\n",
    "$$"
   ]
  },
  {
   "cell_type": "markdown",
   "metadata": {},
   "source": [
    "记　$z=(x,y)$, $a=(\\mu_1,\\mu_2)$, \n",
    "\n",
    "$$\n",
    "B=\n",
    "\\begin{Bmatrix}\n",
    "\\sigma_1^2 & \\rho \\sigma_1\\sigma_2\\\\\n",
    "\\rho \\sigma_1\\sigma_2 & \\sigma_2^2\\\\\n",
    "\\end{Bmatrix}\n",
    "$$\n",
    "\n",
    "则得\n",
    "\n",
    "$$\n",
    "f(x,y)=f(z)=\\frac{1}{2\\pi|B|^{\\frac{1}{2}}}exp[-\\frac{1}{2}(z-a)B^{-1}(z-1)^T]\n",
    "$$"
   ]
  },
  {
   "cell_type": "markdown",
   "metadata": {},
   "source": [
    "### 小 结"
   ]
  },
  {
   "cell_type": "markdown",
   "metadata": {},
   "source": [
    "1.二维离散随机变量的联合分布:联合概率函数,二维联合分布表,联合概率函数的性质(非负性,规范性).\n",
    "\n",
    "2.二维连续随机变量的联合分布:联合分布函数及其性质,联合概率密度及其性质(非负性,规范性).\n",
    "\n",
    "3.联合分布函数与联合概率密度的关系.\n",
    "\n",
    "4.利用联合概率密度求概率：\n",
    "\n",
    "$$\n",
    "P[(X,Y)\\in G]=\\iint_G f(x,y){\\mathrm d x}{\\mathrm d y}\n",
    "$$"
   ]
  },
  {
   "cell_type": "markdown",
   "metadata": {},
   "source": [
    "### 思考题"
   ]
  },
  {
   "cell_type": "markdown",
   "metadata": {},
   "source": [
    "设二维随机变量　$(X,y)$ 的联合概率密度为\n",
    "\n",
    "$$\n",
    "f(x,y)=\n",
    "\\begin{cases}\n",
    "x^2+\\frac{xy}{3},0\\leq x\\leq 1,0\\leq y\\leq 2\\\\\n",
    "\\\\\n",
    "0 ,其它\\\\\n",
    "\\end{cases}\n",
    "$$\n",
    "\n",
    "求概率 $P(X+Y\\geq1)$"
   ]
  },
  {
   "cell_type": "markdown",
   "metadata": {},
   "source": [
    "**解：** \n",
    "\n",
    "$$\n",
    "P[X+Y\\geq 1]=\\iint_R f(x,y){\\mathrm d x}{\\mathrm d y}\n",
    "$$\n",
    "\n",
    "其中 $R$ 如图所示, 因此\n",
    "\n",
    "$$\n",
    "P(X+Y\\geq 1)=\\int_0^1{\\mathrm d x}\\int_{1-x}^2(x^2+\\frac{xy}{3}){\\mathrm d y}=\\int_0^1(\\frac{x}{2}+\\frac{4}{3}x^2+\\frac{5}{6}x^3){\\mathrm d x}=\\frac{65}{72}\n",
    "$$"
   ]
  },
  {
   "cell_type": "markdown",
   "metadata": {},
   "source": [
    "![](./figures/35.png)"
   ]
  },
  {
   "cell_type": "code",
   "execution_count": null,
   "metadata": {
    "collapsed": true
   },
   "outputs": [],
   "source": []
  }
 ],
 "metadata": {
  "kernelspec": {
   "display_name": "SageMath 7.5.1",
   "language": "",
   "name": "sagemath"
  },
  "language_info": {
   "codemirror_mode": {
    "name": "ipython",
    "version": 2
   },
   "file_extension": ".py",
   "mimetype": "text/x-python",
   "name": "python",
   "nbconvert_exporter": "python",
   "pygments_lexer": "ipython2",
   "version": "2.7.13"
  }
 },
 "nbformat": 4,
 "nbformat_minor": 0
}
