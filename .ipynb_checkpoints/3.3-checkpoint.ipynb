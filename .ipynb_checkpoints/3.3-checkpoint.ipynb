{
 "cells": [
  {
   "cell_type": "markdown",
   "metadata": {},
   "source": [
    "## §3.3  二维随机变量的条件分布"
   ]
  },
  {
   "cell_type": "markdown",
   "metadata": {},
   "source": [
    "### 条件分布"
   ]
  },
  {
   "cell_type": "markdown",
   "metadata": {},
   "source": [
    "在事件 $B$ 发生的条件下事件 $A$ 发生的条件概率\n",
    "\n",
    "$$\n",
    "P(A|B)=\\frac{P(AB)}{P(B)}\n",
    "$$\n",
    "\n",
    "![](./figures/312.png) \n",
    "\n",
    "设有两个随机变量 $X, Y$， 在给定 $Y$ 取某个或某些值的条件下, 求 $X$ 的概率分布.\n",
    "\n",
    "这个分布就是**条件分布**."
   ]
  },
  {
   "cell_type": "markdown",
   "metadata": {},
   "source": [
    "**例如**, 考虑某大学的全体学生, 从其中随机抽取一个学生, 分别以 $X$ 和$ Y$ 表示其体重和身高. 则 $X$ 和 $Y$ 都是随机变量, 它们都有一定的概率分布.\n",
    "\n",
    "![](./figures/313.png)"
   ]
  },
  {
   "cell_type": "markdown",
   "metadata": {},
   "source": [
    "现在若限制 1.7 < $Y$ < 1.8(米), 在这个条件下去求 $X$ 的条件分布, 这就意味着要从该校的学生中把身高在 1.7 米和 1.8 米之间的那些人都挑出来, 然后在挑出的学生中求其体重的分布.\n",
    "\n",
    "容易想象, 这个分布与不加这个条件时的分布会很不一样. 例如, 在条件分布中体重取大值的概率会显著增加."
   ]
  },
  {
   "cell_type": "markdown",
   "metadata": {},
   "source": [
    "### 1、离散型随机变量的条件概率分布 "
   ]
  },
  {
   "cell_type": "markdown",
   "metadata": {},
   "source": [
    "设 $(X,Y)$ 是二维离散型随机变量, 其联合概率分布为\n",
    "\n",
    "$$\n",
    "P(X=x_i,Y=y_j)=p_{ij}, \\qquad i=1, 2, \\cdots; j=1, 2, \\cdots; \n",
    "$$\n",
    "\n",
    "关于 $X$ 与 $Y$ 的边缘概率分布为\n",
    "\n",
    "$$\n",
    "p_{i\\cdot}=P(X=x_i)=\\sum_j p_{ij}, i=1, 2, \\cdots;\n",
    "$$\n",
    "\n",
    "$$\n",
    "p_{\\cdot j}=P(Y=y_j)=\\sum_i p_{ij}, j=1, 2, \\cdots;\n",
    "$$"
   ]
  },
  {
   "cell_type": "markdown",
   "metadata": {},
   "source": [
    "我们称在 $Y=y_j$ 的条件下, 随机变量 $X$ 的概率分布为在 $Y=y_j$ 的条件下 $X$ 的 **条件概率分布**,记作 $P_{X|Y}(x_i|y_j)$\n",
    "\n",
    "同样的, 我们称在 $X=x_i$ 的条件下, 随机变量 $Y$ 的概率分布为 $X=x_i$ 的条件下的 随机变量 $Y$ 的**条件概率分布**. 记作 $P_{Y|X}(y_j|x_i)$\n",
    "\n",
    "事实上, 若 $P(Y=y_j)>0$, 则\n",
    "\n",
    "$$\n",
    "p_{X|Y}(x_i|y_j)=P(X=x_i|Y=y_j)=\\frac{P(X=x_i,Y=y_j)}{P(Y=y_j)}=\\frac{p_{ij}}{p_{\\cdot j}},(i=1,2,\\cdots)\n",
    "$$\n",
    "\n",
    "若　$P(X=x_i)>0$, 则\n",
    "\n",
    "$$\n",
    "p_{Y|X}(y_j|x_i)=P(Y=y_j|X=x_i)=\\frac{P(X=x_i,Y=y_j)}{P(X=x_i)}=\\frac{p_{ij}}{p_{i \\cdot }},(j=1,2,\\cdots)\n",
    "$$\n",
    "\n",
    "这就是求**条件概率分布的公式**."
   ]
  },
  {
   "cell_type": "markdown",
   "metadata": {},
   "source": [
    "**例1** 设 $(X,Y)$ 的联合分布律如下表, 求\n",
    "\n",
    "(1) 在 $X=3$ 的条件下 $Y$ 的条件概率分布;\n",
    "\n",
    "(2) 在 $Y=1$ 的条件下 $X$ 的条件概率分布"
   ]
  },
  {
   "cell_type": "markdown",
   "metadata": {},
   "source": [
    "|$Y\\X$| 1 | 2 | 3 | 4 |\n",
    "|:-----:|:-----:|:-----:|:-----:|\n",
    "| 1 |$\\frac{1}{4}$|$\\frac{1}{8}$|$\\frac{1}{12}$|$\\frac{1}{16}$|\n",
    "| 2 | 0 |$\\frac{1}{8}$|$\\frac{1}{12}$|$\\frac{1}{16}$|\n",
    "| 3 | 0 | 0 |$\\frac{1}{12}$|$\\frac{1}{16}$|\n",
    "| 4 | 0 | 0 | 0 |$\\frac{1}{16}$|"
   ]
  },
  {
   "cell_type": "markdown",
   "metadata": {},
   "source": [
    "**解：**  $X$ 和 $Y$ 的边缘分布为\n",
    "\n",
    "|$X$| 1 | 2 | 3 | 4 |\n",
    "|:-----:|:-----:|:-----:|:-----:|\n",
    "| $p_{i\\cdot}$ |$\\frac{1}{4}$|$\\frac{1}{4}$|$\\frac{1}{4}$|$\\frac{1}{4}$|\n",
    "\n",
    "|$Y$| 1 | 2 | 3 | 4 |\n",
    "|:-----:|:-----:|:-----:|:-----:|\n",
    "| $p_{\\cdot j }$ |$\\frac{25}{48}$|$\\frac{13}{48}$|$\\frac{7}{48}$|$\\frac{1}{16}$|"
   ]
  },
  {
   "cell_type": "markdown",
   "metadata": {},
   "source": [
    "因为\n",
    "\n",
    "$$\n",
    "P(Y=1|X=3)=\\frac{p_{31}}{p_{3 \\cdot}}=\\frac{1}{3}\n",
    "$$\n",
    "\n",
    "$$\n",
    "P(Y=2|X=3)=\\frac{p_{32}}{p_{3 \\cdot}}=\\frac{1}{3}\n",
    "$$\n",
    "\n",
    "$$\n",
    "P(Y=3|X=3)=\\frac{p_{33}}{p_{3 \\cdot}}=\\frac{1}{3}\n",
    "$$\n",
    "\n",
    "$$\n",
    "P(Y=4|X=3)=\\frac{p_{34}}{p_{3 \\cdot}}=0\n",
    "$$"
   ]
  },
  {
   "cell_type": "markdown",
   "metadata": {},
   "source": [
    "所以在 $X=3$ 的条件下 $Y$ 的条件概率分布为\n",
    "\n",
    "|$Y$| 1 | 2 | 3 | 4 |\n",
    "|:-----:|:-----:|:-----:|:-----:|\n",
    "| $P(Y=y_j|X=3)$ |$\\frac{1}{3}$|$\\frac{1}{3}$|$\\frac{1}{3}$| 0|\n",
    "\n",
    "同理, 在 $Y=1$ 的条件下 $X$ 的条件概率分布为\n",
    "\n",
    "|$X$| 1 | 2 | 3 | 4 |\n",
    "|:-----:|:-----:|:-----:|:-----:|\n",
    "| $P(X=x_i|Y=1)$ |$\\frac{12}{25}$|$\\frac{6}{25}$|$\\frac{4}{25}$|$\\frac{3}{25}$|\n"
   ]
  },
  {
   "cell_type": "markdown",
   "metadata": {},
   "source": [
    "### 2、连续型随机变量的条件概率密度"
   ]
  },
  {
   "cell_type": "markdown",
   "metadata": {},
   "source": [
    "**定义2** 设 $(X,Y)$ 是二维连续型随机变量, 给定 $y,f_Y(y)>0$, 假设 $P(y<Y\\leq y+\\vartriangle y)>0$, 且对于任意实数 $x$, 极限\n",
    "\n",
    "$$\n",
    "\\lim_{\\vartriangle y \\to 0}P(X\\leq x|y<Y\\leq y+\\vartriangle y)=\\lim_{\\vartriangle y \\to 0}\\frac{P(X\\leq x,y<Y\\leq y+\\vartriangle y )}{P(y<Y\\leq y+\\vartriangle y)}\n",
    "$$\n"
   ]
  },
  {
   "cell_type": "markdown",
   "metadata": {},
   "source": [
    "存在, 则称此极限为在条件 $Y=y$ 下 $X$ 的**条件分布函数**记作 $F_{X|Y}(x|y)$\n",
    "\n",
    "同样的, 可以定义在条件 $X=x$ 下 $Y$ 的**条件分布函数**记作 $F_{Y|X}(y|x)$\n",
    "\n",
    "\n",
    "事实上, 由于 $f(x,y)$ 及 $f_Y(y)$ 是连续函数, 且 $f_Y(y)>0$, 根据积分中值定理可得\n",
    "\n",
    "$$\n",
    "\\begin{aligned}\n",
    "F_{X|Y}(x|y)\n",
    "&=\\lim_{\\vartriangle y \\to 0}P(X\\leq x|y<Y\\leq y+\\vartriangle y)\\\\\n",
    "&=\\lim_{\\vartriangle y \\to 0}\\frac{P(X\\leq x,y<Y\\leq y+\\vartriangle y )}{P(y<Y\\leq y+\\vartriangle y)}\\\\\n",
    "&=\\lim_{\\vartriangle y \\to 0}\\frac{\\int_y^{y+\\vartriangle y}\\int_{-\\infty}^{x}f(x,y){\\mathrm d x}{\\mathrm d y}}{\\int_y^{y+\\vartriangle y}f_Y(y){\\mathrm d y}}\\\\\n",
    "&=\\lim_{\\vartriangle y \\to 0}\\frac{\\int_{-\\infty}^x f(x,y+\\theta_1 \\cdot \\vartriangle y){\\mathrm d x}}{f_Y(y+\\theta_2 \\cdot \\vartriangle y))}\\\\\n",
    "\\end{aligned}\n",
    "$$\n",
    "\n",
    "其中 $0<\\theta_1<1$, $0<\\theta_2<1$. 于是我们有"
   ]
  },
  {
   "cell_type": "markdown",
   "metadata": {},
   "source": [
    "$$\n",
    "F_{X|Y}(x|y)=\\frac{\\int_{-\\infty}^x f(x,y){\\mathrm d x}}{f_Y(y)}\n",
    "$$\n",
    "\n",
    "上式两边对 $x$ 求导数, 可得 \n",
    "\n",
    "$$\n",
    "f_{X|Y}(x|y)=\\frac{f(x,y)}{f_Y(y)}\n",
    "$$\n",
    "\n",
    "同理, 若 $f_X(x)>0$, 我们有\n",
    "\n",
    "$$\n",
    "F_{Y|X}(y|x)=\\frac{\\int_{-\\infty}^y f(x,y){\\mathrm d y}}{f_X(x)}\n",
    "$$\n",
    "\n",
    "$$\n",
    "f_{Y|X}(y|x)=\\frac{f(x,y)}{f_X(x)}\n",
    "$$\n",
    "\n",
    "则称 $f_{X|Y}(x|y)$ 为在条件 $Y=y$ 下 $X$ 的条件概率密度;\n",
    "\n",
    "\n",
    "则称 $f_{Y|X}(y|x)$ 为在条件 $X=x$ 下 $Y$ 的条件概率密度；"
   ]
  },
  {
   "cell_type": "markdown",
   "metadata": {},
   "source": [
    "**例2** 设 $(X,Y)$ 的联合概率密度为\n",
    "\n",
    "$$\n",
    "f(x,y)=\n",
    "\\begin{cases}\n",
    "x^2+\\frac{1}{3}xy, 0<x\\leq 1,0<y\\leq 2\\\\\n",
    "\\\\\n",
    "0，\\qquad 其他\\\\\n",
    "\\end{cases}\n",
    "$$\n",
    "\n",
    "求 $f_{X|Y}(x|y)$ 与 $f_{Y|X}(y|x)$."
   ]
  },
  {
   "cell_type": "markdown",
   "metadata": {},
   "source": [
    "**解：** 边缘概率密度为\n",
    "\n",
    "$$\n",
    "\\begin{aligned}\n",
    "f_X(x)\n",
    "&=\\int_{-\\infty}^{+\\infty}f(x,y){\\mathrm d y}\\\\\n",
    "&=\\begin{cases}\n",
    "\\int_0^2(x^2+\\frac{1}{3}xy){\\mathrm d y},0<x \\leq 1\\\\\n",
    "\\\\\n",
    "0，\\qquad 其他\\\\\n",
    "\\end{cases}\\\\\n",
    "&=\\begin{cases}\n",
    "2x^2+\\frac{2}{3}x,0< x\\leq 1\\\\\n",
    "\\\\\n",
    "0，\\qquad 其他\\\\\n",
    "\\end{cases}\\\\\n",
    "\\end{aligned}\n",
    "$$"
   ]
  },
  {
   "cell_type": "markdown",
   "metadata": {},
   "source": [
    "$$\n",
    "\\begin{aligned}\n",
    "f_Y(y)\n",
    "&=\\int_{-\\infty}^{+\\infty}f(x,y){\\mathrm d x}\\\\\n",
    "&=\\begin{cases}\n",
    "\\int_0^1(x^2+\\frac{1}{3}xy){\\mathrm d x},0< y\\leq 2\\\\\n",
    "\\\\\n",
    "0，\\qquad 其他\\\\\n",
    "\\end{cases}\\\\\n",
    "&=\\begin{cases}\n",
    "\\frac{1}{3}+\\frac{1}{6}y,0< y\\leq 2\\\\\n",
    "\\\\\n",
    "0，\\qquad 其他\\\\\n",
    "\\end{cases}\\\\\n",
    "\\end{aligned}\n",
    "$$"
   ]
  },
  {
   "cell_type": "markdown",
   "metadata": {},
   "source": [
    "当 $0<x\\leq 1$ 时\n",
    "\n",
    "$$\n",
    "f_{Y|X}(y|x)=\\frac{f(x,y)}{f_X(x)}\n",
    "=\\begin{cases}\n",
    "\\frac{3x+y}{6x+2},0< y\\leq 2\\\\\n",
    "\\\\\n",
    "0，\\qquad 其他\\\\\n",
    "\\end{cases}\\\\\n",
    "$$\n",
    "\n",
    "当 $0<y\\leq 2$ 时\n",
    "\n",
    "$$\n",
    "f_{X|Y}(x|y)=\\frac{f(x,y)}{f_Y(y)}\n",
    "=\\begin{cases}\n",
    "\\frac{6x^2+2xy}{2+y},0< x\\leq 1\\\\\n",
    "\\\\\n",
    "0，\\qquad 其他\\\\\n",
    "\\end{cases}\\\\\n",
    "$$\n"
   ]
  },
  {
   "cell_type": "markdown",
   "metadata": {},
   "source": [
    "**例3** 设 $(X,Y)$ 的联合概率密度为\n",
    "\n",
    "$$\n",
    "f(x,y)=\n",
    "\\begin{cases}\n",
    "\\frac{21}{4}x^2y,x^2\\leq y\\leq 1\\\\\n",
    "\\\\\n",
    "0，\\qquad 其他\\\\\n",
    "\\end{cases}\\\\\n",
    "$$\n",
    "\n",
    "(1) 求条件概率密度 $f_{X|Y}(x|y)$ 与 $f_{Y|X}(y|x)$ 及 $f_{X|Y}(x|\\frac{1}{2})$\n",
    "\n",
    "(2)求条件概率 $P(Y\\geq \\frac{1}{4}|x=\\frac{1}{2})$"
   ]
  },
  {
   "cell_type": "markdown",
   "metadata": {},
   "source": [
    "**解：** (1) 边缘概率密度为\n",
    "\n",
    "$$\n",
    "\\begin{aligned}\n",
    "f_Y(y)\n",
    "&=\\int_{-\\infty}^{+\\infty}f(x,y){\\mathrm d x}\\\\\n",
    "\\\\\n",
    "&=\\begin{cases}\n",
    "\\int_{-\\sqrt{y}}^{\\sqrt{y}}\\frac{21}{4}x^2y{\\mathrm d x},0\\leq y\\leq 1\\\\\n",
    "\\\\\n",
    "0，\\qquad 其他\\\\\n",
    "\\end{cases}\\\\\n",
    "\\\\\n",
    "&=\\begin{cases}\n",
    "\\frac{7}{2}y^{\\frac{5}{2}},0\\leq y\\leq 1\\\\\n",
    "\\\\\n",
    "0，\\qquad 其他\\\\\n",
    "\\end{cases}\\\\\n",
    "\\end{aligned}\n",
    "$$"
   ]
  },
  {
   "cell_type": "markdown",
   "metadata": {},
   "source": [
    "$$\n",
    "\\begin{aligned}\n",
    "f_X(x)\n",
    "&=\\int_{-\\infty}^{+\\infty}f(x,y){\\mathrm d y}\\\\\n",
    "\\\\\n",
    "&=\\begin{cases}\n",
    "\\int_{x^2}^1\\frac{21}{4}x^2y{\\mathrm d y},-1\\leq x\\leq 1\\\\\n",
    "\\\\\n",
    "0，\\qquad 其他\\\\\n",
    "\\end{cases}\\\\\n",
    "\\\\\n",
    "&=\\begin{cases}\n",
    "\\frac{21}{8}x^2(1-x^4),-1\\leq x\\leq 1\\\\\n",
    "\\\\\n",
    "0，\\qquad 其他\\\\\n",
    "\\end{cases}\\\\\n",
    "\\end{aligned}\n",
    "$$"
   ]
  },
  {
   "cell_type": "markdown",
   "metadata": {},
   "source": [
    "当 $0<y\\leq 1$ 时\n",
    "\n",
    "$$\n",
    "f_{X|Y}=\\frac{f(x,y)}{f_Y(y)}\n",
    "=\\begin{cases}\n",
    "\\frac{3}{2}x^2y^{-\\frac{3}{2}},-\\sqrt{y}\\leq x\\leq \\sqrt{y}\\\\\n",
    "\\\\\n",
    "0，\\qquad 其他\\\\\n",
    "\\end{cases}\\\\\n",
    "$$"
   ]
  },
  {
   "cell_type": "markdown",
   "metadata": {},
   "source": [
    "当 $-1<x<1$ 时，\n",
    "\n",
    "$$\n",
    "f_{Y|X}=\\frac{f(x,y)}{f_X(x)}\n",
    "=\\begin{cases}\n",
    "\\frac{2y}{1-x^4},x^2\\leq y\\leq 1\\\\\n",
    "\\\\\n",
    "0，\\qquad 其他\\\\\n",
    "\\end{cases}\\\\\n",
    "$$\n",
    "\n",
    "所以\n",
    "\n",
    "$$\n",
    "f_{X|Y}(x|\\frac{1}{2})=\n",
    "\\begin{cases}\n",
    "3\\sqrt{2}x^2,-\\frac{\\sqrt{2}}{2}\\leq x\\leq \\frac{\\sqrt{2}}{2}\\\\\n",
    "\\\\\n",
    "0，\\qquad 其他\\\\\n",
    "\\end{cases}\\\\\n",
    "$$"
   ]
  },
  {
   "cell_type": "markdown",
   "metadata": {},
   "source": [
    "(2) \n",
    "$$\n",
    "P(Y\\geq \\frac{1}{4}|X=\\frac{1}{2})=\\int_{\\frac{1}{4}}^{+\\infty}f_{Y|X}(y|\\frac{1}{2}){\\mathrm d y}=\\int_{\\frac{1}{4}}^1 \\frac{32}{15}y{\\mathrm d y}=1\n",
    "$$"
   ]
  },
  {
   "cell_type": "markdown",
   "metadata": {},
   "source": [
    "**备注：**\n",
    "\n",
    "前面，我们已经知道, 二维正态分布的两个边缘密度仍是正态分布.\n",
    "\n",
    "可以证明，对二维正态分布, 已知 $X=x$ 的条件下, $Y$ 的条件分布, 或者已知 $Y=y $ 的条件下, $X$ 条件分布**都仍是正态分布**."
   ]
  },
  {
   "cell_type": "code",
   "execution_count": null,
   "metadata": {
    "collapsed": true
   },
   "outputs": [],
   "source": []
  }
 ],
 "metadata": {
  "kernelspec": {
   "display_name": "Python 2",
   "language": "python",
   "name": "python2"
  },
  "language_info": {
   "codemirror_mode": {
    "name": "ipython",
    "version": 2
   },
   "file_extension": ".py",
   "mimetype": "text/x-python",
   "name": "python",
   "nbconvert_exporter": "python",
   "pygments_lexer": "ipython2",
   "version": "2.7.13"
  }
 },
 "nbformat": 4,
 "nbformat_minor": 0
}
