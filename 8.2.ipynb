{
 "cells": [
  {
   "cell_type": "markdown",
   "metadata": {
    "slideshow": {
     "slide_type": "slide"
    }
   },
   "source": [
    "## 8.2  正态总体参数的假设检验"
   ]
  },
  {
   "cell_type": "markdown",
   "metadata": {
    "slideshow": {
     "slide_type": "subslide"
    }
   },
   "source": [
    "### 一、关于正态总体均值的假设检验\n"
   ]
  },
  {
   "cell_type": "markdown",
   "metadata": {
    "slideshow": {
     "slide_type": "fragment"
    }
   },
   "source": [
    "设总体 $X～N(\\mu,\\sigma^2)$, 抽取容量为 $n$ 的样本 $X_1,X_1,\\dots,X_n$, 样本均值与样本方差分别是\n",
    "\n",
    "$$\n",
    "\\overline X = \\frac{1}{n}\\sum_{i=1}^{n}X_i\n",
    "$$\n",
    "\n",
    "$$\n",
    "S^2= \\frac{1}{n-1}\\sum_{i=1}^{n}(X_i-\\overline X)^2\n",
    "$$"
   ]
  },
  {
   "cell_type": "markdown",
   "metadata": {
    "slideshow": {
     "slide_type": "subslide"
    }
   },
   "source": [
    "(1)若已知 $\\sigma=\\sigma_0$, 则选取统计量 $U=\\frac{\\overline X-\\mu_0}{\\sigma/\\sqrt{n}}～N(0,1)$\n",
    "\n",
    "(2)若未知 $\\sigma$, 则选取统计量 $T=\\frac{\\overline X-\\mu_0}{S/\\sqrt{n}}～t(n-1)$"
   ]
  },
  {
   "cell_type": "markdown",
   "metadata": {
    "slideshow": {
     "slide_type": "subslide"
    }
   },
   "source": [
    "关于均值 $\\mu$ 的假设检验通常有以下三种:\n",
    "1. $H_0:~\\mu=\\mu_0,\\leftrightarrow H_1:~\\mu\\neq \\mu_0$\n",
    "1. $H_0:~\\mu\\leq\\mu_0,\\leftrightarrow H_1:~\\mu> \\mu_0$\n",
    "1. $H_0:~\\mu\\geq\\mu_0,\\leftrightarrow H_1:~\\mu<\\mu_0$\n",
    "\n",
    "其中 $\\mu_0$ 为给定常数.\n"
   ]
  },
  {
   "cell_type": "markdown",
   "metadata": {
    "slideshow": {
     "slide_type": "subslide"
    }
   },
   "source": [
    "**1. $\\sigma=\\sigma_0$已知**"
   ]
  },
  {
   "cell_type": "markdown",
   "metadata": {
    "slideshow": {
     "slide_type": "fragment"
    }
   },
   "source": [
    "此时采用所谓 $U$ 检验, 即令\n",
    "\n",
    "$$\n",
    "U=\\frac{\\overline X-\\mu_0}{\\sigma/\\sqrt{n}}\n",
    "$$"
   ]
  },
  {
   "cell_type": "markdown",
   "metadata": {
    "slideshow": {
     "slide_type": "subslide"
    }
   },
   "source": [
    "对检验问题(1): 则在 $H_0$ 成立时, $U～N(0,1)$,  且 $P\\{|U|>u_{\\alpha/2}\\}=\\alpha$, 故 $H_0$ 的拒绝域为\n",
    "\n",
    "$$\n",
    "V_1=\\{|U|>u_{\\alpha/2}\\}=\\{|\\overline X-\\mu_0|>\\frac{\\sigma}{\\sqrt{n}}u_{\\alpha/2}\\}\n",
    "$$"
   ]
  },
  {
   "cell_type": "markdown",
   "metadata": {
    "slideshow": {
     "slide_type": "subslide"
    }
   },
   "source": [
    "对检验问题(2): 由原假设 $H_0$ 为 $\\mu\\leq\\mu_0$ 知, 当 $\\overline x-\\mu_0$ 偏大时, 或等价地 $U$ 偏大时, 我们就有理由怀疑原假设 $H_0$ 不真而拒绝 $H_0$, 所以直观上 $H_0$ 的拒绝域应为 $\\{U>C\\}$.\n",
    "\n",
    "当 $\\mu=\\mu_0$ 时, $U～N(0,1)$　且 $P(U>u_{\\alpha})=\\alpha$\n",
    "\n",
    "当 $\\mu<\\mu_0$ 时, $\\frac{\\overline X-\\mu}{\\sigma/\\sqrt{n}}～N(0,1)$ 且 $P\\{\\frac{\\overline X-\\mu}{\\sigma/\\sqrt{n}}>u_{\\alpha}\\}=\\alpha$"
   ]
  },
  {
   "cell_type": "markdown",
   "metadata": {
    "slideshow": {
     "slide_type": "subslide"
    }
   },
   "source": [
    "而由 $U=\\frac{\\overline X-\\mu_0}{\\sigma/\\sqrt{n}}<\\frac{\\overline X-\\mu}{\\sigma/\\sqrt{n}}$ 可得\n",
    "\n",
    "$$\n",
    "\\{U>u_{\\alpha}\\}\\subset\\{\\frac{\\overline X-\\mu}{\\sigma/\\sqrt{n}}>u_{\\alpha}\\}\n",
    "$$"
   ]
  },
  {
   "cell_type": "markdown",
   "metadata": {
    "slideshow": {
     "slide_type": "subslide"
    }
   },
   "source": [
    "故此时有\n",
    "\n",
    "$$\n",
    "P\\{U>u_{\\alpha}\\}<\\alpha\n",
    "$$\n",
    "\n",
    "总之, 当 $H_0$ 成立时, 有 $P\\{U>u_{\\alpha}\\}\\leq\\alpha$, 所以 $H_0$ 的拒绝域为\n",
    "\n",
    "$$\n",
    "V_2=\\{|U|>u_{\\alpha}\\}=\\{\\overline X>\\mu_0+\\frac{\\sigma}{\\sqrt{n}}u_{\\alpha}\\}\n",
    "$$"
   ]
  },
  {
   "cell_type": "markdown",
   "metadata": {
    "slideshow": {
     "slide_type": "subslide"
    }
   },
   "source": [
    "对检验问题(3): 由原假设 $H_0$ 为 $\\mu\\geq\\mu_0$ 知, 当 $\\overline x-\\mu_0$ 偏小时, 或等价地 $U$ 偏小时, 我们就有理由怀疑原假设 $H_0$ 不真而拒绝 $H_0$, 所以直观上 $H_0$ 的拒绝域应为 $\\{U<C\\}$.\n",
    "\n",
    "当 $\\mu=\\mu_0$ 时, $U～N(0,1)$　且 $P(U<-u_{\\alpha})=\\alpha$\n",
    "\n",
    "当 $\\mu>\\mu_0$ 时, $\\frac{\\overline X-\\mu}{\\sigma/\\sqrt{n}}～N(0,1)$ 且 $P\\{\\frac{\\overline X-\\mu}{\\sigma/\\sqrt{n}}<-u_{\\alpha}\\}=\\alpha$"
   ]
  },
  {
   "cell_type": "markdown",
   "metadata": {
    "slideshow": {
     "slide_type": "subslide"
    }
   },
   "source": [
    "而由 $U=\\frac{\\overline X-\\mu_0}{\\sigma/\\sqrt{n}}>\\frac{\\overline X-\\mu}{\\sigma/\\sqrt{n}}$ 可得\n",
    "\n",
    "$$\n",
    "\\{U<-u_{\\alpha}\\}\\subset\\{\\frac{\\overline X-\\mu}{\\sigma/\\sqrt{n}}<-u_{\\alpha}\\}\n",
    "$$"
   ]
  },
  {
   "cell_type": "markdown",
   "metadata": {
    "slideshow": {
     "slide_type": "subslide"
    }
   },
   "source": [
    "故此时有\n",
    "\n",
    "$$\n",
    "P\\{U<-u_{\\alpha}\\}<\\alpha\n",
    "$$\n",
    "\n",
    "总之, 当 $H_0$ 成立时, 有 $P\\{U<-u_{\\alpha}\\}\\leq\\alpha$,  所以 $H_0$ 的拒绝域为\n",
    "\n",
    "$$\n",
    "V_3=\\{U<-u_{\\alpha}\\}=\\{\\overline X<\\mu_0-\\frac{\\sigma}{\\sqrt{n}}u_{\\alpha}\\}\n",
    "$$"
   ]
  },
  {
   "cell_type": "markdown",
   "metadata": {
    "slideshow": {
     "slide_type": "subslide"
    }
   },
   "source": [
    "$U$ 检验法 ($\\sigma^2$ 已知)\n",
    "\n",
    "$$\n",
    "\\begin{array}{|c|l|l|l|}\n",
    "\\hline\n",
    "\\text{原假设 $H_0$} & \\text{备选假设 $H_1$} & \\text{检验统计量及其 $H_0$ 为真时的分布}& \\text{拒绝域}\\\\\n",
    "\\hline\n",
    "\\mu=\\mu_0 & \\mu\\neq\\mu_0 & U=\\frac{\\overline X-\\mu_0}{\\sigma/\\sqrt{n}}～N(0,1) & |U|>u_{\\alpha/2}\\\\\n",
    "\\hline\n",
    "\\mu\\leq\\mu_0 & \\mu>\\mu_0 & U=\\frac{\\overline X-\\mu_0}{\\sigma/\\sqrt{n}}～N(0,1) & U>u_{\\alpha}\\\\\n",
    "\\hline\n",
    "\\mu\\geq\\mu_0 & \\mu<\\mu_0 & U=\\frac{\\overline X-\\mu_0}{\\sigma/\\sqrt{n}}～N(0,1) & U<-u_{\\alpha}\\\\\n",
    "\\hline\n",
    "\\end{array}\n",
    "$$"
   ]
  },
  {
   "cell_type": "markdown",
   "metadata": {
    "slideshow": {
     "slide_type": "subslide"
    }
   },
   "source": [
    "**2.$\\sigma=\\sigma_0$ 未知**"
   ]
  },
  {
   "cell_type": "markdown",
   "metadata": {
    "slideshow": {
     "slide_type": "fragment"
    }
   },
   "source": [
    "此时采用所谓 $T$ 检验, 即令\n",
    "\n",
    "$$\n",
    "T=\\frac{\\overline X-\\mu_0}{S/\\sqrt{n}}\n",
    "$$"
   ]
  },
  {
   "cell_type": "markdown",
   "metadata": {
    "slideshow": {
     "slide_type": "fragment"
    }
   },
   "source": [
    "对检验问题(1): 则在 $H_0$ 成立时, $T～t(n-1)$,且 $P\\{|T|>t_{\\alpha/2}(n-1)\\}=\\alpha$, 故 $H_0$ 的拒绝域为\n",
    "\n",
    "$$\n",
    "V_1=\\{|T|>t_{\\alpha/2}\\}=\\{|\\overline X-\\mu_0|>\\frac{S}{\\sqrt{n}}t_{\\alpha/2}(n-1)\\}\n",
    "$$"
   ]
  },
  {
   "cell_type": "markdown",
   "metadata": {
    "slideshow": {
     "slide_type": "subslide"
    }
   },
   "source": [
    "对检验问题(2): 同1讨论 知, $H_0$ 的拒绝域应为 $\\{T>C\\}$.\n",
    "\n",
    "当 $\\mu=\\mu_0$ 时, $T～t(n-1)$ 且 $P\\{T>t_{\\alpha}(n-1)\\}=\\alpha$\n",
    "\n",
    "当 $\\mu<\\mu_0$ 时, $\\frac{\\overline X-\\mu}{S/\\sqrt{n}}～t(n-1)$ 且 $P\\{\\frac{\\overline X-\\mu}{S/\\sqrt{n}}>t_{\\alpha}(n-1)\\}=\\alpha$"
   ]
  },
  {
   "cell_type": "markdown",
   "metadata": {
    "slideshow": {
     "slide_type": "subslide"
    }
   },
   "source": [
    "而由 $T=\\frac{\\overline X-\\mu_0}{S/\\sqrt{n}}<\\frac{\\overline X-\\mu}{S/\\sqrt{n}}$ 可得\n",
    "\n",
    "$$\n",
    "\\{T>t_{\\alpha}(n-1)\\}\\subset\\{\\frac{\\overline X-\\mu}{S/\\sqrt{n}}>t_{\\alpha}(n-1)\\}\n",
    "$$"
   ]
  },
  {
   "cell_type": "markdown",
   "metadata": {
    "slideshow": {
     "slide_type": "subslide"
    }
   },
   "source": [
    "故此时有\n",
    "\n",
    "$$\n",
    "P\\{T>t_{\\alpha}(n-1)\\}<\\alpha\n",
    "$$\n",
    "\n",
    "总之, 当 $H_0$ 成立时, 有 $P\\{T>t_{\\alpha}(n-1)\\}\\leq\\alpha$, 所以 $H_0$ 的拒绝域为\n",
    "\n",
    "$$\n",
    "V_2=\\{T>t_{\\alpha}(n-1)\\}=\\{\\overline X>\\mu_0+\\frac{S}{\\sqrt{n}}t_{\\alpha}(n-1)\\}\n",
    "$$"
   ]
  },
  {
   "cell_type": "markdown",
   "metadata": {
    "slideshow": {
     "slide_type": "subslide"
    }
   },
   "source": [
    "对检验问题(3): 同1讨论 知, $H_0$ 的拒绝域应为 $\\{T<C\\}$.\n",
    "\n",
    "当 $\\mu=\\mu_0$ 时, $T～t(n-1)$　且 $P\\{T<-t_{\\alpha}(n-1)\\}=\\alpha$\n",
    "\n",
    "当 $\\mu>\\mu_0$ 时, $\\frac{\\overline X-\\mu}{S/\\sqrt{n}}～t(n-1)$ 且 $P\\{\\frac{\\overline X-\\mu}{S/\\sqrt{n}}<-t_{\\alpha}(n-1)\\}=\\alpha$"
   ]
  },
  {
   "cell_type": "markdown",
   "metadata": {
    "slideshow": {
     "slide_type": "subslide"
    }
   },
   "source": [
    "而由 $T=\\frac{\\overline X-\\mu_0}{S/\\sqrt{n}}>\\frac{\\overline X-\\mu}{S/\\sqrt{n}}$ 可得\n",
    "\n",
    "$$\n",
    "\\{T<-t_{\\alpha}(n-1)\\}\\subset\\{\\frac{\\overline X-\\mu}{S/\\sqrt{n}}<-t_{\\alpha}(n-1)\\}\n",
    "$$"
   ]
  },
  {
   "cell_type": "markdown",
   "metadata": {
    "slideshow": {
     "slide_type": "subslide"
    }
   },
   "source": [
    "故此时有\n",
    "\n",
    "$$\n",
    "P\\{T<-t_{\\alpha}(n-1)\\}<\\alpha\n",
    "$$\n",
    "\n",
    "总之, 当 $H_0$ 成立时, 有 $P\\{T<-t_{\\alpha}(n-1)\\}\\leq\\alpha$, 所以 $H_0$ 的拒绝域为\n",
    "\n",
    "$$\n",
    "V_3=\\{T<-t_{\\alpha}(n-1)\\}=\\{\\overline X<\\mu_0-\\frac{S}{\\sqrt{n}}t_{\\alpha}(n-1)\\}\n",
    "$$"
   ]
  },
  {
   "cell_type": "markdown",
   "metadata": {
    "slideshow": {
     "slide_type": "subslide"
    }
   },
   "source": [
    "$T$ 检验法 ($\\sigma^2$ 未知)\n",
    "\n",
    "$$\n",
    "\\begin{array}{|c|l|l|l|}\n",
    "\\hline\n",
    "\\text{原假设 $H_0$}& \\text {备选假设 $H_1$} & \\text{检验统计量及其 $H_0$ 为真时的分布} & \\text{拒绝域}\\\\\n",
    "\\hline\n",
    "\\mu=\\mu_0 & \\mu\\neq\\mu_0 & T=\\frac{\\overline X-\\mu_0}{S/\\sqrt{n}}～t(n-1) & |T|>t_{\\alpha/2}\\\\\n",
    "\\hline\n",
    "\\mu\\geq\\mu_0 & \\mu<\\mu_0 & T=\\frac{\\overline X-\\mu_0}{S/\\sqrt{n}}～t(n-1) & T<-t_{\\alpha}\\\\\n",
    "\\hline\n",
    "\\mu\\leq\\mu_0 & \\mu>\\mu_0 & T=\\frac{\\overline X-\\mu_0}{S/\\sqrt{n}}～t(n-1) & T>t_{\\alpha}\\\\\n",
    "\\hline\n",
    "\\end{array}\n",
    "$$"
   ]
  },
  {
   "cell_type": "markdown",
   "metadata": {
    "slideshow": {
     "slide_type": "subslide"
    }
   },
   "source": [
    "**例1**  某厂生产小型马达,其说明书上写着: 这种小型马达在正常负载下平均消耗电流不会超过 $0.8$ 安培.    现随机抽取 $16$ 台马达试验, 求得平均消耗电流为 $0.92$ 安培, 消耗电流的标准差为 $0.32$ 安培. 假设马达所消耗的电流服从正态分布, 取显著性水平为 $\\alpha= 0.05$, 问根据这个样本, 能否否定厂方的断言?"
   ]
  },
  {
   "cell_type": "markdown",
   "metadata": {
    "slideshow": {
     "slide_type": "subslide"
    }
   },
   "source": [
    "**解:** 根据题意待检假设可设为\n",
    "\n",
    "$$\n",
    "H_0: ~\\mu\\leq0.08; ~H_1: ~\\mu>0.8\n",
    "$$\n",
    "\n",
    "$\\sigma$ 未知, 故选检验统计量:\n",
    "\n",
    "$$\n",
    "T=\\frac{\\overline X-\\mu}{S/\\sqrt{16}}～t(15)\n",
    "$$"
   ]
  },
  {
   "cell_type": "markdown",
   "metadata": {
    "slideshow": {
     "slide_type": "subslide"
    }
   },
   "source": [
    "查表得 $t_{0.05}(15)=1.753$, 故拒绝域为\n",
    "\n",
    "$$\n",
    "\\frac{\\overline X-0.8}{S/\\sqrt{n}}>1.753\\Rightarrow \\overline X>0.8+1.753\\frac{0.32}{4}=0.94\n",
    "$$\n",
    "\n",
    "现 $\\overline X=0.92<0.94$, 故接受原假设, 即不能否定厂方断言."
   ]
  },
  {
   "cell_type": "markdown",
   "metadata": {
    "slideshow": {
     "slide_type": "subslide"
    }
   },
   "source": [
    "**解二:** 根据题意待检假设可设为\n",
    "\n",
    "$$\n",
    "H_0:~\\mu\\geq0.08;H_1:~\\mu<0.8\n",
    "$$\n",
    "\n",
    "选统计量:\n",
    "\n",
    "$$\n",
    "T=\\frac{\\overline X-\\mu}{S/\\sqrt{16}}～t(15)\n",
    "$$"
   ]
  },
  {
   "cell_type": "markdown",
   "metadata": {
    "slideshow": {
     "slide_type": "subslide"
    }
   },
   "source": [
    "查表得 $t_{0.05}(15)=1.753$, 故拒绝域为\n",
    "\n",
    "$$\n",
    "\\frac{\\overline X-0.8}{S/\\sqrt{n}}<-1.753\\Rightarrow \\overline x<0.8-1.753\\frac{0.32}{4}=0.66\n",
    "$$\n",
    "\n",
    "现 $\\overline x=0.92>0.66$, 故接受原假设, 即否定厂方断言."
   ]
  },
  {
   "cell_type": "markdown",
   "metadata": {
    "slideshow": {
     "slide_type": "subslide"
    }
   },
   "source": [
    "由例1可见: 对问题的提法不同(把哪个假设作为原假设),  统计检验的结果也会不同. 由于假设检验是控制犯第一类错误的概率, 使得拒绝原假设 $H_0$ 的决策变得比较慎重,  也就是 $H_0$ 得到特别的保护. 因而, 通常把有把握的, 经验的结论作为原假设, 或者尽量使后果严重\n",
    "的错误成为第一类错误. 上述两种解法的立场不同, 因此得到不同的结论. \n",
    "* 第一种假设是不轻易否定厂方的结论; \n",
    "* 第二种假设是不轻易相信厂方的结论.\n"
   ]
  },
  {
   "cell_type": "markdown",
   "metadata": {
    "slideshow": {
     "slide_type": "subslide"
    }
   },
   "source": [
    "**例２**某工厂用自动包装机包装葡萄糖, 规定每袋的质量为 $500g$, 现在随机抽取 $10$ 袋, 测得各袋葡萄糖的质量为:\n",
    "\n",
    "$$\n",
    "495,510,505,498,503,492,502,505,497,506\n",
    "$$\n",
    "\n",
    "设每袋葡萄糖的质量服从正态分布 $N(\\mu,\\sigma^2)$, 如果:\n",
    "\n",
    "(1)已知 $\\sigma=5$; (2)未知 $\\sigma$, \n",
    "\n",
    "问包装机是正常？ (取显著性水平 $\\alpha=0.05$)"
   ]
  },
  {
   "cell_type": "markdown",
   "metadata": {
    "slideshow": {
     "slide_type": "subslide"
    }
   },
   "source": [
    "**解** 由已给数据得 $\\overline x =501.3, s^2 = 31.5667, s=5.62$, 要检验的假设是 \n",
    "\n",
    "$$\n",
    "H_0 :~\\mu=500; ~H_1 :~\\mu\\neq500;\n",
    "$$"
   ]
  },
  {
   "cell_type": "markdown",
   "metadata": {
    "slideshow": {
     "slide_type": "subslide"
    }
   },
   "source": [
    "(1)已知 $\\sigma=5$, 应选取统计量 \n",
    "\n",
    "$$\n",
    "U=\\frac{\\overline X-\\mu_0}{\\sigma/\\sqrt{n}}～N(0,1)\n",
    "$$\n",
    "\n",
    "计算统计量 $U$ 的观测值得\n",
    "\n",
    "$$\n",
    "u=\\frac{501.3-500}{5/\\sqrt{10}}=0.822\n",
    "$$"
   ]
  },
  {
   "cell_type": "markdown",
   "metadata": {
    "slideshow": {
     "slide_type": "subslide"
    }
   },
   "source": [
    "查附表得临界值\n",
    "\n",
    "$$\n",
    "u_{\\alpha/2}=u_{0.025}=1.96\n",
    "$$\n",
    "\n",
    "因为 $|u|<u_{0.025}$, 所以在显著性水平 $\\alpha=0.05$ 下, 接受原假设 $H_0$, 认为包装机工作正常."
   ]
  },
  {
   "cell_type": "markdown",
   "metadata": {
    "slideshow": {
     "slide_type": "subslide"
    }
   },
   "source": [
    "(2)未知 $\\sigma$, 应选取统计量 \n",
    "\n",
    "$$\n",
    "T=\\frac{\\overline X-\\mu_0}{S/\\sqrt{n}}～t(n-1)\n",
    "$$\n",
    "\n",
    "计算统计量 $T$ 的观测值得\n",
    "\n",
    "$$\n",
    "t=\\frac{501.3-500}{5.62/\\sqrt{10}}=0.731\n",
    "$$"
   ]
  },
  {
   "cell_type": "markdown",
   "metadata": {
    "slideshow": {
     "slide_type": "subslide"
    }
   },
   "source": [
    "查附表得临界值\n",
    "\n",
    "$$\n",
    "t_{\\alpha/2}(n-1)=t_{0.025}(9)=2.26\n",
    "$$\n",
    "\n",
    "因为 $|t|<t_{0.025}(9)$, 所以在显著性水平 $\\alpha=0.05$ 下, 接受原假设 $H_0$, 认为包装机工作正常."
   ]
  },
  {
   "cell_type": "markdown",
   "metadata": {
    "slideshow": {
     "slide_type": "subslide"
    }
   },
   "source": [
    "### 二、关于正态总体标准差的假设检验"
   ]
  },
  {
   "cell_type": "markdown",
   "metadata": {
    "slideshow": {
     "slide_type": "fragment"
    }
   },
   "source": [
    "设总体 $X～N(\\mu,\\sigma^2)$, 抽取容量为 $n$ 的样本 $X_1,X_2,\\dots,X_n$, 样本均值与样本方差分别是\n",
    "\n",
    "$$\n",
    "\\overline X = \\frac{1}{n}\\sum_{i=1}^{n}X_i\n",
    "$$\n",
    "\n",
    "$$\n",
    "S^2= \\frac{1}{n-1}\\sum_{i=1}^{n}(X_i-\\overline X)^2\n",
    "$$"
   ]
  },
  {
   "cell_type": "markdown",
   "metadata": {
    "slideshow": {
     "slide_type": "subslide"
    }
   },
   "source": [
    "(1)若已知 $\\mu=\\mu_0$, 则选取统计量 \n",
    "\n",
    "$$\\chi^2=\\frac{1}{\\sigma_0^2}\\sum_{i=1}^{n}(X_i-\\mu_0)^2～\\chi^2(n)$$\n",
    "\n",
    "(2)若未知 $\\mu$, 则选取统计量 \n",
    "\n",
    "$$\\chi^2=\\frac{(n-1)S^2}{\\sigma_0^2}～\\chi^2(n-1)$$"
   ]
  },
  {
   "cell_type": "markdown",
   "metadata": {
    "slideshow": {
     "slide_type": "slide"
    }
   },
   "source": [
    "关于标准差 $\\sigma$ 的假设检验通常有以下三种:\n",
    "1. $H_0:~\\sigma=\\sigma_0,\\leftrightarrow H_1:~\\sigma\\neq\\sigma_0$\n",
    "1. $H_0:~\\sigma\\leq\\sigma_0,\\leftrightarrow H_1:~\\sigma>\\sigma_0$\n",
    "1. $H_0:~\\sigma\\geq\\sigma_0,\\leftrightarrow H_1:~\\sigma<\\sigma_0$\n",
    "\n",
    "其中 $\\sigma_0$ 为给定常数."
   ]
  },
  {
   "cell_type": "markdown",
   "metadata": {
    "slideshow": {
     "slide_type": "subslide"
    }
   },
   "source": [
    "**1. $\\mu=\\mu_0$已知**"
   ]
  },
  {
   "cell_type": "markdown",
   "metadata": {
    "slideshow": {
     "slide_type": "fragment"
    }
   },
   "source": [
    "此时采用所谓 $\\chi^2$ 检验, 即令\n",
    "\n",
    "$$\n",
    "\\chi^2=\\frac{1}{\\sigma_0^2}\\sum_{i=1}^{n}(X_i-\\mu_0)^2\n",
    "$$"
   ]
  },
  {
   "cell_type": "markdown",
   "metadata": {
    "slideshow": {
     "slide_type": "fragment"
    }
   },
   "source": [
    "对检验问题(1): 则在 $H_0$ 成立时, $\\chi^2～\\chi^2(n)$, 且 $P\\{\\chi^2<\\chi^2_{1-\\alpha/2}(n)~或~\\chi^2>\\chi^2_{\\alpha/2}(n)\\}=\\alpha$, 故 $H_0$ 的拒绝域为\n",
    "\n",
    "$$\n",
    "V_1=\\{\\chi^2>\\chi^2_{\\alpha/2}(n) ~或~ \\chi^2<\\chi^2_{1-\\alpha/2}(n)\\}\n",
    "$$"
   ]
  },
  {
   "cell_type": "markdown",
   "metadata": {
    "slideshow": {
     "slide_type": "subslide"
    }
   },
   "source": [
    "对检验问题(2):\n",
    "\n",
    "当 $\\sigma=\\sigma_0$ 时, $\\chi^2～\\chi^2(n)$　且 $P\\{\\chi^2>\\chi^2_{\\alpha}(n)\\}=\\alpha$\n",
    "\n",
    "当 $\\sigma<\\sigma_0$ 时, $P\\{\\chi^2>\\chi^2_{\\alpha}(n)\\}<\\alpha$\n",
    "\n",
    "故 $H_0$ 的拒绝域为\n",
    "\n",
    "$$\n",
    "V_2 = \\{\\chi^2>\\chi^2_{\\alpha}(n)\\}\n",
    "$$"
   ]
  },
  {
   "cell_type": "markdown",
   "metadata": {
    "slideshow": {
     "slide_type": "subslide"
    }
   },
   "source": [
    "对检验问题(3):\n",
    "\n",
    "则在 $H_0$ 成立时, $P\\{\\chi^2<\\chi^2_{1-\\alpha}(n)\\}\\leq\\alpha$\n",
    "\n",
    "故 $H_0$ 的拒绝域为\n",
    "\n",
    "$$\n",
    "V_3 = \\{\\chi^2<\\chi^2_{1-\\alpha}(n)\\}\n",
    "$$"
   ]
  },
  {
   "cell_type": "markdown",
   "metadata": {
    "slideshow": {
     "slide_type": "subslide"
    }
   },
   "source": [
    "$\\chi^2$ 检验法 ,关于 $(\\sigma^2)$ 的检验, ($\\mu$ 已知)\n",
    "\n",
    "$$\n",
    "\\begin{array}{|c|l|l|l|}\n",
    "\\hline\n",
    "\\text{原假设 $H_0$} & \\text{备选假设 $H_1$} & \\text{检验统计量及其 $H_0$ 为真时的分布} & \\text{拒绝域}\\\\\n",
    "\\hline\n",
    "\\sigma=\\sigma_0 &\\sigma\\neq\\sigma_0 & \\chi^2=\\frac{\\sum_{i=1}^{n}(X_i-\\mu)^2}{\\sigma_0^2}～\\chi^2(n) & \\chi^2>\\chi^2_{\\alpha/2}(n) 或 \\chi^2<\\chi^2_{1-\\alpha/2}(n)\\\\\n",
    "\\hline\n",
    "\\sigma\\leq\\sigma_0 & \\sigma>\\sigma_0 & \\chi^2=\\frac{\\sum_{i=1}^{n}(X_i-\\mu)^2}{\\sigma_0^2}～\\chi^2(n)& \\chi^2>\\chi^2_{\\alpha}(n)\\\\\n",
    "\\hline\n",
    "\\sigma\\geq\\sigma_0 & \\sigma<\\sigma_0 & \\chi^2=\\frac{\\sum_{i=1}^{n}(X_i-\\mu)^2}{\\sigma_0^2}～\\chi^2(n)& \\chi^2<\\chi^2_{1-\\alpha}(n)\\\\\n",
    "\\hline\n",
    "\\end{array}\n",
    "$$"
   ]
  },
  {
   "cell_type": "markdown",
   "metadata": {
    "slideshow": {
     "slide_type": "subslide"
    }
   },
   "source": [
    "**2. $\\mu=\\mu_0$ 未知**"
   ]
  },
  {
   "cell_type": "markdown",
   "metadata": {
    "slideshow": {
     "slide_type": "fragment"
    }
   },
   "source": [
    "同样采用所谓 $\\chi^2$ 检验, 即令\n",
    "\n",
    "$$\n",
    "\\chi^2=\\frac{(n-1)S^2}{\\sigma_0^2}=\\frac{1}{\\sigma_0^2}\\sum_{i=1}^{n}(X_i-\\overline X)^2\n",
    "$$"
   ]
  },
  {
   "cell_type": "markdown",
   "metadata": {
    "slideshow": {
     "slide_type": "fragment"
    }
   },
   "source": [
    "对检验问题(1): 则在 $H_0$ 成立时, $\\chi^2～\\chi^2(n-1)$, 且 $P\\{\\chi^2<\\chi^2_{1-\\alpha/2}(n-1) ~或~ \\chi^2>\\chi^2_{\\alpha/2}(n-1)\\}=\\alpha$, 故 $H_0$ 的拒绝域为\n",
    "\n",
    "$$\n",
    "V_1=\\{\\chi^2<\\chi^2_{1-\\alpha/2}(n-1) ~或~ \\chi^2>\\chi^2_{\\alpha/2}(n-1)\\}\n",
    "$$"
   ]
  },
  {
   "cell_type": "markdown",
   "metadata": {
    "slideshow": {
     "slide_type": "subslide"
    }
   },
   "source": [
    "对检验问题(2):\n",
    "\n",
    "则在 $H_0$ 成立时, $P\\{\\chi^2>\\chi^2_{\\alpha}(n-1)\\}<\\alpha$\n",
    "\n",
    "故 $H_0$ 的拒绝域为\n",
    "\n",
    "$$\n",
    "V_2 = \\{\\chi^2>\\chi^2_{\\alpha}(n-1)\\}\n",
    "$$"
   ]
  },
  {
   "cell_type": "markdown",
   "metadata": {
    "slideshow": {
     "slide_type": "subslide"
    }
   },
   "source": [
    "对检验问题(3):\n",
    "\n",
    "则在 $H_0$ 成立时, $P\\{\\chi^2<\\chi^2_{1-\\alpha}(n-1)\\}\\leq\\alpha$\n",
    "\n",
    "故 $H_0$ 的拒绝域为\n",
    "\n",
    "$$\n",
    "V_3 = \\{\\chi^2<\\chi^2_{1-\\alpha}(n-1)\\}\n",
    "$$"
   ]
  },
  {
   "cell_type": "markdown",
   "metadata": {
    "slideshow": {
     "slide_type": "subslide"
    }
   },
   "source": [
    "当 $\\mu$ 未知:\n",
    "$$\n",
    "\\begin{array}{|c|l|l|l|}\n",
    "\\hline\n",
    "\\text{原假设 $H_0$} & \\text{备选假设 $H_1$} & \\text{检验统计量及其 $H_0$ 为真时的分布} & \\text{拒绝域}\\\\\n",
    "\\hline\n",
    "\\sigma=\\sigma_0 & \\sigma\\neq\\sigma_0 & \\chi^2=\\frac{(n-1)S^2}{\\sigma_0^2}～\\chi^2(n-1) & \\chi^2>\\chi^2_{\\alpha/2}(n-1)或 \\chi^2<\\chi^2_{1-\\alpha/2}(n-1)\\\\\n",
    "\\hline\n",
    "\\sigma\\leq\\sigma_0 & \\sigma>\\sigma_0 & \\chi^2=\\frac{(n-1)S^2}{\\sigma_0^2}～\\chi^2(n-1) & \\chi^2>\\chi^2_{\\alpha}(n-1)\\\\\n",
    "\\hline\n",
    "\\sigma\\geq\\sigma_0 & \\sigma<\\sigma_0 & \\chi^2=\\frac{(n-1)S^2}{\\sigma_0^2}～\\chi^2(n-1)& \\chi^2<\\chi^2_{1-\\alpha}(n-1)\\\\\n",
    "\\hline\n",
    "\\end{array}\n",
    "$$"
   ]
  },
  {
   "cell_type": "markdown",
   "metadata": {
    "slideshow": {
     "slide_type": "subslide"
    }
   },
   "source": [
    "**例3** 某工厂用自动包装机包装葡萄糖, 规定每袋的质量为 $500g$, 现在随机抽取 $10$ 袋, 测得各袋葡萄糖的质量为:\n",
    "\n",
    "$$\n",
    "495,510,505,498,503,492,502,505,497,506\n",
    "$$\n",
    "\n",
    "设每袋葡萄糖的质量服从正态分布 $N(\\mu,\\sigma^2)$, 如果:\n",
    "\n",
    "(1)已知 $\\mu=500$;(2)未知 $\\mu$, \n",
    "\n",
    "能否认为每袋质量的方差 $\\sigma^2\\leq5^2$？ (取显著性水平 $\\alpha=0.05$)"
   ]
  },
  {
   "cell_type": "markdown",
   "metadata": {
    "slideshow": {
     "slide_type": "subslide"
    }
   },
   "source": [
    "**解** 由题意得, 要检验的假设是 \n",
    "\n",
    "$$\n",
    "H_0 :~\\sigma^2\\leq 5^2;H_1 :~\\sigma^2>5^2;\n",
    "$$"
   ]
  },
  {
   "cell_type": "markdown",
   "metadata": {
    "slideshow": {
     "slide_type": "subslide"
    }
   },
   "source": [
    "(1)已知 $\\mu=500$, 应选取统计量 \n",
    "\n",
    "$$\n",
    "\\chi^2=\\frac{\\sum_{i=1}^{n}(X_i-\\mu)^2}{\\sigma_0^2}～\\chi^2(n)\n",
    "$$\n",
    "\n",
    "计算统计量 $\\chi^2$ 的观测值得\n",
    "\n",
    "$$\n",
    "\\chi^2=\\frac{\\sum_{i=1}^{10}(X_i-500)^2}{5^2}=12.04\n",
    "$$"
   ]
  },
  {
   "cell_type": "markdown",
   "metadata": {
    "slideshow": {
     "slide_type": "subslide"
    }
   },
   "source": [
    "查附表得临界值\n",
    "\n",
    "$$\n",
    "\\chi^2_{\\alpha}(n)=\\chi^2_{0.05}(10)=18.3\n",
    "$$\n",
    "\n",
    "因为 $\\chi^2<\\chi^2_{0.05}(10)$, 所以在显著性水平 $\\alpha=0.05$ 下, 接受原假设 $H_0$, 认为每袋质量的方差 $\\sigma^2\\leq5^2$."
   ]
  },
  {
   "cell_type": "markdown",
   "metadata": {
    "slideshow": {
     "slide_type": "subslide"
    }
   },
   "source": [
    "(2)未知 $\\mu$, 应选取统计量 \n",
    "\n",
    "$$\n",
    "\\chi^2=\\frac{(n-1)S^2}{\\sigma_0^2}～\\chi^2(n-1)\n",
    "$$\n",
    "\n",
    "计算统计量 $\\chi^2$ 的观测值得\n",
    "\n",
    "$$\n",
    "\\chi^2=\\frac{9\\times31.5667}{5^2}=11.36\n",
    "$$"
   ]
  },
  {
   "cell_type": "markdown",
   "metadata": {
    "slideshow": {
     "slide_type": "subslide"
    }
   },
   "source": [
    "查附表得临界值\n",
    "\n",
    "$$\n",
    "\\chi^2_{\\alpha}(n-1)=\\chi^2_{0.05}(9)=16.9\n",
    "$$\n",
    "\n",
    "因为 $\\chi^2<\\chi^2_{0.05}(9)$, 所以在显著性水平 $\\alpha=0.05$ 下, 接受原假设 $H_0$, 认为每袋质量的方差 $\\sigma^2\\leq5^2$."
   ]
  },
  {
   "cell_type": "markdown",
   "metadata": {
    "slideshow": {
     "slide_type": "subslide"
    }
   },
   "source": [
    "**例4** 某汽车配件厂在新工艺下对加工好的 $25$ 个活塞的直径进行测量, 得样本方差 $S^2=0.00066$. 已知老工艺生产的活塞直径的方差为 $0.00040$. 问进一步改革的方向应如何？"
   ]
  },
  {
   "cell_type": "markdown",
   "metadata": {
    "slideshow": {
     "slide_type": "subslide"
    }
   },
   "source": [
    "**解：** 一般进行工艺改革时, 若指标的方差显著增大, 则改革需朝相反方向进行以减少方差; 若方差变化不显著, 则需试行别的改革方案. 设测量值\n",
    "\n",
    "$$\n",
    "X～N(\\mu,\\sigma^2),\\sigma^2=0.00040\n",
    "$$\n",
    "\n",
    "需考察改革后活塞直径的方差是否不大于改革前的方差？ 故待检验假设可设为:\n",
    "\n",
    "$$\n",
    "H_0:~\\sigma^2\\leq0.00040; H_1:~\\sigma^2>0.00040\n",
    "$$"
   ]
  },
  {
   "cell_type": "markdown",
   "metadata": {
    "slideshow": {
     "slide_type": "subslide"
    }
   },
   "source": [
    "取统计量\n",
    "\n",
    "$$\n",
    "\\chi^2=\\frac{(n-1)S^2}{\\sigma_0^2}～\\chi^2(n-1)\n",
    "$$\n",
    "\n",
    "拒绝域 $R_0$:\n",
    "\n",
    "$$\n",
    "\\chi^2\\geq\\chi^2_{\\alpha}(n-1)=\\chi^2_{0.05}(24)=36.415\n",
    "$$"
   ]
  },
  {
   "cell_type": "markdown",
   "metadata": {
    "slideshow": {
     "slide_type": "subslide"
    }
   },
   "source": [
    "因为\n",
    "\n",
    "$$\n",
    "\\chi^2=\\frac{(n-1)S^2}{\\sigma_0^2}=\\frac{24\\times 0.00066}{0.00040}=39.6>36.415\n",
    "$$\n",
    "\n",
    "落在 $R_0$ 内, 故拒绝 $H_0$. 即改革后的方差显著大于改革前的方差, 因此下一步的改革应朝相反方向进行."
   ]
  },
  {
   "cell_type": "markdown",
   "metadata": {
    "slideshow": {
     "slide_type": "subslide"
    }
   },
   "source": [
    "### 三、两个正态总体均值的假设检验"
   ]
  },
  {
   "cell_type": "markdown",
   "metadata": {
    "slideshow": {
     "slide_type": "fragment"
    }
   },
   "source": [
    "设 $X～N(\\mu_1, \\sigma_1^2), Y～N(\\mu_2 ,\\sigma_2^2)$,  两样本 $X, Y$ 相互独立, \n",
    "\n",
    "样本 $(X_1,X_2,\\dots,X_n),(Y_1,Y_2,\\dots,Y_m)$\n",
    "\n",
    "样本值 $(x_1,x_2,\\dots,x_n),(y_1,y_2,\\dots,y_m)$"
   ]
  },
  {
   "cell_type": "markdown",
   "metadata": {
    "slideshow": {
     "slide_type": "subslide"
    }
   },
   "source": [
    "显著性水平 \n",
    "\n",
    "$$\\overline X=\\frac{1}{n}\\sum_{i=1}^{n}X_i,S_1^2=\\frac{1}{n-1}\\sum_{i=1}^{n}(X_i-\\overline X)^2\n",
    "$$\n",
    "\n",
    "$$\n",
    "\\overline Y=\\frac{1}{m}\\sum_{i=1}^{m}Y_i,S_2^2=\\frac{1}{m-1}\\sum_{i=1}^{m}(Y_i-\\overline Y)^2\n",
    "$$"
   ]
  },
  {
   "cell_type": "markdown",
   "metadata": {
    "slideshow": {
     "slide_type": "subslide"
    }
   },
   "source": [
    "(1)若已知 $\\sigma_1$ 及 $\\sigma_2$, 则选取统计量\n",
    "\n",
    "$$\n",
    "U=\\frac{\\overline X-\\overline Y}{\\sqrt{\\sigma_1^2/n+\\sigma_2^2/m}}～N(0,1)\n",
    "$$"
   ]
  },
  {
   "cell_type": "markdown",
   "metadata": {
    "slideshow": {
     "slide_type": "subslide"
    }
   },
   "source": [
    "(2)若未知 $\\sigma_1$ 及 $\\sigma_2$, 则选取统计量\n",
    "\n",
    "$$\n",
    "U=\\frac{\\overline X-\\overline Y}{S_w\\sqrt{1/n+1/m}}～t(n+m-2)\n",
    "$$\n",
    "\n",
    "其中 $S_w = \\sqrt{\\frac{(n-1)S_1^2+(m-1)S_2^2}{n+m-2}}$"
   ]
  },
  {
   "cell_type": "markdown",
   "metadata": {
    "slideshow": {
     "slide_type": "subslide"
    }
   },
   "source": [
    "关于两个正态分布均值 $\\mu_1,\\mu_2$ 的假设检验通常有以下三种:\n",
    "1. $H_0:~\\mu_1=\\mu_2,\\leftrightarrow H_1:~\\mu_1\\neq \\mu_2$\n",
    "1. $H_0:~\\mu_1\\leq\\mu_2,\\leftrightarrow H_1:~\\mu_1> \\mu_2$\n",
    "1. $H_0:~\\mu_1\\geq\\mu_2,\\leftrightarrow H_1:~\\mu_1<\\mu_2$\n"
   ]
  },
  {
   "cell_type": "markdown",
   "metadata": {
    "slideshow": {
     "slide_type": "subslide"
    }
   },
   "source": [
    "**1. $\\sigma_1 ,\\sigma_2$已知**"
   ]
  },
  {
   "cell_type": "markdown",
   "metadata": {
    "slideshow": {
     "slide_type": "fragment"
    }
   },
   "source": [
    "令\n",
    "\n",
    "$$\n",
    "U=\\frac{\\overline X-\\overline Y}{\\sqrt{\\frac{\\sigma_1^2}{n}+\\frac{\\sigma_2^2}{m}}}\n",
    "$$"
   ]
  },
  {
   "cell_type": "markdown",
   "metadata": {
    "slideshow": {
     "slide_type": "subslide"
    }
   },
   "source": [
    "对检验问题(1): 则在 $H_0$ 成立时, $U～N(0,1)$, 故 $H_0$ 的拒绝域为\n",
    "\n",
    "$$\n",
    "V_1=\\{|U|>u_{\\alpha/2}\\}=\\{|\\overline X-\\overline Y|>u_{\\alpha/2}\\sqrt{\\frac{\\sigma_1^2}{n}+\\frac{\\sigma_2^2}{m}}\\}\n",
    "$$"
   ]
  },
  {
   "cell_type": "markdown",
   "metadata": {
    "slideshow": {
     "slide_type": "subslide"
    }
   },
   "source": [
    "对检验问题(2): $H_0$ 的拒绝域为\n",
    "\n",
    "$$\n",
    "V_2=\\{U>u_{\\alpha}\\}=\\{\\overline X>\\overline Y+u_{\\alpha}\\sqrt{\\frac{\\sigma_1^2}{n}+\\frac{\\sigma_2^2}{m}}\\}\n",
    "$$"
   ]
  },
  {
   "cell_type": "markdown",
   "metadata": {
    "slideshow": {
     "slide_type": "subslide"
    }
   },
   "source": [
    "对检验问题(3): $H_0$ 的拒绝域为\n",
    "\n",
    "$$\n",
    "V_2=\\{U<-u_{\\alpha}\\}=\\{\\overline X<\\overline Y-u_{\\alpha}\\sqrt{\\frac{\\sigma_1^2}{n}+\\frac{\\sigma_2^2}{m}}\\}\n",
    "$$"
   ]
  },
  {
   "cell_type": "markdown",
   "metadata": {
    "slideshow": {
     "slide_type": "subslide"
    }
   },
   "source": [
    "两个正态总体均值的假设检验表，其中 $\\sigma_1^2$, $\\sigma_2^2已知$:\n",
    "$$\n",
    "\\begin{array}{|c|l|l|l|l|}\n",
    "\\hline\n",
    "\\text{原假设 $H_0$}& \\text{备选假设 $H_1$} & \\text{检验统计量及其 $H_0$ 为真时的分布}&\\text{拒绝域}\\\\\n",
    "\\hline\n",
    "\\mu_1=\\mu_2 & \\mu_1\\neq\\mu_2 & U=\\frac{\\overline X-\\overline Y}{\\sqrt{\\frac{\\sigma_1^2}{n}+\\frac{\\sigma_2^2}{m}}}～N(0,1) & |U|>u_{\\alpha/2}\\\\\n",
    "\\hline\n",
    "\\mu_1\\leq\\mu_2 & \\mu_1>\\mu_2 & U=\\frac{\\overline X-\\overline Y}{\\sqrt{\\frac{\\sigma_1^2}{n}+\\frac{\\sigma_2^2}{m}}}～N(0,1) & U>u_{\\alpha}\\\\\n",
    "\\hline\n",
    "\\mu_1\\geq\\mu_2 & \\mu_1<\\mu_2 & U=\\frac{\\overline X-\\overline Y}{\\sqrt{\\frac{\\sigma_1^2}{n}+\\frac{\\sigma_2^2}{m}}}～N(0,1) & U<-u_{\\alpha}\\\\\n",
    "\\hline\n",
    "\\end{array}\n",
    "$$"
   ]
  },
  {
   "cell_type": "markdown",
   "metadata": {
    "slideshow": {
     "slide_type": "subslide"
    }
   },
   "source": [
    "**2.$\\sigma_1,\\sigma_2$ 未知,但假设 $\\sigma_1=\\sigma_2$**"
   ]
  },
  {
   "cell_type": "markdown",
   "metadata": {
    "slideshow": {
     "slide_type": "fragment"
    }
   },
   "source": [
    "令\n",
    "\n",
    "$$\n",
    "T=\\frac{\\overline X-\\overline Y}{S_w\\sqrt{\\frac{1}{n}+\\frac{1}{m}}}\n",
    "$$"
   ]
  },
  {
   "cell_type": "markdown",
   "metadata": {
    "slideshow": {
     "slide_type": "subslide"
    }
   },
   "source": [
    "对检验问题(1): 则在 $H_0$ 成立时, $T～t(n+m-2)$, 故 $H_0$ 的拒绝域为\n",
    "\n",
    "$$\n",
    "\\begin{align}\n",
    "V_1=&\\{|T|>t_{\\alpha/2}(n+m-2)\\}\\\\\n",
    "=&\\{|\\overline X-\\overline Y|>S_w\\sqrt{\\frac{1}{n}+\\frac{1}{m}}t_{\\alpha/2}(n+m-2)\\}\n",
    "\\end{align}\n",
    "$$"
   ]
  },
  {
   "cell_type": "markdown",
   "metadata": {
    "slideshow": {
     "slide_type": "subslide"
    }
   },
   "source": [
    "对检验问题(2): $H_0$ 的拒绝域为\n",
    "\n",
    "$$\n",
    "\\begin{align}\n",
    "V_2=&\\{T>t_{\\alpha}(n+m-2)\\}\\\\\n",
    "=&\\{\\overline X>\\overline Y+S_w\\sqrt{\\frac{1}{n}+\\frac{1}{m}}t_{\\alpha}(n+m-2)\\}\n",
    "\\end{align}\n",
    "$$"
   ]
  },
  {
   "cell_type": "markdown",
   "metadata": {
    "slideshow": {
     "slide_type": "subslide"
    }
   },
   "source": [
    "对检验问题(3): $H_0$ 的拒绝域为\n",
    "\n",
    "$$\n",
    "\\begin{align}\n",
    "V_3=&\\{T<-t_{\\alpha}(n+m-2)\\}\\\\\n",
    "=&\\{\\overline X<\\overline Y-S_w\\sqrt{\\frac{1}{n}+\\frac{1}{m}}t_{\\alpha}(n+m-2)\\}\n",
    "\\end{align}\n",
    "$$"
   ]
  },
  {
   "cell_type": "markdown",
   "metadata": {
    "slideshow": {
     "slide_type": "subslide"
    }
   },
   "source": [
    "当 $\\sigma_1^2$, $\\sigma_2^2$ 未知, 且 $\\sigma_1^2=\\sigma_2^2$：\n",
    "$$\n",
    "\\begin{array}{|c|l|l|l|l|}\n",
    "\\hline\n",
    "\\text{原假设 $H_0$}&\\text{备选假设 $H_1$} & \\text{检验统计量及其 $H_0$ 为真时的分布} & \\text{拒绝域}\\\\\n",
    "\\hline\n",
    "\\mu_1=\\mu_2 & \\mu_1\\neq\\mu_2 & T=\\frac{\\overline X-\\overline Y}{S_w\\sqrt{\\frac{1}{n}+\\frac{1}{m}}}～T(n+m-2)& |T|>t_{\\alpha/2}\\\\\n",
    "\\hline\n",
    "\\mu_1\\leq\\mu_2 & \\mu_1>\\mu_2 & T=\\frac{\\overline X-\\overline Y}{S_w\\sqrt{\\frac{1}{n}+\\frac{1}{m}}}～T(n+m-2) & T>t_{\\alpha}\\\\\n",
    "\\hline\n",
    "\\mu_1\\geq\\mu_2& \\mu_1<\\mu_2 & T=\\frac{\\overline X-\\overline Y}{S_w\\sqrt{\\frac{1}{n}+\\frac{1}{m}}}～T(n+m-2)& T<-t_{\\alpha}\\\\\n",
    "\\hline\n",
    "\\end{array}\n",
    "$$"
   ]
  },
  {
   "cell_type": "markdown",
   "metadata": {
    "slideshow": {
     "slide_type": "fragment"
    }
   },
   "source": [
    "其中 $S_w = \\sqrt{\\frac{(n-1)S_1^2+(m-1)S_2^2}{n+m-2}}$"
   ]
  },
  {
   "cell_type": "markdown",
   "metadata": {
    "slideshow": {
     "slide_type": "subslide"
    }
   },
   "source": [
    "### 四、两个正态总体标准差的假设检验"
   ]
  },
  {
   "cell_type": "markdown",
   "metadata": {
    "slideshow": {
     "slide_type": "fragment"
    }
   },
   "source": [
    "设 $X～N(\\mu_1 ,\\sigma_1^2),Y～N(\\mu_2 ,\\sigma_2^2)$,  两样本 $X ,Y$ 相互独立, \n",
    "\n",
    "样本 $(X_1,X_2,\\dots,X_n),(Y_1,Y_2,\\dots,Y_m)$\n",
    "\n",
    "样本值 $(x_1,x_2,\\dots,x_n),(y_1,y_2,\\dots,y_m)$"
   ]
  },
  {
   "cell_type": "markdown",
   "metadata": {
    "slideshow": {
     "slide_type": "subslide"
    }
   },
   "source": [
    "显著性水平 \n",
    "\n",
    "$$\\overline X=\\frac{1}{n}\\sum_{i=1}^{n}X_i,S_1^2=\\frac{1}{n-1}\\sum_{i=1}^{n}(X_i-\\overline X)^2\n",
    "$$\n",
    "\n",
    "$$\n",
    "\\overline Y=\\frac{1}{m}\\sum_{i=1}^{m}Y_i,S_2^2=\\frac{1}{m-1}\\sum_{i=1}^{m}(Y_i-\\overline Y)^2\n",
    "$$"
   ]
  },
  {
   "cell_type": "markdown",
   "metadata": {
    "slideshow": {
     "slide_type": "subslide"
    }
   },
   "source": [
    "两个正态总体标准差的假设检验表， 其中 $\\mu_1$, $\\mu_2$ 均未知\n",
    "$$\n",
    "\\begin{array}{|c|l|l|l|l|}\n",
    "\\hline\n",
    "\\text{原假设 $H_0$}&\\text{备选假设 $H_1$} & \\text{检验统计量及其 $H_0$ 为真时的分布} & \\text{拒绝域}\\\\\n",
    "\\hline\n",
    "\\sigma_1=\\sigma_2& \\sigma_1\\neq\\sigma_2& F=\\frac{S_1^2}{S_2^2}～F(n-1,m-1)& F<F_{1-\\alpha/2}(n-1,m-1) 或 F>F_{\\alpha/2}(n-1,m-1)\\\\\n",
    "\\hline\n",
    "\\sigma_1\\leq\\sigma_2& \\sigma_1>\\sigma_2& F=\\frac{S_1^2}{S_2^2}～F(n-1,m-1)& F>F_{\\alpha}(n-1,m-1)\\\\\n",
    "\\hline\n",
    "\\sigma_1\\geq\\sigma_2& \\sigma_1<\\sigma_2& F=\\frac{S_1^2}{S_2^2}～F(n-1,m-1)& F<F_{1-\\alpha}(n-1,m-1)\\\\\n",
    "\\hline\n",
    "\\end{array}\n",
    "$$"
   ]
  },
  {
   "cell_type": "markdown",
   "metadata": {
    "slideshow": {
     "slide_type": "subslide"
    }
   },
   "source": [
    "**例5**  杜鹃总是把蛋生在别的鸟巢中,现从两种鸟巢中得到杜鹃蛋 $24$ 个.其中 $9$ 个来自一种鸟巢, $15$ 个来自另一种鸟巢, 测得杜鹃蛋的长度(mm)如下:\n",
    "\n",
    "n=9： 21.2, 21.6, 21.9, 22.0, 22.0, 22.2, 22.8, 22.9, 23.2\n",
    "\n",
    "$\\overline x_1 =22.20$, $s_1^2=0.4225$\n",
    "\n",
    "m=15： 19.8, 20.0, 20.3, 20.8, 20.9, 20.9, 21.0,21.0, 21.0, 21.2, 21.5, 22.0, 22.0, 22.1, 22.3\n",
    "\n",
    "$\\overline x_2 =21.12$, $s_2^2=0.5689$"
   ]
  },
  {
   "cell_type": "markdown",
   "metadata": {
    "slideshow": {
     "slide_type": "fragment"
    }
   },
   "source": [
    "试判别两个样本均值的差异是仅由随机因素造成的还是与来自不同的鸟巢有关($\\alpha =0.05$)"
   ]
  },
  {
   "cell_type": "markdown",
   "metadata": {
    "slideshow": {
     "slide_type": "subslide"
    }
   },
   "source": [
    "**解** $H_0:~\\mu_1=\\mu_2$;  $H_1:~\\mu_1\\neq\\mu_2$\n",
    "\n",
    "取统计量 \n",
    "\n",
    "$$\n",
    "T=\\frac{\\overline X-\\overline Y}{S_w\\sqrt{\\frac{1}{n}+\\frac{1}{m}}}～T(n+m-2)\n",
    "$$"
   ]
  },
  {
   "cell_type": "markdown",
   "metadata": {
    "slideshow": {
     "slide_type": "subslide"
    }
   },
   "source": [
    "拒绝域 $R_0$ :\n",
    "\n",
    "$$\n",
    "|T|\\geq t_{0.025}(22)=2.074\n",
    "$$\n",
    "\n",
    "$$\n",
    "S_w = \\sqrt{\\frac{(n-1)S_1^2+(m-1)S_2^2}{n+m-2}}=0.718\n",
    "$$"
   ]
  },
  {
   "cell_type": "markdown",
   "metadata": {
    "slideshow": {
     "slide_type": "subslide"
    }
   },
   "source": [
    "统计量的值\n",
    "\n",
    "$$\n",
    "T_0=3.568>2.074\n",
    "$$\n",
    "\n",
    "落在 $R_0$ 内, 因此拒绝 $H_0$, 即杜鹃蛋的长度与来自不同的鸟巢有关."
   ]
  },
  {
   "cell_type": "markdown",
   "metadata": {
    "slideshow": {
     "slide_type": "subslide"
    }
   },
   "source": [
    "**例6**  假设机器 $A$ 和机器 $B$ 都生产钢管, 要检验 $A$ 和 $B$ 生产的钢管的内径的稳定程度. 设它们生产的钢管内径分别为 $X$ 和 $Y$, 都服从正态分布\n",
    "\n",
    "$$\n",
    "X～N(\\mu_1,\\sigma_1^2),~ Y～N(\\mu_2,\\sigma_2^2) \n",
    "$$\n",
    "\n",
    "现从 $A$ 生产的钢管中抽出 $18$ 根, 测得 $s_1^2 = 0.34$, 从 $B$ 生产的钢管中抽出 $13$ 根, 测得 $s_2^2 = 0.29$, 设两样本相互独立. 问是否能认为两台机器生产的钢管内径的稳定程度相同?   ( 取 $\\alpha = 0.1$ )"
   ]
  },
  {
   "cell_type": "markdown",
   "metadata": {
    "slideshow": {
     "slide_type": "subslide"
    }
   },
   "source": [
    "**解** $H_0:~\\sigma_1^2=\\sigma_2^2$;  $H_1:~\\sigma_1^2\\neq\\sigma_2^2$\n",
    "\n",
    "取统计量 \n",
    "\n",
    "$$\n",
    "F=\\frac{S_1^2}{S_2^2}～F(17,12)\n",
    "$$"
   ]
  },
  {
   "cell_type": "markdown",
   "metadata": {
    "slideshow": {
     "slide_type": "subslide"
    }
   },
   "source": [
    "查表得\n",
    "\n",
    "$$\n",
    "F_{0.05}(17,12) =2.59\n",
    "$$\n",
    "\n",
    "$$\n",
    "F_{0.95}(17,12) =\\frac{1}{F_{0.05}(12,17)}=0.42\n",
    "$$"
   ]
  },
  {
   "cell_type": "markdown",
   "metadata": {
    "slideshow": {
     "slide_type": "subslide"
    }
   },
   "source": [
    "拒绝域为:\n",
    "\n",
    "$$\n",
    "\\frac{S_1^2}{S_2^2}>2.59 ~或~ \\frac{S_1^2}{S_2^2}<0.42\n",
    "$$\n",
    "\n",
    "由给定值算得\n",
    "\n",
    "$$\n",
    "\\frac{S_1^2}{S_2^2}=1.17\n",
    "$$\n",
    "\n",
    "\n",
    "落在拒绝域外, 故接受原假设, 即认为内径的稳定程度相同."
   ]
  },
  {
   "cell_type": "markdown",
   "metadata": {
    "slideshow": {
     "slide_type": "subslide"
    }
   },
   "source": [
    "**例7** 新设计的某种化学天平, 其测量的误差服从正态分布, 现要求 $99.7\\%$ 的测量误差不超过 $0.1mg$,  即要求 $3\\sigma\\leq0.1$. 现拿它与标准天平相比, 得 $10$ 个误差数据, 其样本方差 $s^2 =0.0009$. 试问在 $\\alpha= 0.05$ 的水平上能否认为满足设计要求？"
   ]
  },
  {
   "cell_type": "markdown",
   "metadata": {
    "slideshow": {
     "slide_type": "subslide"
    }
   },
   "source": [
    "**解：** $H_0:~\\sigma\\leq1/30$; $H_1:~\\sigma\\geq1/30$\n",
    "\n",
    "$\\mu$ 未知, 故选检验统计量\n",
    "\n",
    "$$\n",
    "\\chi^2=\\frac{9S^2}{\\sigma_0^2}～\\chi^2(9)\n",
    "$$"
   ]
  },
  {
   "cell_type": "markdown",
   "metadata": {
    "slideshow": {
     "slide_type": "subslide"
    }
   },
   "source": [
    "拒绝域\n",
    "\n",
    "$$\n",
    "\\chi^2=\\frac{9S^2}{1/900}>\\chi_{0.05}^2(9)=16.919\n",
    "$$\n",
    "\n",
    "现 $\\chi^2=\\frac{9S^2}{1/900}=7.29<16.919$  落在拒绝域外, 故接受原假设, 即认为满足设计要求."
   ]
  }
 ],
 "metadata": {
  "celltoolbar": "Slideshow",
  "kernelspec": {
   "display_name": "Python 3",
   "language": "python",
   "name": "python3"
  },
  "language_info": {
   "codemirror_mode": {
    "name": "ipython",
    "version": 3
   },
   "file_extension": ".py",
   "mimetype": "text/x-python",
   "name": "python",
   "nbconvert_exporter": "python",
   "pygments_lexer": "ipython3",
   "version": "3.5.2"
  },
  "livereveal": {
   "height": 768,
   "scroll": "True",
   "slideNumber": "True",
   "start_slideshow_at": "selected",
   "theme": "sky",
   "width": 1024
  }
 },
 "nbformat": 4,
 "nbformat_minor": 1
}
