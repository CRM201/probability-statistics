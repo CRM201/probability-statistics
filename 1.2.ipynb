{
 "cells": [
  {
   "cell_type": "markdown",
   "metadata": {},
   "source": [
    "## § 1.2 样本空间 "
   ]
  },
  {
   "cell_type": "markdown",
   "metadata": {},
   "source": [
    "### 1. 样本点与样本空间的概念"
   ]
  },
  {
   "cell_type": "markdown",
   "metadata": {},
   "source": [
    "**样本点**\n",
    "\n",
    "随机试验的每一个直接可能出现的, 而且是试验中最简单的不能再分的结果, 叫做试验的 **样本点**, 用 ${\\color{Blue}{\\omega}}$ 表示."
   ]
  },
  {
   "cell_type": "markdown",
   "metadata": {},
   "source": [
    "**样本空间**\n",
    "\n",
    "试验的所有样本点 $\\omega_1$, $\\omega_2$, $\\cdots$, $\\omega_n$, $\\cdots$ 构成的集合称为**样本空间**, 用字母 ${\\color{Blue}{\\Omega}}$ 表示.\n",
    "\n",
    "$$\n",
    "\\Omega=\\{\\omega_1, \\omega_2, \\cdots, \\omega_n,\\cdots\\}.\n",
    "$$"
   ]
  },
  {
   "cell_type": "markdown",
   "metadata": {},
   "source": [
    "**例1**\n",
    "\n",
    "(1) 抛硬币一次\n",
    "\n",
    "$\\omega_1$ 正面朝上, $\\omega_2$ 反面朝上, $\\Omega=\\{\\omega_1, \\omega_2\\}$\n",
    "\n",
    "(2) 抛硬币两次\n",
    "1. 观察正、反面朝上的情况, $\\Omega_1=\\{正正 , 正反 , 反正 , 反反\\}$.\n",
    "2. 观察正面朝上的次数, $\\omega_i:$ 正面朝上 $i$ 次 $(i = 0,1,2)$, $\\Omega_2 = \\{ \\omega_0, \\omega_1,\\omega_2\\}.$\n",
    "\n",
    "以上皆为**有限样本空间**\n",
    "\n",
    "(3) 测量某一零件的长度, 考察其测量结果与真正长度的误差\n",
    "\n",
    "$$\n",
    "\\Omega=[-M,M], M 为最大正误差\n",
    "$$\n",
    "\n",
    "**不可列的无限样本空间**\n",
    "\n",
    "(4) 考察灯泡的寿命\n",
    "\n",
    "$\\omega_x:$ 灯泡的寿命为 $x (0\\leq x<+\\infty)$, \n",
    "\n",
    "$\\Omega = \\{\\omega_x| 0\\leq x<+\\infty\\}.$\n",
    "\n",
    "**不可列的无限样本空间**\n",
    "\n",
    "(样本空间由试验内容决定,而不由试验形式决定)"
   ]
  },
  {
   "cell_type": "markdown",
   "metadata": {},
   "source": [
    "### 2. 随机事件与样本空间的关系"
   ]
  },
  {
   "cell_type": "markdown",
   "metadata": {},
   "source": [
    "**例2** 上面的例1(2): 一枚硬币抛两次\n",
    "\n",
    "(1) $A:$ 恰好正面朝上一次\n",
    "\n",
    "对$\\Omega_1$,\n",
    "\n",
    "当出现“正反”或“反正”时, $A$ 发生.\n",
    "\n",
    "$$\n",
    "A=\\{正反 , 反正\\}\\subset \\Omega_1.\n",
    "$$\n",
    "\n",
    "对$\\Omega_2$\n",
    "\n",
    "当出现 $\\omega_1$ 时, ${\\color{Blue}{A}}$ 发生.\n",
    "\n",
    "$$\n",
    "A=\\{\\omega_1\\}\\subset \\Omega_2.\n",
    "$$"
   ]
  },
  {
   "cell_type": "markdown",
   "metadata": {},
   "source": [
    "(2) $B:$ 至少正面朝上一次\n",
    "\n",
    "对 $\\Omega_1$,\n",
    "\n",
    "$$\n",
    "B=\\{正正 , 正反, 反正\\}\\subset \\Omega_1.\n",
    "$$\n",
    "\n",
    "对 $\\Omega_2$,\n",
    "\n",
    "$$\n",
    "B=\\{\\omega_1,\\omega_2\\}\\subset \\Omega_2.\n",
    "$$"
   ]
  },
  {
   "cell_type": "markdown",
   "metadata": {},
   "source": [
    "随机事件可以用样本空间的子集来描述, 该子集中任意一个样本点发生时事件就发生, 即\n",
    "\n",
    "**随机事件=\\{导致该事件发生的所有样本点\\}.**"
   ]
  },
  {
   "cell_type": "markdown",
   "metadata": {},
   "source": [
    "在例2中:\n",
    "\n",
    "$$\n",
    "A=\\{正反 , 反正\\}\\subset \\Omega_1.\n",
    "$$\n",
    "\n",
    "$$\n",
    "B=\\{正正 , 正反, 反正\\}\\subset \\Omega_1.\n",
    "$$\n",
    "\n",
    "特别地,$U=\\Omega$, $V=\\emptyset$. \n",
    "\n",
    "**基本事件** 就是样本空间的仅由单个样本点构成的子集.\n",
    "\n",
    "在例2中:\n",
    "\n",
    "$$\n",
    "A=\\{\\omega_1\\}\\subset \\Omega_2.\n",
    "$$"
   ]
  },
  {
   "cell_type": "markdown",
   "metadata": {},
   "source": [
    "\n",
    "$$ 事件=\n",
    "\\begin{cases}\n",
    "基本事件\\\\\n",
    "复合事件\\\\\n",
    "\\end{cases}\n",
    "$$"
   ]
  },
  {
   "cell_type": "markdown",
   "metadata": {},
   "source": [
    "(1)**基本事件： **相对于观察目的不可再分解的事件.\n",
    "\n",
    "1. 如在掷骰子试验中观察掷出的点数. 事件 $A_1=\\{掷出$i$点\\}$, $i=1,2,3,4,5,6$\n",
    "\n",
    "(2)**复合事件：**两个或一些基本事件并在一起, 就构成一个复合事件.\n",
    "\n",
    "1. 事件 $B=\\{掷出奇数点\\}$"
   ]
  },
  {
   "cell_type": "markdown",
   "metadata": {},
   "source": [
    "**两个特殊的事件:**\n",
    "\n",
    "(1)必然事件：即在试验中必定发生的事件, 常用 ${\\color{Blue}{S}}$ 或 ${\\color{Blue}{\\Omega}}$ 表示;\n",
    "\n",
    "(2)不可能事件：即在一次试验中不可能发生的事件, 常用 ${\\color{Blue}{\\Phi}}$ 表示.\n",
    "\n",
    "例如,在掷骰子试验中, “**掷出点数小于7**”是必然事件; 而“**掷出点数8**” 则是不可能事件."
   ]
  },
  {
   "cell_type": "markdown",
   "metadata": {},
   "source": [
    "### 小 结\n",
    "\n",
    "1.主要概念:样本点,样本空间.\n",
    "\n",
    "2.用样本空间的子集表示随机事件:\n",
    "\n",
    "该子集中任意一个样本点发生时事件就发生.\n",
    "\n",
    "**随机事件={导致该事件发生的所有样本点}**."
   ]
  },
  {
   "cell_type": "code",
   "execution_count": null,
   "metadata": {
    "collapsed": true
   },
   "outputs": [],
   "source": []
  }
 ],
 "metadata": {
  "kernelspec": {
   "display_name": "SageMath 7.5.1",
   "language": "",
   "name": "sagemath"
  },
  "language_info": {
   "codemirror_mode": {
    "name": "ipython",
    "version": 2
   },
   "file_extension": ".py",
   "mimetype": "text/x-python",
   "name": "python",
   "nbconvert_exporter": "python",
   "pygments_lexer": "ipython2",
   "version": "2.7.13"
  }
 },
 "nbformat": 4,
 "nbformat_minor": 0
}
