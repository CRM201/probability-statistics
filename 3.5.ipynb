{
 "cells": [
  {
   "cell_type": "markdown",
   "metadata": {
    "slideshow": {
     "slide_type": "slide"
    }
   },
   "source": [
    "## §3.5  二维随机变量函数的分布\n",
    "\n",
    "设函数 $g(x,y)$ 在二维随机变量 $(X,Y)$ 的一切可能值的集合上有定义, $Z$ 是随机变量, 当 $X$ 取值 $x$, $Y$ 取值 $y$ 时, $Z$ 取值 $g(x,y)$. 称 **$Z$ 是二维随机变量 $(X,Y)$ 的函数**. \n",
    "\n",
    "记作\n",
    "\n",
    "$$\n",
    "Z=g(X,Y)\n",
    "$$\n",
    "\n",
    "**本节讨论的问题：**\n",
    "\n",
    "已知二维随机变量 $(X,Y)$ 的联合分布, 求随机变量\n",
    "\n",
    "$$\n",
    "Z=g(X,Y)\n",
    "$$\n",
    "\n",
    "的分布."
   ]
  },
  {
   "cell_type": "markdown",
   "metadata": {
    "slideshow": {
     "slide_type": "slide"
    }
   },
   "source": [
    "### 1.  和的分布\n",
    "\n",
    "**离散随机变量和的分布**\n",
    "\n",
    "设 $X$, $Y$ 是离散随机变量, 令\n",
    "\n",
    "$$\n",
    "Z=X+Y\n",
    "$$\n",
    "\n",
    "**变量 $Z$ 的取值**\n",
    "\n",
    "$Z$ 的任一可能值 $z_k$ 是 $X$ 的可能值 $x_i$ 与 $Y$ 的可能值 $y_j$ 的和:\n",
    "\n",
    "$$\n",
    "z_k=x_i+y_j\n",
    "$$\n",
    "\n",
    "(**注意：** 对于不同的 $x_i$ 及 $y_j$, 它们的和 $x_i+y_j$ 可能相等.)"
   ]
  },
  {
   "cell_type": "markdown",
   "metadata": {
    "slideshow": {
     "slide_type": "slide"
    }
   },
   "source": [
    "(1) 设 $(X,Y)$ 是二维离散随机变量, 则 $Z=g(X,Y)$ 是一维离散随机变量.\n",
    "\n",
    "(2) 二维离散随机变量函数的分布是容易求的：\n",
    "\n",
    "i) 对 $(X, Y )$ 的各种可能取值对, 写出 $Z$ 相应的取值.\n",
    "\n",
    "ii) 对 $Z$ 的相同的取值, 合并其对应的概率."
   ]
  },
  {
   "cell_type": "markdown",
   "metadata": {
    "slideshow": {
     "slide_type": "slide"
    }
   },
   "source": [
    "**变量 $Z$ 的分布**\n",
    "\n",
    "由概率的加法定理, \n",
    "\n",
    "$$\n",
    "\\begin{aligned}\n",
    "p_Z(z_k)\n",
    "&=P(Z=z_k)=\\sum_{x_i+y_j=z_k} P(X=x_i,Y=y_j)\\\\\n",
    "&=\\sum_i P(X=x_i,Y=z_k-x_i)\\qquad(k=1,2,\\cdots)\\\\\n",
    "&=\\sum_ip(x_i,z_k-x_i)\\\\\n",
    "\\end{aligned}\n",
    "$$\n",
    "\n",
    "这里求和的范围是一切使 $x_i+y_j=z_k$ 的 $i$ 与 $j$ 的值."
   ]
  },
  {
   "cell_type": "markdown",
   "metadata": {
    "slideshow": {
     "slide_type": "slide"
    }
   },
   "source": [
    "**同理可得**\n",
    "\n",
    "$$\n",
    "p_Z(z_k)=\\sum_j p(z_k-y_j,y_j).\n",
    "$$\n",
    "\n",
    "如果 $X$ 与 $Y$ 独立, 则有\n",
    "\n",
    "$$\n",
    "p_Z(z_k)=\\sum_i p_X(x_i)p_Y(z_k-x_i);\n",
    "$$\n",
    "\n",
    "$$\n",
    "p_Z(z_k)=\\sum_j p_X(z_k-y_j)p_Y(y_j).\n",
    "$$"
   ]
  },
  {
   "cell_type": "markdown",
   "metadata": {
    "slideshow": {
     "slide_type": "slide"
    }
   },
   "source": [
    "**例１** 设随机变量 $X$ 与 $Y$ 独立, 并且都服从二项分布：\n",
    "\n",
    "$$\n",
    "p_X(x)=C_2^x(\\frac{1}{2})^x(\\frac{1}{2})^{2-x}, x=0,1,2;\n",
    "$$\n",
    "\n",
    "$$\n",
    "p_Y(y)=C_2^y(\\frac{2}{3})^x(\\frac{2}{3})^{2-y},y=0,1,2.\n",
    "$$\n",
    "\n",
    "求它们的和 $Z=X+Y$ 的分布.\n",
    "\n",
    "**解：** $X$, $Y$ 的分布列：\n",
    "\n",
    "|$X$| 0| 1 | 2 |\n",
    "|:-----:|:-----:|:-----:|:-----:|\n",
    "| $p_X(x_i)$ |$\\frac{1}{4}$|$\\frac{2}{4}$|$\\frac{1}{4}$|\n",
    "\n",
    "|$Y$| 0| 1 | 2 |\n",
    "|:-----:|:-----:|:-----:|:-----:|\n",
    "| $p_Y(y_j)$ |$\\frac{1}{9}$|$\\frac{4}{9}$|$\\frac{4}{9}$|"
   ]
  },
  {
   "cell_type": "markdown",
   "metadata": {
    "slideshow": {
     "slide_type": "slide"
    }
   },
   "source": [
    "**显然**, 随机变量 $Z=X+Y$ 的可能取值 0, 1, 2, 3, 4. 下面计算概率：\n",
    "\n",
    "$$\n",
    "\\begin{aligned}\n",
    "p_Z(0)\n",
    "&=p_X(0)p_Y(0)\\\\\n",
    "&=\\frac{1}{4}\\cdot \\frac{1}{9}\\\\\n",
    "&=\\frac{1}{36}\\\\\n",
    "\\end{aligned}\n",
    "$$\n",
    "\n",
    "$$\n",
    "\\begin{aligned}\n",
    "p_Z(1)\n",
    "&=p_X(0)P_Y(1)+p_X(1)p_Y(0)\\\\\n",
    "&=\\frac{1}{4}\\cdot \\frac{4}{9}+\\frac{2}{4}\\cdot \\frac{1}{9}\\\\\n",
    "&=\\frac{6}{36}\\\\\n",
    "\\end{aligned}\n",
    "$$"
   ]
  },
  {
   "cell_type": "markdown",
   "metadata": {
    "slideshow": {
     "slide_type": "slide"
    }
   },
   "source": [
    "$$\n",
    "\\begin{aligned}\n",
    "p_Z(2)\n",
    "&=p_X(0)p_Y(2)+p_X(1)p_Y(1)+p_X(2)p_Y(0)\\\\\n",
    "&=\\frac{1}{4}\\cdot\\frac{4}{9}+\\frac{2}{4}\\cdot \\frac{4}{9}+\\frac{1}{4}\\cdot \\frac{1}{9}\\\\\n",
    "&=\\frac{13}{36}\\\\\n",
    "\\end{aligned}\n",
    "$$\n",
    "\n",
    "$$\n",
    "\\begin{aligned}\n",
    "p_Z(3)\n",
    "&=p_X(1)p_Y(2)+p_X(2)p_Y(1)\\\\\n",
    "&=\\frac{2}{4}\\cdot \\frac{4}{9}+\\frac{1}{4}\\cdot\\frac{4}{9}\\\\\n",
    "&=\\frac{12}{36}\\\\\n",
    "\\end{aligned}\n",
    "$$\n",
    "\n",
    "$$\n",
    "p_Z(4)=p_X(2)p_Y(2)=\\frac{1}{4}\\cdot\\frac{4}{9}=\\frac{4}{36}\n",
    "$$\n",
    "\n",
    "所以, $Z=X+Y$ 的概率分布如下:\n",
    "\n",
    "|$Z$| 0| 1 | 2 | 3 | 4 |\n",
    "|:-----:|:-----:|:-----:|:-----:|:-----:|:-----:|\n",
    "| $P_Z(z_k)$ |$\\frac{1}{36}$|$\\frac{6}{36}$|$\\frac{13}{36}$|$\\frac{12}{36}$|$\\frac{4}{36}$|"
   ]
  },
  {
   "cell_type": "markdown",
   "metadata": {
    "slideshow": {
     "slide_type": "slide"
    }
   },
   "source": [
    "**例2** 设随机变量 $X$ 与 $Y$ 独立, 并且服从泊松分布, 概率函数分别为\n",
    "\n",
    "$$\n",
    "p_X(i)=\\frac{\\lambda_x^i}{i!}e^{-\\lambda_x}, i=0,1,2,\\cdots\n",
    "$$\n",
    "\n",
    "$$\n",
    "p_Y(j)=\\frac{\\lambda_y^j}{j!}e^{-\\lambda_y}, j=0,1,2,\\cdots\n",
    "$$\n",
    "\n",
    "求它们的和 $Z=X+Y$ 的分布.\n",
    "\n",
    "**解:** 随机变量 $Z$ 也可以取得零和一切正整数值. 下面计算概率函数： 对于 $k=0,1,2,,\\cdots,$\n",
    "\n",
    "$$\n",
    "\\begin{aligned}\n",
    "p_Z(k)\n",
    "&=\\sum_{i=0}^kp_X(i)p_Y(k-i)\\\\\n",
    "&=\\sum_{i=0}^k\\frac{\\lambda_x^i\\lambda_y^{k-i}}{i!(k-i)!}e^{-(\\lambda_x+\\lambda_y)}\\\\\n",
    "&=\\frac{1}{k!}(\\sum_{i=0}^kC_k^i \\lambda_x^i\\lambda_y^{k-i})e^{-(\\lambda_x+\\lambda_y)}\\\\\n",
    "&=\\frac{(\\lambda_x+\\lambda_y)^k}{k!}e^{-(\\lambda_x+\\lambda_y)}\\\\\n",
    "\\end{aligned}\n",
    "$$\n",
    "\n",
    "**服从泊松分布的独立随机变量的和也服从泊松分布, 并且具有分布参数 $\\lambda_z=\\lambda_x+\\lambda_y$.**"
   ]
  },
  {
   "cell_type": "markdown",
   "metadata": {
    "slideshow": {
     "slide_type": "slide"
    }
   },
   "source": [
    "\n",
    "\n",
    "### 连续随机变量和的分布\n",
    "\n",
    "设二维连续随机变量 $(X,Y)$ 的联合概率密度 $f(x,y)$, 为了确定随机变量 $X$ 与 $Y$ 的和 $Z=X+Y$ 的分布, 考虑随机变量 $Z$ 的分布函数：\n",
    "\n",
    "![](./figures/315.png) \n",
    "\n",
    "$$\n",
    "F_Z(z)=P(Z\\leq z)=P(X+Y\\leq z)=\\iint_{x+y\\leq z}f(x,y){\\mathrm d x}{\\mathrm d y}\n",
    "$$"
   ]
  },
  {
   "cell_type": "markdown",
   "metadata": {
    "slideshow": {
     "slide_type": "slide"
    }
   },
   "source": [
    "化为二次积分得：\n",
    "\n",
    "$$\n",
    "F_Z(z)=\\int_{-\\infty}^{+\\infty}{\\mathrm d x}\\int_{-\\infty}^{z-x}f(x,y){\\mathrm d y}.\n",
    "$$\n",
    "\n",
    "上式两边对 $z$ 求导, 得 $Z$ 的概率密度：\n",
    "\n",
    "$$\n",
    "f_Z(z)=\\int_{-\\infty}^{+\\infty}f(x,z-x){\\mathrm d x}.\n",
    "$$\n",
    "\n",
    "同理可得\n",
    "\n",
    "$$\n",
    "f_Z(z)=\\int_{-\\infty}^{+\\infty}f(z-y,y){\\mathrm d y}.\n",
    "$$"
   ]
  },
  {
   "cell_type": "markdown",
   "metadata": {
    "slideshow": {
     "slide_type": "slide"
    }
   },
   "source": [
    "如果 $X$ 与 $Y$ 独立, 则\n",
    "\n",
    "$$\n",
    "f_Z(z)=\\int_{-\\infty}^{+\\infty}f_X(x)f_Y(z-x){\\mathrm d x}\n",
    "$$\n",
    "\n",
    "$$\n",
    "f_Z(z)=\\int_{-\\infty}^{+\\infty}f_X(z-y)f_Y(y){\\mathrm d y}\n",
    "$$\n"
   ]
  },
  {
   "cell_type": "markdown",
   "metadata": {
    "slideshow": {
     "slide_type": "slide"
    }
   },
   "source": [
    "**例3** 设随机变量 $X$ 与 $Y$ 独立, 并且都在区间 $[-a,a]$ 上服从均匀分布, 求它们的和 $Z=X+Y$ 的分布.\n",
    "\n",
    "**解：**易知 $X$ 及 $Y$ 的概率密度分别是\n",
    "\n",
    "$$\n",
    "f_X(x)=\n",
    "\\begin{cases}\n",
    "\\frac{1}{2a}, |x|\\leq a\\\\\n",
    "\\\\\n",
    "0，|x|>a\\\\\n",
    "\\end{cases}\n",
    "\\qquad\n",
    "f_Y(y)=\n",
    "\\begin{cases}\n",
    "\\frac{1}{2a}, |y|\\leq a\\\\\n",
    "\\\\\n",
    "0，|y|>a\\\\\n",
    "\\end{cases}\n",
    "$$\n",
    "\n",
    "于是\n",
    "\n",
    "$$\n",
    "f_Z(z)=\\int_{-\\infty}^{+\\infty}f_X(x)f_Y(z-x){\\mathrm d x}=\\frac{1}{2a}\\int_{-a}^a f_Y(z-x){\\mathrm d x}.\n",
    "$$\n",
    "\n",
    "令 $z-x=t$\n",
    "\n",
    "$$\n",
    "f_Z(z)=\\frac{1}{2a}\\int_{z-a}^{z+a}f_Y(t){\\mathrm d t}\n",
    "$$"
   ]
  },
  {
   "cell_type": "markdown",
   "metadata": {
    "slideshow": {
     "slide_type": "slide"
    }
   },
   "source": [
    "现在分配四种情况来讨论：\n",
    "\n",
    "(1) 当 $z<-2a$ 时, $f_Z(z)=0$.\n",
    "\n",
    "(2) 当 $-2a\\leq z<0$ 时, \n",
    "\n",
    "$$\n",
    "\\begin{equation*}\n",
    "-3a\\leq z-a<-a,\\qquad -a\\leq z+a<a\n",
    "\\end{equation*}\n",
    "$$\n",
    "\n",
    "把积分区间分成自子区间 $[z-a,-a]$, $[-a,z+a]$, 被积函数在第一子区间上等于零, 在第二子区间上等于 $\\frac{1}{2a}$\n",
    "\n",
    "所以得到\n",
    "\n",
    "$$\n",
    "f_Z(z)=\\frac{1}{4a^2}\\int_{-a}^{z+a}{\\mathrm d t}=\\frac{2a+z}{4a^2}.\n",
    "$$"
   ]
  },
  {
   "cell_type": "markdown",
   "metadata": {
    "slideshow": {
     "slide_type": "slide"
    }
   },
   "source": [
    "(3) 当 $0\\leq z \\leq 2a$ 时,\n",
    "\n",
    "$$\n",
    "-a\\leq z-a\\leq a,\\qquad a\\leq z+a\\leq 3a,\n",
    "$$\n",
    "\n",
    "把积分区间分成自子区间 $[z-a,a]$, $[a,z+a]$, 被积函数在第一子区间上等于 $\\frac{1}{2a}$, 在第二子区间上等于零; 所以得到\n",
    "\n",
    "$$\n",
    "f_Z(z)=\\frac{1}{4a^2}\\int_{z-a}^{a}{\\mathrm d t}=\\frac{2a-z}{4a^2}.\n",
    "$$"
   ]
  },
  {
   "cell_type": "markdown",
   "metadata": {
    "slideshow": {
     "slide_type": "slide"
    }
   },
   "source": [
    "(4)当 $z>2a$ 时, $f_Ｚ（z）=0$.\n",
    "\n",
    "综上所述, 随机变量 $Z$ 的概率密度为\n",
    "\n",
    "$$\n",
    "f_Z(z)\n",
    "=\\begin{cases}\n",
    "\\frac{2a+z}{4a^2}, -2a\\leq z<0\\\\\n",
    "\\\\\n",
    "\\frac{2a-z}{4a^2},0\\leq z\\leq 2a\\\\\n",
    "\\\\\n",
    "0，|z|>2a\\\\\n",
    "\\end{cases}\n",
    "$$\n",
    "\n",
    "得到的分布称为**辛普森分布**。"
   ]
  },
  {
   "cell_type": "markdown",
   "metadata": {
    "slideshow": {
     "slide_type": "slide"
    }
   },
   "source": [
    "**例4** 设 $X\\sim U(0,1)$, $Y\\sim U(0,1)$, 且 $X$ 与 $Y$　相互独立, 求 $Z=X+Y$ 的概率密度.\n",
    "\n",
    "**解：** \n",
    "\n",
    "$$\n",
    "f_X(x)=\n",
    "\\begin{cases}\n",
    "1, 0\\leq x\\leq 1\\\\\n",
    "\\\\\n",
    "0，其它\\\\\n",
    "\\end{cases}\n",
    "\\qquad\n",
    "f_Y(y)=\n",
    "\\begin{cases}\n",
    "１,0\\leq y \\leq 1\\\\\n",
    "\\\\\n",
    "0, 其它\\\\\n",
    "\\end{cases}\n",
    "$$\n",
    "\n",
    "**所以随机变量 $Z$ 的取值区间 $[0,2]$**"
   ]
  },
  {
   "cell_type": "markdown",
   "metadata": {
    "slideshow": {
     "slide_type": "slide"
    }
   },
   "source": [
    "当 $z\\leq 0$　时,　有 $F_Z(z)=0$; 当 $z>2$ 时, 有 $F_Z(z)=1$; 当　$0<z\\leq 1$ 时, 有\n",
    "\n",
    "$$\n",
    "\\begin{aligned}\n",
    "F_Z(z)\n",
    "&=P(Z\\leq z)=P(X+Y\\leq z)\\\\\n",
    "&=\\iint_{x+y\\leq z}f(x,y){\\mathrm d x}{\\mathrm d y}\\\\\n",
    "&=\\iint_{x+y\\leq z}f_X(x)f_Y(y){\\mathrm d x}{\\mathrm d y}\\\\\n",
    "&=\\int_0^z[\\int_0^{z-x}{\\mathrm d y}]{\\mathrm d x}=\\frac{z^2}{2}\n",
    "\\end{aligned}\n",
    "$$\n",
    "![](./figures/316.png)"
   ]
  },
  {
   "cell_type": "markdown",
   "metadata": {
    "slideshow": {
     "slide_type": "slide"
    }
   },
   "source": [
    "当 $1 < z \\leq 2$ 时, 有\n",
    "\n",
    "$$\n",
    "\\begin{aligned}\n",
    "F_Z(z)\n",
    "&=P(Z\\leq z)=P(X+Y\\leq z)\\\\\n",
    "&=\\iint_{x+y\\leq z}f(x,y){\\mathrm d x}{\\mathrm d y}\\\\\n",
    "&=\\iint_{x+y\\leq z}f_X(x)f_Y(y){\\mathrm d x}{\\mathrm d y}\\\\\n",
    "&=\\int_0^1[\\int_0^{z-1}1{\\mathrm d y}]{\\mathrm d x}+\\int_{z-1}^1[\\int_0^{z-y}1{\\mathrm d x}]{\\mathrm d y}\\\\\n",
    "&=1-\\frac{(2-z)^2}{2}\\\\\n",
    "\\end{aligned}\n",
    "$$\n",
    "\n",
    "![](./figures/317.png)"
   ]
  },
  {
   "cell_type": "markdown",
   "metadata": {
    "slideshow": {
     "slide_type": "slide"
    }
   },
   "source": [
    "所以随机变量 $Z$ 的分布函数为\n",
    "\n",
    "$$\n",
    "F_Z(z)\n",
    "=\\begin{cases}\n",
    "0,z\\leq 0;\\\\\n",
    "\\\\\n",
    "\\frac{z^2}{2}, 0 < z\\leq 1;\\\\\n",
    "\\\\\n",
    "1-\\frac{(2-z)^2}{2},1< z\\leq 2;\\\\\n",
    "\\\\\n",
    "1, z>2.\\\\\n",
    "\\end{cases}\n",
    "$$\n",
    "\n",
    "求导可得随机变量 $Z$ 的概率密度为\n",
    "\n",
    "$$\n",
    "f_Z(z)\n",
    "=\\begin{cases}\n",
    "z, 0 < z\\leq 1;\\\\\n",
    "\\\\\n",
    "2-z,1< z\\leq 2;\\\\\n",
    "\\\\\n",
    "0，其它.\\\\\n",
    "\\end{cases}\n",
    "$$"
   ]
  },
  {
   "cell_type": "markdown",
   "metadata": {
    "slideshow": {
     "slide_type": "slide"
    }
   },
   "source": [
    "**例５:** 若 $X$ 和 $Y$ 是两个相互独立的随机变量, 具有相同的分布 $N(0,1)$, 求 $Z=X+Y$ 的概率密度."
   ]
  },
  {
   "cell_type": "markdown",
   "metadata": {
    "slideshow": {
     "slide_type": "subslide"
    }
   },
   "source": [
    "$$\n",
    "\\begin{aligned}\n",
    "f_Z(z)\n",
    "&=\\int_{-\\infty}^{+\\infty}f_X(x)f_Y(z-x){\\mathrm d x}\\\\\n",
    "&=\\frac{1}{2\\pi}\\int_{-\\infty}^{+\\infty}e^{-\\frac{x^2}{2}}e^{-\\frac{(z-x)^2}{2}}{\\mathrm d x}\\\\\n",
    "&=\\frac{1}{2\\pi}\\int_{-\\infty}^{+\\infty}e^{-\\frac{z^2}{2}}e^{-(x^2-zx)}{\\mathrm d x}\\\\\n",
    "&=\\frac{1}{2\\pi}e^{-\\frac{z^2}{4}}\\int_{-\\infty}^{+\\infty}e^{-(x-\\frac{z}{2})^2}{\\mathrm d x}\\\\\n",
    "\\end{aligned}\n",
    "$$"
   ]
  },
  {
   "cell_type": "markdown",
   "metadata": {
    "slideshow": {
     "slide_type": "subslide"
    }
   },
   "source": [
    "令 $t=x-\\frac{z}{2}$, 得\n",
    "\n",
    "$$\n",
    "\\begin{aligned}\n",
    "f_Z(z)\n",
    "&=\\frac{1}{2\\pi}e^{-\\frac{z^2}{4}}\\int_{-\\infty}^{+\\infty}e^{-t^2}{\\mathrm d t}\\\\\n",
    "&=\\frac{1}{2\\pi}e^{-\\frac{z^2}\n",
    "{4}}\\cdot \\sqrt{\\pi}\\\\\n",
    "&=\\frac{1}{\\sqrt{2\\pi}\\sqrt{2}}e^{-\\frac{z^2}{2\\cdot (\\sqrt{2})^2}}\\\\\n",
    "\\end{aligned}\n",
    "$$\n",
    "\n",
    "可见 $Z=X+Y$ 服从正态分布 $N(0,2)$."
   ]
  },
  {
   "cell_type": "markdown",
   "metadata": {
    "slideshow": {
     "slide_type": "slide"
    }
   },
   "source": [
    "若 $X$ 和 $Y$ 独立, $X\\sim (\\mu_1,\\sigma_1^2)$, $Y\\sim (\\mu_2,\\sigma_2^2)$, 结论又如何呢？\n",
    "\n",
    "**用类似的方法可以证明：**\n",
    "\n",
    "$$\n",
    "Z=X+Y\\sim N(\\mu_1+\\mu_2,\\sigma_1^2+\\sigma_2^2)\n",
    "$$"
   ]
  },
  {
   "cell_type": "markdown",
   "metadata": {
    "slideshow": {
     "slide_type": "subslide"
    }
   },
   "source": [
    "此结论可以推广到 $n$ 个独立随机变量之和的情形, 请自行写出结论.\n",
    "\n",
    "**更一般地,  可以证明:**\n",
    "\n",
    "**有限个独立正态变量的线性组合仍然服从正态分布.**\n",
    "\n",
    "即\n",
    "\n",
    "若 $x_i\\sim N(\\mu_i,\\sigma_i^2)$, $i$=1, 2, $\\cdots$, $n$ 相互独立, 则\n",
    "\n",
    "$$\n",
    "\\sum_{i=1}^n k_i x_i \\sim N(\\sum_{i=1}^n k_i \\mu_i,\\sum_{i=1}^n  k_i^2\\sigma_i^2)\n",
    "$$"
   ]
  },
  {
   "cell_type": "markdown",
   "metadata": {
    "slideshow": {
     "slide_type": "slide"
    }
   },
   "source": [
    "### 2.最大值与最小值的分布\n",
    "\n",
    "设随机变量 $X$, $Y$ 独立, 分布函数分别为 $F_X(x)$, $F_Y(y)$, 求 $\\max(X,Y)$, $\\min(X,Y)$ 的分布.\n",
    "\n",
    "**$\\max(X,Y)$ 的分布**\n",
    "\n",
    "$$\n",
    "\"\\max(X,Y)\\leq z\" \\iff \"X\\leq z 且 Y\\leq z\",\n",
    "$$\n",
    "\n",
    "于是\n",
    "\n",
    "$$\n",
    "\\begin{aligned}\n",
    "F_{\\max}(z)\n",
    "&=P[\\max(X,Y)\\leq z]=P(X\\leq z,Y\\leq z)\\\\\n",
    "&=P(X\\leq z)P(Y\\leq z)=F_X(z)F_Y(z).\\\\\n",
    "\\end{aligned}\n",
    "$$\n",
    "\n",
    "**其概率密度为**\n",
    "\n",
    "$$\n",
    "f_Z(z)=f_{\\max}(z)=F_Z'(z)=f_X(z)F_Y(z)+F_X(z)f_Y(z)\n",
    "$$"
   ]
  },
  {
   "cell_type": "markdown",
   "metadata": {
    "slideshow": {
     "slide_type": "slide"
    }
   },
   "source": [
    "**推广:** 设 $X_1$, $X_2$, $\\cdots$, $X_n$ 独立, $X_i$ 的分布函数为 $F_i(x)$, 则 $\\max(X_1, X_2, \\cdots, X_n)$ 的分布函数为\n",
    "\n",
    "$$\n",
    "F_{\\max}(z)=\\prod_{i=1}^n F_i(z) \n",
    "$$\n",
    "\n",
    "**特别地**, 若 $X_1$, $X_2$, $\\cdots$, $X_n$ **独立同分布**, $X_i$ 的分布函数为 $F(x)$, 则 $\\max(X_1, X_2, \\cdots, X_n)$ 的分布函数为\n",
    "\n",
    "$$\n",
    "F_{\\max}(z)=[F(z)]^n\n",
    "$$"
   ]
  },
  {
   "cell_type": "markdown",
   "metadata": {
    "slideshow": {
     "slide_type": "slide"
    }
   },
   "source": [
    "**$\\min(X,Y)$ 的分布**\n",
    "\n",
    "$$\n",
    "\"\\min(X,Y)> z\" \\iff \"X>z 且 Y> z\",\n",
    "$$\n",
    "\n",
    "于是\n",
    "\n",
    "$$\n",
    "\\begin{aligned}\n",
    "F_{\\min}(z)\n",
    "&=P[\\min (X,Y)\\leq z]\\\\\n",
    "&=1-P[\\min (X,Y)> z]=1-P(X>z,Y>z)\\\\\n",
    "&=1-P(X> z)P(Y> z)(独立性)\\\\\n",
    "&=1-[1-P(X\\leq z)][1-P(Y\\leq z)]\\\\\n",
    "&=1-[1-F_X(z)][1-F_Y(z)].\\\\\n",
    "\\end{aligned}\n",
    "$$"
   ]
  },
  {
   "cell_type": "markdown",
   "metadata": {
    "slideshow": {
     "slide_type": "slide"
    }
   },
   "source": [
    "**其概率密度为**\n",
    "\n",
    "$$\n",
    "\\begin{aligned}\n",
    "f_Z(z)\n",
    "&=f_{\\min}(z)=F_Z’(z)\\\\\n",
    "&=F_X'(z)[1-F_Y(z)]+F_Y’(z)[1-F_X(z)]\\\\\n",
    "&=f_X(z)[1-F_Y(z)]+f_Y(z)[1-F_X(z)]\\\\\n",
    "\\end{aligned}\n",
    "$$"
   ]
  },
  {
   "cell_type": "markdown",
   "metadata": {
    "collapsed": true,
    "slideshow": {
     "slide_type": "slide"
    }
   },
   "source": [
    "**推广：**\n",
    "\n",
    "设 $X_1$, $X_2$, $\\cdots$, $X_n$ 独立, $X_i$ 的分布函数为 $F_i(x)$, 则 $\\min(X_1, X_2, \\cdots, X_n)$ 的分布函数为\n",
    "\n",
    "$$\n",
    "F_{\\min}(z)=1-\\prod_{i=1}^n [1-F_i(z)] \n",
    "$$\n",
    "\n",
    "**特别地**, 若 $X_1$, $X_2$, $\\cdots$, $X_n$ **独立同分布**, $X_i$ 的分布函数为 $F(x)$, 则 $\\min(X_1, X_2, \\cdots, X_n)$ 的分布函数为\n",
    "\n",
    "$$\n",
    "F_{\\min}(z) = 1-[1-F(z)]^n.\n",
    "$$"
   ]
  },
  {
   "cell_type": "markdown",
   "metadata": {
    "slideshow": {
     "slide_type": "slide"
    }
   },
   "source": [
    "**例6** 设 $X$ 和 $Y$ 相互独立, 且 $X\\sim U(0,1)$, $Y\\sim U(0,2)$, 求 $\\max\\{X,Y\\}$,  $\\min\\{X,Y\\}$, 的概率密度."
   ]
  },
  {
   "cell_type": "markdown",
   "metadata": {
    "slideshow": {
     "slide_type": "slide"
    }
   },
   "source": [
    "**解：**  由题设, $X$ 与 $Y$ 的概率密度为 \n",
    "\n",
    "$$\n",
    "f_X(x)=\n",
    "\\begin{cases}\n",
    "1, 0< x< 1\\\\\n",
    "0，\\text{其它}\\\\\n",
    "\\end{cases}\n",
    "\\qquad\n",
    "f_Y(y)=\n",
    "\\begin{cases}\n",
    "\\frac{1}{2}, 0< y < 2\\\\\n",
    "0, \\text{其它}\\\\\n",
    "\\end{cases}\n",
    "$$\n",
    "\n",
    "它们的分布函数为\n",
    "\n",
    "$$\n",
    "F_X(x)=\n",
    "\\begin{cases}\n",
    "0,  x\\leq 0\\\\\n",
    "x, 0<x<1\\\\\n",
    "1, x\\geq 1\\\\\n",
    "\\end{cases}\n",
    "\\qquad\n",
    "F_Y(y)=\n",
    "\\begin{cases}\n",
    "0, y\\leq 0\\\\\n",
    "\\frac{1}{2}y,0< y < 2\\\\\n",
    "1, y\\geq 2\\\\\n",
    "\\end{cases}\n",
    "$$"
   ]
  },
  {
   "cell_type": "markdown",
   "metadata": {
    "slideshow": {
     "slide_type": "slide"
    }
   },
   "source": [
    "$$\n",
    "\\begin{aligned}\n",
    "F_{\\max}(z)\n",
    "&=P(\\max\\{X,Y\\}\\leq z)=P(X\\leq z,Y\\leq z)\\\\\n",
    "&=P(X\\leq z)P(Y\\leq z)=F_X(z)F_Y(z)\\\\\n",
    "\\end{aligned}\n",
    "$$\n",
    "\n",
    "$$\n",
    "f_{\\max}(z)=f_X(z)F_Y(z)+F_X(z)f_Y(z)=\n",
    "\\begin{cases}\n",
    "z,  0<z <1\\\\\n",
    "\\frac{1}{2}, 1\\leq z\\leq 2\\\\\n",
    "0, \\text{其它}\\\\\n",
    "\\end{cases}\n",
    "$$\n",
    "\n",
    "$$\n",
    "\\begin{aligned}\n",
    "f_{\\min}(z)\n",
    "&=P(\\min\\{X,Y\\}\\leq z)=1-P(\\min\\{X,Y\\}>z)\\\\\n",
    "&=1-P(X>z,Y>z)=1-P(X>z)P(Y>z)\\\\\n",
    "&=1-[1-F_X(z)][1-F_Y(z)]\\\\\n",
    "\\end{aligned}\n",
    "$$\n",
    "\n",
    "$$\n",
    "\\begin{aligned}\n",
    "f_{\\min}\n",
    "&=f_X(z)[1-F_Y(z)]+f_Y(z)[1-F_X(z)]\\\\\n",
    "&=\\begin{cases}\n",
    "\\frac{3}{2}-z, 0< z< 1\\\\\n",
    "0, \\text{其它}\\\\\n",
    "\\end{cases}\\\\\n",
    "\\end{aligned}\n",
    "$$"
   ]
  },
  {
   "cell_type": "markdown",
   "metadata": {
    "slideshow": {
     "slide_type": "slide"
    }
   },
   "source": [
    "$$\n",
    "F_X(x)=\n",
    "\\begin{cases}\n",
    "0,  x\\leq 0\\\\\n",
    "\\\\\n",
    "x, 0<x<1\\\\\n",
    "\\\\\n",
    "1, x\\geq 1\\\\\n",
    "\\end{cases}\n",
    "\\qquad\n",
    "F_Y(y)=\n",
    "\\begin{cases}\n",
    "0, y\\leq 0\\\\\n",
    "\\\\\n",
    "\\frac{1}{2}y,0< y < 2\\\\\n",
    "\\\\\n",
    "1, y\\geq 2\\\\\n",
    "\\end{cases}\n",
    "$$"
   ]
  },
  {
   "cell_type": "markdown",
   "metadata": {},
   "source": [
    "**例7** 设系统由两个相互独立的电子元件 $L_1$, $L_2$ 连接而成, 连接方式分别为:(1) 串联; (2) 并联; (3) 备用 (即当一个元件损坏时, 另一个立即启用). 元件 $L_1$ 的 寿命 $X$ 和 元件 $L_2$ 的寿命 $Y$ 都服从参数为 $\\lambda$ 的指数分布, 分别就以上 3 种连接方式求系统寿命 $Z$ 的概率密度.\n",
    "\n",
    "**分析：** 关键是找出(1) 串联; (2) 并联; (3) 备用 三种情况对应的数学表示。\n",
    "\n",
    "**解：**$X$ 和 $Y$ 的概率密度分别为\n",
    "\n",
    "$$\n",
    "f_X(x)=\n",
    "\\begin{cases}\n",
    "\\lambda e^{-\\lambda x},  x> 0\\\\\n",
    "\\\\\n",
    "0, x\\leq 0\\\\\n",
    "\\end{cases}\n",
    "\\qquad\n",
    "f_Y(y)=\n",
    "\\begin{cases}\n",
    "\\lambda e^{-\\lambda y},y>0\\\\\n",
    "\\\\\n",
    "0, y\\leq 0\\\\\n",
    "\\end{cases}\n",
    "$$\n",
    "\n",
    "它们的分布函数为\n",
    "\n",
    "$$\n",
    "F_X(x)=\n",
    "\\begin{cases}\n",
    "1- e^{-\\lambda x},  x> 0\\\\\n",
    "0, x\\leq 0\\\\\n",
    "\\end{cases}\n",
    "\\qquad\n",
    "F_Y(y)=\n",
    "\\begin{cases}\n",
    "1- e^{-\\lambda y},y>0\\\\\n",
    "0, y\\leq 0\\\\\n",
    "\\end{cases}\n",
    "$$"
   ]
  },
  {
   "cell_type": "markdown",
   "metadata": {
    "slideshow": {
     "slide_type": "slide"
    }
   },
   "source": [
    "(1) 串联时, $Z=\\min\\{X,Y\\}$, 其分布函数为\n",
    "\n",
    "$$\n",
    "F_{\\min}(z)\n",
    "=\\begin{cases}\n",
    "1- e^{-2\\lambda z},  z> 0\\\\\n",
    "0, z\\leq 0\\\\\n",
    "\\end{cases}\n",
    "$$\n",
    "\n",
    "**概率密度为**\n",
    "\n",
    "$$\n",
    "f_{\\min}(z)=\\begin{cases}\n",
    "1- 2\\lambda e^{-2\\lambda z},  z> 0\\\\\n",
    "0, z\\leq 0\\\\\n",
    "\\end{cases}\n",
    "$$"
   ]
  },
  {
   "cell_type": "markdown",
   "metadata": {
    "slideshow": {
     "slide_type": "slide"
    }
   },
   "source": [
    "(2) 并联时, $Z=\\max\\{X,Y\\}$, 其分布函数为\n",
    "\n",
    "\n",
    "$$\n",
    "F_{\\max}(z)=\\begin{cases}\n",
    "(1- e^{-\\lambda z})^2,  z> 0\\\\\n",
    "0, z\\leq 0\\\\\n",
    "\\end{cases}\n",
    "$$\n",
    "\n",
    "**概率密度为**\n",
    "\n",
    "$$\n",
    "f_{\\max}(z)=\\begin{cases}\n",
    " 2\\lambda e^{-\\lambda z}-2\\lambda e^{-2\\lambda z},  z> 0\\\\\n",
    "0, z\\leq 0\\\\\n",
    "\\end{cases}\n",
    "$$"
   ]
  },
  {
   "cell_type": "markdown",
   "metadata": {
    "slideshow": {
     "slide_type": "slide"
    }
   },
   "source": [
    "(3) 备用时, $Z=X+Y$, 有\n",
    "\n",
    "$$\n",
    "f_Z(z)=\\int_{-\\infty}^{+\\infty}f_X(z)f_Y(z-x){\\mathrm d x}=\\int_0^{+\\infty}\\lambda e^{-\\lambda x}f_Y(z-x){\\mathrm d x}\n",
    "$$\n",
    "\n",
    "令 $z-x=t$ 得\n",
    "\n",
    "$$\n",
    "\\begin{aligned}\n",
    "f_Z(z)\n",
    "&=\\int_{-\\infty}^z \\lambda e^{-\\lambda (z-t)}f_Y(t){\\mathrm d t}\\\\\n",
    "&=\\begin{cases}\n",
    " \\int_0^z \\lambda e^{-\\lambda(z-t)}\\lambda e^{-\\lambda t} {\\mathrm d t},  z> 0\\\\\n",
    "0, z\\leq 0\\\\\n",
    "\\end{cases}\\\\ \n",
    "&=\\begin{cases}\n",
    " \\lambda^2ze^{-\\lambda z}, z>0\\\\\n",
    "0, z\\leq 0\\\\\n",
    "\\end{cases}\\\\\n",
    "\\end{aligned}\n",
    "$$"
   ]
  },
  {
   "cell_type": "markdown",
   "metadata": {
    "slideshow": {
     "slide_type": "slide"
    }
   },
   "source": [
    "**例8**  体育馆的大屏幕由信号处理机和显示屏构成, 它们的寿命分别为 $X$, $Y$ 若它们的概率密度分别为\n",
    "\n",
    "$$\n",
    "f_X(x)=\n",
    "\\begin{cases}\n",
    "\\alpha e^{-\\alpha x},  x> 0\\\\\n",
    "0, x\\leq 0\\\\\n",
    "\\end{cases}\n",
    "\\qquad\n",
    "f_Y(y)=\n",
    "\\begin{cases}\n",
    "\\beta e^{-\\beta y},y>0\\\\\n",
    "0, y\\leq 0\\\\\n",
    "\\end{cases}\n",
    "$$\n",
    "\n",
    "其中 $\\alpha>0$, $\\beta>0$, 试求大屏幕系统的寿命的概率密度.\n",
    "\n",
    "**分析:** 其中参数 $\\alpha>0, \\beta>0$ 称为**失效率**。信号处理机和显示屏构成串联系统, 故整个系统的寿命为 $Z=\\min(X,Y)$。 "
   ]
  },
  {
   "cell_type": "markdown",
   "metadata": {
    "slideshow": {
     "slide_type": "slide"
    }
   },
   "source": [
    "**解：** 大屏幕系统寿命 $Z=\\min(X,Y)$, 由独立性有\n",
    "\n",
    "$$\n",
    "F_Z(z)=1-[1-F_X(z)][1-F_Y(z)]=\\begin{cases}\n",
    "1-e^{-\\alpha z} e^{-\\beta z},  z> 0\\\\\n",
    "0, z\\leq 0\\\\\n",
    "\\end{cases}\n",
    "$$\n",
    "\n",
    "所以\n",
    "\n",
    "$$\n",
    "f_Z(z)=\\begin{cases}\n",
    "(\\alpha +\\beta) e^{-(\\alpha +\\beta)z},  z> 0\\\\\n",
    "0, z\\leq 0\\\\\n",
    "\\end{cases}\n",
    "$$\n",
    "\n",
    "**可见指数分布的串联系统仍服从指数分布其失效率是每个部件的失效率之和**"
   ]
  },
  {
   "cell_type": "markdown",
   "metadata": {
    "slideshow": {
     "slide_type": "slide"
    }
   },
   "source": [
    "### 小 结\n",
    "\n",
    "1.两个独立随机变量和的分布的卷积公式:\n",
    "\n",
    "**离散情形**\n",
    "\n",
    "$$\n",
    "p_Z(z_k)=\\sum_i p_X(x_i)p_Y(z_k-x_i)\n",
    "$$\n",
    "\n",
    "$$\n",
    "p_Z(z_k)=\\sum_j p_X(z_k-y_j)p_Y(y_j)\n",
    "$$\n",
    "\n",
    "**连续情形**\n",
    "\n",
    "$$\n",
    "f_Z(z)=\\int_{-\\infty}^{+\\infty}f_X(x))f_Y(z-x){\\mathrm d x}\n",
    "$$\n",
    "\n",
    "$$\n",
    "f_Z(z)=\\int_{-\\infty}^{+\\infty}f_X(z-y)f_Y(y){\\mathrm d y}\n",
    "$$"
   ]
  },
  {
   "cell_type": "markdown",
   "metadata": {
    "slideshow": {
     "slide_type": "slide"
    }
   },
   "source": [
    "2.独立随机变量最大值与最小值分布：\n",
    "\n",
    "$$\n",
    "F_{\\max}(z)=F_X(z)F_Y(z)\n",
    "$$\n",
    "\n",
    "$$\n",
    "F_{\\min}=1-[1-F_X(z)][1-F_Y(z)]\n",
    "$$\n",
    "\n",
    "3.$n$ 个**独立同分布**随机变量最大值与最小值分布：\n",
    "\n",
    "$$\n",
    "F_{\\max}(z)=[F(z)]^n\n",
    "$$\n",
    "\n",
    "$$\n",
    "F_{\\min}(z)=1-[1-F(z)]^n\n",
    "$$"
   ]
  },
  {
   "cell_type": "markdown",
   "metadata": {
    "slideshow": {
     "slide_type": "slide"
    }
   },
   "source": [
    "### 思考题\n",
    "\n",
    "设二维随机变量 $(X,Y)$ 的联合概率密度为\n",
    "\n",
    "$$\n",
    "f(x,y)=\n",
    "\\begin{cases}\n",
    "2e^{-(x+2y)},  x> 0,y>0\\\\\n",
    "0, \\text{其它}\\\\\n",
    "\\end{cases}\n",
    "$$\n",
    "\n",
    "求随机变量 $Z=X+2Y$ 的概率密度.\n",
    "\n",
    "**分析：** 利用概率分布的定义，先求 $Z$ 的概率分布函数， 再根据概率分布函数与概率密度函数的关系求概率密度。"
   ]
  },
  {
   "cell_type": "markdown",
   "metadata": {
    "slideshow": {
     "slide_type": "slide"
    }
   },
   "source": [
    "**解：** 先求 $Z$ 的分布函数, 由定义可知\n",
    "\n",
    "$$\n",
    "F_Z(z)=P(Z\\leq z)=P(X+2Y\\leq z)=\\iint_{x+2y\\leq z}f(x,y){\\mathrm d x}{\\mathrm d y}\n",
    "$$\n",
    "\n",
    "当 $z\\leq 0$ 时, 显然有 $F_Z(z)=0$;当 $z>0$ 时, 有\n",
    "\n",
    "$$\n",
    "F_Z(z)=\\iint_{x+2y\\leq z}f(x,y){\\mathrm d x}{\\mathrm d y}=\\iint_R 2e^{-(x+2y)}{\\mathrm d x}{\\mathrm d y}\n",
    "$$\n",
    "\n",
    "其中积分区域 $R$ 如图所示,\n",
    "![](./figures/318.png)"
   ]
  },
  {
   "cell_type": "markdown",
   "metadata": {
    "slideshow": {
     "slide_type": "slide"
    }
   },
   "source": [
    "计算积分得\n",
    "\n",
    "$$\n",
    "\\begin{aligned}\n",
    "F_Z(z)\n",
    "&=2\\int_0^z e^{-x}{\\mathrm d x}\\int_0^{\\frac{z-x}{2}}e^{-2y}{\\mathrm d y}\\\\\n",
    "&=\\int_0^z e^{-x}(1-e^{-(z-x)}){\\mathrm d x}\\\\\n",
    "&=\\int_0^z (e^{-x}-e^{-z}){\\mathrm d x}\\\\\n",
    "&=1-(1+z)e^{-z}\n",
    "\\end{aligned}\n",
    "$$\n",
    "\n",
    "综上所述, $Z$ 的分布函数为\n",
    "\n",
    "$$\n",
    "F_Z(z)=\n",
    "\\begin{cases}\n",
    "1-(1+z)e^{-z}, z>0\\\\\n",
    "0, z\\leq 0\\\\\n",
    "\\end{cases}\n",
    "$$\n",
    "\n",
    "求导数, 即得 $Z$ 的概率密度为\n",
    "\n",
    "$$\n",
    "f_Z(z)=\n",
    "\\begin{cases}\n",
    "ze^{-z}, z>0\\\\\n",
    "0, z\\leq 0\\\\\n",
    "\\end{cases}\n",
    "$$"
   ]
  },
  {
   "cell_type": "markdown",
   "metadata": {
    "slideshow": {
     "slide_type": "slide"
    }
   },
   "source": [
    "**作业:**\n",
    "\n",
    "Page 85: 22, 24"
   ]
  }
 ],
 "metadata": {
  "kernelspec": {
   "display_name": "Python 3",
   "language": "python",
   "name": "python3"
  },
  "language_info": {
   "codemirror_mode": {
    "name": "ipython",
    "version": 3
   },
   "file_extension": ".py",
   "mimetype": "text/x-python",
   "name": "python",
   "nbconvert_exporter": "python",
   "pygments_lexer": "ipython3",
   "version": "3.5.2"
  },
  "livereveal": {
   "scroll": "True",
   "theme": "serif",
   "transition": "zoom"
  }
 },
 "nbformat": 4,
 "nbformat_minor": 0
}
