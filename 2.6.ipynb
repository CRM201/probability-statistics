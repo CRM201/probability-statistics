{
 "cells": [
  {
   "cell_type": "markdown",
   "metadata": {},
   "source": [
    "### §2.6 均匀分布    指数分布"
   ]
  },
  {
   "cell_type": "markdown",
   "metadata": {},
   "source": [
    "#### 1.均匀分布 "
   ]
  },
  {
   "cell_type": "markdown",
   "metadata": {},
   "source": [
    "**定义** 设连续随机变量 $X$ 的一切可能值充满某一有限区间 $[a, b]$, 且在该区间内任一点概率密度相同, 即密度函数 $f(x)$ 在区间 $[a, b]$ 上为常量, 称此分布为 **均匀分布(或等概率分布)**. 记作: $U(a, b)$."
   ]
  },
  {
   "cell_type": "markdown",
   "metadata": {},
   "source": [
    "当 $X$ 在 $[a, b]$ 上服从分布 $U(a, b)$ 时, 记作:\n",
    "\n",
    "$$\n",
    "X \\sim U(a, b).\n",
    "$$"
   ]
  },
  {
   "cell_type": "markdown",
   "metadata": {},
   "source": [
    "#### 应用背景举例:"
   ]
  },
  {
   "cell_type": "markdown",
   "metadata": {},
   "source": [
    "随机数四舍五入的舍入误差;\n",
    "\n",
    "每隔一定时间有一辆车通过车站, 乘客随机到达时的候车时间;\n",
    "\n",
    "在区间 $[a, b]$ 内随机取一个数."
   ]
  },
  {
   "cell_type": "markdown",
   "metadata": {},
   "source": [
    "#### 均匀分布的概率密度与分布函数"
   ]
  },
  {
   "cell_type": "markdown",
   "metadata": {},
   "source": [
    "##### (1) 概率密度"
   ]
  },
  {
   "cell_type": "markdown",
   "metadata": {},
   "source": [
    "在区间 $[a, b]$ 上概率密度 $f(x) = C (常数)$, 于是\n",
    "\n",
    "$$\n",
    "\\int_a^b C \\mathrm dx = C(b - a) = 1  \\implies C = \\frac{1}{b-a}\n",
    "$$"
   ]
  },
  {
   "cell_type": "markdown",
   "metadata": {},
   "source": [
    "又因为随机变量 $X$ 不可能取得区间 $[a, b]$ 外的值, 所以在 $[a, b]$ 外, 概率密度为零. 于是概率密度为\n",
    "\n",
    "$$\n",
    "f(x)=\n",
    "\\begin{cases}\n",
    "\\frac{1}{b-a}, \\quad a \\leq x \\leq b\\\\\n",
    "\\\\\n",
    "0, \\quad 其它\n",
    "\\end{cases}\n",
    "$$"
   ]
  },
  {
   "cell_type": "markdown",
   "metadata": {},
   "source": [
    "##### (2)分布函数"
   ]
  },
  {
   "cell_type": "markdown",
   "metadata": {},
   "source": [
    "当 $x < a$ 时,\n",
    "\n",
    "$$\n",
    "F(x) = \\int_{-\\infty}^x f(x) \\mathrm dx = 0\n",
    "$$"
   ]
  },
  {
   "cell_type": "markdown",
   "metadata": {},
   "source": [
    "当 $a \\leq x \\leq b$ 时,\n",
    "\n",
    "$$\n",
    "\\begin{align}\n",
    "F(x) & = \\int_{-\\infty}^a f(x) \\mathrm dx +  \\int_{a}^x f(x) \\mathrm dx = \\int_{a}^x f(x) \\mathrm dx \\\\\n",
    "& =\\int_a^x \\frac{1}{b-a} \\mathrm dx \\\\\n",
    "& = \\frac{x -a}{b-a}\\\\\n",
    "\\end{align}\n",
    "$$"
   ]
  },
  {
   "cell_type": "markdown",
   "metadata": {},
   "source": [
    "当 $x > b$ 时,\n",
    "\n",
    "$$\n",
    "\\begin{align}\n",
    "F(x) &=  \\int_{-\\infty}^a f(x) \\mathrm dx +  \\int_{a}^b f(x) \\mathrm dx+  \\int_{b}^x f(x) \\mathrm dx \\\\\n",
    "& = \\int_b^a f(x) \\mathrm dx  = \\int_a^b \\frac{1}{b-a} \\mathrm dx \\\\\n",
    "&= 1\n",
    "\\end{align}\n",
    "$$"
   ]
  },
  {
   "cell_type": "markdown",
   "metadata": {},
   "source": [
    "于是, 均匀分布的分布函数为\n",
    "\n",
    "$$\n",
    "F(x)=\n",
    "\\begin{cases}\n",
    "0, \\quad x<a\\\\\n",
    "\\\\\n",
    "\\frac{x -a}{b-a}, \\quad a \\leq x \\leq b\\\\\n",
    "\\\\\n",
    "1, \\quad x \\geq b\n",
    "\\end{cases}\n",
    "$$"
   ]
  },
  {
   "cell_type": "markdown",
   "metadata": {},
   "source": [
    "**例 1 ** 如果小数点后第二位数字按四舍五入处理, 记舍入误差为 $X$. 求 $X$ 的概率密度, 并求误差在 $0.002$ 至 $0.003$ 之间的概率."
   ]
  },
  {
   "cell_type": "markdown",
   "metadata": {},
   "source": [
    "**解 :** $X$ 的可能值范围为 $[-0.005, 0.005]$, 且\n",
    "\n",
    "$$\n",
    "X \\sim U(-0.005, 0.005).\n",
    "$$"
   ]
  },
  {
   "cell_type": "markdown",
   "metadata": {},
   "source": [
    "于是, $X$ 的概率密度为:\n",
    "\n",
    "$$\n",
    "\\begin{align}\n",
    "f(x) & = \n",
    "\\begin{cases}\n",
    "\\frac{1}{0.005 - (-0.005)}, \\quad -0.005 \\leq x \\leq 0.005\\\\\n",
    "\\\\\n",
    "0, \\quad 其它\n",
    "\\end{cases}\\\\\n",
    "\\\\\n",
    "& = \n",
    "\\begin{cases}\n",
    "100, \\quad -0.005 \\leq x \\leq 0.005\\\\\n",
    "\\\\\n",
    "0, \\quad 其它\n",
    "\\end{cases}\n",
    "\\end{align}\n",
    "$$\n",
    "\n",
    "所求概率为\n",
    "\n",
    "$$\n",
    "P(0.002 \\leq X \\leq 0.003) = \\int_{0.002}^{0.003} 100 \\mathrm dx = 0.1\n",
    "$$"
   ]
  },
  {
   "cell_type": "markdown",
   "metadata": {},
   "source": [
    "#### 2.指数分布"
   ]
  },
  {
   "cell_type": "markdown",
   "metadata": {},
   "source": [
    "\n",
    "**定义 ** 设连续随机变量 $X$ 的概率密度\n",
    "\n",
    "$$\n",
    "f(x) = \n",
    "\\begin{cases}\n",
    "\\lambda e^{-\\lambda x}, \\quad x > 0\\\\\n",
    "\\\\\n",
    "0,\\quad x \\leq 0\\\\\n",
    "\\end{cases}\n",
    "$$\n",
    "\n",
    "其中 $\\lambda > 0$ 为常数. 这种分布叫做**指数分布**.\n",
    "\n",
    "指数分布含有一个参数 $\\lambda$, 将此分布记为 $e(\\lambda)$.\n",
    "\n",
    "如果随机变量 $X$ 服从指数分布 $e(\\lambda)$, 则记为: $X \\sim e(\\lambda)$"
   ]
  },
  {
   "cell_type": "markdown",
   "metadata": {},
   "source": [
    "易知,\n",
    "\n",
    "$$\n",
    "\\int_{-\\infty}^{+\\infty} f(x) \\mathrm dx = \\int_0^{+\\infty} \\lambda e^{-\\lambda x} \\mathrm dx = -e^{-\\lambda x}|_0^{+\\infty} =1.\n",
    "$$"
   ]
  },
  {
   "cell_type": "markdown",
   "metadata": {},
   "source": [
    "密度函数 $f(x)$ 的图形:"
   ]
  },
  {
   "cell_type": "markdown",
   "metadata": {},
   "source": [
    "![](./figures/24.png)"
   ]
  },
  {
   "cell_type": "markdown",
   "metadata": {},
   "source": [
    "##### 应用背景举例:"
   ]
  },
  {
   "cell_type": "markdown",
   "metadata": {},
   "source": [
    "电子元件的寿命;\n",
    "\n",
    "顾客要求某种服务等待的时间;\n",
    "\n"
   ]
  },
  {
   "cell_type": "markdown",
   "metadata": {},
   "source": [
    "#### 指数分布的分布函数及其图形:"
   ]
  },
  {
   "cell_type": "markdown",
   "metadata": {},
   "source": [
    "$$\n",
    "F(x)=\n",
    "\\begin{cases}\n",
    "1 - e^{-\\lambda x}, \\quad x > 0\\\\\n",
    "\\\\\n",
    "0, \\quad x \\leq 0\n",
    "\\end{cases}\n",
    "$$"
   ]
  },
  {
   "cell_type": "markdown",
   "metadata": {},
   "source": [
    "![](./figures/25.png)"
   ]
  },
  {
   "cell_type": "markdown",
   "metadata": {},
   "source": [
    "**例 2** 某仪器装有三只独立工作的同型号电子元件, 其寿命(单位: h)都服从指数分布, 概率密度为\n",
    "\n",
    "$$\n",
    "f(x) = \n",
    "\\begin{cases}\n",
    "\\frac{1}{600} e^{- \\frac{x}{600}}, \\quad x>0\\\\\n",
    "\\\\\n",
    "0, \\quad x \\leq 0\\\\\n",
    "\\end{cases}\n",
    "$$\n",
    "\n",
    "试求该仪器在使用的最初 $200h$ 内至少有一只电子元件损坏的概率 $\\alpha$"
   ]
  },
  {
   "cell_type": "markdown",
   "metadata": {},
   "source": [
    "**解:** 设随机变量 $X$ 表示任一电子元件的寿命(单位: $h$), 则任一电子元件在 $200h$ 内损坏的概率为\n",
    "\n",
    "$$\n",
    "\\begin{align}\n",
    "p &= P(0 \\leq X \\leq 200) = \\int_0^{200} f(x) \\mathrm dx \\\\\n",
    "& = \\int_0^{200} \\frac{1}{600} e^{- \\frac{x}{600}} \\mathrm dx \\\\\n",
    "& = 1 - e^{- \\frac{1}{3}}\\\\\n",
    "\\end{align}\n",
    "$$\n",
    "\n",
    "因此所求概率为\n",
    "\n",
    "$$\n",
    "\\alpha = 1 - (1-p)^3 = 1 - e^{-1} \\approx 0.6321\n",
    "$$"
   ]
  },
  {
   "cell_type": "markdown",
   "metadata": {},
   "source": [
    "#### 正态分布的定义"
   ]
  },
  {
   "cell_type": "markdown",
   "metadata": {},
   "source": [
    "**定义** 若随机变量 $X$ 的概率密度为\n",
    "\n",
    "$$\n",
    "f(x) = \\frac{1}{\\sqrt{(2 \\pi)} \\sigma} e^{-\\frac{(x - \\mu)^2}{2 \\sigma^2}},\\quad -\\infty < x < +\\infty\n",
    "$$\n",
    "\n",
    "其中 $\\mu$ 及 $\\sigma > 0$ 都是常数, 则称随机变量 $X$ 服从 **正态分布(或高斯(Gauss)分布)**. 记作:\n",
    "\n",
    "$$\n",
    "X \\sim N(\\mu, \\sigma^2).\n",
    "$$\n",
    "\n",
    "特别, 当 $\\mu = 0, \\sigma=1$ 时称 $X$ 服从**标准正态分布**. 记为\n",
    "\n",
    "$$\n",
    "X \\sim N(0, 1)\n",
    "$$"
   ]
  },
  {
   "cell_type": "markdown",
   "metadata": {},
   "source": [
    "#### 正态分布是最常见因而也是最重要的分布:"
   ]
  },
  {
   "cell_type": "markdown",
   "metadata": {},
   "source": [
    "1. 很多随机现象可以用正态分布描述或近似描述;\n",
    "2. 在一定条件下, 某些概率分布可以利用正态分布近似计算;\n",
    "3. 在非常一般的充分条件下, 大量独立随机变量的和近似地服从正态分布;\n",
    "4. 数理统计中的某些常用分布是由正态分布推导得到的."
   ]
  },
  {
   "cell_type": "markdown",
   "metadata": {},
   "source": [
    "#### 正态分布的概率密度和分布函数\n"
   ]
  },
  {
   "cell_type": "markdown",
   "metadata": {},
   "source": [
    "正态分布 $N(\\mu, \\sigma^2)$ 的概率密度 $f(x)$ 的图形：\n",
    "\n"
   ]
  },
  {
   "cell_type": "markdown",
   "metadata": {},
   "source": [
    "![](./figures/26.png)"
   ]
  },
  {
   "cell_type": "markdown",
   "metadata": {},
   "source": [
    "分布曲线的特征:\n",
    "\n",
    "1. 关于直线 $x = \\mu$ 对称;\n",
    "2. 在 $x = \\mu$ 处到达最大值;\n",
    "3. 在 $x = \\mu \\pm \\sigma $ 处有拐点;\n",
    "4. $x \\to \\infty$ 时曲线以 $x$ 轴为渐进线;\n",
    "5. 固定 $\\sigma$, 改变 $\\mu$, 则图形沿 $x$ 轴平移而不改变其形状;\n",
    "6. 固定 $\\mu$, 改变 $\\sigma$, 则当 $\\sigma$ 很小时, 曲线形状与一尖塔相似;当 $\\sigma$ 值增大时, 曲线将趋于平坦."
   ]
  },
  {
   "cell_type": "markdown",
   "metadata": {},
   "source": [
    "![](./figures/27.png)"
   ]
  },
  {
   "cell_type": "markdown",
   "metadata": {},
   "source": [
    "正态分布 $N(\\mu, \\sigma^2)$ 的分布函数为\n",
    "\n",
    "$$\n",
    "F(x) = \\frac{1}{\\sqrt{(2 \\pi)} \\sigma} \\int_{-\\infty}^x e^{-\\frac{(x - \\mu)^2}{2 \\sigma^2}} \\mathrm dx,\\quad -\\infty < x < +\\infty\n",
    "$$"
   ]
  },
  {
   "cell_type": "markdown",
   "metadata": {},
   "source": [
    "![](./figures/28.png)"
   ]
  },
  {
   "cell_type": "markdown",
   "metadata": {},
   "source": [
    "#### 标准正态分布的概率密度:\n",
    "\n"
   ]
  },
  {
   "cell_type": "markdown",
   "metadata": {},
   "source": [
    "$$\n",
    "\\phi (x) = \\frac{1}{\\sqrt{{2 \\pi}}} e^{-\\frac{x^2}{2}}, \\quad -\\infty < x < +\\infty\n",
    "$$"
   ]
  },
  {
   "cell_type": "markdown",
   "metadata": {},
   "source": [
    "#### 标准正态分布的分布函数:\n"
   ]
  },
  {
   "cell_type": "markdown",
   "metadata": {},
   "source": [
    "$$\n",
    "\\Phi (x) = \\frac{1}{\\sqrt{{2 \\pi}}} \\int_{-\\infty}^x e^{- \\frac{t^2}{2}} \\mathrm dt\n",
    "$$"
   ]
  },
  {
   "cell_type": "markdown",
   "metadata": {},
   "source": [
    "$\\Phi(x)$ 的性质:\n",
    "\n",
    "$\\Phi(0) = 0.5; \\quad \\Phi(+\\infty) = 1; \\quad \\Phi(-x) = 1 - \\Phi(x)$"
   ]
  },
  {
   "cell_type": "markdown",
   "metadata": {},
   "source": [
    "**例 1 ** 设 $X$ 服从标准正态分布 $N(0, 1)$, 求\n",
    "\n",
    "(1) $P(X \\leq 1.96)$\n",
    "\n",
    "(2) $P(-1.6 < X \\leq 2.5)$."
   ]
  },
  {
   "cell_type": "markdown",
   "metadata": {},
   "source": [
    "**解 :** \n",
    "\n",
    "(1) $P(X \\leq 1.96) = \\Phi(1.96)= 0.975$"
   ]
  },
  {
   "cell_type": "markdown",
   "metadata": {},
   "source": [
    "(2) \n",
    "\n",
    "$\n",
    "\\begin{align}\n",
    "P(-1.6 < X \\leq 2.5) & = \\Phi(2.5) - \\Phi(-1.6)\\\\\n",
    "& = \\Phi(2.5) - [1 - \\Phi(1.6)]\\\\\n",
    "& = \\Phi(2.5) -1 + \\Phi(1.6)\\\\\n",
    "& = 0.9938 -1 +0.9452\\\\\n",
    "& = 0.9390\n",
    "\\end{align}\n",
    "$"
   ]
  },
  {
   "cell_type": "markdown",
   "metadata": {},
   "source": [
    "#### 关于一般正态分布与标准正态分布的关系, 我们有下面的结论:"
   ]
  },
  {
   "cell_type": "markdown",
   "metadata": {},
   "source": [
    "**结论 1** 若 $X \\sim N(\\mu, \\sigma^2)$, 则 $Y = \\frac{X - \\mu}{\\sigma} \\sim N(0, 1)$."
   ]
  },
  {
   "cell_type": "markdown",
   "metadata": {
    "collapsed": true
   },
   "source": [
    "**结论 2** 一般正态分布的分布函数 $F(x)$ 与标准正态分布的分布函数 $\\Phi(x)$ 之间关系为 \n",
    "\n",
    "$$\n",
    "F(x) = \\Phi (\\frac{x - \\mu}{\\sigma})\n",
    "$$"
   ]
  },
  {
   "cell_type": "markdown",
   "metadata": {
    "collapsed": true
   },
   "source": [
    "**证明** 令 $\\frac{x - \\mu}{\\sigma} = t$ 得\n",
    "\n",
    "$$\n",
    "\\begin{align}\n",
    "F(x) &= \\int_{-\\infty}^x \\frac{1}{\\sqrt{{2 \\pi}}} e^{-\\frac{(x - \\mu)^2}{2 \\sigma^2}} \\mathrm dx \\\\\n",
    "& = \\sqrt{{2 \\pi}} \\int_{-\\infty}^{\\frac{x - \\mu}{\\sigma}} e^{-\\frac{t^2}{2}} \\mathrm dt \\\\\n",
    "& = \\Phi(\\frac{x - \\mu}{\\sigma})\\\\\n",
    "\\end{align}\n",
    "$$"
   ]
  },
  {
   "cell_type": "markdown",
   "metadata": {
    "collapsed": true
   },
   "source": [
    "**例 2 ** 已知 $X \\sim N(8, 4^2)$, 求 $P(X \\leq 16), P(X \\leq 0)$ 及 $P(12 < X \\leq 20)$"
   ]
  },
  {
   "cell_type": "markdown",
   "metadata": {
    "collapsed": true
   },
   "source": [
    "**解 : ** 由结论 2 知\n",
    "\n",
    "$$\n",
    "\\begin{align}\n",
    "P(X \\leq 16) & = F(16) = \\Phi(\\frac{16 - 8}{4}) = \\Phi(2) =0.9772\\\\\n",
    "P(X \\leq 0) & = F(0) = \\Phi(\\frac{0 - 8}{4}) = \\Phi(-2) \\\\\n",
    "& = 1 - \\Phi(2) = 0.0228\\\\\n",
    "P(12 < X \\leq 20) & = F(20) - F(12) = \\Phi(\\frac{20 - 8}{4}) - \\Phi(\\frac{12 - 8}{4})\\\\\n",
    "& = \\Phi(3) - \\Phi(1) = 0.9987 - 0.8413 \\\\\n",
    "& = 0.1574\\\\\n",
    "\\end{align}\n",
    "$$"
   ]
  },
  {
   "cell_type": "markdown",
   "metadata": {
    "collapsed": true
   },
   "source": [
    "**例 3 ** 抽样表明某市新生儿童体重 $X$(单位: $kg$)近似服从正态分布 $N(3.4, \\sigma^2)$, 已知该市新生儿体重不足 $2kg$的占 $3.1 \\%$, 求该市新生儿童体重超过 $4kg$ 的百分比. "
   ]
  },
  {
   "cell_type": "markdown",
   "metadata": {
    "collapsed": true
   },
   "source": [
    "**解 :** 由题设 $X \\sim N(3.4, \\sigma^2)$, 且 $P(X < 2)= 0.031$ \n",
    "\n",
    "于是 $\\Phi(\\frac{2 - 3.4}{\\sigma}) = 0.031$ 从而 $\\Phi(\\frac{1.4}{\\sigma}) = 0.969$ \n",
    "\n",
    "查标准正态分布表, 得 $\\frac{1.4}{\\sigma} = 1.87, \\sigma = 0.7487$ \n",
    "\n",
    "故 \n",
    "\n",
    "$$\n",
    "P(X > 4) = 1 - F(4) = 1 - \\Phi(\\frac{4 - 3.4}{0.7487})=0.2119\n",
    "$$"
   ]
  },
  {
   "cell_type": "markdown",
   "metadata": {},
   "source": [
    "**例 4 ** 设 $X \\sim N(0, 1)$, 求 $x$ 使 $P(|X| \\geq x) = 0.1$"
   ]
  },
  {
   "cell_type": "markdown",
   "metadata": {},
   "source": [
    "**解 :** \n",
    "\n",
    "$$\n",
    "\\begin{align}\n",
    "P(|X| \\geq x) & = 1-P(|X|< x)\\\\\n",
    "& = 1 - P(-x < X < x)\\\\\n",
    "& = 1 - [\\Phi(x) - \\Phi(-x)]\\\\\n",
    "& = 2 - 2 \\Phi(x)\\\\\n",
    "\\end{align}\n",
    "$$\n",
    "\n",
    "要使 $P(|X| \\geq x) = 2 - 2 \\Phi(x) = 0.1$\n",
    "\n",
    "相当于 $\\Phi(x) = 0.95$\n",
    "\n",
    "查表得 $x = 1.645$"
   ]
  },
  {
   "cell_type": "markdown",
   "metadata": {},
   "source": [
    "#### 小结"
   ]
  },
  {
   "cell_type": "markdown",
   "metadata": {},
   "source": [
    "1. 均匀分布: 背景, 定义, 密度函数, 分布函数.\n",
    "2. 指数分布: 背景, 定义, 密度函数及其图形, 分布函数."
   ]
  },
  {
   "cell_type": "markdown",
   "metadata": {},
   "source": [
    "#### 思考题"
   ]
  },
  {
   "cell_type": "markdown",
   "metadata": {},
   "source": [
    "设随机变量 $X$ 服从 $(0, 5)$ 上的均匀分布, 求方程\n",
    "\n",
    "$$\n",
    "4 x^2 + 4 X x + X + 2 = 0\n",
    "$$\n",
    "\n",
    "有实根的概率."
   ]
  },
  {
   "cell_type": "markdown",
   "metadata": {},
   "source": [
    "**解 :** 当且仅当\n",
    "\n",
    "$$\n",
    "(4 X)^2 - 16(X + 2) \\geq 0\n",
    "$$ \n",
    "\n",
    "即 \n",
    "\n",
    "$$\n",
    "X \\geq 2 或 X \\leq -1\n",
    "$$\n",
    "\n",
    "成立时, 方程 $4 x^2 + 4 X x + X + 2 = 0$ 有实根."
   ]
  },
  {
   "cell_type": "markdown",
   "metadata": {},
   "source": [
    "因此该方程有实根的概率为\n",
    "\n",
    "$$\n",
    "\\begin{align}\n",
    "p & = P\\{X \\geq 2\\} + P\\{X \\leq -1 \\} \\\\\n",
    "& = P\\{X \\geq 2\\} = P\\{2 \\leq X < 5\\}\\\\\n",
    "& = \\int_2^5 \\frac{1}{5} \\mathrm dx \\\\\n",
    "& = \\frac{3}{5}\n",
    "\\end{align}\n",
    "$$"
   ]
  }
 ],
 "metadata": {
  "kernelspec": {
   "display_name": "SageMath 7.5.1",
   "language": "",
   "name": "sagemath"
  },
  "language_info": {
   "codemirror_mode": {
    "name": "ipython",
    "version": 2
   },
   "file_extension": ".py",
   "mimetype": "text/x-python",
   "name": "python",
   "nbconvert_exporter": "python",
   "pygments_lexer": "ipython2",
   "version": "2.7.13"
  }
 },
 "nbformat": 4,
 "nbformat_minor": 0
}
