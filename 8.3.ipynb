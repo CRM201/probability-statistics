{
 "cells": [
  {
   "cell_type": "markdown",
   "metadata": {
    "slideshow": {
     "slide_type": "slide"
    }
   },
   "source": [
    "## 8.3  总体分布的假设检验"
   ]
  },
  {
   "cell_type": "markdown",
   "metadata": {
    "slideshow": {
     "slide_type": "fragment"
    }
   },
   "source": [
    "在前面的章节中 , 我们已经了解了假设检验的基本思想 , 并讨论了当总体分布为正态时 , 关于其中未知参数的假设检验问题 . 然而可能遇到这样的情形, 总体服从何种理论分布并不知道 , 要求我们直接对总体分布提出一个假设 ."
   ]
  },
  {
   "cell_type": "markdown",
   "metadata": {
    "slideshow": {
     "slide_type": "fragment"
    }
   },
   "source": [
    "例如, 从 $1500$ 到 $1931$ 年的 $432$ 年间, 每年爆发战争的次数可以看作一个随机变量, 椐统计, 这 $432$ 年间共爆发了 $299$ 次战争, 具体数据如下:"
   ]
  },
  {
   "cell_type": "markdown",
   "metadata": {
    "slideshow": {
     "slide_type": "subslide"
    }
   },
   "source": [
    "$$\n",
    "\\begin{array}{|c|l|}\n",
    "\\hline\n",
    "\\text{战争次数 $X$} & \\text{发生 $X$ 次战争的年数}\\\\\n",
    "\\hline\n",
    "0 & 223\\\\\n",
    "\\hline\n",
    "1&142\\\\\n",
    "\\hline\n",
    "2&48\\\\\n",
    "\\hline\n",
    "3&15\\\\\n",
    "\\hline\n",
    "4&4\\\\\n",
    "\\hline\n",
    "\\end{array}\n",
    "$$"
   ]
  },
  {
   "cell_type": "markdown",
   "metadata": {
    "slideshow": {
     "slide_type": "subslide"
    }
   },
   "source": [
    "在概率论中, 大家对泊松分布产生的一般条件已有所了解, 容易想到, 每年爆发战争的次数, 可以用一个泊松随机变量来近似描述. 也就是说, 我们可以假设每年爆发战争次数分布X近似泊松分布. 现在的问题是: 上面的数据能否证实 $X$ 具有泊松分布的假设是正确的？"
   ]
  },
  {
   "cell_type": "markdown",
   "metadata": {
    "slideshow": {
     "slide_type": "fragment"
    }
   },
   "source": [
    "例如, 某钟表厂对生产的钟进行精确性检查, 抽取100个钟作试验, 拨准后隔24小时以后进行检查, 将每个钟的误差（快或慢）按秒记录下来. 问该厂生产的钟的误差是否服从正态分布？"
   ]
  },
  {
   "cell_type": "markdown",
   "metadata": {
    "slideshow": {
     "slide_type": "subslide"
    }
   },
   "source": [
    "又如, 某工厂制造一批骰子, 声称它是均匀的. 也就是说, 在投掷中, 出现 $1,2,\\dots, 6$ 点的概率都应是 $1/6$. 为检验骰子是否均匀, 要把骰子实地投掷若干次, 统计各点出现的频率与 $1/6$ 的差距. 问题是: 得到的数据能否说明 “骰子均匀” 的假设是可信的？"
   ]
  },
  {
   "cell_type": "markdown",
   "metadata": {
    "slideshow": {
     "slide_type": "subslide"
    }
   },
   "source": [
    "解决这类问题的工具: 英国统计学家K. 皮尔逊在 $1900$ 年发表的一篇文章中引进的所谓 $\\chi^2$ 检验法. 这是一项很重要的工作, 不少人把它视为近代统计学的开端.\n"
   ]
  },
  {
   "cell_type": "markdown",
   "metadata": {
    "slideshow": {
     "slide_type": "fragment"
    }
   },
   "source": [
    "$\\chi^2$ 检验法是在总体 $X$ 的分布未知时, 根据来自总体的样本, 检验关于总体分布的假设的一种检验方法."
   ]
  },
  {
   "cell_type": "markdown",
   "metadata": {
    "slideshow": {
     "slide_type": "subslide"
    }
   },
   "source": [
    "使用 $\\chi^2$ 检验法对总体分布进行检验时, 我们先提出原假设:\n",
    "\n",
    "$H_0$: 总体X服从某一理论分布\n",
    "\n",
    "然后根据样本的经验分布和所假设的理论分布之间的吻合程度来决定是否接受原假设. 这种检验通常称作拟合优度检验, 它是一种非参数检验. \n"
   ]
  },
  {
   "cell_type": "markdown",
   "metadata": {
    "slideshow": {
     "slide_type": "subslide"
    }
   },
   "source": [
    "在用 $\\chi^2$ 检验法检验假设 $H_0$ 时, 若在 $H_0$ 下分布类型已知, 但其参数未知, 这时需要先用极大似然估计法估计参数, 然后作检验.\n",
    "\n",
    "分布拟合的 $\\chi^2$ 检验法的基本原理和步骤如下:\n",
    "1. 将总体X的取值范围分成 $l$ 个互不重迭的小区间,记作 $A_1, A_2, \\dots, A_l$\n",
    "1. 把落入第 $i$ 个小区间 $A_i$ 的样本值的个数记作 $m_i$, 称为实测频数. 所有实测频数之和 $m_1+ m_2+\\dots+ m_l$ 等于样本容量 $n$.\n",
    "1. 根据所假设的理论分布, 可以算出总体 $X$ 的值落入每个 $A_i$ 的概率 $p_i$, 于是$np_i$就是落入 $A_i$ 的样本值的理论频数.\n"
   ]
  },
  {
   "cell_type": "markdown",
   "metadata": {
    "slideshow": {
     "slide_type": "subslide"
    }
   },
   "source": [
    "$m_i-np_i$ 标志着经验分布与理论分布之间的差异的大小, 皮尔逊引进如下统计量表示经验分布与理论分布之间的差异:\n",
    "\n",
    "$$\n",
    "\\chi^2=\\sum_{i=1}^{l}\\frac{(m_i-np_i)^2}{np_i}\n",
    "$$\n",
    "\n",
    "统计量  $\\chi^2 $ 的分布是什么? \n",
    "\n",
    "皮尔逊证明了如下定理:"
   ]
  },
  {
   "cell_type": "markdown",
   "metadata": {
    "slideshow": {
     "slide_type": "subslide"
    }
   },
   "source": [
    "**定理3.1** $~$ 如果原假设 $H_0$ 成立, 则在样本容量 $n\\to+\\infty$ 时, 统计量 $\\chi^2$ 的分布趋于自由度为 $l-r-1$ 的 $\\chi^2$ 分布, 其中 $r$ 是理论分布中需要由样本估计的未知参数的个数."
   ]
  },
  {
   "cell_type": "markdown",
   "metadata": {
    "slideshow": {
     "slide_type": "subslide"
    }
   },
   "source": [
    "根据这个定理, 对给定的显著性水平 $\\alpha$, 查 $\\chi^2$ 分布表可得临界值 $\\chi_{\\alpha}^2$ ，使得\n",
    "\n",
    "$$\n",
    "P(\\chi^2>\\chi_{\\alpha}^2)=\\alpha\n",
    "$$\n",
    "\n",
    "得拒绝域:\n",
    "\n",
    "$$\n",
    "\\chi^2>\\chi_{\\alpha}^2(k-1)(不需要估计参数)\\\\\n",
    "\\chi^2>\\chi_{\\alpha}^2(k-r-1)(估计 r 个参数)\n",
    "$$"
   ]
  },
  {
   "cell_type": "markdown",
   "metadata": {
    "slideshow": {
     "slide_type": "subslide"
    }
   },
   "source": [
    "如果根据所给的样本值 $X_1,X_2, \\dots,X_n$算得统计量 $\\chi^2$ 的实测值落入拒绝域, 则拒绝原假设, 否则就认为差异不显著而接受原假设."
   ]
  },
  {
   "cell_type": "markdown",
   "metadata": {
    "slideshow": {
     "slide_type": "fragment"
    }
   },
   "source": [
    "为了便于理解, 我们对定理作一点直观的说明.在理论分布 $F(x)$ 完全给定的情况下, 每个 $p_i$ 都是确定的常数. 由棣莫佛－拉普拉斯中心极限定理, 当 $n$ 充分大时, 实测频数 $m_i$ 渐近正态, 因此\n",
    "\n",
    "$$\n",
    "\\chi^2=\\sum_{i=1}^{l}\\frac{(m_i-np_i)^2}{np_i}\n",
    "$$\n",
    "\n",
    "是 $l$ 个近似正态的变量的平方和. 这些变量之间存在着一个制约关系,"
   ]
  },
  {
   "cell_type": "markdown",
   "metadata": {
    "slideshow": {
     "slide_type": "subslide"
    }
   },
   "source": [
    "$$\n",
    "\\sum_{i=1}^{l}\\frac{\\sqrt{p_i}(m_i-np_i)}{\\sqrt{np_i}}=0\n",
    "$$\n",
    "\n",
    "故统计量 $\\chi^2$ 渐近 $(l-1)$ 个自由度的 $\\chi^2$ 分布."
   ]
  },
  {
   "cell_type": "markdown",
   "metadata": {
    "slideshow": {
     "slide_type": "subslide"
    }
   },
   "source": [
    "在 $F(x)$ 尚未完全给定的情况下, 每个未知参数用相应的估计量代替, 就相当于增加一个制约条件, 因此,自由度也随之减少一个. 若有 $r$ 个未知参数需用相应的估计量来代替, 自由度就减少 $r$ 个, 此时统计量 $\\chi^2$ 渐近 $(l-r-1)$ 个自由度的 $\\chi^2$ 分布."
   ]
  },
  {
   "cell_type": "markdown",
   "metadata": {
    "slideshow": {
     "slide_type": "fragment"
    }
   },
   "source": [
    "皮尔逊定理是在 $n$ 无限增大时推导出来的, 因而在使用时要注意 $n$ 要足够大, 以及 $np_i$ 不太小这两个条件.根据计算实践, 要求 $n$ 不小于 $50$ ,以及 $np_i$ 都不小于 $5$. 否则应适当合并区间, 使 $np_i$ 满足这个要求 .\n"
   ]
  },
  {
   "cell_type": "markdown",
   "metadata": {
    "slideshow": {
     "slide_type": "subslide"
    }
   },
   "source": [
    "让我们回到开始的一个例子, 检验每年爆发战争次数分布是否服从泊松分布.\n",
    "\n",
    "提出假设 $H_0$: $X$ 服从参数为 $\\lambda$ 的泊松分布\n",
    "\n",
    "根据观察结果, 得参数 $\\lambda$ 的极大似然估计为\n",
    "\n",
    "$$\n",
    "\\widehat \\lambda=\\overline X=0.69\n",
    "$$"
   ]
  },
  {
   "cell_type": "markdown",
   "metadata": {
    "slideshow": {
     "slide_type": "subslide"
    }
   },
   "source": [
    "按参数为 $0.69$ 的泊松分布, 计算事件 $X=i$ 的概率 $p_i$, $p_i$ 的估计是\n",
    "\n",
    "$$\n",
    "\\widehat p_i=e^{-0.69}0.69^i/i!,\\qquad i=0,1,2,3,4\n",
    "$$\n",
    "\n",
    "将有关计算结果列表如下："
   ]
  },
  {
   "cell_type": "markdown",
   "metadata": {
    "slideshow": {
     "slide_type": "subslide"
    }
   },
   "source": [
    "$$\n",
    "\\begin{array}{|c|l|l|l|l|l|}\n",
    "\\hline\n",
    "\\text{战争次数 $X$} & 0 &  １& ２ & ３ &４\\\\\n",
    "\\hline\n",
    "\\text{实测频数 $f_i$}& 223 & 142 & 48 & 15 & 4\\\\\n",
    "\\hline\n",
    "\\widehat p_i &  0.58 &0.31 & 0.18 &0.01 & 0.02\\\\\n",
    "\\hline\n",
    "n^{\\widehat p_i} & 216.7 & 149.5 & 51.6  & 12.0 & 2.16\\\\\n",
    "\\hline\n",
    "\\frac{(m_i-np_i)^2}{np_i} & 0.183 & 0.376 & 0.251 & 1.623 & \\sum = 2.43\\\\\n",
    "\\hline\n",
    "\\end{array}\n",
    "$$"
   ]
  },
  {
   "cell_type": "markdown",
   "metadata": {
    "slideshow": {
     "slide_type": "subslide"
    }
   },
   "source": [
    "将 $n\\widehat p_i<5$ 的组予以合并, 即将发生 $3$ 次及 $4$ 次战争的组归并为一组. 因 $H_0$ 所假设的理论分布中有一个未知参数, 故自由度为 $4-1-1=2$.\n",
    "\n",
    "按 $\\alpha=0.05$, 自由度为 $4-1-1=2$ 查 $\\chi^2$ 布表得\n",
    "\n",
    "$$\n",
    "\\chi_{0.05}^{2}(2)=5.991\n",
    "$$"
   ]
  },
  {
   "cell_type": "markdown",
   "metadata": {
    "slideshow": {
     "slide_type": "subslide"
    }
   },
   "source": [
    "由于统计量 $\\chi^2$ 的实测值\n",
    "\n",
    "$$\n",
    "\\chi^2 = 2.43<5.991\n",
    "$$\n",
    "\n",
    "未落入否定域, 故认为每年发生战争的次数 $X$ 服从参数为 $0.69$ 的泊松分布."
   ]
  },
  {
   "cell_type": "markdown",
   "metadata": {
    "slideshow": {
     "slide_type": "subslide"
    }
   },
   "source": [
    "在此, 我们以遗传学上的一项伟大发现为例, 说明统计方法在研究自然界和人类社会的规律性时, 是起着积极的、主动的作用, 奥地利生物学家孟德尔进行了长达八年之久的豌豆杂交试验, 并根据试验结果, 运用他的数理知识, 发现了遗传的基本规律."
   ]
  },
  {
   "cell_type": "markdown",
   "metadata": {
    "slideshow": {
     "slide_type": "fragment"
    }
   },
   "source": [
    "![](./figures/83.png)"
   ]
  },
  {
   "cell_type": "markdown",
   "metadata": {
    "slideshow": {
     "slide_type": "fragment"
    }
   },
   "source": [
    "根据他的理论, 子二代中, 黄、绿之比近似为 $3:1$, 他的一组观察结果为: 黄 $70$，绿 $27$, 近似为 $2.59:1$, 与理论值相近."
   ]
  },
  {
   "cell_type": "markdown",
   "metadata": {
    "slideshow": {
     "slide_type": "subslide"
    }
   },
   "source": [
    "由于随机性, 观察结果与 $3:1$ 总有些差距, 因此有必要去考察某一大小的差异是否已构成否定 $3:1$ 理论的充分根据, 这就是如下的检验问题.\n",
    "\n",
    "检验孟德尔的 $3:1$ 理论:\n",
    "\n",
    "$$\n",
    "提出假设 H_0:    p1=3/4, p2=1/4\n",
    "$$\n",
    "\n",
    "这里, $n=70+27=97$ ,$l=2$, 理论频数为: $np_1=72.75, np_2=24.25$, 实测频数为 $70, 27$."
   ]
  },
  {
   "cell_type": "markdown",
   "metadata": {
    "slideshow": {
     "slide_type": "subslide"
    }
   },
   "source": [
    "统计量\n",
    "\n",
    "$$\n",
    "\\chi^2 =\\sum_{i=1}^{2}\\frac{(m_i-np_i)^2}{np_i}～\\chi^2(1)\n",
    "$$\n",
    "\n",
    "按 $\\alpha =0.05$, 自由度为 $1$, 查 $\\chi^2$ 分布表得\n",
    "\n",
    "$$\n",
    "\\chi_{0.05}^2(1)=3.841\n",
    "$$"
   ]
  },
  {
   "cell_type": "markdown",
   "metadata": {
    "slideshow": {
     "slide_type": "subslide"
    }
   },
   "source": [
    "由于统计量 $\\chi^2$ 的实测值\n",
    "\n",
    "$$\n",
    "\\chi^2=0.4185<3.841\n",
    "$$\n",
    "\n",
    "未落入否定域. 故认为试验结果符合孟德尔的 $3:1$ 理论."
   ]
  },
  {
   "cell_type": "markdown",
   "metadata": {
    "slideshow": {
     "slide_type": "subslide"
    }
   },
   "source": [
    "这些试验及其它一些试验, 都显示孟德尔的 $3:1$ 理论与实际是符合的. 这本身就是统计方法在科学中的一项重要应用. 用于客观地评价理论上的某个结论是否与观察结果相符, 以作为该理论是否站得住脚的印证."
   ]
  },
  {
   "cell_type": "markdown",
   "metadata": {
    "slideshow": {
     "slide_type": "subslide"
    }
   },
   "source": [
    "### 小结"
   ]
  },
  {
   "cell_type": "markdown",
   "metadata": {
    "slideshow": {
     "slide_type": "fragment"
    }
   },
   "source": [
    "用皮尔逊(Pearson) $\\chi^2$ 拟合检验理论分布与已给统计分布之间的差异.总体分布的假设检验表\n",
    "\n",
    "$$\n",
    "\\begin{array}{|c|l|}\n",
    "\\hline\n",
    "\\text{原假设 $H_0$} &  \\text{ 在显著性水平 $\\alpha$ 下关于 $H_0$ 的拒绝域}\\\\\n",
    "\\hline\n",
    "\\text{X～某一分布}& \\text{$\\chi^2>\\chi_{\\alpha}^2(k-r-1)$}\\\\\n",
    "\\hline\n",
    "\\end{array}\n",
    "$$"
   ]
  },
  {
   "cell_type": "markdown",
   "metadata": {
    "slideshow": {
     "slide_type": "fragment"
    }
   },
   "source": [
    "这一节我们介绍了拟合优度的 $\\chi^2$ 检验法, 在对总体的分布进行检验时经常使用, 教材上的例 3.1 留给同学们自己看, 由于这种检验的计算量相对较大, 一般要用统计软件包来实现."
   ]
  }
 ],
 "metadata": {
  "celltoolbar": "Slideshow",
  "kernelspec": {
   "display_name": "Python 3",
   "language": "python",
   "name": "python3"
  },
  "language_info": {
   "codemirror_mode": {
    "name": "ipython",
    "version": 3
   },
   "file_extension": ".py",
   "mimetype": "text/x-python",
   "name": "python",
   "nbconvert_exporter": "python",
   "pygments_lexer": "ipython3",
   "version": "3.5.2"
  },
  "livereveal": {
   "height": 768,
   "scroll": "True",
   "slideNumber": "True",
   "start_slideshow_at": "selected",
   "theme": "sky",
   "width": 1024
  }
 },
 "nbformat": 4,
 "nbformat_minor": 1
}
