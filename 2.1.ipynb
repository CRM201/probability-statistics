{
 "cells": [
  {
   "cell_type": "markdown",
   "metadata": {},
   "source": [
    "##  第二章 随机变量及其分布"
   ]
  },
  {
   "cell_type": "markdown",
   "metadata": {},
   "source": [
    "### §2.1 随机变量的概念"
   ]
  },
  {
   "cell_type": "markdown",
   "metadata": {},
   "source": [
    "为了全面研究随机实验的结果(随机事件), 借助数学分析的工具研究概率论, 我们将随机实验的结果与实数对应起来, 建立实数与基本事件的对应关系, 将随机实验的结果数量化, 从而引入随机变量的概念."
   ]
  },
  {
   "cell_type": "markdown",
   "metadata": {},
   "source": [
    "如何将随机实验的结果数量化？"
   ]
  },
  {
   "cell_type": "markdown",
   "metadata": {},
   "source": [
    "先看下面几个例子："
   ]
  },
  {
   "cell_type": "markdown",
   "metadata": {},
   "source": [
    "**例 1** 抛一枚硬币一次,$\\omega_1$:出现正面(徽花向上), $\\omega_2$:出现反面(字向上), \n",
    "\n",
    "$$\n",
    "\\Omega = \\{\\omega_1, \\omega_2\\},\n",
    "$$\n",
    "\n",
    "令 \n",
    "\n",
    "$$\n",
    "X = \n",
    "\\begin{cases}\n",
    "0, \\quad \\omega = \\omega_2\\\\\n",
    "1, \\quad \\omega = \\omega_1\n",
    "\\end{cases}\n",
    "$$\n",
    "\n",
    "这样, 随机实验的每一个样本点都有一个唯一确定的实验和它对应, 且变量 $X$ 的取值是随机的."
   ]
  },
  {
   "cell_type": "markdown",
   "metadata": {},
   "source": [
    "**例 2** 任取一只灯泡测量寿命.\n",
    "\n",
    "样本点: $\\omega_x$: 测得寿命为 $x$ 小时.\n",
    "\n",
    "样本空间： $\\Omega = \\{\\omega_x| 0 \\leq x \\leq +\\infty \\}$\n",
    "\n",
    "设 $x$ 表示灯泡的寿命, 则\n",
    "\n",
    "$$\n",
    "X = x,\\quad \\omega = \\omega_x\\quad( 0 \\leq x \\leq +\\infty)\n",
    "$$"
   ]
  },
  {
   "cell_type": "markdown",
   "metadata": {},
   "source": [
    "**例 3** 一批零件含有 $10$ 个正品 $4$ 个废品, 使用时从中随机任取一个, 取出的废品不再放回, 考虑取得正品时已取出的废品的个数.\n",
    "\n",
    "设 $X$ 表示取得正品时已取出的废品的个数, 则 $X$ 可能的取值为:\n",
    "\n",
    "$$\n",
    "0, 1, 2, 3, 4\n",
    "$$"
   ]
  },
  {
   "cell_type": "markdown",
   "metadata": {},
   "source": [
    "#### 随机变量的定义"
   ]
  },
  {
   "cell_type": "markdown",
   "metadata": {},
   "source": [
    "如果对于试验的样本空间 $\\Omega$ 中的每一个样本点 $\\omega$, 变量 $X$ 都有一个确定的实数值与之对应, 则变量 $X$ 是样本点 $\\omega$ 的实函数.\n",
    "\n",
    "这样的变量称为**随机变量**, 记作: $X=X(\\omega )$\n",
    "\n",
    "随机变量通常用英文大写 $X, Y, Z\\cdots$ 表示."
   ]
  },
  {
   "cell_type": "markdown",
   "metadata": {},
   "source": [
    "####  用随机变量刻画随机事件"
   ]
  },
  {
   "cell_type": "markdown",
   "metadata": {},
   "source": [
    "随机变量 $X$ 取得某一数值 $x$, 记作:\n",
    "\n",
    "$$\n",
    "X=x,\n",
    "$$\n",
    "\n",
    "这是一个随机事件.\n",
    "\n",
    "随机变量 $X$ 取得不大于实数 $x$ 的值, 记作:\n",
    "\n",
    "$$\n",
    "X \\leq x,\n",
    "$$\n",
    "\n",
    "也是一个随机事件."
   ]
  },
  {
   "cell_type": "markdown",
   "metadata": {},
   "source": [
    "以下都是随机事件：\n",
    "\n",
    "$$\n",
    "a \\leq X < b, a < X < b, a < X \\leq b, a \\leq X \\leq b. \n",
    "$$"
   ]
  },
  {
   "cell_type": "markdown",
   "metadata": {},
   "source": [
    "**例 1 ** 中, \n",
    "\n",
    "$$\n",
    "\"X = 1\" = \\{出现正面\\} \n",
    "$$"
   ]
  },
  {
   "cell_type": "markdown",
   "metadata": {},
   "source": [
    "**例 2** 中,\n",
    "\n",
    "$$\n",
    "\"X \\geq 3200\" = \\{该灯泡寿命在3200小时以上\\}\n",
    "$$"
   ]
  },
  {
   "cell_type": "markdown",
   "metadata": {},
   "source": [
    "#### 随机变量的类型"
   ]
  },
  {
   "cell_type": "markdown",
   "metadata": {},
   "source": [
    "(1)离散型随机变量:\n",
    "\n",
    "仅可能取得有限个或可数无穷多个数值."
   ]
  },
  {
   "cell_type": "markdown",
   "metadata": {},
   "source": [
    "(2)连续型随机变量:\n",
    "\n",
    "可以取得某一区间内的任何数值.\n"
   ]
  },
  {
   "cell_type": "markdown",
   "metadata": {},
   "source": [
    "### 小结"
   ]
  },
  {
   "cell_type": "markdown",
   "metadata": {},
   "source": [
    "引入随机变量后, 对于随机事件的研究就能转化为对随机变量的研究, 就可以利用微积分的方法研究概率论的问题."
   ]
  }
 ],
 "metadata": {
  "kernelspec": {
   "display_name": "Python 2",
   "language": "python",
   "name": "python2"
  },
  "language_info": {
   "codemirror_mode": {
    "name": "ipython",
    "version": 2
   },
   "file_extension": ".py",
   "mimetype": "text/x-python",
   "name": "python",
   "nbconvert_exporter": "python",
   "pygments_lexer": "ipython2",
   "version": "2.7.13"
  }
 },
 "nbformat": 4,
 "nbformat_minor": 0
}
