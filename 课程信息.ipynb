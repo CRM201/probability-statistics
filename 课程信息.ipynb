{
 "cells": [
  {
   "cell_type": "markdown",
   "metadata": {},
   "source": [
    "#  课程信息"
   ]
  },
  {
   "cell_type": "markdown",
   "metadata": {},
   "source": [
    "**教师信息:**\n",
    "\n",
    "* 魏华祎\n",
    "* 老办公楼西 405\n",
    "* 手机: 15973229281"
   ]
  },
  {
   "cell_type": "markdown",
   "metadata": {},
   "source": [
    "**助教信息:**\n",
    "\n",
    "* 李奥\n",
    "* 手机: 15516518273"
   ]
  },
  {
   "cell_type": "markdown",
   "metadata": {},
   "source": [
    "**考试信息:**\n",
    "\n",
    "* 平时成绩: 20% (以平时考勤/课堂/作业等情况为参考)\n",
    "* 考试成绩: 80%"
   ]
  },
  {
   "cell_type": "markdown",
   "metadata": {},
   "source": [
    "1. 如果有种疾病，总体发病率是千分之一。针对这种病的检查，准确率很高，如果得了这病，那么测出来是阳性的概率是99.5%；如果没得这病，相应地被测出来为阴性的概率也是99.5%。现在，检查测出是阳性，请问当事人得这病的概率是多少？"
   ]
  },
  {
   "cell_type": "markdown",
   "metadata": {},
   "source": [
    "1. 一个赌局，庄家同时摇3颗色子(6面1~6点的普通色子)，赌徒可以押某一个面，比如赌徒押3点，若是3个色子中有出现3点，则赌徒赢，出现一个赔一倍，两个赔两倍，三个赔三倍；若是没有出现3点，则庄家赢，赌徒押的注归庄家。分析赌局的公平性。\n",
    "1. 有个酒鬼每天有90%的可能性去酒吧喝酒，该酒鬼每次都是随机去镇上的3家酒吧之一(去每一家的概率一样)，有一天他好友去找他，好友去了第一家酒吧，没找到酒鬼，第二家也没找到，问：在第三家酒吧找到酒鬼的概率是多少。\n",
    "1. 有一道选择题，有三个选项A、B、C。有甲乙两个人分别解答这道题，甲的准确率是0.9，乙的准确率是0.5。两人的结果都是选择A，正确答案为A的概率是多少？\n",
    "1. 大医院每天出生100个小孩，小医院50个，哪个医院更容易出现当天男孩比例大于60%的情况，为什么？\n",
    "1. 做了一个抽样调查，样本数量是100个，这个调查是否靠谱？"
   ]
  },
  {
   "cell_type": "markdown",
   "metadata": {
    "collapsed": true
   },
   "source": [
    "* 简单平均\n",
    "* 贝叶斯推理\n",
    "* 动态加权\n",
    "* 极化"
   ]
  },
  {
   "cell_type": "markdown",
   "metadata": {},
   "source": [
    "## 课外阅读与学习资源"
   ]
  },
  {
   "cell_type": "markdown",
   "metadata": {
    "collapsed": true
   },
   "source": [
    "1. 数据科学学习网站: https://www.dataquest.io/\n",
    "1. 大数据预测: https://book.douban.com/subject/25841481/"
   ]
  }
 ],
 "metadata": {
  "kernelspec": {
   "display_name": "Python 3",
   "language": "python",
   "name": "python3"
  },
  "language_info": {
   "codemirror_mode": {
    "name": "ipython",
    "version": 3
   },
   "file_extension": ".py",
   "mimetype": "text/x-python",
   "name": "python",
   "nbconvert_exporter": "python",
   "pygments_lexer": "ipython3",
   "version": "3.5.2"
  },
  "latex_envs": {
   "bibliofile": "biblio.bib",
   "cite_by": "apalike",
   "current_citInitial": 1,
   "eqLabelWithNumbers": true,
   "eqNumInitial": 0
  }
 },
 "nbformat": 4,
 "nbformat_minor": 1
}
