{
 "cells": [
  {
   "cell_type": "markdown",
   "metadata": {
    "slideshow": {
     "slide_type": "slide"
    }
   },
   "source": [
    "## 第6章 数理统计的基本概念与抽样分布"
   ]
  },
  {
   "cell_type": "markdown",
   "metadata": {
    "slideshow": {
     "slide_type": "slide"
    }
   },
   "source": [
    "### §6.1    数理统计的基本概念"
   ]
  },
  {
   "cell_type": "markdown",
   "metadata": {
    "slideshow": {
     "slide_type": "subslide"
    }
   },
   "source": [
    "####  数理统计研究什么？"
   ]
  },
  {
   "cell_type": "markdown",
   "metadata": {
    "slideshow": {
     "slide_type": "subslide"
    }
   },
   "source": [
    "数理统计的基本任务是：\n",
    "\n",
    "研究如何进行观测, 以及如何根据观测得到的统计资料, 对被研究的随机现象的一般概率特征\n",
    "(例如，概率分布律、数学期望、方差等)做出科学的推断."
   ]
  },
  {
   "cell_type": "markdown",
   "metadata": {
    "slideshow": {
     "slide_type": "fragment"
    }
   },
   "source": [
    "**例:**考察某厂生产的某一批电视机显像管的质量.\n",
    "\n",
    "问题：这批显像管的平均寿命如何？ **参数估计**\n",
    "\n",
    "使用单位要求平均寿命达到5000小时，这批元件能否被接收？ **假设检验**"
   ]
  },
  {
   "cell_type": "markdown",
   "metadata": {
    "slideshow": {
     "slide_type": "slide"
    }
   },
   "source": [
    "#### 一、总体和样本"
   ]
  },
  {
   "cell_type": "markdown",
   "metadata": {
    "slideshow": {
     "slide_type": "fragment"
    }
   },
   "source": [
    "#### 1. 总体"
   ]
  },
  {
   "cell_type": "markdown",
   "metadata": {
    "slideshow": {
     "slide_type": "fragment"
    }
   },
   "source": [
    " 一个统计问题总有它明确的研究对象. 研究对象的全体称为总体(母体), 总体中每个元素称为个体."
   ]
  },
  {
   "cell_type": "markdown",
   "metadata": {
    "slideshow": {
     "slide_type": "fragment"
    }
   },
   "source": [
    "![](./figures/61.png)"
   ]
  },
  {
   "cell_type": "markdown",
   "metadata": {
    "slideshow": {
     "slide_type": "subslide"
    }
   },
   "source": [
    "然而在统计研究中, 人们关心总体仅仅是关心其每个个体的一项(或几项)数量指标和该数量指标在总体中的分布情况. 这时, 每个个体具有的**数量指标的全体**就是**总体**."
   ]
  },
  {
   "cell_type": "markdown",
   "metadata": {
    "slideshow": {
     "slide_type": "fragment"
    }
   },
   "source": [
    "![](./figures/62.png)"
   ]
  },
  {
   "cell_type": "markdown",
   "metadata": {
    "slideshow": {
     "slide_type": "subslide"
    }
   },
   "source": [
    "由于每个个体的出现是随机的, 所以相应的数量指标的出现也带有随机性. 从而可以把这种**数量指标**看作一个**随机变量**, 因此随机变量的分布就是该数量指标在总体中的分布.\n",
    "\n",
    "这样, **总体**就可以用一个**随机变量及其分布来描述**."
   ]
  },
  {
   "cell_type": "markdown",
   "metadata": {
    "slideshow": {
     "slide_type": "subslide"
    }
   },
   "source": [
    "从另一方面看"
   ]
  },
  {
   "cell_type": "markdown",
   "metadata": {
    "slideshow": {
     "slide_type": "fragment"
    }
   },
   "source": [
    "统计的任务, 是根据从总体中抽取的样本, 去推断总体的性质."
   ]
  },
  {
   "cell_type": "markdown",
   "metadata": {
    "slideshow": {
     "slide_type": "subslide"
    }
   },
   "source": [
    "由于我们关心的是总体中的个体的某项指标(如人的身高, 体重, 灯泡的寿命, 汽车的耗油量…) , 所谓总体的性质，无非就是这些**指标值的集体的性质**.\n",
    "\n",
    "而**概率分布**正是刻划这种集体性质的适当工具. 因此在理论上可以把总体与概率分布等同起来."
   ]
  },
  {
   "cell_type": "markdown",
   "metadata": {
    "slideshow": {
     "slide_type": "slide"
    }
   },
   "source": [
    "例如:研究某批灯泡的寿命时, 关心的数量指标就是寿命, 那么, 此总体就可以用随机变量X表示, 或用其分布函数 $F(x)$ 表示."
   ]
  },
  {
   "cell_type": "markdown",
   "metadata": {
    "slideshow": {
     "slide_type": "fragment"
    }
   },
   "source": [
    "![](./figures/63.png)"
   ]
  },
  {
   "cell_type": "markdown",
   "metadata": {
    "slideshow": {
     "slide_type": "subslide"
    }
   },
   "source": [
    "鉴于此, 常用随机变量的记号或用其分布函数表示总体.\n",
    "\n",
    "比如说总体 $X$ 或总体 $F(x)$."
   ]
  },
  {
   "cell_type": "markdown",
   "metadata": {
    "slideshow": {
     "slide_type": "slide"
    }
   },
   "source": [
    "类似地, 在研究某地区中学生的营养状况时, 若关心的数量指标是身高和体重, 我们用 $X$ 和 $Y$ 分别表示身高和体重, 那么此总体就可用二维随机变量 $(X,Y)$ 或其联合分布函数 $F(x,y)$ 来表示."
   ]
  },
  {
   "cell_type": "markdown",
   "metadata": {
    "slideshow": {
     "slide_type": "slide"
    }
   },
   "source": [
    "统计中, 总体这个概念的要旨是:\n",
    "\n",
    "**总体就是一个概率分布**."
   ]
  },
  {
   "cell_type": "markdown",
   "metadata": {
    "slideshow": {
     "slide_type": "slide"
    }
   },
   "source": [
    "#### 2.样本"
   ]
  },
  {
   "cell_type": "markdown",
   "metadata": {
    "slideshow": {
     "slide_type": "subslide"
    }
   },
   "source": [
    "为推断总体分布及各种特征, 按一定规则从总体中抽取若干个体进行观察试验, 以获得有关总体的信息，这一抽取过程称为**“抽样”**，所抽取的部分个体称为**样本**.  样本中所包含的个体数目称为**样本容量**."
   ]
  },
  {
   "cell_type": "markdown",
   "metadata": {
    "slideshow": {
     "slide_type": "fragment"
    }
   },
   "source": [
    "![](./figures/64.png)"
   ]
  },
  {
   "cell_type": "markdown",
   "metadata": {
    "slideshow": {
     "slide_type": "subslide"
    }
   },
   "source": [
    "![](./figures/65.png)"
   ]
  },
  {
   "cell_type": "markdown",
   "metadata": {
    "slideshow": {
     "slide_type": "fragment"
    }
   },
   "source": [
    "容量为 $n$ 的样本可以看作 $n$ 维随机变量 $(X_1,X_2,…,X_n)$."
   ]
  },
  {
   "cell_type": "markdown",
   "metadata": {
    "slideshow": {
     "slide_type": "fragment"
    }
   },
   "source": [
    "但是, 一旦取定一组样本, 得到的是n个具体的数 $(x_1,x_2,…,x_n)$, 称为样本的**一次观察值**, 简称**样本值**."
   ]
  },
  {
   "cell_type": "markdown",
   "metadata": {
    "slideshow": {
     "slide_type": "slide"
    }
   },
   "source": [
    "由于抽样的目的是为了对总体进行统计推断, 为了使抽取的样本能很好地反映总体的信息, 必须考虑抽样方法. "
   ]
  },
  {
   "cell_type": "markdown",
   "metadata": {
    "slideshow": {
     "slide_type": "fragment"
    }
   },
   "source": [
    "最常用的一种抽样方法叫作**“简单随机抽样”**，它要求抽取的样本满足下面两点:"
   ]
  },
  {
   "cell_type": "markdown",
   "metadata": {
    "slideshow": {
     "slide_type": "fragment"
    }
   },
   "source": [
    "* 代表性：$X_1,X_2,…,X_n$ 中每一个与所考察的总体有相同的分布."
   ]
  },
  {
   "cell_type": "markdown",
   "metadata": {
    "slideshow": {
     "slide_type": "fragment"
    }
   },
   "source": [
    "* 独立性：$X_1,X_2,…,X_n$ 是相互独立的随机变量."
   ]
  },
  {
   "cell_type": "markdown",
   "metadata": {
    "slideshow": {
     "slide_type": "subslide"
    }
   },
   "source": [
    "由简单随机抽样得到的样本称为**简单随机样本**, 它可以用与总体独立同分布的n个相互独立的随机变量 $X_1,X_2,…,X_n$ 表示."
   ]
  },
  {
   "cell_type": "markdown",
   "metadata": {
    "slideshow": {
     "slide_type": "subslide"
    }
   },
   "source": [
    "若总体的分布函数为 $F(x)$, 则其**简单随机样本的联合分布函数为**"
   ]
  },
  {
   "cell_type": "markdown",
   "metadata": {
    "slideshow": {
     "slide_type": "fragment"
    }
   },
   "source": [
    "$$\n",
    "F(x_1, x_2, ..., x_n) = F(x_1) F(x_2) … F(x_n) \n",
    "$$"
   ]
  },
  {
   "cell_type": "markdown",
   "metadata": {
    "slideshow": {
     "slide_type": "fragment"
    }
   },
   "source": [
    "简单随机样本是应用中最常见的情形, 今后, 当说到 “$X_1,X_2,…,X_n$ 是取自某总体的样本”时, 若不特别说明, 就指**简单随机样本**."
   ]
  },
  {
   "cell_type": "markdown",
   "metadata": {
    "slideshow": {
     "slide_type": "slide"
    }
   },
   "source": [
    "#### 3. 总体、样本、样本值的关系"
   ]
  },
  {
   "cell_type": "markdown",
   "metadata": {
    "slideshow": {
     "slide_type": "subslide"
    }
   },
   "source": [
    "事实上我们抽样后得到的资料都是具体的, 确定的值. 如我们从某班大学生中抽取 $10$ 人测量身高, 得到 $10$ 个数, 它们是样本取到的值而不是样本. 我们只能观察到随机变量取的值而见不到随机变量. "
   ]
  },
  {
   "cell_type": "markdown",
   "metadata": {
    "slideshow": {
     "slide_type": "subslide"
    }
   },
   "source": [
    "![](./figures/66.png)"
   ]
  },
  {
   "cell_type": "markdown",
   "metadata": {
    "slideshow": {
     "slide_type": "fragment"
    }
   },
   "source": [
    "统计是从手中已有的资料--**样本值**，去推断总体的情况---**总体分布 $F(x)$ 的性质**."
   ]
  },
  {
   "cell_type": "markdown",
   "metadata": {
    "slideshow": {
     "slide_type": "fragment"
    }
   },
   "source": [
    "**样本是联系二者的桥梁**"
   ]
  },
  {
   "cell_type": "markdown",
   "metadata": {
    "slideshow": {
     "slide_type": "fragment"
    }
   },
   "source": [
    "总体分布决定了样本取值的概率规律, 也就是样本取到样本值的规律, 因而可以由样本值去推断总体.    "
   ]
  },
  {
   "cell_type": "markdown",
   "metadata": {
    "slideshow": {
     "slide_type": "slide"
    }
   },
   "source": [
    "#### 总体和样本"
   ]
  },
  {
   "cell_type": "markdown",
   "metadata": {
    "slideshow": {
     "slide_type": "subslide"
    }
   },
   "source": [
    "**总体:** 被研究对象的全体元素组成的集合. 是所研究的对象的某个(或某些)数量指标的全体, 它是一个随机变量(或多维随机变量). 记为 $X$"
   ]
  },
  {
   "cell_type": "markdown",
   "metadata": {
    "slideshow": {
     "slide_type": "fragment"
    }
   },
   "source": [
    "**个体:** 组成总体的每一个元素. 即总体的每个数量指标, 可看作随机变量 $X$ 的某个取值. 用 $X_i$ 表示."
   ]
  },
  {
   "cell_type": "markdown",
   "metadata": {
    "slideshow": {
     "slide_type": "fragment"
    }
   },
   "source": [
    "**例如** 某厂生产的电视机显像管的寿命是一个总体, 每个显像管的寿命是一个个体."
   ]
  },
  {
   "cell_type": "markdown",
   "metadata": {
    "slideshow": {
     "slide_type": "subslide"
    }
   },
   "source": [
    "**抽样:** 从总体 $X$ 中抽取一部分个体的过程."
   ]
  },
  {
   "cell_type": "markdown",
   "metadata": {
    "slideshow": {
     "slide_type": "fragment"
    }
   },
   "source": [
    "**样本:** 抽样结果得到 $X$ 的一组试验数据(观测值)."
   ]
  },
  {
   "cell_type": "markdown",
   "metadata": {
    "slideshow": {
     "slide_type": "fragment"
    }
   },
   "source": [
    "**样本容量:**样本中包含的个体的数量."
   ]
  },
  {
   "cell_type": "markdown",
   "metadata": {
    "slideshow": {
     "slide_type": "subslide"
    }
   },
   "source": [
    "**简单随机样本:** 从总体中抽取样本必须满足:\n",
    "\n",
    "* 随机性;\n",
    "\n",
    "* 独立性;\n",
    "\n",
    "由此得到的样本称为**简单随机样本**."
   ]
  },
  {
   "cell_type": "markdown",
   "metadata": {
    "slideshow": {
     "slide_type": "subslide"
    }
   },
   "source": [
    "**样本具有二重性**\n",
    "\n",
    "* 设 $n$ 次抽样的结果为 $X_1, X_2,\\cdots, X_n$, 它们是相互独立的随机变量, 且与总体 $X$ 服从相同的分布;      \n",
    "\n",
    "* 实际抽样的结果得到的是具体试验数据(样本观测值) $x_1, x_2,\\cdots, x_n$;\n",
    "\n",
    "抽样的结果是: $n$ 个独立的事件 $X_1 = x_1, X_2 = x_2, \\cdots, X_n = x_n$ 发生了."
   ]
  },
  {
   "cell_type": "markdown",
   "metadata": {
    "slideshow": {
     "slide_type": "slide"
    }
   },
   "source": [
    "####  二. 统计量"
   ]
  },
  {
   "cell_type": "markdown",
   "metadata": {
    "slideshow": {
     "slide_type": "subslide"
    }
   },
   "source": [
    "由样本值去推断总体情况, 需要对样本值进行\"加工\", 这就要构造一些样本的函数, 它把样本中所含的(某一方面)的信息集中起来.\n",
    "\n",
    "这种不含任何未知参数的样本的函数称为**统计量**. 它是完全由样本决定的量."
   ]
  },
  {
   "cell_type": "markdown",
   "metadata": {
    "slideshow": {
     "slide_type": "subslide"
    }
   },
   "source": [
    "设 $X_1, X_2,\\cdots, X_n$ 是取自总体 $X$ 的一组样本, $x_1,x_2, \\cdots, x_n$ 是观测值."
   ]
  },
  {
   "cell_type": "markdown",
   "metadata": {
    "slideshow": {
     "slide_type": "fragment"
    }
   },
   "source": [
    "**样本函数:** 以样本为自变量的函数.记 $g(X_1, X_2,\\cdots, X_n)$. 样本函数也是随机变量. 称 $g(x_1, x_2,\\cdots, x_n)$ 为样本函数 $g(X_1, X_2,\\cdots, X_n)$ 的观测值."
   ]
  },
  {
   "cell_type": "markdown",
   "metadata": {
    "slideshow": {
     "slide_type": "fragment"
    }
   },
   "source": [
    "**统计量:** 不依赖任何未知参数的样本函数.    "
   ]
  },
  {
   "cell_type": "markdown",
   "metadata": {
    "slideshow": {
     "slide_type": "subslide"
    }
   },
   "source": [
    "**例如** 设 $(X_1, X_2,\\cdots, X_n)$ 是来自正态总体\n",
    "\n",
    "$$\n",
    "X \\sim N(\\mu, \\sigma^2)\n",
    "$$\n",
    "\n",
    "的样本. 其中 $\\mu$ 已知, $\\sigma^2$ 未知, "
   ]
  },
  {
   "cell_type": "markdown",
   "metadata": {
    "slideshow": {
     "slide_type": "subslide"
    }
   },
   "source": [
    "则\n",
    "\n",
    "$$\n",
    "T_1 = \\sum_{i=1}^{n} X_i^2,\\quad T_1=\\sum_{i=1}^{n} (X_i - \\mu),\\quad T_3 = X_1+X_2\n",
    "$$\n",
    "\n",
    "是统计量, 而\n",
    "\n",
    "$$\n",
    "T_4=\\sum_{i=1}^{n}(\\frac{X_i - \\mu}{\\sigma})^2\n",
    "$$\n",
    "\n",
    "不是统计量."
   ]
  },
  {
   "cell_type": "markdown",
   "metadata": {
    "slideshow": {
     "slide_type": "subslide"
    }
   },
   "source": [
    "当我们得到样本 $(X_1,X_2, \\cdots, X_n)$ 的观测值\n",
    "\n",
    "$$\n",
    "(x_1,x_2, \\cdots, x_n)\n",
    "$$\n",
    "\n",
    "也就得到了统计量 $T = h(X_1,X_2, \\cdots, X_n)$ 的观测值记为\n",
    "\n",
    "$$\n",
    "t = h(x_1,x_2, \\cdots, x_n)\n",
    "$$\n",
    "\n",
    "它是一个具体的数值."
   ]
  },
  {
   "cell_type": "markdown",
   "metadata": {
    "slideshow": {
     "slide_type": "slide"
    }
   },
   "source": [
    "#### 常用统计量"
   ]
  },
  {
   "cell_type": "markdown",
   "metadata": {
    "slideshow": {
     "slide_type": "subslide"
    }
   },
   "source": [
    "设 $X_1,X_2, \\cdots, X_n$ 是取自总体 $X$ 的一组样本, 常用的统计量有:"
   ]
  },
  {
   "cell_type": "markdown",
   "metadata": {
    "slideshow": {
     "slide_type": "fragment"
    }
   },
   "source": [
    "**1.样本均值**\n",
    "\n",
    "$$\n",
    "\\bar{X} =\\frac{1}{n}\\sum_{i=1}^{n} X_i \\quad (它反映了总体均值的信息)\n",
    "$$\n",
    "\n",
    "其观测值记作\n",
    "\n",
    "$$\n",
    "\\bar{x} =\\frac{1}{n}\\sum_{i=1}^{n} x_i\n",
    "$$"
   ]
  },
  {
   "cell_type": "markdown",
   "metadata": {
    "slideshow": {
     "slide_type": "slide"
    }
   },
   "source": [
    "**样本方差**\n",
    "\n",
    "$$\n",
    "S^2 = \\frac{1}{n-1} \\sum_{i=1}^{n} (X_i - \\bar{X})^2 \\quad (它反映了总体方差的信息)\n",
    "$$\n",
    "\n",
    "其观测值记为\n",
    "\n",
    "$$\n",
    "s^2 = \\frac{1}{n-1} \\sum_{i=1}^{n} (x_i - \\bar{x})^2 \n",
    "$$"
   ]
  },
  {
   "cell_type": "markdown",
   "metadata": {
    "slideshow": {
     "slide_type": "subslide"
    }
   },
   "source": [
    "样本方差可化简为:\n",
    "\n",
    "$$\n",
    "S^2 = \\frac{1}{n-1} (\\sum_{i=1}^{n} X_i^2 - n \\bar{X}^2),\\\\\n",
    "s^2 = \\frac{1}{n-1} (\\sum_{i=1}^{n} x_i^2 - n \\bar{x}^2),\\\\\n",
    "$$"
   ]
  },
  {
   "cell_type": "markdown",
   "metadata": {
    "slideshow": {
     "slide_type": "slide"
    }
   },
   "source": [
    "**3.样本标准差**\n",
    "\n",
    "$$\n",
    "S = \\sqrt{\\frac{1}{n-1}\\sum_{i=1}^{n} (X_i^2 - n \\bar{X}^2)}\n",
    "$$\n",
    "\n",
    "其观测值记作\n",
    "\n",
    "$$\n",
    "s = \\sqrt{\\frac{1}{n-1} \\sum_{i=1}^{n} (x_i^2 - n \\bar{x}^2)}\n",
    "$$"
   ]
  },
  {
   "cell_type": "markdown",
   "metadata": {
    "collapsed": true,
    "slideshow": {
     "slide_type": "slide"
    }
   },
   "source": [
    "**4.样本 $k$ 阶原点矩**\n",
    "\n",
    "$$\n",
    "V_k = \\frac{1}{n} \\sum^{n}_{i=1} X_i^k \\quad (它反映了总体 k 阶原点矩的信息)\n",
    "$$\n",
    "\n",
    "其观测值记作\n",
    "\n",
    "$$ \n",
    "v_k = \\frac{1}{n} \\sum^{n}_{i=1} x_i^k\n",
    "$$"
   ]
  },
  {
   "cell_type": "markdown",
   "metadata": {
    "slideshow": {
     "slide_type": "slide"
    }
   },
   "source": [
    "**5. 样本 $k$ 阶中心矩**\n",
    "\n",
    "$$\n",
    "U_k =\\frac{1}{n} \\sum^{n}_{i=1} (X_i - \\bar{X})^k \\quad (它反映了总体 k 阶中心矩的信息)\n",
    "$$\n",
    "\n",
    "其观测值记作 \n",
    "\n",
    "$$\n",
    "u_k = \\frac{1}{n} \\sum^{n}_{i=1} (x_i - \\bar{x})^k\n",
    "$$\n",
    "\n",
    "特别有 \n",
    "$$ U_1=0, \\quad U_2 = \\frac{n-1}{n}S^2$$."
   ]
  },
  {
   "cell_type": "markdown",
   "metadata": {
    "slideshow": {
     "slide_type": "slide"
    }
   },
   "source": [
    "设总体随机变量 $X$ 的期望为 $\\mu$, 方差为 $\\sigma^2$, 可证\n",
    "$$\n",
    "E(U_2)=\\frac{n-1}{n} \\sigma^2, E(S^2)=\\sigma^2\n",
    "$$"
   ]
  },
  {
   "cell_type": "markdown",
   "metadata": {
    "slideshow": {
     "slide_type": "subslide"
    }
   },
   "source": [
    "**证明：**\n",
    "\n",
    "$$\n",
    "E(X)=\\mu, D(X)=\\sigma^2\n",
    "$$\n",
    "\n",
    "则"
   ]
  },
  {
   "cell_type": "markdown",
   "metadata": {
    "slideshow": {
     "slide_type": "fragment"
    }
   },
   "source": [
    "$$\n",
    "\\begin{align}\n",
    "E(\\bar{X}) =& E(\\frac{1}{n}\\sum_{i=1}^{n}X_i)=\\mu, D(\\bar{X})=\\frac{1}{n}\\sigma^2,\\\\\n",
    "\\end{align}\n",
    "$$"
   ]
  },
  {
   "cell_type": "markdown",
   "metadata": {
    "slideshow": {
     "slide_type": "subslide"
    }
   },
   "source": [
    "$$\n",
    "\\begin{align}\n",
    "E(U_2) =& E(V_2)-E(\\bar{X}^2)=E(\\frac{1}{n}\\sum_{i=1}^{n}X_i^2)-[D(\\bar{X})+E^2(\\bar{X})]\\\\\n",
    "=& \\sigma^2 + \\mu^2 - (\\frac{1}{n} \\sigma^2 + \\mu^2)=\\frac{n-1}{n} \\sigma^2\\\\\n",
    "\\end{align}\n",
    "$$"
   ]
  },
  {
   "cell_type": "markdown",
   "metadata": {
    "collapsed": true,
    "slideshow": {
     "slide_type": "fragment"
    }
   },
   "source": [
    "$$\n",
    "\\begin{align}\n",
    "E(S^2) =& E[\\frac{n}{n-1}U_2]=\\frac{n}{n-1}E(U_2)=\\sigma^2\\\\\n",
    "\\end{align}\n",
    "$$"
   ]
  },
  {
   "cell_type": "markdown",
   "metadata": {
    "collapsed": true,
    "slideshow": {
     "slide_type": "slide"
    }
   },
   "source": [
    "**例 1** 设抽样得到样本观测值如下:\n",
    "\n",
    "$38.2 \\quad 40.0 \\quad 42.4 \\quad 37.6$\n",
    "\n",
    "$39.2 \\quad 41.0 \\quad 44.0 \\quad 43.2 \\quad 38.8 \\quad 40.6$\n",
    "\n",
    "计算样本均值, 样本方差及样本二阶中心矩的观测值."
   ]
  },
  {
   "cell_type": "markdown",
   "metadata": {
    "slideshow": {
     "slide_type": "subslide"
    }
   },
   "source": [
    "**解 :** 把上述 $10$ 个数据逐个输入电子计算器或计算机中, 不难求得:\n",
    "\n",
    "$$\n",
    "\\begin{align}\n",
    "\\bar{x} =& \\frac{1}{10} \\sum_{i=1}^{10} x_i =40.5\\\\\n",
    "s^2 =& \\frac{1}{9}\\sum_{i=1}^{10}(x_i - \\bar{x})^2=4.66\\\\\n",
    "\\tilde{\\sigma} =&  \\frac{1}{10}\\sum_{i=1}^{10}(x_i - \\bar{x})^2=4.194\\\\\n",
    "\\end{align}\n",
    "$$"
   ]
  },
  {
   "cell_type": "markdown",
   "metadata": {
    "slideshow": {
     "slide_type": "subslide"
    }
   },
   "source": [
    "**注:**\n",
    "\n",
    "当样本容量很大时, 可使用统计计算软件在计算机上进行计算. 而相同的数据往往可能重复出现, 为了使计算简化, 应先把所得的数据整理, 设得到下表:\n",
    "\n",
    "| 观测值 | $X_{(1)}$ | $X_{(2)}$ | $\\cdots$ |$X_{(l)}$ | 总计|\n",
    "|-------|-----------|-----------|----------|----------|-----|\n",
    "| 频数 | $m_1$ | $m_2$ | $\\cdots$ | $m_l$ | $n$ |\n",
    "\n"
   ]
  },
  {
   "cell_type": "markdown",
   "metadata": {
    "slideshow": {
     "slide_type": "subslide"
    }
   },
   "source": [
    "则\n",
    "\n",
    "$$\n",
    "\\begin{align}\n",
    "\\bar{X} =& \\frac{1}{n} \\sum_{i=1}^{l} m_i x_{(i)},\\quad s^2 = \\frac{1}{n-1}  \\sum_{i=1}^{l} m_i(x_{(i)}-\\bar{x})^2\\\\\n",
    "\\tilde{\\sigma}^2 =& \\frac{1}{n} \\sum_{i=1}^{l} m_i(x_{(i)}-\\bar{x})^2\\\\\n",
    "\\end{align}\n",
    "$$"
   ]
  },
  {
   "cell_type": "markdown",
   "metadata": {
    "collapsed": true,
    "slideshow": {
     "slide_type": "subslide"
    }
   },
   "source": [
    "**注:**\n",
    "\n",
    "对于连续随机变量或者某些离散随机变量抽样得到的样本观测值, 分成若干个子区间整理后, 通常把各个子区间的中点值取作 $x_{(i)}$, 样本观测值落在对应区间的频数取作 $m_i$ 进行计算."
   ]
  },
  {
   "cell_type": "markdown",
   "metadata": {
    "collapsed": true,
    "slideshow": {
     "slide_type": "slide"
    }
   },
   "source": [
    "**例 2** 观测某交通路口每天上午8:00~8:30这段时间内通过的汽车车辆数，共观测 $30$ 天, 得到如下观测值:\n",
    "\n",
    "234    260    241    259    256    241    261    257    277    255  \n",
    "\n",
    "244    249    238    269    250    268    256    253    226    256  \n",
    "\n",
    "235    256    251    258    246    255    257    282    251    261  \n",
    "\n",
    "计算样本均值, 样本方差及样本二阶中心矩的观测值."
   ]
  },
  {
   "cell_type": "markdown",
   "metadata": {
    "collapsed": true,
    "slideshow": {
     "slide_type": "subslide"
    }
   },
   "source": [
    "**解 :**数据进行如下分组,\n",
    "\n",
    "| 该段时间内通过的汽车所在区间 | 区间中点值 $X_{(i)}$ | 频数 $m_i$ |\n",
    "|------|------|--------|\n",
    "| $(220, 230]$ | $225$ | $1$ |\n",
    "| $(230, 240]$ | $235$ | $3$ |\n",
    "| $(240, 250]$ | $245$ | $6$ |\n",
    "| $(250, 260]$ | $255$ | $14$ |\n",
    "| $(260, 270]$ | $265$ | $4$ |\n",
    "| $(270, 280]$ | $275$ | $1$ |\n",
    "| $(280, 290]$ | $285$ | $1$ |\n",
    "| 总计 || $30$ |\n"
   ]
  },
  {
   "cell_type": "markdown",
   "metadata": {
    "collapsed": true,
    "slideshow": {
     "slide_type": "subslide"
    }
   },
   "source": [
    "数据只需分7次输入计算器即可算得,\n",
    "\n",
    "$$\n",
    "\\begin{align}\n",
    "\\bar{x} =& \\frac{1}{30} \\sum_{i=1}^{7} m_i x_{(i)} = 253\\\\\n",
    "s^2 =& \\frac{1}{29} \\sum_{i=1}^{7} m_i (x_{(i)}-\\bar{x})^2 \\approx 147.59\\\\\n",
    "\\tilde{\\sigma}^2 =& \\frac{1}{30} \\sum_{i=1}^{7} m_i (x_{(i)}-\\bar{x})^2 \\approx 142.67\\\\\n",
    "\\end{align}\n",
    "$$"
   ]
  },
  {
   "cell_type": "markdown",
   "metadata": {
    "collapsed": true,
    "slideshow": {
     "slide_type": "slide"
    }
   },
   "source": [
    "#### 三. 次序统计量、样本中位数与样本极差"
   ]
  },
  {
   "cell_type": "markdown",
   "metadata": {
    "collapsed": true,
    "slideshow": {
     "slide_type": "fragment"
    }
   },
   "source": [
    "#### 1.  次序统计量"
   ]
  },
  {
   "cell_type": "markdown",
   "metadata": {
    "slideshow": {
     "slide_type": "subslide"
    }
   },
   "source": [
    "设 $(X_1, X_2,\\cdots,X_n)$ 是从总体X中抽取的一个样本，记 $(x_1, x_2,\\cdots,x_n)$ 为样本的一个观测值，将观测值的各个分量按由小到大的递增序列重新排列为 $x_{(1)} \\leq x_{(2)} \\leq \\cdots x_{(n)}$,"
   ]
  },
  {
   "cell_type": "markdown",
   "metadata": {
    "collapsed": true,
    "slideshow": {
     "slide_type": "fragment"
    }
   },
   "source": [
    "**定义** $X_{(k)}$ 取值为 $x_{(k)},(k=1, 2, \\cdots, n)$ 由此得到的 $(X_{(1)}, X_{(2)}, \\cdots, X_{(n)}）$ 称为样本 $(X_1,X_2,\\cdots,X_n)$ 的次序统计量.显然有 $X_{(1)} \\leq X_{(2)} \\leq \\cdots X_{(n)}$\n",
    "\n",
    "其中 $X_{(1)} = \\min_{1 \\leq i \\leq n} X_i$ 称为 **最小次序统计量**, 它的值 $x_{(1)}$ 是样本值中最小的一个.\n",
    "\n",
    "$X_{(n)} = \\max_{1 \\leq i \\leq n} X_i$ 称为 **最大次序统计量**, 它的值 $x_{(n)}$ 是样本值中最大的一个."
   ]
  },
  {
   "cell_type": "markdown",
   "metadata": {
    "collapsed": true,
    "slideshow": {
     "slide_type": "subslide"
    }
   },
   "source": [
    "由于次序统计量的每一个分量 $X_{(k)}$ 都是样本\n",
    "\n",
    "$$\n",
    "(X_1, X_2, \\cdots, X_n)\n",
    "$$\n",
    "\n",
    "的函数, 所以\n",
    "\n",
    "$$\n",
    "X_{(1)}, X_{(2)}, \\cdots, X_{(n)}\n",
    "$$\n",
    "\n",
    "也是随机变量.\n",
    "\n",
    "样本 $(X_{1}, X_{2}, \\cdots, X_{n})$ 是相互独立的, 但其次序统计量\n",
    "\n",
    "$$\n",
    "(X_{(1)}, X_{(2)}, \\cdots, X_{(n)})\n",
    "$$\n",
    "\n",
    "一般不是独立的.\n"
   ]
  },
  {
   "cell_type": "markdown",
   "metadata": {
    "collapsed": true,
    "slideshow": {
     "slide_type": "slide"
    }
   },
   "source": [
    "**定义:** 样本 $X_1, X_2,\\cdots,X_n$ 按由小到大的顺序重排为\n",
    "\n",
    "$$\n",
    "X_{(1)} \\leq X_{(2)} \\leq \\cdots X_{(n)}\n",
    "$$\n",
    "\n",
    "则称\n",
    "\n",
    "$$\n",
    "(X_{(1)}, X_{(2)}, \\cdots, X_{(n)})\n",
    "$$\n",
    "\n",
    "为样本 $(X_{(1)}, X_{(2)}, \\cdots, X_{(n)})$ 的**次序统计量**. $X_{(k)}$ 称为样本的第 $k$ 个次序统计量."
   ]
  },
  {
   "cell_type": "markdown",
   "metadata": {
    "collapsed": true,
    "slideshow": {
     "slide_type": "slide"
    }
   },
   "source": [
    "**定理 1.1** 设总体 $X$ 的分布密度为 $f(x)$, 分布函数为 $F(x), X_1, X_2,\\cdots,X_n$ 为样本, 则 $X_{(k)}$ 的概率密度为\n",
    "\n",
    "$$\n",
    "f_{X_{(k)}} (x) = \\frac{n!}{(k-1)!(n-k)!}[F(x)]^{k-1} [1-F(x)]^{n-k}\n",
    "$$"
   ]
  },
  {
   "cell_type": "markdown",
   "metadata": {
    "collapsed": true,
    "slideshow": {
     "slide_type": "slide"
    }
   },
   "source": [
    "**定理1.2**设总体 $X$ 的分布密度为 $f(x)$, 分布函数为 $F(x), X_1, X2, \\cdots, X_n$ 为样本, 则最小次序统计量 $X_{(1)}$ 和最大次序统计量 $X_{(n)}$ 的概率密度分别为\n",
    "\n",
    "$$\n",
    "f_{X_{(1)}}(x) = n [1-F(x)]^{n-1}f(x),\\\\\n",
    "f_{X_{(n)}}(x) = n [F(x)]^{n-1}f(x).\\\\\n",
    "$$"
   ]
  },
  {
   "cell_type": "markdown",
   "metadata": {
    "slideshow": {
     "slide_type": "subslide"
    }
   },
   "source": [
    "**证明:**\n",
    "\n",
    "(1) \n",
    "$$\n",
    "\\begin{align}\n",
    "F_{X_{(n)}} (X) &= P\\{X_{(n)} \\leq x\\}\\\\\n",
    "&= P\\{\\max_{1 \\leq i \\leq n} X_i \\leq x\\}\\\\\n",
    "&= P\\{X_1 \\leq x, X_2 \\leq x, \\cdots, X_n \\leq x\\}\\\\\n",
    "&= P\\{X_1 \\leq x\\}\\cdot P\\{X_2 \\leq x\\}\\cdot \\cdots  P\\{X_c \\leq x\\}\\\\\n",
    "&= F^{n} (x)\n",
    "\\end{align}\n",
    "$$\n",
    "\n",
    "所以 \n",
    "\n",
    "$$\n",
    "f_{X_{(n)}} (x) = \\frac{\\mathrm dF_{X_{(n)}}(x)}{\\mathrm dx}=nF^{n-1}(x)\\cdot f(x)\n",
    "$$"
   ]
  },
  {
   "cell_type": "markdown",
   "metadata": {
    "slideshow": {
     "slide_type": "subslide"
    }
   },
   "source": [
    "(2) \n",
    "$$\n",
    "\\begin{align}\n",
    "F_{X_{(1)}} (x) &= P\\{X_{(1)}\\leq x\\}\\\\\n",
    "&= p\\{\\min_{1\\leq i \\leq n} X_i \\leq x\\}= 1-P\\{\\min_{1\\leq i \\leq n}X_i > x\\}\\\\\n",
    "&= 1- p\\{X_1 > x, X_2>x, \\cdots, X_n > x\\}\\\\\n",
    "1-[1-F(x)]^n\n",
    "\\end{align}\n",
    "$$\n",
    "\n",
    "所以\n",
    "\n",
    "$$\n",
    "f_{X_{(1)}}(x) =  \\frac{\\mathrm dF_{X_{(1)}}(x)}{\\mathrm dx}=-n[1-F(x)]^{n-1}\\cdot [-F'(x)] = n[1-F(x)]^{n-1}\\cdot f(x)\n",
    "$$"
   ]
  },
  {
   "cell_type": "markdown",
   "metadata": {
    "collapsed": true,
    "slideshow": {
     "slide_type": "slide"
    }
   },
   "source": [
    "**定理 1.3**设总体 $X$ 的分布密度为 $f(x)$, 分布函数为 $F(x), X_1, X_2,\\cdots, X_n$ 为样本, 则次序统计量 $(X_{(1)}, X_{(n)})$ 的联合概率分布密度为\n",
    "\n",
    "$$\n",
    "f_{X_{(1)}, X_{(n)}} (x, y) = \n",
    "\\begin{cases}\n",
    "n(n-1)[F(y)-F(x)]^{n-2} f(x) f(y), \\quad x<y\\\\\n",
    "o, \\quad x\\geq y\\\\\n",
    "\\end{cases}\n",
    "$$"
   ]
  },
  {
   "cell_type": "markdown",
   "metadata": {
    "collapsed": true,
    "slideshow": {
     "slide_type": "slide"
    }
   },
   "source": [
    "**定理 1.4** 设总体 $X$ 的分布密度为 $f(x)$, 分布函数为 $F(x), X_1, X_2, \\cdots, X_n$ 为样本, 则次序统计量 $(X_{(1)}, X_{(2)},\\cdots, X_{(n)})$ 的联合概率分布密度为\n",
    "\n",
    "$$\n",
    "f(y_1, y_2, \\cdots, y_n) = \n",
    "\\begin{cases}\n",
    "n! \\prod_{i=1}^n f(y_i), \\quad y_1 < y_2 < \\cdots < y_n\\\\\n",
    "0, \\quad 其它\\\\\n",
    "\\end{cases}\n",
    "$$\n",
    "\n"
   ]
  },
  {
   "cell_type": "markdown",
   "metadata": {
    "collapsed": true,
    "slideshow": {
     "slide_type": "slide"
    }
   },
   "source": [
    "#### 2  样本中位数和样本极差"
   ]
  },
  {
   "cell_type": "markdown",
   "metadata": {
    "collapsed": true,
    "slideshow": {
     "slide_type": "subslide"
    }
   },
   "source": [
    "设 $(X_1, X_2, \\cdots, X_n)$ 是总体 $X$ 中的样本, $(X_{(1)}, X_{(2)},\\cdots, X_{(n)})$ 为其次序统计量, 则**样本中位数**定义为\n",
    "\n",
    "$$\n",
    "\\tilde{X} = \n",
    "\\begin{cases}\n",
    "X_{(\\frac{n+1}{2})}, \\quad n \\text{ 为奇数}\\\\\n",
    "\\frac{1}{2} [X_{(\\frac{n}{2})}+X_{(\\frac{n+1}{2})}],\\quad n \\text{ 为偶数}\\\\\n",
    "\\end{cases}\n",
    "$$\n",
    "\n",
    "它的值为\n",
    "\n",
    "$$\n",
    "\\tilde{x} = \n",
    "\\begin{cases}\n",
    "x_{(\\frac{n+1}{2})}, \\quad n \\text{ 为奇数}\\\\\n",
    "\\frac{1}{2} [x_{(\\frac{n}{2})}+x_{(\\frac{n+1}{2})}],\\quad n \\text{ 为偶数}\\\\\n",
    "\\end{cases}\n",
    "$$"
   ]
  },
  {
   "cell_type": "markdown",
   "metadata": {
    "slideshow": {
     "slide_type": "subslide"
    }
   },
   "source": [
    "样本中位数与样本均值一样是刻划样本位置特征的统计量, 而且样本中位数的计算方便并不受样本异常值的影响, 所以有时比样本均值更有代表性.\n",
    "\n",
    "样本极差定义为\n",
    "\n",
    "$$\n",
    "R=X_{(n)}-X_{(1)}=\\max_{1\\leq i \\leq n} X_i-\\min_{1\\leq i \\leq n} X_i\n",
    "$$\n",
    "\n",
    "它的观测值为\n",
    "\n",
    "$$\n",
    "r=x_{(n)}-x_{(1)}=\\max_{1\\leq i \\leq n} x_i-\\min_{1\\leq i \\leq n} x_i\n",
    "$$\n"
   ]
  },
  {
   "cell_type": "markdown",
   "metadata": {
    "slideshow": {
     "slide_type": "fragment"
    }
   },
   "source": [
    "**注意:**  样本极差与样本方差一样是反映样本值变化幅度或离散程度的统计量, 而且计算方便, 所以在实际中有广泛的应用."
   ]
  },
  {
   "cell_type": "markdown",
   "metadata": {
    "slideshow": {
     "slide_type": "slide"
    }
   },
   "source": [
    "**例3**从总体中抽取容量为 $6$ 的样本，测得样本值为\n",
    "\n",
    "$31\\quad 66\\quad  28\\quad  35\\quad  32\\quad  30$\n",
    "\n",
    "由小到大排列为\n",
    "\n",
    "$28\\quad  30\\quad  31\\quad  32\\quad  35\\quad  66$"
   ]
  },
  {
   "cell_type": "markdown",
   "metadata": {
    "slideshow": {
     "slide_type": "subslide"
    }
   },
   "source": [
    "则样本中位数为:\n",
    "\n",
    "$$\n",
    "\\tilde{x} = \\frac{1}{2} [x_{(3)}+x_{(4)}]=31.5\n",
    "$$\n",
    "\n",
    "而样本均值为:\n",
    "\n",
    "$$\n",
    "\\bar{x}=\\frac{1}{6} \\sum_{i=1}^6 x_i = 37.5\n",
    "$$\n",
    "\n",
    "样本均值 $\\bar{x}$ 大于样本值 $6$ 个数中的 $5$ 个数, 这是因为样本值 $66$ 比其它值大许多, 可见样本均值对异常值或极端值较敏感, 而样本中位数则不受异常值影响, 所以有时候估计总体均值用样本中位数比用样本均值效果更好."
   ]
  },
  {
   "cell_type": "markdown",
   "metadata": {
    "slideshow": {
     "slide_type": "slide"
    }
   },
   "source": [
    "#### 四. 频率直方图"
   ]
  },
  {
   "cell_type": "markdown",
   "metadata": {
    "slideshow": {
     "slide_type": "slide"
    }
   },
   "source": [
    "我们知道, **概率分布密度**可以对连续型随机变量进行全面的刻画, 而**频率直方图**是对总体 $X$ 的未知分布密度最简单且有效的近似.具体步骤如下:"
   ]
  },
  {
   "cell_type": "markdown",
   "metadata": {
    "slideshow": {
     "slide_type": "subslide"
    }
   },
   "source": [
    "1.设总体 $X$ 的一组样本观察值为 $x_1, x_2, \\cdots, x_n$, 且\n",
    "\n",
    "$$\n",
    "x_{(1)} \\leq x_{(2)} \\leq \\cdots x_{(n)}\n",
    "$$"
   ]
  },
  {
   "cell_type": "markdown",
   "metadata": {
    "slideshow": {
     "slide_type": "subslide"
    }
   },
   "source": [
    "2.适当选取略小于 $x_{(1)}$ 的 $a$ 和略大于 $x_{(n)}$ 的 $b$, 这样所有样本值全部在区间 $(a,b)$ 内. 将 $(a,b)$ 分成 $m$ 个相邻的子区间 $(c_i, c_{i+1})$， 其中\n",
    "\n",
    "$$\n",
    "c_1 = a, c_{m+1}=b\n",
    "$$\n",
    "\n",
    "各区间的长度\n",
    "\n",
    "$$\n",
    "\\Delta c_i = c_{i+1} - c_i,\\quad i=1, 2, 3,\\quad ,m\n",
    "$$\n",
    "\n",
    "既可相等，也可以不等.\n",
    "\n",
    "子区间的个数一般为 $8 \\sim 15$ 个, 因为太多则由于频率的随机摆动而使分布显得杂乱, 太少则难以显示分布的特征. 此外, 为方便起见, 应取区间端点比样本观测值多一位小数."
   ]
  },
  {
   "cell_type": "markdown",
   "metadata": {
    "slideshow": {
     "slide_type": "subslide"
    }
   },
   "source": [
    "3.根据样本观测值计算出落入各区间的频数 $n_i$ 及频率\n",
    "\n",
    "$$\n",
    "f_i = \\frac{n_i}{n}(i=1,2,\\cdots,m)\n",
    "$$"
   ]
  },
  {
   "cell_type": "markdown",
   "metadata": {
    "slideshow": {
     "slide_type": "subslide"
    }
   },
   "source": [
    "4.在 $OX$ 轴上截取各子区间,并以各子区间为底,以\n",
    "\n",
    "$$\n",
    "\\frac{f_i}{\\Delta c_i}(i=1,2,\\cdots,m)\n",
    "$$\n",
    "\n",
    "为高作小矩形, 各小矩形的面积就等于样本观测值落在该区间的频率, 所有小矩形的面积之和等于1. 这样作出的所有小矩形即构成直方图."
   ]
  },
  {
   "cell_type": "markdown",
   "metadata": {
    "slideshow": {
     "slide_type": "slide"
    }
   },
   "source": [
    "因为当样本容量 $n$ 充分大时, 随机变量X落在各个子区间的频率近似等于其概率, 所以直方图大致描述了总体 $X$ 的分布规律."
   ]
  },
  {
   "cell_type": "markdown",
   "metadata": {
    "slideshow": {
     "slide_type": "slide"
    }
   },
   "source": [
    "**例4** 从规定尺寸为 $25.40mm$ 的一堆产品中任取 $100$件，测得尺寸如下：\n",
    "\n",
    "25.39  25.36  25.34  25.42  25.45  25.38  25.39  25.42  25.47  25.35 \n",
    "25.41  25.43  25.44  25.48  25.45  25.43  25.46  25.40  25.51  25.45 \n",
    "25.40  25.39  25.41  25.36  25.38  25.31  25.56  25.43  25.40  25.38 \n",
    "25.37  25.44  25.33  25.46  25.40  25.49  25.34  25.42  25.50  25.37 \n",
    "25.35  25.32  25.45  25.40  25.27  25.43  25.54  25.39  25.45  25.43\n",
    "25.40  25.43  25.44  25.41  25.53   25.37  25.38  25.24  25.44  25.40\n",
    " 25.36  25.42  25.39  25.46   25.38  25.35  25.31  25.34  25.40  25.36\n",
    "25.41  25.32  25.38   25.42  25.40  25.33  25.37  25.41  25.49  25.35 \n",
    "25.47  25.34   25.30  25.39  25.46  25.29  25.40  25.37  25.33 25.40\n",
    "25.35  25.41  25.37   25.37  25.47  25.39  25.42  25.47  25.38  25.39"
   ]
  },
  {
   "cell_type": "markdown",
   "metadata": {
    "slideshow": {
     "slide_type": "subslide"
    }
   },
   "source": [
    "列出频率分布表\n",
    "\n",
    "![](./figures/67.png)"
   ]
  },
  {
   "cell_type": "markdown",
   "metadata": {
    "slideshow": {
     "slide_type": "subslide"
    }
   },
   "source": [
    "画频率分布直方图\n",
    "\n",
    "![](./figures/68.png)"
   ]
  },
  {
   "cell_type": "markdown",
   "metadata": {
    "slideshow": {
     "slide_type": "subslide"
    }
   },
   "source": [
    "当样本容量无限增大，分组的组距无限缩小，那么频率分布直方图就会无限接近一条光滑曲线 \n",
    "——总体密度曲线．\n",
    "\n",
    "![](./figures/69.png)"
   ]
  },
  {
   "cell_type": "markdown",
   "metadata": {
    "slideshow": {
     "slide_type": "slide"
    }
   },
   "source": [
    "**例5**从某种机械零件中抽取 $100$ 个零件, 测得它们的直径( $mm$ )的数据如下:\n",
    "\n",
    "![](./figures/610.png)\n"
   ]
  },
  {
   "cell_type": "markdown",
   "metadata": {
    "slideshow": {
     "slide_type": "fragment"
    }
   },
   "source": [
    "**解 :**由样本观测值可把数据的分布区间选定为 $(33.65，36.65)$, 并把它等分为 $10$ 个子区间."
   ]
  },
  {
   "cell_type": "markdown",
   "metadata": {
    "collapsed": true,
    "slideshow": {
     "slide_type": "subslide"
    }
   },
   "source": [
    "| 零件直径子区间 $\\quad\\quad\\quad$ | 频数 $m_i$ | 频率 $f_i$ |\n",
    "|------|------|------|\n",
    "| $33.65 \\sim 33.95$ | $1$ | $0.01$ |\n",
    "| $33.95 \\sim 34.25$ | $5$ | $0.05$ |\n",
    "| $34.25 \\sim 34.55$ | $9$ | $0.09$ |\n",
    "| $34.55 \\sim 34.85$ | $19$ | $0.19$ |\n",
    "| $34.85 \\sim 35.15$ | $24$ | $0.24$ |\n",
    "| $35.15 \\sim 35.45$ | $22$ | $0.22$ |\n",
    "| $35.45 \\sim 35.75$ | $11$ | $0.11$ |\n",
    "| $35.75 \\sim 36.05$ | $6$ | $0.06$ |\n",
    "| $36.05 \\sim 36.35$ | $1$ | $0.01$ |\n",
    "| $36.35 \\sim 36.65$ | $2$ | $0.02$ |\n",
    "| 总计 | $100$ | $1.00$ |"
   ]
  },
  {
   "cell_type": "markdown",
   "metadata": {
    "collapsed": true,
    "slideshow": {
     "slide_type": "subslide"
    }
   },
   "source": [
    "频率直方图\n",
    "\n",
    "![](./figures/611.png)\n",
    "\n",
    "直方图大致描述了总体 $X$ 的概率分布. "
   ]
  },
  {
   "cell_type": "markdown",
   "metadata": {
    "collapsed": true,
    "slideshow": {
     "slide_type": "slide"
    }
   },
   "source": [
    "#### 五. 经验分布函数"
   ]
  },
  {
   "cell_type": "markdown",
   "metadata": {
    "collapsed": true,
    "slideshow": {
     "slide_type": "fragment"
    }
   },
   "source": [
    "设总体X的分布函数 $F(x)$ 未知, $(x_1, x_2, \\cdots, x_n)$ 为总体 $X$ 的一个样本观察值, 将它们按大小排列为\n",
    "\n",
    "$$\n",
    "x_{(1)}\\leq x_{(2)}\\leq \\cdots \\leq x_{(n)}\n",
    "$$\n",
    "\n",
    "令\n",
    "\n",
    "$$\n",
    "F_n(x)=\n",
    "\\begin{cases}\n",
    "0,\\quad x <x_{(1)},\\\\\n",
    "\\frac{k}{n}, \\quad x_{(k)}\\leq x < x_{(k+1)},k=1,2,\\cdots, n-1\\\\\n",
    "1, \\quad x_{(n)}\\leq x\\\\ \n",
    "\\end{cases}\n",
    "$$\n",
    "\n",
    "称 $F_n(x)$ 为 $(x_1, x_2, \\cdots, x_n)$ 的**经验分布函数**."
   ]
  },
  {
   "cell_type": "markdown",
   "metadata": {
    "collapsed": true,
    "slideshow": {
     "slide_type": "subslide"
    }
   },
   "source": [
    "**注:**\n",
    "\n",
    "对任意实数 $x, F_n(x)$ 就是事件 $\\{X \\leq x\\}$出现的频率, 而该事件出现的概率就是总体 $X$ 的分布函数 $F(x)$.\n",
    "\n",
    "由频率和概率的关系知:$F_n(x)$ 可以作为未知分布函数 $F(x)$ 的一个近似, 且当 $n$ 越大时, 这种近似的精确程度越高."
   ]
  },
  {
   "cell_type": "markdown",
   "metadata": {
    "collapsed": true,
    "slideshow": {
     "slide_type": "slide"
    }
   },
   "source": [
    "$F_n(x)$ 的性质:\n",
    "\n",
    "* $0 \\leq F_n(x) \\leq 1$;\n",
    "\n",
    "* $F_n(x)$ 是非减函数;\n",
    "\n",
    "* $F_n(-\\infty)=0,\\quad F_n(+\\infty)=1$\n",
    "\n",
    "* $F_n(x)$ 在每个观测值 $x_{(1)}$ 处是右连续的, $F_n(x)$ 在该点的跃度就等于频率 $f_i(i=1,2,\\cdots,l)$.\n",
    "\n",
    "根据大树定律,可以依据样本来推断总体."
   ]
  },
  {
   "cell_type": "markdown",
   "metadata": {
    "collapsed": true,
    "slideshow": {
     "slide_type": "slide"
    }
   },
   "source": [
    "**例 6** 设从总体 $X$ 中取得一个容量为 $5$ 的样本, 样本观测值为 $-2, -1, 2.5, 3.1, 3.7$, 试求此样本的经验分布函数 $F_n(x)$."
   ]
  },
  {
   "cell_type": "markdown",
   "metadata": {
    "collapsed": true,
    "slideshow": {
     "slide_type": "subslide"
    }
   },
   "source": [
    "**解 :**由经验分布函数的定义知\n",
    "\n",
    "$$\n",
    "F_n(x)= \n",
    "\\begin{cases}\n",
    "0, \\quad x<-2\\\\\n",
    "\\frac{1}{5}, \\quad -2 \\leq x <-1\\\\\n",
    "\\frac{2}{5}, \\quad -1 \\leq x < 2.5\\\\\n",
    "\\frac{3}{5}, \\quad 2.5 \\leq x < 3.1\\\\\n",
    "\\frac{4}{5}, \\quad 3.1 \\leq x < 3.7\\\\\n",
    "1, \\quad 3.7 \\leq x\\\\\n",
    "\\end{cases}\n",
    "$$"
   ]
  },
  {
   "cell_type": "markdown",
   "metadata": {
    "collapsed": true,
    "slideshow": {
     "slide_type": "subslide"
    }
   },
   "source": [
    "![](./figures/612.png)"
   ]
  },
  {
   "cell_type": "markdown",
   "metadata": {
    "collapsed": true,
    "slideshow": {
     "slide_type": "slide"
    }
   },
   "source": [
    "#### 小结"
   ]
  },
  {
   "cell_type": "markdown",
   "metadata": {
    "collapsed": true,
    "slideshow": {
     "slide_type": "fragment"
    }
   },
   "source": [
    "* 有关概念: 总体与样本(注意样本的二重型);\n",
    "* 样本经验分布函数, 频率分布表和直方图.\n",
    "\n",
    "样本经验分布函数理论依据:\n",
    "  对于 $x$ 的任一确定的值, 根据贝努利定理, 当 $n \\to \\infty$ 时, \n",
    "\n",
    "$$\n",
    "lim_{n \\to \\infty} P(|F_n(x)-F(x)|<\\varepsilon)=1 \n",
    "$$\n",
    "\n",
    "因此, 可以依据样本来推断总体."
   ]
  },
  {
   "cell_type": "markdown",
   "metadata": {
    "collapsed": true,
    "slideshow": {
     "slide_type": "slide"
    }
   },
   "source": [
    "#### 样本频率分布表"
   ]
  },
  {
   "cell_type": "markdown",
   "metadata": {
    "collapsed": true,
    "slideshow": {
     "slide_type": "fragment"
    }
   },
   "source": [
    "从总体中抽取容量为 $n$ 的样本 $X_1,X_2,\\cdots, X_n$, 得观测值 $x_1, x_2, \\cdots, x_n$.\n",
    "\n",
    "| 观测值 | $x_{(1)}$ | $x_{(2)}$ | $\\cdots$ | $x_{(l)}$ | 总计 |\n",
    "|-------|-------|------|-------|------|------|\n",
    "| 频数 | $m_1$ | $m_2$ | $\\cdots$ | $m_l$ | $n$ |\n",
    "| 频率 | $f_1$ | $f_2$ | $\\cdots$ | $f_l$ | $1$ |\n",
    "\n",
    "其中 \n",
    "\n",
    "$$\n",
    "x_{(1)}\\leq x_{(2)}\\leq \\cdots \\leq x_{(l)},\\quad (l \\leq n)\\\\\n",
    "f_i = \\frac{m_i}{n}\\quad (i = 1,2,\\cdots,l),\\quad \\sum_{i=1}^l m_i = n,\\quad \\sum_{i=1}^l f_i =1\n",
    "$$"
   ]
  },
  {
   "cell_type": "markdown",
   "metadata": {
    "collapsed": true,
    "slideshow": {
     "slide_type": "slide"
    }
   },
   "source": [
    "#### 经验分布函数 $F_n(x)$"
   ]
  },
  {
   "cell_type": "markdown",
   "metadata": {
    "collapsed": true,
    "slideshow": {
     "slide_type": "subslide"
    }
   },
   "source": [
    "**定义**\n",
    "\n",
    "$$\n",
    "F_n(x)= \n",
    "\\begin{cases}\n",
    "0,\\quad x < x_{(1)}\\\\\n",
    "\\\\\n",
    "\\sum_{x_{(i)} \\leq x} f_i, \\quad x_{(i)} \\leq x < x_{(i+1)}\\\\\n",
    "\\\\\n",
    "1, \\quad x \\geq x_{(l)}\n",
    "\\end{cases}\n",
    "$$"
   ]
  },
  {
   "cell_type": "markdown",
   "metadata": {
    "slideshow": {
     "slide_type": "subslide"
    }
   },
   "source": [
    "![](./figures/613.png)"
   ]
  },
  {
   "cell_type": "markdown",
   "metadata": {},
   "source": [
    "**作业：**\n",
    "Page 122： 1, 2"
   ]
  }
 ],
 "metadata": {
  "celltoolbar": "Slideshow",
  "kernelspec": {
   "display_name": "Python 3",
   "language": "python",
   "name": "python3"
  },
  "language_info": {
   "codemirror_mode": {
    "name": "ipython",
    "version": 3
   },
   "file_extension": ".py",
   "mimetype": "text/x-python",
   "name": "python",
   "nbconvert_exporter": "python",
   "pygments_lexer": "ipython3",
   "version": "3.5.2"
  },
  "livereveal": {
   "height": 768,
   "scroll": "True",
   "slideNumber": "True",
   "start_slideshow_at": "selected",
   "theme": "sky",
   "width": 1024
  }
 },
 "nbformat": 4,
 "nbformat_minor": 1
}
