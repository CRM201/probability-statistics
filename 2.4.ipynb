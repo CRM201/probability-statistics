{
 "cells": [
  {
   "cell_type": "markdown",
   "metadata": {},
   "source": [
    "%html\n",
    "<script>\n",
    "    var code_show=true; //true -> hide code at first\n",
    "\n",
    "    function code_toggle() {\n",
    "        $('div.prompt').hide(); // always hide prompt\n",
    "\n",
    "        if (code_show){\n",
    "            $('div.input').hide();\n",
    "        } else {\n",
    "            $('div.input').show();\n",
    "        }\n",
    "        code_show = !code_show\n",
    "    }\n",
    "    $(document).ready(code_toggle);\n",
    "</script>\n",
    "<a href=\"javascript:code_toggle()\">[Toggle Code]</a>"
   ]
  },
  {
   "cell_type": "markdown",
   "metadata": {},
   "source": [
    "### §2.4  随机变量的分布函数"
   ]
  },
  {
   "cell_type": "markdown",
   "metadata": {},
   "source": [
    "#### 1. 分布函数的定义"
   ]
  },
  {
   "cell_type": "markdown",
   "metadata": {},
   "source": [
    "**定义** 设 $x$ 是任一实数, 考虑事件 $X \\leq x$ 的概率\n",
    "\n",
    "$$\n",
    "P(X \\leq x)\n",
    "$$\n",
    "\n",
    "它是 $x$ 的函数, 记作:\n",
    "\n",
    "$$\n",
    "F(x) = P(X \\leq x)\n",
    "$$\n",
    "\n",
    "称此函数为随机变量 $X$ 的**概率分布函数(或分布函数)**. "
   ]
  },
  {
   "cell_type": "markdown",
   "metadata": {
    "collapsed": true
   },
   "source": [
    "#### 利用分布函数计算概率"
   ]
  },
  {
   "cell_type": "markdown",
   "metadata": {
    "collapsed": true
   },
   "source": [
    "设随机变量 $X$ 的分布函数为 $F(x)$, $x_1 < x_2$, 则\n",
    "\n",
    "$$\n",
    "P(x_1 < X \\leq x_2) = F(x_2) - F(x_1)\n",
    "$$\n",
    "\n",
    "即随机变量落在某区间内的概率**等于**分布函数在该区间上的增量."
   ]
  },
  {
   "cell_type": "markdown",
   "metadata": {
    "collapsed": true
   },
   "source": [
    "\n",
    "**证明:** 对任意实数 $x_1, x_2, x_1 < x_2$, 由分布函数定义知, \n",
    "\n",
    "$$\n",
    "F(x_1) = P(X \\leq x_1), \\quad F(x_2)=P(X \\leq x_2).\n",
    "$$\n",
    "\n",
    "事件 $X \\leq x_2$ 是互不相容事件 $X \\leq x_1$ 与 $x_1 < X < x_2$ 的并:\n",
    "\n",
    "$$\n",
    "\\{X \\leq x_2\\} = \\{X \\leq x_1\\}+\\{x_1 < X \\leq x_2\\}\n",
    "$$\n",
    "\n",
    "所以\n",
    "\n",
    "$$\n",
    "P(x_1 < X \\leq x_2) = P(X \\leq x_2) - P(X \\leq x_1)=F(x_2)-F(x_1)\n",
    "$$"
   ]
  },
  {
   "cell_type": "markdown",
   "metadata": {
    "collapsed": true
   },
   "source": [
    "#### 2.分布函数的性质"
   ]
  },
  {
   "cell_type": "markdown",
   "metadata": {},
   "source": [
    "(1) $0 \\leq F(x) \\leq 1$. "
   ]
  },
  {
   "cell_type": "markdown",
   "metadata": {},
   "source": [
    "(2) 分布函数 $F(x)$ 是非减函数:"
   ]
  },
  {
   "cell_type": "markdown",
   "metadata": {},
   "source": [
    "当 $x_1 < x_2$ 时, $F(x_1) < F(x_2)$.\n",
    "\n",
    "事实上\n",
    "\n",
    "$$\n",
    "F(x_2)-F(x_1) = P(x_1 < x \\leq x_2) \\geq 0\n",
    "$$"
   ]
  },
  {
   "cell_type": "markdown",
   "metadata": {
    "collapsed": true
   },
   "source": [
    "(3) 如果 $X$ 的取值位于区间 $[a, b]$ 内, 则当 $x< a $ 时, $X \\leq x $ 是不可能事件, 所以有\n",
    "\n",
    "$$\n",
    "F(x)=0, x< a.\n",
    "$$\n",
    "\n",
    "而当 $x \\geq b$ 时, 事件 $X \\leq x$ 是必然事件, 所以有\n",
    "\n",
    "$$\n",
    "F(x) = 1, x \\geq b.\n",
    "$$\n",
    "\n",
    "一般情况下, 当随机变量可以取得任意实数值时,\n",
    "\n",
    "$$\n",
    "F(-\\infty) = \\lim_{x \\to -\\infty} F(x) = 0,\\\\\n",
    "F(+\\infty) = \\lim_{x \\to +\\infty} F(x) = 1\n",
    "$$"
   ]
  },
  {
   "cell_type": "markdown",
   "metadata": {},
   "source": [
    "(4) 离散随机变量的分布函数是右连续."
   ]
  },
  {
   "cell_type": "markdown",
   "metadata": {},
   "source": [
    "按概率加法定理, 有\n",
    "\n",
    "$$\n",
    "F(x) = P(X \\leq x) = \\sum_{x_i \\leq x} P(X = x_i) = \\sum_{x_i \\leq x} p(x_i).\n",
    "$$\n",
    "\n",
    "当 $x$ 在 $X$ 的两相邻可能值之间变化时, 分布函数 $F(x)$ 的值保持不变;\n",
    "\n",
    "当 $x$ 增大时, 每经过 $X$ 的任一可能值 $x_i$, $F(x)$的值总是跳跃式增加, **跃度**为\n",
    "\n",
    "$$\n",
    "P(X = x_i) = F(x_i) - F(x_i - 0),\n",
    "$$ \n",
    "\n",
    "于是, 随机变量 $X$ 的任一可能值 $x_i$ 是其分布函数 $F(x)$ 的**跳跃间断点**.\n",
    "\n",
    "函数 $F(x)$ 在点 $x_i$ 仅是**右连续**.\n",
    "\n",
    "离散随机变量的分布函数的图形是阶梯形\"曲线\"."
   ]
  },
  {
   "cell_type": "markdown",
   "metadata": {
    "collapsed": true
   },
   "source": [
    "**注：** Python 画图"
   ]
  },
  {
   "cell_type": "markdown",
   "metadata": {
    "collapsed": true
   },
   "source": [
    "**注：** 对于连续随机变量 $X$:\n",
    "\n",
    "事件\"$X=x_0$\"是试验的基本事件,但在实际的试验中,\n",
    "\n",
    "* 事件\"X = x_0\"发生的**概率极小**;\n",
    "\n",
    "* **无法检验**该事件是否真的发生.\n",
    "\n",
    "因此, **规定:**\n",
    "\n",
    "$$\n",
    "P(X = x_0) = 0.\n",
    "$$"
   ]
  },
  {
   "cell_type": "markdown",
   "metadata": {
    "collapsed": true
   },
   "source": [
    "(5) 对于连续随机变量, 由于 $P(X = x_0)=0$, 所以\n",
    "\n",
    "$$\n",
    "\\begin{align}\n",
    "P(x_1 < X \\leq x_2) & = P(x_1 \\leq X < x_2)\\\\\n",
    "& = P(x_1 \\leq X \\leq x_2)\\\\\n",
    "& = P(x_1 < X < x_2)\\\\\n",
    "& = F(x_2) - F(x_1)\\\\\n",
    "\\end{align}\n",
    "$$\n",
    "\n"
   ]
  },
  {
   "cell_type": "markdown",
   "metadata": {
    "collapsed": true
   },
   "source": [
    "(6) 连续随机变量的分布函数是**连续函数.**\n",
    "\n",
    "连续随机变量的分布函数 $y = F(x)$ 的图形是位于直线 $y = 0$ 与 $y = 1$ 之间的单调上升的连续曲线."
   ]
  },
  {
   "cell_type": "markdown",
   "metadata": {
    "collapsed": true
   },
   "source": [
    "![](./figures/22.png)"
   ]
  },
  {
   "cell_type": "markdown",
   "metadata": {
    "collapsed": true
   },
   "source": [
    "**例 1 ** 已知随机变量 $X$ 的分布列如下:\n",
    "\n",
    "| $X $ | $-1$ | $1$ | $2$ |\n",
    "|-----|-----|-----|-----|\n",
    "| $p(x_i)\\quad$ | $\\frac{1}{6}$ | $\\frac{2}{6}$ | $\\frac{3}{6}$ |\n",
    "\n",
    "求: \n",
    "\n",
    "(1) $F(x)$; \n",
    "\n",
    "(2)$P(X > \\frac{1}{2})$; \n",
    "\n",
    "(3)$P(1 < X \\leq \\frac{3}{2})$."
   ]
  },
  {
   "cell_type": "markdown",
   "metadata": {},
   "source": [
    "**解: ** \n",
    "\n",
    "(1) 当 $- \\infty < x < 1$ 时,\n",
    "\n",
    "$$\n",
    "F(x) = P(X \\leq x) = 0;\n",
    "$$\n",
    "\n",
    "当 $-1 \\leq x < 1$ 时, \n",
    "\n",
    "$$\n",
    "F(x) = P(X \\leq x) = P(X = -1) = \\frac{1}{6};\n",
    "$$\n",
    "\n",
    "当 $1 \\leq x < 2$ 时, \n",
    "\n",
    "$$\n",
    "F(x) = P(X \\leq x) = P(X = -1) + P(X = 1) = \\frac{1}{2};\n",
    "$$\n",
    "\n",
    "当 $2 \\leq x < \\infty$时, \n",
    "\n",
    "$$\n",
    "\\begin{align}\n",
    "F(x) & = P(X \\leq x)\\\\\n",
    "&= P(X = -1) + P(X =1)+P(X = 2) \\\\\n",
    "& =1\\\\\n",
    "\\end{align}\n",
    "$$"
   ]
  },
  {
   "cell_type": "markdown",
   "metadata": {
    "collapsed": true
   },
   "source": [
    "从而\n",
    "\n",
    "$$\n",
    "F(x) = \n",
    "\\begin{cases}\n",
    "0, \\quad\\quad - \\infty < x < 1;\\\\\n",
    "\\\\\n",
    "\\frac{1}{6}, \\quad\\quad  -1 \\leq x < 1;\\\\\n",
    "\\\\\n",
    "\\frac{1}{2}, \\quad\\quad 1 \\leq x < 2;\\\\\n",
    "\\\\\n",
    "1, \\quad\\quad 2 \\leq x < \\infty\\\\\n",
    "\\end{cases}\n",
    "$$"
   ]
  },
  {
   "cell_type": "markdown",
   "metadata": {
    "collapsed": true
   },
   "source": [
    "(2) \n",
    "\n",
    "$\n",
    "\\begin{align}\n",
    "P(X > \\frac{1}{2}) & = 1 - P(X \\leq \\frac{1}{2})\\\\\n",
    "& = 1 - F(\\frac{1}{2})\\\\\n",
    "& = 1 - \\frac{1}{6}\\\\\n",
    "& = \\frac{5}{6}\n",
    "\\end{align}\n",
    "$"
   ]
  },
  {
   "cell_type": "markdown",
   "metadata": {},
   "source": [
    "(3) \n",
    "\n",
    "$\n",
    "P(1 < X \\leq \\frac{3}{2}) = F(\\frac{3}{2})- F(1)=\\frac{1}{2}-\\frac{1}{2}=0\n",
    "$"
   ]
  },
  {
   "cell_type": "markdown",
   "metadata": {},
   "source": [
    "**例 2 :** 设连续随机变量 $X$ 的分布函数为:\n",
    "\n",
    "$$\n",
    "F(x)=\n",
    "\\begin{cases}\n",
    "0, \\quad \\quad x <0,\\\\\n",
    "\\\\\n",
    "A \\sin x,   0\\leq x \\leq \\frac{\\pi}{2};\\\\\n",
    "\\\\\n",
    "1, \\quad \\quad x\\geq \\frac{\\pi}{2}\\\\\n",
    "\\end{cases}\n",
    "$$\n",
    "\n",
    "求:\n",
    "\n",
    "(1)系数 $A$ ; \n",
    "\n",
    "(2)$P(|x|<\\frac{\\pi}{6})$"
   ]
  },
  {
   "cell_type": "markdown",
   "metadata": {},
   "source": [
    "**解: ** \n",
    "\n",
    "(1) 由 $\\lim_{x \\to \\frac{\\pi}{2}} A \\sin x = F(\\frac{\\pi }{2}) = 1$, 得 $A = 1$.\n",
    "\n",
    "(2) \n",
    "\n",
    "$\n",
    "\\begin{align}\n",
    "P(|X| < \\frac{\\pi}{6}) & = P(-\\frac{\\pi}{6} < X < \\frac{\\pi}{6})\\\\\n",
    "& =F(\\frac{\\pi}{6})- F(-\\frac{\\pi}{6}) \\\\\n",
    "& = \\frac{1}{2}\\\\\n",
    "\\end{align}\n",
    "$"
   ]
  },
  {
   "cell_type": "markdown",
   "metadata": {},
   "source": [
    "**例 3** 使用了 $t$ 小时的电子元件在以后的 $\\Delta t$ 小时内损坏的概率为 $\\lambda \\Delta t + o(\\Delta t)$, 其中 $\\lambda$ 是常数, $o(\\Delta t)$ 表示当  $\\Delta t \\to 0$ 时较 $\\Delta t$ 的高阶无穷小. 求电子元件的寿命(电子元件损坏前已使用的时数)的分布函数."
   ]
  },
  {
   "cell_type": "markdown",
   "metadata": {},
   "source": [
    "**解 :** 设 $X$ 表示电子元件的寿命, 则$X$ 的分布函数为\n",
    "\n",
    "$$\n",
    "F(t) = P(X \\leq t).\n",
    "$$\n",
    "\n",
    "当 $t < 0$ 时, $F(t)=0$; 当 $t \\geq 0$ 时, 设 $\\Delta t > 0$, 则\n",
    "\n",
    "$$\n",
    "\\begin{align}\n",
    "F(t + \\Delta t) & = P(X \\leq t + \\Delta t)\\\\\n",
    "& = P(X \\leq t) + P(t < X \\leq t + \\Delta t )\\\\\n",
    "& = P(X \\leq t) + P(X > t)P(X \\leq t + \\Delta t|X > t)\n",
    "\\end{align}\n",
    "$$"
   ]
  },
  {
   "cell_type": "markdown",
   "metadata": {},
   "source": [
    "因为\n",
    "\n",
    "$$\n",
    "P(X > t) = 1 - P(X \\leq t) = 1 - F(t)\\\\\n",
    "P(X \\leq t+\\Delta t|X > t) = \\lambda \\Delta t + o(\\Delta t)\n",
    "$$\n",
    "\n",
    "所以有\n",
    "\n",
    "$$\n",
    "F(t + \\Delta t) = F(t) +[1- F(t)][\\lambda \\Delta t + o(\\Delta t)]\n",
    "$$"
   ]
  },
  {
   "cell_type": "markdown",
   "metadata": {},
   "source": [
    "整理得\n",
    "\n",
    "$$\n",
    "\\frac{F(t+\\Delta t) - F(t)}{\\Delta t} = [1 - F(t)][\\lambda + \\frac{o(\\Delta t)}{\\Delta t}]\n",
    "$$\n",
    "\n",
    "令 $\\Delta t \\to 0$ 得\n",
    "\n",
    "$$\n",
    "\\frac{\\mathrm dF(t)}{\\mathrm dt} = \\lambda [1 - F(t)]\n",
    "$$"
   ]
  },
  {
   "cell_type": "markdown",
   "metadata": {},
   "source": [
    "解此微分方程得\n",
    "\n",
    "$$\n",
    "F(t) = 1 - e^{- \\lambda t}\n",
    "$$\n",
    "\n",
    "于是寿命 $X$ 的分布函数为\n",
    "\n",
    "$$\n",
    "F(t) = \n",
    "\\begin{cases}\n",
    "1 - e^{- \\lambda t}, \\quad t \\geq 0; 指数分布\\\\\n",
    "\\\\\n",
    "0, \\quad \\quad t<0\n",
    "\\end{cases}\n",
    "$$"
   ]
  },
  {
   "cell_type": "markdown",
   "metadata": {},
   "source": [
    "#### 小结"
   ]
  },
  {
   "cell_type": "markdown",
   "metadata": {},
   "source": [
    "1.分布函数是随机变量的, 随机特征和概率分布的完整刻画.\n",
    "\n",
    "2.分布函数的几个重要性质.\n",
    "\n",
    "3.利用分布函数计算概率的公式:\n",
    "\n",
    "$$\n",
    "P(x_1 < X \\leq x_2) = F(x_2) - F(x_1).\n",
    "$$"
   ]
  },
  {
   "cell_type": "markdown",
   "metadata": {
    "collapsed": true
   },
   "source": [
    "#### 思考题"
   ]
  },
  {
   "cell_type": "markdown",
   "metadata": {
    "collapsed": true
   },
   "source": [
    "设随机变量 $X$ 的分布函数为 \n",
    "\n",
    "$$\n",
    "F(x) = P(X \\leq x) =\n",
    "\\begin{cases}\n",
    "0,\\quad x<-1;\\\\\n",
    "\\\\\n",
    "0.4, \\quad -1 \\leq x < 1;\\\\\n",
    "\\\\\n",
    "0.8, \\quad 1 \\leq x < 3;\\\\\n",
    "\\\\\n",
    "1, \\quad x \\geq 3\\\\\n",
    "\\end{cases}\n",
    "$$\n",
    "\n",
    "求 $X$ 的概率分布表."
   ]
  },
  {
   "cell_type": "markdown",
   "metadata": {},
   "source": [
    "**解: ** 显然, $X$ 是离散型随机变量, 且 $X$ 的可能值为 $-1, 1, 3$.\n",
    "\n",
    "易知\n",
    "\n",
    "$$\n",
    "\\begin{align}\n",
    "& P(X = -1)  = F(-1) - F(-1-0) = 0.4 - 0 =0.4,\\\\\n",
    "& P(X = 1) = F(1) - F(1 - 0) = 0.8 - 0.4 = 0.4,\\\\\n",
    "& P(X = 3) = F(3) - F(3 - 0) = 1 - 0.8 = 0.2.\\\\\n",
    "\\end{align}\n",
    "$$ \n",
    "\n",
    "所以 $X$ 的概率分布为:\n",
    "\n",
    "| $\\quad X \\quad  $ | $-1$ | $1$ | $3$ |\n",
    "|-----|-----|-----|-----|\n",
    "| $P(X=x_i)\\quad$ | $0.4$ | $0.4$ | $0.2$ |"
   ]
  },
  {
   "cell_type": "markdown",
   "metadata": {},
   "source": [
    "**作业：**\n",
    "Page 56:  9, 10"
   ]
  },
  {
   "cell_type": "code",
   "execution_count": null,
   "metadata": {
    "collapsed": true
   },
   "outputs": [],
   "source": []
  }
 ],
 "metadata": {
  "kernelspec": {
   "display_name": "Python 3",
   "language": "python",
   "name": "python3"
  },
  "language_info": {
   "codemirror_mode": {
    "name": "ipython",
    "version": 3
   },
   "file_extension": ".py",
   "mimetype": "text/x-python",
   "name": "python",
   "nbconvert_exporter": "python",
   "pygments_lexer": "ipython3",
   "version": "3.5.2"
  }
 },
 "nbformat": 4,
 "nbformat_minor": 0
}
