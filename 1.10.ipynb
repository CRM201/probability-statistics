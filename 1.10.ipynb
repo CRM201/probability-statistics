{
 "cells": [
  {
   "cell_type": "markdown",
   "metadata": {
    "collapsed": true
   },
   "source": [
    "## §1.10  概率论的公理化体系"
   ]
  },
  {
   "cell_type": "markdown",
   "metadata": {},
   "source": [
    "### 古典概率的三个基本性质"
   ]
  },
  {
   "cell_type": "markdown",
   "metadata": {},
   "source": [
    "1.(**非负性**) 对于任一随机事件 $A$, 有\n",
    "\n",
    "$$\n",
    "P(A)\\geq 0, \\forall A  \\subset \\Omega\n",
    "$$"
   ]
  },
  {
   "cell_type": "markdown",
   "metadata": {},
   "source": [
    "2.(**规范性**) 对于必然事件 $\\Omega$ 有\n",
    "\n",
    "$$\n",
    "P(\\Omega)=1\n",
    "$$"
   ]
  },
  {
   "cell_type": "markdown",
   "metadata": {},
   "source": [
    "3.(**有限可加性**) 若事件 $A_1$, $A_2$, $\\cdots$, $A_n$ 互不相容， 则\n",
    "\n",
    "$$\n",
    "P(\\sum_{i=1}^n A_i)=\\sum_{i=1}^n P(A_i)\n",
    "$$"
   ]
  },
  {
   "cell_type": "markdown",
   "metadata": {},
   "source": [
    "### 几何概率的三个基本性质"
   ]
  },
  {
   "cell_type": "markdown",
   "metadata": {},
   "source": [
    "1.(**非负性**) 对于任一随机事件 $A$, 有\n",
    "\n",
    "$$\n",
    "P(A)\\geq 0, \\forall A  \\subset \\Omega\n",
    "$$"
   ]
  },
  {
   "cell_type": "markdown",
   "metadata": {},
   "source": [
    "2.(**规范性**) 对于必然事件 $\\Omega$， 有\n",
    "\n",
    "$$\n",
    "P(\\Omega)=1\n",
    "$$"
   ]
  },
  {
   "cell_type": "markdown",
   "metadata": {},
   "source": [
    "3.(**可列可加性**) 若事件 $A_1$, $A_2$, $\\cdots$, $A_n$， $\\cdots$ 互不相容， 则\n",
    "\n",
    "$$\n",
    "P(\\sum_{i=1}^\\infty A_i)=\\sum_{i=1}^\\infty P(A_i)\n",
    "$$"
   ]
  },
  {
   "cell_type": "markdown",
   "metadata": {},
   "source": [
    "### 频率的三个基本性质"
   ]
  },
  {
   "cell_type": "markdown",
   "metadata": {},
   "source": [
    "1.(**非负性**) 对于任一随机事件 $A$, 有\n",
    "\n",
    "$$\n",
    "f_n(A)\\geq 0, \\forall A  \\subset \\Omega\n",
    "$$"
   ]
  },
  {
   "cell_type": "markdown",
   "metadata": {},
   "source": [
    "2.(**规范性**) 对于必然事件 $\\Omega$， 有\n",
    "\n",
    "$$\n",
    "f_n(\\Omega)=1\n",
    "$$"
   ]
  },
  {
   "cell_type": "markdown",
   "metadata": {},
   "source": [
    "3.(**有限可加性**) 若事件 $A_1$, $A_2$, $\\cdots$, $A_n$ 互不相容， 则\n",
    "\n",
    "$$\n",
    "f_n(\\sum_{i=1}^n A_i)=\\sum_{i=1}^n f_n(A_i)\n",
    "$$"
   ]
  },
  {
   "cell_type": "markdown",
   "metadata": {},
   "source": [
    "### 概率的公理化定义"
   ]
  },
  {
   "cell_type": "markdown",
   "metadata": {},
   "source": [
    "设试验的样本空间为 $\\Omega$, 随机事件 $A$ 是 $\\Omega$ 的子集， $P(A)$ 是实值函数， 如果满足下列**三条公理**："
   ]
  },
  {
   "cell_type": "markdown",
   "metadata": {},
   "source": [
    "**公理1** (**非负性**) 对于任一随机事件 $A$, 有 $P(A)\\geq 0$\n",
    "\n",
    "**公理2** (**规范性**) 对于必然事件 $\\Omega$， 有\n",
    "\n",
    "$$\n",
    "P(\\Omega)=1\n",
    "$$\n",
    "\n",
    "**公理3** (**可列可加性**) 若事件 $A_1$, $A_2$, $\\cdots$, $A_n$， $\\cdots$ 互不相容， 则\n",
    "\n",
    "$$\n",
    "P(\\sum_{i=1}^\\infty A_i)=\\sum_{i=1}^\\infty P(A_i)\n",
    "$$\n",
    "\n",
    "则称 $P(A)$ 为 $A$ 的概率"
   ]
  },
  {
   "cell_type": "markdown",
   "metadata": {},
   "source": [
    "### 用公理化定义导出概率的一些重要性质"
   ]
  },
  {
   "cell_type": "markdown",
   "metadata": {},
   "source": [
    "(1) $P(\\emptyset)=0$"
   ]
  },
  {
   "cell_type": "markdown",
   "metadata": {},
   "source": [
    "(2) **有限可加性** 若事件 $A_1$, $A_2$, $\\cdots$, $A_n$ 互不相容， 则\n",
    "\n",
    "$$\n",
    "P(\\bigcup_{i=1}^n A_i)=\\sum_{i=1}^n P(A_i)\n",
    "$$"
   ]
  },
  {
   "cell_type": "markdown",
   "metadata": {},
   "source": [
    "(3) $P(\\bar{A})=1-P(A)\\Rightarrow P(A)\\leq 1$"
   ]
  },
  {
   "cell_type": "markdown",
   "metadata": {
    "collapsed": true
   },
   "source": [
    "(4) 若 $B\\subset A$, 则 $P(B)\\leq P(A)$, 且 $P(A\\bar{B})=P(A)-P(B)$. **更一般地** $P(A\\bar{B})=P(A)-P(AB)$"
   ]
  },
  {
   "cell_type": "markdown",
   "metadata": {
    "collapsed": true
   },
   "source": [
    "(5) **加法公式：** 对任意的两个事件 $A$, $B$, 有\n",
    "\n",
    "$$\n",
    "P(A\\cup B)=P(A)+P(B)-P(AB)\n",
    "$$\n",
    "\n",
    "$$\n",
    "P(A\\cup B)\\leq P(A)+P(B)\n",
    "$$\n",
    "\n",
    "**推广：** \n",
    "\n",
    "$$\n",
    "P(A \\cup B \\cup C)=P(A)+P(B)+P(C)-P(AB)-P(AC)-P(BC)+P(ABC)\n",
    "$$\n",
    "\n",
    "**一般：**\n",
    "\n",
    "$$\n",
    "P(\\bigcup_{i=1}^n A_i)=\\sum_{i=1}^n P(A_i)-\\sum_{1\\leq i<j \\leq n} P(A_iA_j)+\\sum_{1\\leq i<j<k \\leq n} P(A_iA_jA_k)+\\cdots+(-1)^{n-1}P(A_1A_2\\cdots A_n)\n",
    "$$\n",
    "\n",
    "右端共有 $2^n-1$ 项."
   ]
  },
  {
   "cell_type": "markdown",
   "metadata": {},
   "source": [
    "**例1** 某人参加“智力大冲浪”游戏, 他能答出甲、乙二类问题的概率分别为 0.7 和 0.2, 两类问题都能答出的概率为 0.1. 求他\n",
    "\n",
    "(1) 答出甲类而答不出乙类问题的概率;\n",
    "\n",
    "(2) 至少有一类问题能答出的概率;\n",
    "\n",
    "(3) 两类问题都答不出的概率."
   ]
  },
  {
   "cell_type": "markdown",
   "metadata": {},
   "source": [
    "**解:**  事件 $A$, $B$ 分别表示“能答出甲, 乙类问题”\n",
    "\n",
    "(1) $P(A\\bar{B})=P(A)-P(AB)=0.7-0.1=0.6$\n",
    "\n",
    "(2) $P(A\\cup B)=P(A)+P(B)-P(AB)=0.8$\n",
    "\n",
    "(3) $P(\\bar{A}\\bar{B})=p(\\overline{A\\cup B})=0.2$"
   ]
  },
  {
   "cell_type": "markdown",
   "metadata": {},
   "source": [
    "**定义** 设 $A$、 $B$ 为两事件, $P(A)>0$, 则称\n",
    "\n",
    "$$\n",
    "{\\color{Blue}{\\frac{P(AB)}{P(A)}}}\n",
    "$$\n",
    "\n",
    "为事件 $A$ 发生的条件下事件 $B$ 发生的**条件概率**,\n",
    "\n",
    "记作\n",
    "\n",
    "$$\n",
    "{\\color{Blue}{P(B|A)=\\frac{P(AB)}{P(A)}}}\n",
    "$$"
   ]
  },
  {
   "cell_type": "markdown",
   "metadata": {},
   "source": [
    "条件概率也是概率, 故具有概率的性质：\n",
    "\n",
    "(1) **非负性** $P(B|A)\\geq 0;$\n",
    "\n",
    "(2) **归一性** $P(\\Omega|A)=1$;\n",
    "\n",
    "(3) **可列可加性** $B_1$, $B_2$, $\\cdots$, $B_n$, $\\cdots$ **两两互斥**, 则\n",
    "\n",
    "$$\n",
    "P(\\bigcup_{i=1}^\\infty B_i|A)=\\sum_{i=1}^\\infty P(B_i|A)\n",
    "$$\n",
    "\n",
    "(4) $P(\\bar{B}|A)=1-P(B|A)$\n",
    "\n",
    "(5) $P(B_1\\bar{B_2}|A)=P(B_1|A)-P(B_1B_2|A)$;\n",
    "\n",
    "(6) $P(B_1\\cup B_2|A)=P(B_1|A)+P(B_2|A)-P(B_1B_2|A)$"
   ]
  },
  {
   "cell_type": "markdown",
   "metadata": {},
   "source": [
    "### 小    结"
   ]
  },
  {
   "cell_type": "markdown",
   "metadata": {},
   "source": [
    "1、概率的统计定义与古典定义的**局限性**: 概率的统计定义基于人们长期的经验,直观明了, 但频率在何种意义下趋近于概率没有确切的数学意义; 概率的古典定义应用范围有限."
   ]
  },
  {
   "cell_type": "markdown",
   "metadata": {},
   "source": [
    "2、概率论的发展要求对概率这个**核心概念**给出精确的数学定义. 20世纪30年代, 前苏联数学家科尔莫戈罗夫给出了概率的公理化定义, 成功地将概率论建立在可靠的数学基础之上."
   ]
  },
  {
   "cell_type": "code",
   "execution_count": null,
   "metadata": {
    "collapsed": true
   },
   "outputs": [],
   "source": []
  }
 ],
 "metadata": {
  "kernelspec": {
   "display_name": "Python 3",
   "language": "python",
   "name": "python3"
  },
  "language_info": {
   "codemirror_mode": {
    "name": "ipython",
    "version": 3
   },
   "file_extension": ".py",
   "mimetype": "text/x-python",
   "name": "python",
   "nbconvert_exporter": "python",
   "pygments_lexer": "ipython3",
   "version": "3.5.2"
  }
 },
 "nbformat": 4,
 "nbformat_minor": 0
}
