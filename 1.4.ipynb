{
 "cells": [
  {
   "cell_type": "markdown",
   "metadata": {},
   "source": [
    "**问题:** 班级用抓阄的办法来确定奖学金的归属，请问这对每个学生来说是公平的吗？"
   ]
  },
  {
   "cell_type": "markdown",
   "metadata": {
    "collapsed": true
   },
   "source": [
    "### §1.4 概率的古典定义"
   ]
  },
  {
   "cell_type": "markdown",
   "metadata": {},
   "source": [
    "### 排列组合有关知识复习:"
   ]
  },
  {
   "cell_type": "markdown",
   "metadata": {},
   "source": [
    "**加法原理: ** 完成一件事情有 $r$ 类方法, 第 $i$ 类方法中有 ${\\color{Blue}{m_i}}$ 种具体的方法, 则完成这件事情共有\n",
    "\n",
    "$$\n",
    "{\\color{Blue}{\\sum_{i=1}^r m_i}}\n",
    "$$\n",
    "\n",
    "种不同的方法.\n",
    "\n",
    "**乘法原理:** 完成一件事情有 $r$ 个步骤, 第 $i$ 个步骤中有 ${\\color{Blue}{m_i}}$ 种具体的方法, 则完成这件事情共有\n",
    "\n",
    "$$\n",
    "{\\color{Blue}{\\prod_{i=1}^r m_i}}\n",
    "$$\n",
    "\n",
    "种不同的方法."
   ]
  },
  {
   "cell_type": "markdown",
   "metadata": {},
   "source": [
    "**加法原理:** 设完成一件事可有两种途径,  第一种途径有 $n_1$ 种方法, 第二种途径有 $n_2$ 种方法, 则完成这件事共有 ${\\color{Blue}{n_1 +n_2}}$ 种方法.\n",
    "\n",
    "![](./figures/5.png)"
   ]
  },
  {
   "cell_type": "markdown",
   "metadata": {},
   "source": [
    "**乘法原理:** 设完成一件事需分两步,第一步有 $n_1$ 种方\n",
    "法, 第二步有 $n_2$ 种方法, 则完成这件事共有 ${\\color{Blue}{n_1 n_2}}$ 种方法.\n",
    "![](./figures/6.png)"
   ]
  },
  {
   "cell_type": "markdown",
   "metadata": {},
   "source": [
    "**排列** 从 $n$ 个不同的元素中取出 $m$ 个(不放回地)按一定的**次序**排成一排, 不同的排法共有\n",
    "\n",
    "$$\n",
    "P_n^m={\\color{Blue}{A_n^m}}={\\color{Red}{n(n-1)(n-2)\\cdots(n-m+1)}}\n",
    "$$"
   ]
  },
  {
   "cell_type": "markdown",
   "metadata": {},
   "source": [
    "**全排列**\n",
    "\n",
    "$$\n",
    "{\\color{Red}{A_n^m=P_n=n!}}\n",
    "$$"
   ]
  },
  {
   "cell_type": "markdown",
   "metadata": {},
   "source": [
    "**可重复排列** 从 $n$ 个不同的元素中可重复地取出 $m$ 个排成一排, 不同的排法有 ${\\color{Blue}{n^m}}$ 种."
   ]
  },
  {
   "cell_type": "markdown",
   "metadata": {},
   "source": [
    "**组合** 从 $n$ 个不同的元素中取出 $m$ 个(不放回地)组成一组, 不同的分法共有\n",
    "\n",
    "$$\n",
    "{\\color{Blue}{C_n^m}}{\\color{Red}{=\\frac{A_n^m}{P_m}=\\frac{n(n-1)(n-2)\\cdots(n-m+1)}{m!}}}\\\\\n",
    "{\\color{Red}{=\\frac{n!}{m!(n-m)!}}}\n",
    "$$"
   ]
  },
  {
   "cell_type": "markdown",
   "metadata": {},
   "source": [
    "### 1.古典概型"
   ]
  },
  {
   "cell_type": "markdown",
   "metadata": {},
   "source": [
    "在随机试验中, 如果由于某种对称性条件, 使得若干个随机事件发生的可能性客观上完全相同, 则称这些事件是 **等可能的**."
   ]
  },
  {
   "cell_type": "markdown",
   "metadata": {},
   "source": [
    "**概率的古典定义**\n",
    "\n",
    "设样本空间 ${\\color{Red}{\\Omega}}$ 共有 ${\\color{Red}{n_{\\Omega}}}$ 个等可能的基本事件, 随机事件 $A$ 包含 ${\\color{Red}{n_A(n_A\\leq n_{\\Omega})}}$ 个基本事件, 则\n",
    "${\\color{Red}{n_A}}$ 与 ${\\color{Red}{n_\\Omega}}$ 之比叫做随机事件 $A$ 的**概率**, 记作 ${\\color{Blue}{P(A)}}:$\n",
    "\n",
    "$$\n",
    "P(A)=\\frac{n_A}{n_{\\Omega}}\n",
    "$$"
   ]
  },
  {
   "cell_type": "markdown",
   "metadata": {},
   "source": [
    "**例1** 袋中有三个白球,两个黑球, 从中任取两个球, 求所取两球都是白球的概率.\n",
    "\n",
    "**错误!** 设 ${\\color{Blue}{A}}$: 所取两球都是白球, 样本空间为\n",
    "\n",
    "$$\n",
    "\\Omega=\\{\\omega_{00}, \\omega_{01}, \\omega_{11}\\}\n",
    "$$\n",
    "\n",
    "其中 \n",
    "\n",
    "$\\omega_{00}$: 所取两球都是白球,\n",
    "\n",
    "$\\omega_{01}$: 所取两球一个是白球一个是黑球,\n",
    "\n",
    "$\\omega_{11}$:所取两球都是黑球,\n",
    "\n",
    "则\n",
    "$$\n",
    "P(A)=\\frac{1}{3}.\n",
    "$$？？？？\n",
    "\n",
    "**三个样本点不是等可能的!**"
   ]
  },
  {
   "cell_type": "markdown",
   "metadata": {},
   "source": [
    "**正确的思考方法:** 将 5 个球视为 5 个不同的个体而不是只视为黑白两类!\n",
    "\n",
    "将 5 个球进行编号:1, 2, 3 号为 **白球**, 4, 5 号为黑球\n",
    "\n",
    "设 $\\omega_{ij}: $取出的两球的号码为 $i, j (1\\leq i<j \\leq 5)$, 则\n",
    "\n",
    "$$\n",
    "\\Omega=\\{\\omega_{12},\\omega_{1３},\\omega_{1４},\\omega_{1５},\\omega_{２３},\\omega_{２４},\\omega_{２５},\\omega_{３４},\\omega_{３５},\\omega_{４５}\\}\\\\\n",
    "A=\\{\\omega_{12},\\omega_{13},\\omega_{23}\\}\n",
    "$$\n",
    "\n",
    "从而\n",
    "\n",
    "$$\n",
    "P(A)=\\frac{3}{10}=0.3\n",
    "$$"
   ]
  },
  {
   "cell_type": "markdown",
   "metadata": {},
   "source": [
    "**表达方法:**\n",
    "\n",
    "样本空间中基本事件总数:\n",
    "\n",
    "$$\n",
    "N=C_5^2=\\frac{5!}{2!\\cdot3!}=10,\n",
    "$$\n",
    "\n",
    "事件 $A$ 所包含的基本事件总数:\n",
    "\n",
    "$$\n",
    "M=C_3^2=3\n",
    "$$\n",
    "\n",
    "于是\n",
    "\n",
    "$$\n",
    "P(A)=\\frac{M}{N}=\\frac{3}{10}=0.3\n",
    "$$"
   ]
  },
  {
   "cell_type": "markdown",
   "metadata": {},
   "source": [
    "**利用古典概率定义计算发生事件的概率步骤：**\n",
    "1. 计算样本空间的基本事件总数, 所选样本空间中的基本事件必须是等概率的。\n",
    "2. 计算所关心事件包含的基本事件总数。"
   ]
  },
  {
   "cell_type": "markdown",
   "metadata": {},
   "source": [
    "**例2** 一批产品共有 $N$ 件, 其中有 $M$ 件次品. 从这批产品中**依次**任取 $n$ 件, 求其中恰有 $m$ 件次品的概率. 抽样方式分别为:(1)有放回; (2)无放回."
   ]
  },
  {
   "cell_type": "markdown",
   "metadata": {},
   "source": [
    "**解:** (1) **有放回情形**\n",
    "\n",
    "样本空间中基本事件总数: $N^n=N\\cdot N\\cdots N$,\n",
    "\n",
    "A 所包含的基本事件总数: $C_n^mM^m(N-M)^{n-m}$, \n",
    "\n",
    "于是\n",
    "\n",
    "$$\n",
    "P(A)=\\frac{C_n^mM^m(N-M)^{n-m}}{N^n}=C_n^m(\\frac{M}{N})^m(1-\\frac{M}{N})^{n-m}.\n",
    "$$\n",
    "\n",
    "(2) **无放回情形**\n",
    "\n",
    "样本空间中基本事件总数:\n",
    "\n",
    "$$\n",
    "N\\cdot(N-1)\\cdots(N-n+1)=P_N^n,\n",
    "$$\n",
    "\n",
    "$A$ 所包含的基本事件总数:\n",
    "\n",
    "$$\n",
    "C_n^mP_M^mP_{N-M}^{n-m},\n",
    "$$\n",
    "\n",
    "于是\n",
    "\n",
    "$$\n",
    "{\\color{Blue}{P(A)}}=\\frac{C_n^mP_M^mP_{N-M}^{n-m}}{P_N^n}\n",
    "$$"
   ]
  },
  {
   "cell_type": "markdown",
   "metadata": {},
   "source": [
    "**例3**(继上题)\n",
    "\n",
    "将抽样方式从“**依次**抽 $n$ 件样品不放回”改为“**一次**任取 $n$ 件样品”, 求相应的概率?"
   ]
  },
  {
   "cell_type": "markdown",
   "metadata": {},
   "source": [
    "**解:** \n",
    "\n",
    "样本空间中基本事件总数为:$C_N^n$,\n",
    "\n",
    "A 所包含的基本事件总数为: $C_M^mC_{N-M}^{n-m}$, \n",
    "\n",
    "于是\n",
    "\n",
    "$$\n",
    "{\\color{Red}{P(A)=\\frac{C_M^mC_{N-M}^{n-m}}{C_N^n}}}\n",
    "$$"
   ]
  },
  {
   "cell_type": "markdown",
   "metadata": {},
   "source": [
    "**附:** 不放回依次抽样与一次抽样的等价性\n",
    "\n",
    "$$\n",
    "P(A)=\\frac{C_n^mP_M^mP_{N-M}^{n-m}}{P_N^n}=\\frac{C_M^mC_{N-M}^{n-m}}{C_N^n}\n",
    "$$\n",
    "\n",
    "利用公式 ${\\color{Blue}{P_m^n=n!C_m^n}}$ 得,\n",
    "\n",
    "$$\n",
    "\\begin{aligned}\n",
    "\\frac{C_n^m P_M^m P_{N-M}^{n-m}}{P_N^n}\n",
    "&=\\frac{C_n^m\\cdot m!C_M^m \\cdot (n-m)!C_{N-M}^{n-m}}{n!C_N^n}\\\\\n",
    "&=C_n^m\\frac{m!(n-m)!}{n!}\\frac{C_M^mC_{N-M}^{n-m}}{C_N^n}\\\\\n",
    "&=\\frac{C_M^mC_{N-M}^{n-m}}{C_N^n}\\\\\n",
    "\\end{aligned}\n",
    "$$\n",
    "\n"
   ]
  },
  {
   "cell_type": "markdown",
   "metadata": {},
   "source": [
    "**例4** 一批产品共有 ${\\color{Blue}{N}}$ 件,其中有 ${\\color{Blue}{M}}$ 件次品. 每次从中任取一件, 取出后不放回, 接连取 ${\\color{Blue}{k}}$ 个产品. 求第 $k$ 次取得次品的概率. $(k = 1,2,3, \\cdots, N )$."
   ]
  },
  {
   "cell_type": "markdown",
   "metadata": {},
   "source": [
    "**解:** 基本事件总数为:\n",
    "\n",
    "$$\n",
    "P_N^k=N\\cdot(N-1)\\cdots(N-k+1),\n",
    "$$\n",
    "\n",
    "设 $A_k$ 表示第 $k$ 次取得次品, 则 $A_k$ 包含的基本事件总数为 :\n",
    "\n",
    "$$\n",
    "MP_{N-1}^{k-1}=M\\cdot(N-1)(N-2)\\cdots(N-k+1),\n",
    "$$\n",
    "\n",
    "于是\n",
    "\n",
    "$$\n",
    "P(A_k)=\\frac{MP_{N-1}^{k-1}}{P_N^k}=\\frac{M\\cdot(N-1)(N-2)\\cdots(N-k+1)}{N\\cdot(N-1)\\cdots(N-k+1)}=\\frac{M}{N}\n",
    "$$\n",
    "\n",
    "$$\n",
    "P(A_k) 与 k 无关！　 {\\color{Blue}{抽签次序无关性}}\n",
    "$$"
   ]
  },
  {
   "cell_type": "markdown",
   "metadata": {},
   "source": [
    "### 2.几何概型"
   ]
  },
  {
   "cell_type": "markdown",
   "metadata": {},
   "source": [
    "假设随机试验包含无穷多个基本事件,且每个基本事件都是等可能的."
   ]
  },
  {
   "cell_type": "markdown",
   "metadata": {},
   "source": [
    "**定义**\n",
    "\n",
    "假设试验的样本空间 $\\Omega$ 包含 **无穷多个基本事件**, 其总量可用某种几何特征进行度量; 事件 $A$ 包含的基本事件可用同样的几何特征度量. 事件 $A$ 的概率定义为:\n",
    "\n",
    "$$\n",
    "{\\color{Red}{P(A)=\\frac{A \\text{的度量}}{\\Omega \\text{的度量}}}}\n",
    "$$"
   ]
  },
  {
   "cell_type": "markdown",
   "metadata": {},
   "source": [
    "**例5** 甲乙两人相约在某段时间 $T$ 内在预定地点会面. 先到的人应等候另一人, 经过时间 $t$($t < T$)后方可离开. 求甲乙两人会面的概率, 假定他们在时间 $T$ 内的任一时刻到达预定地点是等可能的."
   ]
  },
  {
   "cell_type": "markdown",
   "metadata": {},
   "source": [
    "**解** 设甲乙两人在时间 $T$ 内到达预定地点的时刻分别为 $x$ 及 $y$ , 显然有\n",
    "\n",
    "$$\n",
    "0\\leq x\\leq T,0\\leq y\\leq T\n",
    "$$\n",
    "\n",
    "两人能会面的 ${\\color{Red}{充要条件}}$ 为:\n",
    "\n",
    "$$\n",
    "|x-y|<t\n",
    "$$\n",
    "\n",
    "将 $x$ , $y$ 视为 $xOy$ 平面上的点的坐标,则样本空间为\n",
    "\n",
    "$$\n",
    "\\Omega=\\{(x,y)|0\\leq x \\leq T,0\\leq y\\leq T\\}\n",
    "$$\n",
    "\n",
    "![](./figures/7.png)\n",
    "\n",
    "两人能会面这一事件所对应的基本事件位于图中阴影部分区域. 于是, 两人能会面的概率为阴影部分面积与区域 $\\Omega$ 的面积之比 :\n",
    "\n",
    "$$\n",
    "P=\\frac{T^2-(T-t)^2}{T^2}=1-(1-\\frac{t}{T})^2\n",
    "$$"
   ]
  },
  {
   "cell_type": "markdown",
   "metadata": {},
   "source": [
    "## 小 结"
   ]
  },
  {
   "cell_type": "markdown",
   "metadata": {},
   "source": [
    "1.古典概型:构建合适的样本空间, 正确计算样本点个数. 构建样本空间时, 要特别注意样本点的等可能性.\n",
    "\n",
    "2.两个重要的概率模型——无放回抽样(超几何分布), 抽签次序无关性.\n",
    "\n",
    "3.几何概型——古典概型的推广: 样本空间为无穷集合."
   ]
  },
  {
   "cell_type": "markdown",
   "metadata": {},
   "source": [
    "**思考题**"
   ]
  },
  {
   "cell_type": "markdown",
   "metadata": {},
   "source": [
    "从 0, 1, 2, $\\cdots$, 9 共十个数字中任意选出三个不同的数字,试求下列事件的概率:\n",
    "\n",
    "(1) $A_1$=\\{三个数字中不含 0 和 5\\}\n",
    "\n",
    "(2) $A_2$=\\{三个数字中不含 0 或 5\\}\n",
    "\n",
    "(3) $A_3$=\\{三个数字中含 0 但不含 5\\}"
   ]
  },
  {
   "cell_type": "markdown",
   "metadata": {},
   "source": [
    "解: 基本事件总数 $N=C_{10}^3$\n",
    "\n",
    "(1) 因为三个数字中不含 0 和 5, 则这三个数字可以从其余八个数字中任意选出, 所以事件 $A_1$ 包含的基本事件数为: $M_1=C_8^3$\n",
    "\n",
    "于是\n",
    "\n",
    "$$\n",
    "P(A_1)=\\frac{C_8^3}{C_{10}^3}=\\frac{7}{15}\n",
    "$$\n",
    "\n",
    "(2) 考虑 $A_2$ 的对立事件： 三个数字中含 0 和 5, 则另一个数字可从其余八个数字中任意选出, 所以 $\\bar A_2$ 包含的基本事件数为 $M_2=C_8^1$\n",
    "\n",
    "于是\n",
    "\n",
    "$$\n",
    "P(\\bar{A_2})=\\frac{C_8^1}{C_{10}^3}=\\frac{1}{15}\n",
    "$$\n",
    "\n",
    "$$\n",
    "P(A_2)=1-P(\\bar{A_2})=1-\\frac{1}{15}=\\frac{14}{15}\n",
    "$$\n",
    "\n",
    "(3) 因为三个数字中含 0 但不含 5, 则另两个数字可从其余八个数字中任意选出, 所以事件 $A_3$ 所包含的基本事件数为: $M_3=C_8^2$.\n",
    "\n",
    "于是\n",
    "\n",
    "$$\n",
    "(A_3)=\\frac{C_8^2}{C_{10}^3}=\\frac{7}{30}\n",
    "$$"
   ]
  },
  {
   "cell_type": "markdown",
   "metadata": {
    "collapsed": true
   },
   "source": [
    "**作业：**\n",
    "Page 29: 4. 7. 10."
   ]
  },
  {
   "cell_type": "code",
   "execution_count": null,
   "metadata": {
    "collapsed": true
   },
   "outputs": [],
   "source": []
  }
 ],
 "metadata": {
  "kernelspec": {
   "display_name": "Python 3",
   "language": "python",
   "name": "python3"
  },
  "language_info": {
   "codemirror_mode": {
    "name": "ipython",
    "version": 3
   },
   "file_extension": ".py",
   "mimetype": "text/x-python",
   "name": "python",
   "nbconvert_exporter": "python",
   "pygments_lexer": "ipython3",
   "version": "3.5.2"
  }
 },
 "nbformat": 4,
 "nbformat_minor": 0
}
