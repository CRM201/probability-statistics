{
 "cells": [
  {
   "cell_type": "markdown",
   "metadata": {
    "collapsed": true
   },
   "source": [
    "## §1.6  条件概率 $\\cdot$ 概率乘法定理"
   ]
  },
  {
   "cell_type": "markdown",
   "metadata": {},
   "source": [
    "### 1.条件概率"
   ]
  },
  {
   "cell_type": "markdown",
   "metadata": {},
   "source": [
    "**条件概率的定义**\n",
    "\n",
    "在事件 $B$ 已经发生的条件下, 事件 $A$ 发生的概率, 称为事件 $A$ 在事件 $B$ 已发生的条件下的**条件概率**. 记为： ${\\color{Red}{P(A|B)}}$.\n",
    "\n",
    "一般地\n",
    "\n",
    "$$\n",
    "P(A){\\color{Red}{\\neq}} P(A|B).\n",
    "$$"
   ]
  },
  {
   "cell_type": "markdown",
   "metadata": {},
   "source": [
    "**例1** 甲、乙两条生产线生产同一种元件, 已知甲生产线生产的 8 个元件中有 2 个次品, 乙生产线生产的 9 个元件中有 1 个次品. 现从全部 17 个元件中任取1个元件. 求： \n",
    "\n",
    "(1) 这个元件是甲生产线生产的次品的概率；\n",
    "\n",
    "(2)若已知这个元件是次品,它是甲生产线的产品的概率."
   ]
  },
  {
   "cell_type": "markdown",
   "metadata": {},
   "source": [
    "**解：**\n",
    "\n",
    "${\\color{Blue}{A}}$: 设这个元件是甲生产线的产品\n",
    "\n",
    "${\\color{Blue}{B}}$: 这个元件是次品"
   ]
  },
  {
   "cell_type": "markdown",
   "metadata": {},
   "source": [
    "||甲|乙|小计|\n",
    "|:-------:|:-------:|:-------:|:------:|\n",
    "|正品|6|8|14|\n",
    "|次品|2|1|3|\n",
    "|小计|8|9|17|"
   ]
  },
  {
   "cell_type": "markdown",
   "metadata": {},
   "source": [
    "则：\n",
    "\n",
    "$$\n",
    "P(A)=\\frac{8}{17},P(B)=\\frac{3}{17}\n",
    "$$\n",
    "\n",
    "$$\n",
    "(1)P(AB)=\\frac{2}{17};\\qquad(2)P(A|B)=\\frac{2}{3}.\n",
    "$$\n",
    "\n",
    "$$\n",
    "{\\color{Red}{P(A|B)}}=\\frac{2}{3}={\\color{Red}{\\frac{P(AB)}{P(B)}}}\n",
    "$$"
   ]
  },
  {
   "cell_type": "markdown",
   "metadata": {},
   "source": [
    "**定理1** 设事件 $B$ 的概率 $P(B)>0$, 则在事件 $B$ 已经发生的条件下事件的条件概率等于事件 $AB$ 的概率除以事件 $B$ 的概率所得商：\n",
    "\n",
    "$$\n",
    "{\\color{Red}{P(A|B)=\\frac{P(AB)}{P(B)}}}\n",
    "$$"
   ]
  },
  {
   "cell_type": "markdown",
   "metadata": {},
   "source": [
    "**证：**  用**古典概型证明.** 设样本空间 $\\Omega $ 含有 $N$ 个等可能的基本事件，事件 $A$ 包含 $M_1$ 个基本事件, 事件 $B$ 包含 $M_2$ 个基本事件. 则\n",
    "\n",
    "$$\n",
    "P(A)=\\frac{M_1}{N};\\qquad P(B)=\\frac{M_2}{N}.\n",
    "$$\n",
    "\n",
    "设 $AB$ 包含 $M$ 个基本事件， 则 $P(AB)=\\frac{M}{N}$.\n",
    "\n",
    "在事件 $B$ 已经发生的条件下， 原样本空间 $\\Omega$ 缩减为样本空间 $\\Omega_B$:\n",
    "\n",
    "$$\n",
    "\\Omega_B=\\{\\omega|\\omega\\in B,\\omega\\in \\Omega\\}={\\color{Red}{B}},\n",
    "$$\n",
    "\n",
    "于是 $\\Omega_B$ 中有且仅有 $M_2$ 个基本事件， 这时事件 $Ａ$ 所包含的基本事件有且仅有 $M$ 个， 即 $AB$ 所包含的那些基本事件， 于是\n",
    "\n",
    "$$\n",
    "P(A|B)=\\frac{M}{M_2}=\\frac{\\frac{M}{N}}{\\frac{M_2}{N}}=\\frac{P(AB)}{P(B)}.\n",
    "$$\n",
    "\n",
    "同理证明： 若 $P(A)>0$, 则\n",
    "\n",
    "$$\n",
    "{\\color{Red}{P(B|A)=\\frac{P(AB)}{P(A)}}}.\n",
    "$$"
   ]
  },
  {
   "cell_type": "markdown",
   "metadata": {},
   "source": [
    "**例2** 从装有 3 个白球 2 个黑球的袋中无放回连取 2 个球， 设 $A＝\\{第 1 次取得白球\\}$， $Ｂ＝\\{第 2 次取得黑球\\}$， 求： $P(A)$, $P(B)$, $P(AB)$, $P(B|A)$, $P(B|\\bar{A})$."
   ]
  },
  {
   "cell_type": "markdown",
   "metadata": {},
   "source": [
    "**解：** \n",
    "$$\n",
    "P(A)= \\frac{3}{5}, P(B)=\\frac{2}{5},（抽签次序无关性)\n",
    "$$\n",
    "\n",
    "$$\n",
    "P(AB)=\\frac{C_3^1C_2^1}{C_5^1C_4^1}=\\frac{6}{20}=\\frac{3}{10}=0.3\\\\\n",
    "P(B|A)=\\frac{P(AB)}{P(A)}=\\frac{\\frac{3}{10}}{\\frac{3}{5}}=\\frac{1}{2}\\\\\n",
    "P(B|\\bar{A})=\\frac{P(\\bar{A}B)}{P(\\bar{A})}=\\frac{P(B)-P(\\bar{A}B)}{P(\\bar{A})}=\\frac{\\frac{1}{10}}{\\frac{2}{5}}=\\frac{1}{4}.\n",
    "$$"
   ]
  },
  {
   "cell_type": "markdown",
   "metadata": {},
   "source": [
    "也可用缩减样本空间的方法来计算\n",
    "\n",
    "$$\n",
    "P(B|A), P(B|\\bar{A})\n",
    "$$\n",
    "\n",
    "**例如** \n",
    "\n",
    "$$\n",
    "P(B|A)\n",
    "$$\n",
    "\n",
    "在 $A$ 发生的条件下, 即第一次取得白球的条件下, 还剩下 2 个白球, 2 个黑球, 那么第二次取得黑球的概率, 即 $B$ 发生的条件概率为\n",
    "\n",
    "$$\n",
    "P(B|A)=\\frac{2}{4}=\\frac{1}{2},\\qquad P(B|\\bar{A})=\\frac{1}{4}\n",
    "$$"
   ]
  },
  {
   "cell_type": "markdown",
   "metadata": {},
   "source": [
    "### 2.概率乘法定理"
   ]
  },
  {
   "cell_type": "markdown",
   "metadata": {},
   "source": [
    "**定理2**  二事件的交的概率等于其中一事件的概率与另一事件在前一事件已发生的条件下的条件概率的乘积："
   ]
  },
  {
   "cell_type": "markdown",
   "metadata": {},
   "source": [
    "$$\n",
    "P(AB)=P(A)P(B|A)\\qquad(P(A)>0)\\\\\n",
    "P(AB)=P(B)P(A|B)\\qquad(P(B)>0)\n",
    "$$"
   ]
  },
  {
   "cell_type": "markdown",
   "metadata": {},
   "source": [
    "**定理3** 有限个事件的交的概率等于这些事件的概率的乘积, 其中每一事件的概率是在它前面的一切事件都已发生的条件下的条件概率："
   ]
  },
  {
   "cell_type": "markdown",
   "metadata": {},
   "source": [
    "$$\n",
    "{\\color{Red}{P(A_1A_2\\cdots A_n)=P(A_1)P(A_2|A_1)P(A_3|A_1A_2)\\cdots P(A_n|A_1A_2\\cdots A_{n-1})}}.\n",
    "$$"
   ]
  },
  {
   "cell_type": "markdown",
   "metadata": {},
   "source": [
    "**例3** 一批零件共 100 个, 次品率为 10%, 每次从中任取 1 个零件, 取出的零件不放回. 求以下概率：\n",
    "\n",
    "(1) A:第三次取得合格品;\n",
    "\n",
    "(2) B:前三次都取得合格品;\n",
    "\n",
    "(3) C:第三次才取得合格品; \n",
    "\n",
    "(4) D:在三次内取得合格品. "
   ]
  },
  {
   "cell_type": "markdown",
   "metadata": {},
   "source": [
    "**解**\n",
    "（１） $P(A)=0.9(抽签次序无关性)$\n",
    "\n",
    "(2) $A_i=\\{第 i 次取得合格品\\}（i=1,2,3）$,则\n",
    "\n",
    "$$\n",
    "B=A_1A_2A_3\n",
    "$$\n",
    "\n",
    "于是\n",
    "\n",
    "$$\n",
    "\\begin{aligned}\n",
    "P(B)=P(A_1A_2A_3)\n",
    "&=P(A_1)P(A_2|A_1)P(A_3|A_1A_2)\\\\\n",
    "&=\\frac{90}{100}\\cdot\\frac{89}{99}\\cdot\\frac{88}{98}\\\\\n",
    "&\\approx0.7265.\n",
    "\\end{aligned}\n",
    "$$\n",
    "\n",
    "(3)$C=\\bar{A_1}\\bar{A_2}A_3$\n",
    "\n",
    "$$\n",
    "\\begin{aligned}\n",
    "P(C)=P(\\bar{A_1}\\bar{A_2}A_3)\n",
    "&=P(\\bar{A_1})P(\\bar{A_2}|\\bar{A_1})P(A_3|\\bar{A_1}\\bar{A_2})\\\\\n",
    "&=\\frac{10}{100}\\cdot\\frac{9}{99}\\cdot\\frac{90}{98}\\\\\n",
    "&\\approx0.0083.\n",
    "\\end{aligned}\n",
    "$$\n",
    "\n",
    "(4) $D=A_1\\cup A_2\\cup A_3$, $\\bar{D}=\\bar{A_1}\\bar{A_2}\\bar{A_3}$,\n",
    "\n",
    "$$\n",
    "\\begin{aligned}\n",
    "P(\\bar{D})=P(\\bar{A_1}\\bar{A_2}\\bar{A_3})\n",
    "&=P(\\bar{A_1})P(\\bar{A_2}|\\bar{A_1})P(\\bar{A_3}|\\bar{A_1}\\bar{A_2})\\\\\n",
    "&=\\frac{10}{100}\\cdot \\frac{9}{99} \\cdot \\frac{8}{98}\\\\\n",
    "&\\approx0.0007\n",
    "\\end{aligned}\n",
    "$$\n",
    "\n",
    "故\n",
    "\n",
    "$$\n",
    "P(D)=1-0.0007\\approx0.9993\n",
    "$$"
   ]
  },
  {
   "cell_type": "markdown",
   "metadata": {},
   "source": [
    "### 小 结"
   ]
  },
  {
   "cell_type": "markdown",
   "metadata": {},
   "source": [
    "1.条件概率的意义.\n",
    "\n",
    "2.乘法定理的本质是, 将复杂事件分解成几个简单事件的交, 从而将复杂事件的概率计算转化为简单事件概率的计算."
   ]
  },
  {
   "cell_type": "markdown",
   "metadata": {},
   "source": [
    "### 思考题"
   ]
  },
  {
   "cell_type": "markdown",
   "metadata": {},
   "source": [
    "设 $P(A)=0.10$, $P(B|A)=0.90$, $P(B|\\bar{A})=0.20$, 求 $P(A|B)$"
   ]
  },
  {
   "cell_type": "markdown",
   "metadata": {},
   "source": [
    "**解**\n",
    "\n",
    "$$\n",
    "\\begin{aligned}\n",
    "P(B)=P(AB+\\bar{A}B)\n",
    "&=P(AB)+P(\\bar{A}B)\\\\\n",
    "&=P(A)P(B|A)+P(\\bar{A})P(B|\\bar{A})\\\\\n",
    "&=0.10\\times0.90+(1-0.10)\\times0.20\\\\\n",
    "&=0.27\\\\\n",
    "\\end{aligned}\n",
    "$$\n",
    "\n",
    "于是\n",
    "\n",
    "$$\n",
    "P(A|B)=\\frac{P(AB)}{P(B)}=\\frac{P(A)P(B|A)}{P(B)}=\\frac{0.10\\times0.90}{0.27}=\\frac{1}{3}\n",
    "$$"
   ]
  },
  {
   "cell_type": "markdown",
   "metadata": {
    "collapsed": true
   },
   "source": [
    "**作业：**\n",
    "Page 29: 14. 16."
   ]
  }
 ],
 "metadata": {
  "kernelspec": {
   "display_name": "Python 3",
   "language": "python",
   "name": "python3"
  },
  "language_info": {
   "codemirror_mode": {
    "name": "ipython",
    "version": 3
   },
   "file_extension": ".py",
   "mimetype": "text/x-python",
   "name": "python",
   "nbconvert_exporter": "python",
   "pygments_lexer": "ipython3",
   "version": "3.5.2"
  }
 },
 "nbformat": 4,
 "nbformat_minor": 0
}
