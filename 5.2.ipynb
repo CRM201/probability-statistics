{
 "cells": [
  {
   "cell_type": "markdown",
   "metadata": {
    "slideshow": {
     "slide_type": "slide"
    }
   },
   "source": [
    "## §5.2    中心极限定理"
   ]
  },
  {
   "cell_type": "markdown",
   "metadata": {
    "slideshow": {
     "slide_type": "slide"
    }
   },
   "source": [
    "**中心极限定理的客观背景**\n",
    "\n",
    "在实际问题中, 常常需要考虑许多随机因素所产生总影响.\n",
    "\n",
    "\n",
    "![](./figures/54.png)"
   ]
  },
  {
   "cell_type": "markdown",
   "metadata": {
    "slideshow": {
     "slide_type": "subslide"
    }
   },
   "source": [
    "**例如：**炮弹射击的落点与目标的偏差, 就受着许多随机因素的影响. 如:\n",
    "\n",
    "* 瞄准时的误差\n",
    "* 空气阻力所产生的误差\n",
    "* 炮弹或炮身结构所引起的误差\n",
    "* ...\n",
    "\n",
    "对我们来说重要的是这些随机因素的**总影响**."
   ]
  },
  {
   "cell_type": "markdown",
   "metadata": {
    "slideshow": {
     "slide_type": "subslide"
    }
   },
   "source": [
    "自从**高斯**指出测量误差服从正态分布之后, 人们发现**正态分布在自然界中极为常见**.\n",
    "\n",
    "观察表明, 如果一个量是由大量相互独立的随机因素的影响所造成, 而每一个别因素在总影响中所起的作用不大. 则这种量一般都 **服从或近似服从正态分布**.\n",
    "\n",
    "现在我们就来研究独立随机变量之和所特有的规律性问题.\n",
    "\n",
    "当 $n$ 无限增大时, 这个和的极限分布是什么呢？ 在什么条件下极限分布会是正态的呢？"
   ]
  },
  {
   "cell_type": "markdown",
   "metadata": {
    "slideshow": {
     "slide_type": "subslide"
    }
   },
   "source": [
    "由于无穷个随机变量之和可能趋于 $\\infty$ 故我们不研究 $n$ 个随机变量之和本身而考虑它的 **标准化的随机变量**\n",
    "\n",
    "\n",
    "$$\n",
    "Z_n=\\frac{\\sum_{k=1}^n X_k-E(\\sum_{k=1}^n X_k)}{\\sqrt{D(\\sum_{k=1}^n X_k)}}\n",
    "$$\n",
    "\n",
    "的分布函数的极限."
   ]
  },
  {
   "cell_type": "markdown",
   "metadata": {
    "slideshow": {
     "slide_type": "subslide"
    }
   },
   "source": [
    "考虑 \n",
    "\n",
    "$$\n",
    "Z_n=\\frac{\\sum_{k=1}^n X_k-E(\\sum_{k=1}^n X_k)}{\\sqrt{D(\\sum_{k=1}^n X_k)}}\n",
    "$$\n",
    "\n",
    "的分布函数的极限.\n",
    "\n",
    "可以证明，满足一定的条件, 上述极限分布是标准正态分布. 这就是下面要介绍的."
   ]
  },
  {
   "cell_type": "markdown",
   "metadata": {
    "slideshow": {
     "slide_type": "subslide"
    }
   },
   "source": [
    "**中心极限定理**\n",
    "\n",
    "在概率论中, 习惯于把和的分布收敛于正态分布这一类定理都叫做中心极限定理. **我们只讨论几种简单情形.**\n",
    "\n",
    "下面给出的独立同分布随机变量序列的中心极限定理，也称**列维一林德伯格（Levy－Lindberg）定理**."
   ]
  },
  {
   "cell_type": "markdown",
   "metadata": {
    "slideshow": {
     "slide_type": "slide"
    }
   },
   "source": [
    "**定理1**（独立同分布下的中心极限定理）\n",
    "\n",
    "设 $X_1$, $X_2$,$\\cdots$ 是独立同分布的随机变量序列, 且 $E(X_i)=\\mu$, $D(X_i)=\\sigma^2$, $i$=1,2, $\\cdots$, 则\n",
    "\n",
    "$$\n",
    "\\lim_{n\\to\\infty}P\\{\\frac{\\sum_{i=1}^n X_i-n\\mu}{\\sigma\\sqrt{n}}\\leq x\\}=\\int_{-\\infty}^x\\frac{1}{\\sqrt{2\\pi}}e^{-\\frac{t^2}{2}}{\\mathrm d t}\n",
    "$$\n",
    "\n",
    "**它表明**, 当 $n$ 充分大时, $n$ 个具有期望和方差的独立同分布的随机变量之和**近似服从正态分布**."
   ]
  },
  {
   "cell_type": "markdown",
   "metadata": {
    "collapsed": true,
    "slideshow": {
     "slide_type": "subslide"
    }
   },
   "source": [
    "虽然在一般情况下，我们很难求出 $X_1+X_2+\\cdots+X_n$ 的分布的确切形式, 但当 $n$ 很大时, 可以求出近似分布.\n",
    "\n",
    "**下面**介绍的**棣莫佛－拉普拉斯定理**（二项分布的正态近似）是上述定理的特殊情况."
   ]
  },
  {
   "cell_type": "markdown",
   "metadata": {
    "slideshow": {
     "slide_type": "subslide"
    }
   },
   "source": [
    "**定理2**(棣莫佛－拉普拉斯定理）\n",
    "\n",
    "设随机变量 $Y_n$ 服从参数 $n$, $p(0<p<1)$ 的二项分布, 则对任意 $x$, 有\n",
    "\n",
    "$$\n",
    "\\lim_{n\\to\\infty}P\\{\\frac{Y_n-np}{\\sqrt{np(1-p)}}\\leq x\\}=\\int_{-\\infty}^x\\frac{1}{\\sqrt{2\\pi}}e^{-\\frac{t^2}{2}}{\\mathrm d t}\n",
    "$$\n",
    "\n",
    "定理表明, 当 $n$ 很大, $0<p<1$ 是一个定值时（或者说，$np(1-p$)也不太小时），二项变量 $Y_n$ 的分布近似正态分布 $N(np,np(1-p))$."
   ]
  },
  {
   "cell_type": "markdown",
   "metadata": {
    "slideshow": {
     "slide_type": "slide"
    }
   },
   "source": [
    "**例1** 根据以往经验，某种电器元件的寿命服从均值为 100 小时的指数分布. 现随机地取 16 只， 设它们的寿命是相互独立的. 求这 16 只元件的寿命的总和大于 1920 小时的概率."
   ]
  },
  {
   "cell_type": "markdown",
   "metadata": {
    "slideshow": {
     "slide_type": "subslide"
    }
   },
   "source": [
    "**解:** 设第 $i$ 只元件的寿命为 $X_i$, $i=1,2,\\cdots,16$, 由题给条件知，诸 $X_i$ 独立，\n",
    "\n",
    "$$\n",
    "E(X_i)=100, D(X_i)=10000\n",
    "$$\n",
    "\n",
    "16只元件的寿命的总和为\n",
    "\n",
    "$$\n",
    "Y_n=\\sum_{k=1}^{16} X_k\n",
    "$$"
   ]
  },
  {
   "cell_type": "markdown",
   "metadata": {
    "slideshow": {
     "slide_type": "subslide"
    }
   },
   "source": [
    "依题意，所求为  $P(Y>1920)$\n",
    "\n",
    "由于 $E(Y)=1600$, $D(Y)=160000$,由中心极限定理,\n",
    "\n",
    "$$\n",
    "\\frac{Y-1600}{400}　\\xrightarrow{\\text{近似}}　N(0,1)\n",
    "$$\n",
    " \n",
    "\n",
    "$$\n",
    "\\begin{aligned}\n",
    "P(Y>1920)\n",
    "&\\approx 1-\\Phi(\\frac{1920-1600}{400})\\\\\n",
    "&=1-\\Phi(0.8)\\\\\n",
    "&=1-0.7881\\\\\n",
    "&=0.2119\\\\\n",
    "\\end{aligned}\n",
    "$$"
   ]
  },
  {
   "cell_type": "markdown",
   "metadata": {
    "slideshow": {
     "slide_type": "slide"
    }
   },
   "source": [
    "**例2**. (供电问题)某车间有 200 台车床, 在生产期间由于需要检修、调换刀具、变换位置及调换工件等常需停车. 设开工率为 0.6, 并设每台车床的工作是独立的， 且在开工时需电力 1 千瓦.问应供应多少瓦电力就能以 99.9% 的概率保证该车间不会因供电不足而影响生产?"
   ]
  },
  {
   "cell_type": "markdown",
   "metadata": {
    "slideshow": {
     "slide_type": "subslide"
    }
   },
   "source": [
    "**解：** 对每台车床的观察作为一次试验, 每次试验观察该台车床在某时刻是否工作, 工作的概率为 0.6, 共进行 200 次试验. 用 $X$ 表示在某时刻工作着的车床数, 依题意，\n",
    "\n",
    "$$\n",
    "X\\sim B(200,0.6),\n",
    "$$\n",
    "\n",
    "**设需 $N$ 台车床工作**, 现在的问题是：求满足\n",
    "\n",
    "$$\n",
    "P(X\\leq N)\\geq 0.999\n",
    "$$\n",
    "\n",
    "的最小的 $N$.\n",
    "\n",
    "由于每台车床在开工时需电力1千瓦，$N$ 台工作所需电力即 $N$ 千瓦."
   ]
  },
  {
   "cell_type": "markdown",
   "metadata": {
    "slideshow": {
     "slide_type": "subslide"
    }
   },
   "source": [
    "**由德莫佛-拉普拉斯极限定理**\n",
    "\n",
    "$$\n",
    "\\frac{X-np}{\\sqrt{np(1-p)}}\n",
    "$$\n",
    "\n",
    "近似满足 $N(0,1)$, 这里 $np=120$, $np(1-p)=48$."
   ]
  },
  {
   "cell_type": "markdown",
   "metadata": {
    "slideshow": {
     "slide_type": "subslide"
    }
   },
   "source": [
    "于是\n",
    "\n",
    "$$\n",
    "\\begin{aligned}\n",
    "P(X\\leq N)\n",
    "&= P(0\\leq X\\leq N)\\\\\n",
    "&\\approx \\Phi(\\frac{N-120}{\\sqrt{48}})-\\Phi(\\frac{-120}{\\sqrt{48}})\\\\\n",
    "&\\approx \\Phi(\\frac{N-120}{\\sqrt{48}})\\\\\n",
    "\\end{aligned}\n",
    "$$\n",
    "\n",
    "由 $3\\sigma$ 准则, 此项为0."
   ]
  },
  {
   "cell_type": "markdown",
   "metadata": {
    "slideshow": {
     "slide_type": "subslide"
    }
   },
   "source": [
    "由 \n",
    "\n",
    "$$\n",
    "\\Phi(\\frac{N-120}{\\sqrt{48}})\\geq 0.999,\n",
    "$$\n",
    "\n",
    "查正态分布函数表得 $\\Phi(3.1)=0.999$"
   ]
  },
  {
   "cell_type": "markdown",
   "metadata": {
    "slideshow": {
     "slide_type": "subslide"
    }
   },
   "source": [
    "故\n",
    "\n",
    "$$\n",
    "\\frac{N-120}{\\sqrt{48}}\\geq 3.1\n",
    "$$\n",
    "\n",
    "从中解得 $N≥141.5$, 即所求 $N=142$.\n",
    "\n",
    "也就是说,应供应 142 千瓦电力就能以 99.9% 的概率保证该车间不会因供电不足而影响生产. "
   ]
  },
  {
   "cell_type": "markdown",
   "metadata": {
    "slideshow": {
     "slide_type": "slide"
    }
   },
   "source": [
    "**例3** 在一个罐子中, 装有 10 个编号为 0-9 的同样的球, 从罐中有放回地抽取若干次, 每次抽一个, 并记下号码."
   ]
  },
  {
   "cell_type": "markdown",
   "metadata": {
    "slideshow": {
     "slide_type": "subslide"
    }
   },
   "source": [
    "(1) 设\n",
    "\n",
    "$$\n",
    "X_k=\\begin{cases}\n",
    "1, \\text{第 } k \\text{ 次取到号码 }0\\\\\n",
    "\\\\\n",
    "0，\\text{否则}\\\\\n",
    "\\end{cases}\n",
    "\\qquad\\qquad k=1,2,\\cdots\n",
    "$$\n",
    "\n",
    "问对序列 $\\{X_k\\}$, 能否应用大数定律？"
   ]
  },
  {
   "cell_type": "markdown",
   "metadata": {
    "slideshow": {
     "slide_type": "subslide"
    }
   },
   "source": [
    "解:(1)\n",
    "$$\n",
    "X_k\\sim \\begin{Bmatrix}\n",
    "1 & 0 \\\\\n",
    "0.1 & 0.9\n",
    "\\end{Bmatrix}\n",
    "$$\n",
    "\n",
    "$$\n",
    "E(X_k)=0.1,k=1,2,\\cdots\n",
    "$$\n",
    "\n",
    "诸 $X_k$ 独立同分布, 且期望存在, 故能使用大数定律,即对任意的 $\\varepsilon>0$,\n",
    "\n",
    "$$\n",
    "\\lim_{n\\to \\infty}P\\{|\\frac{1}{n}\\sum_{k=1}^nX_k-0.1|<\\varepsilon\\}=1\n",
    "$$"
   ]
  },
  {
   "cell_type": "markdown",
   "metadata": {
    "slideshow": {
     "slide_type": "subslide"
    }
   },
   "source": [
    "(2) 至少应取球多少次才能使 “0”出现的频率在 0.09-0.11 之间的概率至少是0.95?"
   ]
  },
  {
   "cell_type": "markdown",
   "metadata": {
    "slideshow": {
     "slide_type": "subslide"
    }
   },
   "source": [
    "**解：**设应取球 $n$ 次， 0 出现频率为\n",
    "\n",
    "$$\n",
    "\\frac{1}{n}\\sum_{k=1}^n X_k\n",
    "$$\n",
    "\n",
    "$$\n",
    "E(\\frac{1}{n}\\sum_{k=1}^n X_k)=0.1\n",
    "$$\n",
    "\n",
    "$$\n",
    "D(\\frac{1}{n}\\sum_{k=1}^nX_k)=\\frac{0.09}{n}\n",
    "$$"
   ]
  },
  {
   "cell_type": "markdown",
   "metadata": {
    "slideshow": {
     "slide_type": "subslide"
    }
   },
   "source": [
    "由中心极限定理\n",
    "\n",
    "$$\n",
    "\\frac{\\sum_{k=1}^n X_k-0.1n}{0.3\\sqrt{n}}=\\frac{\\frac{1}{n}\\sum_{k=1}^nX_k-0.1}{\\frac{0.3}{\\sqrt{n}}}　近似　N(0,1)\n",
    "$$\n",
    "\n",
    "$$\n",
    "\\begin{aligned}\n",
    "P\\{0.09\\leq \\frac{1}{n}\\sum_{k=1}^nX_k\\leq 0.11\\}\n",
    "&=P\\{|\\frac{1}{n}\\sum_{k=1}^nX_k-0.1|\\leq 0.01\\}\\\\\n",
    "&=P\\{|\\frac{\\frac{1}{n}\\sum_{k=1}^nX_k-0.1}{\\frac{0.3}{\\sqrt{n}}}|\\leq \\frac{\\sqrt{n}}{30}\\}\\\\\n",
    "&\\approx 2\\Phi(\\frac{\\sqrt{n}}{30})-1\\\\\n",
    "\\end{aligned}\n",
    "$$"
   ]
  },
  {
   "cell_type": "markdown",
   "metadata": {
    "slideshow": {
     "slide_type": "subslide"
    }
   },
   "source": [
    "欲使\n",
    "\n",
    "$$\n",
    "2\\Phi(\\frac{\\sqrt{n}}{30})-1\\geq 0.95\n",
    "$$\n",
    "\n",
    "即\n",
    "\n",
    "$$\n",
    "\\Phi(\\frac{\\sqrt{n}}{30})\\geq0.975\n",
    "$$"
   ]
  },
  {
   "cell_type": "markdown",
   "metadata": {
    "slideshow": {
     "slide_type": "subslide"
    }
   },
   "source": [
    "查表得　　\n",
    "\n",
    "$$\n",
    "\\frac{\\sqrt{n}}{30}\\geq 1.96\n",
    "$$\n",
    "**即至少应取球3458次才能使“0”出现的频率在0.09-0.11之间的概率至少是0.95.**\n",
    "\n",
    "从中解得\n",
    "\n",
    "$$\n",
    "n\\geq 3458\n",
    "$$"
   ]
  },
  {
   "cell_type": "markdown",
   "metadata": {
    "slideshow": {
     "slide_type": "subslide"
    }
   },
   "source": [
    "(3) 用中心极限定理计算在 100 次抽取中, 数码 “0” 出现次数在 7 和 13 之间的概率."
   ]
  },
  {
   "cell_type": "markdown",
   "metadata": {
    "slideshow": {
     "slide_type": "subslide"
    }
   },
   "source": [
    "**解：** 在 100 次抽取中,  数码 “0” 出现次数为\n",
    "\n",
    "$$\n",
    "\\sum_{k=1}^{100}X_k\n",
    "$$\n",
    "\n",
    "由中心极限定理,\n",
    "\n",
    "$$\n",
    "\\frac{\\sum_{k=1}^{100}X_k-\\sum_{k=1}^{100}E(X_k)}{\\sqrt{\\sum_{k=1}^{100}D(X_k)}}\n",
    "$$"
   ]
  },
  {
   "cell_type": "markdown",
   "metadata": {
    "slideshow": {
     "slide_type": "subslide"
    }
   },
   "source": [
    "近似 $N(0,1)$\n",
    "\n",
    "$$\n",
    "E(X_K)=0.1, D(X_k)=0.09\n",
    "$$\n",
    "\n",
    "即\n",
    "\n",
    "$$\n",
    "\\frac{\\sum_{k=1}^{100}X_k-10}{3}   \\text{ 近似 } N(0,1)\n",
    "$$"
   ]
  },
  {
   "cell_type": "markdown",
   "metadata": {
    "slideshow": {
     "slide_type": "subslide"
    }
   },
   "source": [
    "$$\n",
    "\\begin{aligned}\n",
    "P(7\\leq \\sum_{k=1}^{100}X_k \\leq 13)\n",
    "&=P(-1\\leq \\frac{\\sum_{k=1}^{100}X_k-10}{3}\\leq 1)\\\\\n",
    "&\\approx\\Phi(1)-\\Phi(-1)\\\\\n",
    "&=2\\Phi(1)-1\\\\\n",
    "&=0.6826\\\\\n",
    "\\end{aligned}\n",
    "$$\n",
    "\n",
    "即在 100 次抽取中, 数码 “0” 出现次数在 7 和 13 之间的概率为 0.6826."
   ]
  },
  {
   "cell_type": "markdown",
   "metadata": {
    "slideshow": {
     "slide_type": "slide"
    }
   },
   "source": [
    "**例4**  检查员逐个地检查某种产品, 每检查一只产品需要用 10 秒钟. 但有的产品需重复检查一次， 再用去 10 秒钟. 假设产品需要重复检查的概率为 0.5, 求检验员在 8 小时内检查的产品多于 1900 个的概率."
   ]
  },
  {
   "cell_type": "markdown",
   "metadata": {
    "slideshow": {
     "slide_type": "subslide"
    }
   },
   "source": [
    "**解:** 检验员在 8 小时内检查的产品多于 1900 个, 即检查 1900 个产品所用的时间小于 8 小时. 设 $X$ 为检查 1900 个产品所用的时间(单位:秒), 设 $X_k$  为检查第 $k$ 个产品所用的时间(单位：秒),   $k$ = 1,2, $\\cdots$,1900\n",
    "\n",
    "\n",
    "|$X_k$| 10| 20 |\n",
    "|:-----:|:-----:|:-----:|\n",
    "| P |0.5|0.5|\n",
    "\n",
    "\n",
    "$$\n",
    "E(X_k)=15,D(X_k)=25\n",
    "$$\n",
    "\n",
    "$X_1$, $X_2$, $\\cdots$, $X_{1900}$, 相互独立,且同分布, \n",
    "\n",
    "$$\n",
    "X=\\sum_{k=1}^{1900}X_k\n",
    "$$"
   ]
  },
  {
   "cell_type": "markdown",
   "metadata": {
    "slideshow": {
     "slide_type": "subslide"
    }
   },
   "source": [
    "$$\n",
    "E(X)=1900×15＝28500\n",
    "$$\n",
    "\n",
    "$$\n",
    "D(X)=1900×25=47500\n",
    "$$\n",
    "\n",
    "$$\n",
    "X \\text{ 近似 } N(28500,47500)\n",
    "$$"
   ]
  },
  {
   "cell_type": "markdown",
   "metadata": {
    "slideshow": {
     "slide_type": "subslide"
    }
   },
   "source": [
    "$$\n",
    "\\begin{aligned}\n",
    "&P(10×1900\\leq X\\leq 3600×8)\\\\\n",
    "＝&P(19000\\leq X\\leq 28800)\\\\\n",
    "\\approx&\\Phi(\\frac{28800-28500}{\\sqrt{475000}})-\\Phi(\\frac{19000-28500}{\\sqrt{475000}})\\\\\n",
    "\\approx&\\Phi(1.376)-\\Phi(-43.589)\\\\\n",
    "\\approx&0.9162\\\\\n",
    "\\end{aligned}\n",
    "$$"
   ]
  },
  {
   "cell_type": "markdown",
   "metadata": {
    "slideshow": {
     "slide_type": "slide"
    }
   },
   "source": [
    "**解法二**\n",
    "\n",
    "$$\n",
    "\\frac{X-19000}{10} \n",
    "$$\n",
    "表示 1900 个产品中需重复检查的个数\n",
    "\n",
    "$$\n",
    "\\frac{X-19000}{10}\\sim B(1900,0.5)\\text{ 近似 } N(950,475)\n",
    "$$"
   ]
  },
  {
   "cell_type": "markdown",
   "metadata": {
    "slideshow": {
     "slide_type": "subslide"
    }
   },
   "source": [
    "$$\n",
    "\\begin{aligned}\n",
    "&P(10×1900\\leq X\\leq 3600×8)\\\\\n",
    "＝&P(19000\\leq X\\leq 28800)\\\\\n",
    "＝&Ｐ(0\\leq \\frac{X-19000}{10}\\leq \\frac{28800-19000}{10})\\\\\n",
    "=&P(0\\leq \\frac{X-19000}{10}\\leq 980)\\\\\n",
    "=&P(0\\leq \\frac{X-19000}{10}\\leq 980)\\\\\n",
    "\\approx& \\Phi(1.376)-\\Phi(-43.589)\\\\\n",
    "\\approx& 0.9162\\\\\n",
    "\\end{aligned}\n",
    "$$"
   ]
  },
  {
   "cell_type": "markdown",
   "metadata": {
    "slideshow": {
     "slide_type": "slide"
    }
   },
   "source": [
    "**例5** 对敌人的防御工事用炮火进行 100 次轰击, 设每次轰击命中的炮弹数服从同一分布, 其数学期望为 2, 均方差为 1.5. 如果各次轰击命中的炮弹数是相互独立的,  求100 次轰击\n",
    "\n",
    "(1) 至少命中180发炮弹的概率;\n",
    "  \n",
    "(2) 命中的炮弹数不到200发的概率."
   ]
  },
  {
   "cell_type": "markdown",
   "metadata": {
    "slideshow": {
     "slide_type": "subslide"
    }
   },
   "source": [
    "**解:** 设 $X_k$ 表示第 $k$ 次轰击命中的炮弹数\n",
    "\n",
    "$$\n",
    "E(X_k)=2,D(X_k)=1.5^2,k=1,2,\\cdots,100\n",
    "$$\n",
    "\n",
    "$X_1$, $X_2$, $\\cdots$, $X_{100}$ 相互独立，\n",
    "\n",
    "设 $X$ 表示 100 次轰击命中的炮弹数, 则\n",
    "\n",
    "$$\n",
    "X=\\sum_{k=1}^{100}X_k,E(X)=200,D(X)=225\n",
    "$$\n",
    "\n",
    "$$\n",
    "X\\text { 近似 }　N(200,225)\n",
    "$$"
   ]
  },
  {
   "cell_type": "markdown",
   "metadata": {
    "slideshow": {
     "slide_type": "subslide"
    }
   },
   "source": [
    "(1) \n",
    "$$\n",
    "\\begin{aligned}\n",
    "P(X\\geq 180)\n",
    "&\\approx 1-\\Phi(\\frac{180-200}{15})\\\\\n",
    "&=1-\\Phi(-1.3)\\\\\n",
    "&=\\Phi(1.3)\\\\\n",
    "&=0.91\\\\\n",
    "\\end{aligned}\n",
    "$$"
   ]
  },
  {
   "cell_type": "markdown",
   "metadata": {
    "slideshow": {
     "slide_type": "subslide"
    }
   },
   "source": [
    "(2)\n",
    "$$\n",
    "\\begin{aligned}\n",
    "P(0\\leq X<200)\n",
    "&\\approx \\Phi(\\frac{200-200}{15})-\\Phi(\\frac{0-200}{15})\\\\\n",
    "&=\\Phi(0)-\\Phi(-13.33)\\\\\n",
    "&=0.5\\\\\n",
    "\\end{aligned}\n",
    "$$"
   ]
  },
  {
   "cell_type": "markdown",
   "metadata": {
    "slideshow": {
     "slide_type": "slide"
    }
   },
   "source": [
    "**例6** 一学生在摆摊卖饮料, 已知每个过路人在摊位上买饮料的概率为 $\\frac{1}{3}$. 令 $X$ 是出售了 100 瓶饮料时过路人的数目，求 $P(280 \\leq X\\leq 320)$."
   ]
  },
  {
   "cell_type": "markdown",
   "metadata": {
    "slideshow": {
     "slide_type": "subslide"
    }
   },
   "source": [
    "**解:** 令$X_i$ 为售出了第 $i–1$ 瓶饮料后到售出第i瓶饮料时的过路人数, $i$ = 1,2,$\\cdots$,100\n",
    "\n",
    "$$\n",
    "P(X_i=k)=p(1-p)^{k-1}|_{p=\\frac{1}{3}},k=1,2,\\cdots,\n",
    "$$\n",
    "(**几何分布**)\n",
    "$$\n",
    "E(X_i)=\\frac{1}{p}|_{p=\\frac{1}{3}}=3,D(X_i)=\\frac{1-p}{p^2}=6\n",
    "$$\n",
    "\n",
    "$X_i$, $X_2$,$\\cdots$, $X_{100}$,  相互独立\n",
    "\n",
    "$$\n",
    "X=\\sum_{k=1}^{100}X_k\n",
    "$$"
   ]
  },
  {
   "cell_type": "markdown",
   "metadata": {
    "slideshow": {
     "slide_type": "subslide"
    }
   },
   "source": [
    "$$\n",
    "E(X)=300,D(X)=600\n",
    "$$\n",
    "\n",
    "$$\n",
    "X \\text{ 近似 } N(300,600)\n",
    "$$\n",
    "\n",
    "$$\n",
    "\\begin{aligned}\n",
    "P(280\\leq X\\leq 320)\n",
    "&\\approx\\Phi(\\frac{320-300}{\\sqrt{600}})-\\Phi(\\frac{280-300}{\\sqrt{600}})\\\\\n",
    "&=2\\Phi(\\frac{20}{\\sqrt{600}})-1\\\\\n",
    "&=2\\Phi(0.8165)-1\\\\\n",
    "&\\approx 0.5878\\\\\n",
    "\\end{aligned}\n",
    "$$"
   ]
  },
  {
   "cell_type": "markdown",
   "metadata": {
    "slideshow": {
     "slide_type": "slide"
    }
   },
   "source": [
    "**例7** 在一家保险公司里有10000个人参加寿命保险，每人每年付12元保险费。在一年内一个人死亡的概率为 0.6% ,死亡时其家属可向保险公司领得 1000 元, 问：\n",
    "\n",
    "(1)保险公司亏本的概率有多大？\n",
    "\n",
    "(2)其他条件不变, 为使保险公司一年的利润不少于 60000 元的概率不低于 0.9, 赔偿金至多可设为多少？"
   ]
  },
  {
   "cell_type": "markdown",
   "metadata": {
    "slideshow": {
     "slide_type": "notes"
    }
   },
   "source": [
    "1. 随机变量是谁？\n",
    "1. 随机事件是什么？如何用随机变量来表示？"
   ]
  },
  {
   "cell_type": "markdown",
   "metadata": {
    "slideshow": {
     "slide_type": "subslide"
    }
   },
   "source": [
    "**解:** 设 $X$ 表示一年内死亡的人数, 则 $X \\text{~} B(n, p)$, 其中 $n=10000$, $p=0.6$%, 设 $Y$ 表示保险公司一年的利润, \n",
    "\n",
    "$$\n",
    " Y=10000 ×12－1000X\n",
    "$$\n",
    "\n",
    "于是由中心极限定理\n",
    "\n",
    "(1)\n",
    "\n",
    "$$\n",
    "\\begin{aligned}\n",
    "P\\{Y<0\\}\n",
    "&=P\\{10000×12－1000X<0\\}\\\\\n",
    "&=1－P\\{X\\leq 120\\}\\\\\n",
    "&\\approx 1-\\Phi(7.75)\\\\\n",
    "&=0\\\\\n",
    "\\end{aligned}\n",
    "$$"
   ]
  },
  {
   "cell_type": "markdown",
   "metadata": {
    "slideshow": {
     "slide_type": "subslide"
    }
   },
   "source": [
    "(2) 设赔偿金为 $a$ 元, 则令\n",
    "\n",
    "$$\n",
    "P\\{Y\\geq 60000\\}\\geq 0.9\n",
    "$$\n",
    "\n",
    "$$\n",
    "\\begin{aligned}\n",
    "P\\{Y\\geq 60000\\}\n",
    "&=P\\{10000×12-aX\\geq 60000\\}\\\\\n",
    "&=P\\{X\\leq \\frac{60000}{a}\\}\\geq0.9\n",
    "\\end{aligned}\n",
    "$$"
   ]
  },
  {
   "cell_type": "markdown",
   "metadata": {
    "slideshow": {
     "slide_type": "subslide"
    }
   },
   "source": [
    "由中心极限定理, 上式等价于\n",
    "\n",
    "$$\n",
    "P\\{\\frac{X-10000×0.006}{\\sqrt{10000×0.006×0.994}}\\leq\\frac{\\frac{60000}{a}-10000×0.006}{\\sqrt{10000×0.006×0.994}}\\}\\geq 0.9\n",
    "$$\n",
    "\n",
    "$$\n",
    "\\Rightarrow a\\leq 3017\n",
    "$$"
   ]
  },
  {
   "cell_type": "markdown",
   "metadata": {
    "slideshow": {
     "slide_type": "slide"
    }
   },
   "source": [
    "**例8** 将一颗骰子连掷 100 次, 则点数之和不少于 500 的概率是多少？"
   ]
  },
  {
   "cell_type": "markdown",
   "metadata": {
    "slideshow": {
     "slide_type": "notes"
    }
   },
   "source": [
    "1. 计算每次掷的期望和方差"
   ]
  },
  {
   "cell_type": "markdown",
   "metadata": {
    "slideshow": {
     "slide_type": "subslide"
    }
   },
   "source": [
    "**解:** 设 $X_k$ 为第 $k$ 次掷出的点数, $k$=1,2,$\\cdots$,100, 则\n",
    "$X_1$, $\\cdots$,$X_{100}$ 独立同分布.\n",
    "\n",
    "$$\n",
    "E(X_k)=\\frac{7}{2},D(X_k)=\\frac{1}{6}\\sum_{i=1}^6i^2-\\frac{49}{4}=\\frac{35}{12}\n",
    "$$\n",
    "\n",
    "由中心极限定理\n",
    "\n",
    "$$\n",
    "P\\{\\sum_{k=1}^{100}X_k\\geq 500\\}\\approx 1-\\Phi(\\frac{500-100×\\frac{7}{2}}{10\\sqrt{\\frac{35}{12}}})=1-\\Phi(8.78)\\approx 0\n",
    "$$"
   ]
  },
  {
   "cell_type": "markdown",
   "metadata": {
    "slideshow": {
     "slide_type": "subslide"
    }
   },
   "source": [
    "**中心极限定理的意义**\n",
    "\n",
    "在实际问题中，若某随机变量可以看作是有相互独立的大量随机变量综合作用的结果，每一个因素在总的影响中的作用都很微小，则综合作用的结果服从正态分布."
   ]
  },
  {
   "cell_type": "markdown",
   "metadata": {
    "slideshow": {
     "slide_type": "subslide"
    }
   },
   "source": [
    "这一节我们介绍了中心极限定理\n",
    "\n",
    "中心极限定理是概率论中最著名的结果之一，它不仅提供了计算独立随机变量之和的近似概率的简单方法，而且有助于解释为什么很多自然群体的经验频率呈现出钟形曲线这一值得注意的事实.\n",
    "\n",
    "在后面的课程中，我们还将经常用到中心极限定理."
   ]
  },
  {
   "cell_type": "markdown",
   "metadata": {
    "slideshow": {
     "slide_type": "slide"
    }
   },
   "source": [
    "### 小结"
   ]
  },
  {
   "cell_type": "markdown",
   "metadata": {
    "slideshow": {
     "slide_type": "subslide"
    }
   },
   "source": [
    "1.**两个定理**\n",
    "\n",
    "独立同分布的中心极限定理;棣莫佛-拉普拉斯定理"
   ]
  },
  {
   "cell_type": "markdown",
   "metadata": {
    "slideshow": {
     "slide_type": "subslide"
    }
   },
   "source": [
    "2.**两个近似计算公式**"
   ]
  },
  {
   "cell_type": "markdown",
   "metadata": {
    "slideshow": {
     "slide_type": "subslide"
    }
   },
   "source": [
    "(1) 设　$X_1$, $X_2$, $\\cdots$, $X_n$ 独立同分布, 且　$E(X_i)=\\mu$, $D(X_i)=\\sigma^2>0$, $i=1,2,\\cdots,n$. 则当 \n",
    "$n$ 充分大时, \n",
    "\n",
    "$$\n",
    "P(x_1<\\frac{\\sum_{i=1}^nX_i-n\\mu}{\\sqrt{n}\\sigma}<x_2)\\approx \\Phi(x_2)-\\Phi(x_1)\n",
    "$$"
   ]
  },
  {
   "cell_type": "markdown",
   "metadata": {
    "slideshow": {
     "slide_type": "subslide"
    }
   },
   "source": [
    "(2) 设 $Y_n\\sim B(n,p)$, 则\n",
    "\n",
    "$$\n",
    "P(m_1<Y_n<m_2)\\approx\\Phi(\\frac{m_2-np}{\\sqrt{npq}}）-\\Phi({\\frac{m_1-np}{\\sqrt{npq}})}\n",
    "$$\n",
    "\n",
    "其中\n",
    "\n",
    "$$\n",
    "p+q=1\n",
    "$$"
   ]
  },
  {
   "cell_type": "markdown",
   "metadata": {
    "slideshow": {
     "slide_type": "slide"
    }
   },
   "source": [
    "### 思考题"
   ]
  },
  {
   "cell_type": "markdown",
   "metadata": {
    "slideshow": {
     "slide_type": "subslide"
    }
   },
   "source": [
    "设随机变量 $X_1$, $X_2$, $\\cdots$, $X_n$ 相互独立，\n",
    "\n",
    "$$\n",
    "S_n=X_1+X_2+\\cdots+X_n\n",
    "$$\n",
    "\n",
    "根据独立同分布中心极限定理, 当 $n$ 充分大时, $S_n$ 似服从正态分布, 只要 $X_1$, $X_2$, $\\cdots$, $X_n$ \n",
    "\n",
    "$(A)$ 有相同的数学期望\n",
    "\n",
    "$(B)$ 有相同的方差\n",
    "\n",
    "$(C)$ 服从同一指数分布\n",
    "\n",
    "$(D)$ 服从同一离散型分布"
   ]
  },
  {
   "cell_type": "markdown",
   "metadata": {
    "slideshow": {
     "slide_type": "subslide"
    }
   },
   "source": [
    "**分析：** 根据列维-林德伯格中心极限定理的条件, 要求$X_1$, $X_2$, $\\cdots$, $X_n$ 独立同分布且数学期望与方差存在. 当 $X_1$, $X_2$, $\\cdots$, $X_n$ 的数学期望与方差相同时, $X_1$, $X_2$, $\\cdots$, $X_n$ 未必服从相同分布, 因而 $(A)、(B)$ 不正确. 当 $X_1$, $X_2$, $\\cdots$, $X_n$ 服从同一离散型分布时, 不能保证它们的数学期望与方差存在, **例如**, 设 $X_1$, $X_2$, $\\cdots$, $X_n$ 服从如下分布：\n",
    "\n",
    "$$\n",
    "P(X_i=\\frac{2^k}{k})=\\frac{1}{2^k},k=1,2,\\cdots,n\n",
    "$$\n",
    "由于级数\n",
    "$$\n",
    "\\sum_{k=i}\\frac{2^k}{k}\\cdot \\frac{1}{2^k}=\\sum_{k=1}^{\\infty}\n",
    "$$\n",
    "\n",
    "发散"
   ]
  },
  {
   "cell_type": "markdown",
   "metadata": {},
   "source": [
    "所以 $E(X_i)$ 不存在　$(i=1,2,\\cdots,n)$　从而　$(D)$ 不正确。\n",
    "\n",
    "当 $X_1$, $X_2$, $\\cdots$, $X_n$　服从同一指数分布 $e(\\lambda)$ 时, \n",
    "\n",
    "$$\n",
    "E(X_i)=\\frac{1}{\\lambda},D(X_i)=\\frac{1}{\\lambda^2},i=1,2,\\cdots,n.\n",
    "$$\n",
    "\n",
    "都存在，符合定理条件.故选　$(C)$"
   ]
  },
  {
   "cell_type": "markdown",
   "metadata": {
    "slideshow": {
     "slide_type": "subslide"
    }
   },
   "source": [
    "**作业：**\n",
    "\n",
    "Page 111： 5, 6, 7"
   ]
  },
  {
   "cell_type": "code",
   "execution_count": null,
   "metadata": {
    "collapsed": true
   },
   "outputs": [],
   "source": []
  }
 ],
 "metadata": {
  "celltoolbar": "Slideshow",
  "kernelspec": {
   "display_name": "Python 3",
   "language": "python",
   "name": "python3"
  },
  "language_info": {
   "codemirror_mode": {
    "name": "ipython",
    "version": 3
   },
   "file_extension": ".py",
   "mimetype": "text/x-python",
   "name": "python",
   "nbconvert_exporter": "python",
   "pygments_lexer": "ipython3",
   "version": "3.5.2"
  },
  "livereveal": {
   "height": 768,
   "scroll": "True",
   "slideNumber": "True",
   "start_slideshow_at": "selected",
   "theme": "sky",
   "width": 1024
  }
 },
 "nbformat": 4,
 "nbformat_minor": 1
}
