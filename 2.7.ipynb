{
 "cells": [
  {
   "cell_type": "markdown",
   "metadata": {},
   "source": [
    "### §2.7 随机变量函数的分布"
   ]
  },
  {
   "cell_type": "markdown",
   "metadata": {},
   "source": [
    "#### 1.随机变量的函数"
   ]
  },
  {
   "cell_type": "markdown",
   "metadata": {},
   "source": [
    "设 $g(x)$ 在随机变量 $X$ 的一切可能值的集合上有定义, $Y$ 是随机变量, 当 $X$ 取值 $x$ 时, 变量 $Y$ 取值 $y = g(x)$, 称这样确定的随机变量 $Y$ 为**随机变量 $X$ 的函数.**\n",
    "\n",
    "记作: $Y = g(X)$.\n",
    "\n",
    "例如: $X$ 是圆形轴直径的测量值, $Y$ 是轴的横断面积, $Y = \\frac{\\pi}{4} X^2$"
   ]
  },
  {
   "cell_type": "markdown",
   "metadata": {},
   "source": [
    "#### 2.离散随机变量函数分布"
   ]
  },
  {
   "cell_type": "markdown",
   "metadata": {},
   "source": [
    "设随机变量 $X$ 的概率分布为\n",
    "\n",
    "| $X$ | $x_1$ | $x_2$ | $\\cdots$ | $x_n$ | $\\cdots$ |\n",
    "|-----|------|-----|-----|------|------|\n",
    "| $p(x_i)\\quad$ | $p(x_1)\\quad$ | $p(x_2)\\quad$ | $\\cdots$ | $p(x_n)\\quad$ | $\\cdots$"
   ]
  },
  {
   "cell_type": "markdown",
   "metadata": {},
   "source": [
    "**问题**: 求随机变量函数 $Y = g(X)$ 的概率分布\n",
    "\n",
    "第一步:写出下表.\n",
    "\n",
    "| $$Y$$ | $y_1 = g(x_1)\\quad$ | $y_2 = g(x_2)\\quad$ | $\\cdots$ | $y_n=g(x_n)\\quad$ | $\\cdots$|\n",
    "|-----|-----|-----|-----|------|\n",
    "| $\\quad p(Y = y_i)\\quad$ | $$p(x_1)$$ | $$p(x_2)$$ | $\\cdots$ | $$p(x_n)$$ | $\\cdots$\n"
   ]
  },
  {
   "cell_type": "markdown",
   "metadata": {},
   "source": [
    "第二步: 合并与整理\n",
    "\n",
    "如果 $y_1,y_2,\\cdots, y_n,\\cdots$ 的值**全不相等**, 则上表就是随机变量 $Y$ 的概率分布表;\n",
    "\n",
    "如果 $y_1,y_2,\\cdots, y_n,\\cdots$ 的值中**有相等的**, 则将那些相等的值进行合并, 根据加法定理, 将对应概率相加."
   ]
  },
  {
   "cell_type": "markdown",
   "metadata": {},
   "source": [
    "**例 1 ** 设 $X$ 的概率分布为:\n",
    "\n",
    "| $X$ | $-2$ | $-1$ | $0$ | $1$ | $2$ | $3$ |\n",
    "|------|------|-----|------|------|------|------|\n",
    "| $$p(X_i)\\quad$$ | $0.1$ | $0.2$ | $0.25$ | $0.2$ | $0.15$ | $0.1$ |\n",
    "\n",
    "求 $Y = -2X, Z = X^2$ 的概率分布."
   ]
  },
  {
   "cell_type": "markdown",
   "metadata": {},
   "source": [
    "**解 :** 对 $Y = -2 X$, 先写出下表:\n",
    "\n",
    "| $ Y = - 2 X $ | $4$ | $2$ | $0$ | $-2$ | $-4$ | $-6$ |\n",
    "|------|------|-----|------|------|------|------|\n",
    "| $p(Y_i)$ | $0.1$ | $0.2$ | $0.25$ | $0.2$ | $0.15$ | $0.1$ |\n",
    "\n",
    "整理得:\n",
    "\n",
    "| $$Y$$ | $-6$ | $-4$ | $-2$ | $0$ | $2$ | $4$ |\n",
    "|------|------|-----|------|------|------|------|\n",
    "| $p(Y_i)\\quad$ | $0.1$ | $0.15$ | $0.2$ | $0.25$ | $0.2$ | $0.1$ |\n",
    "\n"
   ]
  },
  {
   "cell_type": "markdown",
   "metadata": {},
   "source": [
    "对于 $Z = X^2$, 先写出下表:\n",
    "\n",
    "| $Z = X^2$ | $4$ | $1$ | $0$ | $1$ | $4$ | $9$ |\n",
    "|------|------|-----|------|------|------|------|\n",
    "| $p(Z_i)$ | $0.1$ | $0.2$ | $0.25$ | $0.2$ | $0.15$ | $0.1$ |\n",
    "\n",
    "整理得:\n",
    "\n",
    "\n",
    "| $Z$ | $0$ | $1$ | $4$ | $9$ |\n",
    "|------|------|-----|-----|------|\n",
    "| $p(Z_j)\\quad$ | $0.25$ | $0.4$ | $0.25$ | $0.1$ |"
   ]
  },
  {
   "cell_type": "markdown",
   "metadata": {},
   "source": [
    "**例 2 ** 设随机变量 $X$ 的概率函数为\n",
    "\n",
    "$$\n",
    "p(x) = \\frac{1}{2^x}, \\quad x = 1, 2, \\cdots, n , \\cdots\n",
    "$$\n",
    "\n",
    "求随机变量 $Y=\\sin (\\frac{\\pi}{2} X)$ 的概率分布."
   ]
  },
  {
   "cell_type": "markdown",
   "metadata": {},
   "source": [
    "**解 :** 因为\n",
    "\n",
    "$$\n",
    "\\sin(\\frac{n \\pi}{2}) = \n",
    "\\begin{cases}\n",
    "-1, \\quad n = 4k -1 \\\\\n",
    "\\\\\n",
    "1, \\quad n =4k -3\\quad k = 1, 2, 3, \\cdots\\\\\n",
    "\\\\\n",
    "0, \\quad n = 2k.\\\\\n",
    "\\end{cases}\n",
    "$$\n",
    "\n",
    "所以, 函数 $Y = \\sin (\\frac{\\pi}{2} X)$ 只有三个可能值: $-1, 0, 1$;"
   ]
  },
  {
   "cell_type": "markdown",
   "metadata": {},
   "source": [
    "而取得这些值的概率分别是:\n",
    "\n",
    "$$\n",
    "\\begin{align}\n",
    "p(-1) & = \\frac{1}{2^3} + \\frac{1}{2^7} + \\frac{1}{2^{11}} + \\cdots = \\frac{1}{8(1- \\frac{1}{16})} = \\frac{2}{15}\\\\\n",
    "p(0) & = \\frac{1}{2^2} + \\frac{1}{2^4} + \\frac{1}{2^6} + \\cdots = \\frac{1}{4(1- \\frac{1}{4})} = \\frac{1}{3}\\\\\n",
    "p(1) & = \\frac{1}{2} + \\frac{1}{2^5} + \\frac{1}{2^9} + \\cdots = \\frac{1}{2(1- \\frac{1}{16})} = \\frac{8}{15}\\\\\n",
    "\\end{align}\n",
    "$$"
   ]
  },
  {
   "cell_type": "markdown",
   "metadata": {},
   "source": [
    "于是得到 $Y$ 的概率分布为 \n",
    "\n",
    "| $Y$ | $-1$ | $0$ | $1$ |\n",
    "|-----|------|-----|------|\n",
    "| $p(y)\\quad$ | $\\frac{2}{15}$ | $\\frac{1}{3}$ | $\\frac{8}{15}$ | "
   ]
  },
  {
   "cell_type": "markdown",
   "metadata": {},
   "source": [
    "#### 3.连续随机变量函数的分布"
   ]
  },
  {
   "cell_type": "markdown",
   "metadata": {},
   "source": [
    "假设 $g(x)$ 及一阶导数在随机变量 $X$ 的一切可能值的范围内连续.\n",
    "\n",
    "设 $X$ 为连续型随机变量, 已知其分布函数 $F_X(x)$ 和密度函数 $f_X(x)$, 随机变量\n",
    "\n",
    "$$\n",
    "Y = g(X)\n",
    "$$\n",
    "\n",
    "要求 $Y$ 的分布函数 $F_Y(y)$ 和密度函数 $f_Y(y)$."
   ]
  },
  {
   "cell_type": "markdown",
   "metadata": {},
   "source": [
    "(1) 先求 $Y = g(X)$ 的分布函数:\n",
    "\n",
    "对于任意的实数 $y$,\n",
    "\n",
    "$$\n",
    "F_Y(y) = P(Y \\leq y) = P[g(X) \\leq y]\n",
    "$$ \n",
    "\n",
    "从不等式 $g(X) \\leq y$ 中解得 $X$ 的取值范围.\n",
    "\n",
    "利用 $X$ 的概率密度 $f_X(x)$ 即可求得 $F_Y(y)$, 再对 $y$ 求导数, 得到的 $Y$ 概率密度."
   ]
  },
  {
   "cell_type": "markdown",
   "metadata": {},
   "source": [
    "**例 3 ** 设 $X \\sim e(\\lambda)$, 求 $Y = \\frac{1}{X} + 1$ 的概率密度. "
   ]
  },
  {
   "cell_type": "markdown",
   "metadata": {},
   "source": [
    "**解 :** 由题设, $X \\in (0, +\\infty)$, 所以 $Y$ 的取值范围为 $(1, +\\infty)$.\n",
    "\n",
    "于是当 $y \\leq 1$ 时, \n",
    "\n",
    "$$\n",
    "F_Y(y) = P(Y \\leq y) = 0\n",
    "$$\n",
    "\n",
    "当 $y > 1$ 时,\n",
    "\n",
    "$$\n",
    "\\begin{align}\n",
    "F_Y(y) &= P(Y \\leq y) = P(\\frac{1}{X} + 1 \\leq y) \\\\\n",
    "& = P(X \\geq \\frac{1}{y -1})= \\int_{\\frac{1}{y -1}}^{+\\infty} \\lambda e^{-\\lambda x} \\mathrm dx \\\\\n",
    "&= e^{-\\frac{\\lambda}{y-1}}\\\\\n",
    "\\end{align}\n",
    "$$ "
   ]
  },
  {
   "cell_type": "markdown",
   "metadata": {},
   "source": [
    "所以, $Y$ 的分布函数为 \n",
    "\n",
    "$$\n",
    "F(y) = \n",
    "\\begin{cases}\n",
    "e^{-\\frac{\\lambda}{y-1}},\\quad y > 1\\\\\n",
    "\\\\\n",
    "0, \\quad y \\leq 1 \\\\\n",
    "\\end{cases}\n",
    "$$\n",
    "\n",
    "两边求导, 得 $Y$ 的概率密度为:\n",
    "\n",
    "$$\n",
    "f_Y(y)= \n",
    "\\begin{cases}\n",
    "0, \\quad y \\leq 1\\\\\n",
    "\\\\\n",
    "\\frac{\\lambda}{(y-1)^2}e^{-\\frac{\\lambda}{y-1}},\\quad y > 1\\\\\n",
    "\\end{cases}\n",
    "$$"
   ]
  },
  {
   "cell_type": "markdown",
   "metadata": {},
   "source": [
    "**例 4 ** 若 $X \\sim N(\\mu, \\sigma^2)$, 求 $Y = \\frac{X - \\mu}{\\sigma}$ 的概率密度."
   ]
  },
  {
   "cell_type": "markdown",
   "metadata": {},
   "source": [
    "**解 :** 设随机变量 $Y$ 的分布函数为 $F_Y(y)$, 于是 \n",
    "\n",
    "$$\n",
    "\\begin{align}\n",
    "F_Y(y) & = P(Y \\leq y) = P(\\frac{X - \\mu}{\\sigma} \\leq y)\\\\\n",
    "& = P(X \\leq \\sigma y + \\mu)\\\\\n",
    "& = \\int_{-\\infty}^{\\sigma y + \\mu} \\frac{1}{\\sqrt{{2 \\pi}}\\sigma} e^{-\\frac{(x - \\mu)^2}{2 \\sigma^2}} \\mathrm dx\n",
    "\\end{align}\n",
    "$$\n",
    "\n",
    "将上式两边对 $y$ 求导, 得\n",
    "\n",
    "$$\n",
    "f_Y(y) = \\frac{1}{\\sqrt{2 \\pi}} e^{-\\frac{y^2}{2}}\n",
    "$$\n",
    "\n",
    "即\n",
    "\n",
    "$$\n",
    "Y \\sim N(0, 1)\n",
    "$$"
   ]
  },
  {
   "cell_type": "markdown",
   "metadata": {},
   "source": [
    "**例 5 ** 设连续随机变量 $X$ 的概率密度为 $f_X(x)$, 求随机变量函数 $Y = a + b X$ 的概率密度, 其中 $a$ 及 $b \\neq 0$ 都是常数."
   ]
  },
  {
   "cell_type": "markdown",
   "metadata": {},
   "source": [
    "**解 :** 对于任意的实数 $y$, 随机变量 $Y$ 的分布函数\n",
    "\n",
    "$$\n",
    "F_Y(y) = P(Y \\leq  y) = P(a + bX \\leq y)\n",
    "$$\n",
    "\n",
    "将不等式 $a + b X \\leq y$ 进行等价变换, 不难把 $F_Y(y)$ 用 $X$ 的概率密度 $f_X(x)$ 表示出来.\n",
    "\n",
    "注意到 $b \\neq 0$, 分两种情况讨论如下:"
   ]
  },
  {
   "cell_type": "markdown",
   "metadata": {
    "collapsed": true
   },
   "source": [
    "(1) 设 $b > 0$, 则有\n",
    "\n",
    "$$\n",
    "F_Y(y) = P(X \\leq \\frac{y - a}{b}) = \\int_{-\\infty}^{\\frac{y - a}{b}} f_X(x) \\mathrm dx\n",
    "$$\n",
    "\n",
    "上式两边对 $y$ 求导数, 即得 $Y$ 的概率密度\n",
    "\n",
    "$$\n",
    "f_Y(y) = f_X(\\frac{y - a}{b}) \\cdot \\frac{1}{b} =  \\frac{1}{b}f_X(\\frac{y - a}{b}) .\n",
    "$$"
   ]
  },
  {
   "cell_type": "markdown",
   "metadata": {
    "collapsed": true
   },
   "source": [
    "(2) 设 $b < 0$, 则有\n",
    "\n",
    "$$\n",
    "F_Y(y) = P(X \\geq \\frac{y - a}{b}) = \\int^{+\\infty}_{\\frac{y - a}{b}} f_X(x) \\mathrm dx\n",
    "$$\n",
    "\n",
    "上式两边对 $y$ 求导数, 即得 $Y$ 的概率密度\n",
    "\n",
    "$$\n",
    "f_Y(y) = -f_X(\\frac{y - a}{b}) \\cdot \\frac{1}{b} = - \\frac{1}{b}f_X(\\frac{y - a}{b}) .\n",
    "$$\n",
    "\n",
    "综合上面两种情形, 可以把随机变量函数\n",
    "\n",
    "$$\n",
    "Y = a + b X \n",
    "$$\n",
    "\n",
    "的概率密度统一写成\n",
    "\n",
    "$$\n",
    "f_Y(y) = \\frac{1}{|b|}f_X(\\frac{y - a}{b}) \n",
    "$$"
   ]
  },
  {
   "cell_type": "markdown",
   "metadata": {
    "collapsed": true
   },
   "source": [
    "**例 6 ** 设 $X \\sim e(1)$, 求 $Y = \\sqrt {X}$ 的概率密度. "
   ]
  },
  {
   "cell_type": "markdown",
   "metadata": {},
   "source": [
    "**解 :** 由 $X \\sim e(1)$ 知, $X$ 的概率密度为 \n",
    "\n",
    "$$\n",
    "f_X(x) = \n",
    "\\begin{cases}\n",
    "e^{-x}, \\quad x > 0\\\\\n",
    "\\\\\n",
    "0, \\quad x \\leq 0\\\\\n",
    "\\end{cases}\n",
    "$$\n",
    "\n",
    "由分布函数的定义, $Y$ 的分布函数为\n",
    "\n",
    "$$\n",
    "F_Y(y) = P(Y \\leq y) = P(\\sqrt{X} \\leq y)\n",
    "$$\n",
    "\n",
    "(1) $y < 0$ 时, $\\sqrt{X} \\leq y$ 是不可能事件, $F_Y(y)=0$.\n",
    "\n",
    "(2) $y \\geq 0$ 时, \n",
    "\n",
    "$$\n",
    "\\begin{align}\n",
    "F_Y(y)  &= P(\\sqrt{X} \\leq y) = P(0 < X \\leq y^2)\\\\\n",
    "& = \\int_{0}^{y^2} e^{- x} \\mathrm dx\\\\\n",
    "& = 1 - e^{- y^2}\n",
    "\\end{align}\n",
    "$$"
   ]
  },
  {
   "cell_type": "markdown",
   "metadata": {
    "collapsed": true
   },
   "source": [
    "于是, $Y$ 的分布函数为 \n",
    "\n",
    "$$\n",
    "F_Y(y) = \n",
    "\\begin{cases}\n",
    "1 - e^{- y^2}, \\quad y \\geq 0\\\\\n",
    "\\\\\n",
    "0, \\quad y < 0\\\\\n",
    "\\end{cases}\n",
    "$$\n",
    "\n",
    "求导得 $Y$ 的概率密度\n",
    "\n",
    "$$\n",
    "f_Y(y) = \n",
    "\\begin{cases}\n",
    "2 y e^{- y^2}, \\quad y \\geq 0\\\\\n",
    "\\\\\n",
    "0, \\quad y < 0\\\\\n",
    "\\end{cases}\n",
    "$$"
   ]
  },
  {
   "cell_type": "markdown",
   "metadata": {
    "collapsed": true
   },
   "source": [
    "**例 7 ** 设随机变量 $X$ 在区间 $[0, \\pi]$ 上服从均匀分布, 即概率密度\n",
    "\n",
    "$$\n",
    "f_X(x) = \n",
    "\\begin{cases}\n",
    "\\frac{1}{\\pi},\\quad 0 \\leq x \\leq \\pi\\\\\n",
    "\\\\\n",
    "0, \\quad 其它\\\\\n",
    "\\end{cases}\n",
    "$$\n",
    "\n",
    "求随机变量函数 $Y = \\sin X $ 的概率密度."
   ]
  },
  {
   "cell_type": "markdown",
   "metadata": {
    "collapsed": true
   },
   "source": [
    "**解 :** 对于任意的实数 $y$, 我们有\n",
    "\n",
    "$$\n",
    "F_Y(y) = P(Y \\leq y) = P(\\sin X \\leq y)\n",
    "$$\n",
    "\n",
    "因为随机变量 $X$ 的取值区间是 $[0, \\pi]$, 所以随机变量 $Y$ 的取值区间是 $[0, 1]$. 易知"
   ]
  },
  {
   "cell_type": "markdown",
   "metadata": {},
   "source": [
    "(1) 当 $y < 0$ 时,$F_Y(y)=0$;\n",
    "\n",
    "(2) 当 $y \\geq 1$ 时, $F_Y(y)=1$;\n",
    "\n",
    "(3) 当 $0 \\leq y < 1$ 时,如下图我们有"
   ]
  },
  {
   "cell_type": "markdown",
   "metadata": {},
   "source": [
    "![](./figures/29.png)"
   ]
  },
  {
   "cell_type": "markdown",
   "metadata": {},
   "source": [
    "$$\n",
    "F_Y(y) = P(\\sin X \\leq y) = \\int_0^{x_1} \\frac{1}{\\pi} \\mathrm dx + \\int_{x_2}^{\\pi}\\frac{1}{\\pi} \\mathrm dx,\n",
    "$$\n",
    "\n",
    "其中 $x_1 = \\arcsin y, x_2 = \\pi - \\arcsin y$, 由此得\n",
    "\n",
    "$$\n",
    "F_Y(y) = \\frac{1}{\\pi}[x_1 + (\\pi - x_2)] = \\frac{2}{\\pi} \\arcsin y\n",
    "$$"
   ]
  },
  {
   "cell_type": "markdown",
   "metadata": {
    "collapsed": true
   },
   "source": [
    "所以, 随机变量 $Y$ 的分布函数\n",
    "\n",
    "$$\n",
    "F_Y(y) = \n",
    "\\begin{cases}\n",
    "0, \\quad y < 0\\\\\n",
    "\\\\\n",
    "\\frac{2}{\\pi} \\arcsin y, \\quad 0 \\leq y <1\\\\\n",
    "\\\\\n",
    "1, \\quad y \\geq 1\n",
    "\\end{cases}\n",
    "$$\n",
    "\n",
    "上式两边对 $y$ 求导数, 既得 $Y$ 的概率密度\n",
    "\n",
    "$$\n",
    "f_Y(y) = \n",
    "\\begin{cases}\n",
    "\\frac{2}{\\pi \\sqrt{1- y^2}},\\quad 0 < y <1\\\\\n",
    "\\\\\n",
    "0, \\quad 其它\\\\\n",
    "\\end{cases}\n",
    "$$\n",
    "\n",
    "注意到当 $y = 0 $ 或 $1$时, $F_Y(y)$ 不可导, 我们不妨定义\n",
    "\n",
    "$$\n",
    "f_Y(0) = 0, \\quad f_Y(1) = 0\n",
    "$$"
   ]
  },
  {
   "cell_type": "markdown",
   "metadata": {
    "collapsed": true
   },
   "source": [
    "#### 关于随机变量函数的分布, 有下面的定理"
   ]
  },
  {
   "cell_type": "markdown",
   "metadata": {
    "collapsed": true
   },
   "source": [
    "**定理 1** 设随机变量 $X$ 具有概率密度\n",
    "\n",
    "$$\n",
    "f_X(x) (-\\infty < X < +\\infty),\n",
    "$$\n",
    "\n",
    "函数 $g(x)$ 处处可导, 且恒有 $g'(x) > 0$(或恒有 $g'(x)<0$), 则 $Y = g(X)$ 是连续型随机变量, 其概率密度为\n",
    "\n",
    "$$\n",
    "f_Y(y) = \n",
    "\\begin{cases}\n",
    "f_X[h(y)]|h'(y)|, \\quad \\alpha < y < \\beta\\\\\n",
    "\\\\\n",
    "0, \\quad 其它\\\\\n",
    "\\end{cases}\n",
    "$$\n",
    "\n",
    "其中 \n",
    "\n",
    "$$\n",
    "\\alpha = \\min (g(-\\infty), g(+\\infty)), \\quad \\beta =  \\max (g(-\\infty), g(+\\infty)),\n",
    "$$\n",
    "\n",
    "$h(y)$ 是 $g(x)$ 的反函数."
   ]
  },
  {
   "cell_type": "markdown",
   "metadata": {
    "collapsed": true
   },
   "source": [
    "**例 8** 设 $X$ 的概率密度为 \n",
    "\n",
    "$$\n",
    "f_X(x) = \n",
    "\\begin{cases}\n",
    "e^{-x}, \\quad x > 0\\\\\n",
    "\\\\\n",
    "0, \\quad x \\leq 0\\\\\n",
    "\\end{cases}\n",
    "$$\n",
    "\n",
    "求 $Y = e^X$ 的概率密度 $f_Y(y)$."
   ]
  },
  {
   "cell_type": "markdown",
   "metadata": {
    "collapsed": true
   },
   "source": [
    "**解法 1** 显然, 随机变量 $Y$ 取值于 $(1, +\\infty)$\n",
    "\n",
    "当 $y \\leq 1$ 时, $F_Y(y) = 0$;\n",
    "\n",
    "当 $y > 1$ 时,\n",
    "\n",
    "$$\n",
    "\\begin{align}\n",
    "F_Y(y) &= P(Y \\leq y ) = P(e^X \\leq y )\\\\\n",
    "& = P(X \\leq \\ln y)= \\int_0^{\\ln y} e^{-x} \\mathrm dx\\\\\n",
    "& = 1 - \\frac{1}{y}\n",
    "\\end{align}\n",
    "$$\n",
    "\n",
    "所以\n",
    "\n",
    "$$\n",
    "F_Y(y)=\n",
    "\\begin{cases}\n",
    "0, \\quad y \\leq 1;\\\\\n",
    "\\\\\n",
    "1 - \\frac{1}{y}, \\quad y > 1\\\\\n",
    "\\end{cases}\n",
    "$$\n",
    "\n",
    "求导得 \n",
    "\n",
    "$$\n",
    "f_Y(y) = F'_Y(y) =\n",
    "\\begin{cases}\n",
    "\\frac{1}{y^2}, \\quad y>1;\\\\\n",
    "\\\\\n",
    "0, \\quad y \\leq 1\\\\\n",
    "\\end{cases}\n",
    "$$"
   ]
  },
  {
   "cell_type": "markdown",
   "metadata": {
    "collapsed": true
   },
   "source": [
    "**解法 2** 当 $x > 0$ 时,$y = e^x$ 是单调函数, 其值域为 $y > 1$, 其反函数为 $x = \\ln y$, 因为 \n",
    "\n",
    "$$\n",
    "(\\ln y )'_y = \\frac{1}{y} > 0\n",
    "$$\n",
    "\n",
    "即\n",
    "\n",
    "$$\n",
    "f_Y(y) = \n",
    "\\begin{cases}\n",
    "\\frac{1}{y^2}, \\quad y > 1\\\\\n",
    "\\\\\n",
    "0, \\quad y \\leq 1\\\\\n",
    "\\end{cases}\n",
    "$$"
   ]
  },
  {
   "cell_type": "markdown",
   "metadata": {
    "collapsed": true
   },
   "source": [
    "#### 小结"
   ]
  },
  {
   "cell_type": "markdown",
   "metadata": {
    "collapsed": true
   },
   "source": [
    "1. 离散随机变量函数的分布：先写出对应的概率表, 然后进行合并与整理.\n",
    "2. 连续随机变量函数的概率密度: 从 $Y = g(X)$ 的分布函数入手将 $F_Y(y)$ 表示成关于 $F_Y(y)$ 的变限积分, 然后对 $y$ 求导, 即得密度函数. "
   ]
  },
  {
   "cell_type": "markdown",
   "metadata": {
    "collapsed": true
   },
   "source": [
    "#### 思考题"
   ]
  },
  {
   "cell_type": "markdown",
   "metadata": {
    "collapsed": true
   },
   "source": [
    "设随机变量 $X$ 服从 $(0, 2)$ 上的均匀分布, 求随机变量 $Y = X^2$ 的概率密度 $f_Y(y)$."
   ]
  },
  {
   "cell_type": "markdown",
   "metadata": {},
   "source": [
    "**解 :** 已知 $X \\sim U(0, 2)$, 则 $X$ 的概率密度为\n",
    "\n",
    "$$\n",
    "f_X(x)= \n",
    "\\begin{cases}\n",
    "\\frac{1}{2}, \\quad 0 < x < 2\\\\\n",
    "\\\\\n",
    "0, \\quad 其它\\\\\n",
    "\\end{cases}\n",
    "$$\n",
    "\n",
    "对于任意实数 $y$, 由分布函数定义知 $Y$ 的分布函数为\n",
    "\n",
    "$$\n",
    "F_Y(y) = P(Y \\leq y ) =P(X^2 \\leq y)\n",
    "$$"
   ]
  },
  {
   "cell_type": "markdown",
   "metadata": {},
   "source": [
    "(1) 当 $y \\leq 0$ 时,$F_Y(y) = 0$;\n",
    "\n",
    "(2) 当 $y \\geq 4$ 时,$F_Y(y) = 1$;\n",
    "\n",
    "(3) 当 $0 < y < 4$ 时,\n",
    "\n",
    "$$\n",
    "\\begin{align}\n",
    "F_Y(y) & = P(-\\sqrt{y} \\leq x \\leq \\sqrt{y})\\\\\n",
    "& =\\int_{-\\sqrt{y}}^{\\sqrt{y}} f_X(x) \\mathrm dx = \\frac{1}{2} \\int_0^{\\sqrt{y}} \\mathrm dx \\\\\n",
    "& = \\frac{\\sqrt{y}}{2}\n",
    "\\end{align}\n",
    "$$"
   ]
  },
  {
   "cell_type": "markdown",
   "metadata": {},
   "source": [
    "所以 $Y$ 的分布函数为\n",
    "\n",
    "$$\n",
    "F_Y(y) = \n",
    "\\begin{cases}\n",
    "0, \\quad y \\leq 0\\\\\n",
    "\\\\\n",
    "\\frac{\\sqrt{y}}{2}, \\quad 0 < y < 4;\\\\\n",
    "\\\\\n",
    "1, \\quad  y \\geq 4\\\\\n",
    "\\end{cases}\n",
    "$$"
   ]
  },
  {
   "cell_type": "markdown",
   "metadata": {
    "collapsed": true
   },
   "source": [
    "对 $y$ 求导即得 $Y$ 的概率密度\n",
    "\n",
    "$$\n",
    "F_Y(y) = \n",
    "\\begin{cases}\n",
    "\\frac{1}{4 \\sqrt{y}}, \\quad 0 < y < 4\\\\\n",
    "\\\\\n",
    "0, \\quad 其它\\\\\n",
    "\\end{cases}\n",
    "$$\n",
    "\n",
    "注意到 $F_Y(y)$ 在 $y = 0$ 及 $y =4$ 处不可导, 不妨定义\n",
    "\n",
    "$$\n",
    "f_Y(0) = 0, \\quad f_Y(4) = 0\n",
    "$$"
   ]
  },
  {
   "cell_type": "markdown",
   "metadata": {},
   "source": [
    "**作业：**\n",
    "Page 58: 23, 26"
   ]
  }
 ],
 "metadata": {
  "kernelspec": {
   "display_name": "SageMath 7.5.1",
   "language": "",
   "name": "sagemath"
  },
  "language_info": {
   "codemirror_mode": {
    "name": "ipython",
    "version": 2
   },
   "file_extension": ".py",
   "mimetype": "text/x-python",
   "name": "python",
   "nbconvert_exporter": "python",
   "pygments_lexer": "ipython2",
   "version": "2.7.13"
  }
 },
 "nbformat": 4,
 "nbformat_minor": 0
}
