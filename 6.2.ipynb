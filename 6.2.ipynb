{
 "cells": [
  {
   "cell_type": "markdown",
   "metadata": {
    "slideshow": {
     "slide_type": "slide"
    }
   },
   "source": [
    "### §6.2   数理统计中的某些常用分布"
   ]
  },
  {
   "cell_type": "markdown",
   "metadata": {
    "slideshow": {
     "slide_type": "subslide"
    }
   },
   "source": [
    "在上一节中, 我们介绍了总体, 样本及统计量的概念."
   ]
  },
  {
   "cell_type": "markdown",
   "metadata": {
    "slideshow": {
     "slide_type": "fragment"
    }
   },
   "source": [
    "由于样本是随机变量, 统计量是样本的函数, 从而统计量也是**随机变量**."
   ]
  },
  {
   "cell_type": "markdown",
   "metadata": {
    "slideshow": {
     "slide_type": "fragment"
    }
   },
   "source": [
    "统计量的分布称为**抽样分布**."
   ]
  },
  {
   "cell_type": "markdown",
   "metadata": {
    "slideshow": {
     "slide_type": "fragment"
    }
   },
   "source": [
<<<<<<< HEAD
=======
    "在上一节中, 我们介绍了**总体**, **样本**及**统计量**的概念."
   ]
  },
  {
   "cell_type": "markdown",
   "metadata": {
    "slideshow": {
     "slide_type": "fragment"
    }
   },
   "source": [
    "由于样本是随机变量, 统计量是样本的函数, 从而统计量也是**随机变量**."
   ]
  },
  {
   "cell_type": "markdown",
   "metadata": {
    "slideshow": {
     "slide_type": "fragment"
    }
   },
   "source": [
    "统计量的分布称为**抽样分布**."
   ]
  },
  {
   "cell_type": "markdown",
   "metadata": {
    "slideshow": {
     "slide_type": "fragment"
    }
   },
   "source": [
>>>>>>> cda145f3b7a33caf778968cac0b3c7edfec9f79d
    "一般情况下, 当总体分布已知时, 求统计量的分布是很困难的. 然而, 当总体服从正态分布时, 某些统计量的分布比较容易求得."
   ]
  },
  {
   "cell_type": "markdown",
   "metadata": {
    "slideshow": {
     "slide_type": "subslide"
    }
   },
   "source": [
    "若总体 $X \\sim N(\\mu, \\sigma^2)$ 是从 $(X_1,X_2, \\cdots,X_n)$ 总体 $X$ 中抽取的一个容量为 $n$ 的样本.\n",
    "\n",
    "由正态分布的性质易知样本均值\n",
    "\n",
    "$$\n",
    "\\bar{X} = \\frac{1}{n} \\sum_{i=1}^n X_i\n",
    "$$\n",
    "\n",
    "也服从正态分布，且\n",
    "\n",
    "$$\n",
    "\\bar{X} \\sim N(\\mu, \\frac{\\sigma^2}{n^2})\n",
    "$$\n"
   ]
  },
  {
   "cell_type": "markdown",
   "metadata": {
    "slideshow": {
     "slide_type": "slide"
    }
   },
   "source": [
    "下面我们在总体服从正态分布的基本假设下, 讨论一些重要的统计量的分布. 这些结论是以后各章内容的理论基础."
   ]
  },
  {
   "cell_type": "markdown",
   "metadata": {
    "slideshow": {
     "slide_type": "subslide"
    }
   },
   "source": [
    "#### 一.  $\\chi^2$ 分布"
   ]
  },
  {
   "cell_type": "markdown",
   "metadata": {
    "slideshow": {
     "slide_type": "fragment"
    }
   },
   "source": [
<<<<<<< HEAD
    "$\\chi^2$ 分布是由正态分布派生出来的一种分布. 由阿贝(Abbe) 于1863年首先给出, 后来由海尔墨特(Hermert)和卡·皮尔逊(K·Pearson)分别于1875年和1900年推导出来."
=======
    "$\\chi^2$ 分布是由正态分布派生出来的一种分布. 由阿贝(Abbe)于 1863 年首先给出, 后来由海尔墨特(Hermert)和卡·皮尔逊(K·Pearson)分别于 1875 年和 1900 年推导出来."
>>>>>>> cda145f3b7a33caf778968cac0b3c7edfec9f79d
   ]
  },
  {
   "cell_type": "markdown",
   "metadata": {
    "slideshow": {
     "slide_type": "subslide"
    }
   },
   "source": [
    "**定义: ** 设 \n",
    "\n",
    "$$\n",
    "X_1,X_2, \\cdots, X_n\n",
    "$$\n",
    "\n",
    "相互独立, 都服从正态分布 $N(0, 1)$, 则称随机变量:\n",
    "\n",
    "$$\n",
    "\\chi^2 = X_1^2 + X_2^2 + \\cdots + X_n^2\n",
    "$$\n",
    "\n",
    "所服从的分布为自由度为 $n$ 的 $\\chi^2$ 分布. 记为\n",
    "\n",
    "$$\n",
    "\\chi^2 \\sim \\chi^2(n)\n",
    "$$"
   ]
  },
  {
   "cell_type": "markdown",
   "metadata": {
    "slideshow": {
     "slide_type": "slide"
    }
   },
   "source": [
    "**定理 2.1** 自由度为 $n$ 的 $\\chi^2$ 分布的密度函数为\n",
    "\n",
    "$$\n",
    "f(x; n) = \n",
    "\\begin{cases}\n",
    "\\frac{1}{2^{\\frac{n}{2}} \\Gamma(\\frac{n}{2})} x^{\\frac{n}{2}-1}e^{-\\frac{x}{2}}, \\quad x \\geq 0\\\\\n",
    "0, \\quad x<0\n",
    "\\end{cases}\n",
    "$$\n",
    "\n",
    "其中\n",
    "\n",
    "$$\n",
    "\\Gamma (s) = \\int_0^\\infty x^{s-1}e^{-x} \\mathrm dx ,\\quad s>0\n",
    "$$"
   ]
  },
  {
   "cell_type": "markdown",
   "metadata": {
    "slideshow": {
     "slide_type": "subslide"
    }
   },
   "source": [
    "**附录:** $\\Gamma$ 函数 $\\Gamma (s)=\\int_0^{+\\infty} x^{s-1}e^{-x} \\mathrm dx, s>0$ 的性质："
   ]
  },
  {
   "cell_type": "markdown",
   "metadata": {
    "slideshow": {
     "slide_type": "fragment"
    }
   },
   "source": [
    "(1) 递推公式\n",
    "\n",
    "$$\n",
    "\\begin{align}\n",
    "& \\Gamma (s+1) = s\\Gamma (s)\\quad (s>0)\\\\\n",
    "& \\Gamma (1) = \\int_0^{+\\infty} e^{-x} \\mathrm dx = 1 \\\\\n",
    "& \\Gamma (n+1)=n!\n",
    "\\end{align}\n",
    "$$"
   ]
  },
  {
   "cell_type": "markdown",
   "metadata": {
    "slideshow": {
     "slide_type": "fragment"
    }
   },
   "source": [
    "(2) $\\Gamma (s) \\to +\\infty, s \\to 0^{+}$"
   ]
  },
  {
   "cell_type": "markdown",
   "metadata": {
    "slideshow": {
     "slide_type": "subslide"
    }
   },
   "source": [
    "(3) 余元公式:\n",
    "\n",
    "$$\n",
    "\\begin{align}\n",
    "\\Gamma (s) \\Gamma (1-s) =& \\frac{\\pi}{\\sin (\\pi s)}\\quad (0 < s <1)\\\\\n",
    "\\Gamma(\\frac{1}{2}) =& \\sqrt{\\pi} \\\\\n",
    "\\int_0^{+\\infty} e^{-u^2} \\mathrm du =& \\frac{1}{2} \\Gamma (\\frac{1}{2}) = \\frac{\\sqrt{\\pi}}{2}\n",
    "\\end{align}\n",
    "$$"
   ]
  },
  {
   "cell_type": "markdown",
   "metadata": {
    "slideshow": {
     "slide_type": "slide"
    }
   },
   "source": [
    "由 $\\chi^2$ 分布的定义，不难得到："
   ]
  },
  {
   "cell_type": "markdown",
   "metadata": {
    "slideshow": {
     "slide_type": "fragment"
    }
   },
   "source": [
    "**定理 2.2** 设 $X \\sim \\chi^2(n), \\quad Y\\sim \\chi^2(m)$, 且 $X,Y$ 相互独立, 则\n",
    "\n",
    "$$\n",
    "X + Y \\sim \\chi^2(n+m)\n",
    "$$\n",
    "\n",
    "这个性质叫 $\\chi^2$ 分布的可加性."
   ]
  },
  {
   "cell_type": "markdown",
   "metadata": {
    "slideshow": {
     "slide_type": "subslide"
    }
   },
   "source": [
    "**证:** 假设\n",
    "\n",
    "$$\n",
<<<<<<< HEAD
    "\\begin{align}\n",
    "X &= X_1^2 + X_2^2 + \\cdots + X_n^2\\\\\n",
    "Y &= X_{n+1}^2 + X_{n+2}^2 + \\cdots + X_{n+m}^2\n",
    "\\end{align}\n",
=======
    "X = X_1^2 + X_2^2 + \\cdots + X_n^2\\\\\n",
    "Y = X_{n+1}^2 + X_{n+2}^2 + \\cdots + X_{n+m}^2\n",
>>>>>>> cda145f3b7a33caf778968cac0b3c7edfec9f79d
    "$$\n",
    "\n",
    "因此\n",
    "\n",
    "$$\n",
    "X+Y = X_1^2 + X_2^2 + \\cdots + X_{n+m}^2\n",
    "$$"
   ]
  },
  {
   "cell_type": "markdown",
   "metadata": {
    "slideshow": {
     "slide_type": "slide"
    }
   },
   "source": [
    "**定理 2.3** 若 $X \\sim \\chi^2(n)$ 则\n",
    "\n",
    "$$\n",
    "E(X) = n, D(X) = 2n\n",
    "$$\n",
    "\n",
    "进一步应用中心极限定理可得, 若 $X \\sim \\chi^2(n)$, 则当 $n$ 充分大时,\n",
    "\n",
    "$$\n",
    "\\frac{X - n}{\\sqrt{2 n}}\n",
    "$$\n",
    "\n",
    "的分布近似正态分布 $N(0, 1)$."
   ]
  },
  {
   "cell_type": "markdown",
   "metadata": {
    "slideshow": {
     "slide_type": "subslide"
    }
   },
   "source": [
    "**证明:**\n",
    "\n",
    "$$\n",
    "X = X_1^2 + X_2^2 + \\cdots + X_n^2\n",
    "$$\n",
    "\n",
    "因 $X_i \\sim N(0, 1)$ 故\n",
    "\n",
    "$$\n",
    "\\begin{align}\n",
    "E(X_i^2) =& D(X_i) + [E(X_i)]^2=1\\\\\n",
    "D(X_i^2) =& E(X_i^4) - [E(X_i^2)]^2=3-1=2\n",
    "\\end{align}\n",
    "$$\n",
    "\n",
    "其中 $ i = 1,2,3, \\cdots, n$ "
   ]
  },
  {
   "cell_type": "markdown",
   "metadata": {
    "slideshow": {
     "slide_type": "subslide"
    }
   },
   "source": [
    "$$\n",
    "\\begin{align}\n",
    "E(X) =& E(\\sum_{i=1}^n X_i^2) = \\sum_{i=1}^n E(X_i^2)=n\\\\\n",
    "D(X) =& D(\\sum_{i=1}^2 X_i^2) = \\sum_{i=1}^n D(X_i^2)=2n\n",
    "\\end{align}\n",
    "$$"
   ]
  },
  {
   "cell_type": "markdown",
   "metadata": {
    "slideshow": {
     "slide_type": "slide"
    }
   },
   "source": [
<<<<<<< HEAD
    "$\\chi^2$ 分布的特点:\n",
    "\n",
    "* $\\chi^2$ 分布的变量值始终为正;\n",
    "* $\\chi^2$ 分布的形状取决于其自由度 $n$ 的大小, 通常为不对称的正偏分布, 但随着自由度的增大逐渐趋于对称."
=======
    "$\\chi^2$ 分布的特点:"
   ]
  },
  {
   "cell_type": "markdown",
   "metadata": {
    "slideshow": {
     "slide_type": "fragment"
    }
   },
   "source": [
    "* $\\chi^2$ 分布的变量值始终为正;"
>>>>>>> cda145f3b7a33caf778968cac0b3c7edfec9f79d
   ]
  },
  {
   "cell_type": "markdown",
   "metadata": {
    "slideshow": {
     "slide_type": "fragment"
    }
   },
   "source": [
    "* $\\chi^2$ 分布的形状取决于其自由度n的大小, 通常为不对称的正偏分布, 但随着自由度的增大逐渐趋于对称."
   ]
  },
  {
   "cell_type": "markdown",
   "metadata": {
    "slideshow": {
     "slide_type": "subslide"
    }
   },
   "source": [
    "![](./figures/614.png)"
   ]
  },
  {
   "cell_type": "markdown",
   "metadata": {
    "slideshow": {
     "slide_type": "slide"
    }
   },
   "source": [
    "#### 3.  $\\chi^2$  的分位数 "
   ]
  },
  {
   "cell_type": "markdown",
   "metadata": {
    "slideshow": {
     "slide_type": "fragment"
    }
   },
   "source": [
    "设 $\\chi^2 \\sim \\chi^2(n)$, 概率密度函数为 $f(x; n)$, 对于给定 $\\alpha (0< \\alpha < 1)$, 称满足\n",
    "\n",
    "$$\n",
    "P \\{\\chi^2 \\geq \\chi_{\\alpha}^2 (n)\\} = \\int_{ \\chi_{\\alpha}^2 (n)}^{+\\infty} f(x; n) \\mathrm dx = \\alpha\n",
    "$$\n",
    "\n",
    "的点 $\\chi_{\\alpha}^2 (n)$ 为 $\\chi^2$ 的分位数."
   ]
  },
  {
   "cell_type": "markdown",
   "metadata": {
    "slideshow": {
     "slide_type": "subslide"
    }
   },
   "source": [
    "![](./figures/616.png)"
   ]
  },
  {
   "cell_type": "markdown",
   "metadata": {
    "slideshow": {
     "slide_type": "subslide"
    }
   },
   "source": [
    "$\\chi^2$ 的分位数有表可查\n",
    "\n",
    "例如\n",
    "$$\n",
    "\\chi_{0.05}^2 (10) = 18.3\\\\\n",
    "P\\{\\chi^2 (10) \\geq 18.3\\}= 0.05\n",
    "$$"
   ]
  },
  {
   "cell_type": "markdown",
   "metadata": {
    "slideshow": {
     "slide_type": "fragment"
    }
   },
   "source": [
    "![](./figures/617.png)"
   ]
  },
  {
   "cell_type": "markdown",
   "metadata": {
    "slideshow": {
     "slide_type": "slide"
    }
   },
   "source": [
    "**例 1** 设总体 $X \\sim N(0, 1)$, $X_1, X_2, \\cdots, X_6$ 为总体 $X$ 的样本,\n",
    "\n",
    "$$\n",
    "Y = (X_1+X_2+X_3)^2 + (X_4 +X_5+X_6)^2\n",
    "$$\n",
    "\n",
    "试确定常数 $c$, 使 $cY$ 服从 $\\chi^2$ 分布."
   ]
  },
  {
   "cell_type": "markdown",
   "metadata": {
    "slideshow": {
     "slide_type": "fragment"
    }
   },
   "source": [
    "**解 :**\n",
    "$$\n",
    "X_1+X_2+X_3 \\sim N(0, 3),\\quad X_4+X_5+X_6 \\sim N(0, 3)\\\\\n",
    "\\frac{1}{\\sqrt{3}}(X_1+X_2+X_3),\\frac{1}{\\sqrt{3}}(X_4+X_5+X_6) \\sim N(0, 1)\n",
    "$$"
   ]
  },
  {
   "cell_type": "markdown",
   "metadata": {
    "slideshow": {
     "slide_type": "subslide"
    }
   },
   "source": [
    "故 \n",
    "$$\n",
    "[\\frac{1}{\\sqrt{3}}(X_1+X_2+X_3)]^2+[\\frac{1}{\\sqrt{3}} (X_4+X_5+X_6)]^2=\\frac{1}{3}Y \\sim \\chi^2(2)\n",
    "$$\n",
    "\n",
    "因此\n",
    "$$\n",
    "c = \\frac{1}{3}\n",
    "$$"
   ]
  },
  {
   "cell_type": "markdown",
   "metadata": {
    "slideshow": {
     "slide_type": "slide"
    }
   },
   "source": [
    "#### 二.  t 分布(或学生氏分布)"
   ]
  },
  {
   "cell_type": "markdown",
   "metadata": {
    "slideshow": {
     "slide_type": "fragment"
    }
   },
   "source": [
    "高塞特(W.S.Gosset)于 1908 年在一篇以“Student”(学生)为笔名的论文中首次提出. $t$ 分布是类似正态分布的一种对称分布, 它通常要比正态分布平坦和分散."
   ]
  },
  {
   "cell_type": "markdown",
   "metadata": {
    "slideshow": {
     "slide_type": "slide"
    }
   },
   "source": [
    "![](./figures/618.png)"
   ]
  },
  {
   "cell_type": "markdown",
   "metadata": {
    "slideshow": {
     "slide_type": "slide"
    }
   },
   "source": [
    "**定义** 设\n",
    "$$\n",
    "X \\sim N(0, 1), \\quad Y \\sim \\chi^2(n)\n",
    "$$\n",
    "\n",
    "且 $X$ 与 $Y$ 相互独立, 则称变量\n",
    "\n",
    "$$\n",
    "T = \\frac{X}{\\sqrt{\\frac{Y}{n}}}\n",
    "$$\n",
    "\n",
    "所服从的分布为自由度为 $n$ 的 $t$ 分布. 记为 $T \\sim t(n)$."
   ]
  },
  {
   "cell_type": "markdown",
   "metadata": {
    "slideshow": {
     "slide_type": "slide"
    }
   },
   "source": [
    "**定理2.4** 自由度为 $n$ 的 $t$ 分布的概率密度函数为\n",
    "\n",
    "$$\n",
    "f(x; n) = \\frac{\\Gamma [(n+1)/2]}{\\Gamma (n/2)\\sqrt{n \\pi}}(1 + \\frac{x^2}{n})^{-\\frac{n+1}{2}}\n",
    "$$"
   ]
  },
  {
   "cell_type": "markdown",
   "metadata": {
    "slideshow": {
     "slide_type": "subslide"
    }
   },
   "source": [
    "具有自由度为 $n$ 的 $t$ 分布的随机变量 $T$ 的数学期望和方差为:\n",
    "\n",
    "$$\n",
    "E(T) = 0,\\quad D(T) = \\frac{n}{n-2},\\text{ 对 }n>2\n",
    "$$"
   ]
  },
  {
   "cell_type": "markdown",
   "metadata": {
    "slideshow": {
     "slide_type": "subslide"
    }
   },
   "source": [
    "$t$ 分布的密度函数关于 $x=0$ 对称, 且\n",
    "\n",
    "$$\n",
    "\\lim\\limits_{|x| \\to \\infty} f(x; n) = 0\n",
    "$$\n",
    "\n",
    "当 $n$ 充分大时, 其图形类似于标准正态分布密度函数的图形.  "
   ]
  },
  {
   "cell_type": "markdown",
   "metadata": {
    "slideshow": {
     "slide_type": "slide"
    }
   },
   "source": [
    "![](./figures/619.png)"
   ]
  },
  {
   "cell_type": "markdown",
   "metadata": {
    "slideshow": {
     "slide_type": "slide"
    }
   },
   "source": [
    "$t$ 分布的性质:"
   ]
  },
  {
   "cell_type": "markdown",
   "metadata": {
    "slideshow": {
     "slide_type": "fragment"
    }
   },
   "source": [
    "* $f(x; n)$ 是偶函数\n",
    "$$\n",
    "\\lim\\limits_{n \\to \\infty} f(x; n) =\\frac{1}{\\sqrt{2 \\pi}}e^{-\\frac{x^2}{2}} \\text{ (标准正态分布的密度函数)}\n",
    "$$"
   ]
  },
  {
   "cell_type": "markdown",
   "metadata": {
    "slideshow": {
     "slide_type": "fragment"
    }
   },
   "source": [
    "* $T$ 分布的分位数 $t_\\alpha$ 有表可查"
   ]
  },
  {
   "cell_type": "markdown",
   "metadata": {
    "slideshow": {
     "slide_type": "slide"
    }
   },
   "source": [
    "$t$ 分布的分位数\n",
    "\n",
    "设 $T \\sim t(n)$, 密度函数为 $f(x;n)$, 对于给定 $\\alpha (0<\\alpha <1)$, 称满足\n",
    "$$\n",
    "P\\{T \\geq t_{\\alpha}(n)\\} = \\int_{t_{\\alpha}(n)}^{+\\infty} f(x; n)\\, \\mathrm dx = \\alpha\n",
    "$$\n",
    "\n",
    "的点 $t_{\\alpha} (n)$ 为 $t$ 分布的分位数."
   ]
  },
  {
   "cell_type": "markdown",
   "metadata": {
    "slideshow": {
     "slide_type": "fragment"
    }
   },
   "source": [
    "![](./figures/620.png)"
   ]
  },
  {
   "cell_type": "markdown",
   "metadata": {
    "slideshow": {
     "slide_type": "slide"
    }
   },
   "source": [
    "![](./figures/621.png)"
   ]
  },
  {
   "cell_type": "markdown",
   "metadata": {
    "slideshow": {
     "slide_type": "fragment"
    }
   },
   "source": [
    "$$\n",
<<<<<<< HEAD
    "P(T \\geq t_\\alpha) = \\alpha-t_\\alpha = t_{1-\\alpha}\n",
    "$$\n",
    "\n",
    "$$\n",
    "P(T \\geq 1.812) = 0.05 \\implies t_{0.05} (10) = 1.812\\\\\n",
    "P(T \\leq -1.812) = 0.05,\\\\\n",
    "P(T \\geq -1.812)=0.95 \\implies t_{0.95}(10) = -1.812\n",
=======
    "P(T \\geq t_\\alpha) = \\alpha\\\\\n",
    "-t_\\alpha = t_{1-\\alpha}\n",
    "$$"
   ]
  },
  {
   "cell_type": "markdown",
   "metadata": {
    "slideshow": {
     "slide_type": "subslide"
    }
   },
   "source": [
    "$$\n",
    "\\begin{align}\n",
    "P(T \\geq 1.812) =& 0.05 \\implies t_{0.05} (10) = 1.812\\\\\n",
    "P(T \\leq -1.812) =& 0.05,\\\\\n",
    "P(T \\geq -1.812)=& 0.95 \\implies t_{0.95}(10) = -1.812\n",
    "\\end{align}\n",
>>>>>>> cda145f3b7a33caf778968cac0b3c7edfec9f79d
    "$$"
   ]
  },
  {
   "cell_type": "markdown",
   "metadata": {
    "slideshow": {
     "slide_type": "subslide"
    }
   },
   "source": [
    "![](./figures/622.png)"
   ]
  },
  {
   "cell_type": "markdown",
   "metadata": {
    "slideshow": {
     "slide_type": "fragment"
    }
   },
   "source": [
    "$$\n",
    "P(T \\geq t_{\\alpha / 2}) = \\frac{\\alpha}{2}, \\quad  P(|T| \\geq t_{\\alpha / 2}) = \\alpha\\\\\n",
    "P(T \\geq 2.23) = 0.025\\\\\n",
    "P(|T| \\geq 2.23) = 0.05\\implies t_{0.025}(10) = 2.23\n",
    "$$"
   ]
  },
  {
   "cell_type": "markdown",
   "metadata": {
    "slideshow": {
     "slide_type": "slide"
    }
   },
   "source": [
    "**例 2** 设 $X_1,X_2, \\cdots, X_9$ 和 $Y_1,Y_2, \\cdots, Y_9$ 是来自同一总体 $N(0, 9)$ 的两个独立的样本, 统计量: $z = \\frac{\\sum_{i=1}^9 X_i}{\\sqrt{\\sum_{i=1}^9 Y_i^2}}$ 试确定 $Z$ 的分布."
   ]
  },
  {
   "cell_type": "markdown",
   "metadata": {
    "slideshow": {
     "slide_type": "fragment"
    }
   },
   "source": [
    "**解 :** 由样本的同分布性知:\n",
    "$$\n",
    "X_i \\sim N(0, 9), Y_i \\sim N(0, 9), i=1,2,\\cdots, 9\n",
    "$$\n",
    "\n",
    "由此得\n",
    "$$\n",
    "\\frac{1}{9} \\sum_{i=1}^9 X_i \\sim N(0, 1), \\sum_{i=1}^9 (\\frac{Y_i^2}{3})^2= \\sum_{i=1}^9 \\frac{Y_i^2}{9} \\sim \\chi^2(9)\n",
    "$$"
   ]
  },
  {
   "cell_type": "markdown",
   "metadata": {
    "slideshow": {
     "slide_type": "subslide"
    }
   },
   "source": [
    "由 $t$ 分布的定义知\n",
    "\n",
    "$$\n",
    "\\frac{\\frac{1}{9} \\sum_{i=1}^9 X_i}{\\sqrt{\\frac{ \\sum_{i=1}^9 \\frac{Y_i^2}{9}}{9}}} = \\frac{ \\sum_{i=1}^9 X_i}{ \\sqrt{\\sum_{i=1}^9 Y_i^2}}=Z \\sim t(9)\n",
    "$$"
   ]
  },
  {
   "cell_type": "markdown",
   "metadata": {
    "slideshow": {
     "slide_type": "slide"
    }
   },
   "source": [
    "**例 3** 设随机变量 $X_1, X_2, \\cdots, X_5$ 相互独立且服从标准正态分布 $N(0, 1)$"
   ]
  },
  {
   "cell_type": "markdown",
   "metadata": {
    "slideshow": {
     "slide_type": "fragment"
    }
   },
   "source": [
    "1.试给出常数 $c$, 使得 $c(X_1^2 + X_2^2)$ 服从 $\\chi^2$ 分布, 并指出其自由度 $n$."
   ]
  },
  {
   "cell_type": "markdown",
   "metadata": {
    "slideshow": {
     "slide_type": "fragment"
    }
   },
   "source": [
    "**解 :** 有定义知\n",
    "$$\n",
    "X_1^2 + X_2^2\n",
    "$$\n",
    "\n",
    "服从自由度为 $2$ 的 $\\chi^2$ 分布, 所以\n",
    "$$\n",
    "c=1,\\quad n=2\n",
    "$$"
   ]
  },
  {
   "cell_type": "markdown",
   "metadata": {
    "slideshow": {
     "slide_type": "subslide"
    }
   },
   "source": [
    "2.试给出常数 $d$, 使得 $d \\frac{X_1+X_2}{\\sqrt{X_3^2+X_4^2+X_5^2}}$ 服从 $t$ 分布, 并指出其自由度 $m$."
   ]
  },
  {
   "cell_type": "markdown",
   "metadata": {
    "slideshow": {
     "slide_type": "fragment"
    }
   },
   "source": [
    "**解 :** 由已知有: $X_1+X_2 \\sim N(0, 2)$ 即 $\\frac{X_1+X_2}{\\sqrt{2}}\\sim N(0, 1)$\n",
    "\n",
    "$$\n",
    "X_3^2+X_4^2+X_5^2 \\sim \\chi^2(3)\n",
    "$$\n",
    "\n",
    "再由定义有\n",
    "$$\n",
    "\\frac{\\frac{X_1+X_2}{\\sqrt{2}}}{\\sqrt{\\frac{X_3^2+X_4^2+X_5^2}{3}}} \\sim t(3)\n",
    "$$"
   ]
  },
  {
   "cell_type": "markdown",
   "metadata": {
    "slideshow": {
     "slide_type": "subslide"
    }
   },
   "source": [
    "所以\n",
    "\n",
    "$$\n",
    "d = \\frac{\\sqrt{6}}{2},\\quad m=3\n",
    "$$"
   ]
  },
  {
   "cell_type": "markdown",
   "metadata": {
    "slideshow": {
     "slide_type": "slide"
    }
   },
   "source": [
    "#### 三.  $F$ 分布"
   ]
  },
  {
   "cell_type": "markdown",
   "metadata": {
    "slideshow": {
     "slide_type": "fragment"
    }
   },
   "source": [
    "由统计学家费希尔(R.A.Fisher)提出的, 以其姓氏的第一个字母来命名."
   ]
  },
  {
   "cell_type": "markdown",
   "metadata": {
    "slideshow": {
     "slide_type": "fragment"
    }
   },
   "source": [
    "**定义** 设\n",
    "$$\n",
    "X \\sim \\chi^2 (n), Y \\sim \\chi^2(m)\n",
    "$$\n",
    "\n",
    "$X$ 与 $Y$ 相互独立, 则称统计量\n",
    "$$\n",
    "F = \\frac{\\frac{X}{n}}{\\frac{Y}{m}}\n",
    "$$\n",
    "\n",
    "服从自由度为 $n$ 及 $m$ 的 $F$ 分布, $n$ 称为**第一自由度**, $m$ 称为**第二自由度**, 记作 $F \\sim F(n, m)$."
   ]
  },
  {
   "cell_type": "markdown",
   "metadata": {
    "slideshow": {
     "slide_type": "subslide"
    }
   },
   "source": [
    "由定义可见,\n",
    "$$\n",
    "\\frac{1}{F} = \\frac{\\frac{Y}{m}}{\\frac{X}{n}} \\sim F(m, n)\n",
    "$$"
   ]
  },
  {
   "cell_type": "markdown",
   "metadata": {
    "slideshow": {
     "slide_type": "slide"
    }
   },
   "source": [
    "**定理 2.5** 若 $X \\sim F(n, m)$, 则 $X$ 的概率密度函数为\n",
    "\n",
    "$$\n",
    "f(x;n,m)=\n",
    "\\begin{cases}\n",
    "\\frac{\\Gamma (\\frac{n+m}{2})}{\\Gamma(\\frac{n}{2})\\Gamma (\\frac{m}{2})}n^{\\frac{n}{2}}m^{\\frac{m}{2}}x^{\\frac{n}{2}-1}(1+\\frac{n}{m}x)^{-\\frac{n+m}{2}},\\quad x>0\\\\\n",
    "0,\\quad x\\leq 0\\\\\n",
    "\\end{cases}\n",
    "$$\n",
    "\n",
    "$X$ 的数学期望为:\n",
    "\n",
    "$$\n",
    "E(X) = \\frac{m}{m-2},\\quad 若 m>2\n",
    "$$\n",
    "\n",
    "即它的数学期望并不依赖于第一自由度 $n$.\n",
    "\n"
   ]
  },
  {
   "cell_type": "markdown",
   "metadata": {
    "slideshow": {
     "slide_type": "subslide"
    }
   },
   "source": [
    "**推论** 若 $X \\sim F(n,m)$, 则 $\\frac{1}{X} \\sim F(m,n)$"
   ]
  },
  {
   "cell_type": "markdown",
   "metadata": {
    "slideshow": {
     "slide_type": "fragment"
    }
   },
   "source": [
    "$F$ 的分布密度曲线:\n",
    "![](./figures/623.png)"
   ]
  },
  {
   "cell_type": "markdown",
   "metadata": {
    "slideshow": {
     "slide_type": "slide"
    }
   },
   "source": [
    "#### $F$ 分布的分位数"
   ]
  },
  {
   "cell_type": "markdown",
   "metadata": {
    "slideshow": {
     "slide_type": "subslide"
    }
   },
   "source": [
    "设 $F \\sim F(n, m)$, 密度函数为 $f(x;n,m)$, 对于给定 $\\alpha (0 < \\alpha <1)$, 称满足\n",
    "$$\n",
    "P\\{F \\geq F_\\alpha (n ,m)\\} = \\int_{F_\\alpha(n_1, n_2)}^{+\\infty} f(x;n,m) \\mathrm dx = \\alpha\n",
    "$$\n",
    "的点 $F_\\alpha(n ,m)$ 为 $F$ 分布的分位数."
   ]
  },
  {
   "cell_type": "markdown",
   "metadata": {
    "slideshow": {
     "slide_type": "fragment"
    }
   },
   "source": [
    "![](./figures/624.png)"
   ]
  },
  {
   "cell_type": "markdown",
   "metadata": {
    "slideshow": {
     "slide_type": "slide"
    }
   },
   "source": [
    "**例 4** 证明 $F_{1-\\alpha}(n, m) = \\frac{1}{F_\\alpha(m, n)}$ (习题六第四题)"
   ]
  },
  {
   "cell_type": "markdown",
   "metadata": {
    "slideshow": {
     "slide_type": "fragment"
    }
   },
   "source": [
    "**证:** \n",
    "$$\n",
    "\\begin{align}\n",
<<<<<<< HEAD
    "P(F \\geq F_{1-\\alpha}(n, m)) \n",
    "&= P(\\frac{1}{F} \\leq \\frac{1}{F_{1-\\alpha}(n, m)}) \\\\\n",
    "&= 1 - P(\\frac{1}{F} \\geq  \\frac{1}{F_{1-\\alpha}(n, m)})\\\\\n",
    "&=1-\\alpha\n",
=======
    "&P(F \\geq F_{1-\\alpha}(n, m)) \\\\\n",
    "=& P(\\frac{1}{F} \\leq \\frac{1}{F_{1-\\alpha}(n, m)}) \\\\\n",
    "=& 1 - P(\\frac{1}{F} \\geq  \\frac{1}{F_{1-\\alpha}(n, m)})\\\\\n",
    "=& 1-\\alpha\n",
>>>>>>> cda145f3b7a33caf778968cac0b3c7edfec9f79d
    "\\end{align}\n",
    "$$"
   ]
  },
  {
   "cell_type": "markdown",
   "metadata": {
    "slideshow": {
     "slide_type": "subslide"
    }
   },
   "source": [
    "故 \n",
    "$$\n",
    "P(\\frac{1}{F} \\geq  \\frac{1}{F_{1-\\alpha}(n, m)})= \\alpha.\n",
    "$$ \n",
    "\n",
    "由于 $\\frac{1}{F} \\sim F(m, n)$,"
   ]
  },
  {
   "cell_type": "markdown",
   "metadata": {
    "slideshow": {
     "slide_type": "fragment"
    }
   },
   "source": [
    "因而\n",
    "\n",
    "$$\n",
    "\\frac{1}{F_{1-\\alpha}(n, m)} = F_\\alpha(m, n).\n",
    "$$"
   ]
  },
  {
   "cell_type": "markdown",
   "metadata": {
    "slideshow": {
     "slide_type": "subslide"
    }
   },
   "source": [
    "![](./figures/625.png)"
   ]
  },
  {
   "cell_type": "markdown",
   "metadata": {
    "slideshow": {
     "slide_type": "subslide"
    }
   },
   "source": [
    "**例如** $F_{0.05}(4,5)=5.19$, 求 $F_{0.95}(5,4)=?$\n",
    "\n",
    "事实上,\n",
    "$$\n",
    "F_{1-\\alpha}(n, m) = \\frac{1}{F_\\alpha(m,n)}\n",
    "$$\n",
    "\n",
    "故\n",
    "$$\n",
    "F_{0.95} (5, 4) = \\frac{1}{F_{0.05}(4, 5)} = \\frac{1}{5.19} \\approx 0.1927\n",
    "$$"
   ]
  },
  {
   "cell_type": "markdown",
   "metadata": {
    "collapsed": true,
    "slideshow": {
     "slide_type": "slide"
    }
   },
   "source": [
    "**例 5** 设 $X_1,X_2,\\cdots, X_n$ 为正态总体 $N(0, 4)$ 的样本, $U = \\frac{x_1+x_2+x_3}{\\sqrt{x_4^2+x_5^2+x_6^2}}$, 证明 :$\\frac{1}{U^2} \\sim F(3, 1)$."
   ]
  },
  {
   "cell_type": "markdown",
   "metadata": {
    "slideshow": {
     "slide_type": "fragment"
    }
   },
   "source": [
    "**证明:** 由已知由 $x_1+x_2+x_3 \\sim N(0, 12)$, 即\n",
    "\n",
    "$$\n",
    "\\frac{x_1+x_2+x_3}{2\\sqrt{3}} \\sim N(0, 1)\n",
    "$$\n",
    "故\n",
    "$$\n",
    "[\\frac{x_1+x_2+x_3}{2\\sqrt{3}}]^2 \\sim \\chi^2(1)\n",
    "$$"
   ]
  },
  {
   "cell_type": "markdown",
   "metadata": {
    "slideshow": {
     "slide_type": "subslide"
    }
   },
   "source": [
    "而 $\\frac{x_4}{2}, \\frac{x_5}{2}, \\frac{x_6}{2}$ 相互独立同分布, 且服从 $N(0, 1)$, 故\n",
    "$$\n",
    "\\frac{x_4^2+x_5^2+X_6^2}{4} \\sim \\chi^2(3)\n",
    "$$\n",
    "且\n",
    "$[\\frac{x_1+x_2+x_3}{2\\sqrt{3}}]^2$ 与 $\\frac{x_4^2+x_5^2+x_6^2}{4}$ 独立, "
   ]
  },
  {
   "cell_type": "markdown",
   "metadata": {
    "slideshow": {
     "slide_type": "fragment"
    }
   },
   "source": [
    "所以\n",
    "\n",
    "$$\n",
    "U^2 = \\frac{[x_1+x_2+x_3]^2}{x_4^2+x_5^2+x_6^2}=\\frac{\\frac{[x_1+x_2+x_3]^2}{12}}{\\frac{[x_4^2+x_5^2+x_6^2]^2}{12}}=\\frac{[\\frac{x_1+x_2+x_3}{2\\sqrt{3}}]^2}{\\frac{\\frac{x_4^2+x_5^2+x_6^2}{4}}{3}} \\sim F(1, 3)\n",
    "$$"
   ]
  },
  {
   "cell_type": "markdown",
   "metadata": {
    "collapsed": true,
    "slideshow": {
     "slide_type": "subslide"
    }
   },
   "source": [
    "因此\n",
    "\n",
    "$$\n",
    "\\frac{1}{U^2} \\sim F(3, 1)\n",
    "$$"
   ]
  },
  {
   "cell_type": "markdown",
   "metadata": {
    "collapsed": true,
    "slideshow": {
     "slide_type": "slide"
    }
   },
   "source": [
    "**例 6** 证明: $[t_{1-\\frac{\\alpha}{2}}(n)]^2 = F_\\alpha (1, n)$"
   ]
  },
  {
   "cell_type": "markdown",
   "metadata": {
    "slideshow": {
     "slide_type": "fragment"
    }
   },
   "source": [
    "**证明:** 设 $X \\sim T(n)$\n",
    "$$\n",
    "X \\sim \\frac{G}{\\sqrt{\\frac{\\chi^2(n)}{n}}}, G \\sim N(0, 1)\n",
    "$$\n",
    "令\n",
    "$$\n",
    "Y = X^2 = \\frac{G^2}{\\frac{\\chi^2(n)}{n}}=\\frac{\\chi(1)}{\\frac{\\chi^2(n)}{n}} \\sim F(1, n)\n",
    "$$"
   ]
  },
  {
   "cell_type": "markdown",
   "metadata": {
    "collapsed": true,
    "slideshow": {
     "slide_type": "subslide"
    }
   },
   "source": [
    "有 \n",
    "$$\n",
    "\\begin{align}\n",
<<<<<<< HEAD
    "P(|X|>t_{1-\\frac{\\alpha}{2}}(n)) \n",
    "&= P(|X|>t_{\\frac{\\alpha}{2}}(n))\\\\\n",
    "&=\\alpha\\\\\n",
    "&=P(X^2 \\geq t_{\\frac{\\alpha}{2}}^2)\\\\\n",
    "&= P(Y \\geq t_{1-\\frac{\\alpha}{2}}^2(n))\n",
    "\\end{align}\n",
    "$$\n",
    "\n",
=======
    "&P(|X|>|t_{1-\\frac{\\alpha}{2}}(n)|) \\\\\n",
    "= &P(|X|>t_{\\frac{\\alpha}{2}}(n))\\\\\n",
    "=&\\alpha=P(X^2 \\geq t_{\\frac{\\alpha}{2}}^2)\\\\\n",
    "=& P(Y \\geq t_{1-\\frac{\\alpha}{2}}^2(n))\\\\\n",
    "\\end{align}\n",
    "$$\n",
>>>>>>> cda145f3b7a33caf778968cac0b3c7edfec9f79d
    "即 $t_{1-\\frac{\\alpha}{2}}^2(n) = F_\\alpha (1, n)$"
   ]
  },
  {
   "cell_type": "markdown",
   "metadata": {
    "slideshow": {
     "slide_type": "fragment"
    }
   },
   "source": [
<<<<<<< HEAD
    "三大统计分布的定义, 基本性质在后面的学习中经常用到, 要牢记！！教材中有概率分布的分位数(分位点)的定义.它在计算概率查表时经常使用.   "
=======
    "三大统计分布的定义, 基本性质在后面的学习中经常用到, 要牢记！！\n",
    "\n",
    "教材中有概率分布的分位数(分位点)的定义.它在计算概率查表时经常使用. "
   ]
  },
  {
   "cell_type": "markdown",
   "metadata": {
    "collapsed": true,
    "slideshow": {
     "slide_type": "slide"
    }
   },
   "source": [
    "**作业：**\n",
    "Page 122： 3  "
>>>>>>> cda145f3b7a33caf778968cac0b3c7edfec9f79d
   ]
  }
 ],
 "metadata": {
  "celltoolbar": "Slideshow",
  "kernelspec": {
   "display_name": "Python 3",
   "language": "python",
   "name": "python3"
  },
  "language_info": {
   "codemirror_mode": {
    "name": "ipython",
    "version": 3
   },
   "file_extension": ".py",
   "mimetype": "text/x-python",
   "name": "python",
   "nbconvert_exporter": "python",
   "pygments_lexer": "ipython3",
   "version": "3.5.2"
<<<<<<< HEAD
=======
  },
  "livereveal": {
   "height": 768,
   "scroll": "True",
   "slideNumber": "True",
   "start_slideshow_at": "selected",
   "theme": "sky",
   "width": 1024
>>>>>>> cda145f3b7a33caf778968cac0b3c7edfec9f79d
  }
 },
 "nbformat": 4,
 "nbformat_minor": 1
}
