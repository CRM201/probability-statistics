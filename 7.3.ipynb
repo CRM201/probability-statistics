{
 "cells": [
  {
   "cell_type": "markdown",
   "metadata": {
    "slideshow": {
     "slide_type": "slide"
    }
   },
   "source": [
    "## 7.3  正态总体参数的区间估计"
   ]
  },
  {
   "cell_type": "markdown",
   "metadata": {
    "slideshow": {
     "slide_type": "fragment"
    }
   },
   "source": [
    "这一节, 我们主要讨论总体分布为正态的情形. 若样本容量很大, 即使总体分布未知, 应用中心极限定理, 可得总体的近似分布, 于是也可以近似求得参数的区间估计. 下面我们先看一个例子:"
   ]
  },
  {
   "cell_type": "markdown",
   "metadata": {
    "slideshow": {
     "slide_type": "subslide"
    }
   },
   "source": [
    "**例1**  设 $X_1,\\dots,X_n$ 是取自 $N(\\mu,\\sigma^2)$ 的样本, $\\sigma^2$ 已知, 求参数 $\\mu$ 的置信度为 $1-\\alpha$ 的置信区间."
   ]
  },
  {
   "cell_type": "markdown",
   "metadata": {
    "slideshow": {
     "slide_type": "subslide"
    }
   },
   "source": [
    "**解:** 选 $\\mu$ 的点估计为 $\\overline X$, 取 $U=\\frac{\\overline X-\\mu}{\\sigma/\\sqrt{n}}～N(0,1)$, 对给定的置信水平 $1-\\alpha$, 查正态分布表得 $\\mu_{\\alpha/2}$, 使得\n",
    "\n",
    "$$\n",
    "P\\{|\\frac{\\overline X-\\mu}{\\sigma/\\sqrt{n}}|\\leq\\mu_{\\alpha/2}\\}=1-\\alpha\n",
    "$$\n",
    "\n",
    "从中解得"
   ]
  },
  {
   "cell_type": "markdown",
   "metadata": {
    "slideshow": {
     "slide_type": "subslide"
    }
   },
   "source": [
    "$$\n",
    "P\\{\\overline X-\\frac{\\sigma}{\\sqrt{n}}\\mu_{\\alpha/2}\\leq\\mu\\leq\\overline X+\\frac{\\sigma}{\\sqrt{n}}\\mu_{\\alpha/2}\\}=1-\\alpha\n",
    "$$\n",
    "\n",
    "于是所求的 $\\mu$ 的置信区间为\n",
    "\n",
    "$$\n",
    "[\\overline X-\\frac{\\sigma}{\\sqrt{n}}\\mu_{\\alpha/2},\\overline X+\\frac{\\sigma}{\\sqrt{n}}\\mu_{\\alpha/2}]\n",
    "$$"
   ]
  },
  {
   "cell_type": "markdown",
   "metadata": {
    "slideshow": {
     "slide_type": "subslide"
    }
   },
   "source": [
    "从例1解题的过程，我们归纳出求置信区间的一般步骤如下:\n",
    "1. 明确问题, 是求什么参数的置信区间?置信水平 $1-\\alpha$ 是多少?\n",
    "1. 寻找参数 $\\theta$ 的一个良好的点估计 $T(X_1,X_2,\\dots,X_n)$.\n",
    "1. 寻找一个待估参数 $\\theta$ 和估计量 $T$ 的样本函数 $S(T,\\theta)$, 且其分布为已知.\n",
    "1. 对于给定的置信水平 $1-\\alpha$，根据 $S(T,\\theta)$ 的分布，确定常数 $a,b$ 使得 $P(a\\leq S(T,\\theta)\\leq b)=1-\\alpha$.\n",
    "1. 对 “$a\\leq S(T,\\theta)\\leq b$” 作等价变形,得到如下形式\n",
    "$P\\{\\widehat \\theta_1\\leq\\theta\\leq\\widehat \\theta_2\\}=1-\\alpha$ ,则 $[\\widehat \\theta_1,\\widehat \\theta_2]$ 就是 $\\theta$ 的 $1-\\alpha$ 的置信区间."
   ]
  },
  {
   "cell_type": "markdown",
   "metadata": {
    "slideshow": {
     "slide_type": "subslide"
    }
   },
   "source": [
    "可见，确定区间估计很关键的是要寻找一个待估参数 $\\theta$ 和估计量 $T$ 的样本函数 $S(T,\\theta)$, 且 $S(T,\\theta)$ 的分布为已知, 不依赖于任何未知参数(这样我们才能确定一个大概率区间). 而这与总体分布有关, 所以至关重要的是总体分布的形式是否已知, 是怎样的类型.\n"
   ]
  },
  {
   "cell_type": "markdown",
   "metadata": {
    "slideshow": {
     "slide_type": "fragment"
    }
   },
   "source": [
    "这里主要讨论以下几种情形:\n",
    "1. 单个正态总体均值 $\\mu$ 和方差 $\\sigma^2$ 的区间估计.\n",
    "1. 两个正态总体均值差 $\\mu_1-\\mu_2$ 和方差比 $\\sigma_1^2/\\sigma_2^2$ 的区间估计."
   ]
  },
  {
   "cell_type": "markdown",
   "metadata": {
    "slideshow": {
     "slide_type": "subslide"
    }
   },
   "source": [
    "### 一、单个正态总体参数的区间估计"
   ]
  },
  {
   "cell_type": "markdown",
   "metadata": {
    "slideshow": {
     "slide_type": "fragment"
    }
   },
   "source": [
    "#### 1、正态总体均值 $\\mu$ 的区间估计"
   ]
  },
  {
   "cell_type": "markdown",
   "metadata": {
    "slideshow": {
     "slide_type": "subslide"
    }
   },
   "source": [
    "(1)、正态总体 $X～N(\\mu,\\sigma^2)$，方差 $\\sigma^2$ 已知：\n",
    "\n",
    "$$\n",
    "U=\\frac{\\overline X-\\mu}{\\sigma/\\sqrt{n}}～N(0,1)\n",
    "$$\n",
    "\n",
    "给定 $\\alpha$ 可查表得 $u_{\\alpha/2}$,使得 $P(|U|<u_{\\alpha/2})=1-\\alpha$\n",
    "\n",
    "$$\n",
    "P(|\\frac{\\overline X-\\mu}{\\sigma/\\sqrt{n}}|<u_{\\alpha/2})=1-\\alpha\n",
    "$$\n",
    "\n",
    "$$\n",
    "|\\frac{\\overline X-\\mu}{\\sigma/\\sqrt{n}}|<u_{\\alpha/2}\n",
    "$$"
   ]
  },
  {
   "cell_type": "markdown",
   "metadata": {
    "slideshow": {
     "slide_type": "subslide"
    }
   },
   "source": [
    "$$\n",
    "-u_{\\alpha/2}<\\frac{\\overline X-\\mu}{\\sigma/\\sqrt{n}}<u_{\\alpha/2}\n",
    "$$\n",
    "\n",
    "$$\n",
    "-\\frac{\\sigma}{\\sqrt{n}}u_{\\alpha/2}<\\mu-\\overline X<\\frac{\\sigma}{\\sqrt{n}}u_{\\alpha/2}\n",
    "$$\n",
    "\n",
    "置信区间为:\n",
    "\n",
    "$$\n",
    "(\\overline X-\\frac{\\sigma}{\\sqrt{n}}u_{\\alpha/2},\\overline X+\\frac{\\sigma}{\\sqrt{n}}u_{\\alpha/2})\n",
    "$$"
   ]
  },
  {
   "cell_type": "markdown",
   "metadata": {
    "slideshow": {
     "slide_type": "subslide"
    }
   },
   "source": [
    "**例2** 已知幼儿身高服从正态分布，现从 $5～6$ 岁的幼儿中随机地抽查了 $9$ 人，其高度(cm)分别为：\n",
    "\n",
    "$$\n",
    "115, 120, 131, 115, 109, 115, 115, 105, 110\n",
    "$$\n",
    "\n",
    "假设标准差 $\\sigma_0 = 7$,置信度为 $0.95$ ; 试求总体均值 $\\mu$ 的置信区间."
   ]
  },
  {
   "cell_type": "markdown",
   "metadata": {
    "slideshow": {
     "slide_type": "subslide"
    }
   },
   "source": [
    "解: 已知 $\\sigma_0 = 7,n=9,\\alpha=0.95$ ，可得\n",
    "\n",
    "$$\n",
    "\\overline X = (115+120+\\dots+110)/9=115\n",
    "$$\n",
    "\n",
    "查正态分布表得临界值 $u_{\\alpha/2}=1.96$ ,得置信区间为\n",
    "\n",
    "$$\n",
    "(115-1.96\\times7/\\sqrt 9,115+1.96\\times7/\\sqrt 9)=(110.43,119.57)\n",
    "$$"
   ]
  },
  {
   "cell_type": "markdown",
   "metadata": {
    "slideshow": {
     "slide_type": "subslide"
    }
   },
   "source": [
    "(2)、正态总体 $X～N(\\mu,\\sigma^2)$，方差 $\\sigma^2$ 未知：不能用 (1) 中方法，但\n",
    "\n",
    "$$\n",
    "T= \\frac{\\overline X-\\mu}{S/\\sqrt{n}}～t(n-1)\n",
    "$$\n",
    "\n",
    "可查自由度为 $n-1$ 的 $t$ 分布表得 $t_{\\alpha/2}$,\n",
    "\n",
    "$$\n",
    "P(|T|<t_{\\alpha/2})=1-\\alpha\\\\\n",
    "|\\frac{\\overline X-\\mu}{S/\\sqrt{n}}|<t_{\\alpha/2}\n",
    "$$\n",
    "\n",
    "即"
   ]
  },
  {
   "cell_type": "markdown",
   "metadata": {
    "slideshow": {
     "slide_type": "subslide"
    }
   },
   "source": [
    "$$\n",
    "-t_{\\alpha/2}<\\frac{\\overline X-\\mu}{S/\\sqrt{n}}<t_{\\alpha/2}\n",
    "$$\n",
    "\n",
    "同乘以 $\\frac{S}{\\sqrt{n}}$ 得\n",
    "\n",
    "$$\n",
    "-\\frac{S}{\\sqrt{n}}t_{\\alpha/2}<\\mu-\\overline X<\\frac{S}{\\sqrt{n}}t_{\\alpha/2}\n",
    "$$\n",
    "\n",
    "置信区间为\n",
    "\n",
    "$$\n",
    "(\\overline X-\\frac{S}{\\sqrt{n}}t_{\\alpha/2},\\overline X+\\frac{S}{\\sqrt{n}}t_{\\alpha/2})\n",
    "$$"
   ]
  },
  {
   "cell_type": "markdown",
   "metadata": {
    "slideshow": {
     "slide_type": "subslide"
    }
   },
   "source": [
    "**例3** 设有一批配料粉，每袋净重X(单位：克)服从正态分布.从中任取 $8$ 袋, 测得净重分别为：$$13.1,11.9,12.4,12.3,11.9,12.1,12.4,12.1.$$\n",
    "试求$\\mu$ 的置信度为 $0.99$ 的置信区间."
   ]
  },
  {
   "cell_type": "markdown",
   "metadata": {
    "slideshow": {
     "slide_type": "subslide"
    }
   },
   "source": [
    "**解:**因为 $n=8$, 经计算得 $\\overline x = 12.15$, $s^2=0.04$, 查表可得 \n",
    "\n",
    "$$\n",
    "t_{\\alpha/2}(n-1)=t_{0.005}(7)=3.4995\n",
    "$$\n",
    "\n",
    "因此\n",
    "\n",
    "$$\n",
    "\\overline x-\\frac{S}{\\sqrt{n}}t_{\\alpha/2}(n-1)=11.90\\\\\n",
    "\\overline x+\\frac{S}{\\sqrt{n}}t_{\\alpha/2}(n-1)=12.40\n",
    "$$\n",
    "\n",
    "所以 $\\mu$ 的置信度为 $0.99$ 置信区间是 $(11.90,12.40)$"
   ]
  },
  {
   "cell_type": "markdown",
   "metadata": {
    "slideshow": {
     "slide_type": "subslide"
    }
   },
   "source": [
    "**例4** 用仪器测量温度，重复测量 $7$ 次，测得温度分别为: \n",
    "\n",
    "$$ 115,120,131,115,109,115,115.$$\n",
    "\n",
    "设温度 $X～N(\\mu,\\sigma^2)$ 在置信度为 $0.95$ 时，试求温度的真值所在范围."
   ]
  },
  {
   "cell_type": "markdown",
   "metadata": {
    "slideshow": {
     "slide_type": "subslide"
    }
   },
   "source": [
    "**解:**设 $\\mu$ 是温度的真值，$x$ 是测量值，已知 $n=7,\\alpha = 0.05$,由样本值算得:\n",
    "\n",
    "$$\n",
    "\\overline x = 117.1,S^2 = 47.48\n",
    "$$\n",
    "\n",
    "查 $t_{0.025}(6)$ 得临界值 $2.447$ ,故置信区间为 \n",
    "\n",
    "$$\n",
    "(117.1-2.447\\sqrt{47.48/7},117.1+2.447\\sqrt{47.48/7})\\\\\n",
    "=(110.73,123.47)\n",
    "$$"
   ]
  },
  {
   "cell_type": "markdown",
   "metadata": {
    "slideshow": {
     "slide_type": "subslide"
    }
   },
   "source": [
    "#### 2、正态总体方差  $σ^2$ 的区间估计"
   ]
  },
  {
   "cell_type": "markdown",
   "metadata": {
    "slideshow": {
     "slide_type": "fragment"
    }
   },
   "source": [
    "(1) 、正态总体 $X～N(\\mu,\\sigma^2)$，均值 $\\mu$ 已知：\n",
    "\n",
    "$$\n",
    "\\chi^2 =\\frac{1}{\\sigma^2}\\sum_{i=1}^{n}(X_i-\\mu)^2～\\chi^2(n)\n",
    "$$\n",
    "\n",
    "可查自由度为 $n$ 的 $\\chi^2$ 分布表使得\n",
    "\n",
    "$$\n",
    "P(a<\\chi^2<b)=1-\\alpha\\\\\n",
    "$$"
   ]
  },
  {
   "cell_type": "markdown",
   "metadata": {
    "slideshow": {
     "slide_type": "subslide"
    }
   },
   "source": [
    "$$\n",
    "a<\\chi^2<b\\Rightarrow a<\\frac{1}{\\sigma^2}\\sum_{i=1}^{n}(X_i-\\mu)^2<b\n",
    "$$\n",
    "\n",
    "$$\n",
    "\\frac{\\sum_{i=1}^{n}(X_i-\\mu)^2}{b}<\\sigma^2<\\frac{\\sum_{i=1}^{n}(X_i-\\mu)^2}{a}\n",
    "$$\n",
    "\n",
    "置信区间\n",
    "\n",
    "$$\n",
    "\\left[\\frac{\\sum_{i=1}^{n}(X_i-\\mu)^2}{b},\\frac{\\sum_{i=1}^{n}(X_i-\\mu)^2}{a}\\right]\n",
    "$$\n",
    "\n",
    "特别取 $a = \\chi_{1-\\alpha/2}^2(n),b = \\chi_{\\alpha/2}^2(n)$"
   ]
  },
  {
   "cell_type": "markdown",
   "metadata": {
    "slideshow": {
     "slide_type": "subslide"
    }
   },
   "source": [
    "(2)、正态总体 $X～N(\\mu,\\sigma^2)$，均值 $\\mu$ 未知：\n",
    "\n",
    "$$\n",
    "\\chi^2 =\\frac{(n-1)S^2}{\\sigma^2}～\\chi^2(n-1)\n",
    "$$\n",
    "\n",
    "可查自由度为 $n-1$ 的 $\\chi^2$ 分布表使得\n",
    "\n",
    "$$\n",
    "P(a<\\chi^2<b)=1-\\alpha\n",
    "$$\n",
    "\n",
    "$$\n",
    "a<\\chi^2<b\\Rightarrow a<\\frac{(n-1)S^2}{\\sigma^2}<b\n",
    "$$"
   ]
  },
  {
   "cell_type": "markdown",
   "metadata": {
    "slideshow": {
     "slide_type": "subslide"
    }
   },
   "source": [
    "$$\n",
    "\\frac{(n-1)S^2}{b}<\\sigma^2<\\frac{(n-1)S^2}{a}\n",
    "$$\n",
    "\n",
    "置信区间\n",
    "\n",
    "$$\n",
    "\\left(\\frac{(n-1)S^2}{b},\\frac{(n-1)S^2}{a}\\right)\n",
    "$$\n",
    "\n",
    "特别取 $a = \\chi_{1-\\alpha/2}^2(n-1),b = \\chi_{\\alpha/2}^2(n-1)$"
   ]
  },
  {
   "cell_type": "markdown",
   "metadata": {
    "slideshow": {
     "slide_type": "subslide"
    }
   },
   "source": [
    "**例５**　设某实验的粒子运动的速度服从正态分布, 现对粒子的速度独立地作了 $5$ 次测试, 求得这 $5$ 次测试值的方差 $S^2=0.09(m/s)^2$, 求粒子速度的方差 $\\sigma^2$ 的置信度为 $0.9$ 的置信区间."
   ]
  },
  {
   "cell_type": "markdown",
   "metadata": {
    "slideshow": {
     "slide_type": "subslide"
    }
   },
   "source": [
    "**解:**由题意得\n",
    "\n",
    "$$\n",
    "n=5,1-\\alpha=0.9,\\alpha=0.1\n",
    "$$\n",
    "\n",
    "查表得\n",
    "\n",
    "$$\n",
    "\\chi_{\\alpha/2}^{2}(4)=\\chi_{0.05}^{2}(4)=9.4877\\\\\n",
    "\\chi_{1-\\alpha/2}^{2}(4)=\\chi_{0.95}^{2}(4)=0.7107\n",
    "$$"
   ]
  },
  {
   "cell_type": "markdown",
   "metadata": {
    "slideshow": {
     "slide_type": "subslide"
    }
   },
   "source": [
    "因此\n",
    "\n",
    "$$\n",
    "\\frac{\\sum_{i=1}^{n}(X_i-\\overline X)^2}{\\chi_{\\alpha/2}^{2}(n-1)}=\\frac{(n-1)S^2}{\\chi_{\\alpha/2}^{2}(n-1)}=0.038\n",
    "$$\n",
    "\n",
    "$$\n",
    "\\frac{\\sum_{i=1}^{n}(X_i-\\overline X)^2}{\\chi_{1-\\alpha/2}^{2}(n-1)}=\\frac{(n-1)S^2}{\\chi_{1-\\alpha/2}^{2}(n-1)}=0.506\n",
    "$$\n",
    "\n",
    "所以置信区间为 $(0.038,0.506)$"
   ]
  },
  {
   "cell_type": "markdown",
   "metadata": {
    "slideshow": {
     "slide_type": "subslide"
    }
   },
   "source": [
    "**例6** 设某机床加工的零件长度 $X～N(\\mu,\\sigma^2)$ ,今抽查 $16$ 个零件，测得长度(单位：$mm$)如下\n",
    "\n",
    "$$\n",
    "12.15,  12.12,  12.01,  12.08, 12.09,  12.16,  12.03,  12.01,\\\\\n",
    "12.06,  12.13,  12.07,  12.11, 12.08,  12.01,  12.03,  12.06,\n",
    "$$\n",
    "\n",
    "在置信度为 $0.95$ 时，试求总体方差 $\\sigma^2$ 的置信区间."
   ]
  },
  {
   "cell_type": "markdown",
   "metadata": {
    "slideshow": {
     "slide_type": "subslide"
    }
   },
   "source": [
    "**解**已知 $n=16,\\alpha=0.05$ ,由样本值算得: $S^2=0.00244$\n",
    "\n",
    "查表得\n",
    "\n",
    "$$\n",
    "\\chi_{0.975}^{2}(15)=6.26,\\chi_{0.025}^{2}(15)=27.5\n",
    "$$\n",
    "\n",
    "由此可得置信区间为\n",
    "\n",
    "$$\n",
    "(15\\times0.00244/27.5,15\\times0.00244/6.26)=(0.0013,0.0058)\n",
    "$$"
   ]
  },
  {
   "cell_type": "markdown",
   "metadata": {
    "slideshow": {
     "slide_type": "subslide"
    }
   },
   "source": [
    "**例7** 已知某地区新生婴儿的体重 $X～N(\\mu,\\sigma^2)$, $\\mu,\\sigma^2$ 未知,随机抽查 $100$ 个婴儿，得 $100$ 个体重数据 $X_1$, $X_2$, $\\dots$, $X_{100}$, 求 $\\mu$ 和 $\\sigma^2$ 的区间估计(置信水平为 $1-\\alpha$)."
   ]
  },
  {
   "cell_type": "markdown",
   "metadata": {
    "slideshow": {
     "slide_type": "subslide"
    }
   },
   "source": [
    "**解** 这是单个正态总体均值和方差的估计, $X～N(\\mu,\\sigma^2)$, $\\mu,\\sigma^2$ 未知, 先求均值 $\\mu$ 的区间估计. 因方差未知, 取样本函数\n",
    "\n",
    "$$\n",
    "t = \\frac{\\overline X-\\mu}{S/\\sqrt{n}}～t(n-1)\n",
    "$$\n",
    "\n",
    "对给定的置信度 $1-\\alpha$,确定分位数 $t_{\\alpha/2}(n-1)$. 使\n",
    "\n",
    "$$\n",
    "P\\{|t|\\leq t_{\\alpha/2}(n-1)\\} =1-\\alpha\n",
    "$$"
   ]
  },
  {
   "cell_type": "markdown",
   "metadata": {
    "slideshow": {
     "slide_type": "subslide"
    }
   },
   "source": [
    "即\n",
    "\n",
    "$$\n",
    "P\\{|\\frac{\\overline X-\\mu}{S/\\sqrt{n}}|\\leq t_{\\alpha/2}(n-1)\\} =1-\\alpha\n",
    "$$\n",
    "\n",
    "从中解得\n",
    "\n",
    "$$\n",
    "[\\overline X -\\frac{S}{\\sqrt{n}}t_{\\alpha/2}(n-1),\\overline X +\\frac{S}{\\sqrt{n}}t_{\\alpha/2}(n-1)]\n",
    "$$\n",
    "\n",
    "为均值 $\\mu$ 的置信水平为 $1-\\alpha$ 的区间估计."
   ]
  },
  {
   "cell_type": "markdown",
   "metadata": {
    "slideshow": {
     "slide_type": "subslide"
    }
   },
   "source": [
    "再求方差 $\\sigma^2$ 的置信水平为 $1-\\alpha$ 的区间估计.取\n",
    "\n",
    "$$\\frac{(n-1)S^2}{\\sigma^2}～\\chi^2(n-1),$$\n",
    "\n",
    "对给定的置信度 $1-\\alpha$, 确定分位数 \n",
    "\n",
    "$$\\chi_{\\alpha/2}^{2}(n-1),\\quad \\chi_{1-\\alpha/2}^{2}(n-1),$$\n",
    "\n",
    "使\n",
    "\n",
    "$$\n",
    "P\\{\\chi_{1-\\alpha/2}^{2}(n-1)\\leq\\frac{(n-1)S^2}{\\sigma^2}\\leq\\chi_{\\alpha/2}^{2}(n-1)\\}=1-\\alpha\n",
    "$$"
   ]
  },
  {
   "cell_type": "markdown",
   "metadata": {
    "slideshow": {
     "slide_type": "subslide"
    }
   },
   "source": [
    "从中解得\n",
    "\n",
    "$$\n",
    "P\\{\\frac{(n-1)S^2}{\\chi_{\\alpha/2}^{2}(n-1)}\\leq\\sigma^2\\leq\\frac{(n-1)S^2}{\\chi_{1-\\alpha/2}^{2}(n-1)}\\}=1-\\alpha\n",
    "$$\n",
    "\n",
    "于是 $\\left[\\frac{(n-1)S^2}{\\chi_{\\alpha/2}^{2}(n-1)},\\frac{(n-1)S^2}{\\chi_{1-\\alpha/2}^{2}(n-1)}\\right]$ 为所求"
   ]
  },
  {
   "cell_type": "markdown",
   "metadata": {
    "slideshow": {
     "slide_type": "subslide"
    }
   },
   "source": [
    "需要指出的是, 给定样本, 给定置信水平, 置信区间也不是唯一的. 对同一个参数, 我们可以构造许多置信区间."
   ]
  },
  {
   "cell_type": "markdown",
   "metadata": {
    "slideshow": {
     "slide_type": "fragment"
    }
   },
   "source": [
    "例如, 设 $X_1,\\dots,X_n$ 是取自  $N(\\mu,\\sigma^2)$ 的样本, $\\sigma^2$ 已知，求均值 $\\mu$ 的置信水平为 $1-\\alpha$ 的置信区间. 取 \n",
    "\n",
    "$$U=\\frac{\\overline X-\\mu}{\\sigma/\\sqrt{n}}～N(0,1),$$ \n",
    "\n",
    "由标准正态分布表, 对任意 $a$、$b$, 我们可以求得\n",
    "\n",
    "$$\n",
    "P(a<U<b)\n",
    "$$\n",
    "\n"
   ]
  },
  {
   "cell_type": "markdown",
   "metadata": {
    "slideshow": {
     "slide_type": "subslide"
    }
   },
   "source": [
    "例如，由 $P(-1.96\\leq U\\leq1.96)=0.95$,可得均值 $\\mu$ 的置信水平为 $1-\\alpha$ 的置信区间为 $[\\overline X-1.96\\sigma/\\sqrt{n},\\overline X+1.96\\sigma/\\sqrt{n}]$.\n",
    "![](./figures/75.png)"
   ]
  },
  {
   "cell_type": "markdown",
   "metadata": {
    "slideshow": {
     "slide_type": "subslide"
    }
   },
   "source": [
    "例如, 由 $P(-1.75\\leq U\\leq2.33)=0.95$,可得均值 $\\mu$ 的置信水平为 $1-\\alpha$ 的置信区间为 $[\\overline X-1.75\\sigma/\\sqrt{n},\\overline X+2.33\\sigma/\\sqrt{n}]$.这个区间比前面一个要长一些\n",
    "![](./figures/76.png)"
   ]
  },
  {
   "cell_type": "markdown",
   "metadata": {
    "slideshow": {
     "slide_type": "subslide"
    }
   },
   "source": [
    "类似地, 我们可得到若干个不同的置信区间.任意两个数 $a$ 和 $b$, 只要它们的纵标包含 $f(u)$ 下 $95\\%$ 的面积, 就确定一个 $95\\%$ 的置信区间. 我们总是希望置信区间尽可能短.\n",
    "![](./figures/77.png)"
   ]
  },
  {
   "cell_type": "markdown",
   "metadata": {
    "slideshow": {
     "slide_type": "subslide"
    }
   },
   "source": [
    "在概率密度为单峰且对称的情形, 当 $a =-b$ 时求得的置信区间的长度为最短.\n",
    "![](./figures/78.png)"
   ]
  },
  {
   "cell_type": "markdown",
   "metadata": {
    "slideshow": {
     "slide_type": "subslide"
    }
   },
   "source": [
    "即使在概率密度不对称的情形, 如 $\\chi_2$ 分布, $F$ 分布, 习惯上仍取对称的百分位点来计算未知参数的置信区间.\n",
    "\n",
    "![](./figures/79.png)\n",
    "\n",
    "我们可以得到未知参数的的任何置信水平小于 $1$ 的置信区间,并且置信水平越高,相应的置信区间平均长度越长.也就是说, 要想得到的区间估计可靠度高, 区间长度就长, 估计的精度就差.\n",
    "这是一对矛盾. 实用中应在保证足够可靠的前提下, 尽量使得区间的长度短一些.\n"
   ]
  },
  {
   "cell_type": "markdown",
   "metadata": {
    "slideshow": {
     "slide_type": "subslide"
    }
   },
   "source": [
    "### 二、两个正态总体均值之差与方差比的区间估计\n"
   ]
  },
  {
   "cell_type": "markdown",
   "metadata": {
    "slideshow": {
     "slide_type": "fragment"
    }
   },
   "source": [
    "#### 1、两个正态总体均值差的区间估计"
   ]
  },
  {
   "cell_type": "markdown",
   "metadata": {
    "slideshow": {
     "slide_type": "subslide"
    }
   },
   "source": [
    "(1)、两个正态总体 $\\sigma_1^2$ 和 $\\sigma_2^2$ 已知\n",
    "\n",
    "$$\n",
    "U=\\frac{(\\overline X-\\overline Y)-(\\mu_1-\\mu_2)}{\\sqrt{\\frac{\\sigma_1^2}{n_1}+\\frac{\\sigma_2^2}{n_2}}}～N(0,1)\n",
    "$$\n",
    "\n",
    "$\\mu_1-\\mu_2$ 的置信区间为\n",
    "\n",
    "$$\n",
    "\\left[\\overline X-\\overline Y-u_{\\alpha/2}\\sqrt{\\frac{\\sigma_1^2}{n_1}+\\frac{\\sigma_2^2}{n_2}},\\overline X-\\overline Y+u_{\\alpha/2}\\sqrt{\\frac{\\sigma_1^2}{n_1}+\\frac{\\sigma_2^2}{n_2}}\\right]\n",
    "$$"
   ]
  },
  {
   "cell_type": "markdown",
   "metadata": {
    "slideshow": {
     "slide_type": "subslide"
    }
   },
   "source": [
    "**例8**  随机地从甲、乙两厂生产的蓄电池中抽取一些样本，测得蓄电池的电容量(Ah)如下\n",
    "\n",
    "甲厂：$144,   141,  138,  142,  141,  143, 138,  137$\n",
    "\n",
    "乙厂：$142, 143, 139, 140, 138, 141, 140, 138, 142, 136$\n",
    "\n",
    "设两厂生产的蓄电池电容量分别服从正态总体 \n",
    "\n",
    "$$\n",
    "N(\\mu_1,\\sigma_1^2),N(\\mu_2,\\sigma_2^2)\n",
    "$$\n",
    "\n",
    "两样独立. 若已知 $\\sigma_1^2 = 2.45,\\sigma_2^2 = 2.25$ ,求 $\\mu_1-\\mu_2$ 的置信度为 $0.95$ 的置信区间."
   ]
  },
  {
   "cell_type": "markdown",
   "metadata": {
    "slideshow": {
     "slide_type": "subslide"
    }
   },
   "source": [
    "**解：**已知 $n=8,m=10,u_{\\alpha/2}=u_{0.025}=1.96$,求得　$\\overline x = 140.5,\\overline y =139.9,\\overline x-\\overline y =0.6$\n",
    "\n",
    "$$\n",
    "u_{\\alpha/2}\\sqrt{\\frac{\\sigma_1^2}{n}+\\frac{\\sigma_2^2}{m}}=1.42858\n",
    "$$\n",
    "\n",
    "所以 $\\mu_1-\\mu_2$ 的置信度为 $0.95$ 的置信区间为 $(-0.8286,2.029)$"
   ]
  },
  {
   "cell_type": "markdown",
   "metadata": {
    "slideshow": {
     "slide_type": "subslide"
    }
   },
   "source": [
    "(2)、两个正态总体方差未知, 但已知 $\\sigma_1^2=\\sigma_2^2$ \n",
    "\n",
    "$$\n",
    "T=\\frac{(\\overline X-\\overline Y)-(\\mu_1-\\mu_2)}{S_w\\sqrt{\\frac{1}{n}+\\frac{1}{m}}}～t(n+m-2)\n",
    "$$\n",
    "\n",
    "$$\n",
    "S_w^2 = \\frac{(n-1)S_1^2+(m-1)S_2^2}{n+m-2}\n",
    "$$"
   ]
  },
  {
   "cell_type": "markdown",
   "metadata": {
    "slideshow": {
     "slide_type": "subslide"
    }
   },
   "source": [
    "可得 $\\mu_1-\\mu_2$ 的置信区间为:\n",
    "\n",
    "$$\n",
    "\\left[\\overline X-\\overline Y-t_{\\alpha/2}(n+m-2)S_w\\sqrt{\\frac{1}{n}+\\frac{1}{m}},\\\\\n",
    "\\overline X-\\overline Y+t_{\\alpha/2}(n+m-2)S_w\\sqrt{\\frac{1}{n}+\\frac{1}{m}}\\right]\n",
    "$$"
   ]
  },
  {
   "cell_type": "markdown",
   "metadata": {
    "slideshow": {
     "slide_type": "subslide"
    }
   },
   "source": [
    "**例9**  随机地从甲、乙两厂生产的蓄电池中抽取一些样本, 测得蓄电池的电容量(Ah)如下\n",
    "\n",
    "甲厂：$144,   141,  138,  142,  141,  143, 138,  137$\n",
    "\n",
    "乙厂：$142, 143, 139, 140, 138, 141, 140, 138, 142, 136$\n",
    "\n",
    "设两厂生产的蓄电池电容量分别服从正态总体\n",
    "\n",
    "$$\n",
    "N(\\mu_1,\\sigma_1^2),N(\\mu_2,\\sigma_2^2)\n",
    "$$\n",
    "\n",
    "两样独立. 若已知 $\\sigma_1^2 =\\sigma_2^2=\\sigma^2$ ,但 $\\sigma^2$ 未知, 求$\\mu_1-\\mu_2$ 的置信度为 $0.95$ 的置信区间."
   ]
  },
  {
   "cell_type": "markdown",
   "metadata": {
    "slideshow": {
     "slide_type": "subslide"
    }
   },
   "source": [
    "**解：**已知 $n=8,m=10$,求得　$\\overline x = 140.5,\\overline y =139.9,s_1^2=6.57,s_2^2=4.77$\n",
    "\n",
    "$$\n",
    "S_w =\\sqrt{\\frac{7S_1^2+9S_2^2}{16}}=2.36,\\\\\n",
    "\\alpha=0.05,t_{0.025}(16)=2.1199\n",
    "$$\n",
    "\n",
    "所以 $\\mu_1-\\mu_2$ 的置信度为 $0.95$ 的置信区间为 $(-1.77,2.97)$"
   ]
  },
  {
   "cell_type": "markdown",
   "metadata": {
    "slideshow": {
     "slide_type": "subslide"
    }
   },
   "source": [
    "### 2、两个正态总体方差比的区间估计\n"
   ]
  },
  {
   "cell_type": "markdown",
   "metadata": {
    "slideshow": {
     "slide_type": "fragment"
    }
   },
   "source": [
    "来自独立的两个正态分布总体的总体方差 $\\sigma_1^2$, $\\sigma_2^2$ 和样本方差 $S_1^2$, $S_2^2$, 可构造服从 $F$ 分布的统计量为:\n",
    "\n",
    "$$\n",
    "Y=\\frac{[\\frac{(n-1)S_1^2}{\\sigma_1^2}]/(n-1)}{[\\frac{(m-1)S_2^2}{\\sigma_2^2}]/(m-1)} = \\frac{\\sigma_2^2}{\\sigma_1^2}\\frac{S_1^2}{S_2^2}～F(n-1,m-1)\n",
    "$$\n",
    "\n",
    "$$\n",
    "P\\{F_{1-\\alpha/2}(n-1,m-1)<Y<F_{\\alpha/2}(n-1,m-1)\\}=1-\\alpha\n",
    "$$"
   ]
  },
  {
   "cell_type": "markdown",
   "metadata": {
    "slideshow": {
     "slide_type": "subslide"
    }
   },
   "source": [
    "所以\n",
    "\n",
    "$$\n",
    "P\\{F_{1-\\alpha/2}(n-1,m-1)<\\frac{\\sigma_2^2}{\\sigma_1^2}\\frac{S_1^2}{S_2^2}<F_{\\alpha/2}(n-1,m-1)\\}\\\\\n",
    "=P\\{\\frac{S_1^2}{S_2^2}\\frac{1}{F_{\\alpha/2}(n-1,m-1)}<\\frac{\\sigma_1^2}{\\sigma_2^2}<\\frac{S_1^2}{S_2^2}\\frac{1}{F_{1-\\alpha/2}(n-1,m-1)}\\}\\\\\n",
    "=1-\\alpha\n",
    "$$\n",
    "\n",
    "所以正态分布总体方差比 $\\frac{\\sigma_1^2}{\\sigma_2^2}$ 的置信区间为\n",
    "\n",
    "$$\n",
    "\\left[\\frac{S_1^2}{S_2^2}\\frac{1}{F_{\\alpha/2}(n-1,m-1)},\\frac{S_1^2}{S_2^2}\\frac{1}{F_{1-\\alpha/2}(n-1,m-1)}\\right]\n",
    "$$"
   ]
  },
  {
   "cell_type": "markdown",
   "metadata": {
    "slideshow": {
     "slide_type": "subslide"
    }
   },
   "source": [
    "![](./figures/710.png)"
   ]
  },
  {
   "cell_type": "markdown",
   "metadata": {
    "slideshow": {
     "slide_type": "subslide"
    }
   },
   "source": [
    "**例10**  随机地从甲、乙两厂生产的蓄电池中抽取一些样本，测得蓄电池的电容量(Ah)如下\n",
    "\n",
    "甲厂：$144,   141,  138,  142,  141,  143, 138,  137$\n",
    "\n",
    "乙厂：$142, 143, 139, 140, 138, 141, 140, 138, 142, 136$\n",
    "\n",
    "设两厂生产的蓄电池电容量分别服从正态总体\n",
    "\n",
    "$$\n",
    "N(\\mu_1,\\sigma_1^2),N(\\mu_2,\\sigma_2^2)\n",
    "$$\n",
    "\n",
    "两样独立. 若已知 $\\sigma_1^2 \\neq\\sigma_2^2$ ,求 $\\frac{\\sigma_1^2}{\\sigma_2^2}$ 的置信度为 $0.95$ 的置信区间."
   ]
  },
  {
   "cell_type": "markdown",
   "metadata": {
    "slideshow": {
     "slide_type": "subslide"
    }
   },
   "source": [
    "**解：**已知 $n=8,m=10$,求得　$\\overline x = 140.5,\\overline y =139.9,s_1^2=6.57,s_2^2=4.77$\n",
    "\n",
    "查表得 $F_{0.025}(9,7) = 4.82$,因此,　$F_{0.975}(9,7) = \\frac{1}{F_{0.025}(9,7)}=0.21$, 所以 $\\frac{\\sigma_1^2}{\\sigma_2^2}$ 的置信度为 $0.95$ 的置信区间为 $(0.33,6.56)$"
   ]
  },
  {
   "cell_type": "markdown",
   "metadata": {
    "slideshow": {
     "slide_type": "subslide"
    }
   },
   "source": [
    "这一节, 我们介绍了区间估计.同学们可通过练习,掌握各种求未知参数的置信区间的具体方法."
   ]
  }
 ],
 "metadata": {
  "celltoolbar": "Slideshow",
  "kernelspec": {
   "display_name": "Python 3",
   "language": "python",
   "name": "python3"
  },
  "language_info": {
   "codemirror_mode": {
    "name": "ipython",
    "version": 3
   },
   "file_extension": ".py",
   "mimetype": "text/x-python",
   "name": "python",
   "nbconvert_exporter": "python",
   "pygments_lexer": "ipython3",
   "version": "3.5.2"
  },
  "livereveal": {
   "height": 768,
   "scroll": "True",
   "slideNumber": "True",
   "start_slideshow_at": "selected",
   "theme": "sky",
   "width": 1024
  }
 },
 "nbformat": 4,
 "nbformat_minor": 1
}
