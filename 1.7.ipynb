{
 "cells": [
  {
   "cell_type": "markdown",
   "metadata": {
    "collapsed": true
   },
   "source": [
    "## §1.7   全概率公式与贝叶斯公式"
   ]
  },
  {
   "cell_type": "markdown",
   "metadata": {},
   "source": [
    "https://github.com/xuming0629/probability-statistics"
   ]
  },
  {
   "cell_type": "markdown",
   "metadata": {},
   "source": [
    "**1.全概率公式**\n",
    "\n",
    "当事件 $A$ 的发生受到多个因素的影响时, 可以通过分析 $A$ 发生的原因, 以及这些原因对事件 $A$ 的影响程度来计算 $A$ 发生的概率."
   ]
  },
  {
   "cell_type": "markdown",
   "metadata": {},
   "source": [
    "### 全概率公式"
   ]
  },
  {
   "cell_type": "markdown",
   "metadata": {},
   "source": [
    "设随机事件 $A$, $B_1$, $B_2$, $\\cdots$, $B_n$, 已知\n",
    "\n",
    "$$\n",
    "P(B_i)>0(i=1,2,\\cdots,n),\\qquad B_iB_j=\\emptyset (i\\neq j)\n",
    "$$\n",
    "\n",
    "且\n",
    "\n",
    "$$\n",
    "{\\color{Red}{A\\subset\\bigcup_i^n B_i}}\n",
    "$$\n",
    "\n",
    "则\n",
    "\n",
    "$$\n",
    "{\\color{Red}{P(A) = \\sum_{i=1}^{n}P(B_i)P(A|B_i)}}.\n",
    "$$"
   ]
  },
  {
   "cell_type": "markdown",
   "metadata": {
    "collapsed": true
   },
   "source": [
    "**证明** 因为 $B_i$ 与 $B_j(i\\neq j)$ 互不相容, 所以 $AB_i$ 与 $AB_j$ 也是互不相容的, 又\n",
    "\n",
    "$$\n",
    "A\\subset\\bigcup_i^n B_i\n",
    "$$\n",
    "\n",
    "因此,　\n",
    "\n",
    "$$\n",
    "A=AB_1+AB_2+\\cdots+AB_n\n",
    "$$\n",
    "\n",
    "根据概率加法定理得\n",
    "\n",
    "$$\n",
    "P(A)=P(AB_1)+P(AB_2)+\\cdots+P(AB_n)=\\sum_{i=1}^{n}P(AB_i).\n",
    "$$\n",
    "\n",
    "再由乘法定理得,\n",
    "\n",
    "$$\n",
    "P(A)=\\sum_{i=1}^{n}P(B_i)P(A|B_i).\n",
    "$$"
   ]
  },
  {
   "cell_type": "markdown",
   "metadata": {},
   "source": [
    "**例1** 两台车床加工相同的零件, 甲车床出现废品的概率为 0.03, 乙车床出现废品的概率为 0.02, 且甲车床加工的零件比乙车床加工的零件多 1 倍. 将两车床加工的零件放在一起, 求任取一零件是废品的概率."
   ]
  },
  {
   "cell_type": "markdown",
   "metadata": {},
   "source": [
    "**解** 设 $A$: 任取一零件是废品, $Ｂ_1$: 零件由甲车床生产, $Ｂ_2$: 零件由乙车床生产, 则\n",
    "\n",
    "$$\n",
    "P(B_1)=\\frac{2}{3}, \\qquad P(B_2)=\\frac{1}{3},\\\\\n",
    "P(A|B_1)=0.03, \\qquad P(A|B_2)=0.02\\\\\n",
    "$$\n",
    "\n",
    "由全概率公式得\n",
    "\n",
    "$$\n",
    "\\begin{aligned}\n",
    "P(A)=P(B_1)P(A|B_1)+P(B_2)P(A|B_2)\n",
    "&=\\frac{2}{3}\\times0.03+\\frac{1}{3}\\times0.02\\\\\n",
    "&\\approx0.027\\\\\n",
    "\\end{aligned}\n",
    "$$"
   ]
  },
  {
   "cell_type": "markdown",
   "metadata": {},
   "source": [
    "**例2** 设甲袋中有白球 5 个, 红球 3 个, 乙袋中有白球 6 个, 红球 2 个. 现从甲袋中任取一球放入乙袋, 然后再从乙袋中任取一球. 试求从乙袋中取到白球的概率."
   ]
  },
  {
   "cell_type": "markdown",
   "metadata": {},
   "source": [
    "**解**\n",
    "\n",
    "设 $A=\\{从乙袋中取到的是白球\\}$,\n",
    "\n",
    "\n",
    "$Ｂ_1=\\{从甲袋中取出放入乙袋的是白球\\}$,\n",
    "\n",
    "$B_2=\\{从甲袋中取出放入乙袋的是红球\\}$,\n",
    "\n",
    "由全概率公式得\n",
    "\n",
    "$$\n",
    "\\begin{aligned}\n",
    "P(A)\n",
    "&=P(B_1)P(A|B_1)+P(B_2)P(A|B_2)\\\\\n",
    "&=\\frac{5}{8}\\cdot\\frac{7}{9}+\\frac{3}{8}\\cdot\\frac{6}{9}\\\\\n",
    "&=\\frac{53}{72}\\\\\n",
    "&\\approx 0.7361\n",
    "\\end{aligned}\n",
    "$$"
   ]
  },
  {
   "cell_type": "code",
   "execution_count": 1,
   "metadata": {
    "collapsed": false
   },
   "outputs": [
    {
     "data": {
      "text/plain": [
       "0.7361111111111112"
      ]
     },
     "execution_count": 1,
     "metadata": {},
     "output_type": "execute_result"
    }
   ],
   "source": [
    "53/72\n"
   ]
  },
  {
   "cell_type": "markdown",
   "metadata": {
    "collapsed": true
   },
   "source": [
    "**例3** 某工厂的产品以 100 个为一批. 抽样检查时只从每批中抽检 10 产品, 如发现其中有次品, 则认为这批产品不合格. 假定每批产品中次品最多不超过 4 个, 且恰有个 $i(i=0,1,2,3,4)$ 个次品的概率如下："
   ]
  },
  {
   "cell_type": "markdown",
   "metadata": {},
   "source": [
    "|一批产品中有次品数|0|1|2|3|4|\n",
    "|:-----:|:-----:|:-----:|:----:|:----:|:----:|\n",
    "|概率|0.1|0.2|0.4|0.2|0.1|"
   ]
  },
  {
   "cell_type": "markdown",
   "metadata": {},
   "source": [
    "求各批产品通过检查的概率."
   ]
  },
  {
   "cell_type": "markdown",
   "metadata": {},
   "source": [
    "**解：**　设 $B_i$： 一批产品中有 $i$ 个次品 $（i=0,1,2,3,4）$, 则\n",
    "\n",
    "$$\n",
    "P(B_0)=0.1,\\qquad P(B_1)=0.2,\\qquad P(B_2)=0.4\\\\\n",
    "P(B_3)=0.2,\\qquad P(B_4)=0.1.\n",
    "$$\n",
    "\n",
    "设这批产品通过检查, 则\n",
    "\n",
    "$$\n",
    "P(A|B_0)=1,\\\\\n",
    "P(A|B_1)=\\frac{C_{99}^{10}}{C_{100}^{10}}\\approx 0.900,\\\\\n",
    "P(A|B_2)=\\frac{C_{98}^{10}}{C_{100}^{10}}\\approx 0.809,\\\\\n",
    "P(A|B_3)=\\frac{C_{97}^{10}}{C_{100}^{10}}\\approx 0.727,\\\\\n",
    "P(A|B_4)=\\frac{C_{96}^{10}}{C_{100}^{10}}\\approx 0.652.\\\\\n",
    "$$\n",
    "\n",
    "由全概率公式得\n",
    "\n",
    "$$\n",
    "P(A)=\\sum_{i=0}^4P(B_i)P(A|B_i)\\approx 0.8142\n",
    "$$"
   ]
  },
  {
   "cell_type": "markdown",
   "metadata": {},
   "source": [
    "### 2.贝叶斯公式( Thomas Bayes 1702-1763) "
   ]
  },
  {
   "cell_type": "markdown",
   "metadata": {},
   "source": [
    "在全概率公式中, 通常把事件 $B_i$ 的概率\n",
    "\n",
    "$$\n",
    "P(B_i)\\quad(i=1,2,\\cdots,n)\n",
    "$$\n",
    "\n",
    "叫做**试验前的假设概率**, 也称为**先验概率**\n",
    "\n",
    "如果试验时 $A$ 确实发生了, 则应重新估计事件 $B_i$ 的概率, 即计算条件概率\n",
    "\n",
    "$$\n",
    "P(B_i|A)\\quad(i=1,2,\\cdots,n),\n",
    "$$\n",
    "\n",
    "叫做**试验后的假设概率**， 也称为**后验概率**\n",
    "\n",
    "由乘法定理\n",
    "\n",
    "$$\n",
    "P(AB_i)=P(B_i)P(A|B_i).\n",
    "$$"
   ]
  },
  {
   "cell_type": "markdown",
   "metadata": {},
   "source": [
    "**贝叶斯公式**\n",
    "\n",
    "设有随机事件 $A$, $B_1$, $B_2$, $\\cdots$, $B_n$, 已知  $P(B_i)>0(i=1,2,\\cdots,n)$, $B_iB_j=\\emptyset(i\\neq j)$,\n",
    "\n",
    "$$\n",
    "A\\subset\\bigcup_i^n B_i\n",
    "$$\n",
    "\n",
    "则\n",
    "\n",
    "$$\n",
    "P(B_i|A)=\\frac{P(B_i)P(A|B_i)}{P(A)}=\\frac{P(B_i)P(A|B_i)}{\\sum_{j=1}^n P(B_j)P(A|B_j)}\n",
    "$$"
   ]
  },
  {
   "cell_type": "markdown",
   "metadata": {},
   "source": [
    "在 **例1** 中, 若已知取出的零件是废品, 则它是甲车床生产的概率为\n",
    "\n",
    "$$\n",
    "Ｐ（B_1|A）=\\frac{0.03\\times\\frac{2}{3}}{0.03\\times\\frac{2}{3}+0.02\\times\\frac{1}{3}}=0.75\n",
    "$$"
   ]
  },
  {
   "cell_type": "markdown",
   "metadata": {},
   "source": [
    "**例4** 玻璃杯成箱出售，每箱 20 只. 假设每箱含 0， 1， 2 只残次品的概率分别为 0.8,  0.1 和 0.1. 一顾客欲购买一箱玻璃杯, 购买时售货员随意取一箱, 顾客开箱随机查看 4 只, 若无残次品, 则买下该箱玻璃杯， 否则退回. 求：\n",
    "\n",
    "(1)顾客买下该箱玻璃杯的概率；\n",
    "\n",
    "(2)在顾客买下的这箱玻璃杯中确实没有残次品的概率."
   ]
  },
  {
   "cell_type": "markdown",
   "metadata": {},
   "source": [
    "**解：**\n",
    "\n",
    "$A:$顾客买下该箱玻璃杯\n",
    "\n",
    "$B_i:$箱中含有 $i$ 只残次品 $i=0,1,2$\n",
    "\n",
    "$$\n",
    "P(B_0)=0.8,P(B_1)=0.1,P(B_2)=0.1\\\\\n",
    "P(A|B_0)=1,P(A|B_1)=\\frac{C_{19}^{4}}{C_{20}^{4}}=\\frac{4}{5},P(A|B_2)=\\frac{12}{19}\\\\\n",
    "$$\n",
    "\n",
    "则\n",
    "\n",
    "$$\n",
    "P(A)=\\sum_{i=0}^2P(B_i)P(A|B_i)=0.8\\times1+0.1\\times\\frac{4}{5}+0.1\\times\\frac{12}{19}\\approx0.94\n",
    "$$\n",
    "\n",
    "$$\n",
    "P(B_0|A)=\\frac{P(B_0)P(A|B_0)}{\\sum_{i=0}^2P(B_i)P(A|B_i)}=\\frac{0.8\\times 1}{0.94}\\approx0.85\n",
    "$$"
   ]
  },
  {
   "cell_type": "markdown",
   "metadata": {},
   "source": [
    "**例5** 临床诊断记录表明, 利用某种试验检查癌症具有如下的效果: 对癌症患者进行试验结果呈阳性反应者占95%, 对非癌症患者进行试验结果呈阴性反应者占96%. 现在用这种试验对某市居民进行癌症普查, 如果该市癌症患者数占居民总数的4‰, 求: \n",
    "\n",
    "(1) 试验结果呈阳性反应者确实患有癌症的概率；\n",
    "\n",
    "(2) 试验结果呈阴性反应者确实未患癌症的概率."
   ]
  },
  {
   "cell_type": "markdown",
   "metadata": {},
   "source": [
    "**解**设 $A:$ 试验结果呈阳性，　$B：$　被检验者患癌症，则\n",
    "\n",
    "$$\n",
    "P(B)=0.0004,\\quad P(A|B)=0.95,\\quad P(\\bar{A}|\\bar{B})=0.96\n",
    "$$\n",
    "\n",
    "由此可知\n",
    "\n",
    "$$\n",
    "P(\\bar{B})=0.996,\\quad P(\\bar{A}|B)=0.05,\\quad P(A|\\bar{B})=0.04\n",
    "$$\n",
    "\n",
    "由贝叶斯公式得\n",
    "\n",
    "(１) $$\n",
    "\\begin{aligned}\n",
    "P(B|A)\n",
    "&=\\frac{P(B)P(A|B)}{P(B)P(A|B)+P(\\bar{B})P(A|\\bar{B})}\\\\\n",
    "&=\\frac{0.004\\times0.95}{0.004\\times0.95+0.996\\times0.04}\\\\\n",
    "&\\approx0.0871\\\\\n",
    "\\end{aligned}\n",
    "$$"
   ]
  },
  {
   "cell_type": "markdown",
   "metadata": {},
   "source": [
    "(2)$$\n",
    "\\begin{aligned}\n",
    "P(\\bar{B}|\\bar{A})\n",
    "&=\\frac{P(\\bar{B})P(\\bar{A}|\\bar{B})}{P(B)P(\\bar{A}|B)+P(\\bar{B})P(\\bar{A}|\\bar{B})}\\\\\n",
    "&=\\frac{0.996\\times0.96}{0.004\\times0.05+0.996\\times0.96}\\\\\n",
    "&\\approx0.9998\\\\\n",
    "\\end{aligned}\n",
    "$$"
   ]
  },
  {
   "cell_type": "markdown",
   "metadata": {},
   "source": [
    "### 小 结"
   ]
  },
  {
   "cell_type": "markdown",
   "metadata": {},
   "source": [
    "1.全概率公式的实质：\n",
    "\n",
    "当事件的发生受到多个因素影响时, 我们通过分析 $A$ 发生的原因(公式中的事件 $B_i$)以及这些原因对事件 $A$ 的影响程度（公式中的概率$P(A|B_i)$）来计算 $A$ 的发生概率.\n",
    "\n",
    "2.应用全概率公式的关键：找一个互不相容事件组 $B_1,B_2,\\cdots,B_n$ 且 $ A\\subset \\bigcup\\limits_i^n B_i$,使得\n",
    "\n",
    "$$\n",
    "A=AB_1+AB_２＋\\cdots+AB_n\n",
    "$$"
   ]
  },
  {
   "cell_type": "markdown",
   "metadata": {},
   "source": [
    "### 思考题"
   ]
  },
  {
   "cell_type": "markdown",
   "metadata": {},
   "source": [
    "一批产品共 20 件, 已知其中有 １ 件次品, 其余为正品， 现在从中任取一件进行检查, 若为正品 则认为该批产品通过验收检查. 已知检查时一件正品误判为次品的概率为 0.005, 一件次品被误判成正品的概率是 0.01, 求这批产品通过验收检查的概率."
   ]
  },
  {
   "cell_type": "markdown",
   "metadata": {},
   "source": [
    "**解：**\n",
    "设 $A:$ 这批产品通过验收检查, $B:$ 所取的一件产品确为正品，则\n",
    "\n",
    "$$\n",
    "P(B)=\\frac{19}{20},\\qquad P(\\bar{B})=\\frac{1}{20}\\\\\n",
    "P(A|B)=0.95,\\qquad P(A|\\bar{B})=0.01\n",
    "$$\n",
    "\n",
    "由全概率公式得\n",
    "\n",
    "$$\n",
    "\\begin{aligned}\n",
    "P(A)\n",
    "&=P(B)P(A|B)+P(\\bar{B})P(A|\\bar{B})\\\\\n",
    "&=\\frac{19}{20}\\times 0.95+\\frac{1}{20} \\times 0.01\\\\\n",
    "&=0.903\n",
    "\\end{aligned}\n",
    "$$"
   ]
  },
  {
   "cell_type": "markdown",
   "metadata": {
    "collapsed": true
   },
   "source": [
    "**作业：**\n",
    "Page 30: 16."
   ]
  }
 ],
 "metadata": {
  "kernelspec": {
   "display_name": "Python 3",
   "language": "python",
   "name": "python3"
  },
  "language_info": {
   "codemirror_mode": {
    "name": "ipython",
    "version": 3
   },
   "file_extension": ".py",
   "mimetype": "text/x-python",
   "name": "python",
   "nbconvert_exporter": "python",
   "pygments_lexer": "ipython3",
   "version": "3.5.2"
  }
 },
 "nbformat": 4,
 "nbformat_minor": 0
}
